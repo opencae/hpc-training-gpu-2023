{
  "cells": [
    {
      "cell_type": "markdown",
      "metadata": {
        "colab_type": "text",
        "id": "view-in-github"
      },
      "source": [
        "<a href=\"https://colab.research.google.com/github/opencae/hpc-training-gpu-2023/blob/main/mounting-google-drive.ipynb\" target=\"_parent\"><img src=\"https://colab.research.google.com/assets/colab-badge.svg\" alt=\"Open In Colab\"/></a>"
      ]
    },
    {
      "cell_type": "markdown",
      "metadata": {
        "id": "CTSAnDKE-Nj4"
      },
      "source": [
        "# Google ドライブをマウントする"
      ]
    },
    {
      "cell_type": "markdown",
      "metadata": {
        "id": "XL9v9tdZCspt"
      },
      "source": [
        "以下にGoogle ドライブをマウントする方法を示します。\n",
        "Google のアカウントが必要になりますので、予め作成しておいてください。"
      ]
    },
    {
      "cell_type": "markdown",
      "metadata": {
        "id": "v4fZmx-V__zb"
      },
      "source": [
        "Google ドライブをマウントには、下記のセルのコードを実行してください。\n",
        "セルのコードを実行するには、セルをクリックして選択し、コードの左側にある実行ボタンをクリックします。\n",
        "実行ボタンにマウスカーソルが乗ると表示されるように、「Commandキー+Enterキー」または「Ctrlキー+Enterキー」のキーボードショートカットによっても実行できます。"
      ]
    },
    {
      "cell_type": "code",
      "execution_count": null,
      "metadata": {
        "colab": {
          "base_uri": "https://localhost:8080/"
        },
        "id": "t97HShIV-jme",
        "outputId": "dec47315-ae2d-4d46-aa79-0ea46d8b0ba9"
      },
      "outputs": [
        {
          "name": "stdout",
          "output_type": "stream",
          "text": [
            "Mounted at /content/drive\n"
          ]
        }
      ],
      "source": [
        "from google.colab import drive\n",
        "drive.mount('/content/drive')"
      ]
    },
    {
      "cell_type": "markdown",
      "metadata": {
        "id": "Q7H4-gEWAKD3"
      },
      "source": [
        "既にマウント済みでない場合には、下記のようなメッセージが出ると思いますので、**Googleドライブに接続**を選択します。\n",
        "\n",
        "---\n",
        "\n",
        "**このノートブックに Google ドライブのファイルへのアクセスを許可しますか？**\n",
        "\n",
        "このノートブックは Google ドライブ ファイルへのアクセスをリクエストしています。Google ドライブへのアクセスを許可すると、ノートブックで実行されたコードに対し、Google ドライブ内のファイルの変更を許可することになります。このアクセスを許可する前に、ノートブック コードをご確認ください。\n",
        "\n",
        "スキップ  **Googleドライブに接続**\n",
        "\n",
        "---\n"
      ]
    },
    {
      "cell_type": "markdown",
      "metadata": {
        "id": "QAbvoTBhDZIQ"
      },
      "source": [
        "その後、アカウントの選択を求められた場合には、使用する**Googleアカウントを選択**します。"
      ]
    },
    {
      "cell_type": "markdown",
      "metadata": {
        "id": "y6FGb3a-DdpU"
      },
      "source": [
        "さらに、Googleアカウントへのアクセスをリクエストされた場合には、適宜**許可**します。"
      ]
    },
    {
      "cell_type": "markdown",
      "metadata": {
        "id": "uqoOKoOgBDca"
      },
      "source": [
        "上記のようなgoogle の認証手順を踏んでGoogleドライブのマウントに成功すると、'Mounted at /content/drive'と出力され、Googleドライブが /content/drive/MyDrive にマウントされますので、以下を実行して、マウントされたディレクトリを表示してください。"
      ]
    },
    {
      "cell_type": "code",
      "execution_count": null,
      "metadata": {
        "colab": {
          "base_uri": "https://localhost:8080/"
        },
        "id": "aJnilTC3H4Br",
        "outputId": "edb69bc3-91f3-4586-d42e-1af77b5970f9"
      },
      "outputs": [
        {
          "name": "stdout",
          "output_type": "stream",
          "text": [
            "\u001b[0m\u001b[01;34mMyDrive\u001b[0m/\n"
          ]
        }
      ],
      "source": [
        "ls /content/drive"
      ]
    },
    {
      "cell_type": "markdown",
      "metadata": {
        "id": "-F2kN4zIIQH0"
      },
      "source": [
        "'MyDrive/'と表示されれば問題ありません。\n",
        "（'MyDriver/' だけではなく、 'Othercomputers/' などもあわせて表示される可能性があります。）"
      ]
    },
    {
      "cell_type": "markdown",
      "metadata": {
        "id": "nK44rCreIijP"
      },
      "source": [
        "何か問題があれば、Discordの **#一般** テキストチャンネルにてご質問ください。"
      ]
    }
  ],
  "metadata": {
    "colab": {
      "authorship_tag": "ABX9TyMSQjFt6PckaYyVsor4hSuR",
      "include_colab_link": true,
      "provenance": []
    },
    "kernelspec": {
      "display_name": "Python 3",
      "name": "python3"
    },
    "language_info": {
      "name": "python"
    }
  },
  "nbformat": 4,
  "nbformat_minor": 0
}

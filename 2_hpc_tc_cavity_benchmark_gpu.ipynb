{
  "cells": [
    {
      "cell_type": "markdown",
      "metadata": {
        "id": "view-in-github",
        "colab_type": "text"
      },
      "source": [
        "<a href=\"https://colab.research.google.com/github/opencae/hpc-training-gpu-2023/blob/main/2_hpc_tc_cavity_benchmark_gpu.ipynb\" target=\"_parent\"><img src=\"https://colab.research.google.com/assets/colab-badge.svg\" alt=\"Open In Colab\"/></a>"
      ]
    },
    {
      "cell_type": "markdown",
      "metadata": {
        "id": "4WRQIAaEOw9b"
      },
      "source": [
        "# 「Google ColaboratoryのCPU・GPUを用いた3次元キャビティ・ベンチマークテスト実行」(演習) 「その2 GPU編」\n",
        "\n",
        "オープンCAE学会 OpenFOAM GPUトレーニング2023 実行委員会 https://opencae.gitlab.io/web/page/training/opencae_hpc_training_gpu_2023/"
      ]
    },
    {
      "cell_type": "markdown",
      "metadata": {
        "id": "o0GL6UPQvDhP"
      },
      "source": [
        "## セルの実行と移動(再掲)\n",
        "セルのコードを実行するには、セルをクリックして選択し、コードの左側にある実行ボタンをクリックします。\n",
        "\n",
        "実行ボタンにマウスカーソルが乗ると表示されるように、「Commandキー+Enterキー」または「Ctrlキー+Enterキー」のキーボードショートカットによっても実行できます。\n",
        "\n",
        "さらに、「Shiftキー+Enterキー」のキーボードショートカットによって、 セルのコードを実行(テキストの場合はフォーカス)した後に、次のセルに移動しますので、「Shiftキー+Enterキー」によって、効率的にノートブックの閲覧と実行を進めることができます。"
      ]
    },
    {
      "cell_type": "markdown",
      "metadata": {
        "id": "RbkMSM27vWY_"
      },
      "source": [
        "## ハードウェア アクセラレータとしてGPUを使用する設定\n",
        "**再接続などで、既にGPU(T4)に接続されている場合には本設定は不要です。**\n",
        "\n",
        "以下のようにして、ハードウェア・アクセラレータとしてGPUを使用する設定を行ないます。\n",
        " * メニュー→ランタイム→ランタイムのタイプを変更→ハードウェア アクセラレータ→T4 GPU→保存\n",
        "\n",
        "万が一、Colabのリソース制限により「GPUバックエンドに接続できません」というメッセージが出た場合には、有料プランを契約するか、制限が解除された後で自習をお願いします。\n",
        "\n",
        "* GPUバックエンドに接続できませんが出たのでColab Proに課金した話 https://misoji-engineer.com/archives/gpu-colab-pro.html"
      ]
    },
    {
      "cell_type": "markdown",
      "metadata": {
        "id": "PXPyqDPOE0FW"
      },
      "source": [
        "## リソースの確認"
      ]
    },
    {
      "cell_type": "markdown",
      "metadata": {
        "id": "SnrCXR3bE_1Z"
      },
      "source": [
        "### GPUの確認\n",
        "`nvidia-smi`(NVIDIA System Management Interface program)を用いて、\n",
        "GPUの状況を確認することができます。\n",
        "\n",
        "* watch nvidia-smiでGPU使用率などを確認・リアルタイムモニタリング https://note.nkmk.me/nvidia-smi-monitoring-gpu/\n",
        "* nvidia-smi で GPU の使用状況を確認する方法 https://pystyle.info/nvidia-smi-usage/\n",
        "* nvidia-smiの公式ドキュメント https://developer.download.nvidia.com/compute/DCGM/docs/nvidia-smi-367.38.pdf"
      ]
    },
    {
      "cell_type": "markdown",
      "metadata": {
        "id": "n-yyelqvpemR"
      },
      "source": [
        "#### GPUの状況確認"
      ]
    },
    {
      "cell_type": "markdown",
      "metadata": {
        "id": "ZAuDEMQUwBHf"
      },
      "source": [
        "まずは`nvidia-smi`のヘルプを表示します。"
      ]
    },
    {
      "cell_type": "code",
      "execution_count": null,
      "metadata": {
        "colab": {
          "base_uri": "https://localhost:8080/"
        },
        "id": "yEzPMsSOEzpN",
        "outputId": "0e9e4cae-6a9c-43b5-e374-2ad6fa129c97"
      },
      "outputs": [
        {
          "output_type": "stream",
          "name": "stdout",
          "text": [
            "NVIDIA System Management Interface -- v525.105.17\n",
            "\n",
            "NVSMI provides monitoring information for Tesla and select Quadro devices.\n",
            "The data is presented in either a plain text or an XML format, via stdout or a file.\n",
            "NVSMI also provides several management operations for changing the device state.\n",
            "\n",
            "Note that the functionality of NVSMI is exposed through the NVML C-based\n",
            "library. See the NVIDIA developer website for more information about NVML.\n",
            "Python wrappers to NVML are also available.  The output of NVSMI is\n",
            "not guaranteed to be backwards compatible; NVML and the bindings are backwards\n",
            "compatible.\n",
            "\n",
            "http://developer.nvidia.com/nvidia-management-library-nvml/\n",
            "http://pypi.python.org/pypi/nvidia-ml-py/\n",
            "Supported products:\n",
            "- Full Support\n",
            "    - All Tesla products, starting with the Kepler architecture\n",
            "    - All Quadro products, starting with the Kepler architecture\n",
            "    - All GRID products, starting with the Kepler architecture\n",
            "    - GeForce Titan products, starting with the Kepler architecture\n",
            "- Limited Support\n",
            "    - All Geforce products, starting with the Kepler architecture\n",
            "nvidia-smi [OPTION1 [ARG1]] [OPTION2 [ARG2]] ...\n",
            "\n",
            "    -h,   --help                Print usage information and exit.\n",
            "\n",
            "  LIST OPTIONS:\n",
            "\n",
            "    -L,   --list-gpus           Display a list of GPUs connected to the system.\n",
            "\n",
            "    -B,   --list-excluded-gpus  Display a list of excluded GPUs in the system.\n",
            "\n",
            "  SUMMARY OPTIONS:\n",
            "\n",
            "    <no arguments>              Show a summary of GPUs connected to the system.\n",
            "\n",
            "    [plus any of]\n",
            "\n",
            "    -i,   --id=                 Target a specific GPU.\n",
            "    -f,   --filename=           Log to a specified file, rather than to stdout.\n",
            "    -l,   --loop=               Probe until Ctrl+C at specified second interval.\n",
            "\n",
            "  QUERY OPTIONS:\n",
            "\n",
            "    -q,   --query               Display GPU or Unit info.\n",
            "\n",
            "    [plus any of]\n",
            "\n",
            "    -u,   --unit                Show unit, rather than GPU, attributes.\n",
            "    -i,   --id=                 Target a specific GPU or Unit.\n",
            "    -f,   --filename=           Log to a specified file, rather than to stdout.\n",
            "    -x,   --xml-format          Produce XML output.\n",
            "          --dtd                 When showing xml output, embed DTD.\n",
            "    -d,   --display=            Display only selected information: MEMORY,\n",
            "                                    UTILIZATION, ECC, TEMPERATURE, POWER, CLOCK,\n",
            "                                    COMPUTE, PIDS, PERFORMANCE, SUPPORTED_CLOCKS,\n",
            "                                    PAGE_RETIREMENT, ACCOUNTING, ENCODER_STATS,\n",
            "                                    SUPPORTED_GPU_TARGET_TEMP, VOLTAGE\n",
            "                                    FBC_STATS, ROW_REMAPPER\n",
            "                                Flags can be combined with comma e.g. ECC,POWER.\n",
            "                                Sampling data with max/min/avg is also returned \n",
            "                                for POWER, UTILIZATION and CLOCK display types.\n",
            "                                Doesn't work with -u or -x flags.\n",
            "    -l,   --loop=               Probe until Ctrl+C at specified second interval.\n",
            "\n",
            "    -lms, --loop-ms=            Probe until Ctrl+C at specified millisecond interval.\n",
            "\n",
            "  SELECTIVE QUERY OPTIONS:\n",
            "\n",
            "    Allows the caller to pass an explicit list of properties to query.\n",
            "\n",
            "    [one of]\n",
            "\n",
            "    --query-gpu                 Information about GPU.\n",
            "                                Call --help-query-gpu for more info.\n",
            "    --query-supported-clocks    List of supported clocks.\n",
            "                                Call --help-query-supported-clocks for more info.\n",
            "    --query-compute-apps        List of currently active compute processes.\n",
            "                                Call --help-query-compute-apps for more info.\n",
            "    --query-accounted-apps      List of accounted compute processes.\n",
            "                                Call --help-query-accounted-apps for more info.\n",
            "                                This query is not supported on vGPU host.\n",
            "    --query-retired-pages       List of device memory pages that have been retired.\n",
            "                                Call --help-query-retired-pages for more info.\n",
            "    --query-remapped-rows       Information about remapped rows.\n",
            "                                Call --help-query-remapped-rows for more info.\n",
            "\n",
            "    [mandatory]\n",
            "\n",
            "    --format=                   Comma separated list of format options:\n",
            "                                  csv - comma separated values (MANDATORY)\n",
            "                                  noheader - skip the first line with column headers\n",
            "                                  nounits - don't print units for numerical\n",
            "                                             values\n",
            "\n",
            "    [plus any of]\n",
            "\n",
            "    -i,   --id=                 Target a specific GPU or Unit.\n",
            "    -f,   --filename=           Log to a specified file, rather than to stdout.\n",
            "    -l,   --loop=               Probe until Ctrl+C at specified second interval.\n",
            "    -lms, --loop-ms=            Probe until Ctrl+C at specified millisecond interval.\n",
            "\n",
            "  DEVICE MODIFICATION OPTIONS:\n",
            "\n",
            "    [any one of]\n",
            "\n",
            "    -pm,  --persistence-mode=   Set persistence mode: 0/DISABLED, 1/ENABLED\n",
            "    -e,   --ecc-config=         Toggle ECC support: 0/DISABLED, 1/ENABLED\n",
            "    -p,   --reset-ecc-errors=   Reset ECC error counts: 0/VOLATILE, 1/AGGREGATE\n",
            "    -c,   --compute-mode=       Set MODE for compute applications:\n",
            "                                0/DEFAULT, 1/EXCLUSIVE_THREAD (DEPRECATED),\n",
            "                                2/PROHIBITED, 3/EXCLUSIVE_PROCESS\n",
            "          --gom=                Set GPU Operation Mode:\n",
            "                                    0/ALL_ON, 1/COMPUTE, 2/LOW_DP\n",
            "    -r    --gpu-reset           Trigger reset of the GPU.\n",
            "                                Can be used to reset the GPU HW state in situations\n",
            "                                that would otherwise require a machine reboot.\n",
            "                                Typically useful if a double bit ECC error has\n",
            "                                occurred.\n",
            "                                Reset operations are not guarenteed to work in\n",
            "                                all cases and should be used with caution.\n",
            "    -vm   --virt-mode=          Switch GPU Virtualization Mode:\n",
            "                                Sets GPU virtualization mode to 3/VGPU or 4/VSGA\n",
            "                                Virtualization mode of a GPU can only be set when\n",
            "                                it is running on a hypervisor.\n",
            "    -lgc  --lock-gpu-clocks=    Specifies <minGpuClock,maxGpuClock> clocks as a\n",
            "                                    pair (e.g. 1500,1500) that defines the range \n",
            "                                    of desired locked GPU clock speed in MHz.\n",
            "                                    Setting this will supercede application clocks\n",
            "                                    and take effect regardless if an app is running.\n",
            "                                    Input can also be a singular desired clock value\n",
            "                                    (e.g. <GpuClockValue>). Optionally, --mode can be\n",
            "                                    specified to indicate a special mode.\n",
            "    -m    --mode=               Specifies the mode for --locked-gpu-clocks.\n",
            "                                    Valid modes: 0, 1    -rgc  --reset-gpu-clocks\n",
            "                                Resets the Gpu clocks to the default values.\n",
            "    -lmc  --lock-memory-clocks=  Specifies <minMemClock,maxMemClock> clocks as a\n",
            "                                    pair (e.g. 5100,5100) that defines the range \n",
            "                                    of desired locked Memory clock speed in MHz.\n",
            "                                    Input can also be a singular desired clock value\n",
            "                                    (e.g. <MemClockValue>).\n",
            "    -rmc  --reset-memory-clocks\n",
            "                                Resets the Memory clocks to the default values.\n",
            "    -lmcd --lock-memory-clocks-deferred=\n",
            "                                    Specifies memClock clock to lock. This limit is\n",
            "                                    applied after GPU reset. Note that, this limit is\n",
            "                                    persistence across system reboots.    -rmcd --reset-memory-clocks-deferred\n",
            "                                Resets the deferred Memory clocks applied.\n",
            "    -ac   --applications-clocks= Specifies <memory,graphics> clocks as a\n",
            "                                    pair (e.g. 2000,800) that defines GPU's\n",
            "                                    speed in MHz while running applications on a GPU.\n",
            "    -rac  --reset-applications-clocks\n",
            "                                Resets the applications clocks to the default values.\n",
            "    -pl   --power-limit=        Specifies maximum power management limit in watts.\n",
            "    -cc   --cuda-clocks=        Overrides or restores default CUDA clocks.\n",
            "                                In override mode, GPU clocks higher frequencies when running CUDA applications.\n",
            "                                Only on supported devices starting from the Volta series.\n",
            "                                Requires administrator privileges.\n",
            "                                0/RESTORE_DEFAULT, 1/OVERRIDE\n",
            "    -am   --accounting-mode=    Enable or disable Accounting Mode: 0/DISABLED, 1/ENABLED\n",
            "    -caa  --clear-accounted-apps\n",
            "                                Clears all the accounted PIDs in the buffer.\n",
            "          --auto-boost-default= Set the default auto boost policy to 0/DISABLED\n",
            "                                or 1/ENABLED, enforcing the change only after the\n",
            "                                last boost client has exited.\n",
            "          --auto-boost-permission=\n",
            "                                Allow non-admin/root control over auto boost mode:\n",
            "                                0/UNRESTRICTED, 1/RESTRICTED\n",
            "    -mig  --multi-instance-gpu= Enable or disable Multi Instance GPU: 0/DISABLED, 1/ENABLED\n",
            "                                Requires root.\n",
            "    -gtt  --gpu-target-temp=    Set GPU Target Temperature for a GPU in degree celsius.\n",
            "                                Requires administrator privileges\n",
            "\n",
            "   [plus optional]\n",
            "\n",
            "    -i,   --id=                 Target a specific GPU.\n",
            "    -eow, --error-on-warning    Return a non-zero error for warnings.\n",
            "\n",
            "  UNIT MODIFICATION OPTIONS:\n",
            "\n",
            "    -t,   --toggle-led=         Set Unit LED state: 0/GREEN, 1/AMBER\n",
            "\n",
            "   [plus optional]\n",
            "\n",
            "    -i,   --id=                 Target a specific Unit.\n",
            "\n",
            "  SHOW DTD OPTIONS:\n",
            "\n",
            "          --dtd                 Print device DTD and exit.\n",
            "\n",
            "     [plus optional]\n",
            "\n",
            "    -f,   --filename=           Log to a specified file, rather than to stdout.\n",
            "    -u,   --unit                Show unit, rather than device, DTD.\n",
            "\n",
            "    --debug=                    Log encrypted debug information to a specified file. \n",
            "\n",
            " STATISTICS: (DEPRECATED)\n",
            "    stats                       Displays device statistics. \"nvidia-smi stats -h\" for more information.\n",
            "                                \"nvidia-smi stats\" is deprecated and will be removed in CUDA 12.1.\n",
            "                                Consider using \"nvidia-smi dmon\" instead.\n",
            "\n",
            " Device Monitoring:\n",
            "    dmon                        Displays device stats in scrolling format.\n",
            "                                \"nvidia-smi dmon -h\" for more information.\n",
            "\n",
            "    daemon                      Runs in background and monitor devices as a daemon process.\n",
            "                                This is an experimental feature. Not supported on Windows baremetal\n",
            "                                \"nvidia-smi daemon -h\" for more information.\n",
            "\n",
            "    replay                      Used to replay/extract the persistent stats generated by daemon.\n",
            "                                This is an experimental feature.\n",
            "                                \"nvidia-smi replay -h\" for more information.\n",
            "\n",
            " Process Monitoring:\n",
            "    pmon                        Displays process stats in scrolling format.\n",
            "                                \"nvidia-smi pmon -h\" for more information.\n",
            "\n",
            " TOPOLOGY:\n",
            "    topo                        Displays device/system topology. \"nvidia-smi topo -h\" for more information.\n",
            "\n",
            " DRAIN STATES:\n",
            "    drain                       Displays/modifies GPU drain states for power idling. \"nvidia-smi drain -h\" for more information.\n",
            "\n",
            " NVLINK:\n",
            "    nvlink                      Displays device nvlink information. \"nvidia-smi nvlink -h\" for more information.\n",
            "\n",
            " CLOCKS:\n",
            "    clocks                      Control and query clock information. \"nvidia-smi clocks -h\" for more information.\n",
            "\n",
            " ENCODER SESSIONS:\n",
            "    encodersessions             Displays device encoder sessions information. \"nvidia-smi encodersessions -h\" for more information.\n",
            "\n",
            " FBC SESSIONS:\n",
            "    fbcsessions                 Displays device FBC sessions information. \"nvidia-smi fbcsessions -h\" for more information.\n",
            "\n",
            " GRID vGPU:\n",
            "    vgpu                        Displays vGPU information. \"nvidia-smi vgpu -h\" for more information.\n",
            "\n",
            " MIG:\n",
            "    mig                         Provides controls for MIG management. \"nvidia-smi mig -h\" for more information.\n",
            "\n",
            " COMPUTE POLICY:\n",
            "    compute-policy              Control and query compute policies. \"nvidia-smi compute-policy -h\" for more information. \n",
            "\n",
            " BOOST SLIDER:\n",
            "    boost-slider                Control and query boost sliders. \"nvidia-smi boost-slider -h\" for more information. \n",
            "\n",
            " POWER HINT:    power-hint                  Estimates GPU power usage. \"nvidia-smi power-hint -h\" for more information. \n",
            "\n",
            " BASE CLOCKS:    base-clocks                 Query GPU base clocks. \"nvidia-smi base-clocks -h\" for more information. \n",
            "\n",
            " COUNTER COLLECTION UNIT: \n",
            "    ccu                         Control and query counter collection unit. \"nvidia-smi ccu -h\" for more information. \n",
            "\n",
            "Please see the nvidia-smi(1) manual page for more detailed information.\n"
          ]
        }
      ],
      "source": [
        "!nvidia-smi -h"
      ]
    },
    {
      "cell_type": "markdown",
      "metadata": {
        "id": "TNjubFHGwRYr"
      },
      "source": [
        "引数無しで実行すると、システムに接続されているGPUの概要が表示されます。"
      ]
    },
    {
      "cell_type": "code",
      "execution_count": null,
      "metadata": {
        "colab": {
          "base_uri": "https://localhost:8080/"
        },
        "id": "XRezJkQHuh6t",
        "outputId": "6811355d-4592-4db5-ac79-0ccb53d6c240"
      },
      "outputs": [
        {
          "output_type": "stream",
          "name": "stdout",
          "text": [
            "Fri Sep  8 09:12:11 2023       \n",
            "+-----------------------------------------------------------------------------+\n",
            "| NVIDIA-SMI 525.105.17   Driver Version: 525.105.17   CUDA Version: 12.0     |\n",
            "|-------------------------------+----------------------+----------------------+\n",
            "| GPU  Name        Persistence-M| Bus-Id        Disp.A | Volatile Uncorr. ECC |\n",
            "| Fan  Temp  Perf  Pwr:Usage/Cap|         Memory-Usage | GPU-Util  Compute M. |\n",
            "|                               |                      |               MIG M. |\n",
            "|===============================+======================+======================|\n",
            "|   0  Tesla T4            Off  | 00000000:00:04.0 Off |                    0 |\n",
            "| N/A   41C    P8     9W /  70W |      0MiB / 15360MiB |      0%      Default |\n",
            "|                               |                      |                  N/A |\n",
            "+-------------------------------+----------------------+----------------------+\n",
            "                                                                               \n",
            "+-----------------------------------------------------------------------------+\n",
            "| Processes:                                                                  |\n",
            "|  GPU   GI   CI        PID   Type   Process name                  GPU Memory |\n",
            "|        ID   ID                                                   Usage      |\n",
            "|=============================================================================|\n",
            "|  No running processes found                                                 |\n",
            "+-----------------------------------------------------------------------------+\n"
          ]
        }
      ],
      "source": [
        "!nvidia-smi"
      ]
    },
    {
      "cell_type": "markdown",
      "metadata": {
        "id": "lcATPwEqwlMI"
      },
      "source": [
        "上記は表形式なので、環境によっては表示が崩れて見にくいので、`-q`オプションを付けてGPUなどの情報を行形式で表示します。"
      ]
    },
    {
      "cell_type": "code",
      "execution_count": null,
      "metadata": {
        "colab": {
          "base_uri": "https://localhost:8080/"
        },
        "id": "PeNfQU3nuaL7",
        "outputId": "a60a70b8-474f-4ef8-e33b-eea1d7989df4"
      },
      "outputs": [
        {
          "output_type": "stream",
          "name": "stdout",
          "text": [
            "\n",
            "==============NVSMI LOG==============\n",
            "\n",
            "Timestamp                                 : Fri Sep  8 09:12:15 2023\n",
            "Driver Version                            : 525.105.17\n",
            "CUDA Version                              : 12.0\n",
            "\n",
            "Attached GPUs                             : 1\n",
            "GPU 00000000:00:04.0\n",
            "    Product Name                          : Tesla T4\n",
            "    Product Brand                         : NVIDIA\n",
            "    Product Architecture                  : Turing\n",
            "    Display Mode                          : Enabled\n",
            "    Display Active                        : Disabled\n",
            "    Persistence Mode                      : Disabled\n",
            "    MIG Mode\n",
            "        Current                           : N/A\n",
            "        Pending                           : N/A\n",
            "    Accounting Mode                       : Disabled\n",
            "    Accounting Mode Buffer Size           : 4000\n",
            "    Driver Model\n",
            "        Current                           : N/A\n",
            "        Pending                           : N/A\n",
            "    Serial Number                         : 1561820009846\n",
            "    GPU UUID                              : GPU-be3639e2-7416-d225-0e80-0b9813c9e016\n",
            "    Minor Number                          : 0\n",
            "    VBIOS Version                         : 90.04.A7.00.01\n",
            "    MultiGPU Board                        : No\n",
            "    Board ID                              : 0x4\n",
            "    Board Part Number                     : 900-2G183-6300-T00\n",
            "    GPU Part Number                       : 1EB8-895-A1\n",
            "    Module ID                             : 1\n",
            "    Inforom Version\n",
            "        Image Version                     : G183.0200.00.02\n",
            "        OEM Object                        : 1.1\n",
            "        ECC Object                        : 5.0\n",
            "        Power Management Object           : N/A\n",
            "    GPU Operation Mode\n",
            "        Current                           : N/A\n",
            "        Pending                           : N/A\n",
            "    GSP Firmware Version                  : N/A\n",
            "    GPU Virtualization Mode\n",
            "        Virtualization Mode               : Pass-Through\n",
            "        Host VGPU Mode                    : N/A\n",
            "    IBMNPU\n",
            "        Relaxed Ordering Mode             : N/A\n",
            "    PCI\n",
            "        Bus                               : 0x00\n",
            "        Device                            : 0x04\n",
            "        Domain                            : 0x0000\n",
            "        Device Id                         : 0x1EB810DE\n",
            "        Bus Id                            : 00000000:00:04.0\n",
            "        Sub System Id                     : 0x12A210DE\n",
            "        GPU Link Info\n",
            "            PCIe Generation\n",
            "                Max                       : 3\n",
            "                Current                   : 1\n",
            "                Device Current            : 1\n",
            "                Device Max                : 3\n",
            "                Host Max                  : N/A\n",
            "            Link Width\n",
            "                Max                       : 16x\n",
            "                Current                   : 16x\n",
            "        Bridge Chip\n",
            "            Type                          : N/A\n",
            "            Firmware                      : N/A\n",
            "        Replays Since Reset               : 0\n",
            "        Replay Number Rollovers           : 0\n",
            "        Tx Throughput                     : 0 KB/s\n",
            "        Rx Throughput                     : 0 KB/s\n",
            "        Atomic Caps Inbound               : N/A\n",
            "        Atomic Caps Outbound              : N/A\n",
            "    Fan Speed                             : N/A\n",
            "    Performance State                     : P8\n",
            "    Clocks Throttle Reasons\n",
            "        Idle                              : Active\n",
            "        Applications Clocks Setting       : Not Active\n",
            "        SW Power Cap                      : Not Active\n",
            "        HW Slowdown                       : Not Active\n",
            "            HW Thermal Slowdown           : Not Active\n",
            "            HW Power Brake Slowdown       : Not Active\n",
            "        Sync Boost                        : Not Active\n",
            "        SW Thermal Slowdown               : Not Active\n",
            "        Display Clock Setting             : Not Active\n",
            "    FB Memory Usage\n",
            "        Total                             : 15360 MiB\n",
            "        Reserved                          : 258 MiB\n",
            "        Used                              : 0 MiB\n",
            "        Free                              : 15101 MiB\n",
            "    BAR1 Memory Usage\n",
            "        Total                             : 256 MiB\n",
            "        Used                              : 2 MiB\n",
            "        Free                              : 254 MiB\n",
            "    Compute Mode                          : Default\n",
            "    Utilization\n",
            "        Gpu                               : 0 %\n",
            "        Memory                            : 0 %\n",
            "        Encoder                           : 0 %\n",
            "        Decoder                           : 0 %\n",
            "    Encoder Stats\n",
            "        Active Sessions                   : 0\n",
            "        Average FPS                       : 0\n",
            "        Average Latency                   : 0\n",
            "    FBC Stats\n",
            "        Active Sessions                   : 0\n",
            "        Average FPS                       : 0\n",
            "        Average Latency                   : 0\n",
            "    Ecc Mode\n",
            "        Current                           : Enabled\n",
            "        Pending                           : Enabled\n",
            "    ECC Errors\n",
            "        Volatile\n",
            "            SRAM Correctable              : 0\n",
            "            SRAM Uncorrectable            : 0\n",
            "            DRAM Correctable              : 0\n",
            "            DRAM Uncorrectable            : 0\n",
            "        Aggregate\n",
            "            SRAM Correctable              : 0\n",
            "            SRAM Uncorrectable            : 0\n",
            "            DRAM Correctable              : 0\n",
            "            DRAM Uncorrectable            : 0\n",
            "    Retired Pages\n",
            "        Single Bit ECC                    : 0\n",
            "        Double Bit ECC                    : 0\n",
            "        Pending Page Blacklist            : No\n",
            "    Remapped Rows                         : N/A\n",
            "    Temperature\n",
            "        GPU Current Temp                  : 41 C\n",
            "        GPU T.Limit Temp                  : N/A\n",
            "        GPU Shutdown Temp                 : 96 C\n",
            "        GPU Slowdown Temp                 : 93 C\n",
            "        GPU Max Operating Temp            : 85 C\n",
            "        GPU Target Temperature            : N/A\n",
            "        Memory Current Temp               : N/A\n",
            "        Memory Max Operating Temp         : N/A\n",
            "    Power Readings\n",
            "        Power Management                  : Supported\n",
            "        Power Draw                        : 9.83 W\n",
            "        Power Limit                       : 70.00 W\n",
            "        Default Power Limit               : 70.00 W\n",
            "        Enforced Power Limit              : 70.00 W\n",
            "        Min Power Limit                   : 60.00 W\n",
            "        Max Power Limit                   : 70.00 W\n",
            "    Clocks\n",
            "        Graphics                          : 300 MHz\n",
            "        SM                                : 300 MHz\n",
            "        Memory                            : 405 MHz\n",
            "        Video                             : 540 MHz\n",
            "    Applications Clocks\n",
            "        Graphics                          : 585 MHz\n",
            "        Memory                            : 5001 MHz\n",
            "    Default Applications Clocks\n",
            "        Graphics                          : 585 MHz\n",
            "        Memory                            : 5001 MHz\n",
            "    Deferred Clocks\n",
            "        Memory                            : N/A\n",
            "    Max Clocks\n",
            "        Graphics                          : 1590 MHz\n",
            "        SM                                : 1590 MHz\n",
            "        Memory                            : 5001 MHz\n",
            "        Video                             : 1470 MHz\n",
            "    Max Customer Boost Clocks\n",
            "        Graphics                          : 1590 MHz\n",
            "    Clock Policy\n",
            "        Auto Boost                        : N/A\n",
            "        Auto Boost Default                : N/A\n",
            "    Voltage\n",
            "        Graphics                          : N/A\n",
            "    Fabric\n",
            "        State                             : N/A\n",
            "        Status                            : N/A\n",
            "    Processes                             : None\n",
            "\n"
          ]
        }
      ],
      "source": [
        "!nvidia-smi -q"
      ]
    },
    {
      "cell_type": "markdown",
      "metadata": {
        "id": "0gJwBZf3p4c9"
      },
      "source": [
        "#### システム内のGPU数"
      ]
    },
    {
      "cell_type": "code",
      "execution_count": null,
      "metadata": {
        "colab": {
          "base_uri": "https://localhost:8080/"
        },
        "id": "QZ99vAlMiSwH",
        "outputId": "be655d49-f171-4c09-c673-7c143bc98f6f"
      },
      "outputs": [
        {
          "output_type": "stream",
          "name": "stdout",
          "text": [
            "count\n",
            "1\n"
          ]
        }
      ],
      "source": [
        "!nvidia-smi --format=csv --query-gpu=count"
      ]
    },
    {
      "cell_type": "markdown",
      "metadata": {
        "id": "N_xPITJ5qDHA"
      },
      "source": [
        "#### GPUの公式な製品名"
      ]
    },
    {
      "cell_type": "code",
      "execution_count": null,
      "metadata": {
        "colab": {
          "base_uri": "https://localhost:8080/"
        },
        "id": "6q3USUnvod2N",
        "outputId": "9cab498a-cb91-4ce3-d20c-5e7430dabaa0"
      },
      "outputs": [
        {
          "output_type": "stream",
          "name": "stdout",
          "text": [
            "name\n",
            "Tesla T4\n"
          ]
        }
      ],
      "source": [
        "!nvidia-smi --format=csv --query-gpu=name"
      ]
    },
    {
      "cell_type": "markdown",
      "metadata": {
        "id": "k3dcNHAdqHLK"
      },
      "source": [
        "#### 搭載されているGPUメモリの合計"
      ]
    },
    {
      "cell_type": "code",
      "execution_count": null,
      "metadata": {
        "colab": {
          "base_uri": "https://localhost:8080/"
        },
        "id": "kO-suHQRo1Dp",
        "outputId": "8c3c7e1c-591f-47ba-ce02-2051b8f01c1f"
      },
      "outputs": [
        {
          "output_type": "stream",
          "name": "stdout",
          "text": [
            "memory.total [MiB]\n",
            "15360 MiB\n"
          ]
        }
      ],
      "source": [
        "!nvidia-smi --format=csv --query-gpu=memory.total"
      ]
    },
    {
      "cell_type": "markdown",
      "metadata": {
        "id": "0auXjfawqQAj"
      },
      "source": [
        "#### プロパティ一覧の表示"
      ]
    },
    {
      "cell_type": "code",
      "execution_count": null,
      "metadata": {
        "colab": {
          "base_uri": "https://localhost:8080/"
        },
        "id": "daViBoMMpUIM",
        "outputId": "9f2aefe3-28da-44de-e8ca-d11145fa35bf"
      },
      "outputs": [
        {
          "output_type": "stream",
          "name": "stdout",
          "text": [
            "List of valid properties to query for the switch \"--query-gpu\":\n",
            "\n",
            "\"timestamp\"\n",
            "The timestamp of when the query was made in format \"YYYY/MM/DD HH:MM:SS.msec\".\n",
            "\n",
            "\"driver_version\"\n",
            "The version of the installed NVIDIA display driver. This is an alphanumeric string.\n",
            "\n",
            "Section about vgpu_driver_capability properties\n",
            "Retrieves information about driver level caps.\n",
            "\n",
            "\"vgpu_driver_capability.heterogenous_multivGPU\"\n",
            "Whether heterogeneuos multi-vGPU is supported by driver.\n",
            "\n",
            "\"count\"\n",
            "The number of NVIDIA GPUs in the system.\n",
            "\n",
            "\"name\" or \"gpu_name\"\n",
            "The official product name of the GPU. This is an alphanumeric string. For all products.\n",
            "\n",
            "\"serial\" or \"gpu_serial\"\n",
            "This number matches the serial number physically printed on each board. It is a globally unique immutable alphanumeric value.\n",
            "\n",
            "\"uuid\" or \"gpu_uuid\"\n",
            "This value is the globally unique immutable alphanumeric identifier of the GPU. It does not correspond to any physical label on the board.\n",
            "\n",
            "\"pci.bus_id\" or \"gpu_bus_id\"\n",
            "PCI bus id as \"domain:bus:device.function\", in hex.\n",
            "\n",
            "\"pci.domain\"\n",
            "PCI domain number, in hex.\n",
            "\n",
            "\"pci.bus\"\n",
            "PCI bus number, in hex.\n",
            "\n",
            "\"pci.device\"\n",
            "PCI device number, in hex.\n",
            "\n",
            "\"pci.device_id\"\n",
            "PCI vendor device id, in hex\n",
            "\n",
            "\"pci.sub_device_id\"\n",
            "PCI Sub System id, in hex\n",
            "\n",
            "Section about vgpu_device_capability properties\n",
            "Retrieves information about device level caps.\n",
            "\n",
            "\"vgpu_device_capability.fractional_multiVgpu\"\n",
            "Fractional vGPU profiles on this GPU can be used in multi-vGPU configurations.\n",
            "\n",
            "\"vgpu_device_capability.heterogeneous_timeSlice_profile\"\n",
            "Supports concurrent execution of timesliced vGPU profiles of differing types.\n",
            "\n",
            "\"vgpu_device_capability.heterogeneous_timeSlice_sizes\"\n",
            "Supports concurrent execution of timesliced vGPU profiles of differing framebuffer sizes.\n",
            "\n",
            "\"pcie.link.gen.current\"\n",
            "The current PCI-E link generation. These may be reduced when the GPU is not in use. Deprecated, use pcie.link.gen.gpucurrent instead.\n",
            "\n",
            "\"pcie.link.gen.gpucurrent\"\n",
            "The current PCI-E link generation. These may be reduced when the GPU is not in use.\n",
            "\n",
            "\"pcie.link.gen.max\"\n",
            "The maximum PCI-E link generation possible with this GPU and system configuration. For example, if the GPU supports a higher PCIe generation than the system supports then this reports the system PCIe generation.\n",
            "\n",
            "\"pcie.link.gen.gpumax\"\n",
            "The maximum PCI-E link generation supported by this GPU.\n",
            "\n",
            "\"pcie.link.gen.hostmax\"\n",
            "The maximum PCI-E link generation supported by the root port corresponding to this GPU.\n",
            "\n",
            "\"pcie.link.width.current\"\n",
            "The current PCI-E link width. These may be reduced when the GPU is not in use.\n",
            "\n",
            "\"pcie.link.width.max\"\n",
            "The maximum PCI-E link width possible with this GPU and system configuration. For example, if the GPU supports a higher PCIe generation than the system supports then this reports the system PCIe generation.\n",
            "\n",
            "\"index\"\n",
            "Zero based index of the GPU. Can change at each boot.\n",
            "\n",
            "\"display_mode\"\n",
            "A flag that indicates whether a physical display (e.g. monitor) is currently connected to any of the GPU's connectors. \"Enabled\" indicates an attached display. \"Disabled\" indicates otherwise.\n",
            "\n",
            "\"display_active\"\n",
            "A flag that indicates whether a display is initialized on the GPU's (e.g. memory is allocated on the device for display). Display can be active even when no monitor is physically attached. \"Enabled\" indicates an active display. \"Disabled\" indicates otherwise.\n",
            "\n",
            "\"persistence_mode\"\n",
            "A flag that indicates whether persistence mode is enabled for the GPU. Value is either \"Enabled\" or \"Disabled\". When persistence mode is enabled the NVIDIA driver remains loaded even when no active clients, such as X11 or nvidia-smi, exist. This minimizes the driver load latency associated with running dependent apps, such as CUDA programs. Linux only.\n",
            "\n",
            "\"accounting.mode\"\n",
            "A flag that indicates whether accounting mode is enabled for the GPU. Value is either \"Enabled\" or \"Disabled\". When accounting is enabled statistics are calculated for each compute process running on the GPU.Statistics can be queried during the lifetime or after termination of the process.The execution time of process is reported as 0 while the process is in running state and updated to actualexecution time after the process has terminated. See --help-query-accounted-apps for more info.\n",
            "\n",
            "\"accounting.buffer_size\"\n",
            "The size of the circular buffer that holds list of processes that can be queried for accounting stats. This is the maximum number of processes that accounting information will be stored for before information about oldest processes will get overwritten by information about new processes.\n",
            "\n",
            "Section about driver_model properties\n",
            "On Windows, the TCC and WDDM driver models are supported. The driver model can be changed with the (-dm) or (-fdm) flags. The TCC driver model is optimized for compute applications. I.E. kernel launch times will be quicker with TCC. The WDDM driver model is designed for graphics applications and is not recommended for compute applications. Linux does not support multiple driver models, and will always have the value of \"N/A\". Only for selected products. Please see feature matrix in NVML documentation.\n",
            "\n",
            "\"driver_model.current\"\n",
            "The driver model currently in use. Always \"N/A\" on Linux.\n",
            "\n",
            "\"driver_model.pending\"\n",
            "The driver model that will be used on the next reboot. Always \"N/A\" on Linux.\n",
            "\n",
            "\"vbios_version\"\n",
            "The BIOS of the GPU board.\n",
            "\n",
            "Section about inforom properties\n",
            "Version numbers for each object in the GPU board's inforom storage. The inforom is a small, persistent store of configuration and state data for the GPU. All inforom version fields are numerical. It can be useful to know these version numbers because some GPU features are only available with inforoms of a certain version or higher.\n",
            "\n",
            "\"inforom.img\" or \"inforom.image\"\n",
            "Global version of the infoROM image. Image version just like VBIOS version uniquely describes the exact version of the infoROM flashed on the board in contrast to infoROM object version which is only an indicator of supported features.\n",
            "\n",
            "\"inforom.oem\"\n",
            "Version for the OEM configuration data.\n",
            "\n",
            "\"inforom.ecc\"\n",
            "Version for the ECC recording data.\n",
            "\n",
            "\"inforom.pwr\" or \"inforom.power\"\n",
            "Version for the power management data.\n",
            "\n",
            "Section about gom properties\n",
            "GOM allows to reduce power usage and optimize GPU throughput by disabling GPU features. Each GOM is designed to meet specific user needs.\n",
            "In \"All On\" mode everything is enabled and running at full speed.\n",
            "The \"Compute\" mode is designed for running only compute tasks. Graphics operations are not allowed.\n",
            "The \"Low Double Precision\" mode is designed for running graphics applications that don't require high bandwidth double precision.\n",
            "GOM can be changed with the (--gom) flag.\n",
            "\n",
            "\"gom.current\" or \"gpu_operation_mode.current\"\n",
            "The GOM currently in use.\n",
            "\n",
            "\"gom.pending\" or \"gpu_operation_mode.pending\"\n",
            "The GOM that will be used on the next reboot.\n",
            "\n",
            "\"fan.speed\"\n",
            "The fan speed value is the percent of the product's maximum noise tolerance fan speed that the device's fan is currently intended to run at. This value may exceed 100% in certain cases. Note: The reported speed is the intended fan speed. If the fan is physically blocked and unable to spin, this output will not match the actual fan speed. Many parts do not report fan speeds because they rely on cooling via fans in the surrounding enclosure.\n",
            "\n",
            "\"pstate\"\n",
            "The current performance state for the GPU. States range from P0 (maximum performance) to P12 (minimum performance).\n",
            "\n",
            "Section about clocks_throttle_reasons properties\n",
            "Retrieves information about factors that are reducing the frequency of clocks. If all throttle reasons are returned as \"Not Active\" it means that clocks are running as high as possible.\n",
            "\n",
            "\"clocks_throttle_reasons.supported\"\n",
            "Bitmask of supported clock throttle reasons. See nvml.h for more details.\n",
            "\n",
            "\"clocks_throttle_reasons.active\"\n",
            "Bitmask of active clock throttle reasons. See nvml.h for more details.\n",
            "\n",
            "\"clocks_throttle_reasons.gpu_idle\"\n",
            "Nothing is running on the GPU and the clocks are dropping to Idle state. This limiter may be removed in a later release.\n",
            "\n",
            "\"clocks_throttle_reasons.applications_clocks_setting\"\n",
            "GPU clocks are limited by applications clocks setting. E.g. can be changed by nvidia-smi --applications-clocks=\n",
            "\n",
            "\"clocks_throttle_reasons.sw_power_cap\"\n",
            "SW Power Scaling algorithm is reducing the clocks below requested clocks because the GPU is consuming too much power. E.g. SW power cap limit can be changed with nvidia-smi --power-limit=\n",
            "\n",
            "\"clocks_throttle_reasons.hw_slowdown\"\n",
            "HW Slowdown (reducing the core clocks by a factor of 2 or more) is engaged. This is an indicator of:\n",
            " HW Thermal Slowdown: temperature being too high\n",
            " HW Power Brake Slowdown: External Power Brake Assertion is triggered (e.g. by the system power supply)\n",
            " * Power draw is too high and Fast Trigger protection is reducing the clocks\n",
            " * May be also reported during PState or clock change\n",
            " * This behavior may be removed in a later release\n",
            "\n",
            "\"clocks_throttle_reasons.hw_thermal_slowdown\"\n",
            "HW Thermal Slowdown (reducing the core clocks by a factor of 2 or more) is engaged. This is an indicator of temperature being too high\n",
            "\n",
            "\"clocks_throttle_reasons.hw_power_brake_slowdown\"\n",
            "HW Power Brake Slowdown (reducing the core clocks by a factor of 2 or more) is engaged. This is an indicator of External Power Brake Assertion being triggered (e.g. by the system power supply)\n",
            "\n",
            "\"clocks_throttle_reasons.sw_thermal_slowdown\"\n",
            "SW Thermal capping algorithm is reducing clocks below requested clocks because GPU temperature is higher than Max Operating Temp.\n",
            "\n",
            "\"clocks_throttle_reasons.sync_boost\"\n",
            "Sync Boost This GPU has been added to a Sync boost group with nvidia-smi or DCGM in\n",
            " * order to maximize performance per watt. All GPUs in the sync boost group\n",
            " * will boost to the minimum possible clocks across the entire group. Look at\n",
            " * the throttle reasons for other GPUs in the system to see why those GPUs are\n",
            " * holding this one at lower clocks.\n",
            "\n",
            "Section about memory properties\n",
            "On-board memory information. Reported total memory is affected by ECC state. If ECC is enabled the total available memory is decreased by several percent, due to the requisite parity bits. The driver may also reserve a small amount of memory for internal use, even without active work on the GPU.\n",
            "\n",
            "\"memory.total\"\n",
            "Total installed GPU memory.\n",
            "\n",
            "\"memory.reserved\"\n",
            "Total memory reserved by the NVIDIA driver and firmware.\n",
            "\n",
            "\"memory.used\"\n",
            "Total memory allocated by active contexts.\n",
            "\n",
            "\"memory.free\"\n",
            "Total free memory.\n",
            "\n",
            "\"compute_mode\"\n",
            "The compute mode flag indicates whether individual or multiple compute applications may run on the GPU.\n",
            "\"0: Default\" means multiple contexts are allowed per device.\n",
            "\"1: Exclusive_Thread\", deprecated, use Exclusive_Process instead\n",
            "\"2: Prohibited\" means no contexts are allowed per device (no compute apps).\n",
            "\"3: Exclusive_Process\" means only one context is allowed per device, usable from multiple threads at a time.\n",
            "\n",
            "\"compute_cap\"\n",
            "The CUDA Compute Capability, represented as Major DOT Minor.\n",
            "\n",
            "Section about utilization properties\n",
            "Utilization rates report how busy each GPU is over time, and can be used to determine how much an application is using the GPUs in the system.\n",
            "\n",
            "\"utilization.gpu\"\n",
            "Percent of time over the past sample period during which one or more kernels was executing on the GPU.\n",
            "The sample period may be between 1 second and 1/6 second depending on the product.\n",
            "\n",
            "\"utilization.memory\"\n",
            "Percent of time over the past sample period during which global (device) memory was being read or written.\n",
            "The sample period may be between 1 second and 1/6 second depending on the product.\n",
            "\n",
            "Section about encoder.stats properties\n",
            "Encoder stats report number of encoder sessions, average FPS and average latency in us for given GPUs in the system.\n",
            "\n",
            "\"encoder.stats.sessionCount\"\n",
            "Number of encoder sessions running on the GPU.\n",
            "\n",
            "\"encoder.stats.averageFps\"\n",
            "Average FPS of all sessions running on the GPU.\n",
            "\n",
            "\"encoder.stats.averageLatency\"\n",
            "Average latency in microseconds of all sessions running on the GPU.\n",
            "\n",
            "Section about ecc.mode properties\n",
            "A flag that indicates whether ECC support is enabled. May be either \"Enabled\" or \"Disabled\". Changes to ECC mode require a reboot. Requires Inforom ECC object version 1.0 or higher.\n",
            "\n",
            "\"ecc.mode.current\"\n",
            "The ECC mode that the GPU is currently operating under.\n",
            "\n",
            "\"ecc.mode.pending\"\n",
            "The ECC mode that the GPU will operate under after the next reboot.\n",
            "\n",
            "Section about ecc.errors properties\n",
            "NVIDIA GPUs can provide error counts for various types of ECC errors. Some ECC errors are either single or double bit, where single bit errors are corrected and double bit errors are uncorrectable. Texture memory errors may be correctable via resend or uncorrectable if the resend fails. These errors are available across two timescales (volatile and aggregate). Single bit ECC errors are automatically corrected by the HW and do not result in data corruption. Double bit errors are detected but not corrected. Please see the ECC documents on the web for information on compute application behavior when double bit errors occur. Volatile error counters track the number of errors detected since the last driver load. Aggregate error counts persist indefinitely and thus act as a lifetime counter.\n",
            "\n",
            "\"ecc.errors.corrected.volatile.device_memory\"\n",
            "Errors detected in global device memory.\n",
            "\n",
            "\"ecc.errors.corrected.volatile.dram\"\n",
            "Errors detected in global device memory.\n",
            "\n",
            "\"ecc.errors.corrected.volatile.register_file\"\n",
            "Errors detected in register file memory.\n",
            "\n",
            "\"ecc.errors.corrected.volatile.l1_cache\"\n",
            "Errors detected in the L1 cache.\n",
            "\n",
            "\"ecc.errors.corrected.volatile.l2_cache\"\n",
            "Errors detected in the L2 cache.\n",
            "\n",
            "\"ecc.errors.corrected.volatile.texture_memory\"\n",
            "Parity errors detected in texture memory.\n",
            "\n",
            "\"ecc.errors.corrected.volatile.cbu\"\n",
            "Parity errors detected in CBU.\n",
            "\n",
            "\"ecc.errors.corrected.volatile.sram\"\n",
            "Errors detected in global SRAMs.\n",
            "\n",
            "\"ecc.errors.corrected.volatile.total\"\n",
            "Total errors detected across entire chip.\n",
            "\n",
            "\"ecc.errors.corrected.aggregate.device_memory\"\n",
            "Errors detected in global device memory.\n",
            "\n",
            "\"ecc.errors.corrected.aggregate.dram\"\n",
            "Errors detected in global device memory.\n",
            "\n",
            "\"ecc.errors.corrected.aggregate.register_file\"\n",
            "Errors detected in register file memory.\n",
            "\n",
            "\"ecc.errors.corrected.aggregate.l1_cache\"\n",
            "Errors detected in the L1 cache.\n",
            "\n",
            "\"ecc.errors.corrected.aggregate.l2_cache\"\n",
            "Errors detected in the L2 cache.\n",
            "\n",
            "\"ecc.errors.corrected.aggregate.texture_memory\"\n",
            "Parity errors detected in texture memory.\n",
            "\n",
            "\"ecc.errors.corrected.aggregate.cbu\"\n",
            "Parity errors detected in CBU.\n",
            "\n",
            "\"ecc.errors.corrected.aggregate.sram\"\n",
            "Errors detected in global SRAMs.\n",
            "\n",
            "\"ecc.errors.corrected.aggregate.total\"\n",
            "Total errors detected across entire chip.\n",
            "\n",
            "\"ecc.errors.uncorrected.volatile.device_memory\"\n",
            "Errors detected in global device memory.\n",
            "\n",
            "\"ecc.errors.uncorrected.volatile.dram\"\n",
            "Errors detected in global device memory.\n",
            "\n",
            "\"ecc.errors.uncorrected.volatile.register_file\"\n",
            "Errors detected in register file memory.\n",
            "\n",
            "\"ecc.errors.uncorrected.volatile.l1_cache\"\n",
            "Errors detected in the L1 cache.\n",
            "\n",
            "\"ecc.errors.uncorrected.volatile.l2_cache\"\n",
            "Errors detected in the L2 cache.\n",
            "\n",
            "\"ecc.errors.uncorrected.volatile.texture_memory\"\n",
            "Parity errors detected in texture memory.\n",
            "\n",
            "\"ecc.errors.uncorrected.volatile.cbu\"\n",
            "Parity errors detected in CBU.\n",
            "\n",
            "\"ecc.errors.uncorrected.volatile.sram\"\n",
            "Errors detected in global SRAMs.\n",
            "\n",
            "\"ecc.errors.uncorrected.volatile.total\"\n",
            "Total errors detected across entire chip.\n",
            "\n",
            "\"ecc.errors.uncorrected.aggregate.device_memory\"\n",
            "Errors detected in global device memory.\n",
            "\n",
            "\"ecc.errors.uncorrected.aggregate.dram\"\n",
            "Errors detected in global device memory.\n",
            "\n",
            "\"ecc.errors.uncorrected.aggregate.register_file\"\n",
            "Errors detected in register file memory.\n",
            "\n",
            "\"ecc.errors.uncorrected.aggregate.l1_cache\"\n",
            "Errors detected in the L1 cache.\n",
            "\n",
            "\"ecc.errors.uncorrected.aggregate.l2_cache\"\n",
            "Errors detected in the L2 cache.\n",
            "\n",
            "\"ecc.errors.uncorrected.aggregate.texture_memory\"\n",
            "Parity errors detected in texture memory.\n",
            "\n",
            "\"ecc.errors.uncorrected.aggregate.cbu\"\n",
            "Parity errors detected in CBU.\n",
            "\n",
            "\"ecc.errors.uncorrected.aggregate.sram\"\n",
            "Errors detected in global SRAMs.\n",
            "\n",
            "\"ecc.errors.uncorrected.aggregate.total\"\n",
            "Total errors detected across entire chip.\n",
            "\n",
            "Section about retired_pages properties\n",
            "NVIDIA GPUs can retire pages of GPU device memory when they become unreliable. This can happen when multiple single bit ECC errors occur for the same page, or on a double bit ECC error. When a page is retired, the NVIDIA driver will hide it such that no driver, or application memory allocations can access it.\n",
            "\n",
            "\"retired_pages.single_bit_ecc.count\" or \"retired_pages.sbe\"\n",
            "The number of GPU device memory pages that have been retired due to multiple single bit ECC errors.\n",
            "\n",
            "\"retired_pages.double_bit.count\" or \"retired_pages.dbe\"\n",
            "The number of GPU device memory pages that have been retired due to a double bit ECC error.\n",
            "\n",
            "\"retired_pages.pending\"\n",
            "Checks if any GPU device memory pages are pending retirement on the next reboot. Pages that are pending retirement can still be allocated, and may cause further reliability issues.\n",
            "\n",
            "\"temperature.gpu\"\n",
            " Core GPU temperature. in degrees C.\n",
            "\n",
            "\"temperature.memory\"\n",
            " HBM memory temperature. in degrees C.\n",
            "\n",
            "\"power.management\"\n",
            "A flag that indicates whether power management is enabled. Either \"Supported\" or \"[Not Supported]\". Requires Inforom PWR object version 3.0 or higher or Kepler device.\n",
            "\n",
            "\"power.draw\"\n",
            "The last measured power draw for the entire board, in watts. On Ampere or newer devices, returns average power draw over 1 sec. On older devices, returns instantaneous power draw. Only available if power management is supported. This reading is accurate to within +/- 5 watts.\n",
            "\n",
            "\"power.draw.average\"\n",
            "The last measured average power draw for the entire board, in watts. Only available if power management is supported and Ampere (except GA100) or newer devices. This reading is accurate to within +/- 5 watts.\n",
            "\n",
            "\"power.draw.instant\"\n",
            "The last measured instant power draw for the entire board, in watts. Only available if power management is supported. This reading is accurate to within +/- 5 watts.\n",
            "\n",
            "\"power.limit\"\n",
            "The software power limit in watts. Set by software like nvidia-smi. On Kepler devices Power Limit can be adjusted using [-pl | --power-limit=] switches.\n",
            "\n",
            "\"enforced.power.limit\"\n",
            "The power management algorithm's power ceiling, in watts. Total board power draw is manipulated by the power management algorithm such that it stays under this value. This value is the minimum of various power limiters.\n",
            "\n",
            "\"power.default_limit\"\n",
            "The default power management algorithm's power ceiling, in watts. Power Limit will be set back to Default Power Limit after driver unload.\n",
            "\n",
            "\"power.min_limit\"\n",
            "The minimum value in watts that power limit can be set to.\n",
            "\n",
            "\"power.max_limit\"\n",
            "The maximum value in watts that power limit can be set to.\n",
            "\n",
            "\"clocks.current.graphics\" or \"clocks.gr\"\n",
            "Current frequency of graphics (shader) clock.\n",
            "\n",
            "\"clocks.current.sm\" or \"clocks.sm\"\n",
            "Current frequency of SM (Streaming Multiprocessor) clock.\n",
            "\n",
            "\"clocks.current.memory\" or \"clocks.mem\"\n",
            "Current frequency of memory clock.\n",
            "\n",
            "\"clocks.current.video\" or \"clocks.video\"\n",
            "Current frequency of video encoder/decoder clock.\n",
            "\n",
            "Section about clocks.applications properties\n",
            "User specified frequency at which applications will be running at. Can be changed with [-ac | --applications-clocks] switches.\n",
            "\n",
            "\"clocks.applications.graphics\" or \"clocks.applications.gr\"\n",
            "User specified frequency of graphics (shader) clock.\n",
            "\n",
            "\"clocks.applications.memory\" or \"clocks.applications.mem\"\n",
            "User specified frequency of memory clock.\n",
            "\n",
            "Section about clocks.default_applications properties\n",
            "Default frequency at which applications will be running at. Application clocks can be changed with [-ac | --applications-clocks] switches. Application clocks can be set to default using [-rac | --reset-applications-clocks] switches.\n",
            "\n",
            "\"clocks.default_applications.graphics\" or \"clocks.default_applications.gr\"\n",
            "Default frequency of applications graphics (shader) clock.\n",
            "\n",
            "\"clocks.default_applications.memory\" or \"clocks.default_applications.mem\"\n",
            "Default frequency of applications memory clock.\n",
            "\n",
            "Section about clocks.max properties\n",
            "Maximum frequency at which parts of the GPU are design to run.\n",
            "\n",
            "\"clocks.max.graphics\" or \"clocks.max.gr\"\n",
            "Maximum frequency of graphics (shader) clock.\n",
            "\n",
            "\"clocks.max.sm\" or \"clocks.max.sm\"\n",
            "Maximum frequency of SM (Streaming Multiprocessor) clock.\n",
            "\n",
            "\"clocks.max.memory\" or \"clocks.max.mem\"\n",
            "Maximum frequency of memory clock.\n",
            "\n",
            "Section about mig.mode properties\n",
            "A flag that indicates whether MIG mode is enabled. May be either \"Enabled\" or \"Disabled\". Changes to MIG mode require a GPU reset.\n",
            "\n",
            "\"mig.mode.current\"\n",
            "The MIG mode that the GPU is currently operating under.\n",
            "\n",
            "\"mig.mode.pending\"\n",
            "The MIG mode that the GPU will operate under after reset.\n",
            "\n",
            "\"fabric.state\"\n",
            "Current state of GPU fabric registration process.\n",
            "\n",
            "\"fabric.status\"\n",
            "Error status, valid only if gpu fabric registration state is \"completed\"\n",
            "\n"
          ]
        }
      ],
      "source": [
        "!nvidia-smi --help-query-gpu"
      ]
    },
    {
      "cell_type": "markdown",
      "metadata": {
        "id": "xF_p-zDN51Un"
      },
      "source": [
        "### ソフトウェア"
      ]
    },
    {
      "cell_type": "markdown",
      "metadata": {
        "id": "KSn4DZY79FQH"
      },
      "source": [
        "#### 標準でインストールされているCUDAコンパイラのバージョン確認"
      ]
    },
    {
      "cell_type": "code",
      "execution_count": null,
      "metadata": {
        "colab": {
          "base_uri": "https://localhost:8080/"
        },
        "id": "GU9C6RjlyFzS",
        "outputId": "191fab33-fb95-40d2-c9b9-34ea60301e20"
      },
      "outputs": [
        {
          "output_type": "stream",
          "name": "stdout",
          "text": [
            "nvcc: NVIDIA (R) Cuda compiler driver\n",
            "Copyright (c) 2005-2022 NVIDIA Corporation\n",
            "Built on Wed_Sep_21_10:33:58_PDT_2022\n",
            "Cuda compilation tools, release 11.8, V11.8.89\n",
            "Build cuda_11.8.r11.8/compiler.31833905_0\n"
          ]
        }
      ],
      "source": [
        "!nvcc -V"
      ]
    },
    {
      "cell_type": "markdown",
      "metadata": {
        "id": "E3zgFzp54Kss"
      },
      "source": [
        "#### 標準でインストールされているOpenMPIライブラリ\n",
        "\n",
        "OpenMPIのインストール状況はompi_infoコマンドによって調べることができます。\n",
        "\n",
        "* ompi_info(1) man page https://www.open-mpi.org/doc/current/man1/ompi_info.1.php\n",
        "\n",
        "ompi_infoは多くの情報を出力しますが、-Vオプションでバージョンを表示します。"
      ]
    },
    {
      "cell_type": "code",
      "execution_count": null,
      "metadata": {
        "colab": {
          "base_uri": "https://localhost:8080/"
        },
        "id": "gbuxkrF_5LV5",
        "outputId": "bf61a239-d1ca-461e-ee74-e85f9ea7343a"
      },
      "outputs": [
        {
          "output_type": "stream",
          "name": "stdout",
          "text": [
            "Open MPI v4.1.2\n",
            "\n",
            "http://www.open-mpi.org/community/help/\n"
          ]
        }
      ],
      "source": [
        "!ompi_info -V"
      ]
    },
    {
      "cell_type": "markdown",
      "metadata": {
        "id": "C3kNXU4i59kX"
      },
      "source": [
        "MPIライブラリが直接、GPUバッファへのsend/receiveを行うことができる機能であるCUDA-aware supportが有効化されているかは、以下のコマンドにより確認することができます。\n",
        "\n",
        "* FAQ: Running CUDA-aware Open MPI https://www.open-mpi.org/faq/?category=runcuda#mpi-cuda-support"
      ]
    },
    {
      "cell_type": "code",
      "execution_count": null,
      "metadata": {
        "colab": {
          "base_uri": "https://localhost:8080/"
        },
        "id": "L5zCFI-ILjEl",
        "outputId": "2d9d9b01-e4c6-4553-d7c0-a1984b07a640"
      },
      "outputs": [
        {
          "output_type": "stream",
          "name": "stdout",
          "text": [
            "mca:mpi:base:param:mpi_built_with_cuda_support:value:false\n"
          ]
        }
      ],
      "source": [
        "!ompi_info --parsable --all | grep mpi_built_with_cuda_support:value"
      ]
    },
    {
      "cell_type": "markdown",
      "metadata": {
        "id": "RoVK9hq164wl"
      },
      "source": [
        "値が`false`となっているので、インストールされているOpenMPIは、CUDA-aware supportが有効化されていません。"
      ]
    },
    {
      "cell_type": "markdown",
      "metadata": {
        "id": "CTSAnDKE-Nj4"
      },
      "source": [
        "## Google ドライブをマウントする"
      ]
    },
    {
      "cell_type": "markdown",
      "metadata": {
        "id": "XL9v9tdZCspt"
      },
      "source": [
        "以下にGoogle ドライブをマウントする方法を示します。\n",
        "Google のアカウントが必要になりますので、予め作成しておいてください。"
      ]
    },
    {
      "cell_type": "markdown",
      "metadata": {
        "id": "v4fZmx-V__zb"
      },
      "source": [
        "Google ドライブをマウントには、下記のセルのコードを実行してください。\n"
      ]
    },
    {
      "cell_type": "code",
      "execution_count": null,
      "metadata": {
        "colab": {
          "base_uri": "https://localhost:8080/"
        },
        "id": "t97HShIV-jme",
        "outputId": "8dc3f111-43df-471e-c2a3-53b19b68edb1"
      },
      "outputs": [
        {
          "output_type": "stream",
          "name": "stdout",
          "text": [
            "Drive already mounted at /content/drive; to attempt to forcibly remount, call drive.mount(\"/content/drive\", force_remount=True).\n"
          ]
        }
      ],
      "source": [
        "from google.colab import drive\n",
        "drive.mount('/content/drive')"
      ]
    },
    {
      "cell_type": "markdown",
      "metadata": {
        "id": "Q7H4-gEWAKD3"
      },
      "source": [
        "既にマウント済みでない場合には、下記のようなメッセージが出ると思いますので、**Googleドライブに接続**を選択します。\n",
        "\n",
        "---\n",
        "\n",
        "**このノートブックに Google ドライブのファイルへのアクセスを許可しますか？**\n",
        "\n",
        "このノートブックは Google ドライブ ファイルへのアクセスをリクエストしています。Google ドライブへのアクセスを許可すると、ノートブックで実行されたコードに対し、Google ドライブ内のファイルの変更を許可することになります。このアクセスを許可する前に、ノートブック コードをご確認ください。\n",
        "\n",
        "スキップ  **Googleドライブに接続**\n",
        "\n",
        "---\n"
      ]
    },
    {
      "cell_type": "markdown",
      "metadata": {
        "id": "QAbvoTBhDZIQ"
      },
      "source": [
        "その後、アカウントの選択を求められた場合には、使用する**Googleアカウントを選択**します。"
      ]
    },
    {
      "cell_type": "markdown",
      "metadata": {
        "id": "y6FGb3a-DdpU"
      },
      "source": [
        "さらに、Googleアカウントへのアクセスをリクエストされた場合には、適宜**許可**します。"
      ]
    },
    {
      "cell_type": "markdown",
      "metadata": {
        "id": "uqoOKoOgBDca"
      },
      "source": [
        "上記のようなgoogle の認証手順を踏んでGoogleドライブのマウントに成功すると、'Mounted at /content/drive'と出力され、Googleドライブが /content/drive/MyDrive にマウントされますので、以下を実行して、マウントされたディレクトリを表示してください。"
      ]
    },
    {
      "cell_type": "code",
      "execution_count": null,
      "metadata": {
        "colab": {
          "base_uri": "https://localhost:8080/"
        },
        "id": "aJnilTC3H4Br",
        "outputId": "227a84be-f35c-4af9-8c5b-90f4e73dfcc2"
      },
      "outputs": [
        {
          "output_type": "stream",
          "name": "stdout",
          "text": [
            "MyDrive\n"
          ]
        }
      ],
      "source": [
        "!ls /content/drive"
      ]
    },
    {
      "cell_type": "markdown",
      "metadata": {
        "id": "-F2kN4zIIQH0"
      },
      "source": [
        "'MyDrive/'と表示されれば問題ありません。\n",
        "（'MyDriver/' だけではなく、 'Othercomputers/' などもあわせて表示される可能性があります。）"
      ]
    },
    {
      "cell_type": "markdown",
      "metadata": {
        "id": "LBfmh05tZ_L3"
      },
      "source": [
        "## OpenFOAM-v2306およびのインストールPETScライブラリ、external-solverモジュール\n",
        "OpenFOAM-v2306のコンパイル済みのUbuntu向けパッケージと、前にビルドしたインストールPETScライブラリ、external-solverモジュールをインストールします。\n",
        "\n",
        "なお、PETScのライブラリやexternal-solverモジュールのビルドは不要なので、ソースコードやビルドツールのパッケージのインストールも不要です。"
      ]
    },
    {
      "cell_type": "markdown",
      "metadata": {
        "id": "6KpLf5QJctCF"
      },
      "source": [
        "### OepnFOAM-v2306の最小版パッケージのインストール"
      ]
    },
    {
      "cell_type": "code",
      "execution_count": null,
      "metadata": {
        "colab": {
          "base_uri": "https://localhost:8080/"
        },
        "id": "K35aBXy7Z7v0",
        "outputId": "2ecee5db-4b98-448c-c5c6-48acfb685fcd"
      },
      "outputs": [
        {
          "output_type": "stream",
          "name": "stdout",
          "text": [
            "  % Total    % Received % Xferd  Average Speed   Time    Time     Time  Current\n",
            "                                 Dload  Upload   Total   Spent    Left  Speed\n",
            "100  4147  100  4147    0     0   6875      0 --:--:-- --:--:-- --:--:--  6865\n",
            "Detected distribution code-name: jammy\n",
            "Added /etc/apt/sources.list.d/openfoam.list\n",
            "Importing openfoam gpg key... done\n",
            "Added /etc/apt/trusted.gpg.d/openfoam.gpg\n",
            "Running apt-get update... done\n",
            "\n",
            "The repository is setup! You can now install packages.\n",
            "Reading package lists... Done\n",
            "Building dependency tree... Done\n",
            "Reading state information... Done\n",
            "The following additional packages will be installed:\n",
            "  libfftw3-double3 libptscotch-6.1 libscotch-6.1 openfoam-selector\n",
            "  openfoam2306-common\n",
            "Suggested packages:\n",
            "  libfftw3-bin libfftw3-dev openfoam2306-tutorials gnuplot\n",
            "The following NEW packages will be installed:\n",
            "  libfftw3-double3 libptscotch-6.1 libscotch-6.1 openfoam-selector\n",
            "  openfoam2306 openfoam2306-common\n",
            "0 upgraded, 6 newly installed, 0 to remove and 16 not upgraded.\n",
            "Need to get 66.8 MB of archives.\n",
            "After this operation, 329 MB of additional disk space will be used.\n",
            "Get:1 http://archive.ubuntu.com/ubuntu jammy/main amd64 libfftw3-double3 amd64 3.3.8-2ubuntu8 [770 kB]\n",
            "Get:5 http://archive.ubuntu.com/ubuntu jammy/universe amd64 libptscotch-6.1 amd64 6.1.3-1 [702 kB]\n",
            "Get:6 http://archive.ubuntu.com/ubuntu jammy/universe amd64 libscotch-6.1 amd64 6.1.3-1 [422 kB]\n",
            "Get:2 https://sourceforge.net/projects/openfoam/files/repos/deb jammy/main amd64 openfoam-selector all 1.0.6-1 [20.3 kB]\n",
            "Get:3 https://sourceforge.net/projects/openfoam/files/repos/deb jammy/main amd64 openfoam2306-common all 2306.0-1 [1,272 kB]\n",
            "Get:4 https://sourceforge.net/projects/openfoam/files/repos/deb jammy/main amd64 openfoam2306 amd64 2306.0-1 [63.6 MB]\n",
            "Fetched 66.8 MB in 7s (9,352 kB/s)\n",
            "Selecting previously unselected package libfftw3-double3:amd64.\n",
            "(Reading database ... 120901 files and directories currently installed.)\n",
            "Preparing to unpack .../0-libfftw3-double3_3.3.8-2ubuntu8_amd64.deb ...\n",
            "Unpacking libfftw3-double3:amd64 (3.3.8-2ubuntu8) ...\n",
            "Selecting previously unselected package libptscotch-6.1:amd64.\n",
            "Preparing to unpack .../1-libptscotch-6.1_6.1.3-1_amd64.deb ...\n",
            "Unpacking libptscotch-6.1:amd64 (6.1.3-1) ...\n",
            "Selecting previously unselected package libscotch-6.1:amd64.\n",
            "Preparing to unpack .../2-libscotch-6.1_6.1.3-1_amd64.deb ...\n",
            "Unpacking libscotch-6.1:amd64 (6.1.3-1) ...\n",
            "Selecting previously unselected package openfoam-selector.\n",
            "Preparing to unpack .../3-openfoam-selector_1.0.6-1_all.deb ...\n",
            "Unpacking openfoam-selector (1.0.6-1) ...\n",
            "Selecting previously unselected package openfoam2306-common.\n",
            "Preparing to unpack .../4-openfoam2306-common_2306.0-1_all.deb ...\n",
            "Unpacking openfoam2306-common (2306.0-1) ...\n",
            "Selecting previously unselected package openfoam2306:amd64.\n",
            "Preparing to unpack .../5-openfoam2306_2306.0-1_amd64.deb ...\n",
            "Unpacking openfoam2306:amd64 (2306.0-1) ...\n",
            "Setting up libptscotch-6.1:amd64 (6.1.3-1) ...\n",
            "Setting up libfftw3-double3:amd64 (3.3.8-2ubuntu8) ...\n",
            "Setting up openfoam-selector (1.0.6-1) ...\n",
            "Setting up openfoam2306-common (2306.0-1) ...\n",
            "Setting up libscotch-6.1:amd64 (6.1.3-1) ...\n",
            "Setting up openfoam2306:amd64 (2306.0-1) ...\n",
            "Update installation directory for openfoam2306\n",
            "Configuring OpenFOAM (/usr/lib/openfoam/openfoam2306)\n",
            "    Replaced WM_PROJECT_DIR by '\"/usr/lib/openfoam/openfoam2306\"'  (etc/bashrc)\n",
            "    Replaced WM_PROJECT_DIR by '\"/usr/lib/openfoam/openfoam2306\"'  (etc/cshrc)\n",
            "    Remove automatic projectDir setting (etc/bashrc)\n",
            "    Remove automatic projectDir setting (etc/cshrc)\n",
            "Registered 'openfoam2306' with openfoam-selector\n",
            "**\n",
            "** Different ways to setup OpenFOAM (www.openfoam.com)\n",
            "** - shell session:                 /usr/bin/openfoam2306\n",
            "** - select for login shell:        openfoam-selector --set openfoam2306\n",
            "** - source from ~/.bashrc file:  . /usr/lib/openfoam/openfoam2306/etc/bashrc\n",
            "**\n",
            "** Upgrade information: www.openfoam.com/documentation/\n",
            "**\n",
            "Processing triggers for man-db (2.10.2-1) ...\n",
            "Processing triggers for libc-bin (2.35-0ubuntu3.1) ...\n",
            "/sbin/ldconfig.real: /usr/local/lib/libtbbbind_2_5.so.3 is not a symbolic link\n",
            "\n",
            "/sbin/ldconfig.real: /usr/local/lib/libtbbbind.so.3 is not a symbolic link\n",
            "\n",
            "/sbin/ldconfig.real: /usr/local/lib/libtbbmalloc_proxy.so.2 is not a symbolic link\n",
            "\n",
            "/sbin/ldconfig.real: /usr/local/lib/libtbb.so.12 is not a symbolic link\n",
            "\n",
            "/sbin/ldconfig.real: /usr/local/lib/libtbbmalloc.so.2 is not a symbolic link\n",
            "\n",
            "/sbin/ldconfig.real: /usr/local/lib/libtbbbind_2_0.so.3 is not a symbolic link\n",
            "\n"
          ]
        }
      ],
      "source": [
        "!curl https://dl.openfoam.com/add-debian-repo.sh | bash;\\\n",
        "apt-get install openfoam2306"
      ]
    },
    {
      "cell_type": "markdown",
      "metadata": {
        "id": "vYaopiuLcayU"
      },
      "source": [
        "### Googleドライブへ保存したPETScライブラリおよびexternal-solverモジュールの解凍"
      ]
    },
    {
      "cell_type": "markdown",
      "metadata": {
        "id": "D-YQDXDWcayV"
      },
      "source": [
        "OpenFOAMのトップディレクトリに移動します。"
      ]
    },
    {
      "cell_type": "code",
      "execution_count": null,
      "metadata": {
        "colab": {
          "base_uri": "https://localhost:8080/"
        },
        "id": "pUXahYnHcayV",
        "outputId": "308c60dc-c537-439f-8f33-fc0ca1e15374"
      },
      "outputs": [
        {
          "output_type": "stream",
          "name": "stdout",
          "text": [
            "/usr/lib/openfoam/openfoam2306\n"
          ]
        }
      ],
      "source": [
        "%cd /usr/lib/openfoam/openfoam2306"
      ]
    },
    {
      "cell_type": "markdown",
      "metadata": {
        "id": "TXkvCsyT9jHC"
      },
      "source": [
        "ダミーファイルのThirdPartyを削除します。"
      ]
    },
    {
      "cell_type": "code",
      "execution_count": null,
      "metadata": {
        "id": "mXJ8-Edun3xR"
      },
      "outputs": [],
      "source": [
        "!rm ThirdParty"
      ]
    },
    {
      "cell_type": "markdown",
      "metadata": {
        "id": "pRPn1ZW5cayV"
      },
      "source": [
        "Googleドライブに保存したPETScライブラリとexternal-solverモジュールのライブラリのアーカイブファイルを展開します。"
      ]
    },
    {
      "cell_type": "code",
      "execution_count": null,
      "metadata": {
        "id": "9Di_jAQacayV"
      },
      "outputs": [],
      "source": [
        "!tar xf /content/drive//MyDrive/hpc-training-gpu-2023/petsc.tar.xz"
      ]
    },
    {
      "cell_type": "markdown",
      "metadata": {
        "id": "eBAQrTZMU-75"
      },
      "source": [
        "##  RapidCFDのアーカイブ・ファイルのダウンロード\n",
        "ColabのようにCPUの物理コア数が1、論理コア数が2つの環境でRapidCFDをビルドすると、数時間かかります。\n",
        "\n",
        "そこで、ここではビルド済みのランタイムを含んだアーカイブファイルを、本トレーニング用の共有Googleドライブ( https://drive.google.com/drive/folders/16rZRqhRVnoEd91D-Onl_CjDtnT9dJtgk )に置きましたので、ここからダウンロードして、展開します。\n",
        "\n"
      ]
    },
    {
      "cell_type": "markdown",
      "metadata": {
        "id": "0776wFN1l_GR"
      },
      "source": [
        "### 共通ファイルと倍精度版バイナリのアーカイブ・ファイルのダウンロード\n",
        "**各自のGoogleドライブにダウンロードするので、本ダウンロードは一度だけ行えば良いです。**"
      ]
    },
    {
      "cell_type": "code",
      "execution_count": null,
      "metadata": {
        "colab": {
          "base_uri": "https://localhost:8080/"
        },
        "id": "4KZA9guU99Hg",
        "outputId": "ac150589-6811-44d4-ec9e-3aa835272fcb"
      },
      "outputs": [
        {
          "output_type": "stream",
          "name": "stdout",
          "text": [
            "--2023-09-08 09:15:16--  https://drive.google.com/uc?export=download&id=1FIsejnVv7pLNwz42tDMGmR0cckN0r7Ee\n",
            "Resolving drive.google.com (drive.google.com)... 142.251.172.139, 142.251.172.113, 142.251.172.100, ...\n",
            "Connecting to drive.google.com (drive.google.com)|142.251.172.139|:443... connected.\n",
            "HTTP request sent, awaiting response... 303 See Other\n",
            "Location: https://doc-04-88-docs.googleusercontent.com/docs/securesc/ha0ro937gcuc7l7deffksulhg5h7mbp1/48rcqkqk6tc2mbid41bai0jdc148j5ke/1694164500000/18057486489383733653/*/1FIsejnVv7pLNwz42tDMGmR0cckN0r7Ee?e=download&uuid=8849ca7c-01f1-4b9b-b5ce-22b941af0b98 [following]\n",
            "Warning: wildcards not supported in HTTP.\n",
            "--2023-09-08 09:16:14--  https://doc-04-88-docs.googleusercontent.com/docs/securesc/ha0ro937gcuc7l7deffksulhg5h7mbp1/48rcqkqk6tc2mbid41bai0jdc148j5ke/1694164500000/18057486489383733653/*/1FIsejnVv7pLNwz42tDMGmR0cckN0r7Ee?e=download&uuid=8849ca7c-01f1-4b9b-b5ce-22b941af0b98\n",
            "Resolving doc-04-88-docs.googleusercontent.com (doc-04-88-docs.googleusercontent.com)... 173.194.195.132, 2607:f8b0:4001:c11::84\n",
            "Connecting to doc-04-88-docs.googleusercontent.com (doc-04-88-docs.googleusercontent.com)|173.194.195.132|:443... connected.\n",
            "HTTP request sent, awaiting response... 200 OK\n",
            "Length: 79486300 (76M) [application/x-xz]\n",
            "Saving to: ‘/content/drive/MyDrive/hpc-training-gpu-2023/RapidCFD-dev.tar.xz’\n",
            "\n",
            "/content/drive/MyDr 100%[===================>]  75.80M  55.2MB/s    in 1.4s    \n",
            "\n",
            "2023-09-08 09:16:16 (55.2 MB/s) - ‘/content/drive/MyDrive/hpc-training-gpu-2023/RapidCFD-dev.tar.xz’ saved [79486300/79486300]\n",
            "\n"
          ]
        }
      ],
      "source": [
        "!wget --no-check-certificate 'https://drive.google.com/uc?export=download&id=1FIsejnVv7pLNwz42tDMGmR0cckN0r7Ee' -O /content/drive/MyDrive/hpc-training-gpu-2023/RapidCFD-dev.tar.xz"
      ]
    },
    {
      "cell_type": "markdown",
      "metadata": {
        "id": "bXuJjnDfmOcR"
      },
      "source": [
        "### 単精度版バイナリのアーカイブ・ファイルのダウンロード\n",
        "**各自のGoogleドライブにダウンロードするので、本ダウンロードは一度だけ行えば良いです。**"
      ]
    },
    {
      "cell_type": "code",
      "execution_count": null,
      "metadata": {
        "colab": {
          "base_uri": "https://localhost:8080/"
        },
        "id": "j2Sk1ThFXycd",
        "outputId": "0caa4fd8-7afb-4c96-d7a2-d7f12d975205"
      },
      "outputs": [
        {
          "output_type": "stream",
          "name": "stdout",
          "text": [
            "--2023-09-08 09:16:28--  https://drive.google.com/uc?export=download&id=1Vo3WXYkl2B3eR8TLhvlwzT9YNii0l8aO\n",
            "Resolving drive.google.com (drive.google.com)... 142.251.172.113, 142.251.172.102, 142.251.172.100, ...\n",
            "Connecting to drive.google.com (drive.google.com)|142.251.172.113|:443... connected.\n",
            "HTTP request sent, awaiting response... 303 See Other\n",
            "Location: https://doc-0c-88-docs.googleusercontent.com/docs/securesc/ha0ro937gcuc7l7deffksulhg5h7mbp1/pqbmaf9da8401t1hvqsll534u4f2crm1/1694164575000/18057486489383733653/*/1Vo3WXYkl2B3eR8TLhvlwzT9YNii0l8aO?e=download&uuid=6f221b35-94a3-4536-9250-5c952e496607 [following]\n",
            "Warning: wildcards not supported in HTTP.\n",
            "--2023-09-08 09:17:12--  https://doc-0c-88-docs.googleusercontent.com/docs/securesc/ha0ro937gcuc7l7deffksulhg5h7mbp1/pqbmaf9da8401t1hvqsll534u4f2crm1/1694164575000/18057486489383733653/*/1Vo3WXYkl2B3eR8TLhvlwzT9YNii0l8aO?e=download&uuid=6f221b35-94a3-4536-9250-5c952e496607\n",
            "Resolving doc-0c-88-docs.googleusercontent.com (doc-0c-88-docs.googleusercontent.com)... 173.194.195.132, 2607:f8b0:4001:c11::84\n",
            "Connecting to doc-0c-88-docs.googleusercontent.com (doc-0c-88-docs.googleusercontent.com)|173.194.195.132|:443... connected.\n",
            "HTTP request sent, awaiting response... 200 OK\n",
            "Length: 64876416 (62M) [application/x-xz]\n",
            "Saving to: ‘/content/drive/MyDrive/hpc-training-gpu-2023/RapidCFD-dev_linux64NvccSPOpt.tar.xz’\n",
            "\n",
            "/content/drive/MyDr 100%[===================>]  61.87M  43.5MB/s    in 1.4s    \n",
            "\n",
            "2023-09-08 09:17:13 (43.5 MB/s) - ‘/content/drive/MyDrive/hpc-training-gpu-2023/RapidCFD-dev_linux64NvccSPOpt.tar.xz’ saved [64876416/64876416]\n",
            "\n"
          ]
        }
      ],
      "source": [
        "!wget --no-check-certificate 'https://drive.google.com/uc?export=download&id=1Vo3WXYkl2B3eR8TLhvlwzT9YNii0l8aO' -O /content/drive/MyDrive/hpc-training-gpu-2023/RapidCFD-dev_linux64NvccSPOpt.tar.xz"
      ]
    },
    {
      "cell_type": "markdown",
      "metadata": {
        "id": "K8UHUovRriRL"
      },
      "source": [
        "## RapidCFDのアーカイブ・ファイルの展開"
      ]
    },
    {
      "cell_type": "markdown",
      "metadata": {
        "id": "CxrGhBqGruSd"
      },
      "source": [
        "### ホームディレクトリへの移動"
      ]
    },
    {
      "cell_type": "code",
      "execution_count": null,
      "metadata": {
        "colab": {
          "base_uri": "https://localhost:8080/"
        },
        "id": "8oSd8IxC9Znu",
        "outputId": "24062294-fe18-41f9-9a02-1ba76b7e1ce8"
      },
      "outputs": [
        {
          "output_type": "stream",
          "name": "stdout",
          "text": [
            "/root\n"
          ]
        }
      ],
      "source": [
        "%cd"
      ]
    },
    {
      "cell_type": "markdown",
      "metadata": {
        "id": "u9G1ijasr2vJ"
      },
      "source": [
        "### RapidCFDディレクトリの作成"
      ]
    },
    {
      "cell_type": "code",
      "execution_count": null,
      "metadata": {
        "id": "2L8lEAE09oqu"
      },
      "outputs": [],
      "source": [
        "!mkdir RapidCFD"
      ]
    },
    {
      "cell_type": "markdown",
      "metadata": {
        "id": "3Ie6oSWOlQFJ"
      },
      "source": [
        "### RapidCFDディレクトリへの移動"
      ]
    },
    {
      "cell_type": "code",
      "execution_count": null,
      "metadata": {
        "colab": {
          "base_uri": "https://localhost:8080/"
        },
        "id": "O7-VUJBZ97nP",
        "outputId": "a55d31ce-c20a-48d6-9874-c61339e5d2d2"
      },
      "outputs": [
        {
          "output_type": "stream",
          "name": "stdout",
          "text": [
            "/root/RapidCFD\n"
          ]
        }
      ],
      "source": [
        "%cd RapidCFD"
      ]
    },
    {
      "cell_type": "markdown",
      "metadata": {
        "id": "dk5Zeg5ssbVD"
      },
      "source": [
        "### RapidCFDのアーカイブ・ファイルの展開"
      ]
    },
    {
      "cell_type": "code",
      "execution_count": null,
      "metadata": {
        "id": "JDZD8uEPYe-h"
      },
      "outputs": [],
      "source": [
        "!tar xf /content/drive/MyDrive/hpc-training-gpu-2023/RapidCFD-dev.tar.xz"
      ]
    },
    {
      "cell_type": "markdown",
      "metadata": {
        "id": "4vSfWb43YUK1"
      },
      "source": [
        "### 単精度版バイナリのアーカイブ・ファイルの展開"
      ]
    },
    {
      "cell_type": "code",
      "execution_count": null,
      "metadata": {
        "id": "s2XNNLRK_oaP"
      },
      "outputs": [],
      "source": [
        "!tar xf /content/drive/MyDrive/hpc-training-gpu-2023/RapidCFD-dev_linux64NvccSPOpt.tar.xz"
      ]
    },
    {
      "cell_type": "markdown",
      "metadata": {
        "id": "tnIJPAHBtWdA"
      },
      "source": [
        "### 倍精度版icoFoamソルバの動作テスト\n"
      ]
    },
    {
      "cell_type": "code",
      "execution_count": null,
      "metadata": {
        "colab": {
          "base_uri": "https://localhost:8080/"
        },
        "id": "wy7I5Vx1szGu",
        "outputId": "cf852b4e-4392-4438-ee8f-4c847c5f2517"
      },
      "outputs": [
        {
          "output_type": "stream",
          "name": "stdout",
          "text": [
            "\n",
            "Usage: icoFoam [OPTIONS]\n",
            "options:\n",
            "  -case <dir>       specify alternate case directory, default is the cwd\n",
            "  -device <devID>   use specified device\n",
            "  -devices <(devID1 .. devIDN)>\n",
            "                    assign device to each processor\n",
            "  -noFunctionObjects\n",
            "                    do not execute functionObjects\n",
            "  -parallel         run in parallel\n",
            "  -roots <(dir1 .. dirN)>\n",
            "                    slave root directories for distributed running\n",
            "  -srcDoc           display source code in browser\n",
            "  -doc              display application documentation in browser\n",
            "  -help             print the usage\n",
            "\n",
            "Using: OpenFOAM-dev (see www.OpenFOAM.org)\n",
            "Build: dev-5b41d2ecee8e\n",
            "\n"
          ]
        }
      ],
      "source": [
        "!source /root/RapidCFD/RapidCFD-dev/etc/bashrc;icoFoam -help"
      ]
    },
    {
      "cell_type": "markdown",
      "metadata": {
        "id": "pN0EkdQAzuqE"
      },
      "source": [
        "icoFoamのヘルプ(Usage)が出力されることを確認してください。\n",
        "\n",
        "標準のOpenFOAMの`icoFoam`と異なり、`-device`や`-devices` オプションがありますが、これは使用するGPUのIDを指定するオプションです。\n",
        "\n",
        "今回ラインタイムのGPUは1つなので、これらのオプションは指定しません。"
      ]
    },
    {
      "cell_type": "markdown",
      "metadata": {
        "id": "filiWFnMYzpt"
      },
      "source": [
        "### 単精度版icoFoamソルバの動作テスト\n",
        "単精度版のRapidCFDのソルバを動作させるには、環境設定時に`WM_PRECISION_OPTION=SP`を指定します。\n",
        "\n",
        "もちろん、 /root/RapidCFD/RapidCFD-dev/etc/bashrc における `WM_PRECISION_OPTION`の設定行を直接変更しても良いのですが、普段使用しない設定については、環境設定時に直接変数を指定するほうが便利です。"
      ]
    },
    {
      "cell_type": "code",
      "execution_count": null,
      "metadata": {
        "colab": {
          "base_uri": "https://localhost:8080/"
        },
        "id": "H7s9Xo50ZMBE",
        "outputId": "fdd4315f-8467-42f8-9cd3-56d222febcf0"
      },
      "outputs": [
        {
          "output_type": "stream",
          "name": "stdout",
          "text": [
            "\n",
            "Usage: icoFoam [OPTIONS]\n",
            "options:\n",
            "  -case <dir>       specify alternate case directory, default is the cwd\n",
            "  -device <devID>   use specified device\n",
            "  -devices <(devID1 .. devIDN)>\n",
            "                    assign device to each processor\n",
            "  -noFunctionObjects\n",
            "                    do not execute functionObjects\n",
            "  -parallel         run in parallel\n",
            "  -roots <(dir1 .. dirN)>\n",
            "                    slave root directories for distributed running\n",
            "  -srcDoc           display source code in browser\n",
            "  -doc              display application documentation in browser\n",
            "  -help             print the usage\n",
            "\n",
            "Using: OpenFOAM-dev (see www.OpenFOAM.org)\n",
            "Build: dev-5b41d2ecee8e\n",
            "\n"
          ]
        }
      ],
      "source": [
        "!source /root/RapidCFD/RapidCFD-dev/etc/bashrc WM_PRECISION_OPTION=SP;icoFoam -help"
      ]
    },
    {
      "cell_type": "markdown",
      "metadata": {
        "id": "mJOE6lEJz9qr"
      },
      "source": [
        "icoFoamのヘルプ(Usage)が出力されることを確認してください。"
      ]
    },
    {
      "cell_type": "markdown",
      "metadata": {
        "id": "s0kino5RARUH"
      },
      "source": [
        "## キャビティベンチマークケースSの実行\n"
      ]
    },
    {
      "cell_type": "markdown",
      "metadata": {
        "id": "TXFQiy4GAXJ0"
      },
      "source": [
        "### ケースディレクトリへの移動"
      ]
    },
    {
      "cell_type": "code",
      "execution_count": null,
      "metadata": {
        "colab": {
          "base_uri": "https://localhost:8080/"
        },
        "id": "-FvsviQeAaPw",
        "outputId": "a3d3430a-2ebf-4422-cf33-d1d1e1be79b2"
      },
      "outputs": [
        {
          "output_type": "stream",
          "name": "stdout",
          "text": [
            "/content/drive/MyDrive/hpc-training-gpu-2023/hpc/Lid_driven_cavity-3d/S\n"
          ]
        }
      ],
      "source": [
        "%cd /content/drive/MyDrive/hpc-training-gpu-2023/hpc/Lid_driven_cavity-3d/S"
      ]
    },
    {
      "cell_type": "markdown",
      "metadata": {
        "id": "6yIe8NtHCkIp"
      },
      "source": [
        "### GPUでのRapidCFD版icoFoamソルバの実行(ケースS-RapidCFD)\n"
      ]
    },
    {
      "cell_type": "markdown",
      "metadata": {
        "id": "ZL5lX0VVAd9B"
      },
      "source": [
        "#### ケースファイル修正\n",
        " HPC TC委員会のベンチマークテストはOpenFOAM-v2006以降の新しいバージョン用であり、OpenFOAM-2.3.1をGPU向けに移植したRapicCFDでは実行できないので、ここではRapidCFDでも実行できるように設定を変更します。\n",
        "\n",
        "また、短時間で実行できるように、2ステップのみ実行するように変更します。\n",
        "\n",
        "なお、本ランタイムの再接続時など、既に設定が変更されている場合に備え、`git checkout`でオリジナルのファイルをチェックアウトしてから変更します。"
      ]
    },
    {
      "cell_type": "code",
      "execution_count": null,
      "metadata": {
        "colab": {
          "base_uri": "https://localhost:8080/"
        },
        "id": "Zqk7O8ffAhlS",
        "outputId": "c7622723-b279-4320-eb73-eb0693b78729"
      },
      "outputs": [
        {
          "output_type": "stream",
          "name": "stdout",
          "text": [
            "Updated 3 paths from the index\n",
            "==> constant/transportProperties <==\n",
            "/*--------------------------------*- C++ -*----------------------------------*\\\n",
            "| =========                 |                                                 |\n",
            "| \\\\      /  F ield         | OpenFOAM: The Open Source CFD Toolbox           |\n",
            "|  \\\\    /   O peration     | Version:  v2006                                 |\n",
            "|   \\\\  /    A nd           | Website:  www.openfoam.com                      |\n",
            "|    \\\\/     M anipulation  |                                                 |\n",
            "\\*---------------------------------------------------------------------------*/\n",
            "FoamFile\n",
            "{\n",
            "    version     2.0;\n",
            "    format      ascii;\n",
            "    class       dictionary;\n",
            "    location    \"constant\";\n",
            "    object      transportProperties;\n",
            "}\n",
            "// * * * * * * * * * * * * * * * * * * * * * * * * * * * * * * * * * * * * * //\n",
            "\n",
            "nu nu              [0 2 -1 0 0 0 0] 0.01;\n",
            "\n",
            "// ************************************************************************* //\n",
            "\n",
            "==> system/controlDict <==\n",
            "/*--------------------------------*- C++ -*----------------------------------*\\\n",
            "| =========                 |                                                 |\n",
            "| \\\\      /  F ield         | OpenFOAM: The Open Source CFD Toolbox           |\n",
            "|  \\\\    /   O peration     | Version:  v2006                                 |\n",
            "|   \\\\  /    A nd           | Website:  www.openfoam.com                      |\n",
            "|    \\\\/     M anipulation  |                                                 |\n",
            "\\*---------------------------------------------------------------------------*/\n",
            "FoamFile\n",
            "{\n",
            "    version     2.0;\n",
            "    format      ascii;\n",
            "    class       dictionary;\n",
            "    location    \"system\";\n",
            "    object      controlDict;\n",
            "}\n",
            "// * * * * * * * * * * * * * * * * * * * * * * * * * * * * * * * * * * * * * //\n",
            "\n",
            "//libs            (petscFoam);\n",
            "\n",
            "application     icoFoam;\n",
            "\n",
            "startFrom       startTime;\n",
            "\n",
            "startTime       0;\n",
            "\n",
            "stopAt          endTime;\n",
            "\n",
            "endTime  0.002;\n",
            "\n",
            "deltaT          0.001;\n",
            "\n",
            "writeControl    timeStep;\n",
            "\n",
            "writeInterval   10000;\n",
            "\n",
            "purgeWrite      0;\n",
            "\n",
            "writeFormat     ascii;\n",
            "\n",
            "writePrecision  6;\n",
            "\n",
            "writeCompression off;\n",
            "\n",
            "timeFormat      general;\n",
            "\n",
            "timePrecision   6;\n",
            "\n",
            "runTimeModifiable true;\n",
            "\n",
            "functions\n",
            "{\n",
            "//    #includeFunc  solverInfo\n",
            "    // #includeFunc  residuals\n",
            "}\n",
            "\n",
            "// ************************************************************************* //\n",
            "\n",
            "==> system/fvSchemes <==\n",
            "/*--------------------------------*- C++ -*----------------------------------*\\\n",
            "| =========                 |                                                 |\n",
            "| \\\\      /  F ield         | OpenFOAM: The Open Source CFD Toolbox           |\n",
            "|  \\\\    /   O peration     | Version:  v2006                                 |\n",
            "|   \\\\  /    A nd           | Website:  www.openfoam.com                      |\n",
            "|    \\\\/     M anipulation  |                                                 |\n",
            "\\*---------------------------------------------------------------------------*/\n",
            "FoamFile\n",
            "{\n",
            "    version     2.0;\n",
            "    format      ascii;\n",
            "    class       dictionary;\n",
            "    location    \"system\";\n",
            "    object      fvSchemes;\n",
            "}\n",
            "// * * * * * * * * * * * * * * * * * * * * * * * * * * * * * * * * * * * * * //\n",
            "\n",
            "ddtSchemes\n",
            "{\n",
            "    default         Euler;\n",
            "}\n",
            "\n",
            "gradSchemes\n",
            "{\n",
            "    default         Gauss linear;\n",
            "    grad(p)         Gauss linear;\n",
            "}\n",
            "\n",
            "divSchemes\n",
            "{\n",
            "    default         none;\n",
            "    div(phi,U)      Gauss linear;\n",
            "}\n",
            "\n",
            "laplacianSchemes\n",
            "{\n",
            "    default         Gauss linear orthogonal;\n",
            "}\n",
            "\n",
            "interpolationSchemes\n",
            "{\n",
            "    default         linear;\n",
            "}\n",
            "\n",
            "snGradSchemes\n",
            "{\n",
            "    default         orthogonal;\n",
            "}\n",
            "\n",
            "\n",
            "// ************************************************************************* //\n",
            "fluxRequired {default no;p;}\n",
            "\n",
            "==> system/fvSolution.S-RapidCFD <==\n",
            "/*--------------------------------*- C++ -*----------------------------------*\\\n",
            "| =========                 |                                                 |\n",
            "| \\\\      /  F ield         | OpenFOAM: The Open Source CFD Toolbox           |\n",
            "|  \\\\    /   O peration     | Version:  v2006                                 |\n",
            "|   \\\\  /    A nd           | Website:  www.openfoam.com                      |\n",
            "|    \\\\/     M anipulation  |                                                 |\n",
            "\\*---------------------------------------------------------------------------*/\n",
            "FoamFile\n",
            "{\n",
            "    version     2.0;\n",
            "    format      ascii;\n",
            "    class       dictionary;\n",
            "    location    \"system\";\n",
            "    object      fvSolution;\n",
            "}\n",
            "// * * * * * * * * * * * * * * * * * * * * * * * * * * * * * * * * * * * * * //\n",
            "\n",
            "solvers\n",
            "{\n",
            "    p\n",
            "    {\n",
            "        solver          PCG;\n",
            "        preconditioner  DIC;\n",
            "        tolerance       1e-04;\n",
            "        relTol          0;\n",
            "        maxIter         3000;\n",
            "    }\n",
            "\n",
            "    pFinal\n",
            "    {\n",
            "        $p;\n",
            "        relTol          0;\n",
            "    }\n",
            "\n",
            "    U\n",
            "    {\n",
            "        solver          PBiCG;\n",
            "        preconditioner  DILU;\n",
            "        tolerance       0;\n",
            "        relTol          0;\n",
            "        maxIter         5;\n",
            "    }\n",
            "}\n",
            "\n",
            "PISO\n",
            "{\n",
            "    nCorrectors     2;\n",
            "    nNonOrthogonalCorrectors 0;\n",
            "    pRefCell        0;\n",
            "    pRefValue       0;\n",
            "}\n",
            "\n",
            "\n",
            "// ************************************************************************* //\n"
          ]
        }
      ],
      "source": [
        "!case=S-RapidCFD;\\\n",
        "git checkout system/controlDict system/fvSchemes constant/transportProperties;\\\n",
        "sed -i -e 's|^\\( *#includeFunc\\)|//\\1|' -e 's|\\(endTime \\).*|\\1 0.002;|' system/controlDict;\\\n",
        "echo 'fluxRequired {default no;p;}' >> system/fvSchemes;\\\n",
        "sed -i s/'^\\(nu\\s*\\[\\)'/'nu \\1'/ constant/transportProperties;\\\n",
        "sed s/PBiCGStab/PBiCG/ system/fvSolution.fixedNORM > system/fvSolution.$case;\\\n",
        "tail -n+1 constant/transportProperties system/{controlDict,fvSchemes,fvSolution.$case}"
      ]
    },
    {
      "cell_type": "markdown",
      "metadata": {
        "id": "gKAYXJnzXWT7"
      },
      "source": [
        "#### 倍精度版icoFoamソルバの実行"
      ]
    },
    {
      "cell_type": "code",
      "execution_count": null,
      "metadata": {
        "colab": {
          "base_uri": "https://localhost:8080/"
        },
        "id": "u2xcM46uCmXY",
        "outputId": "8e251e0b-353e-4f98-cb34-4dbae362b869"
      },
      "outputs": [
        {
          "output_type": "stream",
          "name": "stdout",
          "text": [
            "/*---------------------------------------------------------------------------*\\\n",
            "| RapidCFD by simFlow (sim-flow.com)                                          |\n",
            "\\*---------------------------------------------------------------------------*/\n",
            "Build  : dev-5b41d2ecee8e\n",
            "Exec   : icoFoam\n",
            "Date   : Sep 08 2023\n",
            "Time   : 09:19:08\n",
            "Host   : \"fa75ae8ec3df\"\n",
            "PID    : 4499\n",
            "Case   : /content/drive/MyDrive/hpc-training-gpu-2023/hpc/Lid_driven_cavity-3d/S\n",
            "nProcs : 1\n",
            "sigFpe : Floating point exception trapping - not supported on this platform\n",
            "fileModificationChecking : Monitoring run-time modified files using timeStampMaster\n",
            "allowSystemOperations : Allowing user-supplied system call operations\n",
            "\n",
            "// * * * * * * * * * * * * * * * * * * * * * * * * * * * * * * * * * * * * * //\n",
            "Create time\n",
            "\n",
            "Create mesh for time = 0\n",
            "\n",
            "Reading transportProperties\n",
            "\n",
            "Reading field p\n",
            "\n",
            "Reading field U\n",
            "\n",
            "Reading/calculating face flux field phi\n",
            "\n",
            "\n",
            "Starting time loop\n",
            "\n",
            "Time = 0.001\n",
            "\n",
            "Courant Number mean: 0 max: 0\n",
            "AINVPBiCG:  Solving for Ux, Initial residual = 1, Final residual = 0.0644807, No Iterations 6\n",
            "AINVPBiCG:  Solving for Uy:  solution singularity\n",
            "AINVPBiCG:  Solving for Uz:  solution singularity\n",
            "AINVPCG:  Solving for p, Initial residual = 1, Final residual = 9.31051e-05, No Iterations 387\n",
            "time step continuity errors : sum local = 4.67521e-08, global = 1.05298e-22, cumulative = 1.05298e-22\n",
            "AINVPCG:  Solving for p, Initial residual = 0.759095, Final residual = 8.96173e-05, No Iterations 384\n",
            "time step continuity errors : sum local = 5.84491e-08, global = -3.19346e-21, cumulative = -3.08816e-21\n",
            "ExecutionTime = 7.61 s  ClockTime = 11 s\n",
            "\n",
            "Time = 0.002\n",
            "\n",
            "Courant Number mean: 0.0527779 max: 0.80761\n",
            "AINVPBiCG:  Solving for Ux, Initial residual = 0.134372, Final residual = 0.0212721, No Iterations 6\n",
            "AINVPBiCG:  Solving for Uy, Initial residual = 0.433705, Final residual = 0.0699357, No Iterations 6\n",
            "AINVPBiCG:  Solving for Uz, Initial residual = 0.98873, Final residual = 0.13546, No Iterations 6\n",
            "AINVPCG:  Solving for p, Initial residual = 0.813935, Final residual = 9.02287e-05, No Iterations 382\n",
            "time step continuity errors : sum local = 9.92005e-08, global = 1.00693e-20, cumulative = 6.98111e-21\n",
            "AINVPCG:  Solving for p, Initial residual = 0.754055, Final residual = 9.02361e-05, No Iterations 381\n",
            "time step continuity errors : sum local = 1.00823e-07, global = -2.91111e-21, cumulative = 4.07e-21\n",
            "ExecutionTime = 8.92 s  ClockTime = 12 s\n",
            "\n",
            "End\n",
            "\n",
            "\n",
            "real\t0m13.064s\n",
            "user\t0m8.881s\n",
            "sys\t0m0.811s\n"
          ]
        }
      ],
      "source": [
        "!case=S-RapidCFD;\\\n",
        "cp system/fvSolution.$case system/fvSolution;\\\n",
        "source /root/RapidCFD/RapidCFD-dev/etc/bashrc;\\\n",
        "time icoFoam 2>&1 | tee log.icoFoam.$case"
      ]
    },
    {
      "cell_type": "markdown",
      "metadata": {
        "id": "rNNYbGh3EL7k"
      },
      "source": [
        "線形ソルバの前処理として、速度に対してはDILU(Diagonal-based Incomplete Lower-Upper)分解法が、圧力に対してはDIC(Diagonal-based Incomplete Cholesky)分解法が指定されているのにもかかわらず、 RapidCFDのソルバでのログでは、そのどちらもAINVになっていますが、これはRapidCFDがDILUやDICを実装しておらず、GPUでの実装が容易な前処理であるAINV(Approximate INVerse)法を強制的に用いるからです。\n",
        "* DILU preconditioner https://www.openfoam.com/documentation/guides/latest/doc/guide-solvers-cg-preconditioner-dilu.html\n",
        "\n",
        "* DIC preconditioner https://www.openfoam.com/documentation/guides/latest/doc/guide-solvers-cg-preconditioner-dic.html\n",
        "\n",
        "* Labutin, Ilya B and Surodina, Irina V: Algorithm for Sparse Approximate Inverse Preconditioners in the Conjugate Gradient Method, Reliable Computing, vol.19, 2013 https://hgpu.org/?p=11066\n",
        "\n",
        "* RapidCFD-dev/src/OpenFOAM/matrices/lduMatrix/preconditioners/DILUPreconditioner/DILUPreconditioner.C https://github.com/SimFlowCFD/RapidCFD-dev/blob/9fc614f4e816c51e5a718a1349cea9d72864042e/src/OpenFOAM/matrices/lduMatrix/preconditioners/DILUPreconditioner/DILUPreconditioner.C\n",
        "  * *`Info<<\"Using AINV preconditioner instead of DILU.\"<<endl;`*\n",
        "\n",
        "* RapidCFD-dev/src/OpenFOAM/matrices/lduMatrix/preconditioners/DICPreconditioner/DICPreconditioner.C https://github.com/SimFlowCFD/RapidCFD-dev/blob/9fc614f4e816c51e5a718a1349cea9d72864042e/src/OpenFOAM/matrices/lduMatrix/preconditioners/DICPreconditioner/DICPreconditioner.C\n",
        "  * *`Info<<\"Using AINV preconditioner instead of DIC.\"<<endl;`*"
      ]
    },
    {
      "cell_type": "markdown",
      "metadata": {
        "id": "I6uA1JVsPjb6"
      },
      "source": [
        "#### 単精度版icoFoamソルバの実行\n"
      ]
    },
    {
      "cell_type": "code",
      "execution_count": null,
      "metadata": {
        "colab": {
          "base_uri": "https://localhost:8080/"
        },
        "id": "ymJAQio6PjcJ",
        "outputId": "5dabda2c-dacc-4452-c6d9-0ebd958c1215"
      },
      "outputs": [
        {
          "output_type": "stream",
          "name": "stdout",
          "text": [
            "/*---------------------------------------------------------------------------*\\\n",
            "| RapidCFD by simFlow (sim-flow.com)                                          |\n",
            "\\*---------------------------------------------------------------------------*/\n",
            "Build  : dev-5b41d2ecee8e\n",
            "Exec   : icoFoam\n",
            "Date   : Sep 08 2023\n",
            "Time   : 09:20:24\n",
            "Host   : \"fa75ae8ec3df\"\n",
            "PID    : 4928\n",
            "Case   : /content/drive/MyDrive/hpc-training-gpu-2023/hpc/Lid_driven_cavity-3d/S\n",
            "nProcs : 1\n",
            "sigFpe : Floating point exception trapping - not supported on this platform\n",
            "fileModificationChecking : Monitoring run-time modified files using timeStampMaster\n",
            "allowSystemOperations : Allowing user-supplied system call operations\n",
            "\n",
            "// * * * * * * * * * * * * * * * * * * * * * * * * * * * * * * * * * * * * * //\n",
            "Create time\n",
            "\n",
            "Create mesh for time = 0\n",
            "\n",
            "Reading transportProperties\n",
            "\n",
            "Reading field p\n",
            "\n",
            "Reading field U\n",
            "\n",
            "Reading/calculating face flux field phi\n",
            "\n",
            "\n",
            "Starting time loop\n",
            "\n",
            "Time = 0.001\n",
            "\n",
            "Courant Number mean: 0 max: 0\n",
            "AINVPBiCG:  Solving for Ux, Initial residual = 1, Final residual = 0.0644807, No Iterations 6\n",
            "AINVPBiCG:  Solving for Uy:  solution singularity\n",
            "AINVPBiCG:  Solving for Uz:  solution singularity\n",
            "AINVPCG:  Solving for p, Initial residual = 1, Final residual = 9.31445e-05, No Iterations 387\n",
            "time step continuity errors : sum local = 1.53889e-06, global = 2.0558e-12, cumulative = 2.0558e-12\n",
            "AINVPCG:  Solving for p, Initial residual = 0.7583, Final residual = 8.94551e-05, No Iterations 384\n",
            "time step continuity errors : sum local = 8.64079e-07, global = -4.17726e-12, cumulative = -2.12146e-12\n",
            "ExecutionTime = 6.06 s  ClockTime = 6 s\n",
            "\n",
            "Time = 0.002\n",
            "\n",
            "Courant Number mean: 0.0527779 max: 0.807614\n",
            "AINVPBiCG:  Solving for Ux, Initial residual = 0.134371, Final residual = 0.0212718, No Iterations 6\n",
            "AINVPBiCG:  Solving for Uy, Initial residual = 0.433703, Final residual = 0.0699354, No Iterations 6\n",
            "AINVPBiCG:  Solving for Uz, Initial residual = 0.988321, Final residual = 0.135435, No Iterations 6\n",
            "AINVPCG:  Solving for p, Initial residual = 0.813717, Final residual = 9.01127e-05, No Iterations 382\n",
            "time step continuity errors : sum local = 9.65401e-07, global = 7.1912e-12, cumulative = 5.06974e-12\n",
            "AINVPCG:  Solving for p, Initial residual = 0.754272, Final residual = 9.01715e-05, No Iterations 381\n",
            "time step continuity errors : sum local = 4.33584e-07, global = -3.62775e-12, cumulative = 1.44198e-12\n",
            "ExecutionTime = 6.91 s  ClockTime = 7 s\n",
            "\n",
            "End\n",
            "\n",
            "\n",
            "real\t0m8.019s\n",
            "user\t0m7.052s\n",
            "sys\t0m0.650s\n"
          ]
        }
      ],
      "source": [
        "!case=S-RapidCFD;\\\n",
        "cp system/fvSolution.$case system/fvSolution;\\\n",
        "source /root/RapidCFD/RapidCFD-dev/etc/bashrc WM_PRECISION_OPTION=SP;\\\n",
        "time icoFoam 2>&1 | tee log.icoFoam.$case.SP"
      ]
    },
    {
      "cell_type": "markdown",
      "metadata": {
        "id": "U7H4hOLuTENU"
      },
      "source": [
        "#### 倍精度版ソルバに対する単精度版ソルバの加速率\n"
      ]
    },
    {
      "cell_type": "code",
      "execution_count": null,
      "metadata": {
        "colab": {
          "base_uri": "https://localhost:8080/"
        },
        "id": "uOKuhTZpTENi",
        "outputId": "c0468989-8e2a-4761-d12e-399fecd250a0"
      },
      "outputs": [
        {
          "output_type": "stream",
          "name": "stdout",
          "text": [
            "Speedup of single-precision solver compared to double-precision solver:  1.54118\n"
          ]
        }
      ],
      "source": [
        "!case=S-RapidCFD;\\\n",
        "awk 'BEGIN {n=0} /ExecutionTime/ {t[n]=$3;n++} END {print \"Speedup of single-precision solver compared to double-precision solver: \",(t[1]-t[0])/(t[3]-t[2])}' log.icoFoam.$case log.icoFoam.$case.SP"
      ]
    },
    {
      "cell_type": "markdown",
      "metadata": {
        "id": "265iJ3UzUECL"
      },
      "source": [
        "単精度は倍精度に比べて、線形ソルバの収束性が一般的に悪化するので、反復回数が大きく増えて実行時間が遅くなる場合もありますが、線形ソルバの反復回数が同程度の場合には、単精度のほうが通常実行が速くなります。\n",
        "\n",
        "ただし、CPUでは倍精度版ソルバを用いているので、以降では倍精度版の実行時間を解析します。"
      ]
    },
    {
      "cell_type": "markdown",
      "metadata": {
        "id": "KkiB_70E0iQr"
      },
      "source": [
        "#### 倍精度版での毎ステップの実行時間"
      ]
    },
    {
      "cell_type": "code",
      "execution_count": null,
      "metadata": {
        "colab": {
          "base_uri": "https://localhost:8080/"
        },
        "id": "udEOpitXCrHy",
        "outputId": "743eb2b3-0e94-427b-e4cf-1b161fa9d1cb"
      },
      "outputs": [
        {
          "output_type": "stream",
          "name": "stdout",
          "text": [
            "ExecutionTime = 7.61 s  ClockTime = 11 s\n",
            "ExecutionTime = 8.92 s  ClockTime = 12 s\n"
          ]
        }
      ],
      "source": [
        "!case=S-RapidCFD;\\\n",
        "grep ExecutionTime log.icoFoam.$case"
      ]
    },
    {
      "cell_type": "markdown",
      "metadata": {
        "id": "QxtaFBCJ0wZX"
      },
      "source": [
        "#### 倍精度版での1ステップの実行時間"
      ]
    },
    {
      "cell_type": "code",
      "execution_count": null,
      "metadata": {
        "colab": {
          "base_uri": "https://localhost:8080/"
        },
        "id": "euj7LMNdC4wc",
        "outputId": "200c6c7b-0aab-44e0-b5cf-fe332e8543f2"
      },
      "outputs": [
        {
          "output_type": "stream",
          "name": "stdout",
          "text": [
            "Execution time for one timestep:  1.31\n"
          ]
        }
      ],
      "source": [
        "!case=S-RapidCFD;\\\n",
        "awk 'BEGIN {n=0} /ExecutionTime/ {t[n]=$3;n++} END {print \"Execution time for one timestep: \",t[1]-t[0]}' log.icoFoam.$case"
      ]
    },
    {
      "cell_type": "markdown",
      "metadata": {
        "id": "290NbtDU1PIB"
      },
      "source": [
        "#### CPUのみを用いるOpenFOAM版icoFoamに対するGPUを併用するRapidCFD版icoFoamの加速率\n",
        "なお、以下を実行するには、予めOpenFOAM版icoFoamを実行して、ログファイルlog.icoFoam.cpuが保存されている必要があります。"
      ]
    },
    {
      "cell_type": "code",
      "execution_count": null,
      "metadata": {
        "colab": {
          "base_uri": "https://localhost:8080/"
        },
        "id": "yaWnlKzhDAtW",
        "outputId": "e4260692-b006-4337-8fc4-80d86ddb49f5"
      },
      "outputs": [
        {
          "output_type": "stream",
          "name": "stdout",
          "text": [
            "Speedup of RapidCFD version icoFoam with GPU compared to OpenFOAM version icoFoam with CPU only:  16.5115\n"
          ]
        }
      ],
      "source": [
        "!case=S-RapidCFD;\\\n",
        "awk 'BEGIN {n=0} /ExecutionTime/ {t[n]=$3;n++} END {print \"Speedup of RapidCFD version icoFoam with GPU compared to OpenFOAM version icoFoam with CPU only: \",(t[1]-t[0])/(t[3]-t[2])}' log.icoFoam.cpu log.icoFoam.$case"
      ]
    },
    {
      "cell_type": "markdown",
      "metadata": {
        "id": "Ifpo1xqmW95-"
      },
      "source": [
        "加速率は約16となりました**(加速率は割当てられたCPUやGPUによって異なります)**。"
      ]
    },
    {
      "cell_type": "markdown",
      "metadata": {
        "id": "P3auWke8F003"
      },
      "source": [
        "#### GPUでのRapidCFD版icoFoamソルバのプロファイリング\n",
        "ホットスポット(時間がかかっている部分)を割り出すために、プロファイラ経由でソルバを実行します。\n",
        "なお、新しいプロファイラであるnSightは標準ではインストールされていないので、\n",
        "標準でインストールされているレガシーなプロファイラである`nvprof`を用います。\n",
        "\n",
        "* Profiler User’s Guide https://docs.nvidia.com/cuda/profiler-users-guide/index.html\n",
        "* NVIDIA Nsight Systems user guide. https://docs.nvidia.com/nsight-systems/UserGuide/index.html\n",
        "* CUDAプログラミングをGoogle Colabで行う。 https://qiita.com/sakaia/items/3082752b5cfcc19537eb"
      ]
    },
    {
      "cell_type": "code",
      "execution_count": null,
      "metadata": {
        "colab": {
          "base_uri": "https://localhost:8080/"
        },
        "id": "am0st4oTF4yA",
        "outputId": "132cf16c-40c0-4270-957c-b15c56f87abc"
      },
      "outputs": [
        {
          "output_type": "stream",
          "name": "stdout",
          "text": [
            "==7581== NVPROF is profiling process 7581, command: icoFoam\n",
            "/*---------------------------------------------------------------------------*\\\n",
            "| RapidCFD by simFlow (sim-flow.com)                                          |\n",
            "\\*---------------------------------------------------------------------------*/\n",
            "Build  : dev-5b41d2ecee8e\n",
            "Exec   : icoFoam\n",
            "Date   : Sep 08 2023\n",
            "Time   : 09:30:02\n",
            "Host   : \"fa75ae8ec3df\"\n",
            "PID    : 7581\n",
            "Case   : /content/drive/MyDrive/hpc-training-gpu-2023/hpc/Lid_driven_cavity-3d/S\n",
            "nProcs : 1\n",
            "sigFpe : Floating point exception trapping - not supported on this platform\n",
            "fileModificationChecking : Monitoring run-time modified files using timeStampMaster\n",
            "allowSystemOperations : Allowing user-supplied system call operations\n",
            "\n",
            "// * * * * * * * * * * * * * * * * * * * * * * * * * * * * * * * * * * * * * //\n",
            "Create time\n",
            "\n",
            "Create mesh for time = 0\n",
            "\n",
            "Reading transportProperties\n",
            "\n",
            "Reading field p\n",
            "\n",
            "Reading field U\n",
            "\n",
            "Reading/calculating face flux field phi\n",
            "\n",
            "\n",
            "Starting time loop\n",
            "\n",
            "Time = 0.001\n",
            "\n",
            "Courant Number mean: 0 max: 0\n",
            "AINVPBiCG:  Solving for Ux, Initial residual = 1, Final residual = 0.0644807, No Iterations 6\n",
            "AINVPBiCG:  Solving for Uy:  solution singularity\n",
            "AINVPBiCG:  Solving for Uz:  solution singularity\n",
            "AINVPCG:  Solving for p, Initial residual = 1, Final residual = 9.31051e-05, No Iterations 387\n",
            "time step continuity errors : sum local = 4.67521e-08, global = 1.05298e-22, cumulative = 1.05298e-22\n",
            "AINVPCG:  Solving for p, Initial residual = 0.759095, Final residual = 8.96173e-05, No Iterations 384\n",
            "time step continuity errors : sum local = 5.84491e-08, global = -3.19346e-21, cumulative = -3.08816e-21\n",
            "ExecutionTime = 6.86 s  ClockTime = 7 s\n",
            "\n",
            "Time = 0.002\n",
            "\n",
            "Courant Number mean: 0.0527779 max: 0.80761\n",
            "AINVPBiCG:  Solving for Ux, Initial residual = 0.134372, Final residual = 0.0212721, No Iterations 6\n",
            "AINVPBiCG:  Solving for Uy, Initial residual = 0.433705, Final residual = 0.0699357, No Iterations 6\n",
            "AINVPBiCG:  Solving for Uz, Initial residual = 0.98873, Final residual = 0.13546, No Iterations 6\n",
            "AINVPCG:  Solving for p, Initial residual = 0.813935, Final residual = 9.02287e-05, No Iterations 382\n",
            "time step continuity errors : sum local = 9.92005e-08, global = 1.00693e-20, cumulative = 6.98111e-21\n",
            "AINVPCG:  Solving for p, Initial residual = 0.754055, Final residual = 9.02361e-05, No Iterations 381\n",
            "time step continuity errors : sum local = 1.00823e-07, global = -2.91111e-21, cumulative = 4.07e-21\n",
            "ExecutionTime = 9.46 s  ClockTime = 10 s\n",
            "\n",
            "End\n",
            "\n",
            "==7581== Profiling application: icoFoam\n",
            "==7581== Profiling result:\n",
            "            Type  Time(%)      Time     Calls       Avg       Min       Max  Name\n",
            " GPU activities:   30.32%  732.50ms      1602  457.24us  449.31us  531.87us  void thrust::cuda_cub::core::_kernel_agent<thrust::cuda_cub::__parallel_for::ParallelForAgent<thrust::cuda_cub::__transform::unary_transform_f<thrust::counting_iterator<int, thrust::use_default, thrust::use_default, thrust::use_default>, thrust::device_ptr<double>, thrust::cuda_cub::__transform::no_stencil_tag, Foam::matrixMultiplyFunctor<bool=1, int=3>, thrust::cuda_cub::__transform::always_true_predicate>, long>, thrust::cuda_cub::__transform::unary_transform_f<thrust::counting_iterator<int, thrust::use_default, thrust::use_default, thrust::use_default>, thrust::device_ptr<double>, thrust::cuda_cub::__transform::no_stencil_tag, Foam::matrixMultiplyFunctor<bool=1, int=3>, thrust::cuda_cub::__transform::always_true_predicate>, long>(thrust::use_default, thrust::use_default)\n",
            "                   30.15%  728.56ms      1586  459.37us  454.36us  668.19us  void thrust::cuda_cub::core::_kernel_agent<thrust::cuda_cub::__parallel_for::ParallelForAgent<thrust::cuda_cub::__transform::unary_transform_f<thrust::counting_iterator<int, thrust::use_default, thrust::use_default, thrust::use_default>, thrust::device_ptr<double>, thrust::cuda_cub::__transform::no_stencil_tag, Foam::AINVPreconditionerFunctor<bool=1, int=3>, thrust::cuda_cub::__transform::always_true_predicate>, long>, thrust::cuda_cub::__transform::unary_transform_f<thrust::counting_iterator<int, thrust::use_default, thrust::use_default, thrust::use_default>, thrust::device_ptr<double>, thrust::cuda_cub::__transform::no_stencil_tag, Foam::AINVPreconditionerFunctor<bool=1, int=3>, thrust::cuda_cub::__transform::always_true_predicate>, long>(thrust::use_default, thrust::use_default)\n",
            "                    8.75%  211.38ms      3120  67.749us  66.527us  76.127us  void cub::DeviceReduceKernel<cub::DeviceReducePolicy<double, double, int, thrust::plus<double>>::Policy600, thrust::transform_iterator<Foam::multiplyOperatorFunctor<double, double, double>, thrust::zip_iterator<thrust::tuple<thrust::device_ptr<double const >, thrust::device_ptr<double const >, thrust::null_type, thrust::null_type, thrust::null_type, thrust::null_type, thrust::null_type, thrust::null_type, thrust::null_type, thrust::null_type>>, thrust::use_default, thrust::use_default>, double*, int, thrust::plus<double>>(double, int, double, cub::GridEvenShare<int>, thrust::plus<double>)\n",
            "                    6.37%  153.81ms      1582  97.225us  95.263us  99.775us  void thrust::cuda_cub::core::_kernel_agent<thrust::cuda_cub::__parallel_for::ParallelForAgent<thrust::cuda_cub::__transform::binary_transform_f<thrust::device_ptr<double>, thrust::device_ptr<double>, thrust::device_ptr<double>, thrust::cuda_cub::__transform::no_stencil_tag, Foam::rAMinusAlphaWAFunctor, thrust::cuda_cub::__transform::always_true_predicate>, long>, thrust::cuda_cub::__transform::binary_transform_f<thrust::device_ptr<double>, thrust::device_ptr<double>, thrust::device_ptr<double>, thrust::cuda_cub::__transform::no_stencil_tag, Foam::rAMinusAlphaWAFunctor, thrust::cuda_cub::__transform::always_true_predicate>, long>(thrust::device_ptr<double>, thrust::device_ptr<double>)\n",
            "                    5.76%  139.13ms      1570  88.620us  87.072us  98.720us  void thrust::cuda_cub::core::_kernel_agent<thrust::cuda_cub::__parallel_for::ParallelForAgent<thrust::cuda_cub::__transform::binary_transform_f<thrust::device_ptr<double>, thrust::device_ptr<double>, thrust::device_ptr<double>, thrust::cuda_cub::__transform::no_stencil_tag, Foam::wAPlusBetaPAFunctor, thrust::cuda_cub::__transform::always_true_predicate>, long>, thrust::cuda_cub::__transform::binary_transform_f<thrust::device_ptr<double>, thrust::device_ptr<double>, thrust::device_ptr<double>, thrust::cuda_cub::__transform::no_stencil_tag, Foam::wAPlusBetaPAFunctor, thrust::cuda_cub::__transform::always_true_predicate>, long>(thrust::device_ptr<double>, thrust::device_ptr<double>)\n",
            "                    5.72%  138.30ms      1558  88.764us  87.327us  90.463us  void thrust::cuda_cub::core::_kernel_agent<thrust::cuda_cub::__parallel_for::ParallelForAgent<thrust::cuda_cub::__transform::binary_transform_f<thrust::device_ptr<double>, thrust::device_ptr<double>, thrust::device_ptr<double>, thrust::cuda_cub::__transform::no_stencil_tag, Foam::psiPlusAlphaPAFunctor, thrust::cuda_cub::__transform::always_true_predicate>, long>, thrust::cuda_cub::__transform::binary_transform_f<thrust::device_ptr<double>, thrust::device_ptr<double>, thrust::device_ptr<double>, thrust::cuda_cub::__transform::no_stencil_tag, Foam::psiPlusAlphaPAFunctor, thrust::cuda_cub::__transform::always_true_predicate>, long>(thrust::device_ptr<double>, thrust::device_ptr<double>)\n",
            "                    2.90%  69.982ms      1568  44.631us  33.792us  60.191us  void cub::DeviceReduceKernel<cub::DeviceReducePolicy<double, double, int, thrust::plus<double>>::Policy600, thrust::transform_iterator<Foam::magUnaryFunctionFunctor<double, double>, thrust::device_ptr<double const >, thrust::use_default, thrust::use_default>, double*, int, thrust::plus<double>>(double, int, double, cub::GridEvenShare<int>, thrust::plus<double>)\n",
            "                    2.10%  50.818ms        18  2.8232ms  1.0880us  18.066ms  [CUDA memcpy HtoD]\n",
            "                    0.80%  19.305ms      4732  4.0790us  3.4250us  13.247us  void cub::DeviceReduceSingleTileKernel<cub::DeviceReducePolicy<double, double, int, thrust::plus<double>>::Policy600, double*, double*, int, thrust::plus<double>, double>(double, int, double, thrust::plus<double>, cub::DeviceReducePolicy<double, double, int, thrust::plus<double>>::Policy600)\n",
            "                    0.56%  13.595ms       620  21.927us  2.1750us  113.31us  void thrust::cuda_cub::core::_kernel_agent<thrust::cuda_cub::__parallel_for::ParallelForAgent<thrust::cuda_cub::__uninitialized_fill::functor<thrust::device_ptr<double>, double>, long>, thrust::cuda_cub::__uninitialized_fill::functor<thrust::device_ptr<double>, double>, long>(thrust::device_ptr<double>, double)\n",
            "                    0.55%  13.260ms       198  66.970us  2.5270us  595.55us  void thrust::cuda_cub::core::_kernel_agent<thrust::cuda_cub::__parallel_for::ParallelForAgent<thrust::cuda_cub::__uninitialized_fill::functor<thrust::device_ptr<Foam::Vector<double>>, Foam::Vector<double>>, long>, thrust::cuda_cub::__uninitialized_fill::functor<thrust::device_ptr<Foam::Vector<double>>, Foam::Vector<double>>, long>(Foam::Vector<double>, thrust::device_ptr<Foam::Vector<double>>)\n",
            "                    0.35%  8.4798ms         6  1.4133ms  1.4089ms  1.4276ms  void thrust::cuda_cub::core::_kernel_agent<thrust::cuda_cub::__parallel_for::ParallelForAgent<thrust::cuda_cub::__transform::unary_transform_f<thrust::counting_iterator<int, thrust::use_default, thrust::use_default, thrust::use_default>, thrust::device_ptr<Foam::Vector<double>>, thrust::cuda_cub::__transform::no_stencil_tag, Foam::gaussGradFunctor<double, Foam::Vector<double>>, thrust::cuda_cub::__transform::always_true_predicate>, long>, thrust::cuda_cub::__transform::unary_transform_f<thrust::counting_iterator<int, thrust::use_default, thrust::use_default, thrust::use_default>, thrust::device_ptr<Foam::Vector<double>>, thrust::cuda_cub::__transform::no_stencil_tag, Foam::gaussGradFunctor<double, Foam::Vector<double>>, thrust::cuda_cub::__transform::always_true_predicate>, long>(thrust::use_default, thrust::use_default)\n",
            "                    0.33%  8.0134ms       235  34.099us  2.4960us  231.65us  void thrust::cuda_cub::core::_kernel_agent<thrust::cuda_cub::__parallel_for::ParallelForAgent<thrust::cuda_cub::__transform::unary_transform_f<thrust::device_ptr<double const >, thrust::device_ptr<double>, thrust::cuda_cub::__transform::no_stencil_tag, thrust::identity<double>, thrust::cuda_cub::__transform::always_true_predicate>, long>, thrust::cuda_cub::__transform::unary_transform_f<thrust::device_ptr<double const >, thrust::device_ptr<double>, thrust::cuda_cub::__transform::no_stencil_tag, thrust::identity<double>, thrust::cuda_cub::__transform::always_true_predicate>, long>(thrust::device_ptr<double const >, double)\n",
            "                    0.31%  7.5141ms        20  375.71us  50.207us  752.57us  void cub::DeviceRadixSortOnesweepKernel<cub::DeviceRadixSortPolicy<int, int, int>::Policy800, bool=0, int, int, int, int>(int*, int, bool=0*, int* const *, int*, int* const * const *, cub::DeviceRadixSortPolicy<int, int, int>::Policy800*, int* const * const * const *, int*, int, int)\n",
            "                    0.31%  7.4698ms         9  829.98us  816.09us  838.39us  void thrust::cuda_cub::core::_kernel_agent<thrust::cuda_cub::__parallel_for::ParallelForAgent<thrust::cuda_cub::__transform::unary_transform_f<thrust::zip_iterator<thrust::tuple<thrust::device_ptr<double const >, thrust::permutation_iterator<thrust::device_ptr<Foam::Vector<double> const >, thrust::device_ptr<int const >>, thrust::permutation_iterator<thrust::device_ptr<Foam::Vector<double> const >, thrust::device_ptr<int const >>, thrust::null_type, thrust::null_type, thrust::null_type, thrust::null_type, thrust::null_type, thrust::null_type, thrust::null_type>>, thrust::device_ptr<Foam::Vector<double>>, thrust::cuda_cub::__transform::no_stencil_tag, Foam::surfaceInterpolationSchemeInterpolateFunctor<Foam::Vector<double>>, thrust::cuda_cub::__transform::always_true_predicate>, long>, thrust::cuda_cub::__transform::unary_transform_f<thrust::zip_iterator<thrust::tuple<thrust::device_ptr<double const >, thrust::permutation_iterator<thrust::device_ptr<Foam::Vector<double> const >, thrust::device_ptr<int const >>, thrust::permutation_iterator<thrust::device_ptr<Foam::Vector<double> const >, thrust::device_ptr<int const >>, thrust::null_type, thrust::null_type, thrust::null_type, thrust::null_type, thrust::null_type, thrust::null_type, thrust::null_type>>, thrust::device_ptr<Foam::Vector<double>>, thrust::cuda_cub::__transform::no_stencil_tag, Foam::surfaceInterpolationSchemeInterpolateFunctor<Foam::Vector<double>>, thrust::cuda_cub::__transform::always_true_predicate>, long>(thrust::device_ptr<double const >, double)\n",
            "                    0.29%  6.9009ms        39  176.95us  4.5760us  830.39us  void thrust::cuda_cub::core::_kernel_agent<thrust::cuda_cub::__parallel_for::ParallelForAgent<thrust::cuda_cub::__transform::binary_transform_f<thrust::device_ptr<Foam::Vector<double> const >, thrust::device_ptr<Foam::Vector<double> const >, thrust::device_ptr<double>, thrust::cuda_cub::__transform::no_stencil_tag, Foam::dotOperatorFunctor<Foam::Vector<double>, Foam::Vector<double>, double>, thrust::cuda_cub::__transform::always_true_predicate>, long>, thrust::cuda_cub::__transform::binary_transform_f<thrust::device_ptr<Foam::Vector<double> const >, thrust::device_ptr<Foam::Vector<double> const >, thrust::device_ptr<double>, thrust::cuda_cub::__transform::no_stencil_tag, Foam::dotOperatorFunctor<Foam::Vector<double>, Foam::Vector<double>, double>, thrust::cuda_cub::__transform::always_true_predicate>, long>(Foam::Vector<double> const , thrust::device_ptr<Foam::Vector<double> const >)\n",
            "                    0.25%  6.0530ms      4770  1.2680us  1.1830us  2.6240us  [CUDA memcpy DtoH]\n",
            "                    0.22%  5.3559ms        18  297.55us  291.23us  304.13us  void thrust::cuda_cub::core::_kernel_agent<thrust::cuda_cub::__parallel_for::ParallelForAgent<thrust::cuda_cub::__transform::binary_transform_f<thrust::device_ptr<Foam::Vector<double>>, thrust::device_ptr<double const >, thrust::device_ptr<Foam::Vector<double>>, thrust::cuda_cub::__transform::no_stencil_tag, Foam::replaceComponentFunctor<Foam::Vector<double>, double>, thrust::cuda_cub::__transform::always_true_predicate>, long>, thrust::cuda_cub::__transform::binary_transform_f<thrust::device_ptr<Foam::Vector<double>>, thrust::device_ptr<double const >, thrust::device_ptr<Foam::Vector<double>>, thrust::cuda_cub::__transform::no_stencil_tag, Foam::replaceComponentFunctor<Foam::Vector<double>, double>, thrust::cuda_cub::__transform::always_true_predicate>, long>(Foam::Vector<double>, thrust::device_ptr<Foam::Vector<double>>)\n",
            "                    0.21%  5.0785ms        94  54.026us  3.7760us  329.44us  void thrust::cuda_cub::core::_kernel_agent<thrust::cuda_cub::__parallel_for::ParallelForAgent<thrust::cuda_cub::__transform::unary_transform_f<thrust::device_ptr<Foam::Vector<double> const >, thrust::device_ptr<Foam::Vector<double>>, thrust::cuda_cub::__transform::no_stencil_tag, thrust::identity<Foam::Vector<double>>, thrust::cuda_cub::__transform::always_true_predicate>, long>, thrust::cuda_cub::__transform::unary_transform_f<thrust::device_ptr<Foam::Vector<double> const >, thrust::device_ptr<Foam::Vector<double>>, thrust::cuda_cub::__transform::no_stencil_tag, thrust::identity<Foam::Vector<double>>, thrust::cuda_cub::__transform::always_true_predicate>, long>(Foam::Vector<double> const , thrust::device_ptr<Foam::Vector<double> const >)\n",
            "                    0.20%  4.9112ms         4  1.2278ms  1.1467ms  1.4640ms  void thrust::cuda_cub::core::_kernel_agent<thrust::cuda_cub::__parallel_for::ParallelForAgent<thrust::cuda_cub::__transform::binary_transform_f<thrust::counting_iterator<int, thrust::use_default, thrust::use_default, thrust::use_default>, thrust::device_ptr<Foam::Vector<double>>, thrust::device_ptr<Foam::Vector<double>>, thrust::cuda_cub::__transform::no_stencil_tag, Foam::lduAddressingFunctor<Foam::Vector<double>, Foam::matrixCoeffsMultiplyFunctor<Foam::Vector<double>, double, Foam::negateUnaryOperatorFunctor<Foam::Vector<double>, Foam::Vector<double>>>, Foam::matrixCoeffsMultiplyFunctor<Foam::Vector<double>, double, Foam::negateUnaryOperatorFunctor<Foam::Vector<double>, Foam::Vector<double>>>, Foam::sumOp<Foam::Vector<double>>, Foam::sumOp<Foam::Vector<double>>>, thrust::cuda_cub::__transform::always_true_predicate>, long>, thrust::cuda_cub::__transform::binary_transform_f<thrust::counting_iterator<int, thrust::use_default, thrust::use_default, thrust::use_default>, thrust::device_ptr<Foam::Vector<double>>, thrust::device_ptr<Foam::Vector<double>>, thrust::cuda_cub::__transform::no_stencil_tag, Foam::lduAddressingFunctor<Foam::Vector<double>, Foam::matrixCoeffsMultiplyFunctor<Foam::Vector<double>, double, Foam::negateUnaryOperatorFunctor<Foam::Vector<double>, Foam::Vector<double>>>, Foam::matrixCoeffsMultiplyFunctor<Foam::Vector<double>, double, Foam::negateUnaryOperatorFunctor<Foam::Vector<double>, Foam::Vector<double>>>, Foam::sumOp<Foam::Vector<double>>, Foam::sumOp<Foam::Vector<double>>>, thrust::cuda_cub::__transform::always_true_predicate>, long>(thrust::use_default, thrust::use_default)\n",
            "                    0.20%  4.8740ms        48  101.54us  2.6880us  292.29us  void thrust::cuda_cub::core::_kernel_agent<thrust::cuda_cub::__parallel_for::ParallelForAgent<thrust::cuda_cub::__transform::binary_transform_f<thrust::device_ptr<double const >, thrust::device_ptr<double const >, thrust::device_ptr<double>, thrust::cuda_cub::__transform::no_stencil_tag, Foam::outerOperatorFunctor<double, double, double>, thrust::cuda_cub::__transform::always_true_predicate>, long>, thrust::cuda_cub::__transform::binary_transform_f<thrust::device_ptr<double const >, thrust::device_ptr<double const >, thrust::device_ptr<double>, thrust::cuda_cub::__transform::no_stencil_tag, Foam::outerOperatorFunctor<double, double, double>, thrust::cuda_cub::__transform::always_true_predicate>, long>(thrust::device_ptr<double const >, thrust::device_ptr<double const >)\n",
            "                    0.19%  4.6657ms        14  333.26us  319.20us  353.63us  void thrust::cuda_cub::core::_kernel_agent<thrust::cuda_cub::__parallel_for::ParallelForAgent<thrust::cuda_cub::__transform::unary_transform_f<thrust::zip_iterator<thrust::tuple<thrust::device_ptr<double const >, thrust::permutation_iterator<thrust::device_ptr<double const >, thrust::device_ptr<int const >>, thrust::permutation_iterator<thrust::device_ptr<double const >, thrust::device_ptr<int const >>, thrust::null_type, thrust::null_type, thrust::null_type, thrust::null_type, thrust::null_type, thrust::null_type, thrust::null_type>>, thrust::device_ptr<double>, thrust::cuda_cub::__transform::no_stencil_tag, Foam::surfaceInterpolationSchemeInterpolateFunctor<double>, thrust::cuda_cub::__transform::always_true_predicate>, long>, thrust::cuda_cub::__transform::unary_transform_f<thrust::zip_iterator<thrust::tuple<thrust::device_ptr<double const >, thrust::permutation_iterator<thrust::device_ptr<double const >, thrust::device_ptr<int const >>, thrust::permutation_iterator<thrust::device_ptr<double const >, thrust::device_ptr<int const >>, thrust::null_type, thrust::null_type, thrust::null_type, thrust::null_type, thrust::null_type, thrust::null_type, thrust::null_type>>, thrust::device_ptr<double>, thrust::cuda_cub::__transform::no_stencil_tag, Foam::surfaceInterpolationSchemeInterpolateFunctor<double>, thrust::cuda_cub::__transform::always_true_predicate>, long>(thrust::device_ptr<double const >, thrust::device_ptr<double const >)\n",
            "                    0.18%  4.3312ms        10  433.12us  234.01us  1.2368ms  void thrust::cuda_cub::core::_kernel_agent<thrust::cuda_cub::__parallel_for::ParallelForAgent<thrust::cuda_cub::__transform::binary_transform_f<thrust::device_ptr<Foam::Vector<double>>, thrust::device_ptr<double const >, thrust::device_ptr<Foam::Vector<double>>, thrust::cuda_cub::__transform::no_stencil_tag, Foam::divideOperatorFunctor<Foam::Vector<double>, double, Foam::Vector<double>>, thrust::cuda_cub::__transform::always_true_predicate>, long>, thrust::cuda_cub::__transform::binary_transform_f<thrust::device_ptr<Foam::Vector<double>>, thrust::device_ptr<double const >, thrust::device_ptr<Foam::Vector<double>>, thrust::cuda_cub::__transform::no_stencil_tag, Foam::divideOperatorFunctor<Foam::Vector<double>, double, Foam::Vector<double>>, thrust::cuda_cub::__transform::always_true_predicate>, long>(Foam::Vector<double>, thrust::device_ptr<Foam::Vector<double>>)\n",
            "                    0.18%  4.2469ms        42  101.12us  3.9680us  314.88us  void thrust::cuda_cub::core::_kernel_agent<thrust::cuda_cub::__parallel_for::ParallelForAgent<thrust::cuda_cub::__transform::binary_transform_f<thrust::device_ptr<double const >, thrust::device_ptr<double const >, thrust::device_ptr<double>, thrust::cuda_cub::__transform::no_stencil_tag, Foam::multiplyOperatorFunctor<double, double, double>, thrust::cuda_cub::__transform::always_true_predicate>, long>, thrust::cuda_cub::__transform::binary_transform_f<thrust::device_ptr<double const >, thrust::device_ptr<double const >, thrust::device_ptr<double>, thrust::cuda_cub::__transform::no_stencil_tag, Foam::multiplyOperatorFunctor<double, double, double>, thrust::cuda_cub::__transform::always_true_predicate>, long>(thrust::device_ptr<double const >, thrust::device_ptr<double const >)\n",
            "                    0.16%  3.8042ms        84  45.288us  3.5520us  165.37us  void thrust::cuda_cub::core::_kernel_agent<thrust::cuda_cub::__parallel_for::ParallelForAgent<thrust::cuda_cub::__transform::unary_transform_f<thrust::device_ptr<Foam::Vector<double> const >, thrust::device_ptr<double>, thrust::cuda_cub::__transform::no_stencil_tag, Foam::componentFunctor<double, Foam::Vector<double>>, thrust::cuda_cub::__transform::always_true_predicate>, long>, thrust::cuda_cub::__transform::unary_transform_f<thrust::device_ptr<Foam::Vector<double> const >, thrust::device_ptr<double>, thrust::cuda_cub::__transform::no_stencil_tag, Foam::componentFunctor<double, Foam::Vector<double>>, thrust::cuda_cub::__transform::always_true_predicate>, long>(Foam::Vector<double> const , thrust::device_ptr<Foam::Vector<double> const >)\n",
            "                    0.15%  3.6143ms        10  361.43us  264.41us  434.84us  void thrust::cuda_cub::core::_kernel_agent<thrust::cuda_cub::__parallel_for::ParallelForAgent<thrust::cuda_cub::__transform::binary_transform_f<thrust::counting_iterator<int, thrust::use_default, thrust::use_default, thrust::use_default>, thrust::device_ptr<double const >, thrust::device_ptr<double>, thrust::cuda_cub::__transform::no_stencil_tag, Foam::lduAddressingFunctor<double, Foam::matrixCoeffsFunctor<double, Foam::unityOp<double>>, Foam::matrixCoeffsFunctor<double, Foam::unityOp<double>>, Foam::sumOp<double>, Foam::sumOp<double>>, thrust::cuda_cub::__transform::always_true_predicate>, long>, thrust::cuda_cub::__transform::binary_transform_f<thrust::counting_iterator<int, thrust::use_default, thrust::use_default, thrust::use_default>, thrust::device_ptr<double const >, thrust::device_ptr<double>, thrust::cuda_cub::__transform::no_stencil_tag, Foam::lduAddressingFunctor<double, Foam::matrixCoeffsFunctor<double, Foam::unityOp<double>>, Foam::matrixCoeffsFunctor<double, Foam::unityOp<double>>, Foam::sumOp<double>, Foam::sumOp<double>>, thrust::cuda_cub::__transform::always_true_predicate>, long>(thrust::use_default, thrust::use_default)\n",
            "                    0.14%  3.4266ms        54  63.455us  3.7120us  237.57us  void thrust::cuda_cub::core::_kernel_agent<thrust::cuda_cub::__parallel_for::ParallelForAgent<thrust::cuda_cub::__transform::unary_transform_f<thrust::device_ptr<double const >, thrust::device_ptr<double>, thrust::cuda_cub::__transform::no_stencil_tag, Foam::magUnaryFunctionFunctor<double, double>, thrust::cuda_cub::__transform::always_true_predicate>, long>, thrust::cuda_cub::__transform::unary_transform_f<thrust::device_ptr<double const >, thrust::device_ptr<double>, thrust::cuda_cub::__transform::no_stencil_tag, Foam::magUnaryFunctionFunctor<double, double>, thrust::cuda_cub::__transform::always_true_predicate>, long>(thrust::device_ptr<double const >, double)\n",
            "                    0.14%  3.3090ms        18  183.83us  6.9440us  1.2242ms  void thrust::cuda_cub::core::_kernel_agent<thrust::cuda_cub::__parallel_for::ParallelForAgent<thrust::cuda_cub::__transform::binary_transform_f<thrust::device_ptr<double const >, thrust::device_ptr<double const >, thrust::device_ptr<double>, thrust::cuda_cub::__transform::no_stencil_tag, Foam::divideOperatorFunctor<double, double, double>, thrust::cuda_cub::__transform::always_true_predicate>, long>, thrust::cuda_cub::__transform::binary_transform_f<thrust::device_ptr<double const >, thrust::device_ptr<double const >, thrust::device_ptr<double>, thrust::cuda_cub::__transform::no_stencil_tag, Foam::divideOperatorFunctor<double, double, double>, thrust::cuda_cub::__transform::always_true_predicate>, long>(thrust::device_ptr<double const >, thrust::device_ptr<double const >)\n",
            "                    0.13%  3.0847ms         8  385.59us  327.48us  479.90us  void thrust::cuda_cub::core::_kernel_agent<thrust::cuda_cub::__parallel_for::ParallelForAgent<thrust::cuda_cub::__transform::binary_transform_f<thrust::counting_iterator<int, thrust::use_default, thrust::use_default, thrust::use_default>, thrust::device_ptr<double>, thrust::device_ptr<double>, thrust::cuda_cub::__transform::no_stencil_tag, Foam::lduAddressingFunctor<double, Foam::matrixCoeffsFunctor<double, Foam::negateUnaryOperatorFunctor<double, double>>, Foam::matrixCoeffsFunctor<double, Foam::negateUnaryOperatorFunctor<double, double>>, Foam::sumOp<double>, Foam::sumOp<double>>, thrust::cuda_cub::__transform::always_true_predicate>, long>, thrust::cuda_cub::__transform::binary_transform_f<thrust::counting_iterator<int, thrust::use_default, thrust::use_default, thrust::use_default>, thrust::device_ptr<double>, thrust::device_ptr<double>, thrust::cuda_cub::__transform::no_stencil_tag, Foam::lduAddressingFunctor<double, Foam::matrixCoeffsFunctor<double, Foam::negateUnaryOperatorFunctor<double, double>>, Foam::matrixCoeffsFunctor<double, Foam::negateUnaryOperatorFunctor<double, double>>, Foam::sumOp<double>, Foam::sumOp<double>>, thrust::cuda_cub::__transform::always_true_predicate>, long>(thrust::use_default, thrust::use_default)\n",
            "                    0.11%  2.6986ms        28  96.379us  4.8000us  324.70us  void thrust::cuda_cub::core::_kernel_agent<thrust::cuda_cub::__parallel_for::ParallelForAgent<thrust::cuda_cub::__transform::binary_transform_f<thrust::device_ptr<Foam::Vector<double>>, thrust::device_ptr<Foam::Vector<double> const >, thrust::device_ptr<Foam::Vector<double>>, thrust::cuda_cub::__transform::no_stencil_tag, Foam::addOperatorFunctor<Foam::Vector<double>, Foam::Vector<double>, Foam::Vector<double>>, thrust::cuda_cub::__transform::always_true_predicate>, long>, thrust::cuda_cub::__transform::binary_transform_f<thrust::device_ptr<Foam::Vector<double>>, thrust::device_ptr<Foam::Vector<double> const >, thrust::device_ptr<Foam::Vector<double>>, thrust::cuda_cub::__transform::no_stencil_tag, Foam::addOperatorFunctor<Foam::Vector<double>, Foam::Vector<double>, Foam::Vector<double>>, thrust::cuda_cub::__transform::always_true_predicate>, long>(Foam::Vector<double>, thrust::device_ptr<Foam::Vector<double>>)\n",
            "                    0.11%  2.6897ms        44  61.128us  2.8160us  356.64us  void thrust::cuda_cub::core::_kernel_agent<thrust::cuda_cub::__parallel_for::ParallelForAgent<thrust::cuda_cub::__transform::binary_transform_f<thrust::device_ptr<double const >, thrust::device_ptr<double const >, thrust::device_ptr<double>, thrust::cuda_cub::__transform::no_stencil_tag, Foam::subtractOperatorFunctor<double, double, double>, thrust::cuda_cub::__transform::always_true_predicate>, long>, thrust::cuda_cub::__transform::binary_transform_f<thrust::device_ptr<double const >, thrust::device_ptr<double const >, thrust::device_ptr<double>, thrust::cuda_cub::__transform::no_stencil_tag, Foam::subtractOperatorFunctor<double, double, double>, thrust::cuda_cub::__transform::always_true_predicate>, long>(thrust::device_ptr<double const >, thrust::device_ptr<double const >)\n",
            "                    0.10%  2.3612ms        54  43.725us  4.1920us  245.89us  void thrust::cuda_cub::core::_kernel_agent<thrust::cuda_cub::__parallel_for::ParallelForAgent<thrust::cuda_cub::__transform::unary_transform_f<thrust::permutation_iterator<thrust::device_ptr<double const >, thrust::device_ptr<int const >>, thrust::device_ptr<double>, thrust::cuda_cub::__transform::no_stencil_tag, thrust::identity<double>, thrust::cuda_cub::__transform::always_true_predicate>, long>, thrust::cuda_cub::__transform::unary_transform_f<thrust::permutation_iterator<thrust::device_ptr<double const >, thrust::device_ptr<int const >>, thrust::device_ptr<double>, thrust::cuda_cub::__transform::no_stencil_tag, thrust::identity<double>, thrust::cuda_cub::__transform::always_true_predicate>, long>(thrust::device_ptr<double const >, int const )\n",
            "                    0.10%  2.3372ms         6  389.53us  7.5840us  865.91us  void thrust::cuda_cub::core::_kernel_agent<thrust::cuda_cub::__parallel_for::ParallelForAgent<thrust::cuda_cub::__transform::unary_transform_f<thrust::pointer<Foam::Vector<double>, thrust::cuda_cub::tag, thrust::use_default, thrust::use_default>, thrust::device_ptr<Foam::Vector<double>>, thrust::cuda_cub::__transform::no_stencil_tag, thrust::identity<Foam::Vector<double>>, thrust::cuda_cub::__transform::always_true_predicate>, long>, thrust::cuda_cub::__transform::unary_transform_f<thrust::pointer<Foam::Vector<double>, thrust::cuda_cub::tag, thrust::use_default, thrust::use_default>, thrust::device_ptr<Foam::Vector<double>>, thrust::cuda_cub::__transform::no_stencil_tag, thrust::identity<Foam::Vector<double>>, thrust::cuda_cub::__transform::always_true_predicate>, long>(Foam::Vector<double>, thrust::cuda_cub::tag)\n",
            "                    0.09%  2.2369ms         8  279.61us  236.06us  401.40us  void thrust::cuda_cub::core::_kernel_agent<thrust::cuda_cub::__parallel_for::ParallelForAgent<thrust::cuda_cub::__transform::unary_transform_f<thrust::counting_iterator<int, thrust::use_default, thrust::use_default, thrust::use_default>, thrust::device_ptr<double>, thrust::cuda_cub::__transform::no_stencil_tag, Foam::fvc::surfaceIntegrateFunctor<double, bool=1>, thrust::cuda_cub::__transform::always_true_predicate>, long>, thrust::cuda_cub::__transform::unary_transform_f<thrust::counting_iterator<int, thrust::use_default, thrust::use_default, thrust::use_default>, thrust::device_ptr<double>, thrust::cuda_cub::__transform::no_stencil_tag, Foam::fvc::surfaceIntegrateFunctor<double, bool=1>, thrust::cuda_cub::__transform::always_true_predicate>, long>(thrust::use_default, thrust::use_default)\n",
            "                    0.09%  2.0897ms        14  149.26us  4.1600us  354.78us  void thrust::cuda_cub::core::_kernel_agent<thrust::cuda_cub::__parallel_for::ParallelForAgent<thrust::cuda_cub::__transform::binary_transform_f<thrust::device_ptr<double const >, thrust::device_ptr<double const >, thrust::device_ptr<double>, thrust::cuda_cub::__transform::no_stencil_tag, Foam::addOperatorFunctor<double, double, double>, thrust::cuda_cub::__transform::always_true_predicate>, long>, thrust::cuda_cub::__transform::binary_transform_f<thrust::device_ptr<double const >, thrust::device_ptr<double const >, thrust::device_ptr<double>, thrust::cuda_cub::__transform::no_stencil_tag, Foam::addOperatorFunctor<double, double, double>, thrust::cuda_cub::__transform::always_true_predicate>, long>(thrust::device_ptr<double const >, thrust::device_ptr<double const >)\n",
            "                    0.09%  2.0765ms        24  86.520us  5.2160us  242.14us  void thrust::cuda_cub::core::_kernel_agent<thrust::cuda_cub::__parallel_for::ParallelForAgent<thrust::cuda_cub::__transform::binary_transform_f<thrust::device_ptr<double const >, thrust::device_ptr<Foam::Vector<double> const >, thrust::device_ptr<Foam::Vector<double>>, thrust::cuda_cub::__transform::no_stencil_tag, Foam::multiplyOperatorFunctor<double, Foam::Vector<double>, Foam::Vector<double>>, thrust::cuda_cub::__transform::always_true_predicate>, long>, thrust::cuda_cub::__transform::binary_transform_f<thrust::device_ptr<double const >, thrust::device_ptr<Foam::Vector<double> const >, thrust::device_ptr<Foam::Vector<double>>, thrust::cuda_cub::__transform::no_stencil_tag, Foam::multiplyOperatorFunctor<double, Foam::Vector<double>, Foam::Vector<double>>, thrust::cuda_cub::__transform::always_true_predicate>, long>(thrust::device_ptr<double const >, double)\n",
            "                    0.07%  1.7521ms        34  51.532us  37.151us  127.78us  void cub::DeviceReduceKernel<cub::DeviceReducePolicy<double, double, int, thrust::plus<double>>::Policy600, thrust::device_ptr<double const >, double*, int, thrust::plus<double>>(double, int, double, cub::GridEvenShare<int>, thrust::plus<double>)\n",
            "                    0.07%  1.5811ms         1  1.5811ms  1.5811ms  1.5811ms  void thrust::cuda_cub::core::_kernel_agent<thrust::cuda_cub::__parallel_for::ParallelForAgent<thrust::cuda_cub::__transform::unary_transform_f<thrust::zip_iterator<thrust::tuple<thrust::device_ptr<Foam::Vector<double> const >, thrust::device_ptr<Foam::Vector<double> const >, thrust::permutation_iterator<thrust::device_ptr<Foam::Vector<double> const >, thrust::device_ptr<int const >>, thrust::permutation_iterator<thrust::device_ptr<Foam::Vector<double> const >, thrust::device_ptr<int const >>, thrust::null_type, thrust::null_type, thrust::null_type, thrust::null_type, thrust::null_type, thrust::null_type>>, thrust::device_ptr<double>, thrust::cuda_cub::__transform::no_stencil_tag, Foam::surfaceInterpolationMakeWeightsFunctor, thrust::cuda_cub::__transform::always_true_predicate>, long>, thrust::cuda_cub::__transform::unary_transform_f<thrust::zip_iterator<thrust::tuple<thrust::device_ptr<Foam::Vector<double> const >, thrust::device_ptr<Foam::Vector<double> const >, thrust::permutation_iterator<thrust::device_ptr<Foam::Vector<double> const >, thrust::device_ptr<int const >>, thrust::permutation_iterator<thrust::device_ptr<Foam::Vector<double> const >, thrust::device_ptr<int const >>, thrust::null_type, thrust::null_type, thrust::null_type, thrust::null_type, thrust::null_type, thrust::null_type>>, thrust::device_ptr<double>, thrust::cuda_cub::__transform::no_stencil_tag, Foam::surfaceInterpolationMakeWeightsFunctor, thrust::cuda_cub::__transform::always_true_predicate>, long>(Foam::Vector<double> const , thrust::device_ptr<Foam::Vector<double> const >)\n",
            "                    0.06%  1.5313ms        16  95.707us  91.743us  100.77us  void thrust::cuda_cub::core::_kernel_agent<thrust::cuda_cub::__parallel_for::ParallelForAgent<thrust::cuda_cub::__transform::binary_transform_f<thrust::device_ptr<double const >, thrust::device_ptr<double>, thrust::device_ptr<double>, thrust::cuda_cub::__transform::no_stencil_tag, Foam::minusOp<double>, thrust::cuda_cub::__transform::always_true_predicate>, long>, thrust::cuda_cub::__transform::binary_transform_f<thrust::device_ptr<double const >, thrust::device_ptr<double>, thrust::device_ptr<double>, thrust::cuda_cub::__transform::no_stencil_tag, Foam::minusOp<double>, thrust::cuda_cub::__transform::always_true_predicate>, long>(thrust::device_ptr<double const >, double)\n",
            "                    0.06%  1.4926ms         6  248.77us  102.14us  364.06us  void thrust::cuda_cub::core::_kernel_agent<thrust::cuda_cub::__parallel_for::ParallelForAgent<thrust::cuda_cub::__transform::binary_transform_f<thrust::device_ptr<double>, thrust::device_ptr<double const >, thrust::device_ptr<double>, thrust::cuda_cub::__transform::no_stencil_tag, Foam::subtractOperatorFunctor<double, double, double>, thrust::cuda_cub::__transform::always_true_predicate>, long>, thrust::cuda_cub::__transform::binary_transform_f<thrust::device_ptr<double>, thrust::device_ptr<double const >, thrust::device_ptr<double>, thrust::cuda_cub::__transform::no_stencil_tag, Foam::subtractOperatorFunctor<double, double, double>, thrust::cuda_cub::__transform::always_true_predicate>, long>(thrust::device_ptr<double>, double const )\n",
            "                    0.06%  1.3818ms        24  57.576us  4.7360us  151.23us  void thrust::cuda_cub::core::_kernel_agent<thrust::cuda_cub::__parallel_for::ParallelForAgent<thrust::cuda_cub::__transform::unary_transform_f<thrust::device_ptr<double const >, thrust::device_ptr<double>, thrust::cuda_cub::__transform::no_stencil_tag, Foam::divideOperatorSFFunctor<double, double, double>, thrust::cuda_cub::__transform::always_true_predicate>, long>, thrust::cuda_cub::__transform::unary_transform_f<thrust::device_ptr<double const >, thrust::device_ptr<double>, thrust::cuda_cub::__transform::no_stencil_tag, Foam::divideOperatorSFFunctor<double, double, double>, thrust::cuda_cub::__transform::always_true_predicate>, long>(thrust::device_ptr<double const >, double)\n",
            "                    0.06%  1.3562ms         1  1.3562ms  1.3562ms  1.3562ms  void thrust::cuda_cub::core::_kernel_agent<thrust::cuda_cub::__parallel_for::ParallelForAgent<thrust::cuda_cub::__transform::binary_transform_f<thrust::permutation_iterator<thrust::device_ptr<Foam::Vector<double> const >, thrust::device_ptr<int const >>, thrust::permutation_iterator<thrust::device_ptr<Foam::Vector<double> const >, thrust::device_ptr<int const >>, thrust::device_ptr<double>, thrust::cuda_cub::__transform::no_stencil_tag, Foam::surfaceInterpolationDeltaCoeffsFunctor, thrust::cuda_cub::__transform::always_true_predicate>, long>, thrust::cuda_cub::__transform::binary_transform_f<thrust::permutation_iterator<thrust::device_ptr<Foam::Vector<double> const >, thrust::device_ptr<int const >>, thrust::permutation_iterator<thrust::device_ptr<Foam::Vector<double> const >, thrust::device_ptr<int const >>, thrust::device_ptr<double>, thrust::cuda_cub::__transform::no_stencil_tag, Foam::surfaceInterpolationDeltaCoeffsFunctor, thrust::cuda_cub::__transform::always_true_predicate>, long>(Foam::Vector<double> const , thrust::device_ptr<Foam::Vector<double> const >)\n",
            "                    0.05%  1.3136ms        12  109.47us  6.1440us  305.95us  void thrust::cuda_cub::core::_kernel_agent<thrust::cuda_cub::__parallel_for::ParallelForAgent<thrust::cuda_cub::__transform::binary_transform_f<thrust::device_ptr<Foam::Vector<double> const >, thrust::device_ptr<Foam::Vector<double> const >, thrust::device_ptr<Foam::Vector<double>>, thrust::cuda_cub::__transform::no_stencil_tag, Foam::subtractOperatorFunctor<Foam::Vector<double>, Foam::Vector<double>, Foam::Vector<double>>, thrust::cuda_cub::__transform::always_true_predicate>, long>, thrust::cuda_cub::__transform::binary_transform_f<thrust::device_ptr<Foam::Vector<double> const >, thrust::device_ptr<Foam::Vector<double> const >, thrust::device_ptr<Foam::Vector<double>>, thrust::cuda_cub::__transform::no_stencil_tag, Foam::subtractOperatorFunctor<Foam::Vector<double>, Foam::Vector<double>, Foam::Vector<double>>, thrust::cuda_cub::__transform::always_true_predicate>, long>(Foam::Vector<double> const , thrust::device_ptr<Foam::Vector<double> const >)\n",
            "                    0.05%  1.2939ms         4  323.48us  321.05us  330.49us  void thrust::cuda_cub::core::_kernel_agent<thrust::cuda_cub::__parallel_for::ParallelForAgent<thrust::cuda_cub::__transform::unary_transform_f<thrust::zip_iterator<thrust::tuple<thrust::device_ptr<double const >, thrust::permutation_iterator<thrust::device_ptr<double const >, thrust::device_ptr<int const >>, thrust::device_ptr<double const >, thrust::permutation_iterator<thrust::device_ptr<double const >, thrust::device_ptr<int const >>, thrust::null_type, thrust::null_type, thrust::null_type, thrust::null_type, thrust::null_type, thrust::null_type>>, thrust::device_ptr<double>, thrust::cuda_cub::__transform::no_stencil_tag, Foam::lduMatrixfaceHFunctor<double>, thrust::cuda_cub::__transform::always_true_predicate>, long>, thrust::cuda_cub::__transform::unary_transform_f<thrust::zip_iterator<thrust::tuple<thrust::device_ptr<double const >, thrust::permutation_iterator<thrust::device_ptr<double const >, thrust::device_ptr<int const >>, thrust::device_ptr<double const >, thrust::permutation_iterator<thrust::device_ptr<double const >, thrust::device_ptr<int const >>, thrust::null_type, thrust::null_type, thrust::null_type, thrust::null_type, thrust::null_type, thrust::null_type>>, thrust::device_ptr<double>, thrust::cuda_cub::__transform::no_stencil_tag, Foam::lduMatrixfaceHFunctor<double>, thrust::cuda_cub::__transform::always_true_predicate>, long>(thrust::device_ptr<double const >, thrust::device_ptr<double const >)\n",
            "                    0.05%  1.1223ms        10  112.23us  98.527us  141.12us  void cub::DeviceReduceKernel<cub::DeviceReducePolicy<double, double, int, thrust::plus<double>>::Policy600, thrust::transform_iterator<Foam::normFactorFunctor, thrust::counting_iterator<int, thrust::use_default, thrust::use_default, thrust::use_default>, thrust::use_default, thrust::use_default>, double*, int, thrust::plus<double>>(double, int, double, cub::GridEvenShare<int>, thrust::plus<double>)\n",
            "                    0.05%  1.1152ms        15  74.348us  3.7450us  234.69us  void thrust::cuda_cub::core::_kernel_agent<thrust::cuda_cub::__parallel_for::ParallelForAgent<thrust::cuda_cub::__transform::unary_transform_f<thrust::device_ptr<double const >, thrust::device_ptr<double>, thrust::cuda_cub::__transform::no_stencil_tag, Foam::addOperatorFSFunctor<double, double, double>, thrust::cuda_cub::__transform::always_true_predicate>, long>, thrust::cuda_cub::__transform::unary_transform_f<thrust::device_ptr<double const >, thrust::device_ptr<double>, thrust::cuda_cub::__transform::no_stencil_tag, Foam::addOperatorFSFunctor<double, double, double>, thrust::cuda_cub::__transform::always_true_predicate>, long>(thrust::device_ptr<double const >, double)\n",
            "                    0.04%  1.0695ms         8  133.69us  94.496us  403.10us  void thrust::cuda_cub::core::_kernel_agent<thrust::cuda_cub::__parallel_for::ParallelForAgent<thrust::cuda_cub::__transform::binary_transform_f<thrust::device_ptr<double>, thrust::device_ptr<double const >, thrust::device_ptr<double>, thrust::cuda_cub::__transform::no_stencil_tag, Foam::divideOperatorFunctor<double, double, double>, thrust::cuda_cub::__transform::always_true_predicate>, long>, thrust::cuda_cub::__transform::binary_transform_f<thrust::device_ptr<double>, thrust::device_ptr<double const >, thrust::device_ptr<double>, thrust::cuda_cub::__transform::no_stencil_tag, Foam::divideOperatorFunctor<double, double, double>, thrust::cuda_cub::__transform::always_true_predicate>, long>(thrust::device_ptr<double>, double const )\n",
            "                    0.04%  1.0655ms        17  62.674us  57.951us  68.800us  void thrust::cuda_cub::core::_kernel_agent<thrust::cuda_cub::__parallel_for::ParallelForAgent<thrust::cuda_cub::__transform::unary_transform_f<thrust::device_ptr<double>, thrust::device_ptr<double>, thrust::cuda_cub::__transform::no_stencil_tag, thrust::identity<double>, thrust::cuda_cub::__transform::always_true_predicate>, long>, thrust::cuda_cub::__transform::unary_transform_f<thrust::device_ptr<double>, thrust::device_ptr<double>, thrust::cuda_cub::__transform::no_stencil_tag, thrust::identity<double>, thrust::cuda_cub::__transform::always_true_predicate>, long>(thrust::device_ptr<double>, thrust::device_ptr<double>)\n",
            "                    0.04%  1.0259ms        84  12.213us  4.6400us  22.752us  void thrust::cuda_cub::core::_kernel_agent<thrust::cuda_cub::__parallel_for::ParallelForAgent<thrust::cuda_cub::__transform::binary_transform_f<thrust::permutation_iterator<thrust::device_ptr<double>, thrust::device_ptr<int const >>, thrust::counting_iterator<int, thrust::use_default, thrust::use_default, thrust::use_default>, thrust::permutation_iterator<thrust::device_ptr<double>, thrust::device_ptr<int const >>, thrust::cuda_cub::__transform::no_stencil_tag, Foam::fvMatrixPatchAddFunctor<double, bool=1>, thrust::cuda_cub::__transform::always_true_predicate>, long>, thrust::cuda_cub::__transform::binary_transform_f<thrust::permutation_iterator<thrust::device_ptr<double>, thrust::device_ptr<int const >>, thrust::counting_iterator<int, thrust::use_default, thrust::use_default, thrust::use_default>, thrust::permutation_iterator<thrust::device_ptr<double>, thrust::device_ptr<int const >>, thrust::cuda_cub::__transform::no_stencil_tag, Foam::fvMatrixPatchAddFunctor<double, bool=1>, thrust::cuda_cub::__transform::always_true_predicate>, long>(thrust::device_ptr<double>, int const )\n",
            "                    0.04%  1.0191ms        16  63.691us  3.0400us  249.50us  void thrust::cuda_cub::core::_kernel_agent<thrust::cuda_cub::__parallel_for::ParallelForAgent<thrust::cuda_cub::__fill::functor<thrust::device_ptr<Foam::Vector<double>>, Foam::Vector<double>>, long>, thrust::cuda_cub::__fill::functor<thrust::device_ptr<Foam::Vector<double>>, Foam::Vector<double>>, long>(Foam::Vector<double>, thrust::device_ptr<Foam::Vector<double>>)\n",
            "                    0.04%  977.34us        12  81.444us  3.6160us  237.92us  void thrust::cuda_cub::core::_kernel_agent<thrust::cuda_cub::__parallel_for::ParallelForAgent<thrust::cuda_cub::__transform::unary_transform_f<thrust::device_ptr<double const >, thrust::device_ptr<double>, thrust::cuda_cub::__transform::no_stencil_tag, Foam::minBinaryFunctionFSFunctor<double, double, double>, thrust::cuda_cub::__transform::always_true_predicate>, long>, thrust::cuda_cub::__transform::unary_transform_f<thrust::device_ptr<double const >, thrust::device_ptr<double>, thrust::cuda_cub::__transform::no_stencil_tag, Foam::minBinaryFunctionFSFunctor<double, double, double>, thrust::cuda_cub::__transform::always_true_predicate>, long>(thrust::device_ptr<double const >, double)\n",
            "                    0.04%  970.14us        12  80.844us  3.5840us  236.89us  void thrust::cuda_cub::core::_kernel_agent<thrust::cuda_cub::__parallel_for::ParallelForAgent<thrust::cuda_cub::__transform::unary_transform_f<thrust::device_ptr<double const >, thrust::device_ptr<double>, thrust::cuda_cub::__transform::no_stencil_tag, Foam::subtractOperatorSFFunctor<double, double, double>, thrust::cuda_cub::__transform::always_true_predicate>, long>, thrust::cuda_cub::__transform::unary_transform_f<thrust::device_ptr<double const >, thrust::device_ptr<double>, thrust::cuda_cub::__transform::no_stencil_tag, Foam::subtractOperatorSFFunctor<double, double, double>, thrust::cuda_cub::__transform::always_true_predicate>, long>(thrust::device_ptr<double const >, double)\n",
            "                    0.04%  855.48us         5  171.10us  10.400us  787.32us  void thrust::cuda_cub::core::_kernel_agent<thrust::cuda_cub::__parallel_for::ParallelForAgent<thrust::cuda_cub::__transform::unary_transform_f<thrust::device_ptr<Foam::Vector<double> const >, thrust::device_ptr<double>, thrust::cuda_cub::__transform::no_stencil_tag, Foam::magUnaryFunctionFunctor<Foam::Vector<double>, double>, thrust::cuda_cub::__transform::always_true_predicate>, long>, thrust::cuda_cub::__transform::unary_transform_f<thrust::device_ptr<Foam::Vector<double> const >, thrust::device_ptr<double>, thrust::cuda_cub::__transform::no_stencil_tag, Foam::magUnaryFunctionFunctor<Foam::Vector<double>, double>, thrust::cuda_cub::__transform::always_true_predicate>, long>(Foam::Vector<double> const , thrust::device_ptr<Foam::Vector<double> const >)\n",
            "                    0.03%  833.24us        12  69.436us  3.7440us  218.27us  void thrust::cuda_cub::core::_kernel_agent<thrust::cuda_cub::__parallel_for::ParallelForAgent<thrust::cuda_cub::__transform::unary_transform_f<thrust::device_ptr<double const >, thrust::device_ptr<double>, thrust::cuda_cub::__transform::no_stencil_tag, Foam::multiplyOperatorFSFunctor<double, double, double>, thrust::cuda_cub::__transform::always_true_predicate>, long>, thrust::cuda_cub::__transform::unary_transform_f<thrust::device_ptr<double const >, thrust::device_ptr<double>, thrust::cuda_cub::__transform::no_stencil_tag, Foam::multiplyOperatorFSFunctor<double, double, double>, thrust::cuda_cub::__transform::always_true_predicate>, long>(thrust::device_ptr<double const >, double)\n",
            "                    0.03%  795.10us        22  36.140us  3.5830us  308.35us  void thrust::cuda_cub::core::_kernel_agent<thrust::cuda_cub::__parallel_for::ParallelForAgent<thrust::cuda_cub::__transform::binary_transform_f<thrust::device_ptr<double const >, thrust::device_ptr<Foam::Vector<double> const >, thrust::device_ptr<Foam::Vector<double>>, thrust::cuda_cub::__transform::no_stencil_tag, Foam::outerOperatorFunctor<double, Foam::Vector<double>, Foam::Vector<double>>, thrust::cuda_cub::__transform::always_true_predicate>, long>, thrust::cuda_cub::__transform::binary_transform_f<thrust::device_ptr<double const >, thrust::device_ptr<Foam::Vector<double> const >, thrust::device_ptr<Foam::Vector<double>>, thrust::cuda_cub::__transform::no_stencil_tag, Foam::outerOperatorFunctor<double, Foam::Vector<double>, Foam::Vector<double>>, thrust::cuda_cub::__transform::always_true_predicate>, long>(thrust::device_ptr<double const >, double)\n",
            "                    0.03%  785.02us        12  65.418us  64.991us  65.760us  void thrust::cuda_cub::core::_kernel_agent<thrust::cuda_cub::__parallel_for::ParallelForAgent<thrust::cuda_cub::__transform::unary_transform_f<thrust::device_ptr<double>, thrust::device_ptr<double>, thrust::cuda_cub::__transform::no_stencil_tag, thrust::negate<double>, thrust::cuda_cub::__transform::always_true_predicate>, long>, thrust::cuda_cub::__transform::unary_transform_f<thrust::device_ptr<double>, thrust::device_ptr<double>, thrust::cuda_cub::__transform::no_stencil_tag, thrust::negate<double>, thrust::cuda_cub::__transform::always_true_predicate>, long>(thrust::device_ptr<double>, thrust::device_ptr<double>)\n",
            "                    0.03%  772.44us         4  193.11us  12.416us  375.36us  void thrust::cuda_cub::core::_kernel_agent<thrust::cuda_cub::__reduce_by_key::ReduceByKeyAgent<thrust::device_ptr<int>, thrust::device_ptr<int>, thrust::discard_iterator<thrust::use_default>, thrust::device_ptr<int>, thrust::equal_to<int>, thrust::plus<int>, int*, int>, thrust::device_ptr<int>, thrust::device_ptr<int>, thrust::discard_iterator<thrust::use_default>, thrust::device_ptr<int>, int*, cub::ReduceByKeyScanTileState<int, int, bool=1>, thrust::equal_to<int>, thrust::plus<int>, int, int>(thrust::device_ptr<int>, thrust::device_ptr<int>, thrust::use_default, thrust::discard_iterator<thrust::use_default>, thrust::device_ptr<int>, int, thrust::equal_to<int>, int, thrust::plus<int>, int*)\n",
            "                    0.03%  747.03us        10  74.703us  5.9520us  327.10us  void thrust::cuda_cub::core::_kernel_agent<thrust::cuda_cub::__parallel_for::ParallelForAgent<thrust::cuda_cub::__transform::binary_transform_f<thrust::device_ptr<Foam::Vector<double>>, thrust::device_ptr<Foam::Vector<double> const >, thrust::device_ptr<Foam::Vector<double>>, thrust::cuda_cub::__transform::no_stencil_tag, Foam::subtractOperatorFunctor<Foam::Vector<double>, Foam::Vector<double>, Foam::Vector<double>>, thrust::cuda_cub::__transform::always_true_predicate>, long>, thrust::cuda_cub::__transform::binary_transform_f<thrust::device_ptr<Foam::Vector<double>>, thrust::device_ptr<Foam::Vector<double> const >, thrust::device_ptr<Foam::Vector<double>>, thrust::cuda_cub::__transform::no_stencil_tag, Foam::subtractOperatorFunctor<Foam::Vector<double>, Foam::Vector<double>, Foam::Vector<double>>, thrust::cuda_cub::__transform::always_true_predicate>, long>(Foam::Vector<double>, thrust::device_ptr<Foam::Vector<double>>)\n",
            "                    0.03%  722.52us        54  13.380us  2.2080us  38.239us  void thrust::cuda_cub::core::_kernel_agent<thrust::cuda_cub::__parallel_for::ParallelForAgent<thrust::cuda_cub::__fill::functor<thrust::device_ptr<double>, double>, long>, thrust::cuda_cub::__fill::functor<thrust::device_ptr<double>, double>, long>(thrust::device_ptr<double>, double)\n",
            "                    0.03%  705.02us         6  117.50us  108.96us  124.64us  void thrust::cuda_cub::core::_kernel_agent<thrust::cuda_cub::__parallel_for::ParallelForAgent<thrust::cuda_cub::__transform::binary_transform_f<thrust::device_ptr<double>, thrust::device_ptr<double const >, thrust::device_ptr<double>, thrust::cuda_cub::__transform::no_stencil_tag, Foam::addOperatorFunctor<double, double, double>, thrust::cuda_cub::__transform::always_true_predicate>, long>, thrust::cuda_cub::__transform::binary_transform_f<thrust::device_ptr<double>, thrust::device_ptr<double const >, thrust::device_ptr<double>, thrust::cuda_cub::__transform::no_stencil_tag, Foam::addOperatorFunctor<double, double, double>, thrust::cuda_cub::__transform::always_true_predicate>, long>(thrust::device_ptr<double>, double const )\n",
            "                    0.03%  702.14us        28  25.076us  3.5840us  75.040us  void thrust::cuda_cub::core::_kernel_agent<thrust::cuda_cub::__parallel_for::ParallelForAgent<thrust::cuda_cub::__uninitialized_fill::functor<thrust::device_ptr<int>, int>, long>, thrust::cuda_cub::__uninitialized_fill::functor<thrust::device_ptr<int>, int>, long>(thrust::device_ptr<int>, int)\n",
            "                    0.03%  633.02us         2  316.51us  236.45us  396.57us  void thrust::cuda_cub::core::_kernel_agent<thrust::cuda_cub::__parallel_for::ParallelForAgent<thrust::cuda_cub::__transform::unary_transform_f<thrust::counting_iterator<int, thrust::use_default, thrust::use_default, thrust::use_default>, thrust::device_ptr<double>, thrust::cuda_cub::__transform::no_stencil_tag, Foam::fvc::surfaceIntegrateFunctor<double, bool=0>, thrust::cuda_cub::__transform::always_true_predicate>, long>, thrust::cuda_cub::__transform::unary_transform_f<thrust::counting_iterator<int, thrust::use_default, thrust::use_default, thrust::use_default>, thrust::device_ptr<double>, thrust::cuda_cub::__transform::no_stencil_tag, Foam::fvc::surfaceIntegrateFunctor<double, bool=0>, thrust::cuda_cub::__transform::always_true_predicate>, long>(thrust::use_default, thrust::use_default)\n",
            "                    0.02%  560.54us        14  40.038us  4.4160us  238.43us  void thrust::cuda_cub::core::_kernel_agent<thrust::cuda_cub::__parallel_for::ParallelForAgent<thrust::cuda_cub::__transform::binary_transform_f<thrust::device_ptr<Foam::Vector<double> const >, thrust::device_ptr<double const >, thrust::device_ptr<Foam::Vector<double>>, thrust::cuda_cub::__transform::no_stencil_tag, Foam::outerOperatorFunctor<Foam::Vector<double>, double, Foam::Vector<double>>, thrust::cuda_cub::__transform::always_true_predicate>, long>, thrust::cuda_cub::__transform::binary_transform_f<thrust::device_ptr<Foam::Vector<double> const >, thrust::device_ptr<double const >, thrust::device_ptr<Foam::Vector<double>>, thrust::cuda_cub::__transform::no_stencil_tag, Foam::outerOperatorFunctor<Foam::Vector<double>, double, Foam::Vector<double>>, thrust::cuda_cub::__transform::always_true_predicate>, long>(Foam::Vector<double> const , thrust::device_ptr<Foam::Vector<double> const >)\n",
            "                    0.02%  559.61us         2  279.81us  277.41us  282.21us  void thrust::cuda_cub::core::_kernel_agent<thrust::cuda_cub::__parallel_for::ParallelForAgent<thrust::cuda_cub::__transform::unary_transform_f<thrust::device_ptr<Foam::Vector<double> const >, thrust::device_ptr<Foam::Vector<double>>, thrust::cuda_cub::__transform::no_stencil_tag, Foam::outerOperatorSFFunctor<double, Foam::Vector<double>, Foam::Vector<double>>, thrust::cuda_cub::__transform::always_true_predicate>, long>, thrust::cuda_cub::__transform::unary_transform_f<thrust::device_ptr<Foam::Vector<double> const >, thrust::device_ptr<Foam::Vector<double>>, thrust::cuda_cub::__transform::no_stencil_tag, Foam::outerOperatorSFFunctor<double, Foam::Vector<double>, Foam::Vector<double>>, thrust::cuda_cub::__transform::always_true_predicate>, long>(Foam::Vector<double> const , thrust::device_ptr<Foam::Vector<double> const >)\n",
            "                    0.02%  520.44us         5  104.09us  9.9830us  183.46us  void cub::DeviceRadixSortHistogramKernel<cub::DeviceRadixSortPolicy<int, int, int>::Policy800, bool=0, int, int>(cub::DeviceRadixSortPolicy<int, int, int>::Policy800*, int const *, cub::DeviceRadixSortHistogramKernel<cub::DeviceRadixSortPolicy<int, int, int>::Policy800, bool=0, int, int>, int, int)\n",
            "                    0.02%  468.38us         6  78.063us  5.0560us  222.30us  void thrust::cuda_cub::core::_kernel_agent<thrust::cuda_cub::__parallel_for::ParallelForAgent<thrust::cuda_cub::__transform::unary_transform_f<thrust::device_ptr<Foam::Vector<double> const >, thrust::device_ptr<Foam::Vector<double>>, thrust::cuda_cub::__transform::no_stencil_tag, Foam::negateUnaryOperatorFunctor<Foam::Vector<double>, Foam::Vector<double>>, thrust::cuda_cub::__transform::always_true_predicate>, long>, thrust::cuda_cub::__transform::unary_transform_f<thrust::device_ptr<Foam::Vector<double> const >, thrust::device_ptr<Foam::Vector<double>>, thrust::cuda_cub::__transform::no_stencil_tag, Foam::negateUnaryOperatorFunctor<Foam::Vector<double>, Foam::Vector<double>>, thrust::cuda_cub::__transform::always_true_predicate>, long>(Foam::Vector<double> const , thrust::device_ptr<Foam::Vector<double> const >)\n",
            "                    0.02%  461.08us        18  25.615us  2.6240us  200.93us  void thrust::cuda_cub::core::_kernel_agent<thrust::cuda_cub::__parallel_for::ParallelForAgent<thrust::cuda_cub::__transform::unary_transform_f<thrust::device_ptr<double const >, thrust::device_ptr<double>, thrust::cuda_cub::__transform::no_stencil_tag, Foam::negateUnaryOperatorFunctor<double, double>, thrust::cuda_cub::__transform::always_true_predicate>, long>, thrust::cuda_cub::__transform::unary_transform_f<thrust::device_ptr<double const >, thrust::device_ptr<double>, thrust::cuda_cub::__transform::no_stencil_tag, Foam::negateUnaryOperatorFunctor<double, double>, thrust::cuda_cub::__transform::always_true_predicate>, long>(thrust::device_ptr<double const >, double)\n",
            "                    0.01%  351.42us         4  87.855us  6.0160us  168.54us  void thrust::cuda_cub::core::_kernel_agent<thrust::cuda_cub::__parallel_for::ParallelForAgent<thrust::cuda_cub::__transform::unary_transform_f<thrust::permutation_iterator<thrust::device_ptr<int const >, thrust::device_ptr<int const >>, thrust::device_ptr<int>, thrust::cuda_cub::__transform::no_stencil_tag, thrust::identity<int>, thrust::cuda_cub::__transform::always_true_predicate>, long>, thrust::cuda_cub::__transform::unary_transform_f<thrust::permutation_iterator<thrust::device_ptr<int const >, thrust::device_ptr<int const >>, thrust::device_ptr<int>, thrust::cuda_cub::__transform::no_stencil_tag, thrust::identity<int>, thrust::cuda_cub::__transform::always_true_predicate>, long>(thrust::device_ptr<int const >, thrust::device_ptr<int const >)\n",
            "                    0.01%  312.54us        20  15.627us  6.6880us  34.975us  void thrust::cuda_cub::core::_kernel_agent<thrust::cuda_cub::__parallel_for::ParallelForAgent<thrust::cuda_cub::__transform::unary_transform_f<thrust::permutation_iterator<thrust::device_ptr<Foam::Vector<double> const >, thrust::device_ptr<int const >>, thrust::device_ptr<Foam::Vector<double>>, thrust::cuda_cub::__transform::no_stencil_tag, thrust::identity<Foam::Vector<double>>, thrust::cuda_cub::__transform::always_true_predicate>, long>, thrust::cuda_cub::__transform::unary_transform_f<thrust::permutation_iterator<thrust::device_ptr<Foam::Vector<double> const >, thrust::device_ptr<int const >>, thrust::device_ptr<Foam::Vector<double>>, thrust::cuda_cub::__transform::no_stencil_tag, thrust::identity<Foam::Vector<double>>, thrust::cuda_cub::__transform::always_true_predicate>, long>(Foam::Vector<double> const , thrust::device_ptr<Foam::Vector<double> const >)\n",
            "                    0.01%  287.77us        12  23.981us  11.552us  65.311us  void thrust::cuda_cub::core::_kernel_agent<thrust::cuda_cub::__parallel_for::ParallelForAgent<thrust::cuda_cub::__transform::binary_transform_f<thrust::device_ptr<Foam::Vector<double> const >, thrust::device_ptr<double const >, thrust::device_ptr<Foam::Vector<double>>, thrust::cuda_cub::__transform::no_stencil_tag, Foam::divideOperatorFunctor<Foam::Vector<double>, double, Foam::Vector<double>>, thrust::cuda_cub::__transform::always_true_predicate>, long>, thrust::cuda_cub::__transform::binary_transform_f<thrust::device_ptr<Foam::Vector<double> const >, thrust::device_ptr<double const >, thrust::device_ptr<Foam::Vector<double>>, thrust::cuda_cub::__transform::no_stencil_tag, Foam::divideOperatorFunctor<Foam::Vector<double>, double, Foam::Vector<double>>, thrust::cuda_cub::__transform::always_true_predicate>, long>(Foam::Vector<double> const , thrust::device_ptr<Foam::Vector<double> const >)\n",
            "                    0.01%  284.13us        32  8.8790us  5.2800us  17.024us  void thrust::cuda_cub::core::_kernel_agent<thrust::cuda_cub::__parallel_for::ParallelForAgent<thrust::cuda_cub::__transform::unary_transform_f<thrust::device_ptr<Foam::Vector<double> const >, thrust::device_ptr<double>, thrust::cuda_cub::__transform::no_stencil_tag, Foam::cmptAvUnaryFunctionFunctor<Foam::Vector<double>, double>, thrust::cuda_cub::__transform::always_true_predicate>, long>, thrust::cuda_cub::__transform::unary_transform_f<thrust::device_ptr<Foam::Vector<double> const >, thrust::device_ptr<double>, thrust::cuda_cub::__transform::no_stencil_tag, Foam::cmptAvUnaryFunctionFunctor<Foam::Vector<double>, double>, thrust::cuda_cub::__transform::always_true_predicate>, long>(Foam::Vector<double> const , thrust::device_ptr<Foam::Vector<double> const >)\n",
            "                    0.01%  257.95us        12  21.495us  7.7760us  39.424us  void thrust::cuda_cub::core::_kernel_agent<thrust::cuda_cub::__parallel_for::ParallelForAgent<thrust::cuda_cub::__transform::binary_transform_f<thrust::permutation_iterator<thrust::device_ptr<Foam::Vector<double>>, thrust::device_ptr<int const >>, thrust::counting_iterator<int, thrust::use_default, thrust::use_default, thrust::use_default>, thrust::permutation_iterator<thrust::device_ptr<Foam::Vector<double>>, thrust::device_ptr<int const >>, thrust::cuda_cub::__transform::no_stencil_tag, Foam::fvMatrixPatchAddFunctor<Foam::Vector<double>, bool=1>, thrust::cuda_cub::__transform::always_true_predicate>, long>, thrust::cuda_cub::__transform::binary_transform_f<thrust::permutation_iterator<thrust::device_ptr<Foam::Vector<double>>, thrust::device_ptr<int const >>, thrust::counting_iterator<int, thrust::use_default, thrust::use_default, thrust::use_default>, thrust::permutation_iterator<thrust::device_ptr<Foam::Vector<double>>, thrust::device_ptr<int const >>, thrust::cuda_cub::__transform::no_stencil_tag, Foam::fvMatrixPatchAddFunctor<Foam::Vector<double>, bool=1>, thrust::cuda_cub::__transform::always_true_predicate>, long>(Foam::Vector<double>, thrust::device_ptr<Foam::Vector<double>>)\n",
            "                    0.01%  245.25us        12  20.437us  8.0950us  41.568us  void thrust::cuda_cub::core::_kernel_agent<thrust::cuda_cub::__parallel_for::ParallelForAgent<thrust::cuda_cub::__transform::binary_transform_f<thrust::counting_iterator<int, thrust::use_default, thrust::use_default, thrust::use_default>, thrust::permutation_iterator<thrust::device_ptr<Foam::Vector<double>>, thrust::device_ptr<int const >>, thrust::permutation_iterator<thrust::device_ptr<Foam::Vector<double>>, thrust::device_ptr<int const >>, thrust::cuda_cub::__transform::no_stencil_tag, Foam::gaussGradPatchFunctor<double, Foam::Vector<double>>, thrust::cuda_cub::__transform::always_true_predicate>, long>, thrust::cuda_cub::__transform::binary_transform_f<thrust::counting_iterator<int, thrust::use_default, thrust::use_default, thrust::use_default>, thrust::permutation_iterator<thrust::device_ptr<Foam::Vector<double>>, thrust::device_ptr<int const >>, thrust::permutation_iterator<thrust::device_ptr<Foam::Vector<double>>, thrust::device_ptr<int const >>, thrust::cuda_cub::__transform::no_stencil_tag, Foam::gaussGradPatchFunctor<double, Foam::Vector<double>>, thrust::cuda_cub::__transform::always_true_predicate>, long>(thrust::use_default, thrust::use_default)\n",
            "                    0.01%  234.85us        20  11.742us  5.5040us  21.728us  void thrust::cuda_cub::core::_kernel_agent<thrust::cuda_cub::__parallel_for::ParallelForAgent<thrust::cuda_cub::__transform::binary_transform_f<thrust::counting_iterator<int, thrust::use_default, thrust::use_default, thrust::use_default>, thrust::permutation_iterator<thrust::device_ptr<double>, thrust::device_ptr<int const >>, thrust::permutation_iterator<thrust::device_ptr<double>, thrust::device_ptr<int const >>, thrust::cuda_cub::__transform::no_stencil_tag, Foam::fvc::surfaceIntegratePatchFunctor<double>, thrust::cuda_cub::__transform::always_true_predicate>, long>, thrust::cuda_cub::__transform::binary_transform_f<thrust::counting_iterator<int, thrust::use_default, thrust::use_default, thrust::use_default>, thrust::permutation_iterator<thrust::device_ptr<double>, thrust::device_ptr<int const >>, thrust::permutation_iterator<thrust::device_ptr<double>, thrust::device_ptr<int const >>, thrust::cuda_cub::__transform::no_stencil_tag, Foam::fvc::surfaceIntegratePatchFunctor<double>, thrust::cuda_cub::__transform::always_true_predicate>, long>(thrust::use_default, thrust::use_default)\n",
            "                    0.01%  216.22us         4  54.055us  5.3440us  102.88us  void thrust::cuda_cub::core::_kernel_agent<thrust::cuda_cub::__parallel_for::ParallelForAgent<thrust::cuda_cub::__transform::unary_transform_f<thrust::device_ptr<int const >, thrust::device_ptr<int>, thrust::cuda_cub::__transform::no_stencil_tag, thrust::identity<int>, thrust::cuda_cub::__transform::always_true_predicate>, long>, thrust::cuda_cub::__transform::unary_transform_f<thrust::device_ptr<int const >, thrust::device_ptr<int>, thrust::cuda_cub::__transform::no_stencil_tag, thrust::identity<int>, thrust::cuda_cub::__transform::always_true_predicate>, long>(thrust::device_ptr<int const >, int)\n",
            "                    0.01%  142.02us         2  71.007us  70.432us  71.583us  void thrust::cuda_cub::core::_kernel_agent<thrust::cuda_cub::__parallel_for::ParallelForAgent<thrust::cuda_cub::__transform::unary_transform_f<thrust::device_ptr<double const >, thrust::device_ptr<double>, thrust::cuda_cub::__transform::no_stencil_tag, Foam::outerOperatorSFFunctor<double, double, double>, thrust::cuda_cub::__transform::always_true_predicate>, long>, thrust::cuda_cub::__transform::unary_transform_f<thrust::device_ptr<double const >, thrust::device_ptr<double>, thrust::cuda_cub::__transform::no_stencil_tag, Foam::outerOperatorSFFunctor<double, double, double>, thrust::cuda_cub::__transform::always_true_predicate>, long>(thrust::device_ptr<double const >, double)\n",
            "                    0.01%  120.96us         2  60.479us  48.191us  72.767us  void thrust::cuda_cub::core::_kernel_agent<thrust::cuda_cub::__reduce::ReduceAgent<thrust::zip_iterator<thrust::tuple<thrust::device_ptr<double const >, thrust::cuda_cub::counting_iterator_t<long>, thrust::null_type, thrust::null_type, thrust::null_type, thrust::null_type, thrust::null_type, thrust::null_type, thrust::null_type, thrust::null_type>>, thrust::tuple<double, long, thrust::null_type, thrust::null_type, thrust::null_type, thrust::null_type, thrust::null_type, thrust::null_type, thrust::null_type, thrust::null_type>*, thrust::tuple<double, long, thrust::null_type, thrust::null_type, thrust::null_type, thrust::null_type, thrust::null_type, thrust::null_type, thrust::null_type, thrust::null_type>, int, thrust::cuda_cub::__extrema::arg_max_f<double, long, thrust::less<double>>>, thrust::zip_iterator<thrust::tuple<thrust::device_ptr<double const >, thrust::cuda_cub::counting_iterator_t<long>, thrust::null_type, thrust::null_type, thrust::null_type, thrust::null_type, thrust::null_type, thrust::null_type, thrust::null_type, thrust::null_type>>, thrust::tuple<double, long, thrust::null_type, thrust::null_type, thrust::null_type, thrust::null_type, thrust::null_type, thrust::null_type, thrust::null_type, thrust::null_type>*, int, cub::GridEvenShare<int>, cub::GridQueue<unsigned int>, thrust::cuda_cub::__extrema::arg_max_f<double, long, thrust::less<double>>>(thrust::device_ptr<double const >, long, thrust::cuda_cub::counting_iterator_t<long>, thrust::null_type, thrust::null_type, thrust::null_type)\n",
            "                    0.00%  111.55us         2  55.775us  31.264us  80.287us  void thrust::cuda_cub::core::_kernel_agent<thrust::cuda_cub::__parallel_for::ParallelForAgent<thrust::cuda_cub::__transform::unary_transform_f<thrust::zip_iterator<thrust::tuple<thrust::device_ptr<Foam::Vector<double> const >, thrust::device_ptr<double const >, thrust::device_ptr<Foam::Vector<double> const >, thrust::permutation_iterator<thrust::device_ptr<Foam::Vector<double> const >, thrust::device_ptr<int const >>, thrust::null_type, thrust::null_type, thrust::null_type, thrust::null_type, thrust::null_type, thrust::null_type>>, thrust::device_ptr<Foam::Vector<double>>, thrust::cuda_cub::__transform::no_stencil_tag, Foam::fvPatchDelta, thrust::cuda_cub::__transform::always_true_predicate>, long>, thrust::cuda_cub::__transform::unary_transform_f<thrust::zip_iterator<thrust::tuple<thrust::device_ptr<Foam::Vector<double> const >, thrust::device_ptr<double const >, thrust::device_ptr<Foam::Vector<double> const >, thrust::permutation_iterator<thrust::device_ptr<Foam::Vector<double> const >, thrust::device_ptr<int const >>, thrust::null_type, thrust::null_type, thrust::null_type, thrust::null_type, thrust::null_type, thrust::null_type>>, thrust::device_ptr<Foam::Vector<double>>, thrust::cuda_cub::__transform::no_stencil_tag, Foam::fvPatchDelta, thrust::cuda_cub::__transform::always_true_predicate>, long>(Foam::Vector<double> const , thrust::device_ptr<Foam::Vector<double> const >)\n",
            "                    0.00%  109.89us         4  27.472us  9.2480us  46.720us  void cub::DeviceScanKernel<cub::AgentScanPolicy<int=128, int=15, int, cub::BlockLoadAlgorithm, cub::CacheLoadModifier, cub::BlockStoreAlgorithm, cub::BlockScanAlgorithm, cub::MemBoundScaling<int=128, int=15, int>>, thrust::device_ptr<int>, thrust::device_ptr<int>, cub::ScanTileState<int, bool=1>, thrust::plus<void>, int, int>(int=15, int, cub::BlockLoadAlgorithm, int, cub::CacheLoadModifier, cub::BlockStoreAlgorithm, cub::BlockScanAlgorithm)\n",
            "                    0.00%  107.97us        30  3.5980us  1.4080us  6.1440us  [CUDA memset]\n",
            "                    0.00%  107.52us         8  13.439us  9.6320us  23.072us  void cub::DeviceReduceKernel<cub::DeviceReducePolicy<double, int, int, thrust::minus<double>>::Policy600, thrust::transform_iterator<Foam::adjustPhiFilter<bool=0>, thrust::device_ptr<double const >, thrust::use_default, thrust::use_default>, int*, int, thrust::minus<double>>(int, int, double, cub::GridEvenShare<int>, thrust::minus<double>)\n",
            "                    0.00%  103.10us         8  12.888us  9.2480us  23.296us  void cub::DeviceReduceKernel<cub::DeviceReducePolicy<double, int, int, thrust::plus<double>>::Policy600, thrust::transform_iterator<Foam::adjustPhiFilter<bool=1>, thrust::device_ptr<double const >, thrust::use_default, thrust::use_default>, int*, int, thrust::plus<double>>(int, int, double, cub::GridEvenShare<int>, thrust::plus<double>)\n",
            "                    0.00%  98.687us         5  19.737us  4.0000us  54.079us  void thrust::cuda_cub::core::_kernel_agent<thrust::cuda_cub::__parallel_for::ParallelForAgent<thrust::cuda_cub::__transform::unary_transform_f<thrust::counting_iterator<int, thrust::use_default, thrust::use_default, thrust::use_default>, thrust::device_ptr<int>, thrust::cuda_cub::__transform::no_stencil_tag, thrust::identity<int>, thrust::cuda_cub::__transform::always_true_predicate>, long>, thrust::cuda_cub::__transform::unary_transform_f<thrust::counting_iterator<int, thrust::use_default, thrust::use_default, thrust::use_default>, thrust::device_ptr<int>, thrust::cuda_cub::__transform::no_stencil_tag, thrust::identity<int>, thrust::cuda_cub::__transform::always_true_predicate>, long>(thrust::use_default, thrust::use_default)\n",
            "                    0.00%  83.840us         6  13.973us  3.4560us  26.976us  void thrust::cuda_cub::core::_kernel_agent<thrust::cuda_cub::__parallel_for::ParallelForAgent<thrust::cuda_cub::for_each_f<thrust::pointer<Foam::Vector<double>, thrust::cuda_cub::tag, thrust::use_default, thrust::use_default>, thrust::detail::wrapped_function<thrust::detail::allocator_traits_detail::construct1_via_allocator<thrust::detail::no_throw_allocator<thrust::detail::temporary_allocator<Foam::Vector<double>, thrust::cuda_cub::tag>>>, void>>, unsigned long>, thrust::cuda_cub::for_each_f<thrust::pointer<Foam::Vector<double>, thrust::cuda_cub::tag, thrust::use_default, thrust::use_default>, thrust::detail::wrapped_function<thrust::detail::allocator_traits_detail::construct1_via_allocator<thrust::detail::no_throw_allocator<thrust::detail::temporary_allocator<Foam::Vector<double>, thrust::cuda_cub::tag>>>, void>>, unsigned long>(Foam::Vector<double>, thrust::cuda_cub::tag)\n",
            "                    0.00%  82.400us         6  13.733us  3.2960us  26.688us  void thrust::cuda_cub::core::_kernel_agent<thrust::cuda_cub::__parallel_for::ParallelForAgent<thrust::cuda_cub::for_each_f<thrust::pointer<Foam::Vector<double>, thrust::cuda_cub::tag, thrust::use_default, thrust::use_default>, thrust::detail::wrapped_function<thrust::detail::allocator_traits_detail::gozer, void>>, long>, thrust::cuda_cub::for_each_f<thrust::pointer<Foam::Vector<double>, thrust::cuda_cub::tag, thrust::use_default, thrust::use_default>, thrust::detail::wrapped_function<thrust::detail::allocator_traits_detail::gozer, void>>, long>(Foam::Vector<double>, thrust::cuda_cub::tag)\n",
            "                    0.00%  55.840us         8  6.9800us  5.1200us  11.904us  void cub::DeviceReduceSingleTileKernel<cub::DeviceReducePolicy<double, int, int, thrust::minus<double>>::Policy600, int*, int*, int, thrust::minus<double>, int>(int, int, double, thrust::minus<double>, cub::DeviceReducePolicy<double, int, int, thrust::minus<double>>::Policy600)\n",
            "                    0.00%  55.042us         8  6.8800us  4.9280us  11.969us  void cub::DeviceReduceSingleTileKernel<cub::DeviceReducePolicy<double, int, int, thrust::plus<double>>::Policy600, int*, int*, int, thrust::plus<double>, int>(int, int, double, thrust::plus<double>, cub::DeviceReducePolicy<double, int, int, thrust::plus<double>>::Policy600)\n",
            "                    0.00%  43.008us         2  21.504us  21.376us  21.632us  void thrust::cuda_cub::core::_kernel_agent<thrust::cuda_cub::__parallel_for::ParallelForAgent<thrust::cuda_cub::__fill::functor<thrust::device_ptr<int>, int>, long>, thrust::cuda_cub::__fill::functor<thrust::device_ptr<int>, int>, long>(thrust::device_ptr<int>, int)\n",
            "                    0.00%  31.200us         4  7.8000us  4.1600us  13.344us  void thrust::cuda_cub::core::_kernel_agent<thrust::cuda_cub::__parallel_for::ParallelForAgent<thrust::cuda_cub::__transform::unary_transform_f<thrust::device_ptr<double const >, thrust::device_ptr<Foam::Vector<double>>, thrust::cuda_cub::__transform::no_stencil_tag, Foam::outerOperatorSFFunctor<Foam::Vector<double>, double, Foam::Vector<double>>, thrust::cuda_cub::__transform::always_true_predicate>, long>, thrust::cuda_cub::__transform::unary_transform_f<thrust::device_ptr<double const >, thrust::device_ptr<Foam::Vector<double>>, thrust::cuda_cub::__transform::no_stencil_tag, Foam::outerOperatorSFFunctor<Foam::Vector<double>, double, Foam::Vector<double>>, thrust::cuda_cub::__transform::always_true_predicate>, long>(thrust::device_ptr<double const >, double)\n",
            "                    0.00%  26.815us         5  5.3630us  4.8960us  5.7920us  void cub::DeviceRadixSortExclusiveSumKernel<cub::DeviceRadixSortPolicy<int, int, int>::Policy800, int>(int*)\n",
            "                    0.00%  25.729us         8  3.2160us  2.7840us  3.7120us  void thrust::cuda_cub::core::_kernel_agent<thrust::cuda_cub::__parallel_for::ParallelForAgent<thrust::cuda_cub::__transform::binary_transform_f<thrust::device_ptr<double const >, thrust::device_ptr<double const >, thrust::device_ptr<double>, thrust::cuda_cub::__transform::no_stencil_tag, Foam::cmptMultiplyBinaryFunctionFunctor<double, double, double>, thrust::cuda_cub::__transform::always_true_predicate>, long>, thrust::cuda_cub::__transform::binary_transform_f<thrust::device_ptr<double const >, thrust::device_ptr<double const >, thrust::device_ptr<double>, thrust::cuda_cub::__transform::no_stencil_tag, Foam::cmptMultiplyBinaryFunctionFunctor<double, double, double>, thrust::cuda_cub::__transform::always_true_predicate>, long>(thrust::device_ptr<double const >, thrust::device_ptr<double const >)\n",
            "                    0.00%  21.760us         2  10.880us  9.9520us  11.808us  void thrust::cuda_cub::core::_kernel_agent<thrust::cuda_cub::__unique::UniqueAgent<thrust::device_ptr<int>, thrust::device_ptr<int>, thrust::equal_to<int>, int, int*>, thrust::device_ptr<int>, thrust::device_ptr<int>, thrust::equal_to<int>, int*, int, cub::ScanTileState<int, bool=1>, unsigned long>(thrust::device_ptr<int>, thrust::device_ptr<int>, int, thrust::equal_to<int>, int, int*, thrust::cuda_cub::__unique::UniqueAgent<thrust::device_ptr<int>, thrust::device_ptr<int>, thrust::equal_to<int>, int, int*>)\n",
            "                    0.00%  16.288us         4  4.0720us  3.8720us  4.2880us  void cub::DeviceScanInitKernel<cub::ScanTileState<int, bool=1>>(int, int)\n",
            "                    0.00%  15.967us         4  3.9910us  3.8390us  4.2880us  void thrust::cuda_cub::core::_kernel_agent<thrust::cuda_cub::__reduce_by_key::InitAgent<cub::ReduceByKeyScanTileState<int, int, bool=1>, int, int*>, cub::ReduceByKeyScanTileState<int, int, bool=1>, int, int*>(int, bool=1, cub::ReduceByKeyScanTileState<int, int, bool=1>)\n",
            "                    0.00%  14.559us         2  7.2790us  5.9840us  8.5750us  void thrust::cuda_cub::core::_kernel_agent<thrust::cuda_cub::__parallel_for::ParallelForAgent<thrust::cuda_cub::__transform::unary_transform_f<thrust::permutation_iterator<thrust::device_ptr<int const >, thrust::device_ptr<int>>, thrust::device_ptr<int>, thrust::cuda_cub::__transform::no_stencil_tag, thrust::identity<int>, thrust::cuda_cub::__transform::always_true_predicate>, long>, thrust::cuda_cub::__transform::unary_transform_f<thrust::permutation_iterator<thrust::device_ptr<int const >, thrust::device_ptr<int>>, thrust::device_ptr<int>, thrust::cuda_cub::__transform::no_stencil_tag, thrust::identity<int>, thrust::cuda_cub::__transform::always_true_predicate>, long>(thrust::device_ptr<int const >, int)\n",
            "                    0.00%  13.824us         2  6.9120us  4.4800us  9.3440us  void thrust::cuda_cub::core::_kernel_agent<thrust::cuda_cub::__reduce::ReduceAgent<thrust::tuple<double, long, thrust::null_type, thrust::null_type, thrust::null_type, thrust::null_type, thrust::null_type, thrust::null_type, thrust::null_type, thrust::null_type>*, thrust::tuple<double, long, thrust::null_type, thrust::null_type, thrust::null_type, thrust::null_type, thrust::null_type, thrust::null_type, thrust::null_type, thrust::null_type>*, thrust::tuple<double, long, thrust::null_type, thrust::null_type, thrust::null_type, thrust::null_type, thrust::null_type, thrust::null_type, thrust::null_type, thrust::null_type>, int, thrust::cuda_cub::__extrema::arg_max_f<double, long, thrust::less<double>>>, thrust::tuple<double, long, thrust::null_type, thrust::null_type, thrust::null_type, thrust::null_type, thrust::null_type, thrust::null_type, thrust::null_type, thrust::null_type>*, thrust::tuple<double, long, thrust::null_type, thrust::null_type, thrust::null_type, thrust::null_type, thrust::null_type, thrust::null_type, thrust::null_type, thrust::null_type>*, int, thrust::cuda_cub::__extrema::arg_max_f<double, long, thrust::less<double>>>(long, thrust::null_type, thrust::null_type, thrust::null_type)\n",
            "                    0.00%  7.8080us         2  3.9040us  3.8400us  3.9680us  void thrust::cuda_cub::core::_kernel_agent<thrust::cuda_cub::__unique::InitAgent<cub::ScanTileState<int, bool=1>, int*, int>, cub::ScanTileState<int, bool=1>, unsigned long, int*>(bool=1, cub::ScanTileState<int, bool=1>, int*)\n",
            "                    0.00%  7.2960us         2  3.6480us  2.6880us  4.6080us  void thrust::cuda_cub::core::_kernel_agent<thrust::cuda_cub::__parallel_for::ParallelForAgent<thrust::cuda_cub::__uninitialized_copy::functor<thrust::tuple<double, long, thrust::null_type, thrust::null_type, thrust::null_type, thrust::null_type, thrust::null_type, thrust::null_type, thrust::null_type, thrust::null_type>*, thrust::pointer<thrust::tuple<double, long, thrust::null_type, thrust::null_type, thrust::null_type, thrust::null_type, thrust::null_type, thrust::null_type, thrust::null_type, thrust::null_type>, thrust::cuda_cub::tag, thrust::use_default, thrust::use_default>>, long>, thrust::cuda_cub::__uninitialized_copy::functor<thrust::tuple<double, long, thrust::null_type, thrust::null_type, thrust::null_type, thrust::null_type, thrust::null_type, thrust::null_type, thrust::null_type, thrust::null_type>*, thrust::pointer<thrust::tuple<double, long, thrust::null_type, thrust::null_type, thrust::null_type, thrust::null_type, thrust::null_type, thrust::null_type, thrust::null_type, thrust::null_type>, thrust::cuda_cub::tag, thrust::use_default, thrust::use_default>>, long>(long, thrust::null_type)\n",
            "                    0.00%  6.7840us         2  3.3920us  2.5280us  4.2560us  void thrust::cuda_cub::core::_kernel_agent<thrust::cuda_cub::__reduce::DrainAgent<int>, cub::GridQueue<unsigned int>, int>(thrust::cuda_cub::__reduce::DrainAgent<int>, unsigned int)\n",
            "                    0.00%  5.2800us         2  2.6400us  1.9200us  3.3600us  void thrust::cuda_cub::core::_kernel_agent<thrust::cuda_cub::__parallel_for::ParallelForAgent<thrust::cuda_cub::for_each_f<thrust::pointer<thrust::tuple<double, long, thrust::null_type, thrust::null_type, thrust::null_type, thrust::null_type, thrust::null_type, thrust::null_type, thrust::null_type, thrust::null_type>, thrust::cuda_cub::tag, thrust::use_default, thrust::use_default>, thrust::detail::wrapped_function<thrust::detail::allocator_traits_detail::gozer, void>>, long>, thrust::cuda_cub::for_each_f<thrust::pointer<thrust::tuple<double, long, thrust::null_type, thrust::null_type, thrust::null_type, thrust::null_type, thrust::null_type, thrust::null_type, thrust::null_type, thrust::null_type>, thrust::cuda_cub::tag, thrust::use_default, thrust::use_default>, thrust::detail::wrapped_function<thrust::detail::allocator_traits_detail::gozer, void>>, long>(long, thrust::null_type)\n",
            "                    0.00%  5.0560us         1  5.0560us  5.0560us  5.0560us  void thrust::cuda_cub::core::_kernel_agent<thrust::cuda_cub::__parallel_for::ParallelForAgent<thrust::cuda_cub::__transform::unary_transform_f<thrust::device_ptr<int>, thrust::device_ptr<int>, thrust::cuda_cub::__transform::no_stencil_tag, thrust::identity<int>, thrust::cuda_cub::__transform::always_true_predicate>, long>, thrust::cuda_cub::__transform::unary_transform_f<thrust::device_ptr<int>, thrust::device_ptr<int>, thrust::cuda_cub::__transform::no_stencil_tag, thrust::identity<int>, thrust::cuda_cub::__transform::always_true_predicate>, long>(thrust::device_ptr<int>, thrust::device_ptr<int>)\n",
            "      API calls:   67.63%  3.97239s     19753  201.10us  1.7600us  15.675ms  cudaStreamSynchronize\n",
            "                    7.13%  418.97ms      5635  74.350us  4.9710us  111.77ms  cudaFree\n",
            "                    4.72%  277.18ms         2  138.59ms  4.4530us  277.17ms  cudaStreamCreate\n",
            "                    4.71%  276.48ms     19716  14.023us  4.8570us  10.042ms  cudaLaunchKernel\n",
            "                    4.67%  274.07ms         1  274.07ms  274.07ms  274.07ms  cudaDeviceSetCacheConfig\n",
            "                    3.54%  208.01ms      4788  43.444us  4.7130us  18.319ms  cudaMemcpyAsync\n",
            "                    2.62%  154.01ms      5651  27.253us     432ns  8.0410ms  cudaMalloc\n",
            "                    2.10%  123.27ms    206215     597ns     134ns  7.0183ms  cudaGetLastError\n",
            "                    0.71%  41.872ms     39407  1.0620us     287ns  6.9668ms  cudaGetDevice\n",
            "                    0.63%  37.145ms         1  37.145ms  37.145ms  37.145ms  cuDevicePrimaryCtxRelease\n",
            "                    0.50%  29.181ms       406  71.874us  3.5710us  1.0594ms  cuModuleUnload\n",
            "                    0.38%  22.556ms     39402     572ns     136ns  7.0154ms  cudaPeekAtLastError\n",
            "                    0.36%  20.927ms     19707  1.0610us     324ns  4.5978ms  cudaDeviceGetAttribute\n",
            "                    0.28%  16.390ms      9509  1.7230us     731ns  2.0182ms  cudaOccupancyMaxActiveBlocksPerMultiprocessorWithFlags\n",
            "                    0.02%  1.1034ms         2  551.70us  5.3210us  1.0981ms  cudaStreamDestroy\n",
            "                    0.00%  224.67us        30  7.4890us  4.0290us  13.421us  cudaMemsetAsync\n",
            "                    0.00%  143.30us         1  143.30us  143.30us  143.30us  cudaGetDeviceProperties\n",
            "                    0.00%  121.21us       101  1.2000us     128ns  50.560us  cuDeviceGetAttribute\n",
            "                    0.00%  28.272us         1  28.272us  28.272us  28.272us  cuDeviceGetName\n",
            "                    0.00%  9.0400us         1  9.0400us  9.0400us  9.0400us  cudaFuncGetAttributes\n",
            "                    0.00%  5.4920us         1  5.4920us  5.4920us  5.4920us  cuDeviceGetPCIBusId\n",
            "                    0.00%  2.2430us         2  1.1210us     267ns  1.9760us  cudaGetDeviceCount\n",
            "                    0.00%  1.6190us         3     539ns     210ns  1.0570us  cuDeviceGetCount\n",
            "                    0.00%  1.2030us         2     601ns     274ns     929ns  cuDeviceGet\n",
            "                    0.00%     494ns         1     494ns     494ns     494ns  cuDeviceTotalMem\n",
            "                    0.00%     359ns         1     359ns     359ns     359ns  cuModuleGetLoadingMode\n",
            "                    0.00%     235ns         1     235ns     235ns     235ns  cuDeviceGetUuid\n",
            "\n",
            "real\t0m11.603s\n",
            "user\t0m10.199s\n",
            "sys\t0m1.023s\n"
          ]
        }
      ],
      "source": [
        "!case=S-RapidCFD;\\\n",
        "source /root/RapidCFD/RapidCFD-dev/etc/bashrc;\\\n",
        "time nvprof icoFoam 2>&1 | tee log.icoFoam.$case.nvprof"
      ]
    },
    {
      "cell_type": "markdown",
      "metadata": {
        "id": "s_kS9RFiCiL3"
      },
      "source": [
        "RapidCFDはThrustライブラリによるGPU実装なので、関数名が大変複雑となっていますが、`GPU activities:`から始まるホットスポットの行における`Name`から、`Foam::`で始まる本来のOpenFOAMの関数名を抜きだすと、主要なホットスポットは、`Foam::matrixMultiplyFunctor`と`Foam::AINVPreconditionerFunctor`であり、計算時間の割合は共に約30%となっています。\n",
        "\n",
        "* Foam::matrixMultiplyFunctor\n",
        "  * RapidCFD-dev/src/OpenFOAM/matrices/lduMatrix/lduMatrix/lduMatrixATmul.C https://github.com/SimFlowCFD/RapidCFD-dev/blob/master/src/OpenFOAM/matrices/lduMatrix/lduMatrix/lduMatrixATmul.C\n",
        "* Foam::AINVPreconditionerFunctor\n",
        "  * RapidCFD-dev/src/OpenFOAM/matrices/lduMatrix/preconditioners/AINVPreconditioner/AINVPreconditionerF.H\n",
        " https://github.com/SimFlowCFD/RapidCFD-dev/blob/master/src/OpenFOAM/matrices/lduMatrix/preconditioners/AINVPreconditioner/AINVPreconditionerF.H\n",
        "* 出川智啓 : GPU最適化ライブラリの利用(その3)、長岡技術科学大学2015年度GPGPU講習会 https://www.slideshare.net/ssuserf87701/gpgpu-seminar-gpu-accelerated-libraries-3-of-3-thrust"
      ]
    },
    {
      "cell_type": "markdown",
      "metadata": {
        "id": "VbPQd--XFi-B"
      },
      "source": [
        "### PETScライブラリを用いたGPU併用でのicoFoamソルバの実行(ケースS-petsc-1)\n",
        "PETScライブラリを用いて、圧力方程式用のCG法線形ソルバをGPUで動かします。"
      ]
    },
    {
      "cell_type": "markdown",
      "metadata": {
        "id": "YBHkHFasX8bh"
      },
      "source": [
        "#### ケースファイル修正\n",
        "\n",
        "\n"
      ]
    },
    {
      "cell_type": "markdown",
      "metadata": {
        "id": "KDHlhGykYCuZ"
      },
      "source": [
        "3次元キャビティベンチマークテストにおける格子数が64MのXLケースでは、PETScのCG法線形ソルバを使う設定ファイルがあるので、この設定を流用します。\n",
        "ただし、GPUのCuSPARSEライブラリを用いて動作させるよう、`mat_types`に`aijcusparse`を指定します。\n",
        "\n",
        "* MATAIJCUSPARSE https://petsc.org/release/manualpages/Mat/MATAIJCUSPARSE/\n",
        "* 出川智啓 : GPU最適化ライブラリの利用(その2)、長岡技術科学大学2015年度GPGPU講習会 https://www.slideshare.net/ssuserf87701/gpgpu-seminar-gpu-accelerated-libraries-2-of-3-cusparse\n",
        "\n",
        "また、速度の線形ソルバを、RapidCFD等の他の解析での設定と合わせて`PBiCG`に変更します。\n",
        "\n",
        "このケースを`S-petsc-1`として、これらの修正を行なった線形ソルバの設定を`system/fvSolution.S-petsc-1`に保存しておきます。"
      ]
    },
    {
      "cell_type": "code",
      "execution_count": null,
      "metadata": {
        "colab": {
          "base_uri": "https://localhost:8080/"
        },
        "id": "qCj6uYkdGeBT",
        "outputId": "4d33bb20-3eea-44c3-f1ee-fec48f6f9cd1"
      },
      "outputs": [
        {
          "output_type": "stream",
          "name": "stdout",
          "text": [
            "/*--------------------------------*- C++ -*----------------------------------*\\\n",
            "| =========                 |                                                 |\n",
            "| \\\\      /  F ield         | OpenFOAM: The Open Source CFD Toolbox           |\n",
            "|  \\\\    /   O peration     | Version:  v2006                                 |\n",
            "|   \\\\  /    A nd           | Website:  www.openfoam.com                      |\n",
            "|    \\\\/     M anipulation  |                                                 |\n",
            "\\*---------------------------------------------------------------------------*/\n",
            "FoamFile\n",
            "{\n",
            "    version     2.0;\n",
            "    format      ascii;\n",
            "    class       dictionary;\n",
            "    location    \"system\";\n",
            "    object      fvSolution;\n",
            "}\n",
            "// * * * * * * * * * * * * * * * * * * * * * * * * * * * * * * * * * * * * * //\n",
            "\n",
            "solvers\n",
            "{\n",
            "    p\n",
            "    {\n",
            "        solver          petsc;\n",
            "        preconditioner  petsc;\n",
            "\n",
            "        petsc\n",
            "        {\n",
            "            options\n",
            "            {\n",
            "                ksp_type cg;\n",
            "                pc_type bjacobi;\n",
            "                sub_pc_type icc;\n",
            "                ksp_cg_single_reduction true;\n",
            "                mat_type aijcusparse;\n",
            "                sub_pc_factor_shift_type none;\n",
            "            }\n",
            "\n",
            "            caching\n",
            "            {\n",
            "                matrix\n",
            "                {\n",
            "                    update always;\n",
            "                }\n",
            "\n",
            "                preconditioner\n",
            "                {\n",
            "                    update always;\n",
            "                }\n",
            "            }\n",
            "        }\n",
            "\n",
            "        tolerance       1.e-04;\n",
            "        relTol          0;\n",
            "        maxIter         3000;\n",
            "    }\n",
            "\n",
            "    pFinal\n",
            "    {\n",
            "        $p;\n",
            "        relTol          0;\n",
            "    }\n",
            "\n",
            "    U\n",
            "    {\n",
            "        solver          PBiCG;\n",
            "        preconditioner  DILU;\n",
            "        tolerance       0;\n",
            "        relTol          0;\n",
            "        maxIter         5;\n",
            "    }\n",
            "}\n",
            "\n",
            "PISO\n",
            "{\n",
            "    nCorrectors     2;\n",
            "    nNonOrthogonalCorrectors 0;\n",
            "    pRefCell        0;\n",
            "    pRefValue       0;\n",
            "}\n",
            "\n",
            "\n",
            "// ************************************************************************* //\n"
          ]
        }
      ],
      "source": [
        "!case=S-petsc-1;\\\n",
        "sed -e s/mpiaijmkl/aijcusparse/ -e s/PBiCGStab/PBiCG/ ../XL/system/fvSolution.PETSc-ICC-CG.fixedNORM | tee system/fvSolution.$case"
      ]
    },
    {
      "cell_type": "markdown",
      "metadata": {
        "id": "RnpkIrBMbAHw"
      },
      "source": [
        "#### PETScライブラリを用いたicoFoamソルバの実行\n",
        "まず、線形ソルバの設定`system/fvSolution.ケース名`を`system/fvSolution`にコピーします。\n",
        "\n",
        "external-solverモジュールのビルド時にも出力されていましたが、 PETScライブラリを有効にするには、`eval $(foamEtcFile -sh -config petsc -- -force)`を実行します。\n",
        "\n",
        "また、以前確認したように、インストールされているOpenMPIはGPU-aware supportが有効になっていないので、`PETSC_OPTIONS`の環境変数に`-use_gpu_aware_mpi 0`を指定して、`icoFoam`ソルバを実行します。\n",
        "\n",
        "さらに、ソルバ実行時にexternal-moduleモジュールのpetscFoamライブラリを読むように、`icoFoam`コマンドに`-lib petscFoam`オプションを指定します。\n",
        "\n",
        "なお、`-lib petscFoam`オプションを指定せずに、`system/controlDict`に`libs (petscFoam);`の設定をしてもpetscFoamライブラリを読みますが、この設定ではRapidCFDでの実行ができなくなるので、ここでは`icoFoam`コマンドにオプションを指定する方法を用います。"
      ]
    },
    {
      "cell_type": "code",
      "execution_count": null,
      "metadata": {
        "colab": {
          "base_uri": "https://localhost:8080/"
        },
        "id": "np-reJQoH6mM",
        "outputId": "f9733cf2-cfe4-46f9-9a10-0d4de8c0b458"
      },
      "outputs": [
        {
          "output_type": "stream",
          "name": "stdout",
          "text": [
            "/*---------------------------------------------------------------------------*\\\n",
            "| =========                 |                                                 |\n",
            "| \\\\      /  F ield         | OpenFOAM: The Open Source CFD Toolbox           |\n",
            "|  \\\\    /   O peration     | Version:  2306                                  |\n",
            "|   \\\\  /    A nd           | Website:  www.openfoam.com                      |\n",
            "|    \\\\/     M anipulation  |                                                 |\n",
            "\\*---------------------------------------------------------------------------*/\n",
            "Build  : _fbf00d6b-20230626 OPENFOAM=2306 version=2306\n",
            "Arch   : \"LSB;label=32;scalar=64\"\n",
            "Exec   : icoFoam -lib petscFoam\n",
            "Date   : Sep 08 2023\n",
            "Time   : 09:35:12\n",
            "Host   : fa75ae8ec3df\n",
            "PID    : 9484\n",
            "I/O    : uncollated\n",
            "Case   : /content/drive/MyDrive/hpc-training-gpu-2023/hpc/Lid_driven_cavity-3d/S\n",
            "nProcs : 1\n",
            "trapFpe: Floating point exception trapping enabled (FOAM_SIGFPE).\n",
            "fileModificationChecking : Monitoring run-time modified files using timeStampMaster (fileModificationSkew 5, maxFileModificationPolls 20)\n",
            "allowSystemOperations : Allowing user-supplied system call operations\n",
            "\n",
            "// * * * * * * * * * * * * * * * * * * * * * * * * * * * * * * * * * * * * * //\n",
            "Create time\n",
            "\n",
            "Create mesh for time = 0\n",
            "\n",
            "\n",
            "PISO: Operating solver in PISO mode\n",
            "\n",
            "Reading transportProperties\n",
            "\n",
            "Reading field p\n",
            "\n",
            "Reading field U\n",
            "\n",
            "Reading/calculating face flux field phi\n",
            "\n",
            "\n",
            "Starting time loop\n",
            "\n",
            "Time = 0.001\n",
            "\n",
            "Courant Number mean: 0 max: 0\n",
            "DILUPBiCG:  Solving for Ux, Initial residual = 1, Final residual = 0.0395129, No Iterations 5\n",
            "DILUPBiCG:  Solving for Uy:  solution singularity\n",
            "DILUPBiCG:  Solving for Uz:  solution singularity\n",
            "ExecutionTime = 6.44 s  ClockTime = 7 s\n",
            "\n",
            "Initializing PETSc... success\n",
            "ExecutionTime = 6.52 s  ClockTime = 7 s\n",
            "\n",
            "PETSc-cg:  Solving for p, Initial residual = 1, Final residual = 9.93207e-05, No Iterations 2127\n",
            "time step continuity errors : sum local = 5.41595e-08, global = 9.43936e-22, cumulative = 9.43936e-22\n",
            "PETSc-cg:  Solving for p, Initial residual = 0.771014, Final residual = 9.92211e-05, No Iterations 2094\n",
            "time step continuity errors : sum local = 6.89698e-08, global = 3.91166e-21, cumulative = 4.85559e-21\n",
            "ExecutionTime = 25.37 s  ClockTime = 26 s\n",
            "\n",
            "Time = 0.002\n",
            "\n",
            "Courant Number mean: 0.055277 max: 0.807102\n",
            "DILUPBiCG:  Solving for Ux, Initial residual = 0.135435, Final residual = 0.012617, No Iterations 5\n",
            "DILUPBiCG:  Solving for Uy, Initial residual = 0.431439, Final residual = 0.0378801, No Iterations 5\n",
            "DILUPBiCG:  Solving for Uz, Initial residual = 0.989654, Final residual = 0.0739028, No Iterations 5\n",
            "PETSc-cg:  Solving for p, Initial residual = 0.810473, Final residual = 9.9955e-05, No Iterations 2085\n",
            "time step continuity errors : sum local = 1.07926e-07, global = -8.6652e-21, cumulative = -3.80961e-21\n",
            "PETSc-cg:  Solving for p, Initial residual = 0.752376, Final residual = 9.79174e-05, No Iterations 2079\n",
            "time step continuity errors : sum local = 1.07683e-07, global = 1.931e-21, cumulative = -1.87861e-21\n",
            "ExecutionTime = 44.04 s  ClockTime = 45 s\n",
            "\n",
            "End\n",
            "\n",
            "Finalizing PETSc\n"
          ]
        }
      ],
      "source": [
        "!case=S-petsc-1;\\\n",
        "cp system/fvSolution.$case system/fvSolution;\\\n",
        "source /usr/lib/openfoam/openfoam2306/etc/bashrc;\\\n",
        "eval $(foamEtcFile -sh -config petsc -- -force);\\\n",
        "PETSC_OPTIONS='-use_gpu_aware_mpi 0' icoFoam -lib petscFoam 2>&1 | tee log.icoFoam.$case"
      ]
    },
    {
      "cell_type": "markdown",
      "metadata": {
        "id": "eJz-ggjX9I_W"
      },
      "source": [
        "`Initializing PETSc... success`のログにより、PETScライブラリを用いた初期化ができていることがわかります。\n",
        "\n",
        "また、圧力の線形ソルバ名が`PETSc-cg`となっており、PETScのcgソルバが用いられていることが確認できます。"
      ]
    },
    {
      "cell_type": "markdown",
      "metadata": {
        "id": "Z4eVNjCPLomT"
      },
      "source": [
        "#### 毎ステップの実行時間"
      ]
    },
    {
      "cell_type": "code",
      "execution_count": null,
      "metadata": {
        "colab": {
          "base_uri": "https://localhost:8080/"
        },
        "id": "D-vPEDLtLomi",
        "outputId": "e436eec9-b40a-4353-a7a6-53f8a1d437a3"
      },
      "outputs": [
        {
          "output_type": "stream",
          "name": "stdout",
          "text": [
            "ExecutionTime = 6.44 s  ClockTime = 7 s\n",
            "ExecutionTime = 6.52 s  ClockTime = 7 s\n",
            "ExecutionTime = 25.37 s  ClockTime = 26 s\n",
            "ExecutionTime = 44.04 s  ClockTime = 45 s\n"
          ]
        }
      ],
      "source": [
        "!case=S-petsc-1;\\\n",
        "grep ExecutionTime log.icoFoam.$case"
      ]
    },
    {
      "cell_type": "markdown",
      "metadata": {
        "id": "sxlU4FYncOV-"
      },
      "source": [
        "2ステップ分の2回ではなく、PETScの初期化の前後でも出力され、4回分出力されています。"
      ]
    },
    {
      "cell_type": "markdown",
      "metadata": {
        "id": "0ReSDxDFLomi"
      },
      "source": [
        "#### 1ステップの実行時間\n",
        "4番目と3番目の実行時間の差を計算します。"
      ]
    },
    {
      "cell_type": "code",
      "execution_count": null,
      "metadata": {
        "colab": {
          "base_uri": "https://localhost:8080/"
        },
        "id": "msEQ_jrELomj",
        "outputId": "c8fe2b91-03ae-4fd5-d33f-36c600d33992"
      },
      "outputs": [
        {
          "output_type": "stream",
          "name": "stdout",
          "text": [
            "Execution time for one timestep:  18.67\n"
          ]
        }
      ],
      "source": [
        "!case=S-petsc-1;\\\n",
        "awk 'BEGIN {n=0} /ExecutionTime/ {t[n]=$3;n++} END {print \"Execution time for one timestep: \",t[3]-t[2]}' log.icoFoam.$case"
      ]
    },
    {
      "cell_type": "markdown",
      "metadata": {
        "id": "MSx-bt1YLomj"
      },
      "source": [
        "#### 圧力方程式に対するCG法線形ソルバをPETScライブラリを用いてGPUで実行した場合の加速率\n"
      ]
    },
    {
      "cell_type": "code",
      "execution_count": null,
      "metadata": {
        "colab": {
          "base_uri": "https://localhost:8080/"
        },
        "id": "dhCMMZeeLomj",
        "outputId": "9fbed938-e3ba-4caa-aae7-84a7833b7d0c"
      },
      "outputs": [
        {
          "output_type": "stream",
          "name": "stdout",
          "text": [
            "Speedup of PETSc CG solver with GPU compared to OpenFOAM CG solver with CPU only:  1.15854\n"
          ]
        }
      ],
      "source": [
        "!case=S-petsc-1;\\\n",
        "awk 'BEGIN {n=0} /ExecutionTime/ {t[n]=$3;n++} END {print \"Speedup of PETSc CG solver with GPU compared to OpenFOAM CG solver with CPU only: \",(t[1]-t[0])/(t[5]-t[4])}' log.icoFoam.cpu log.icoFoam.$case"
      ]
    },
    {
      "cell_type": "markdown",
      "metadata": {
        "id": "kOR7vOL3XaKU"
      },
      "source": [
        "加速率はRapidCFDが約16であるのに対し、今回は約1.2とだいぶ低くなりましたが、 圧力線形ソルバの反復回数が増大していることも、一つの要因として考えられます**(加速率は割りあてられたCPUとGPUによって異なります)**。"
      ]
    },
    {
      "cell_type": "code",
      "execution_count": null,
      "metadata": {
        "colab": {
          "base_uri": "https://localhost:8080/"
        },
        "id": "K4Z10clJ2Hc4",
        "outputId": "3a5bcad0-a850-4311-cdb7-413f7a2a7778"
      },
      "outputs": [
        {
          "output_type": "stream",
          "name": "stdout",
          "text": [
            "/*---------------------------------------------------------------------------*\\\n",
            "| =========                 |                                                 |\n",
            "| \\\\      /  F ield         | OpenFOAM: The Open Source CFD Toolbox           |\n",
            "|  \\\\    /   O peration     | Version:  2306                                  |\n",
            "|   \\\\  /    A nd           | Website:  www.openfoam.com                      |\n",
            "|    \\\\/     M anipulation  |                                                 |\n",
            "\\*---------------------------------------------------------------------------*/\n",
            "Build  : _fbf00d6b-20230626 OPENFOAM=2306 version=2306\n",
            "Arch   : \"LSB;label=32;scalar=64\"\n",
            "Exec   : icoFoam\n",
            "Date   : Sep 05 2023\n",
            "Time   : 05:25:21\n",
            "Host   : 83a45ee40a87\n",
            "PID    : 9229\n",
            "I/O    : uncollated\n",
            "Case   : /content/drive/MyDrive/hpc-training-gpu-2023/hpc/Lid_driven_cavity-3d/S\n",
            "nProcs : 1\n",
            "trapFpe: Floating point exception trapping enabled (FOAM_SIGFPE).\n",
            "fileModificationChecking : Monitoring run-time modified files using timeStampMaster (fileModificationSkew 5, maxFileModificationPolls 20)\n",
            "allowSystemOperations : Allowing user-supplied system call operations\n",
            "\n",
            "// * * * * * * * * * * * * * * * * * * * * * * * * * * * * * * * * * * * * * //\n",
            "Create time\n",
            "\n",
            "Create mesh for time = 0\n",
            "\n",
            "\n",
            "PISO: Operating solver in PISO mode\n",
            "\n",
            "Reading transportProperties\n",
            "\n",
            "Reading field p\n",
            "\n",
            "Reading field U\n",
            "\n",
            "Reading/calculating face flux field phi\n",
            "\n",
            "\n",
            "Starting time loop\n",
            "\n",
            "Time = 0.001\n",
            "\n",
            "Courant Number mean: 0 max: 0\n",
            "DILUPBiCG:  Solving for Ux, Initial residual = 1, Final residual = 0.0395129, No Iterations 5\n",
            "DILUPBiCG:  Solving for Uy:  solution singularity\n",
            "DILUPBiCG:  Solving for Uz:  solution singularity\n",
            "DICPCG:  Solving for p, Initial residual = 1, Final residual = 9.11018e-05, No Iterations 254\n",
            "time step continuity errors : sum local = 4.96784e-08, global = 5.14134e-21, cumulative = 5.14134e-21\n",
            "DICPCG:  Solving for p, Initial residual = 0.771021, Final residual = 8.84735e-05, No Iterations 250\n",
            "time step continuity errors : sum local = 6.15018e-08, global = 2.36053e-21, cumulative = 7.50188e-21\n",
            "ExecutionTime = 28.64 s  ClockTime = 30 s\n",
            "\n",
            "Time = 0.002\n",
            "\n",
            "Courant Number mean: 0.055277 max: 0.807101\n",
            "DILUPBiCG:  Solving for Ux, Initial residual = 0.135434, Final residual = 0.012617, No Iterations 5\n",
            "DILUPBiCG:  Solving for Uy, Initial residual = 0.43144, Final residual = 0.0378801, No Iterations 5\n",
            "DILUPBiCG:  Solving for Uz, Initial residual = 0.989661, Final residual = 0.0739054, No Iterations 5\n",
            "DICPCG:  Solving for p, Initial residual = 0.810468, Final residual = 7.88388e-05, No Iterations 248\n",
            "time step continuity errors : sum local = 8.5124e-08, global = -3.91878e-21, cumulative = 3.58309e-21\n",
            "DICPCG:  Solving for p, Initial residual = 0.752366, Final residual = 8.55283e-05, No Iterations 247\n",
            "time step continuity errors : sum local = 9.40565e-08, global = -4.20492e-21, cumulative = -6.21825e-22\n",
            "ExecutionTime = 50.27 s  ClockTime = 52 s\n",
            "\n",
            "End\n",
            "\n"
          ]
        }
      ],
      "source": [
        "!cat log.icoFoam.cpu"
      ]
    },
    {
      "cell_type": "markdown",
      "metadata": {
        "id": "kLy76Il42iNM"
      },
      "source": [
        "実際、上記の全CPU実行での`icoFoam`ソルバのログからわかるとおり、CPU実行では圧力線形ソルバの反復回数は約250回でしたが、GPU実行では2100回と約8倍以上増加しています。\n",
        "\n",
        "RapidCFDでも約380回とCPU実行に比べて増えていますが、それでも1.5倍程度です。\n",
        "\n",
        "どのケースでも線形ソルバはCG法ですので、その他の大きな違いとしては前処理があげられます。\n",
        "\n",
        "そこで、最後のカスタマイズ演習では、3次元キャビティベンチマーク標準のPETScの線形ソルバの設定をカスタマイズすることで、さらに高速化できるか試してみます。"
      ]
    },
    {
      "cell_type": "markdown",
      "metadata": {
        "id": "YQ1X7aQnNdSk"
      },
      "source": [
        "#### PETScのログオプション付き実行\n",
        "`PETSC_OPTIONS`に`-log_view`を付けると、PETScに関するプロファイリング情報等が出力されます。\n",
        "\n",
        "* Understanding and Tuning Performance in PETSc (on emerging many core,GPGPU, and traditional architectures) https://www.mcs.anl.gov/petsc/meetings/2019/slides/mills-performance-gpus-tutorial-petsc2019.pdf\n",
        "\n",
        "* PETSc/TAO Users Manual, 4.3.1 Basic Profiling Information, https://petsc.org/release/docs/manual/manual.pdf"
      ]
    },
    {
      "cell_type": "code",
      "execution_count": null,
      "metadata": {
        "colab": {
          "base_uri": "https://localhost:8080/"
        },
        "id": "3DKWm5XQNXC0",
        "outputId": "9d2505fe-a2d2-426e-9052-78091627f92f"
      },
      "outputs": [
        {
          "output_type": "stream",
          "name": "stdout",
          "text": [
            "/*---------------------------------------------------------------------------*\\\n",
            "| =========                 |                                                 |\n",
            "| \\\\      /  F ield         | OpenFOAM: The Open Source CFD Toolbox           |\n",
            "|  \\\\    /   O peration     | Version:  2306                                  |\n",
            "|   \\\\  /    A nd           | Website:  www.openfoam.com                      |\n",
            "|    \\\\/     M anipulation  |                                                 |\n",
            "\\*---------------------------------------------------------------------------*/\n",
            "Build  : _fbf00d6b-20230626 OPENFOAM=2306 version=2306\n",
            "Arch   : \"LSB;label=32;scalar=64\"\n",
            "Exec   : icoFoam -lib petscFoam\n",
            "Date   : Sep 08 2023\n",
            "Time   : 09:36:04\n",
            "Host   : fa75ae8ec3df\n",
            "PID    : 9997\n",
            "I/O    : uncollated\n",
            "Case   : /content/drive/MyDrive/hpc-training-gpu-2023/hpc/Lid_driven_cavity-3d/S\n",
            "nProcs : 1\n",
            "trapFpe: Floating point exception trapping enabled (FOAM_SIGFPE).\n",
            "fileModificationChecking : Monitoring run-time modified files using timeStampMaster (fileModificationSkew 5, maxFileModificationPolls 20)\n",
            "allowSystemOperations : Allowing user-supplied system call operations\n",
            "\n",
            "// * * * * * * * * * * * * * * * * * * * * * * * * * * * * * * * * * * * * * //\n",
            "Create time\n",
            "\n",
            "Create mesh for time = 0\n",
            "\n",
            "\n",
            "PISO: Operating solver in PISO mode\n",
            "\n",
            "Reading transportProperties\n",
            "\n",
            "Reading field p\n",
            "\n",
            "Reading field U\n",
            "\n",
            "Reading/calculating face flux field phi\n",
            "\n",
            "\n",
            "Starting time loop\n",
            "\n",
            "Time = 0.001\n",
            "\n",
            "Courant Number mean: 0 max: 0\n",
            "DILUPBiCG:  Solving for Ux, Initial residual = 1, Final residual = 0.0395129, No Iterations 5\n",
            "DILUPBiCG:  Solving for Uy:  solution singularity\n",
            "DILUPBiCG:  Solving for Uz:  solution singularity\n",
            "ExecutionTime = 6.22 s  ClockTime = 6 s\n",
            "\n",
            "Initializing PETSc... success\n",
            "ExecutionTime = 6.28 s  ClockTime = 6 s\n",
            "\n",
            "PETSc-cg:  Solving for p, Initial residual = 1, Final residual = 9.92951e-05, No Iterations 2127\n",
            "time step continuity errors : sum local = 5.41455e-08, global = 3.01354e-21, cumulative = 3.01354e-21\n",
            "PETSc-cg:  Solving for p, Initial residual = 0.771014, Final residual = 9.92537e-05, No Iterations 2094\n",
            "time step continuity errors : sum local = 6.89924e-08, global = 5.9042e-22, cumulative = 3.60396e-21\n",
            "ExecutionTime = 25.12 s  ClockTime = 25 s\n",
            "\n",
            "Time = 0.002\n",
            "\n",
            "Courant Number mean: 0.055277 max: 0.807102\n",
            "DILUPBiCG:  Solving for Ux, Initial residual = 0.135435, Final residual = 0.012617, No Iterations 5\n",
            "DILUPBiCG:  Solving for Uy, Initial residual = 0.431439, Final residual = 0.0378801, No Iterations 5\n",
            "DILUPBiCG:  Solving for Uz, Initial residual = 0.989654, Final residual = 0.0739028, No Iterations 5\n",
            "PETSc-cg:  Solving for p, Initial residual = 0.810473, Final residual = 9.77234e-05, No Iterations 2086\n",
            "time step continuity errors : sum local = 1.05517e-07, global = -5.13445e-21, cumulative = -1.53049e-21\n",
            "PETSc-cg:  Solving for p, Initial residual = 0.752376, Final residual = 9.78864e-05, No Iterations 2079\n",
            "time step continuity errors : sum local = 1.07649e-07, global = -1.07829e-20, cumulative = -1.23134e-20\n",
            "ExecutionTime = 44.19 s  ClockTime = 44 s\n",
            "\n",
            "End\n",
            "\n",
            "Finalizing PETSc\n",
            "****************************************************************************************************************************************************************\n",
            "***                                WIDEN YOUR WINDOW TO 160 CHARACTERS.  Use 'enscript -r -fCourier9' to print this document                                 ***\n",
            "****************************************************************************************************************************************************************\n",
            "\n",
            "------------------------------------------------------------------ PETSc Performance Summary: ------------------------------------------------------------------\n",
            "\n",
            "Unknown Name on a  named fa75ae8ec3df with 1 processor, by Unknown Fri Sep  8 09:36:49 2023\n",
            "Using Petsc Release Version 3.19.2, Jun 01, 2023 \n",
            "\n",
            "                         Max       Max/Min     Avg       Total\n",
            "Time (sec):           3.832e+01     1.000   3.832e+01\n",
            "Objects:              8.420e+03     1.000   8.420e+03\n",
            "Flops:                3.423e+11     1.000   3.423e+11  3.423e+11\n",
            "Flops/sec:            8.933e+09     1.000   8.933e+09  8.933e+09\n",
            "MPI Msg Count:        0.000e+00     0.000   0.000e+00  0.000e+00\n",
            "MPI Msg Len (bytes):  0.000e+00     0.000   0.000e+00  0.000e+00\n",
            "MPI Reductions:       0.000e+00     0.000\n",
            "\n",
            "Flop counting convention: 1 flop = 1 real number operation of type (multiply/divide/add/subtract)\n",
            "                            e.g., VecAXPY() for real vectors of length N --> 2N flops\n",
            "                            and VecAXPY() for complex vectors of length N --> 8N flops\n",
            "\n",
            "Summary of Stages:   ----- Time ------  ----- Flop ------  --- Messages ---  -- Message Lengths --  -- Reductions --\n",
            "                        Avg     %Total     Avg     %Total    Count   %Total     Avg         %Total    Count   %Total\n",
            " 0:      Main Stage: 2.5871e+00   6.8%  1.0704e+08   0.0%  0.000e+00   0.0%  0.000e+00        0.0%  0.000e+00   0.0%\n",
            " 1:      foam_p_mat: 7.8172e-01   2.0%  0.0000e+00   0.0%  0.000e+00   0.0%  0.000e+00        0.0%  0.000e+00   0.0%\n",
            " 2:       foam_p_pc: 2.5942e-01   0.7%  1.4069e+08   0.0%  0.000e+00   0.0%  0.000e+00        0.0%  0.000e+00   0.0%\n",
            " 3:      foam_p_ksp: 3.4690e+01  90.5%  3.4203e+11  99.9%  0.000e+00   0.0%  0.000e+00        0.0%  0.000e+00   0.0%\n",
            "\n",
            "------------------------------------------------------------------------------------------------------------------------\n",
            "See the 'Profiling' chapter of the users' manual for details on interpreting output.\n",
            "Phase summary info:\n",
            "   Count: number of times phase was executed\n",
            "   Time and Flop: Max - maximum over all processors\n",
            "                  Ratio - ratio of maximum to minimum over all processors\n",
            "   Mess: number of messages sent\n",
            "   AvgLen: average message length (bytes)\n",
            "   Reduct: number of global reductions\n",
            "   Global: entire computation\n",
            "   Stage: stages of a computation. Set stages with PetscLogStagePush() and PetscLogStagePop().\n",
            "      %T - percent time in this phase         %F - percent flop in this phase\n",
            "      %M - percent messages in this phase     %L - percent message lengths in this phase\n",
            "      %R - percent reductions in this phase\n",
            "   Total Mflop/s: 10e-6 * (sum of flop over all processors)/(max time over all processors)\n",
            "   GPU Mflop/s: 10e-6 * (sum of flop on GPU over all processors)/(max GPU time over all processors)\n",
            "   CpuToGpu Count: total number of CPU to GPU copies per processor\n",
            "   CpuToGpu Size (Mbytes): 10e-6 * (total size of CPU to GPU copies per processor)\n",
            "   GpuToCpu Count: total number of GPU to CPU copies per processor\n",
            "   GpuToCpu Size (Mbytes): 10e-6 * (total size of GPU to CPU copies per processor)\n",
            "   GPU %F: percent flops on GPU in this event\n",
            "------------------------------------------------------------------------------------------------------------------------\n",
            "Event                Count      Time (sec)     Flop                              --- Global ---  --- Stage ----  Total   GPU    - CpuToGpu -   - GpuToCpu - GPU\n",
            "                   Max Ratio  Max     Ratio   Max  Ratio  Mess   AvgLen  Reduct  %T %F %M %L %R  %T %F %M %L %R Mflop/s Mflop/s Count   Size   Count   Size  %F\n",
            "---------------------------------------------------------------------------------------------------------------------------------------------------------------\n",
            "\n",
            "--- Event Stage 0: Main Stage\n",
            "\n",
            "MatMult                8 1.0   nan nan 1.03e+08 1.0 0.0e+00 0.0e+00 0.0e+00  0  0  0  0  0   0 96  0  0  0  -nan    -nan      4 3.20e+01    0 0.00e+00  100\n",
            "DCtxCreate             1 1.0   nan nan 0.00e+00 0.0 0.0e+00 0.0e+00 0.0e+00  0  0  0  0  0   0  0  0  0  0  -nan    -nan      0 0.00e+00    0 0.00e+00  0\n",
            "DCtxSetUp              1 1.0   nan nan 0.00e+00 0.0 0.0e+00 0.0e+00 0.0e+00  0  0  0  0  0   0  0  0  0  0  -nan    -nan      0 0.00e+00    0 0.00e+00  0\n",
            "DCtxSetDevice          1 1.0   nan nan 0.00e+00 0.0 0.0e+00 0.0e+00 0.0e+00  0  0  0  0  0   0  0  0  0  0  -nan    -nan      0 0.00e+00    0 0.00e+00  0\n",
            "DCtxSync              16 1.0   nan nan 0.00e+00 0.0 0.0e+00 0.0e+00 0.0e+00  0  0  0  0  0   0  0  0  0  0  -nan    -nan      0 0.00e+00    0 0.00e+00  0\n",
            "VecSet                 4 1.0   nan nan 0.00e+00 0.0 0.0e+00 0.0e+00 0.0e+00  0  0  0  0  0   0  0  0  0  0  -nan    -nan      0 0.00e+00    0 0.00e+00  0\n",
            "VecCUDACopyTo          4 1.0   nan nan 0.00e+00 0.0 0.0e+00 0.0e+00 0.0e+00  0  0  0  0  0   0  0  0  0  0  -nan    -nan      4 3.20e+01    0 0.00e+00  0\n",
            "VecCUDACopyFrom       12 1.0   nan nan 0.00e+00 0.0 0.0e+00 0.0e+00 0.0e+00  0  0  0  0  0   1  0  0  0  0  -nan    -nan      0 0.00e+00   12 9.60e+01  0\n",
            "\n",
            "--- Event Stage 1: foam_p_mat\n",
            "\n",
            "MatAssemblyBegin       4 1.0   nan nan 0.00e+00 0.0 0.0e+00 0.0e+00 0.0e+00  0  0  0  0  0   0  0  0  0  0  -nan    -nan      0 0.00e+00    0 0.00e+00  0\n",
            "MatAssemblyEnd         4 1.0   nan nan 0.00e+00 0.0 0.0e+00 0.0e+00 0.0e+00  0  0  0  0  0   1  0  0  0  0  -nan    -nan      0 0.00e+00    0 0.00e+00  0\n",
            "MatCUSPARSCopyTo       1 1.0   nan nan 0.00e+00 0.0 0.0e+00 0.0e+00 0.0e+00  0  0  0  0  0   2  0  0  0  0  -nan    -nan      1 8.73e+01    0 0.00e+00  0\n",
            "MatSetPreallCOO        1 1.0   nan nan 0.00e+00 0.0 0.0e+00 0.0e+00 0.0e+00  0  0  0  0  0  15  0  0  0  0  -nan    -nan      3 1.43e+02    1 3.18e+01  0\n",
            "MatSetValuesCOO        4 1.0   nan nan 0.00e+00 0.0 0.0e+00 0.0e+00 0.0e+00  0  0  0  0  0   7  0  0  0  0  -nan    -nan      4 2.22e+02    0 0.00e+00  0\n",
            "DCtxCreate             1 1.0   nan nan 0.00e+00 0.0 0.0e+00 0.0e+00 0.0e+00  0  0  0  0  0   0  0  0  0  0  -nan    -nan      0 0.00e+00    0 0.00e+00  0\n",
            "DCtxSetUp              1 1.0   nan nan 0.00e+00 0.0 0.0e+00 0.0e+00 0.0e+00  0  0  0  0  0   0  0  0  0  0  -nan    -nan      0 0.00e+00    0 0.00e+00  0\n",
            "DCtxSetDevice          1 1.0   nan nan 0.00e+00 0.0 0.0e+00 0.0e+00 0.0e+00  0  0  0  0  0   0  0  0  0  0  -nan    -nan      0 0.00e+00    0 0.00e+00  0\n",
            "\n",
            "--- Event Stage 2: foam_p_pc\n",
            "\n",
            "MatCholFctrNum         4 1.0   nan nan 1.41e+08 1.0 0.0e+00 0.0e+00 0.0e+00  0  0  0  0  0  58 100  0  0  0  -nan    -nan      0 0.00e+00    0 0.00e+00  100\n",
            "MatICCFactorSym        1 1.0   nan nan 0.00e+00 0.0 0.0e+00 0.0e+00 0.0e+00  0  0  0  0  0  40  0  0  0  0  -nan    -nan      0 0.00e+00    0 0.00e+00  0\n",
            "MatGetRowIJ            1 1.0   nan nan 0.00e+00 0.0 0.0e+00 0.0e+00 0.0e+00  0  0  0  0  0   0  0  0  0  0  -nan    -nan      0 0.00e+00    0 0.00e+00  0\n",
            "MatGetOrdering         1 1.0   nan nan 0.00e+00 0.0 0.0e+00 0.0e+00 0.0e+00  0  0  0  0  0   2  0  0  0  0  -nan    -nan      0 0.00e+00    0 0.00e+00  0\n",
            "KSPSetUp               8 1.0   nan nan 0.00e+00 0.0 0.0e+00 0.0e+00 0.0e+00  0  0  0  0  0   0  0  0  0  0  -nan    -nan      0 0.00e+00    0 0.00e+00  0\n",
            "PCSetUp                8 1.0   nan nan 1.41e+08 1.0 0.0e+00 0.0e+00 0.0e+00  1  0  0  0  0 100 100  0  0  0  -nan    -nan      0 0.00e+00    0 0.00e+00  100\n",
            "PCSetUpOnBlocks        4 1.0   nan nan 1.41e+08 1.0 0.0e+00 0.0e+00 0.0e+00  1  0  0  0  0 100 100  0  0  0  -nan    -nan      0 0.00e+00    0 0.00e+00  100\n",
            "\n",
            "--- Event Stage 3: foam_p_ksp\n",
            "\n",
            "MatMult             8398 1.0   nan nan 1.08e+11 1.0 0.0e+00 0.0e+00 0.0e+00  0 32  0  0  0   0 32  0  0  0  -nan    -nan      0 0.00e+00    0 0.00e+00  100\n",
            "MatSolve            8390 1.0   nan nan 1.08e+11 1.0 0.0e+00 0.0e+00 0.0e+00  0 32  0  0  0   0 32  0  0  0  -nan    -nan      0 0.00e+00    0 0.00e+00  100\n",
            "cuBLAS Init            1 1.0   nan nan 0.00e+00 0.0 0.0e+00 0.0e+00 0.0e+00  1  0  0  0  0   2  0  0  0  0  -nan    -nan      0 0.00e+00    0 0.00e+00  0\n",
            "DCtxFork            8382 1.0   nan nan 0.00e+00 0.0 0.0e+00 0.0e+00 0.0e+00  0  0  0  0  0   0  0  0  0  0  -nan    -nan      0 0.00e+00    0 0.00e+00  0\n",
            "DCtxJoin            8382 1.0   nan nan 0.00e+00 0.0 0.0e+00 0.0e+00 0.0e+00  0  0  0  0  0   0  0  0  0  0  -nan    -nan      0 0.00e+00    0 0.00e+00  0\n",
            "DCtxSync           58706 1.0   nan nan 0.00e+00 0.0 0.0e+00 0.0e+00 0.0e+00 14  0  0  0  0  15  0  0  0  0  -nan    -nan      0 0.00e+00    0 0.00e+00  0\n",
            "DCtxMark           16764 1.0   nan nan 0.00e+00 0.0 0.0e+00 0.0e+00 0.0e+00  0  0  0  0  0   0  0  0  0  0  -nan    -nan      0 0.00e+00    0 0.00e+00  0\n",
            "KSPSolve               4 1.0 3.4690e+01 1.0 3.42e+11 1.0 0.0e+00 0.0e+00 0.0e+00 91 100  0  0  0 100 100  0  0  0  9860    -nan      4 3.20e+01 8382 1.34e-01  100\n",
            "PCSetUpOnBlocks        4 1.0   nan nan 0.00e+00 0.0 0.0e+00 0.0e+00 0.0e+00  0  0  0  0  0   0  0  0  0  0  -nan    -nan      0 0.00e+00    0 0.00e+00  0\n",
            "PCApply             8390 1.0   nan nan 1.08e+11 1.0 0.0e+00 0.0e+00 0.0e+00  1 32  0  0  0   2 32  0  0  0  -nan    -nan      0 0.00e+00    0 0.00e+00  100\n",
            "VecMDot             8382 1.0   nan nan 3.35e+10 1.0 0.0e+00 0.0e+00 0.0e+00  3 10  0  0  0   3 10  0  0  0  -nan    -nan      0 0.00e+00 8382 1.34e-01  100\n",
            "VecTDot               12 1.0   nan nan 2.40e+07 1.0 0.0e+00 0.0e+00 0.0e+00  0  0  0  0  0   0  0  0  0  0  -nan    -nan      0 0.00e+00    0 0.00e+00  100\n",
            "VecNorm            16780 1.0   nan nan 2.52e+10 1.0 0.0e+00 0.0e+00 0.0e+00 71  7  0  0  0  78  7  0  0  0  -nan    -nan      0 0.00e+00    0 0.00e+00  100\n",
            "VecCopy             8394 1.0   nan nan 0.00e+00 0.0 0.0e+00 0.0e+00 0.0e+00  2  0  0  0  0   2  0  0  0  0  -nan    -nan      0 0.00e+00    0 0.00e+00  0\n",
            "VecSet              8390 1.0   nan nan 0.00e+00 0.0 0.0e+00 0.0e+00 0.0e+00  1  0  0  0  0   1  0  0  0  0  -nan    -nan      0 0.00e+00    0 0.00e+00  0\n",
            "VecAXPY            16772 1.0   nan nan 3.35e+10 1.0 0.0e+00 0.0e+00 0.0e+00  5 10  0  0  0   5 10  0  0  0  -nan    -nan      0 0.00e+00    0 0.00e+00  100\n",
            "VecAYPX            16768 1.0   nan nan 3.35e+10 1.0 0.0e+00 0.0e+00 0.0e+00  7 10  0  0  0   8 10  0  0  0  -nan    -nan      4 3.20e+01    0 0.00e+00  100\n",
            "VecCUDACopyTo          4 1.0   nan nan 0.00e+00 0.0 0.0e+00 0.0e+00 0.0e+00  0  0  0  0  0   0  0  0  0  0  -nan    -nan      4 3.20e+01    0 0.00e+00  0\n",
            "\n",
            "--- Event Stage 4: Unknown\n",
            "\n",
            "---------------------------------------------------------------------------------------------------------------------------------------------------------------\n",
            "\n",
            "Object Type          Creations   Destructions. Reports information only for process 0.\n",
            "\n",
            "--- Event Stage 0: Main Stage\n",
            "\n",
            "           Container     0             10\n",
            "              Matrix     0              2\n",
            "  PetscDeviceContext     1              0\n",
            "       Krylov Solver     0              2\n",
            "      Preconditioner     0              2\n",
            "              Vector     7             16\n",
            "              Viewer     1              0\n",
            "\n",
            "--- Event Stage 1: foam_p_mat\n",
            "\n",
            "           Container     4              0\n",
            "              Matrix     1              0\n",
            "  PetscDeviceContext     1              0\n",
            "       Krylov Solver     1              0\n",
            "      Preconditioner     1              0\n",
            "              Vector     2              0\n",
            "\n",
            "--- Event Stage 2: foam_p_pc\n",
            "\n",
            "              Matrix     1              0\n",
            "       Krylov Solver     1              0\n",
            "      Preconditioner     1              0\n",
            "              Vector     8              1\n",
            "           Index Set     2              2\n",
            "\n",
            "--- Event Stage 3: foam_p_ksp\n",
            "\n",
            "           Container     6              0\n",
            "\n",
            "--- Event Stage 4: Unknown\n",
            "\n",
            "========================================================================================================================\n",
            "Average time to get PetscTime(): 4.16e-08\n",
            "#PETSc Option Table entries:\n",
            "-eqn_p_ksp_cg_single_reduction true # (source: code)\n",
            "-eqn_p_ksp_type cg # (source: code)\n",
            "-eqn_p_mat_type aijcusparse # (source: code)\n",
            "-eqn_p_pc_type bjacobi # (source: code)\n",
            "-eqn_p_sub_pc_factor_shift_type none # (source: code)\n",
            "-eqn_p_sub_pc_type icc # (source: code)\n",
            "-log_view # (source: environment)\n",
            "-use_gpu_aware_mpi 0 # (source: environment)\n",
            "#End of PETSc Option Table entries\n",
            "Compiled without FORTRAN kernels\n",
            "Compiled with full precision matrices (default)\n",
            "sizeof(short) 2 sizeof(int) 4 sizeof(long) 8 sizeof(void*) 8 sizeof(PetscScalar) 8 sizeof(PetscInt) 4\n",
            "Configure options: --prefix=/usr/lib/openfoam/openfoam2306/ThirdParty/platforms/linux64GccDPInt32/petsc-3.19.2 --PETSC_DIR=/usr/lib/openfoam/openfoam2306/ThirdParty/sources/petsc-3.19.2 --with-petsc-arch=DPInt32 --with-clanguage=C --with-fc=0 --with-x=0 --with-cc=/usr/bin/mpicc --with-cxx=/usr/bin/mpicxx --with-debugging=0 --COPTFLAGS=-O3 --CXXOPTFLAGS=-O3 --with-shared-libraries --with-64-bit-indices=0 --with-precision=double --with-hypre=0 --with-cuda\n",
            "-----------------------------------------\n",
            "Libraries compiled on 2023-09-06 08:23:32 on fbbb6d8f5f70 \n",
            "Machine characteristics: Linux-5.15.109+-x86_64-with-glibc2.35\n",
            "Using PETSc directory: /usr/lib/openfoam/openfoam2306/ThirdParty/platforms/linux64GccDPInt32/petsc-3.19.2\n",
            "Using PETSc arch: \n",
            "-----------------------------------------\n",
            "\n",
            "Using C compiler: /usr/bin/mpicc  -fPIC -Wall -Wwrite-strings -Wno-unknown-pragmas -Wno-lto-type-mismatch -Wno-stringop-overflow -fstack-protector -fvisibility=hidden -O3  \n",
            "-----------------------------------------\n",
            "\n",
            "Using include paths: -I/usr/lib/openfoam/openfoam2306/ThirdParty/platforms/linux64GccDPInt32/petsc-3.19.2/include -I/usr/local/cuda/include\n",
            "-----------------------------------------\n",
            "\n",
            "Using C linker: /usr/bin/mpicc\n",
            "Using libraries: -Wl,-rpath,/usr/lib/openfoam/openfoam2306/ThirdParty/platforms/linux64GccDPInt32/petsc-3.19.2/lib -L/usr/lib/openfoam/openfoam2306/ThirdParty/platforms/linux64GccDPInt32/petsc-3.19.2/lib -lpetsc -Wl,-rpath,/usr/local/cuda/lib64 -L/usr/local/cuda/lib64 -L/usr/local/cuda/lib64/stubs -llapack -lblas -lm -lcudart -lnvToolsExt -lcufft -lcublas -lcusparse -lcusolver -lcurand -lcuda -lstdc++ -lquadmath\n",
            "-----------------------------------------\n",
            "\n"
          ]
        }
      ],
      "source": [
        "!case=S-petsc-1;\\\n",
        "source /usr/lib/openfoam/openfoam2306/etc/bashrc;\\\n",
        "eval $(foamEtcFile -sh -config petsc -- -force);\\\n",
        "PETSC_OPTIONS='-use_gpu_aware_mpi 0 -log_view' icoFoam -lib petscFoam 2>&1 | tee log.icoFoam.$case.log_view"
      ]
    },
    {
      "cell_type": "markdown",
      "metadata": {
        "id": "CZsdABLBOe2Z"
      },
      "source": [
        "#### プロファイラ系由での実行\n",
        "RapidCFDと同様に`nvprof`経由で`icoFoam`を実行することにより、ホットスポットのようなプロファイル情報が出力されますが、`icoFoam`全体ではなく、あくまでGPUに関するものが出力されます。"
      ]
    },
    {
      "cell_type": "code",
      "execution_count": null,
      "metadata": {
        "colab": {
          "base_uri": "https://localhost:8080/"
        },
        "id": "B17BecbFOe2o",
        "outputId": "079457b9-dcd5-4ea3-d976-d904b74b4567"
      },
      "outputs": [
        {
          "output_type": "stream",
          "name": "stdout",
          "text": [
            "/*---------------------------------------------------------------------------*\\\n",
            "| =========                 |                                                 |\n",
            "| \\\\      /  F ield         | OpenFOAM: The Open Source CFD Toolbox           |\n",
            "|  \\\\    /   O peration     | Version:  2306                                  |\n",
            "|   \\\\  /    A nd           | Website:  www.openfoam.com                      |\n",
            "|    \\\\/     M anipulation  |                                                 |\n",
            "\\*---------------------------------------------------------------------------*/\n",
            "Build  : _fbf00d6b-20230626 OPENFOAM=2306 version=2306\n",
            "Arch   : \"LSB;label=32;scalar=64\"\n",
            "Exec   : icoFoam -lib petscFoam\n",
            "Date   : Sep 08 2023\n",
            "Time   : 09:36:49\n",
            "Host   : fa75ae8ec3df\n",
            "PID    : 10486\n",
            "I/O    : uncollated\n",
            "Case   : /content/drive/MyDrive/hpc-training-gpu-2023/hpc/Lid_driven_cavity-3d/S\n",
            "nProcs : 1\n",
            "trapFpe: Floating point exception trapping enabled (FOAM_SIGFPE).\n",
            "fileModificationChecking : Monitoring run-time modified files using timeStampMaster (fileModificationSkew 5, maxFileModificationPolls 20)\n",
            "allowSystemOperations : Allowing user-supplied system call operations\n",
            "\n",
            "// * * * * * * * * * * * * * * * * * * * * * * * * * * * * * * * * * * * * * //\n",
            "Create time\n",
            "\n",
            "Create mesh for time = 0\n",
            "\n",
            "\n",
            "PISO: Operating solver in PISO mode\n",
            "\n",
            "Reading transportProperties\n",
            "\n",
            "Reading field p\n",
            "\n",
            "Reading field U\n",
            "\n",
            "Reading/calculating face flux field phi\n",
            "\n",
            "\n",
            "Starting time loop\n",
            "\n",
            "Time = 0.001\n",
            "\n",
            "Courant Number mean: 0 max: 0\n",
            "DILUPBiCG:  Solving for Ux, Initial residual = 1, Final residual = 0.0395129, No Iterations 5\n",
            "DILUPBiCG:  Solving for Uy:  solution singularity\n",
            "DILUPBiCG:  Solving for Uz:  solution singularity\n",
            "ExecutionTime = 7.43 s  ClockTime = 8 s\n",
            "\n",
            "Initializing PETSc... ==10486== NVPROF is profiling process 10486, command: icoFoam -lib petscFoam\n",
            "success\n",
            "ExecutionTime = 7.53 s  ClockTime = 8 s\n",
            "\n",
            "PETSc-cg:  Solving for p, Initial residual = 1, Final residual = 9.92834e-05, No Iterations 2127\n",
            "time step continuity errors : sum local = 5.41391e-08, global = 6.78649e-21, cumulative = 6.78649e-21\n",
            "PETSc-cg:  Solving for p, Initial residual = 0.771014, Final residual = 9.92002e-05, No Iterations 2094\n",
            "time step continuity errors : sum local = 6.89552e-08, global = -6.16215e-21, cumulative = 6.24344e-22\n",
            "ExecutionTime = 30.16 s  ClockTime = 29 s\n",
            "\n",
            "Time = 0.002\n",
            "\n",
            "Courant Number mean: 0.055277 max: 0.807102\n",
            "DILUPBiCG:  Solving for Ux, Initial residual = 0.135435, Final residual = 0.012617, No Iterations 5\n",
            "DILUPBiCG:  Solving for Uy, Initial residual = 0.431439, Final residual = 0.0378801, No Iterations 5\n",
            "DILUPBiCG:  Solving for Uz, Initial residual = 0.989654, Final residual = 0.0739028, No Iterations 5\n",
            "PETSc-cg:  Solving for p, Initial residual = 0.810473, Final residual = 9.76971e-05, No Iterations 2086\n",
            "time step continuity errors : sum local = 1.05488e-07, global = 8.74798e-21, cumulative = 9.37233e-21\n",
            "PETSc-cg:  Solving for p, Initial residual = 0.752376, Final residual = 9.78481e-05, No Iterations 2079\n",
            "time step continuity errors : sum local = 1.07607e-07, global = -5.98838e-21, cumulative = 3.38394e-21\n",
            "ExecutionTime = 52.44 s  ClockTime = 49 s\n",
            "\n",
            "End\n",
            "\n",
            "Finalizing PETSc\n",
            "==10486== Profiling application: icoFoam -lib petscFoam\n",
            "==10486== Profiling result:\n",
            "            Type  Time(%)      Time     Calls       Avg       Min       Max  Name\n",
            " GPU activities:   62.12%  20.9634s     16780  1.2493ms  1.1054ms  1.7355ms  void cusparse::spsm_v1_ker<int, double, int=128, int=2, int=16, int=16, int=1>(int, cusparse::spsm_v1_ker<int, double, int=128, int=2, int=16, int=16, int=1>, cusparse::spsm_v1_ker<int, double, int=128, int=2, int=16, int=16, int=1>, cusparse::spsm_v1_ker<int, double, int=128, int=2, int=16, int=16, int=1>, cusparse::spsm_v1_ker<int, double, int=128, int=2, int=16, int=16, int=1>, int, double*, double, cusparse::spsm_v1_ker<int, double, int=128, int=2, int=16, int=16, int=1> const *, cusparse::spsm_v1_ker<int, double, int=128, int=2, int=16, int=16, int=1> const , int const *, int const , unsigned int*, int const *, int const *, cusparse::KernelCoeffs<int>, int, unsigned int, unsigned int)\n",
            "                   13.04%  4.40126s      8406  523.59us  496.28us  1.0225ms  _ZN8cusparse21load_balancing_kernelILj512ELj4ELm16384EiiNS_7CsrmvOpILi512EdLb0EEEJKiKdS4_didEEEvPKT3_T2_S5_S5_iPKS8_T4_DpPT5_\n",
            "                    9.52%  3.21191s     33540  95.763us  86.367us  97.375us  void axpy_kernel_val<double, double>(cublasAxpyParamsVal<double, double, double>)\n",
            "                    3.13%  1.05695s     16768  63.033us  58.207us  78.303us  void scal_kernel_val<double, double>(cublasScalParamsVal<double, double>)\n",
            "                    3.02%  1.01902s     16780  60.728us  18.751us  251.71us  void nrm2_kernel<double, double, double, int=0, int=0, int=128>(cublasNrm2Params<double, double>)\n",
            "                    2.45%  827.76ms      8382  98.754us  97.439us  110.66us  _ZN5Petsc3vec4cupm4impl7kernels11MDot_kernelIJPKdS6_EEEvS6_iPdDpT_\n",
            "                    1.60%  540.18ms      8403  64.283us  40.672us  461.63us  [CUDA memcpy DtoD]\n",
            "                    1.42%  480.77ms      8406  57.193us  50.143us  66.175us  _ZN8cusparse30binary_search_partition_kernelILi128ELi2048EiiNS_6ScaleYINS_20MatrixWiseMulPolicy1ILb0EdEEidEEJdEEEvPKT2_T1_S5_iPS8_T3_DpPT4_\n",
            "                    1.25%  421.64ms     16780  25.127us  3.8720us  57.055us  void asum_kernel<int, double, double>(cublasAsumParams<double, double>)\n",
            "                    0.99%  333.78ms     25240  13.224us  1.0560us  39.583us  [CUDA memset]\n",
            "                    0.30%  100.21ms      8415  11.908us  1.0880us  13.180ms  [CUDA memcpy HtoD]\n",
            "                    0.28%  94.300ms         4  23.575ms  16.425ms  44.900ms  void csric0_lower_domino_prefetch_level_core<double, double, int=5, int=3>(int, int, double*, int const *, int const *, int*, int*, int*, int*, int)\n",
            "                    0.22%  74.546ms      8382  8.8930us  7.7440us  13.312us  Petsc::vec::cupm::impl::kernels::_GLOBAL__N__f47c6a3d_13_vecseqcupm_cu_6fb2c862::sum_kernel(int, double*)\n",
            "                    0.19%  64.654ms     25210  2.5640us     576ns  17.334ms  [CUDA memcpy DtoH]\n",
            "                    0.14%  46.408ms         1  46.408ms  46.408ms  46.408ms  void csric0_domino_analysis_core<int=5, int=3>(int, int, int const *, int const *, int*, int, int*, int*, int*)\n",
            "                    0.07%  23.286ms         4  5.8215ms  5.8107ms  5.8293ms  void cusparse::create_perm_ker<int, double, int=128, bool=1>(int, cusparse::create_perm_ker<int, double, int=128, bool=1> const *, cusparse::create_perm_ker<int, double, int=128, bool=1> const , double*, unsigned int*, cusparse::create_perm_ker<int, double, int=128, bool=1>*, unsigned int*, double, double, int, cusparseFillMode_t, cusparseDiagType_t, bool)\n",
            "                    0.05%  18.369ms         8  2.2961ms  1.9202ms  3.3654ms  void cusparse::perm_row_offset_ker<int, int=32>(int, unsigned int*, int, cusparse::perm_row_offset_ker<int, int=32>*, unsigned int*, int)\n",
            "                    0.04%  11.969ms         4  2.9922ms  2.4186ms  4.6381ms  void cusparse::find_colors_ker<int, int=128, bool=1>(int, cusparse::find_colors_ker<int, int=128, bool=1> const *, cusparse::find_colors_ker<int, int=128, bool=1> const , cusparse::find_colors_ker<int, int=128, bool=1>*, cusparse::find_colors_ker<int, int=128, bool=1> const *, unsigned int*, cusparse::find_colors_ker<int, int=128, bool=1>*, cusparse::find_colors_ker<int, int=128, bool=1>*, cusparse::find_colors_ker<int, int=128, bool=1>*, cusparse::find_colors_ker<int, int=128, bool=1>*, cusparse::find_colors_ker<int, int=128, bool=1>*, int, cusparseFillMode_t)\n",
            "                    0.03%  10.788ms         4  2.6969ms  2.6924ms  2.7022ms  void cusparse::create_perm_ker<int, double, int=128, bool=0>(int, cusparse::create_perm_ker<int, double, int=128, bool=0> const *, cusparse::create_perm_ker<int, double, int=128, bool=0> const , double*, unsigned int*, cusparse::create_perm_ker<int, double, int=128, bool=0>*, unsigned int*, double, double, int, cusparseFillMode_t, cusparseDiagType_t, bool)\n",
            "                    0.03%  10.600ms         8  1.3250ms  1.0453ms  2.1406ms  void cusparse::triangular_row_offset_ker<int, int=32>(int, cusparse::triangular_row_offset_ker<int, int=32>*, unsigned int*)\n",
            "                    0.03%  9.6413ms         4  2.4103ms  1.9585ms  3.7624ms  void cusparse::find_colors_ker<int, int=128, bool=0>(int, cusparse::find_colors_ker<int, int=128, bool=0> const *, cusparse::find_colors_ker<int, int=128, bool=0> const , cusparse::find_colors_ker<int, int=128, bool=0>*, cusparse::find_colors_ker<int, int=128, bool=0> const *, unsigned int*, cusparse::find_colors_ker<int, int=128, bool=0>*, cusparse::find_colors_ker<int, int=128, bool=0>*, cusparse::find_colors_ker<int, int=128, bool=0>*, cusparse::find_colors_ker<int, int=128, bool=0>*, cusparse::find_colors_ker<int, int=128, bool=0>*, int, cusparseFillMode_t)\n",
            "                    0.03%  8.7265ms        11  793.32us  710.01us  949.49us  void thrust::cuda_cub::core::_kernel_agent<thrust::cuda_cub::__merge_sort::MergeAgent<thrust::zip_iterator<thrust::tuple<thrust::device_ptr<int>, thrust::device_ptr<int>, thrust::null_type, thrust::null_type, thrust::null_type, thrust::null_type, thrust::null_type, thrust::null_type, thrust::null_type, thrust::null_type>>, thrust::detail::normal_iterator<thrust::device_ptr<int>>, long, IJCompare, thrust::detail::integral_constant<bool, bool=1>>, bool, thrust::zip_iterator<thrust::tuple<thrust::device_ptr<int>, thrust::device_ptr<int>, thrust::null_type, thrust::null_type, thrust::null_type, thrust::null_type, thrust::null_type, thrust::null_type, thrust::null_type, thrust::null_type>>, thrust::detail::normal_iterator<thrust::device_ptr<int>>, long, thrust::tuple<int, int, thrust::null_type, thrust::null_type, thrust::null_type, thrust::null_type, thrust::null_type, thrust::null_type, thrust::null_type, thrust::null_type>*, int*, IJCompare, long*, long>(thrust::device_ptr<int>, thrust::device_ptr<int>, thrust::null_type, thrust::null_type, thrust::null_type, thrust::null_type, thrust::null_type, thrust::null_type, thrust::null_type)\n",
            "                    0.01%  3.1915ms         1  3.1915ms  3.1915ms  3.1915ms  void thrust::cuda_cub::core::_kernel_agent<thrust::cuda_cub::__merge_sort::BlockSortAgent<thrust::zip_iterator<thrust::tuple<thrust::device_ptr<int>, thrust::device_ptr<int>, thrust::null_type, thrust::null_type, thrust::null_type, thrust::null_type, thrust::null_type, thrust::null_type, thrust::null_type, thrust::null_type>>, thrust::detail::normal_iterator<thrust::device_ptr<int>>, long, IJCompare, thrust::detail::integral_constant<bool, bool=1>, thrust::detail::integral_constant<bool, bool=0>>, bool, thrust::zip_iterator<thrust::tuple<thrust::device_ptr<int>, thrust::device_ptr<int>, thrust::null_type, thrust::null_type, thrust::null_type, thrust::null_type, thrust::null_type, thrust::null_type, thrust::null_type, thrust::null_type>>, thrust::detail::normal_iterator<thrust::device_ptr<int>>, long, thrust::tuple<int, int, thrust::null_type, thrust::null_type, thrust::null_type, thrust::null_type, thrust::null_type, thrust::null_type, thrust::null_type, thrust::null_type>*, int*, IJCompare>(thrust::device_ptr<int>, thrust::device_ptr<int>, thrust::null_type, thrust::null_type, thrust::null_type, thrust::null_type, thrust::null_type)\n",
            "                    0.01%  2.2679ms         4  566.98us  566.84us  567.07us  void thrust::cuda_cub::core::_kernel_agent<thrust::cuda_cub::__parallel_for::ParallelForAgent<thrust::cuda_cub::for_each_f<thrust::zip_iterator<thrust::tuple<thrust::permutation_iterator<thrust::device_ptr<double const >, thrust::detail::normal_iterator<thrust::device_ptr<int>>>, thrust::detail::normal_iterator<thrust::device_ptr<double>>, thrust::null_type, thrust::null_type, thrust::null_type, thrust::null_type, thrust::null_type, thrust::null_type, thrust::null_type, thrust::null_type>>, thrust::detail::wrapped_function<VecCUDAEquals, void>>, long>, thrust::cuda_cub::for_each_f<thrust::zip_iterator<thrust::tuple<thrust::permutation_iterator<thrust::device_ptr<double const >, thrust::detail::normal_iterator<thrust::device_ptr<int>>>, thrust::detail::normal_iterator<thrust::device_ptr<double>>, thrust::null_type, thrust::null_type, thrust::null_type, thrust::null_type, thrust::null_type, thrust::null_type, thrust::null_type, thrust::null_type>>, thrust::detail::wrapped_function<VecCUDAEquals, void>>, long>(thrust::device_ptr<double const >, int)\n",
            "                    0.00%  1.1702ms         5  234.04us  231.58us  237.02us  void thrust::cuda_cub::core::_kernel_agent<thrust::cuda_cub::__parallel_for::ParallelForAgent<thrust::cuda_cub::__uninitialized_fill::functor<thrust::device_ptr<double>, double>, unsigned long>, thrust::cuda_cub::__uninitialized_fill::functor<thrust::device_ptr<double>, double>, unsigned long>(thrust::device_ptr<double>, double)\n",
            "                    0.00%  1.0511ms         4  262.77us  258.20us  275.81us  void cusparse::do_triangular_pattern_ker<int, int=128>(int, cusparse::do_triangular_pattern_ker<int, int=128> const *, cusparse::do_triangular_pattern_ker<int, int=128> const , cusparse::do_triangular_pattern_ker<int, int=128>*, cusparse::do_triangular_pattern_ker<int, int=128> const *, int, cusparseFillMode_t)\n",
            "                    0.00%  869.97us         4  217.49us  216.25us  219.45us  void cusparse::number_of_deps_ker<int, int=128, bool=1>(int, cusparse::number_of_deps_ker<int, int=128, bool=1> const *, cusparse::number_of_deps_ker<int, int=128, bool=1> const , unsigned int*, cusparse::number_of_deps_ker<int, int=128, bool=1>*, int, cusparseFillMode_t)\n",
            "                    0.00%  832.79us        12  69.399us  62.879us  74.815us  void dot_kernel<double, int=128, int=0, cublasDotParams<cublasGemvTensor<double const >, cublasGemvTensorStridedBatched<double>>>(double const )\n",
            "                    0.00%  779.19us         4  194.80us  194.30us  195.36us  void cusparse::number_of_deps_ker<int, int=128, bool=0>(int, cusparse::number_of_deps_ker<int, int=128, bool=0> const *, cusparse::number_of_deps_ker<int, int=128, bool=0> const , unsigned int*, cusparse::number_of_deps_ker<int, int=128, bool=0>*, int, cusparseFillMode_t)\n",
            "                    0.00%  697.98us         9  77.552us  70.751us  80.671us  void stable_sort_by_key_merge_core<int=256, int=4>(int, int*, int*, int*, int*, int*, int*)\n",
            "                    0.00%  626.74us         1  626.74us  626.74us  626.74us  void thrust::cuda_cub::core::_kernel_agent<thrust::cuda_cub::__unique::UniqueAgent<thrust::zip_iterator<thrust::tuple<thrust::device_ptr<int>, thrust::device_ptr<int>, thrust::null_type, thrust::null_type, thrust::null_type, thrust::null_type, thrust::null_type, thrust::null_type, thrust::null_type, thrust::null_type>>, thrust::zip_iterator<thrust::tuple<thrust::device_ptr<int>, thrust::device_ptr<int>, thrust::null_type, thrust::null_type, thrust::null_type, thrust::null_type, thrust::null_type, thrust::null_type, thrust::null_type, thrust::null_type>>, IJEqual, int, int*>, thrust::zip_iterator<thrust::tuple<thrust::device_ptr<int>, thrust::device_ptr<int>, thrust::null_type, thrust::null_type, thrust::null_type, thrust::null_type, thrust::null_type, thrust::null_type, thrust::null_type, thrust::null_type>>, thrust::zip_iterator<thrust::tuple<thrust::device_ptr<int>, thrust::device_ptr<int>, thrust::null_type, thrust::null_type, thrust::null_type, thrust::null_type, thrust::null_type, thrust::null_type, thrust::null_type, thrust::null_type>>, IJEqual, int*, int, cub::ScanTileState<int, bool=1>, unsigned long>(thrust::device_ptr<int>, thrust::device_ptr<int>, thrust::null_type, thrust::null_type, thrust::null_type, thrust::null_type, thrust::null_type)\n",
            "                    0.00%  606.46us         9  67.384us  65.791us  70.016us  void stable_sort_by_key_local_core<int=256, int=4>(int, int, int*, int*, int*, int*)\n",
            "                    0.00%  402.43us         5  80.485us  16.800us  123.68us  void thrust::cuda_cub::core::_kernel_agent<thrust::cuda_cub::__parallel_for::ParallelForAgent<thrust::cuda_cub::__uninitialized_fill::functor<thrust::device_ptr<int>, int>, unsigned long>, thrust::cuda_cub::__uninitialized_fill::functor<thrust::device_ptr<int>, int>, unsigned long>(thrust::device_ptr<int>, int)\n",
            "                    0.00%  382.65us        11  34.786us  21.088us  56.416us  void thrust::cuda_cub::core::_kernel_agent<thrust::cuda_cub::__merge_sort::PartitionAgent<thrust::zip_iterator<thrust::tuple<thrust::device_ptr<int>, thrust::device_ptr<int>, thrust::null_type, thrust::null_type, thrust::null_type, thrust::null_type, thrust::null_type, thrust::null_type, thrust::null_type, thrust::null_type>>, long, IJCompare>, bool, thrust::zip_iterator<thrust::tuple<thrust::device_ptr<int>, thrust::device_ptr<int>, thrust::null_type, thrust::null_type, thrust::null_type, thrust::null_type, thrust::null_type, thrust::null_type, thrust::null_type, thrust::null_type>>, thrust::tuple<int, int, thrust::null_type, thrust::null_type, thrust::null_type, thrust::null_type, thrust::null_type, thrust::null_type, thrust::null_type, thrust::null_type>*, long, unsigned long, long*, IJCompare, long, int>(thrust::device_ptr<int>, thrust::device_ptr<int>, thrust::null_type, thrust::null_type, thrust::null_type, thrust::null_type, thrust::null_type, thrust::null_type, thrust::null_type)\n",
            "                    0.00%  346.33us         1  346.33us  346.33us  346.33us  void thrust::cuda_cub::core::_kernel_agent<thrust::cuda_cub::__parallel_for::ParallelForAgent<thrust::cuda_cub::for_each_f<thrust::zip_iterator<thrust::tuple<thrust::counting_iterator<int, thrust::use_default, thrust::use_default, thrust::use_default>, thrust::detail::normal_iterator<thrust::device_ptr<int>>, thrust::null_type, thrust::null_type, thrust::null_type, thrust::null_type, thrust::null_type, thrust::null_type, thrust::null_type, thrust::null_type>>, thrust::detail::wrapped_function<thrust::system::detail::generic::detail::binary_search_functor<thrust::device_ptr<int>, thrust::system::detail::generic::detail::binary_search_less, thrust::system::detail::generic::detail::ubf>, void>>, long>, thrust::cuda_cub::for_each_f<thrust::zip_iterator<thrust::tuple<thrust::counting_iterator<int, thrust::use_default, thrust::use_default, thrust::use_default>, thrust::detail::normal_iterator<thrust::device_ptr<int>>, thrust::null_type, thrust::null_type, thrust::null_type, thrust::null_type, thrust::null_type, thrust::null_type, thrust::null_type, thrust::null_type>>, thrust::detail::wrapped_function<thrust::system::detail::generic::detail::binary_search_functor<thrust::device_ptr<int>, thrust::system::detail::generic::detail::binary_search_less, thrust::system::detail::generic::detail::ubf>, void>>, long>(thrust::use_default, thrust::use_default)\n",
            "                    0.00%  251.20us         1  251.20us  251.20us  251.20us  void thrust::cuda_cub::core::_kernel_agent<thrust::cuda_cub::__parallel_for::ParallelForAgent<thrust::cuda_cub::__transform::unary_transform_f<thrust::device_ptr<int>, thrust::detail::normal_iterator<thrust::device_ptr<int>>, thrust::cuda_cub::__transform::no_stencil_tag, thrust::identity<int>, thrust::cuda_cub::__transform::always_true_predicate>, long>, thrust::cuda_cub::__transform::unary_transform_f<thrust::device_ptr<int>, thrust::detail::normal_iterator<thrust::device_ptr<int>>, thrust::cuda_cub::__transform::no_stencil_tag, thrust::identity<int>, thrust::cuda_cub::__transform::always_true_predicate>, long>(thrust::device_ptr<int>, thrust::device_ptr<int>)\n",
            "                    0.00%  247.80us         1  247.80us  247.80us  247.80us  void thrust::cuda_cub::core::_kernel_agent<thrust::cuda_cub::__parallel_for::ParallelForAgent<thrust::cuda_cub::__transform::unary_transform_f<thrust::device_ptr<int>, thrust::device_ptr<int>, thrust::cuda_cub::__transform::no_stencil_tag, thrust::identity<int>, thrust::cuda_cub::__transform::always_true_predicate>, long>, thrust::cuda_cub::__transform::unary_transform_f<thrust::device_ptr<int>, thrust::device_ptr<int>, thrust::cuda_cub::__transform::no_stencil_tag, thrust::identity<int>, thrust::cuda_cub::__transform::always_true_predicate>, long>(thrust::device_ptr<int>, thrust::device_ptr<int>)\n",
            "                    0.00%  215.23us         9  23.914us  23.327us  24.479us  void stable_sort_by_key_stop_core<int=256, int=4>(int, int*, int*)\n",
            "                    0.00%  182.59us         4  45.647us  41.888us  55.903us  void cub::DeviceReduceKernel<cub::DeviceReducePolicy<double, double, int, thrust::plus<double>>::Policy600, thrust::device_ptr<double>, double*, int, thrust::plus<double>>(double, int, double, cub::GridEvenShare<int>, thrust::plus<double>)\n",
            "                    0.00%  124.83us         4  31.207us  29.471us  35.872us  void thrust::cuda_cub::core::_kernel_agent<thrust::cuda_cub::__parallel_for::ParallelForAgent<thrust::cuda_cub::__fill::functor<thrust::device_ptr<double>, double>, long>, thrust::cuda_cub::__fill::functor<thrust::device_ptr<double>, double>, long>(thrust::device_ptr<double>, double)\n",
            "                    0.00%  122.78us         1  122.78us  122.78us  122.78us  void thrust::cuda_cub::core::_kernel_agent<thrust::cuda_cub::__parallel_for::ParallelForAgent<thrust::cuda_cub::__tabulate::functor<thrust::detail::normal_iterator<thrust::device_ptr<int>>, thrust::system::detail::generic::detail::compute_sequence_value<int, void>, long>, long>, thrust::cuda_cub::__tabulate::functor<thrust::detail::normal_iterator<thrust::device_ptr<int>>, thrust::system::detail::generic::detail::compute_sequence_value<int, void>, long>, long>(thrust::device_ptr<int>, thrust::detail::normal_iterator<thrust::device_ptr<int>>)\n",
            "                    0.00%  60.097us        12  5.0080us  4.3840us  6.7840us  void reduce_1Block_kernel<double, int=128, int=7, cublasGemvTensorStridedBatched<double>, cublasGemvTensorStridedBatched<double>, cublasGemvTensorStridedBatched<double>>(double const *, double, double, int, double const *, double, cublasGemvTensorStridedBatched<double>, cublasGemvTensorStridedBatched<double>, cublasPointerMode_t, cublasLtEpilogue_t, cublasGemvTensorStridedBatched<biasType<cublasGemvTensorStridedBatched<double>::value_type, double>::type const >)\n",
            "                    0.00%  59.007us         9  6.5560us  6.5280us  6.6240us  void cusparseIinclusive_scan_domino_v1_core<int=256, int=4>(int, int*, int*, int*, int*, int*)\n",
            "                    0.00%  57.312us         9  6.3680us  6.3040us  6.5280us  void cusparseIinclusive_localscan_core<int=256, int=4>(int, int*, int*, int*)\n",
            "                    0.00%  52.000us         9  5.7770us  5.7280us  6.0160us  void cusparseIinclusive_scan_merge_core<int=256, int=4>(int, int, int*, int*, int*)\n",
            "                    0.00%  24.576us         1  24.576us  24.576us  24.576us  void set_identy<int=128>(int, int*)\n",
            "                    0.00%  18.623us         4  4.6550us  3.7120us  7.4560us  void cub::DeviceReduceSingleTileKernel<cub::DeviceReducePolicy<double, double, int, thrust::plus<double>>::Policy600, double*, double*, int, thrust::plus<double>, double>(double, int, double, thrust::plus<double>, cub::DeviceReducePolicy<double, double, int, thrust::plus<double>>::Policy600)\n",
            "                    0.00%  5.5030us         1  5.5030us  5.5030us  5.5030us  void thrust::cuda_cub::core::_kernel_agent<thrust::cuda_cub::__unique::InitAgent<cub::ScanTileState<int, bool=1>, int*, int>, cub::ScanTileState<int, bool=1>, unsigned long, int*>(bool=1, cub::ScanTileState<int, bool=1>, int*)\n",
            "      API calls:   75.68%  28.5848s     33627  850.05us  4.4020us  51.675ms  cudaMemcpyAsync\n",
            "                   13.98%  5.28002s     67144  78.637us  1.9340us  12.184ms  cudaStreamSynchronize\n",
            "                    2.75%  1.03716s      8401  123.46us  8.9860us  18.316ms  cudaMemcpy\n",
            "                    2.57%  969.20ms    134407  7.2100us  3.4880us  10.148ms  cudaLaunchKernel\n",
            "                    2.50%  946.04ms        55  17.201ms     404ns  527.93ms  cudaFree\n",
            "                    0.70%  264.17ms         1  264.17ms  264.17ms  264.17ms  cudaSetDeviceFlags\n",
            "                    0.32%  121.39ms     58722  2.0670us     775ns  12.553ms  cudaStreamQuery\n",
            "                    0.24%  89.955ms      8390  10.721us  5.8330us  1.8170ms  cudaMemset\n",
            "                    0.22%  81.711ms     16850  4.8490us  2.0590us  736.73us  cudaMemsetAsync\n",
            "                    0.19%  71.849ms     41938  1.7130us     729ns  8.0187ms  cudaEventRecord\n",
            "                    0.18%  69.872ms    218517     319ns     135ns  7.6525ms  cudaGetLastError\n",
            "                    0.18%  69.439ms     16793  4.1340us  2.2240us  965.00us  cudaFuncGetAttributes\n",
            "                    0.15%  57.199ms     75490     757ns     343ns  164.56us  cudaSetDevice\n",
            "                    0.12%  43.763ms     50376     868ns     304ns  9.8582ms  cudaStreamGetCaptureInfo\n",
            "                    0.10%  37.881ms     16792  2.2550us  1.5030us  35.277us  cudaEventQuery\n",
            "                    0.04%  15.329ms         4  3.8323ms  3.2493ms  4.3814ms  cudaMallocHost\n",
            "                    0.03%  9.6044ms        18  533.58us  1.3080us  9.5162ms  cudaFreeAsync\n",
            "                    0.02%  6.7348ms        48  140.31us  3.6710us  424.81us  cudaMalloc\n",
            "                    0.02%  6.6289ms         4  1.6572ms  1.5596ms  1.7008ms  cudaFreeHost\n",
            "                    0.02%  6.4215ms         6  1.0702ms  4.6290us  5.2601ms  cudaDeviceSynchronize\n",
            "                    0.00%  525.80us       395  1.3310us     128ns  73.342us  cuDeviceGetAttribute\n",
            "                    0.00%  394.64us         3  131.55us  125.44us  139.91us  cudaGetDeviceProperties\n",
            "                    0.00%  297.78us      1152     258ns     144ns  3.5890us  cuGetProcAddress\n",
            "                    0.00%  110.44us         7  15.776us  8.2200us  28.360us  cudaPointerGetAttributes\n",
            "                    0.00%  101.83us         3  33.943us  1.2930us  98.393us  cudaMallocAsync\n",
            "                    0.00%  88.906us         4  22.226us  12.854us  30.379us  cuDeviceGetName\n",
            "                    0.00%  73.780us        79     933ns     288ns  4.8080us  cudaGetDevice\n",
            "                    0.00%  64.630us        55  1.1750us     278ns  13.728us  cudaDeviceGetAttribute\n",
            "                    0.00%  44.469us        23  1.9330us     620ns  10.508us  cudaEventDestroy\n",
            "                    0.00%  34.125us         1  34.125us  34.125us  34.125us  cudaDeviceGetMemPool\n",
            "                    0.00%  25.950us        23  1.1280us     451ns  5.2630us  cudaEventCreateWithFlags\n",
            "                    0.00%  24.856us         8  3.1070us     651ns  8.9150us  cudaOccupancyMaxActiveBlocksPerMultiprocessorWithFlags\n",
            "                    0.00%  22.976us       110     208ns     142ns     474ns  cudaPeekAtLastError\n",
            "                    0.00%  6.7860us         3  2.2620us  1.8290us  2.9700us  cuInit\n",
            "                    0.00%  6.3120us         1  6.3120us  6.3120us  6.3120us  cuDeviceGetPCIBusId\n",
            "                    0.00%  5.5370us         2  2.7680us     302ns  5.2350us  cudaGetDeviceCount\n",
            "                    0.00%  3.5270us         1  3.5270us  3.5270us  3.5270us  cudaMemPoolSetAttribute\n",
            "                    0.00%  2.2150us         6     369ns     196ns  1.1430us  cuDeviceGetCount\n",
            "                    0.00%  2.0930us         4     523ns     302ns     847ns  cuDeviceTotalMem\n",
            "                    0.00%  1.4530us         1  1.4530us  1.4530us  1.4530us  cudaGetSymbolAddress\n",
            "                    0.00%  1.3590us         5     271ns     169ns     615ns  cuDeviceGet\n",
            "                    0.00%  1.2400us         4     310ns     230ns     526ns  cuModuleGetLoadingMode\n",
            "                    0.00%     870ns         4     217ns     205ns     243ns  cuDeviceGetUuid\n",
            "                    0.00%     809ns         2     404ns     385ns     424ns  cudaDriverGetVersion\n",
            "                    0.00%     617ns         3     205ns     181ns     222ns  cuDriverGetVersion\n"
          ]
        }
      ],
      "source": [
        "!case=S-petsc-1;\\\n",
        "source /usr/lib/openfoam/openfoam2306/etc/bashrc;\\\n",
        "eval $(foamEtcFile -sh -config petsc -- -force);\\\n",
        "PETSC_OPTIONS='-use_gpu_aware_mpi 0' nvprof icoFoam -lib petscFoam 2>&1 | tee log.icoFoam.petsc-nvprof"
      ]
    },
    {
      "cell_type": "markdown",
      "source": [
        "`GPU activities`のホットスポットは 約62%を占める`cusparse::spsm_v1_ker` です。\n",
        "\n",
        "* cuSPARSE 6.6.8. cusparseSpSM() https://docs.nvidia.com/cuda/cusparse/index.html?highlight=spsm#cusparsespsm\n",
        "  * *The function solves a system of linear equations whose coefficients are represented in a sparse triangular matrix:*"
      ],
      "metadata": {
        "id": "BrFg6TYXD29N"
      }
    },
    {
      "cell_type": "markdown",
      "metadata": {
        "id": "QlNBjneyG-xA"
      },
      "source": [
        "## キャビティベンチマークケースMの実行\n"
      ]
    },
    {
      "cell_type": "markdown",
      "metadata": {
        "id": "DU9I_rRR0tAw"
      },
      "source": [
        "### ケースディレクトリへの移動"
      ]
    },
    {
      "cell_type": "code",
      "execution_count": null,
      "metadata": {
        "colab": {
          "base_uri": "https://localhost:8080/"
        },
        "id": "8tpNl1d1HGk-",
        "outputId": "19455729-b423-4f5b-a608-d985a2febfc6"
      },
      "outputs": [
        {
          "output_type": "stream",
          "name": "stdout",
          "text": [
            "/content/drive/MyDrive/hpc-training-gpu-2023/hpc/Lid_driven_cavity-3d/M\n"
          ]
        }
      ],
      "source": [
        "%cd /content/drive/MyDrive/hpc-training-gpu-2023/hpc/Lid_driven_cavity-3d/M"
      ]
    },
    {
      "cell_type": "markdown",
      "metadata": {
        "id": "a8P2VInWIoyi"
      },
      "source": [
        "### GPUでのRapidCFD版icoFoamソルバ実行(ケースM-RapidCFD)"
      ]
    },
    {
      "cell_type": "markdown",
      "metadata": {
        "id": "YTnR-0_off2H"
      },
      "source": [
        "#### ケースファイル修正\n",
        "ケースSと同様に修正します。"
      ]
    },
    {
      "cell_type": "code",
      "execution_count": null,
      "metadata": {
        "colab": {
          "base_uri": "https://localhost:8080/"
        },
        "id": "xMTbKKCTff2I",
        "outputId": "6c169c18-cab3-4808-d721-8df3cfc1efb1"
      },
      "outputs": [
        {
          "output_type": "stream",
          "name": "stdout",
          "text": [
            "Updated 3 paths from the index\n",
            "==> constant/transportProperties <==\n",
            "/*--------------------------------*- C++ -*----------------------------------*\\\n",
            "| =========                 |                                                 |\n",
            "| \\\\      /  F ield         | OpenFOAM: The Open Source CFD Toolbox           |\n",
            "|  \\\\    /   O peration     | Version:  v2006                                 |\n",
            "|   \\\\  /    A nd           | Website:  www.openfoam.com                      |\n",
            "|    \\\\/     M anipulation  |                                                 |\n",
            "\\*---------------------------------------------------------------------------*/\n",
            "FoamFile\n",
            "{\n",
            "    version     2.0;\n",
            "    format      ascii;\n",
            "    class       dictionary;\n",
            "    location    \"constant\";\n",
            "    object      transportProperties;\n",
            "}\n",
            "// * * * * * * * * * * * * * * * * * * * * * * * * * * * * * * * * * * * * * //\n",
            "\n",
            "nu nu              [0 2 -1 0 0 0 0] 0.01;\n",
            "\n",
            "// ************************************************************************* //\n",
            "\n",
            "==> system/controlDict <==\n",
            "/*--------------------------------*- C++ -*----------------------------------*\\\n",
            "| =========                 |                                                 |\n",
            "| \\\\      /  F ield         | OpenFOAM: The Open Source CFD Toolbox           |\n",
            "|  \\\\    /   O peration     | Version:  v2006                                 |\n",
            "|   \\\\  /    A nd           | Website:  www.openfoam.com                      |\n",
            "|    \\\\/     M anipulation  |                                                 |\n",
            "\\*---------------------------------------------------------------------------*/\n",
            "FoamFile\n",
            "{\n",
            "    version     2.0;\n",
            "    format      ascii;\n",
            "    class       dictionary;\n",
            "    location    \"system\";\n",
            "    object      controlDict;\n",
            "}\n",
            "// * * * * * * * * * * * * * * * * * * * * * * * * * * * * * * * * * * * * * //\n",
            "\n",
            "//libs            (petscFoam);\n",
            "\n",
            "application     icoFoam;\n",
            "\n",
            "startFrom       startTime;\n",
            "\n",
            "startTime       0;\n",
            "\n",
            "stopAt          endTime;\n",
            "\n",
            "endTime  0.0005;\n",
            "\n",
            "deltaT          0.00025;\n",
            "\n",
            "writeControl    timeStep;\n",
            "\n",
            "writeInterval   10000;\n",
            "\n",
            "purgeWrite      0;\n",
            "\n",
            "writeFormat     ascii;\n",
            "\n",
            "writePrecision  6;\n",
            "\n",
            "writeCompression off;\n",
            "\n",
            "timeFormat      general;\n",
            "\n",
            "timePrecision   6;\n",
            "\n",
            "runTimeModifiable true;\n",
            "\n",
            "functions\n",
            "{\n",
            "//    #includeFunc  solverInfo\n",
            "    // #includeFunc  residuals\n",
            "}\n",
            "\n",
            "// ************************************************************************* //\n",
            "\n",
            "==> system/fvSchemes <==\n",
            "/*--------------------------------*- C++ -*----------------------------------*\\\n",
            "| =========                 |                                                 |\n",
            "| \\\\      /  F ield         | OpenFOAM: The Open Source CFD Toolbox           |\n",
            "|  \\\\    /   O peration     | Version:  v2006                                 |\n",
            "|   \\\\  /    A nd           | Website:  www.openfoam.com                      |\n",
            "|    \\\\/     M anipulation  |                                                 |\n",
            "\\*---------------------------------------------------------------------------*/\n",
            "FoamFile\n",
            "{\n",
            "    version     2.0;\n",
            "    format      ascii;\n",
            "    class       dictionary;\n",
            "    location    \"system\";\n",
            "    object      fvSchemes;\n",
            "}\n",
            "// * * * * * * * * * * * * * * * * * * * * * * * * * * * * * * * * * * * * * //\n",
            "\n",
            "ddtSchemes\n",
            "{\n",
            "    default         Euler;\n",
            "}\n",
            "\n",
            "gradSchemes\n",
            "{\n",
            "    default         Gauss linear;\n",
            "    grad(p)         Gauss linear;\n",
            "}\n",
            "\n",
            "divSchemes\n",
            "{\n",
            "    default         none;\n",
            "    div(phi,U)      Gauss linear;\n",
            "}\n",
            "\n",
            "laplacianSchemes\n",
            "{\n",
            "    default         Gauss linear orthogonal;\n",
            "}\n",
            "\n",
            "interpolationSchemes\n",
            "{\n",
            "    default         linear;\n",
            "}\n",
            "\n",
            "snGradSchemes\n",
            "{\n",
            "    default         orthogonal;\n",
            "}\n",
            "\n",
            "\n",
            "// ************************************************************************* //\n",
            "fluxRequired {default no;p;}\n",
            "\n",
            "==> system/fvSolution.M-RapidCFD <==\n",
            "/*--------------------------------*- C++ -*----------------------------------*\\\n",
            "| =========                 |                                                 |\n",
            "| \\\\      /  F ield         | OpenFOAM: The Open Source CFD Toolbox           |\n",
            "|  \\\\    /   O peration     | Version:  v2006                                 |\n",
            "|   \\\\  /    A nd           | Website:  www.openfoam.com                      |\n",
            "|    \\\\/     M anipulation  |                                                 |\n",
            "\\*---------------------------------------------------------------------------*/\n",
            "FoamFile\n",
            "{\n",
            "    version     2.0;\n",
            "    format      ascii;\n",
            "    class       dictionary;\n",
            "    location    \"system\";\n",
            "    object      fvSolution;\n",
            "}\n",
            "// * * * * * * * * * * * * * * * * * * * * * * * * * * * * * * * * * * * * * //\n",
            "\n",
            "solvers\n",
            "{\n",
            "    p\n",
            "    {\n",
            "        solver          PCG;\n",
            "        preconditioner  DIC;\n",
            "        tolerance       1e-04;\n",
            "        relTol          0;\n",
            "        maxIter         3000;\n",
            "    }\n",
            "\n",
            "    pFinal\n",
            "    {\n",
            "        $p;\n",
            "        relTol          0;\n",
            "    }\n",
            "\n",
            "    U\n",
            "    {\n",
            "        solver          PBiCG;\n",
            "        preconditioner  DILU;\n",
            "        tolerance       0;\n",
            "        relTol          0;\n",
            "        maxIter         5;\n",
            "    }\n",
            "}\n",
            "\n",
            "PISO\n",
            "{\n",
            "    nCorrectors     2;\n",
            "    nNonOrthogonalCorrectors 0;\n",
            "    pRefCell        0;\n",
            "    pRefValue       0;\n",
            "}\n",
            "\n",
            "\n",
            "// ************************************************************************* //\n"
          ]
        }
      ],
      "source": [
        "!case=M-RapidCFD;\\\n",
        "git checkout system/controlDict system/fvSchemes constant/transportProperties;\\\n",
        "sed -i -e 's|^\\( *#includeFunc\\)|//\\1|' -e 's|\\(endTime \\).*|\\1 0.0005;|' system/controlDict;\\\n",
        "echo 'fluxRequired {default no;p;}' >> system/fvSchemes;\\\n",
        "sed -i s/'^\\(nu\\s*\\[\\)'/'nu \\1'/ constant/transportProperties;\\\n",
        "sed s/PBiCGStab/PBiCG/ system/fvSolution.fixedNORM > system/fvSolution.$case;\\\n",
        "tail -n+1 constant/transportProperties system/{controlDict,fvSchemes,fvSolution.$case}"
      ]
    },
    {
      "cell_type": "markdown",
      "metadata": {
        "id": "cJbpyd0tfIXK"
      },
      "source": [
        "#### 倍精度版icoFoamソルバの実行"
      ]
    },
    {
      "cell_type": "code",
      "execution_count": null,
      "metadata": {
        "colab": {
          "base_uri": "https://localhost:8080/"
        },
        "id": "SYEC3BlMIrK1",
        "outputId": "91f26773-e1db-4ef0-f6a5-35e9b1f1cd7c"
      },
      "outputs": [
        {
          "output_type": "stream",
          "name": "stdout",
          "text": [
            "/*---------------------------------------------------------------------------*\\\n",
            "| RapidCFD by simFlow (sim-flow.com)                                          |\n",
            "\\*---------------------------------------------------------------------------*/\n",
            "Build  : dev-5b41d2ecee8e\n",
            "Exec   : icoFoam\n",
            "Date   : Sep 08 2023\n",
            "Time   : 02:19:02\n",
            "Host   : \"fbba81102346\"\n",
            "PID    : 6958\n",
            "Case   : /content/drive/MyDrive/hpc-training-gpu-2023/hpc/Lid_driven_cavity-3d/M\n",
            "nProcs : 1\n",
            "sigFpe : Floating point exception trapping - not supported on this platform\n",
            "fileModificationChecking : Monitoring run-time modified files using timeStampMaster\n",
            "allowSystemOperations : Allowing user-supplied system call operations\n",
            "\n",
            "// * * * * * * * * * * * * * * * * * * * * * * * * * * * * * * * * * * * * * //\n",
            "Create time\n",
            "\n",
            "Create mesh for time = 0\n",
            "\n",
            "Reading transportProperties\n",
            "\n",
            "Reading field p\n",
            "\n",
            "Reading field U\n",
            "\n",
            "Reading/calculating face flux field phi\n",
            "\n",
            "\n",
            "Starting time loop\n",
            "\n",
            "Time = 0.00025\n",
            "\n",
            "Courant Number mean: 0 max: 0\n",
            "AINVPBiCG:  Solving for Ux, Initial residual = 1, Final residual = 0.0636108, No Iterations 6\n",
            "AINVPBiCG:  Solving for Uy:  solution singularity\n",
            "AINVPBiCG:  Solving for Uz:  solution singularity\n",
            "AINVPCG:  Solving for p, Initial residual = 1, Final residual = 9.96664e-05, No Iterations 792\n",
            "time step continuity errors : sum local = 6.38735e-09, global = 2.98441e-22, cumulative = 2.98441e-22\n",
            "AINVPCG:  Solving for p, Initial residual = 0.763976, Final residual = 9.90437e-05, No Iterations 783\n",
            "time step continuity errors : sum local = 8.22921e-09, global = -4.74112e-22, cumulative = -1.75671e-22\n",
            "ExecutionTime = 65.46 s  ClockTime = 74 s\n",
            "\n",
            "Time = 0.0005\n",
            "\n",
            "Courant Number mean: 0.0148747 max: 0.412137\n",
            "AINVPBiCG:  Solving for Ux, Initial residual = 0.130553, Final residual = 0.0226253, No Iterations 6\n",
            "AINVPBiCG:  Solving for Uy, Initial residual = 0.436024, Final residual = 0.0696857, No Iterations 6\n",
            "AINVPBiCG:  Solving for Uz, Initial residual = 0.994531, Final residual = 0.148329, No Iterations 6\n",
            "AINVPCG:  Solving for p, Initial residual = 0.829822, Final residual = 9.90541e-05, No Iterations 777\n",
            "time step continuity errors : sum local = 1.49785e-08, global = 2.30641e-22, cumulative = 5.49703e-23\n",
            "AINVPCG:  Solving for p, Initial residual = 0.774373, Final residual = 9.97648e-05, No Iterations 775\n",
            "time step continuity errors : sum local = 1.52941e-08, global = 6.65445e-22, cumulative = 7.20416e-22\n",
            "ExecutionTime = 84.6 s  ClockTime = 93 s\n",
            "\n",
            "End\n",
            "\n",
            "\n",
            "real\t1m34.768s\n",
            "user\t1m22.191s\n",
            "sys\t0m3.978s\n"
          ]
        }
      ],
      "source": [
        "!case=M-RapidCFD;\\\n",
        "cp system/fvSolution.$case system/fvSolution;\\\n",
        "source /root/RapidCFD/RapidCFD-dev/etc/bashrc;\\\n",
        "time icoFoam 2>&1 | tee log.icoFoam.$case"
      ]
    },
    {
      "cell_type": "markdown",
      "metadata": {
        "id": "hVdNTNUof_rr"
      },
      "source": [
        "#### 単精度版icoFoamソルバの実行\n"
      ]
    },
    {
      "cell_type": "code",
      "execution_count": null,
      "metadata": {
        "colab": {
          "base_uri": "https://localhost:8080/"
        },
        "id": "8nFUKj-of_rs",
        "outputId": "dd8b0199-9263-43cc-d8fb-6dfd587c81b9"
      },
      "outputs": [
        {
          "output_type": "stream",
          "name": "stdout",
          "text": [
            "/*---------------------------------------------------------------------------*\\\n",
            "| RapidCFD by simFlow (sim-flow.com)                                          |\n",
            "\\*---------------------------------------------------------------------------*/\n",
            "Build  : dev-5b41d2ecee8e\n",
            "Exec   : icoFoam\n",
            "Date   : Sep 08 2023\n",
            "Time   : 02:20:37\n",
            "Host   : \"fbba81102346\"\n",
            "PID    : 7481\n",
            "Case   : /content/drive/MyDrive/hpc-training-gpu-2023/hpc/Lid_driven_cavity-3d/M\n",
            "nProcs : 1\n",
            "sigFpe : Floating point exception trapping - not supported on this platform\n",
            "fileModificationChecking : Monitoring run-time modified files using timeStampMaster\n",
            "allowSystemOperations : Allowing user-supplied system call operations\n",
            "\n",
            "// * * * * * * * * * * * * * * * * * * * * * * * * * * * * * * * * * * * * * //\n",
            "Create time\n",
            "\n",
            "Create mesh for time = 0\n",
            "\n",
            "Reading transportProperties\n",
            "\n",
            "Reading field p\n",
            "\n",
            "Reading field U\n",
            "\n",
            "Reading/calculating face flux field phi\n",
            "\n",
            "\n",
            "Starting time loop\n",
            "\n",
            "Time = 0.00025\n",
            "\n",
            "Courant Number mean: 0 max: 0\n",
            "AINVPBiCG:  Solving for Ux, Initial residual = 1, Final residual = 0.0636105, No Iterations 6\n",
            "AINVPBiCG:  Solving for Uy:  solution singularity\n",
            "AINVPBiCG:  Solving for Uz:  solution singularity\n",
            "AINVPCG:  Solving for p, Initial residual = 1, Final residual = 9.94538e-05, No Iterations 792\n",
            "time step continuity errors : sum local = 1.09382e-06, global = 3.37785e-14, cumulative = 3.37785e-14\n",
            "AINVPCG:  Solving for p, Initial residual = 0.763693, Final residual = 9.74761e-05, No Iterations 783\n",
            "time step continuity errors : sum local = 6.41109e-07, global = -4.80067e-14, cumulative = -1.42282e-14\n",
            "ExecutionTime = 51.7 s  ClockTime = 53 s\n",
            "\n",
            "Time = 0.0005\n",
            "\n",
            "Courant Number mean: 0.0148748 max: 0.412142\n",
            "AINVPBiCG:  Solving for Ux, Initial residual = 0.130558, Final residual = 0.0226265, No Iterations 6\n",
            "AINVPBiCG:  Solving for Uy, Initial residual = 0.436029, Final residual = 0.0696879, No Iterations 6\n",
            "AINVPBiCG:  Solving for Uz, Initial residual = 0.988357, Final residual = 0.147986, No Iterations 6\n",
            "AINVPCG:  Solving for p, Initial residual = 0.827177, Final residual = 9.91252e-05, No Iterations 777\n",
            "time step continuity errors : sum local = 5.35208e-07, global = -1.52078e-13, cumulative = -1.66306e-13\n",
            "AINVPCG:  Solving for p, Initial residual = 0.774486, Final residual = 9.31447e-05, No Iterations 776\n",
            "time step continuity errors : sum local = 2.53123e-07, global = -1.94988e-13, cumulative = -3.61294e-13\n",
            "ExecutionTime = 62.44 s  ClockTime = 64 s\n",
            "\n",
            "End\n",
            "\n",
            "\n",
            "real\t1m5.987s\n",
            "user\t1m1.702s\n",
            "sys\t0m2.754s\n"
          ]
        }
      ],
      "source": [
        "!case=M-RapidCFD;\\\n",
        "cp system/fvSolution.$case system/fvSolution;\\\n",
        "source /root/RapidCFD/RapidCFD-dev/etc/bashrc WM_PRECISION_OPTION=SP;\\\n",
        "time icoFoam 2>&1 | tee log.icoFoam.$case.SP"
      ]
    },
    {
      "cell_type": "markdown",
      "metadata": {
        "id": "fHL5PWG0gJz_"
      },
      "source": [
        "#### 倍精度版ソルバに対する単精度版ソルバの加速率\n"
      ]
    },
    {
      "cell_type": "code",
      "execution_count": null,
      "metadata": {
        "colab": {
          "base_uri": "https://localhost:8080/"
        },
        "id": "qyQVk2yUgJ0A",
        "outputId": "945a00c6-2d69-4a97-f823-980eef4b3de4"
      },
      "outputs": [
        {
          "output_type": "stream",
          "name": "stdout",
          "text": [
            "Speedup of single-precision solver compared to double-precision solver:  1.78212\n"
          ]
        }
      ],
      "source": [
        "!case=M-RapidCFD;\\\n",
        "awk 'BEGIN {n=0} /ExecutionTime/ {t[n]=$3;n++} END {print \"Speedup of single-precision solver compared to double-precision solver: \",(t[1]-t[0])/(t[3]-t[2])}' log.icoFoam.$case log.icoFoam.$case.SP"
      ]
    },
    {
      "cell_type": "markdown",
      "metadata": {
        "id": "8OADLZHtrpi3"
      },
      "source": [
        "#### 倍精度版での毎ステップの実行時間"
      ]
    },
    {
      "cell_type": "code",
      "execution_count": null,
      "metadata": {
        "colab": {
          "base_uri": "https://localhost:8080/"
        },
        "id": "RgqvrRj5rpjF",
        "outputId": "9765d693-1075-4082-fea5-c217193e5956"
      },
      "outputs": [
        {
          "output_type": "stream",
          "name": "stdout",
          "text": [
            "ExecutionTime = 65.46 s  ClockTime = 74 s\n",
            "ExecutionTime = 84.6 s  ClockTime = 93 s\n"
          ]
        }
      ],
      "source": [
        "!case=M-RapidCFD;\\\n",
        "grep ExecutionTime log.icoFoam.$case"
      ]
    },
    {
      "cell_type": "markdown",
      "metadata": {
        "id": "hdjB0Eg9rpjG"
      },
      "source": [
        "#### 倍精度版での1ステップの実行時間"
      ]
    },
    {
      "cell_type": "code",
      "execution_count": null,
      "metadata": {
        "colab": {
          "base_uri": "https://localhost:8080/"
        },
        "id": "Ciab3KA_rpjG",
        "outputId": "846ec466-52cb-4093-affd-288a8ff7fd53"
      },
      "outputs": [
        {
          "output_type": "stream",
          "name": "stdout",
          "text": [
            "Execution time for one timestep:  19.14\n"
          ]
        }
      ],
      "source": [
        "!case=M-RapidCFD;\\\n",
        "awk 'BEGIN {n=0} /ExecutionTime/ {t[n]=$3;n++} END {print \"Execution time for one timestep: \",t[1]-t[0]}' log.icoFoam.$case"
      ]
    },
    {
      "cell_type": "markdown",
      "metadata": {
        "id": "gNmyNr7LrpjG"
      },
      "source": [
        "#### CPUのみを使用するOpenFOAM版icoFoamに対するGPUを併用するRapidCFD版icoFoamの加速率\n"
      ]
    },
    {
      "cell_type": "code",
      "execution_count": null,
      "metadata": {
        "colab": {
          "base_uri": "https://localhost:8080/"
        },
        "id": "jeaJ_QzErpjG",
        "outputId": "aab3568c-d58f-4785-f924-ae96b8ffc0ae"
      },
      "outputs": [
        {
          "output_type": "stream",
          "name": "stdout",
          "text": [
            "Speedup of RapidCFD version icoFoam with GPU compared to OpenFOAM version icoFoam with CPU only:  18.162\n"
          ]
        }
      ],
      "source": [
        "!case=M-RapidCFD;\\\n",
        "awk 'BEGIN {n=0} /ExecutionTime/ {t[n]=$3;n++} END {print \"Speedup of RapidCFD version icoFoam with GPU compared to OpenFOAM version icoFoam with CPU only: \",(t[1]-t[0])/(t[3]-t[2])}' log.icoFoam.cpu log.icoFoam.$case"
      ]
    },
    {
      "cell_type": "markdown",
      "metadata": {
        "id": "-ixdKvuJViNt"
      },
      "source": [
        "加速率は約18となりました**(加速率は割当てられたGPUとGPUによって異なります)**。"
      ]
    },
    {
      "cell_type": "markdown",
      "metadata": {
        "id": "ZQySpOvkLBc0"
      },
      "source": [
        "#### GPUでのRapidCFD版icoFoamソルバのプロファイリング"
      ]
    },
    {
      "cell_type": "code",
      "execution_count": null,
      "metadata": {
        "colab": {
          "base_uri": "https://localhost:8080/"
        },
        "id": "wH8SjwVkLCiX",
        "outputId": "ed25c8b3-b2c4-4f57-a2a2-ffd72d95d8ae"
      },
      "outputs": [
        {
          "output_type": "stream",
          "name": "stdout",
          "text": [
            "==7895== NVPROF is profiling process 7895, command: icoFoam\n",
            "/*---------------------------------------------------------------------------*\\\n",
            "| RapidCFD by simFlow (sim-flow.com)                                          |\n",
            "\\*---------------------------------------------------------------------------*/\n",
            "Build  : dev-5b41d2ecee8e\n",
            "Exec   : icoFoam\n",
            "Date   : Sep 08 2023\n",
            "Time   : 02:21:44\n",
            "Host   : \"fbba81102346\"\n",
            "PID    : 7895\n",
            "Case   : /content/drive/MyDrive/hpc-training-gpu-2023/hpc/Lid_driven_cavity-3d/M\n",
            "nProcs : 1\n",
            "sigFpe : Floating point exception trapping - not supported on this platform\n",
            "fileModificationChecking : Monitoring run-time modified files using timeStampMaster\n",
            "allowSystemOperations : Allowing user-supplied system call operations\n",
            "\n",
            "// * * * * * * * * * * * * * * * * * * * * * * * * * * * * * * * * * * * * * //\n",
            "Create time\n",
            "\n",
            "Create mesh for time = 0\n",
            "\n",
            "Reading transportProperties\n",
            "\n",
            "Reading field p\n",
            "\n",
            "Reading field U\n",
            "\n",
            "Reading/calculating face flux field phi\n",
            "\n",
            "\n",
            "Starting time loop\n",
            "\n",
            "Time = 0.00025\n",
            "\n",
            "Courant Number mean: 0 max: 0\n",
            "AINVPBiCG:  Solving for Ux, Initial residual = 1, Final residual = 0.0636108, No Iterations 6\n",
            "AINVPBiCG:  Solving for Uy:  solution singularity\n",
            "AINVPBiCG:  Solving for Uz:  solution singularity\n",
            "AINVPCG:  Solving for p, Initial residual = 1, Final residual = 9.96664e-05, No Iterations 792\n",
            "time step continuity errors : sum local = 6.38735e-09, global = 2.98441e-22, cumulative = 2.98441e-22\n",
            "AINVPCG:  Solving for p, Initial residual = 0.763976, Final residual = 9.90437e-05, No Iterations 783\n",
            "time step continuity errors : sum local = 8.22921e-09, global = -4.74112e-22, cumulative = -1.75671e-22\n",
            "ExecutionTime = 61.49 s  ClockTime = 61 s\n",
            "\n",
            "Time = 0.0005\n",
            "\n",
            "Courant Number mean: 0.0148747 max: 0.412137\n",
            "AINVPBiCG:  Solving for Ux, Initial residual = 0.130553, Final residual = 0.0226253, No Iterations 6\n",
            "AINVPBiCG:  Solving for Uy, Initial residual = 0.436024, Final residual = 0.0696857, No Iterations 6\n",
            "AINVPBiCG:  Solving for Uz, Initial residual = 0.994531, Final residual = 0.148329, No Iterations 6\n",
            "AINVPCG:  Solving for p, Initial residual = 0.829822, Final residual = 9.90541e-05, No Iterations 777\n",
            "time step continuity errors : sum local = 1.49785e-08, global = 2.30641e-22, cumulative = 5.49703e-23\n",
            "AINVPCG:  Solving for p, Initial residual = 0.774373, Final residual = 9.97648e-05, No Iterations 775\n",
            "time step continuity errors : sum local = 1.52941e-08, global = 6.65445e-22, cumulative = 7.20416e-22\n",
            "ExecutionTime = 82.59 s  ClockTime = 82 s\n",
            "\n",
            "End\n",
            "\n",
            "==7895== Profiling application: icoFoam\n",
            "==7895== Profiling result:\n",
            "            Type  Time(%)      Time     Calls       Avg       Min       Max  Name\n",
            " GPU activities:   34.74%  13.3167s      3179  4.1890ms  4.1680ms  4.2332ms  void thrust::cuda_cub::core::_kernel_agent<thrust::cuda_cub::__parallel_for::ParallelForAgent<thrust::cuda_cub::__transform::unary_transform_f<thrust::counting_iterator<int, thrust::use_default, thrust::use_default, thrust::use_default>, thrust::device_ptr<double>, thrust::cuda_cub::__transform::no_stencil_tag, Foam::AINVPreconditionerFunctor<bool=1, int=3>, thrust::cuda_cub::__transform::always_true_predicate>, long>, thrust::cuda_cub::__transform::unary_transform_f<thrust::counting_iterator<int, thrust::use_default, thrust::use_default, thrust::use_default>, thrust::device_ptr<double>, thrust::cuda_cub::__transform::no_stencil_tag, Foam::AINVPreconditionerFunctor<bool=1, int=3>, thrust::cuda_cub::__transform::always_true_predicate>, long>(thrust::use_default, thrust::use_default)\n",
            "                   31.79%  12.1838s      3195  3.8134ms  3.8021ms  4.0821ms  void thrust::cuda_cub::core::_kernel_agent<thrust::cuda_cub::__parallel_for::ParallelForAgent<thrust::cuda_cub::__transform::unary_transform_f<thrust::counting_iterator<int, thrust::use_default, thrust::use_default, thrust::use_default>, thrust::device_ptr<double>, thrust::cuda_cub::__transform::no_stencil_tag, Foam::matrixMultiplyFunctor<bool=1, int=3>, thrust::cuda_cub::__transform::always_true_predicate>, long>, thrust::cuda_cub::__transform::unary_transform_f<thrust::counting_iterator<int, thrust::use_default, thrust::use_default, thrust::use_default>, thrust::device_ptr<double>, thrust::cuda_cub::__transform::no_stencil_tag, Foam::matrixMultiplyFunctor<bool=1, int=3>, thrust::cuda_cub::__transform::always_true_predicate>, long>(thrust::use_default, thrust::use_default)\n",
            "                    8.19%  3.13995s      6306  497.93us  494.24us  508.93us  void cub::DeviceReduceKernel<cub::DeviceReducePolicy<double, double, int, thrust::plus<double>>::Policy600, thrust::transform_iterator<Foam::multiplyOperatorFunctor<double, double, double>, thrust::zip_iterator<thrust::tuple<thrust::device_ptr<double const >, thrust::device_ptr<double const >, thrust::null_type, thrust::null_type, thrust::null_type, thrust::null_type, thrust::null_type, thrust::null_type, thrust::null_type, thrust::null_type>>, thrust::use_default, thrust::use_default>, double*, int, thrust::plus<double>>(double, int, double, cub::GridEvenShare<int>, thrust::plus<double>)\n",
            "                    6.24%  2.39223s      3175  753.46us  742.53us  767.74us  void thrust::cuda_cub::core::_kernel_agent<thrust::cuda_cub::__parallel_for::ParallelForAgent<thrust::cuda_cub::__transform::binary_transform_f<thrust::device_ptr<double>, thrust::device_ptr<double>, thrust::device_ptr<double>, thrust::cuda_cub::__transform::no_stencil_tag, Foam::rAMinusAlphaWAFunctor, thrust::cuda_cub::__transform::always_true_predicate>, long>, thrust::cuda_cub::__transform::binary_transform_f<thrust::device_ptr<double>, thrust::device_ptr<double>, thrust::device_ptr<double>, thrust::cuda_cub::__transform::no_stencil_tag, Foam::rAMinusAlphaWAFunctor, thrust::cuda_cub::__transform::always_true_predicate>, long>(thrust::device_ptr<double>, thrust::device_ptr<double>)\n",
            "                    6.13%  2.35141s      3151  746.24us  735.32us  761.24us  void thrust::cuda_cub::core::_kernel_agent<thrust::cuda_cub::__parallel_for::ParallelForAgent<thrust::cuda_cub::__transform::binary_transform_f<thrust::device_ptr<double>, thrust::device_ptr<double>, thrust::device_ptr<double>, thrust::cuda_cub::__transform::no_stencil_tag, Foam::psiPlusAlphaPAFunctor, thrust::cuda_cub::__transform::always_true_predicate>, long>, thrust::cuda_cub::__transform::binary_transform_f<thrust::device_ptr<double>, thrust::device_ptr<double>, thrust::device_ptr<double>, thrust::cuda_cub::__transform::no_stencil_tag, Foam::psiPlusAlphaPAFunctor, thrust::cuda_cub::__transform::always_true_predicate>, long>(thrust::device_ptr<double>, thrust::device_ptr<double>)\n",
            "                    6.13%  2.34783s      3163  742.28us  731.55us  759.20us  void thrust::cuda_cub::core::_kernel_agent<thrust::cuda_cub::__parallel_for::ParallelForAgent<thrust::cuda_cub::__transform::binary_transform_f<thrust::device_ptr<double>, thrust::device_ptr<double>, thrust::device_ptr<double>, thrust::cuda_cub::__transform::no_stencil_tag, Foam::wAPlusBetaPAFunctor, thrust::cuda_cub::__transform::always_true_predicate>, long>, thrust::cuda_cub::__transform::binary_transform_f<thrust::device_ptr<double>, thrust::device_ptr<double>, thrust::device_ptr<double>, thrust::cuda_cub::__transform::no_stencil_tag, Foam::wAPlusBetaPAFunctor, thrust::cuda_cub::__transform::always_true_predicate>, long>(thrust::device_ptr<double>, thrust::device_ptr<double>)\n",
            "                    2.10%  805.36ms      3161  254.78us  241.02us  263.90us  void cub::DeviceReduceKernel<cub::DeviceReducePolicy<double, double, int, thrust::plus<double>>::Policy600, thrust::transform_iterator<Foam::magUnaryFunctionFunctor<double, double>, thrust::device_ptr<double const >, thrust::use_default, thrust::use_default>, double*, int, thrust::plus<double>>(double, int, double, cub::GridEvenShare<int>, thrust::plus<double>)\n",
            "                    1.09%  417.88ms        18  23.216ms  1.0560us  135.12ms  [CUDA memcpy HtoD]\n",
            "                    0.29%  109.98ms       198  555.46us  4.3520us  5.0510ms  void thrust::cuda_cub::core::_kernel_agent<thrust::cuda_cub::__parallel_for::ParallelForAgent<thrust::cuda_cub::__uninitialized_fill::functor<thrust::device_ptr<Foam::Vector<double>>, Foam::Vector<double>>, long>, thrust::cuda_cub::__uninitialized_fill::functor<thrust::device_ptr<Foam::Vector<double>>, Foam::Vector<double>>, long>(Foam::Vector<double>, thrust::device_ptr<Foam::Vector<double>>)\n",
            "                    0.27%  103.64ms       620  167.16us  2.3680us  950.97us  void thrust::cuda_cub::core::_kernel_agent<thrust::cuda_cub::__parallel_for::ParallelForAgent<thrust::cuda_cub::__uninitialized_fill::functor<thrust::device_ptr<double>, double>, long>, thrust::cuda_cub::__uninitialized_fill::functor<thrust::device_ptr<double>, double>, long>(thrust::device_ptr<double>, double)\n",
            "                    0.22%  84.985ms         6  14.164ms  13.890ms  15.142ms  void thrust::cuda_cub::core::_kernel_agent<thrust::cuda_cub::__parallel_for::ParallelForAgent<thrust::cuda_cub::__transform::unary_transform_f<thrust::counting_iterator<int, thrust::use_default, thrust::use_default, thrust::use_default>, thrust::device_ptr<Foam::Vector<double>>, thrust::cuda_cub::__transform::no_stencil_tag, Foam::gaussGradFunctor<double, Foam::Vector<double>>, thrust::cuda_cub::__transform::always_true_predicate>, long>, thrust::cuda_cub::__transform::unary_transform_f<thrust::counting_iterator<int, thrust::use_default, thrust::use_default, thrust::use_default>, thrust::device_ptr<Foam::Vector<double>>, thrust::cuda_cub::__transform::no_stencil_tag, Foam::gaussGradFunctor<double, Foam::Vector<double>>, thrust::cuda_cub::__transform::always_true_predicate>, long>(thrust::use_default, thrust::use_default)\n",
            "                    0.17%  65.831ms         9  7.3145ms  7.1354ms  7.3661ms  void thrust::cuda_cub::core::_kernel_agent<thrust::cuda_cub::__parallel_for::ParallelForAgent<thrust::cuda_cub::__transform::unary_transform_f<thrust::zip_iterator<thrust::tuple<thrust::device_ptr<double const >, thrust::permutation_iterator<thrust::device_ptr<Foam::Vector<double> const >, thrust::device_ptr<int const >>, thrust::permutation_iterator<thrust::device_ptr<Foam::Vector<double> const >, thrust::device_ptr<int const >>, thrust::null_type, thrust::null_type, thrust::null_type, thrust::null_type, thrust::null_type, thrust::null_type, thrust::null_type>>, thrust::device_ptr<Foam::Vector<double>>, thrust::cuda_cub::__transform::no_stencil_tag, Foam::surfaceInterpolationSchemeInterpolateFunctor<Foam::Vector<double>>, thrust::cuda_cub::__transform::always_true_predicate>, long>, thrust::cuda_cub::__transform::unary_transform_f<thrust::zip_iterator<thrust::tuple<thrust::device_ptr<double const >, thrust::permutation_iterator<thrust::device_ptr<Foam::Vector<double> const >, thrust::device_ptr<int const >>, thrust::permutation_iterator<thrust::device_ptr<Foam::Vector<double> const >, thrust::device_ptr<int const >>, thrust::null_type, thrust::null_type, thrust::null_type, thrust::null_type, thrust::null_type, thrust::null_type, thrust::null_type>>, thrust::device_ptr<Foam::Vector<double>>, thrust::cuda_cub::__transform::no_stencil_tag, Foam::surfaceInterpolationSchemeInterpolateFunctor<Foam::Vector<double>>, thrust::cuda_cub::__transform::always_true_predicate>, long>(thrust::device_ptr<double const >, double)\n",
            "                    0.16%  60.998ms       235  259.56us  2.8160us  1.9053ms  void thrust::cuda_cub::core::_kernel_agent<thrust::cuda_cub::__parallel_for::ParallelForAgent<thrust::cuda_cub::__transform::unary_transform_f<thrust::device_ptr<double const >, thrust::device_ptr<double>, thrust::cuda_cub::__transform::no_stencil_tag, thrust::identity<double>, thrust::cuda_cub::__transform::always_true_predicate>, long>, thrust::cuda_cub::__transform::unary_transform_f<thrust::device_ptr<double const >, thrust::device_ptr<double>, thrust::cuda_cub::__transform::no_stencil_tag, thrust::identity<double>, thrust::cuda_cub::__transform::always_true_predicate>, long>(thrust::device_ptr<double const >, double)\n",
            "                    0.15%  57.166ms        20  2.8583ms  48.736us  6.4481ms  void cub::DeviceRadixSortOnesweepKernel<cub::DeviceRadixSortPolicy<int, int, int>::Policy800, bool=0, int, int, int, int>(int*, int, bool=0*, int* const *, int*, int* const * const *, cub::DeviceRadixSortPolicy<int, int, int>::Policy800*, int* const * const * const *, int*, int, int)\n",
            "                    0.13%  50.446ms        39  1.2935ms  10.047us  6.4996ms  void thrust::cuda_cub::core::_kernel_agent<thrust::cuda_cub::__parallel_for::ParallelForAgent<thrust::cuda_cub::__transform::binary_transform_f<thrust::device_ptr<Foam::Vector<double> const >, thrust::device_ptr<Foam::Vector<double> const >, thrust::device_ptr<double>, thrust::cuda_cub::__transform::no_stencil_tag, Foam::dotOperatorFunctor<Foam::Vector<double>, Foam::Vector<double>, double>, thrust::cuda_cub::__transform::always_true_predicate>, long>, thrust::cuda_cub::__transform::binary_transform_f<thrust::device_ptr<Foam::Vector<double> const >, thrust::device_ptr<Foam::Vector<double> const >, thrust::device_ptr<double>, thrust::cuda_cub::__transform::no_stencil_tag, Foam::dotOperatorFunctor<Foam::Vector<double>, Foam::Vector<double>, double>, thrust::cuda_cub::__transform::always_true_predicate>, long>(Foam::Vector<double> const , thrust::device_ptr<Foam::Vector<double> const >)\n",
            "                    0.13%  49.885ms      9511  5.2440us  4.1270us  13.696us  void cub::DeviceReduceSingleTileKernel<cub::DeviceReducePolicy<double, double, int, thrust::plus<double>>::Policy600, double*, double*, int, thrust::plus<double>, double>(double, int, double, thrust::plus<double>, cub::DeviceReducePolicy<double, double, int, thrust::plus<double>>::Policy600)\n",
            "                    0.12%  44.208ms        14  3.1577ms  2.7076ms  3.4140ms  void thrust::cuda_cub::core::_kernel_agent<thrust::cuda_cub::__parallel_for::ParallelForAgent<thrust::cuda_cub::__transform::unary_transform_f<thrust::zip_iterator<thrust::tuple<thrust::device_ptr<double const >, thrust::permutation_iterator<thrust::device_ptr<double const >, thrust::device_ptr<int const >>, thrust::permutation_iterator<thrust::device_ptr<double const >, thrust::device_ptr<int const >>, thrust::null_type, thrust::null_type, thrust::null_type, thrust::null_type, thrust::null_type, thrust::null_type, thrust::null_type>>, thrust::device_ptr<double>, thrust::cuda_cub::__transform::no_stencil_tag, Foam::surfaceInterpolationSchemeInterpolateFunctor<double>, thrust::cuda_cub::__transform::always_true_predicate>, long>, thrust::cuda_cub::__transform::unary_transform_f<thrust::zip_iterator<thrust::tuple<thrust::device_ptr<double const >, thrust::permutation_iterator<thrust::device_ptr<double const >, thrust::device_ptr<int const >>, thrust::permutation_iterator<thrust::device_ptr<double const >, thrust::device_ptr<int const >>, thrust::null_type, thrust::null_type, thrust::null_type, thrust::null_type, thrust::null_type, thrust::null_type, thrust::null_type>>, thrust::device_ptr<double>, thrust::cuda_cub::__transform::no_stencil_tag, Foam::surfaceInterpolationSchemeInterpolateFunctor<double>, thrust::cuda_cub::__transform::always_true_predicate>, long>(thrust::device_ptr<double const >, thrust::device_ptr<double const >)\n",
            "                    0.11%  42.757ms         4  10.689ms  10.672ms  10.698ms  void thrust::cuda_cub::core::_kernel_agent<thrust::cuda_cub::__parallel_for::ParallelForAgent<thrust::cuda_cub::__transform::binary_transform_f<thrust::counting_iterator<int, thrust::use_default, thrust::use_default, thrust::use_default>, thrust::device_ptr<Foam::Vector<double>>, thrust::device_ptr<Foam::Vector<double>>, thrust::cuda_cub::__transform::no_stencil_tag, Foam::lduAddressingFunctor<Foam::Vector<double>, Foam::matrixCoeffsMultiplyFunctor<Foam::Vector<double>, double, Foam::negateUnaryOperatorFunctor<Foam::Vector<double>, Foam::Vector<double>>>, Foam::matrixCoeffsMultiplyFunctor<Foam::Vector<double>, double, Foam::negateUnaryOperatorFunctor<Foam::Vector<double>, Foam::Vector<double>>>, Foam::sumOp<Foam::Vector<double>>, Foam::sumOp<Foam::Vector<double>>>, thrust::cuda_cub::__transform::always_true_predicate>, long>, thrust::cuda_cub::__transform::binary_transform_f<thrust::counting_iterator<int, thrust::use_default, thrust::use_default, thrust::use_default>, thrust::device_ptr<Foam::Vector<double>>, thrust::device_ptr<Foam::Vector<double>>, thrust::cuda_cub::__transform::no_stencil_tag, Foam::lduAddressingFunctor<Foam::Vector<double>, Foam::matrixCoeffsMultiplyFunctor<Foam::Vector<double>, double, Foam::negateUnaryOperatorFunctor<Foam::Vector<double>, Foam::Vector<double>>>, Foam::matrixCoeffsMultiplyFunctor<Foam::Vector<double>, double, Foam::negateUnaryOperatorFunctor<Foam::Vector<double>, Foam::Vector<double>>>, Foam::sumOp<Foam::Vector<double>>, Foam::sumOp<Foam::Vector<double>>>, thrust::cuda_cub::__transform::always_true_predicate>, long>(thrust::use_default, thrust::use_default)\n",
            "                    0.11%  42.701ms        18  2.3723ms  2.3241ms  2.3940ms  void thrust::cuda_cub::core::_kernel_agent<thrust::cuda_cub::__parallel_for::ParallelForAgent<thrust::cuda_cub::__transform::binary_transform_f<thrust::device_ptr<Foam::Vector<double>>, thrust::device_ptr<double const >, thrust::device_ptr<Foam::Vector<double>>, thrust::cuda_cub::__transform::no_stencil_tag, Foam::replaceComponentFunctor<Foam::Vector<double>, double>, thrust::cuda_cub::__transform::always_true_predicate>, long>, thrust::cuda_cub::__transform::binary_transform_f<thrust::device_ptr<Foam::Vector<double>>, thrust::device_ptr<double const >, thrust::device_ptr<Foam::Vector<double>>, thrust::cuda_cub::__transform::no_stencil_tag, Foam::replaceComponentFunctor<Foam::Vector<double>, double>, thrust::cuda_cub::__transform::always_true_predicate>, long>(Foam::Vector<double>, thrust::device_ptr<Foam::Vector<double>>)\n",
            "                    0.11%  41.384ms        94  440.26us  7.0400us  3.0865ms  void thrust::cuda_cub::core::_kernel_agent<thrust::cuda_cub::__parallel_for::ParallelForAgent<thrust::cuda_cub::__transform::unary_transform_f<thrust::device_ptr<Foam::Vector<double> const >, thrust::device_ptr<Foam::Vector<double>>, thrust::cuda_cub::__transform::no_stencil_tag, thrust::identity<Foam::Vector<double>>, thrust::cuda_cub::__transform::always_true_predicate>, long>, thrust::cuda_cub::__transform::unary_transform_f<thrust::device_ptr<Foam::Vector<double> const >, thrust::device_ptr<Foam::Vector<double>>, thrust::cuda_cub::__transform::no_stencil_tag, thrust::identity<Foam::Vector<double>>, thrust::cuda_cub::__transform::always_true_predicate>, long>(Foam::Vector<double> const , thrust::device_ptr<Foam::Vector<double> const >)\n",
            "                    0.10%  40.108ms        48  835.58us  3.1040us  2.8723ms  void thrust::cuda_cub::core::_kernel_agent<thrust::cuda_cub::__parallel_for::ParallelForAgent<thrust::cuda_cub::__transform::binary_transform_f<thrust::device_ptr<double const >, thrust::device_ptr<double const >, thrust::device_ptr<double>, thrust::cuda_cub::__transform::no_stencil_tag, Foam::outerOperatorFunctor<double, double, double>, thrust::cuda_cub::__transform::always_true_predicate>, long>, thrust::cuda_cub::__transform::binary_transform_f<thrust::device_ptr<double const >, thrust::device_ptr<double const >, thrust::device_ptr<double>, thrust::cuda_cub::__transform::no_stencil_tag, Foam::outerOperatorFunctor<double, double, double>, thrust::cuda_cub::__transform::always_true_predicate>, long>(thrust::device_ptr<double const >, thrust::device_ptr<double const >)\n",
            "                    0.10%  36.625ms        42  872.02us  6.5280us  2.8656ms  void thrust::cuda_cub::core::_kernel_agent<thrust::cuda_cub::__parallel_for::ParallelForAgent<thrust::cuda_cub::__transform::binary_transform_f<thrust::device_ptr<double const >, thrust::device_ptr<double const >, thrust::device_ptr<double>, thrust::cuda_cub::__transform::no_stencil_tag, Foam::multiplyOperatorFunctor<double, double, double>, thrust::cuda_cub::__transform::always_true_predicate>, long>, thrust::cuda_cub::__transform::binary_transform_f<thrust::device_ptr<double const >, thrust::device_ptr<double const >, thrust::device_ptr<double>, thrust::cuda_cub::__transform::no_stencil_tag, Foam::multiplyOperatorFunctor<double, double, double>, thrust::cuda_cub::__transform::always_true_predicate>, long>(thrust::device_ptr<double const >, thrust::device_ptr<double const >)\n",
            "                    0.08%  28.861ms        54  534.46us  5.3440us  1.9048ms  void thrust::cuda_cub::core::_kernel_agent<thrust::cuda_cub::__parallel_for::ParallelForAgent<thrust::cuda_cub::__transform::unary_transform_f<thrust::device_ptr<double const >, thrust::device_ptr<double>, thrust::cuda_cub::__transform::no_stencil_tag, Foam::magUnaryFunctionFunctor<double, double>, thrust::cuda_cub::__transform::always_true_predicate>, long>, thrust::cuda_cub::__transform::unary_transform_f<thrust::device_ptr<double const >, thrust::device_ptr<double>, thrust::cuda_cub::__transform::no_stencil_tag, Foam::magUnaryFunctionFunctor<double, double>, thrust::cuda_cub::__transform::always_true_predicate>, long>(thrust::device_ptr<double const >, double)\n",
            "                    0.07%  28.524ms        10  2.8524ms  2.2011ms  3.2931ms  void thrust::cuda_cub::core::_kernel_agent<thrust::cuda_cub::__parallel_for::ParallelForAgent<thrust::cuda_cub::__transform::binary_transform_f<thrust::counting_iterator<int, thrust::use_default, thrust::use_default, thrust::use_default>, thrust::device_ptr<double const >, thrust::device_ptr<double>, thrust::cuda_cub::__transform::no_stencil_tag, Foam::lduAddressingFunctor<double, Foam::matrixCoeffsFunctor<double, Foam::unityOp<double>>, Foam::matrixCoeffsFunctor<double, Foam::unityOp<double>>, Foam::sumOp<double>, Foam::sumOp<double>>, thrust::cuda_cub::__transform::always_true_predicate>, long>, thrust::cuda_cub::__transform::binary_transform_f<thrust::counting_iterator<int, thrust::use_default, thrust::use_default, thrust::use_default>, thrust::device_ptr<double const >, thrust::device_ptr<double>, thrust::cuda_cub::__transform::no_stencil_tag, Foam::lduAddressingFunctor<double, Foam::matrixCoeffsFunctor<double, Foam::unityOp<double>>, Foam::matrixCoeffsFunctor<double, Foam::unityOp<double>>, Foam::sumOp<double>, Foam::sumOp<double>>, thrust::cuda_cub::__transform::always_true_predicate>, long>(thrust::use_default, thrust::use_default)\n",
            "                    0.07%  28.081ms        84  334.30us  7.6480us  1.2826ms  void thrust::cuda_cub::core::_kernel_agent<thrust::cuda_cub::__parallel_for::ParallelForAgent<thrust::cuda_cub::__transform::unary_transform_f<thrust::device_ptr<Foam::Vector<double> const >, thrust::device_ptr<double>, thrust::cuda_cub::__transform::no_stencil_tag, Foam::componentFunctor<double, Foam::Vector<double>>, thrust::cuda_cub::__transform::always_true_predicate>, long>, thrust::cuda_cub::__transform::unary_transform_f<thrust::device_ptr<Foam::Vector<double> const >, thrust::device_ptr<double>, thrust::cuda_cub::__transform::no_stencil_tag, Foam::componentFunctor<double, Foam::Vector<double>>, thrust::cuda_cub::__transform::always_true_predicate>, long>(Foam::Vector<double> const , thrust::device_ptr<Foam::Vector<double> const >)\n",
            "                    0.06%  24.458ms         8  3.0572ms  2.5948ms  4.0623ms  void thrust::cuda_cub::core::_kernel_agent<thrust::cuda_cub::__parallel_for::ParallelForAgent<thrust::cuda_cub::__transform::binary_transform_f<thrust::counting_iterator<int, thrust::use_default, thrust::use_default, thrust::use_default>, thrust::device_ptr<double>, thrust::device_ptr<double>, thrust::cuda_cub::__transform::no_stencil_tag, Foam::lduAddressingFunctor<double, Foam::matrixCoeffsFunctor<double, Foam::negateUnaryOperatorFunctor<double, double>>, Foam::matrixCoeffsFunctor<double, Foam::negateUnaryOperatorFunctor<double, double>>, Foam::sumOp<double>, Foam::sumOp<double>>, thrust::cuda_cub::__transform::always_true_predicate>, long>, thrust::cuda_cub::__transform::binary_transform_f<thrust::counting_iterator<int, thrust::use_default, thrust::use_default, thrust::use_default>, thrust::device_ptr<double>, thrust::device_ptr<double>, thrust::cuda_cub::__transform::no_stencil_tag, Foam::lduAddressingFunctor<double, Foam::matrixCoeffsFunctor<double, Foam::negateUnaryOperatorFunctor<double, double>>, Foam::matrixCoeffsFunctor<double, Foam::negateUnaryOperatorFunctor<double, double>>, Foam::sumOp<double>, Foam::sumOp<double>>, thrust::cuda_cub::__transform::always_true_predicate>, long>(thrust::use_default, thrust::use_default)\n",
            "                    0.06%  23.166ms        10  2.3166ms  1.8346ms  4.7279ms  void thrust::cuda_cub::core::_kernel_agent<thrust::cuda_cub::__parallel_for::ParallelForAgent<thrust::cuda_cub::__transform::binary_transform_f<thrust::device_ptr<Foam::Vector<double>>, thrust::device_ptr<double const >, thrust::device_ptr<Foam::Vector<double>>, thrust::cuda_cub::__transform::no_stencil_tag, Foam::divideOperatorFunctor<Foam::Vector<double>, double, Foam::Vector<double>>, thrust::cuda_cub::__transform::always_true_predicate>, long>, thrust::cuda_cub::__transform::binary_transform_f<thrust::device_ptr<Foam::Vector<double>>, thrust::device_ptr<double const >, thrust::device_ptr<Foam::Vector<double>>, thrust::cuda_cub::__transform::no_stencil_tag, Foam::divideOperatorFunctor<Foam::Vector<double>, double, Foam::Vector<double>>, thrust::cuda_cub::__transform::always_true_predicate>, long>(Foam::Vector<double>, thrust::device_ptr<Foam::Vector<double>>)\n",
            "                    0.06%  23.149ms        54  428.68us  6.8800us  3.0720ms  void thrust::cuda_cub::core::_kernel_agent<thrust::cuda_cub::__parallel_for::ParallelForAgent<thrust::cuda_cub::__transform::unary_transform_f<thrust::permutation_iterator<thrust::device_ptr<double const >, thrust::device_ptr<int const >>, thrust::device_ptr<double>, thrust::cuda_cub::__transform::no_stencil_tag, thrust::identity<double>, thrust::cuda_cub::__transform::always_true_predicate>, long>, thrust::cuda_cub::__transform::unary_transform_f<thrust::permutation_iterator<thrust::device_ptr<double const >, thrust::device_ptr<int const >>, thrust::device_ptr<double>, thrust::cuda_cub::__transform::no_stencil_tag, thrust::identity<double>, thrust::cuda_cub::__transform::always_true_predicate>, long>(thrust::device_ptr<double const >, int const )\n",
            "                    0.06%  21.176ms        18  1.1764ms  11.040us  3.7852ms  void thrust::cuda_cub::core::_kernel_agent<thrust::cuda_cub::__parallel_for::ParallelForAgent<thrust::cuda_cub::__transform::binary_transform_f<thrust::device_ptr<double const >, thrust::device_ptr<double const >, thrust::device_ptr<double>, thrust::cuda_cub::__transform::no_stencil_tag, Foam::divideOperatorFunctor<double, double, double>, thrust::cuda_cub::__transform::always_true_predicate>, long>, thrust::cuda_cub::__transform::binary_transform_f<thrust::device_ptr<double const >, thrust::device_ptr<double const >, thrust::device_ptr<double>, thrust::cuda_cub::__transform::no_stencil_tag, Foam::divideOperatorFunctor<double, double, double>, thrust::cuda_cub::__transform::always_true_predicate>, long>(thrust::device_ptr<double const >, thrust::device_ptr<double const >)\n",
            "                    0.05%  20.719ms        44  470.88us  3.7120us  2.8592ms  void thrust::cuda_cub::core::_kernel_agent<thrust::cuda_cub::__parallel_for::ParallelForAgent<thrust::cuda_cub::__transform::binary_transform_f<thrust::device_ptr<double const >, thrust::device_ptr<double const >, thrust::device_ptr<double>, thrust::cuda_cub::__transform::no_stencil_tag, Foam::subtractOperatorFunctor<double, double, double>, thrust::cuda_cub::__transform::always_true_predicate>, long>, thrust::cuda_cub::__transform::binary_transform_f<thrust::device_ptr<double const >, thrust::device_ptr<double const >, thrust::device_ptr<double>, thrust::cuda_cub::__transform::no_stencil_tag, Foam::subtractOperatorFunctor<double, double, double>, thrust::cuda_cub::__transform::always_true_predicate>, long>(thrust::device_ptr<double const >, thrust::device_ptr<double const >)\n",
            "                    0.05%  19.946ms        28  712.36us  9.0560us  2.4161ms  void thrust::cuda_cub::core::_kernel_agent<thrust::cuda_cub::__parallel_for::ParallelForAgent<thrust::cuda_cub::__transform::binary_transform_f<thrust::device_ptr<Foam::Vector<double>>, thrust::device_ptr<Foam::Vector<double> const >, thrust::device_ptr<Foam::Vector<double>>, thrust::cuda_cub::__transform::no_stencil_tag, Foam::addOperatorFunctor<Foam::Vector<double>, Foam::Vector<double>, Foam::Vector<double>>, thrust::cuda_cub::__transform::always_true_predicate>, long>, thrust::cuda_cub::__transform::binary_transform_f<thrust::device_ptr<Foam::Vector<double>>, thrust::device_ptr<Foam::Vector<double> const >, thrust::device_ptr<Foam::Vector<double>>, thrust::cuda_cub::__transform::no_stencil_tag, Foam::addOperatorFunctor<Foam::Vector<double>, Foam::Vector<double>, Foam::Vector<double>>, thrust::cuda_cub::__transform::always_true_predicate>, long>(Foam::Vector<double>, thrust::device_ptr<Foam::Vector<double>>)\n",
            "                    0.05%  18.667ms         8  2.3334ms  2.1550ms  2.4605ms  void thrust::cuda_cub::core::_kernel_agent<thrust::cuda_cub::__parallel_for::ParallelForAgent<thrust::cuda_cub::__transform::unary_transform_f<thrust::counting_iterator<int, thrust::use_default, thrust::use_default, thrust::use_default>, thrust::device_ptr<double>, thrust::cuda_cub::__transform::no_stencil_tag, Foam::fvc::surfaceIntegrateFunctor<double, bool=1>, thrust::cuda_cub::__transform::always_true_predicate>, long>, thrust::cuda_cub::__transform::unary_transform_f<thrust::counting_iterator<int, thrust::use_default, thrust::use_default, thrust::use_default>, thrust::device_ptr<double>, thrust::cuda_cub::__transform::no_stencil_tag, Foam::fvc::surfaceIntegrateFunctor<double, bool=1>, thrust::cuda_cub::__transform::always_true_predicate>, long>(thrust::use_default, thrust::use_default)\n",
            "                    0.05%  18.337ms         6  3.0562ms  15.744us  6.8528ms  void thrust::cuda_cub::core::_kernel_agent<thrust::cuda_cub::__parallel_for::ParallelForAgent<thrust::cuda_cub::__transform::unary_transform_f<thrust::pointer<Foam::Vector<double>, thrust::cuda_cub::tag, thrust::use_default, thrust::use_default>, thrust::device_ptr<Foam::Vector<double>>, thrust::cuda_cub::__transform::no_stencil_tag, thrust::identity<Foam::Vector<double>>, thrust::cuda_cub::__transform::always_true_predicate>, long>, thrust::cuda_cub::__transform::unary_transform_f<thrust::pointer<Foam::Vector<double>, thrust::cuda_cub::tag, thrust::use_default, thrust::use_default>, thrust::device_ptr<Foam::Vector<double>>, thrust::cuda_cub::__transform::no_stencil_tag, thrust::identity<Foam::Vector<double>>, thrust::cuda_cub::__transform::always_true_predicate>, long>(Foam::Vector<double>, thrust::cuda_cub::tag)\n",
            "                    0.04%  17.155ms        14  1.2254ms  7.9680us  2.8819ms  void thrust::cuda_cub::core::_kernel_agent<thrust::cuda_cub::__parallel_for::ParallelForAgent<thrust::cuda_cub::__transform::binary_transform_f<thrust::device_ptr<double const >, thrust::device_ptr<double const >, thrust::device_ptr<double>, thrust::cuda_cub::__transform::no_stencil_tag, Foam::addOperatorFunctor<double, double, double>, thrust::cuda_cub::__transform::always_true_predicate>, long>, thrust::cuda_cub::__transform::binary_transform_f<thrust::device_ptr<double const >, thrust::device_ptr<double const >, thrust::device_ptr<double>, thrust::cuda_cub::__transform::no_stencil_tag, Foam::addOperatorFunctor<double, double, double>, thrust::cuda_cub::__transform::always_true_predicate>, long>(thrust::device_ptr<double const >, thrust::device_ptr<double const >)\n",
            "                    0.04%  15.884ms        24  661.83us  11.552us  2.0464ms  void thrust::cuda_cub::core::_kernel_agent<thrust::cuda_cub::__parallel_for::ParallelForAgent<thrust::cuda_cub::__transform::binary_transform_f<thrust::device_ptr<double const >, thrust::device_ptr<Foam::Vector<double> const >, thrust::device_ptr<Foam::Vector<double>>, thrust::cuda_cub::__transform::no_stencil_tag, Foam::multiplyOperatorFunctor<double, Foam::Vector<double>, Foam::Vector<double>>, thrust::cuda_cub::__transform::always_true_predicate>, long>, thrust::cuda_cub::__transform::binary_transform_f<thrust::device_ptr<double const >, thrust::device_ptr<Foam::Vector<double> const >, thrust::device_ptr<Foam::Vector<double>>, thrust::cuda_cub::__transform::no_stencil_tag, Foam::multiplyOperatorFunctor<double, Foam::Vector<double>, Foam::Vector<double>>, thrust::cuda_cub::__transform::always_true_predicate>, long>(thrust::device_ptr<double const >, double)\n",
            "                    0.03%  13.020ms         6  2.1700ms  901.02us  2.8904ms  void thrust::cuda_cub::core::_kernel_agent<thrust::cuda_cub::__parallel_for::ParallelForAgent<thrust::cuda_cub::__transform::binary_transform_f<thrust::device_ptr<double>, thrust::device_ptr<double const >, thrust::device_ptr<double>, thrust::cuda_cub::__transform::no_stencil_tag, Foam::subtractOperatorFunctor<double, double, double>, thrust::cuda_cub::__transform::always_true_predicate>, long>, thrust::cuda_cub::__transform::binary_transform_f<thrust::device_ptr<double>, thrust::device_ptr<double const >, thrust::device_ptr<double>, thrust::cuda_cub::__transform::no_stencil_tag, Foam::subtractOperatorFunctor<double, double, double>, thrust::cuda_cub::__transform::always_true_predicate>, long>(thrust::device_ptr<double>, double const )\n",
            "                    0.03%  12.909ms      9549  1.3510us  1.1510us  2.8810us  [CUDA memcpy DtoH]\n",
            "                    0.03%  12.236ms        16  764.78us  754.81us  772.48us  void thrust::cuda_cub::core::_kernel_agent<thrust::cuda_cub::__parallel_for::ParallelForAgent<thrust::cuda_cub::__transform::binary_transform_f<thrust::device_ptr<double const >, thrust::device_ptr<double>, thrust::device_ptr<double>, thrust::cuda_cub::__transform::no_stencil_tag, Foam::minusOp<double>, thrust::cuda_cub::__transform::always_true_predicate>, long>, thrust::cuda_cub::__transform::binary_transform_f<thrust::device_ptr<double const >, thrust::device_ptr<double>, thrust::device_ptr<double>, thrust::cuda_cub::__transform::no_stencil_tag, Foam::minusOp<double>, thrust::cuda_cub::__transform::always_true_predicate>, long>(thrust::device_ptr<double const >, double)\n",
            "                    0.03%  12.181ms        34  358.27us  243.62us  930.52us  void cub::DeviceReduceKernel<cub::DeviceReducePolicy<double, double, int, thrust::plus<double>>::Policy600, thrust::device_ptr<double const >, double*, int, thrust::plus<double>>(double, int, double, cub::GridEvenShare<int>, thrust::plus<double>)\n",
            "                    0.03%  12.033ms         1  12.033ms  12.033ms  12.033ms  void thrust::cuda_cub::core::_kernel_agent<thrust::cuda_cub::__parallel_for::ParallelForAgent<thrust::cuda_cub::__transform::unary_transform_f<thrust::zip_iterator<thrust::tuple<thrust::device_ptr<Foam::Vector<double> const >, thrust::device_ptr<Foam::Vector<double> const >, thrust::permutation_iterator<thrust::device_ptr<Foam::Vector<double> const >, thrust::device_ptr<int const >>, thrust::permutation_iterator<thrust::device_ptr<Foam::Vector<double> const >, thrust::device_ptr<int const >>, thrust::null_type, thrust::null_type, thrust::null_type, thrust::null_type, thrust::null_type, thrust::null_type>>, thrust::device_ptr<double>, thrust::cuda_cub::__transform::no_stencil_tag, Foam::surfaceInterpolationMakeWeightsFunctor, thrust::cuda_cub::__transform::always_true_predicate>, long>, thrust::cuda_cub::__transform::unary_transform_f<thrust::zip_iterator<thrust::tuple<thrust::device_ptr<Foam::Vector<double> const >, thrust::device_ptr<Foam::Vector<double> const >, thrust::permutation_iterator<thrust::device_ptr<Foam::Vector<double> const >, thrust::device_ptr<int const >>, thrust::permutation_iterator<thrust::device_ptr<Foam::Vector<double> const >, thrust::device_ptr<int const >>, thrust::null_type, thrust::null_type, thrust::null_type, thrust::null_type, thrust::null_type, thrust::null_type>>, thrust::device_ptr<double>, thrust::cuda_cub::__transform::no_stencil_tag, Foam::surfaceInterpolationMakeWeightsFunctor, thrust::cuda_cub::__transform::always_true_predicate>, long>(Foam::Vector<double> const , thrust::device_ptr<Foam::Vector<double> const >)\n",
            "                    0.03%  10.648ms         4  2.6620ms  2.6009ms  2.8208ms  void thrust::cuda_cub::core::_kernel_agent<thrust::cuda_cub::__parallel_for::ParallelForAgent<thrust::cuda_cub::__transform::unary_transform_f<thrust::zip_iterator<thrust::tuple<thrust::device_ptr<double const >, thrust::permutation_iterator<thrust::device_ptr<double const >, thrust::device_ptr<int const >>, thrust::device_ptr<double const >, thrust::permutation_iterator<thrust::device_ptr<double const >, thrust::device_ptr<int const >>, thrust::null_type, thrust::null_type, thrust::null_type, thrust::null_type, thrust::null_type, thrust::null_type>>, thrust::device_ptr<double>, thrust::cuda_cub::__transform::no_stencil_tag, Foam::lduMatrixfaceHFunctor<double>, thrust::cuda_cub::__transform::always_true_predicate>, long>, thrust::cuda_cub::__transform::unary_transform_f<thrust::zip_iterator<thrust::tuple<thrust::device_ptr<double const >, thrust::permutation_iterator<thrust::device_ptr<double const >, thrust::device_ptr<int const >>, thrust::device_ptr<double const >, thrust::permutation_iterator<thrust::device_ptr<double const >, thrust::device_ptr<int const >>, thrust::null_type, thrust::null_type, thrust::null_type, thrust::null_type, thrust::null_type, thrust::null_type>>, thrust::device_ptr<double>, thrust::cuda_cub::__transform::no_stencil_tag, Foam::lduMatrixfaceHFunctor<double>, thrust::cuda_cub::__transform::always_true_predicate>, long>(thrust::device_ptr<double const >, thrust::device_ptr<double const >)\n",
            "                    0.03%  9.9708ms        12  830.90us  14.496us  2.4201ms  void thrust::cuda_cub::core::_kernel_agent<thrust::cuda_cub::__parallel_for::ParallelForAgent<thrust::cuda_cub::__transform::binary_transform_f<thrust::device_ptr<Foam::Vector<double> const >, thrust::device_ptr<Foam::Vector<double> const >, thrust::device_ptr<Foam::Vector<double>>, thrust::cuda_cub::__transform::no_stencil_tag, Foam::subtractOperatorFunctor<Foam::Vector<double>, Foam::Vector<double>, Foam::Vector<double>>, thrust::cuda_cub::__transform::always_true_predicate>, long>, thrust::cuda_cub::__transform::binary_transform_f<thrust::device_ptr<Foam::Vector<double> const >, thrust::device_ptr<Foam::Vector<double> const >, thrust::device_ptr<Foam::Vector<double>>, thrust::cuda_cub::__transform::no_stencil_tag, Foam::subtractOperatorFunctor<Foam::Vector<double>, Foam::Vector<double>, Foam::Vector<double>>, thrust::cuda_cub::__transform::always_true_predicate>, long>(Foam::Vector<double> const , thrust::device_ptr<Foam::Vector<double> const >)\n",
            "                    0.02%  9.0572ms        15  603.81us  4.8960us  1.8761ms  void thrust::cuda_cub::core::_kernel_agent<thrust::cuda_cub::__parallel_for::ParallelForAgent<thrust::cuda_cub::__transform::unary_transform_f<thrust::device_ptr<double const >, thrust::device_ptr<double>, thrust::cuda_cub::__transform::no_stencil_tag, Foam::addOperatorFSFunctor<double, double, double>, thrust::cuda_cub::__transform::always_true_predicate>, long>, thrust::cuda_cub::__transform::unary_transform_f<thrust::device_ptr<double const >, thrust::device_ptr<double>, thrust::cuda_cub::__transform::no_stencil_tag, Foam::addOperatorFSFunctor<double, double, double>, thrust::cuda_cub::__transform::always_true_predicate>, long>(thrust::device_ptr<double const >, double)\n",
            "                    0.02%  8.8371ms        17  519.83us  507.87us  529.76us  void thrust::cuda_cub::core::_kernel_agent<thrust::cuda_cub::__parallel_for::ParallelForAgent<thrust::cuda_cub::__transform::unary_transform_f<thrust::device_ptr<double>, thrust::device_ptr<double>, thrust::cuda_cub::__transform::no_stencil_tag, thrust::identity<double>, thrust::cuda_cub::__transform::always_true_predicate>, long>, thrust::cuda_cub::__transform::unary_transform_f<thrust::device_ptr<double>, thrust::device_ptr<double>, thrust::cuda_cub::__transform::no_stencil_tag, thrust::identity<double>, thrust::cuda_cub::__transform::always_true_predicate>, long>(thrust::device_ptr<double>, thrust::device_ptr<double>)\n",
            "                    0.02%  8.1566ms        24  339.86us  6.2400us  657.88us  void thrust::cuda_cub::core::_kernel_agent<thrust::cuda_cub::__parallel_for::ParallelForAgent<thrust::cuda_cub::__transform::unary_transform_f<thrust::device_ptr<double const >, thrust::device_ptr<double>, thrust::cuda_cub::__transform::no_stencil_tag, Foam::divideOperatorSFFunctor<double, double, double>, thrust::cuda_cub::__transform::always_true_predicate>, long>, thrust::cuda_cub::__transform::unary_transform_f<thrust::device_ptr<double const >, thrust::device_ptr<double>, thrust::cuda_cub::__transform::no_stencil_tag, Foam::divideOperatorSFFunctor<double, double, double>, thrust::cuda_cub::__transform::always_true_predicate>, long>(thrust::device_ptr<double const >, double)\n",
            "                    0.02%  7.9548ms        16  497.18us  7.2000us  1.9197ms  void thrust::cuda_cub::core::_kernel_agent<thrust::cuda_cub::__parallel_for::ParallelForAgent<thrust::cuda_cub::__fill::functor<thrust::device_ptr<Foam::Vector<double>>, Foam::Vector<double>>, long>, thrust::cuda_cub::__fill::functor<thrust::device_ptr<Foam::Vector<double>>, Foam::Vector<double>>, long>(Foam::Vector<double>, thrust::device_ptr<Foam::Vector<double>>)\n",
            "                    0.02%  7.6251ms         8  953.14us  854.97us  1.1895ms  void thrust::cuda_cub::core::_kernel_agent<thrust::cuda_cub::__parallel_for::ParallelForAgent<thrust::cuda_cub::__transform::binary_transform_f<thrust::device_ptr<double>, thrust::device_ptr<double const >, thrust::device_ptr<double>, thrust::cuda_cub::__transform::no_stencil_tag, Foam::divideOperatorFunctor<double, double, double>, thrust::cuda_cub::__transform::always_true_predicate>, long>, thrust::cuda_cub::__transform::binary_transform_f<thrust::device_ptr<double>, thrust::device_ptr<double const >, thrust::device_ptr<double>, thrust::cuda_cub::__transform::no_stencil_tag, Foam::divideOperatorFunctor<double, double, double>, thrust::cuda_cub::__transform::always_true_predicate>, long>(thrust::device_ptr<double>, double const )\n",
            "                    0.02%  7.5472ms        12  628.94us  4.7040us  1.8883ms  void thrust::cuda_cub::core::_kernel_agent<thrust::cuda_cub::__parallel_for::ParallelForAgent<thrust::cuda_cub::__transform::unary_transform_f<thrust::device_ptr<double const >, thrust::device_ptr<double>, thrust::cuda_cub::__transform::no_stencil_tag, Foam::multiplyOperatorFSFunctor<double, double, double>, thrust::cuda_cub::__transform::always_true_predicate>, long>, thrust::cuda_cub::__transform::unary_transform_f<thrust::device_ptr<double const >, thrust::device_ptr<double>, thrust::cuda_cub::__transform::no_stencil_tag, Foam::multiplyOperatorFSFunctor<double, double, double>, thrust::cuda_cub::__transform::always_true_predicate>, long>(thrust::device_ptr<double const >, double)\n",
            "                    0.02%  7.5446ms        12  628.72us  4.7670us  1.8825ms  void thrust::cuda_cub::core::_kernel_agent<thrust::cuda_cub::__parallel_for::ParallelForAgent<thrust::cuda_cub::__transform::unary_transform_f<thrust::device_ptr<double const >, thrust::device_ptr<double>, thrust::cuda_cub::__transform::no_stencil_tag, Foam::subtractOperatorSFFunctor<double, double, double>, thrust::cuda_cub::__transform::always_true_predicate>, long>, thrust::cuda_cub::__transform::unary_transform_f<thrust::device_ptr<double const >, thrust::device_ptr<double>, thrust::cuda_cub::__transform::no_stencil_tag, Foam::subtractOperatorSFFunctor<double, double, double>, thrust::cuda_cub::__transform::always_true_predicate>, long>(thrust::device_ptr<double const >, double)\n",
            "                    0.02%  7.5242ms        12  627.02us  4.8630us  1.8800ms  void thrust::cuda_cub::core::_kernel_agent<thrust::cuda_cub::__parallel_for::ParallelForAgent<thrust::cuda_cub::__transform::unary_transform_f<thrust::device_ptr<double const >, thrust::device_ptr<double>, thrust::cuda_cub::__transform::no_stencil_tag, Foam::minBinaryFunctionFSFunctor<double, double, double>, thrust::cuda_cub::__transform::always_true_predicate>, long>, thrust::cuda_cub::__transform::unary_transform_f<thrust::device_ptr<double const >, thrust::device_ptr<double>, thrust::cuda_cub::__transform::no_stencil_tag, Foam::minBinaryFunctionFSFunctor<double, double, double>, thrust::cuda_cub::__transform::always_true_predicate>, long>(thrust::device_ptr<double const >, double)\n",
            "                    0.02%  7.4999ms        10  749.99us  747.81us  753.85us  void cub::DeviceReduceKernel<cub::DeviceReducePolicy<double, double, int, thrust::plus<double>>::Policy600, thrust::transform_iterator<Foam::normFactorFunctor, thrust::counting_iterator<int, thrust::use_default, thrust::use_default, thrust::use_default>, thrust::use_default, thrust::use_default>, double*, int, thrust::plus<double>>(double, int, double, cub::GridEvenShare<int>, thrust::plus<double>)\n",
            "                    0.02%  7.1116ms         1  7.1116ms  7.1116ms  7.1116ms  void thrust::cuda_cub::core::_kernel_agent<thrust::cuda_cub::__parallel_for::ParallelForAgent<thrust::cuda_cub::__transform::binary_transform_f<thrust::permutation_iterator<thrust::device_ptr<Foam::Vector<double> const >, thrust::device_ptr<int const >>, thrust::permutation_iterator<thrust::device_ptr<Foam::Vector<double> const >, thrust::device_ptr<int const >>, thrust::device_ptr<double>, thrust::cuda_cub::__transform::no_stencil_tag, Foam::surfaceInterpolationDeltaCoeffsFunctor, thrust::cuda_cub::__transform::always_true_predicate>, long>, thrust::cuda_cub::__transform::binary_transform_f<thrust::permutation_iterator<thrust::device_ptr<Foam::Vector<double> const >, thrust::device_ptr<int const >>, thrust::permutation_iterator<thrust::device_ptr<Foam::Vector<double> const >, thrust::device_ptr<int const >>, thrust::device_ptr<double>, thrust::cuda_cub::__transform::no_stencil_tag, Foam::surfaceInterpolationDeltaCoeffsFunctor, thrust::cuda_cub::__transform::always_true_predicate>, long>(Foam::Vector<double> const , thrust::device_ptr<Foam::Vector<double> const >)\n",
            "                    0.02%  6.3916ms        12  532.63us  518.97us  624.16us  void thrust::cuda_cub::core::_kernel_agent<thrust::cuda_cub::__parallel_for::ParallelForAgent<thrust::cuda_cub::__transform::unary_transform_f<thrust::device_ptr<double>, thrust::device_ptr<double>, thrust::cuda_cub::__transform::no_stencil_tag, thrust::negate<double>, thrust::cuda_cub::__transform::always_true_predicate>, long>, thrust::cuda_cub::__transform::unary_transform_f<thrust::device_ptr<double>, thrust::device_ptr<double>, thrust::cuda_cub::__transform::no_stencil_tag, thrust::negate<double>, thrust::cuda_cub::__transform::always_true_predicate>, long>(thrust::device_ptr<double>, thrust::device_ptr<double>)\n",
            "                    0.02%  6.3560ms         5  1.2712ms  10.816us  6.2331ms  void thrust::cuda_cub::core::_kernel_agent<thrust::cuda_cub::__parallel_for::ParallelForAgent<thrust::cuda_cub::__transform::unary_transform_f<thrust::device_ptr<Foam::Vector<double> const >, thrust::device_ptr<double>, thrust::cuda_cub::__transform::no_stencil_tag, Foam::magUnaryFunctionFunctor<Foam::Vector<double>, double>, thrust::cuda_cub::__transform::always_true_predicate>, long>, thrust::cuda_cub::__transform::unary_transform_f<thrust::device_ptr<Foam::Vector<double> const >, thrust::device_ptr<double>, thrust::cuda_cub::__transform::no_stencil_tag, Foam::magUnaryFunctionFunctor<Foam::Vector<double>, double>, thrust::cuda_cub::__transform::always_true_predicate>, long>(Foam::Vector<double> const , thrust::device_ptr<Foam::Vector<double> const >)\n",
            "                    0.02%  6.3314ms        10  633.14us  16.320us  3.0968ms  void thrust::cuda_cub::core::_kernel_agent<thrust::cuda_cub::__parallel_for::ParallelForAgent<thrust::cuda_cub::__transform::binary_transform_f<thrust::device_ptr<Foam::Vector<double>>, thrust::device_ptr<Foam::Vector<double> const >, thrust::device_ptr<Foam::Vector<double>>, thrust::cuda_cub::__transform::no_stencil_tag, Foam::subtractOperatorFunctor<Foam::Vector<double>, Foam::Vector<double>, Foam::Vector<double>>, thrust::cuda_cub::__transform::always_true_predicate>, long>, thrust::cuda_cub::__transform::binary_transform_f<thrust::device_ptr<Foam::Vector<double>>, thrust::device_ptr<Foam::Vector<double> const >, thrust::device_ptr<Foam::Vector<double>>, thrust::cuda_cub::__transform::no_stencil_tag, Foam::subtractOperatorFunctor<Foam::Vector<double>, Foam::Vector<double>, Foam::Vector<double>>, thrust::cuda_cub::__transform::always_true_predicate>, long>(Foam::Vector<double>, thrust::device_ptr<Foam::Vector<double>>)\n",
            "                    0.02%  5.8172ms         4  1.4543ms  13.376us  2.8916ms  void thrust::cuda_cub::core::_kernel_agent<thrust::cuda_cub::__reduce_by_key::ReduceByKeyAgent<thrust::device_ptr<int>, thrust::device_ptr<int>, thrust::discard_iterator<thrust::use_default>, thrust::device_ptr<int>, thrust::equal_to<int>, thrust::plus<int>, int*, int>, thrust::device_ptr<int>, thrust::device_ptr<int>, thrust::discard_iterator<thrust::use_default>, thrust::device_ptr<int>, int*, cub::ReduceByKeyScanTileState<int, int, bool=1>, thrust::equal_to<int>, thrust::plus<int>, int, int>(thrust::device_ptr<int>, thrust::device_ptr<int>, thrust::use_default, thrust::discard_iterator<thrust::use_default>, thrust::device_ptr<int>, int, thrust::equal_to<int>, int, thrust::plus<int>, int*)\n",
            "                    0.01%  5.7481ms         6  958.02us  907.23us  980.51us  void thrust::cuda_cub::core::_kernel_agent<thrust::cuda_cub::__parallel_for::ParallelForAgent<thrust::cuda_cub::__transform::binary_transform_f<thrust::device_ptr<double>, thrust::device_ptr<double const >, thrust::device_ptr<double>, thrust::cuda_cub::__transform::no_stencil_tag, Foam::addOperatorFunctor<double, double, double>, thrust::cuda_cub::__transform::always_true_predicate>, long>, thrust::cuda_cub::__transform::binary_transform_f<thrust::device_ptr<double>, thrust::device_ptr<double const >, thrust::device_ptr<double>, thrust::cuda_cub::__transform::no_stencil_tag, Foam::addOperatorFunctor<double, double, double>, thrust::cuda_cub::__transform::always_true_predicate>, long>(thrust::device_ptr<double>, double const )\n",
            "                    0.01%  5.5918ms        22  254.17us  7.0080us  2.4561ms  void thrust::cuda_cub::core::_kernel_agent<thrust::cuda_cub::__parallel_for::ParallelForAgent<thrust::cuda_cub::__transform::binary_transform_f<thrust::device_ptr<double const >, thrust::device_ptr<Foam::Vector<double> const >, thrust::device_ptr<Foam::Vector<double>>, thrust::cuda_cub::__transform::no_stencil_tag, Foam::outerOperatorFunctor<double, Foam::Vector<double>, Foam::Vector<double>>, thrust::cuda_cub::__transform::always_true_predicate>, long>, thrust::cuda_cub::__transform::binary_transform_f<thrust::device_ptr<double const >, thrust::device_ptr<Foam::Vector<double> const >, thrust::device_ptr<Foam::Vector<double>>, thrust::cuda_cub::__transform::no_stencil_tag, Foam::outerOperatorFunctor<double, Foam::Vector<double>, Foam::Vector<double>>, thrust::cuda_cub::__transform::always_true_predicate>, long>(thrust::device_ptr<double const >, double)\n",
            "                    0.01%  5.5435ms         2  2.7717ms  2.4385ms  3.1050ms  void thrust::cuda_cub::core::_kernel_agent<thrust::cuda_cub::__parallel_for::ParallelForAgent<thrust::cuda_cub::__transform::unary_transform_f<thrust::counting_iterator<int, thrust::use_default, thrust::use_default, thrust::use_default>, thrust::device_ptr<double>, thrust::cuda_cub::__transform::no_stencil_tag, Foam::fvc::surfaceIntegrateFunctor<double, bool=0>, thrust::cuda_cub::__transform::always_true_predicate>, long>, thrust::cuda_cub::__transform::unary_transform_f<thrust::counting_iterator<int, thrust::use_default, thrust::use_default, thrust::use_default>, thrust::device_ptr<double>, thrust::cuda_cub::__transform::no_stencil_tag, Foam::fvc::surfaceIntegrateFunctor<double, bool=0>, thrust::cuda_cub::__transform::always_true_predicate>, long>(thrust::use_default, thrust::use_default)\n",
            "                    0.01%  5.3077ms        54  98.289us  2.4010us  314.33us  void thrust::cuda_cub::core::_kernel_agent<thrust::cuda_cub::__parallel_for::ParallelForAgent<thrust::cuda_cub::__fill::functor<thrust::device_ptr<double>, double>, long>, thrust::cuda_cub::__fill::functor<thrust::device_ptr<double>, double>, long>(thrust::device_ptr<double>, double)\n",
            "                    0.01%  5.2673ms        84  62.706us  7.2640us  134.91us  void thrust::cuda_cub::core::_kernel_agent<thrust::cuda_cub::__parallel_for::ParallelForAgent<thrust::cuda_cub::__transform::binary_transform_f<thrust::permutation_iterator<thrust::device_ptr<double>, thrust::device_ptr<int const >>, thrust::counting_iterator<int, thrust::use_default, thrust::use_default, thrust::use_default>, thrust::permutation_iterator<thrust::device_ptr<double>, thrust::device_ptr<int const >>, thrust::cuda_cub::__transform::no_stencil_tag, Foam::fvMatrixPatchAddFunctor<double, bool=1>, thrust::cuda_cub::__transform::always_true_predicate>, long>, thrust::cuda_cub::__transform::binary_transform_f<thrust::permutation_iterator<thrust::device_ptr<double>, thrust::device_ptr<int const >>, thrust::counting_iterator<int, thrust::use_default, thrust::use_default, thrust::use_default>, thrust::permutation_iterator<thrust::device_ptr<double>, thrust::device_ptr<int const >>, thrust::cuda_cub::__transform::no_stencil_tag, Foam::fvMatrixPatchAddFunctor<double, bool=1>, thrust::cuda_cub::__transform::always_true_predicate>, long>(thrust::device_ptr<double>, int const )\n",
            "                    0.01%  5.2007ms        28  185.74us  4.1280us  598.08us  void thrust::cuda_cub::core::_kernel_agent<thrust::cuda_cub::__parallel_for::ParallelForAgent<thrust::cuda_cub::__uninitialized_fill::functor<thrust::device_ptr<int>, int>, long>, thrust::cuda_cub::__uninitialized_fill::functor<thrust::device_ptr<int>, int>, long>(thrust::device_ptr<int>, int)\n",
            "                    0.01%  4.4347ms         2  2.2173ms  2.1986ms  2.2361ms  void thrust::cuda_cub::core::_kernel_agent<thrust::cuda_cub::__parallel_for::ParallelForAgent<thrust::cuda_cub::__transform::unary_transform_f<thrust::device_ptr<Foam::Vector<double> const >, thrust::device_ptr<Foam::Vector<double>>, thrust::cuda_cub::__transform::no_stencil_tag, Foam::outerOperatorSFFunctor<double, Foam::Vector<double>, Foam::Vector<double>>, thrust::cuda_cub::__transform::always_true_predicate>, long>, thrust::cuda_cub::__transform::unary_transform_f<thrust::device_ptr<Foam::Vector<double> const >, thrust::device_ptr<Foam::Vector<double>>, thrust::cuda_cub::__transform::no_stencil_tag, Foam::outerOperatorSFFunctor<double, Foam::Vector<double>, Foam::Vector<double>>, thrust::cuda_cub::__transform::always_true_predicate>, long>(Foam::Vector<double> const , thrust::device_ptr<Foam::Vector<double> const >)\n",
            "                    0.01%  4.2723ms        14  305.17us  9.1840us  1.8992ms  void thrust::cuda_cub::core::_kernel_agent<thrust::cuda_cub::__parallel_for::ParallelForAgent<thrust::cuda_cub::__transform::binary_transform_f<thrust::device_ptr<Foam::Vector<double> const >, thrust::device_ptr<double const >, thrust::device_ptr<Foam::Vector<double>>, thrust::cuda_cub::__transform::no_stencil_tag, Foam::outerOperatorFunctor<Foam::Vector<double>, double, Foam::Vector<double>>, thrust::cuda_cub::__transform::always_true_predicate>, long>, thrust::cuda_cub::__transform::binary_transform_f<thrust::device_ptr<Foam::Vector<double> const >, thrust::device_ptr<double const >, thrust::device_ptr<Foam::Vector<double>>, thrust::cuda_cub::__transform::no_stencil_tag, Foam::outerOperatorFunctor<Foam::Vector<double>, double, Foam::Vector<double>>, thrust::cuda_cub::__transform::always_true_predicate>, long>(Foam::Vector<double> const , thrust::device_ptr<Foam::Vector<double> const >)\n",
            "                    0.01%  4.0070ms         6  667.83us  9.5680us  2.0004ms  void thrust::cuda_cub::core::_kernel_agent<thrust::cuda_cub::__parallel_for::ParallelForAgent<thrust::cuda_cub::__transform::unary_transform_f<thrust::device_ptr<Foam::Vector<double> const >, thrust::device_ptr<Foam::Vector<double>>, thrust::cuda_cub::__transform::no_stencil_tag, Foam::negateUnaryOperatorFunctor<Foam::Vector<double>, Foam::Vector<double>>, thrust::cuda_cub::__transform::always_true_predicate>, long>, thrust::cuda_cub::__transform::unary_transform_f<thrust::device_ptr<Foam::Vector<double> const >, thrust::device_ptr<Foam::Vector<double>>, thrust::cuda_cub::__transform::no_stencil_tag, Foam::negateUnaryOperatorFunctor<Foam::Vector<double>, Foam::Vector<double>>, thrust::cuda_cub::__transform::always_true_predicate>, long>(Foam::Vector<double> const , thrust::device_ptr<Foam::Vector<double> const >)\n",
            "                    0.01%  3.8767ms        18  215.37us  2.8480us  1.9069ms  void thrust::cuda_cub::core::_kernel_agent<thrust::cuda_cub::__parallel_for::ParallelForAgent<thrust::cuda_cub::__transform::unary_transform_f<thrust::device_ptr<double const >, thrust::device_ptr<double>, thrust::cuda_cub::__transform::no_stencil_tag, Foam::negateUnaryOperatorFunctor<double, double>, thrust::cuda_cub::__transform::always_true_predicate>, long>, thrust::cuda_cub::__transform::unary_transform_f<thrust::device_ptr<double const >, thrust::device_ptr<double>, thrust::cuda_cub::__transform::no_stencil_tag, Foam::negateUnaryOperatorFunctor<double, double>, thrust::cuda_cub::__transform::always_true_predicate>, long>(thrust::device_ptr<double const >, double)\n",
            "                    0.01%  3.7015ms         5  740.30us  10.145us  1.3564ms  void cub::DeviceRadixSortHistogramKernel<cub::DeviceRadixSortPolicy<int, int, int>::Policy800, bool=0, int, int>(cub::DeviceRadixSortPolicy<int, int, int>::Policy800*, int const *, cub::DeviceRadixSortHistogramKernel<cub::DeviceRadixSortPolicy<int, int, int>::Policy800, bool=0, int, int>, int, int)\n",
            "                    0.01%  2.5697ms         4  642.41us  9.5040us  1.3790ms  void thrust::cuda_cub::core::_kernel_agent<thrust::cuda_cub::__parallel_for::ParallelForAgent<thrust::cuda_cub::__transform::unary_transform_f<thrust::permutation_iterator<thrust::device_ptr<int const >, thrust::device_ptr<int const >>, thrust::device_ptr<int>, thrust::cuda_cub::__transform::no_stencil_tag, thrust::identity<int>, thrust::cuda_cub::__transform::always_true_predicate>, long>, thrust::cuda_cub::__transform::unary_transform_f<thrust::permutation_iterator<thrust::device_ptr<int const >, thrust::device_ptr<int const >>, thrust::device_ptr<int>, thrust::cuda_cub::__transform::no_stencil_tag, thrust::identity<int>, thrust::cuda_cub::__transform::always_true_predicate>, long>(thrust::device_ptr<int const >, thrust::device_ptr<int const >)\n",
            "                    0.00%  1.8316ms        20  91.580us  18.720us  167.39us  void thrust::cuda_cub::core::_kernel_agent<thrust::cuda_cub::__parallel_for::ParallelForAgent<thrust::cuda_cub::__transform::unary_transform_f<thrust::permutation_iterator<thrust::device_ptr<Foam::Vector<double> const >, thrust::device_ptr<int const >>, thrust::device_ptr<Foam::Vector<double>>, thrust::cuda_cub::__transform::no_stencil_tag, thrust::identity<Foam::Vector<double>>, thrust::cuda_cub::__transform::always_true_predicate>, long>, thrust::cuda_cub::__transform::unary_transform_f<thrust::permutation_iterator<thrust::device_ptr<Foam::Vector<double> const >, thrust::device_ptr<int const >>, thrust::device_ptr<Foam::Vector<double>>, thrust::cuda_cub::__transform::no_stencil_tag, thrust::identity<Foam::Vector<double>>, thrust::cuda_cub::__transform::always_true_predicate>, long>(Foam::Vector<double> const , thrust::device_ptr<Foam::Vector<double> const >)\n",
            "                    0.00%  1.7205ms         4  430.13us  6.2720us  852.19us  void thrust::cuda_cub::core::_kernel_agent<thrust::cuda_cub::__parallel_for::ParallelForAgent<thrust::cuda_cub::__transform::unary_transform_f<thrust::device_ptr<int const >, thrust::device_ptr<int>, thrust::cuda_cub::__transform::no_stencil_tag, thrust::identity<int>, thrust::cuda_cub::__transform::always_true_predicate>, long>, thrust::cuda_cub::__transform::unary_transform_f<thrust::device_ptr<int const >, thrust::device_ptr<int>, thrust::cuda_cub::__transform::no_stencil_tag, thrust::identity<int>, thrust::cuda_cub::__transform::always_true_predicate>, long>(thrust::device_ptr<int const >, int)\n",
            "                    0.00%  1.3854ms        20  69.268us  10.336us  131.26us  void thrust::cuda_cub::core::_kernel_agent<thrust::cuda_cub::__parallel_for::ParallelForAgent<thrust::cuda_cub::__transform::binary_transform_f<thrust::counting_iterator<int, thrust::use_default, thrust::use_default, thrust::use_default>, thrust::permutation_iterator<thrust::device_ptr<double>, thrust::device_ptr<int const >>, thrust::permutation_iterator<thrust::device_ptr<double>, thrust::device_ptr<int const >>, thrust::cuda_cub::__transform::no_stencil_tag, Foam::fvc::surfaceIntegratePatchFunctor<double>, thrust::cuda_cub::__transform::always_true_predicate>, long>, thrust::cuda_cub::__transform::binary_transform_f<thrust::counting_iterator<int, thrust::use_default, thrust::use_default, thrust::use_default>, thrust::permutation_iterator<thrust::device_ptr<double>, thrust::device_ptr<int const >>, thrust::permutation_iterator<thrust::device_ptr<double>, thrust::device_ptr<int const >>, thrust::cuda_cub::__transform::no_stencil_tag, Foam::fvc::surfaceIntegratePatchFunctor<double>, thrust::cuda_cub::__transform::always_true_predicate>, long>(thrust::use_default, thrust::use_default)\n",
            "                    0.00%  1.1202ms        12  93.354us  19.999us  167.97us  void thrust::cuda_cub::core::_kernel_agent<thrust::cuda_cub::__parallel_for::ParallelForAgent<thrust::cuda_cub::__transform::binary_transform_f<thrust::counting_iterator<int, thrust::use_default, thrust::use_default, thrust::use_default>, thrust::permutation_iterator<thrust::device_ptr<Foam::Vector<double>>, thrust::device_ptr<int const >>, thrust::permutation_iterator<thrust::device_ptr<Foam::Vector<double>>, thrust::device_ptr<int const >>, thrust::cuda_cub::__transform::no_stencil_tag, Foam::gaussGradPatchFunctor<double, Foam::Vector<double>>, thrust::cuda_cub::__transform::always_true_predicate>, long>, thrust::cuda_cub::__transform::binary_transform_f<thrust::counting_iterator<int, thrust::use_default, thrust::use_default, thrust::use_default>, thrust::permutation_iterator<thrust::device_ptr<Foam::Vector<double>>, thrust::device_ptr<int const >>, thrust::permutation_iterator<thrust::device_ptr<Foam::Vector<double>>, thrust::device_ptr<int const >>, thrust::cuda_cub::__transform::no_stencil_tag, Foam::gaussGradPatchFunctor<double, Foam::Vector<double>>, thrust::cuda_cub::__transform::always_true_predicate>, long>(thrust::use_default, thrust::use_default)\n",
            "                    0.00%  1.1197ms        12  93.311us  18.816us  190.94us  void thrust::cuda_cub::core::_kernel_agent<thrust::cuda_cub::__parallel_for::ParallelForAgent<thrust::cuda_cub::__transform::binary_transform_f<thrust::permutation_iterator<thrust::device_ptr<Foam::Vector<double>>, thrust::device_ptr<int const >>, thrust::counting_iterator<int, thrust::use_default, thrust::use_default, thrust::use_default>, thrust::permutation_iterator<thrust::device_ptr<Foam::Vector<double>>, thrust::device_ptr<int const >>, thrust::cuda_cub::__transform::no_stencil_tag, Foam::fvMatrixPatchAddFunctor<Foam::Vector<double>, bool=1>, thrust::cuda_cub::__transform::always_true_predicate>, long>, thrust::cuda_cub::__transform::binary_transform_f<thrust::permutation_iterator<thrust::device_ptr<Foam::Vector<double>>, thrust::device_ptr<int const >>, thrust::counting_iterator<int, thrust::use_default, thrust::use_default, thrust::use_default>, thrust::permutation_iterator<thrust::device_ptr<Foam::Vector<double>>, thrust::device_ptr<int const >>, thrust::cuda_cub::__transform::no_stencil_tag, Foam::fvMatrixPatchAddFunctor<Foam::Vector<double>, bool=1>, thrust::cuda_cub::__transform::always_true_predicate>, long>(Foam::Vector<double>, thrust::device_ptr<Foam::Vector<double>>)\n",
            "                    0.00%  1.0553ms         2  527.65us  519.42us  535.87us  void thrust::cuda_cub::core::_kernel_agent<thrust::cuda_cub::__parallel_for::ParallelForAgent<thrust::cuda_cub::__transform::unary_transform_f<thrust::device_ptr<double const >, thrust::device_ptr<double>, thrust::cuda_cub::__transform::no_stencil_tag, Foam::outerOperatorSFFunctor<double, double, double>, thrust::cuda_cub::__transform::always_true_predicate>, long>, thrust::cuda_cub::__transform::unary_transform_f<thrust::device_ptr<double const >, thrust::device_ptr<double>, thrust::cuda_cub::__transform::no_stencil_tag, Foam::outerOperatorSFFunctor<double, double, double>, thrust::cuda_cub::__transform::always_true_predicate>, long>(thrust::device_ptr<double const >, double)\n",
            "                    0.00%  761.73us         5  152.35us  4.1600us  450.49us  void thrust::cuda_cub::core::_kernel_agent<thrust::cuda_cub::__parallel_for::ParallelForAgent<thrust::cuda_cub::__transform::unary_transform_f<thrust::counting_iterator<int, thrust::use_default, thrust::use_default, thrust::use_default>, thrust::device_ptr<int>, thrust::cuda_cub::__transform::no_stencil_tag, thrust::identity<int>, thrust::cuda_cub::__transform::always_true_predicate>, long>, thrust::cuda_cub::__transform::unary_transform_f<thrust::counting_iterator<int, thrust::use_default, thrust::use_default, thrust::use_default>, thrust::device_ptr<int>, thrust::cuda_cub::__transform::no_stencil_tag, thrust::identity<int>, thrust::cuda_cub::__transform::always_true_predicate>, long>(thrust::use_default, thrust::use_default)\n",
            "                    0.00%  739.71us         2  369.85us  310.18us  429.53us  void thrust::cuda_cub::core::_kernel_agent<thrust::cuda_cub::__reduce::ReduceAgent<thrust::zip_iterator<thrust::tuple<thrust::device_ptr<double const >, thrust::cuda_cub::counting_iterator_t<long>, thrust::null_type, thrust::null_type, thrust::null_type, thrust::null_type, thrust::null_type, thrust::null_type, thrust::null_type, thrust::null_type>>, thrust::tuple<double, long, thrust::null_type, thrust::null_type, thrust::null_type, thrust::null_type, thrust::null_type, thrust::null_type, thrust::null_type, thrust::null_type>*, thrust::tuple<double, long, thrust::null_type, thrust::null_type, thrust::null_type, thrust::null_type, thrust::null_type, thrust::null_type, thrust::null_type, thrust::null_type>, int, thrust::cuda_cub::__extrema::arg_max_f<double, long, thrust::less<double>>>, thrust::zip_iterator<thrust::tuple<thrust::device_ptr<double const >, thrust::cuda_cub::counting_iterator_t<long>, thrust::null_type, thrust::null_type, thrust::null_type, thrust::null_type, thrust::null_type, thrust::null_type, thrust::null_type, thrust::null_type>>, thrust::tuple<double, long, thrust::null_type, thrust::null_type, thrust::null_type, thrust::null_type, thrust::null_type, thrust::null_type, thrust::null_type, thrust::null_type>*, int, cub::GridEvenShare<int>, cub::GridQueue<unsigned int>, thrust::cuda_cub::__extrema::arg_max_f<double, long, thrust::less<double>>>(thrust::device_ptr<double const >, long, thrust::cuda_cub::counting_iterator_t<long>, thrust::null_type, thrust::null_type, thrust::null_type)\n",
            "                    0.00%  728.25us         4  182.06us  9.6320us  356.64us  void cub::DeviceScanKernel<cub::AgentScanPolicy<int=128, int=15, int, cub::BlockLoadAlgorithm, cub::CacheLoadModifier, cub::BlockStoreAlgorithm, cub::BlockScanAlgorithm, cub::MemBoundScaling<int=128, int=15, int>>, thrust::device_ptr<int>, thrust::device_ptr<int>, cub::ScanTileState<int, bool=1>, thrust::plus<void>, int, int>(int=15, int, cub::BlockLoadAlgorithm, int, cub::CacheLoadModifier, cub::BlockStoreAlgorithm, cub::BlockScanAlgorithm)\n",
            "                    0.00%  679.13us        12  56.594us  20.416us  102.66us  void thrust::cuda_cub::core::_kernel_agent<thrust::cuda_cub::__parallel_for::ParallelForAgent<thrust::cuda_cub::__transform::binary_transform_f<thrust::device_ptr<Foam::Vector<double> const >, thrust::device_ptr<double const >, thrust::device_ptr<Foam::Vector<double>>, thrust::cuda_cub::__transform::no_stencil_tag, Foam::divideOperatorFunctor<Foam::Vector<double>, double, Foam::Vector<double>>, thrust::cuda_cub::__transform::always_true_predicate>, long>, thrust::cuda_cub::__transform::binary_transform_f<thrust::device_ptr<Foam::Vector<double> const >, thrust::device_ptr<double const >, thrust::device_ptr<Foam::Vector<double>>, thrust::cuda_cub::__transform::no_stencil_tag, Foam::divideOperatorFunctor<Foam::Vector<double>, double, Foam::Vector<double>>, thrust::cuda_cub::__transform::always_true_predicate>, long>(Foam::Vector<double> const , thrust::device_ptr<Foam::Vector<double> const >)\n",
            "                    0.00%  656.12us        32  20.503us  8.1590us  35.200us  void thrust::cuda_cub::core::_kernel_agent<thrust::cuda_cub::__parallel_for::ParallelForAgent<thrust::cuda_cub::__transform::unary_transform_f<thrust::device_ptr<Foam::Vector<double> const >, thrust::device_ptr<double>, thrust::cuda_cub::__transform::no_stencil_tag, Foam::cmptAvUnaryFunctionFunctor<Foam::Vector<double>, double>, thrust::cuda_cub::__transform::always_true_predicate>, long>, thrust::cuda_cub::__transform::unary_transform_f<thrust::device_ptr<Foam::Vector<double> const >, thrust::device_ptr<double>, thrust::cuda_cub::__transform::no_stencil_tag, Foam::cmptAvUnaryFunctionFunctor<Foam::Vector<double>, double>, thrust::cuda_cub::__transform::always_true_predicate>, long>(Foam::Vector<double> const , thrust::device_ptr<Foam::Vector<double> const >)\n",
            "                    0.00%  515.42us         6  85.903us  3.6800us  188.54us  void thrust::cuda_cub::core::_kernel_agent<thrust::cuda_cub::__parallel_for::ParallelForAgent<thrust::cuda_cub::for_each_f<thrust::pointer<Foam::Vector<double>, thrust::cuda_cub::tag, thrust::use_default, thrust::use_default>, thrust::detail::wrapped_function<thrust::detail::allocator_traits_detail::gozer, void>>, long>, thrust::cuda_cub::for_each_f<thrust::pointer<Foam::Vector<double>, thrust::cuda_cub::tag, thrust::use_default, thrust::use_default>, thrust::detail::wrapped_function<thrust::detail::allocator_traits_detail::gozer, void>>, long>(Foam::Vector<double>, thrust::cuda_cub::tag)\n",
            "                    0.00%  515.01us         6  85.834us  3.5840us  188.51us  void thrust::cuda_cub::core::_kernel_agent<thrust::cuda_cub::__parallel_for::ParallelForAgent<thrust::cuda_cub::for_each_f<thrust::pointer<Foam::Vector<double>, thrust::cuda_cub::tag, thrust::use_default, thrust::use_default>, thrust::detail::wrapped_function<thrust::detail::allocator_traits_detail::construct1_via_allocator<thrust::detail::no_throw_allocator<thrust::detail::temporary_allocator<Foam::Vector<double>, thrust::cuda_cub::tag>>>, void>>, unsigned long>, thrust::cuda_cub::for_each_f<thrust::pointer<Foam::Vector<double>, thrust::cuda_cub::tag, thrust::use_default, thrust::use_default>, thrust::detail::wrapped_function<thrust::detail::allocator_traits_detail::construct1_via_allocator<thrust::detail::no_throw_allocator<thrust::detail::temporary_allocator<Foam::Vector<double>, thrust::cuda_cub::tag>>>, void>>, unsigned long>(Foam::Vector<double>, thrust::cuda_cub::tag)\n",
            "                    0.00%  306.14us         2  153.07us  152.67us  153.47us  void thrust::cuda_cub::core::_kernel_agent<thrust::cuda_cub::__parallel_for::ParallelForAgent<thrust::cuda_cub::__fill::functor<thrust::device_ptr<int>, int>, long>, thrust::cuda_cub::__fill::functor<thrust::device_ptr<int>, int>, long>(thrust::device_ptr<int>, int)\n",
            "                    0.00%  220.99us         2  110.50us  44.031us  176.96us  void thrust::cuda_cub::core::_kernel_agent<thrust::cuda_cub::__parallel_for::ParallelForAgent<thrust::cuda_cub::__transform::unary_transform_f<thrust::zip_iterator<thrust::tuple<thrust::device_ptr<Foam::Vector<double> const >, thrust::device_ptr<double const >, thrust::device_ptr<Foam::Vector<double> const >, thrust::permutation_iterator<thrust::device_ptr<Foam::Vector<double> const >, thrust::device_ptr<int const >>, thrust::null_type, thrust::null_type, thrust::null_type, thrust::null_type, thrust::null_type, thrust::null_type>>, thrust::device_ptr<Foam::Vector<double>>, thrust::cuda_cub::__transform::no_stencil_tag, Foam::fvPatchDelta, thrust::cuda_cub::__transform::always_true_predicate>, long>, thrust::cuda_cub::__transform::unary_transform_f<thrust::zip_iterator<thrust::tuple<thrust::device_ptr<Foam::Vector<double> const >, thrust::device_ptr<double const >, thrust::device_ptr<Foam::Vector<double> const >, thrust::permutation_iterator<thrust::device_ptr<Foam::Vector<double> const >, thrust::device_ptr<int const >>, thrust::null_type, thrust::null_type, thrust::null_type, thrust::null_type, thrust::null_type, thrust::null_type>>, thrust::device_ptr<Foam::Vector<double>>, thrust::cuda_cub::__transform::no_stencil_tag, Foam::fvPatchDelta, thrust::cuda_cub::__transform::always_true_predicate>, long>(Foam::Vector<double> const , thrust::device_ptr<Foam::Vector<double> const >)\n",
            "                    0.00%  206.59us        30  6.8860us  1.4080us  16.032us  [CUDA memset]\n",
            "                    0.00%  151.55us         8  18.943us  10.944us  28.384us  void cub::DeviceReduceKernel<cub::DeviceReducePolicy<double, int, int, thrust::minus<double>>::Policy600, thrust::transform_iterator<Foam::adjustPhiFilter<bool=0>, thrust::device_ptr<double const >, thrust::use_default, thrust::use_default>, int*, int, thrust::minus<double>>(int, int, double, cub::GridEvenShare<int>, thrust::minus<double>)\n",
            "                    0.00%  150.75us         8  18.843us  9.6960us  29.088us  void cub::DeviceReduceKernel<cub::DeviceReducePolicy<double, int, int, thrust::plus<double>>::Policy600, thrust::transform_iterator<Foam::adjustPhiFilter<bool=1>, thrust::device_ptr<double const >, thrust::use_default, thrust::use_default>, int*, int, thrust::plus<double>>(int, int, double, cub::GridEvenShare<int>, thrust::plus<double>)\n",
            "                    0.00%  114.78us         4  28.695us  6.1120us  50.528us  void thrust::cuda_cub::core::_kernel_agent<thrust::cuda_cub::__parallel_for::ParallelForAgent<thrust::cuda_cub::__transform::unary_transform_f<thrust::device_ptr<double const >, thrust::device_ptr<Foam::Vector<double>>, thrust::cuda_cub::__transform::no_stencil_tag, Foam::outerOperatorSFFunctor<Foam::Vector<double>, double, Foam::Vector<double>>, thrust::cuda_cub::__transform::always_true_predicate>, long>, thrust::cuda_cub::__transform::unary_transform_f<thrust::device_ptr<double const >, thrust::device_ptr<Foam::Vector<double>>, thrust::cuda_cub::__transform::no_stencil_tag, Foam::outerOperatorSFFunctor<Foam::Vector<double>, double, Foam::Vector<double>>, thrust::cuda_cub::__transform::always_true_predicate>, long>(thrust::device_ptr<double const >, double)\n",
            "                    0.00%  67.935us         8  8.4910us  4.6080us  12.704us  void thrust::cuda_cub::core::_kernel_agent<thrust::cuda_cub::__parallel_for::ParallelForAgent<thrust::cuda_cub::__transform::binary_transform_f<thrust::device_ptr<double const >, thrust::device_ptr<double const >, thrust::device_ptr<double>, thrust::cuda_cub::__transform::no_stencil_tag, Foam::cmptMultiplyBinaryFunctionFunctor<double, double, double>, thrust::cuda_cub::__transform::always_true_predicate>, long>, thrust::cuda_cub::__transform::binary_transform_f<thrust::device_ptr<double const >, thrust::device_ptr<double const >, thrust::device_ptr<double>, thrust::cuda_cub::__transform::no_stencil_tag, Foam::cmptMultiplyBinaryFunctionFunctor<double, double, double>, thrust::cuda_cub::__transform::always_true_predicate>, long>(thrust::device_ptr<double const >, thrust::device_ptr<double const >)\n",
            "                    0.00%  44.542us         8  5.5670us  5.3760us  5.7920us  void cub::DeviceReduceSingleTileKernel<cub::DeviceReducePolicy<double, int, int, thrust::minus<double>>::Policy600, int*, int*, int, thrust::minus<double>, int>(int, int, double, thrust::minus<double>, cub::DeviceReducePolicy<double, int, int, thrust::minus<double>>::Policy600)\n",
            "                    0.00%  43.811us         8  5.4760us  5.2160us  5.8240us  void cub::DeviceReduceSingleTileKernel<cub::DeviceReducePolicy<double, int, int, thrust::plus<double>>::Policy600, int*, int*, int, thrust::plus<double>, int>(int, int, double, thrust::plus<double>, cub::DeviceReducePolicy<double, int, int, thrust::plus<double>>::Policy600)\n",
            "                    0.00%  29.408us         2  14.704us  8.4800us  20.928us  void thrust::cuda_cub::core::_kernel_agent<thrust::cuda_cub::__parallel_for::ParallelForAgent<thrust::cuda_cub::__transform::unary_transform_f<thrust::permutation_iterator<thrust::device_ptr<int const >, thrust::device_ptr<int>>, thrust::device_ptr<int>, thrust::cuda_cub::__transform::no_stencil_tag, thrust::identity<int>, thrust::cuda_cub::__transform::always_true_predicate>, long>, thrust::cuda_cub::__transform::unary_transform_f<thrust::permutation_iterator<thrust::device_ptr<int const >, thrust::device_ptr<int>>, thrust::device_ptr<int>, thrust::cuda_cub::__transform::no_stencil_tag, thrust::identity<int>, thrust::cuda_cub::__transform::always_true_predicate>, long>(thrust::device_ptr<int const >, int)\n",
            "                    0.00%  29.342us         2  14.671us  11.775us  17.567us  void thrust::cuda_cub::core::_kernel_agent<thrust::cuda_cub::__unique::UniqueAgent<thrust::device_ptr<int>, thrust::device_ptr<int>, thrust::equal_to<int>, int, int*>, thrust::device_ptr<int>, thrust::device_ptr<int>, thrust::equal_to<int>, int*, int, cub::ScanTileState<int, bool=1>, unsigned long>(thrust::device_ptr<int>, thrust::device_ptr<int>, int, thrust::equal_to<int>, int, int*, thrust::cuda_cub::__unique::UniqueAgent<thrust::device_ptr<int>, thrust::device_ptr<int>, thrust::equal_to<int>, int, int*>)\n",
            "                    0.00%  27.424us         5  5.4840us  4.8960us  5.7920us  void cub::DeviceRadixSortExclusiveSumKernel<cub::DeviceRadixSortPolicy<int, int, int>::Policy800, int>(int*)\n",
            "                    0.00%  19.296us         4  4.8240us  3.8720us  5.9520us  void thrust::cuda_cub::core::_kernel_agent<thrust::cuda_cub::__reduce_by_key::InitAgent<cub::ReduceByKeyScanTileState<int, int, bool=1>, int, int*>, cub::ReduceByKeyScanTileState<int, int, bool=1>, int, int*>(int, bool=1, cub::ReduceByKeyScanTileState<int, int, bool=1>)\n",
            "                    0.00%  17.216us         4  4.3040us  3.8400us  4.7680us  void cub::DeviceScanInitKernel<cub::ScanTileState<int, bool=1>>(int, int)\n",
            "                    0.00%  13.728us         2  6.8640us  4.3840us  9.3440us  void thrust::cuda_cub::core::_kernel_agent<thrust::cuda_cub::__reduce::ReduceAgent<thrust::tuple<double, long, thrust::null_type, thrust::null_type, thrust::null_type, thrust::null_type, thrust::null_type, thrust::null_type, thrust::null_type, thrust::null_type>*, thrust::tuple<double, long, thrust::null_type, thrust::null_type, thrust::null_type, thrust::null_type, thrust::null_type, thrust::null_type, thrust::null_type, thrust::null_type>*, thrust::tuple<double, long, thrust::null_type, thrust::null_type, thrust::null_type, thrust::null_type, thrust::null_type, thrust::null_type, thrust::null_type, thrust::null_type>, int, thrust::cuda_cub::__extrema::arg_max_f<double, long, thrust::less<double>>>, thrust::tuple<double, long, thrust::null_type, thrust::null_type, thrust::null_type, thrust::null_type, thrust::null_type, thrust::null_type, thrust::null_type, thrust::null_type>*, thrust::tuple<double, long, thrust::null_type, thrust::null_type, thrust::null_type, thrust::null_type, thrust::null_type, thrust::null_type, thrust::null_type, thrust::null_type>*, int, thrust::cuda_cub::__extrema::arg_max_f<double, long, thrust::less<double>>>(long, thrust::null_type, thrust::null_type, thrust::null_type)\n",
            "                    0.00%  8.1600us         1  8.1600us  8.1600us  8.1600us  void thrust::cuda_cub::core::_kernel_agent<thrust::cuda_cub::__parallel_for::ParallelForAgent<thrust::cuda_cub::__transform::unary_transform_f<thrust::device_ptr<int>, thrust::device_ptr<int>, thrust::cuda_cub::__transform::no_stencil_tag, thrust::identity<int>, thrust::cuda_cub::__transform::always_true_predicate>, long>, thrust::cuda_cub::__transform::unary_transform_f<thrust::device_ptr<int>, thrust::device_ptr<int>, thrust::cuda_cub::__transform::no_stencil_tag, thrust::identity<int>, thrust::cuda_cub::__transform::always_true_predicate>, long>(thrust::device_ptr<int>, thrust::device_ptr<int>)\n",
            "                    0.00%  7.8710us         2  3.9350us  3.8710us  4.0000us  void thrust::cuda_cub::core::_kernel_agent<thrust::cuda_cub::__unique::InitAgent<cub::ScanTileState<int, bool=1>, int*, int>, cub::ScanTileState<int, bool=1>, unsigned long, int*>(bool=1, cub::ScanTileState<int, bool=1>, int*)\n",
            "                    0.00%  7.5200us         2  3.7600us  2.7840us  4.7360us  void thrust::cuda_cub::core::_kernel_agent<thrust::cuda_cub::__parallel_for::ParallelForAgent<thrust::cuda_cub::__uninitialized_copy::functor<thrust::tuple<double, long, thrust::null_type, thrust::null_type, thrust::null_type, thrust::null_type, thrust::null_type, thrust::null_type, thrust::null_type, thrust::null_type>*, thrust::pointer<thrust::tuple<double, long, thrust::null_type, thrust::null_type, thrust::null_type, thrust::null_type, thrust::null_type, thrust::null_type, thrust::null_type, thrust::null_type>, thrust::cuda_cub::tag, thrust::use_default, thrust::use_default>>, long>, thrust::cuda_cub::__uninitialized_copy::functor<thrust::tuple<double, long, thrust::null_type, thrust::null_type, thrust::null_type, thrust::null_type, thrust::null_type, thrust::null_type, thrust::null_type, thrust::null_type>*, thrust::pointer<thrust::tuple<double, long, thrust::null_type, thrust::null_type, thrust::null_type, thrust::null_type, thrust::null_type, thrust::null_type, thrust::null_type, thrust::null_type>, thrust::cuda_cub::tag, thrust::use_default, thrust::use_default>>, long>(long, thrust::null_type)\n",
            "                    0.00%  7.4550us         2  3.7270us  2.6240us  4.8310us  void thrust::cuda_cub::core::_kernel_agent<thrust::cuda_cub::__reduce::DrainAgent<int>, cub::GridQueue<unsigned int>, int>(thrust::cuda_cub::__reduce::DrainAgent<int>, unsigned int)\n",
            "                    0.00%  5.4400us         2  2.7200us  2.0480us  3.3920us  void thrust::cuda_cub::core::_kernel_agent<thrust::cuda_cub::__parallel_for::ParallelForAgent<thrust::cuda_cub::for_each_f<thrust::pointer<thrust::tuple<double, long, thrust::null_type, thrust::null_type, thrust::null_type, thrust::null_type, thrust::null_type, thrust::null_type, thrust::null_type, thrust::null_type>, thrust::cuda_cub::tag, thrust::use_default, thrust::use_default>, thrust::detail::wrapped_function<thrust::detail::allocator_traits_detail::gozer, void>>, long>, thrust::cuda_cub::for_each_f<thrust::pointer<thrust::tuple<double, long, thrust::null_type, thrust::null_type, thrust::null_type, thrust::null_type, thrust::null_type, thrust::null_type, thrust::null_type, thrust::null_type>, thrust::cuda_cub::tag, thrust::use_default, thrust::use_default>, thrust::detail::wrapped_function<thrust::detail::allocator_traits_detail::gozer, void>>, long>(long, thrust::null_type)\n",
            "      API calls:   93.36%  39.0594s     37276  1.0478ms  1.0140us  21.230ms  cudaStreamSynchronize\n",
            "                    1.61%  672.40ms     10414  64.566us  2.0840us  106.77ms  cudaFree\n",
            "                    1.40%  586.06ms      9567  61.258us  2.9360us  135.33ms  cudaMemcpyAsync\n",
            "                    0.97%  404.56ms     37239  10.863us  3.6790us  11.039ms  cudaLaunchKernel\n",
            "                    0.65%  270.86ms         1  270.86ms  270.86ms  270.86ms  cudaDeviceSetCacheConfig\n",
            "                    0.63%  265.51ms         2  132.75ms  4.3390us  265.50ms  cudaStreamCreate\n",
            "                    0.60%  250.07ms     10430  23.976us     262ns  2.6584ms  cudaMalloc\n",
            "                    0.29%  122.26ms    394189     310ns     129ns  7.3846ms  cudaGetLastError\n",
            "                    0.12%  51.330ms     74453     689ns     271ns  7.9013ms  cudaGetDevice\n",
            "                    0.09%  38.696ms         1  38.696ms  38.696ms  38.696ms  cuDevicePrimaryCtxRelease\n",
            "                    0.09%  36.261ms     19067  1.9010us     509ns  7.0171ms  cudaOccupancyMaxActiveBlocksPerMultiprocessorWithFlags\n",
            "                    0.07%  31.048ms       406  76.472us  3.9990us  810.14us  cuModuleUnload\n",
            "                    0.06%  24.219ms     37230     650ns     302ns  485.88us  cudaDeviceGetAttribute\n",
            "                    0.05%  20.705ms     74448     278ns     130ns  529.96us  cudaPeekAtLastError\n",
            "                    0.01%  3.9634ms         2  1.9817ms  5.2180us  3.9582ms  cudaStreamDestroy\n",
            "                    0.00%  264.47us        30  8.8150us  4.5300us  31.059us  cudaMemsetAsync\n",
            "                    0.00%  111.72us       101  1.1060us     132ns  47.248us  cuDeviceGetAttribute\n",
            "                    0.00%  99.273us         1  99.273us  99.273us  99.273us  cudaGetDeviceProperties\n",
            "                    0.00%  25.824us         1  25.824us  25.824us  25.824us  cuDeviceGetName\n",
            "                    0.00%  11.591us         1  11.591us  11.591us  11.591us  cudaFuncGetAttributes\n",
            "                    0.00%  5.9200us         1  5.9200us  5.9200us  5.9200us  cuDeviceGetPCIBusId\n",
            "                    0.00%  2.2920us         2  1.1460us     582ns  1.7100us  cudaGetDeviceCount\n",
            "                    0.00%  1.6620us         3     554ns     239ns  1.1010us  cuDeviceGetCount\n",
            "                    0.00%     919ns         2     459ns     289ns     630ns  cuDeviceGet\n",
            "                    0.00%     496ns         1     496ns     496ns     496ns  cuDeviceTotalMem\n",
            "                    0.00%     411ns         1     411ns     411ns     411ns  cuModuleGetLoadingMode\n",
            "                    0.00%     233ns         1     233ns     233ns     233ns  cuDeviceGetUuid\n",
            "\n",
            "real\t1m24.968s\n",
            "user\t1m21.826s\n",
            "sys\t0m4.122s\n"
          ]
        }
      ],
      "source": [
        "!case=M-RapidCFD;\\\n",
        "source /root/RapidCFD/RapidCFD-dev/etc/bashrc;time nvprof icoFoam 2>&1 | tee log.icoFoam.$case.nvprof"
      ]
    },
    {
      "cell_type": "markdown",
      "metadata": {
        "id": "qrbOPfGXEeeD"
      },
      "source": [
        "このケースでも、主要なホットスポットは、`Foam::AINVPreconditionerFunctor`と、`Foam::matrixMultiplyFunctor`であり、計算時間は共に30%強になっています**(割当てられたGPUによって異なります)**。"
      ]
    },
    {
      "cell_type": "markdown",
      "metadata": {
        "id": "DId3Eiv5hEZa"
      },
      "source": [
        "### PETScライブラリを用いたGPU併用でのicoFoamソルバの実行(ケースM-petsc-1)\n",
        "\n"
      ]
    },
    {
      "cell_type": "markdown",
      "metadata": {
        "id": "B1RFgraehEZb"
      },
      "source": [
        "#### ケースファイル修正\n",
        "ケースS同様に修正しますが、ケースMでは圧力の線形ソルバが3000回の反復でも収束しないので、最大反復数を10000に変更します。"
      ]
    },
    {
      "cell_type": "code",
      "execution_count": null,
      "metadata": {
        "colab": {
          "base_uri": "https://localhost:8080/"
        },
        "id": "BRBMc4PjhEZb",
        "outputId": "0f1f1184-522e-4a21-a3b1-cf6567fc2041"
      },
      "outputs": [
        {
          "output_type": "stream",
          "name": "stdout",
          "text": [
            "/*--------------------------------*- C++ -*----------------------------------*\\\n",
            "| =========                 |                                                 |\n",
            "| \\\\      /  F ield         | OpenFOAM: The Open Source CFD Toolbox           |\n",
            "|  \\\\    /   O peration     | Version:  v2006                                 |\n",
            "|   \\\\  /    A nd           | Website:  www.openfoam.com                      |\n",
            "|    \\\\/     M anipulation  |                                                 |\n",
            "\\*---------------------------------------------------------------------------*/\n",
            "FoamFile\n",
            "{\n",
            "    version     2.0;\n",
            "    format      ascii;\n",
            "    class       dictionary;\n",
            "    location    \"system\";\n",
            "    object      fvSolution;\n",
            "}\n",
            "// * * * * * * * * * * * * * * * * * * * * * * * * * * * * * * * * * * * * * //\n",
            "\n",
            "solvers\n",
            "{\n",
            "    p\n",
            "    {\n",
            "        solver          petsc;\n",
            "        preconditioner  petsc;\n",
            "\n",
            "        petsc\n",
            "        {\n",
            "            options\n",
            "            {\n",
            "                ksp_type cg;\n",
            "                pc_type bjacobi;\n",
            "                sub_pc_type icc;\n",
            "                ksp_cg_single_reduction true;\n",
            "                mat_type aijcusparse;\n",
            "                sub_pc_factor_shift_type none;\n",
            "            }\n",
            "\n",
            "            caching\n",
            "            {\n",
            "                matrix\n",
            "                {\n",
            "                    update always;\n",
            "                }\n",
            "\n",
            "                preconditioner\n",
            "                {\n",
            "                    update always;\n",
            "                }\n",
            "            }\n",
            "        }\n",
            "\n",
            "        tolerance       1.e-04;\n",
            "        relTol          0;\n",
            "        maxIter         10000;\n",
            "    }\n",
            "\n",
            "    pFinal\n",
            "    {\n",
            "        $p;\n",
            "        relTol          0;\n",
            "    }\n",
            "\n",
            "    U\n",
            "    {\n",
            "        solver          PBiCG;\n",
            "        preconditioner  DILU;\n",
            "        tolerance       0;\n",
            "        relTol          0;\n",
            "        maxIter         5;\n",
            "    }\n",
            "}\n",
            "\n",
            "PISO\n",
            "{\n",
            "    nCorrectors     2;\n",
            "    nNonOrthogonalCorrectors 0;\n",
            "    pRefCell        0;\n",
            "    pRefValue       0;\n",
            "}\n",
            "\n",
            "\n",
            "// ************************************************************************* //\n"
          ]
        }
      ],
      "source": [
        "!case=M-petsc-1;\\\n",
        "sed -e s/'\\(mat_type \\)mpiaijmkl'/'\\1aijcusparse'/ -e s/PBiCGStab/PBiCG/ -e s/'\\(maxIter *\\)3000;'/'\\110000;'/ ../XL/system/fvSolution.PETSc-ICC-CG.fixedNORM | tee system/fvSolution.$case"
      ]
    },
    {
      "cell_type": "markdown",
      "metadata": {
        "id": "fTHdXQ9bhEZc"
      },
      "source": [
        "#### PETScライブラリを用いたicoFoamソルバの実行\n"
      ]
    },
    {
      "cell_type": "code",
      "execution_count": null,
      "metadata": {
        "colab": {
          "base_uri": "https://localhost:8080/"
        },
        "id": "GA6L_XWkhEZc",
        "outputId": "c20187b5-0a1f-4690-85ed-de3f1e54b65f"
      },
      "outputs": [
        {
          "output_type": "stream",
          "name": "stdout",
          "text": [
            "/*---------------------------------------------------------------------------*\\\n",
            "| =========                 |                                                 |\n",
            "| \\\\      /  F ield         | OpenFOAM: The Open Source CFD Toolbox           |\n",
            "|  \\\\    /   O peration     | Version:  2306                                  |\n",
            "|   \\\\  /    A nd           | Website:  www.openfoam.com                      |\n",
            "|    \\\\/     M anipulation  |                                                 |\n",
            "\\*---------------------------------------------------------------------------*/\n",
            "Build  : _fbf00d6b-20230626 OPENFOAM=2306 version=2306\n",
            "Arch   : \"LSB;label=32;scalar=64\"\n",
            "Exec   : icoFoam -lib petscFoam\n",
            "Date   : Sep 08 2023\n",
            "Time   : 02:23:09\n",
            "Host   : fbba81102346\n",
            "PID    : 8543\n",
            "I/O    : uncollated\n",
            "Case   : /content/drive/MyDrive/hpc-training-gpu-2023/hpc/Lid_driven_cavity-3d/M\n",
            "nProcs : 1\n",
            "trapFpe: Floating point exception trapping enabled (FOAM_SIGFPE).\n",
            "fileModificationChecking : Monitoring run-time modified files using timeStampMaster (fileModificationSkew 5, maxFileModificationPolls 20)\n",
            "allowSystemOperations : Allowing user-supplied system call operations\n",
            "\n",
            "// * * * * * * * * * * * * * * * * * * * * * * * * * * * * * * * * * * * * * //\n",
            "Create time\n",
            "\n",
            "Create mesh for time = 0\n",
            "\n",
            "\n",
            "PISO: Operating solver in PISO mode\n",
            "\n",
            "Reading transportProperties\n",
            "\n",
            "Reading field p\n",
            "\n",
            "Reading field U\n",
            "\n",
            "Reading/calculating face flux field phi\n",
            "\n",
            "\n",
            "Starting time loop\n",
            "\n",
            "Time = 0.00025\n",
            "\n",
            "Courant Number mean: 0 max: 0\n",
            "DILUPBiCG:  Solving for Ux, Initial residual = 1, Final residual = 0.0417567, No Iterations 5\n",
            "DILUPBiCG:  Solving for Uy:  solution singularity\n",
            "DILUPBiCG:  Solving for Uz:  solution singularity\n",
            "ExecutionTime = 61.01 s  ClockTime = 62 s\n",
            "\n",
            "Initializing PETSc... success\n",
            "ExecutionTime = 61.13 s  ClockTime = 63 s\n",
            "\n",
            "PETSc-cg:  Solving for p, Initial residual = 1, Final residual = 9.99999e-05, No Iterations 4360\n",
            "time step continuity errors : sum local = 6.94862e-09, global = 4.68997e-21, cumulative = 4.68997e-21\n",
            "PETSc-cg:  Solving for p, Initial residual = 0.775614, Final residual = 9.97576e-05, No Iterations 4309\n",
            "time step continuity errors : sum local = 8.82312e-09, global = -9.30864e-22, cumulative = 3.7591e-21\n",
            "ExecutionTime = 406.23 s  ClockTime = 410 s\n",
            "\n",
            "Time = 0.0005\n",
            "\n",
            "Courant Number mean: 0.0157252 max: 0.412436\n",
            "DILUPBiCG:  Solving for Ux, Initial residual = 0.129029, Final residual = 0.013378, No Iterations 5\n",
            "DILUPBiCG:  Solving for Uy, Initial residual = 0.429105, Final residual = 0.0377918, No Iterations 5\n",
            "DILUPBiCG:  Solving for Uz, Initial residual = 0.994945, Final residual = 0.0807551, No Iterations 5\n",
            "PETSc-cg:  Solving for p, Initial residual = 0.823512, Final residual = 9.97429e-05, No Iterations 4283\n",
            "time step continuity errors : sum local = 1.45488e-08, global = 6.95632e-22, cumulative = 4.45473e-21\n",
            "PETSc-cg:  Solving for p, Initial residual = 0.769613, Final residual = 9.9084e-05, No Iterations 4251\n",
            "time step continuity errors : sum local = 1.46795e-08, global = -8.87983e-23, cumulative = 4.36594e-21\n",
            "ExecutionTime = 761.2 s  ClockTime = 768 s\n",
            "\n",
            "End\n",
            "\n",
            "Finalizing PETSc\n"
          ]
        }
      ],
      "source": [
        "!case=M-petsc-1;\\\n",
        "cp system/fvSolution.$case system/fvSolution;\\\n",
        "source /usr/lib/openfoam/openfoam2306/etc/bashrc;\\\n",
        "eval $(foamEtcFile -sh -config petsc -- -force);\\\n",
        "PETSC_OPTIONS='-use_gpu_aware_mpi 0' icoFoam -lib petscFoam 2>&1 | tee log.icoFoam.$case"
      ]
    },
    {
      "cell_type": "markdown",
      "metadata": {
        "id": "t6zSZ2yyoMa_"
      },
      "source": [
        "#### 毎ステップの実行時間"
      ]
    },
    {
      "cell_type": "code",
      "execution_count": null,
      "metadata": {
        "colab": {
          "base_uri": "https://localhost:8080/"
        },
        "id": "jMgQ4kOSoMbA",
        "outputId": "11acf104-8059-4243-840a-1b6a2817db20"
      },
      "outputs": [
        {
          "output_type": "stream",
          "name": "stdout",
          "text": [
            "ExecutionTime = 61.01 s  ClockTime = 62 s\n",
            "ExecutionTime = 61.13 s  ClockTime = 63 s\n",
            "ExecutionTime = 406.23 s  ClockTime = 410 s\n",
            "ExecutionTime = 761.2 s  ClockTime = 768 s\n"
          ]
        }
      ],
      "source": [
        "!case=M-petsc-1;\\\n",
        "grep ExecutionTime log.icoFoam.$case"
      ]
    },
    {
      "cell_type": "markdown",
      "metadata": {
        "id": "Iqc913kDoMbA"
      },
      "source": [
        "#### 1ステップの実行時間\n"
      ]
    },
    {
      "cell_type": "code",
      "execution_count": null,
      "metadata": {
        "colab": {
          "base_uri": "https://localhost:8080/"
        },
        "id": "NIZ5rbM5oMbA",
        "outputId": "d2eb4e98-a939-4ec3-9935-87f0cf7b1958"
      },
      "outputs": [
        {
          "output_type": "stream",
          "name": "stdout",
          "text": [
            "Execution time for one timestep:  354.97\n"
          ]
        }
      ],
      "source": [
        "!case=M-petsc-1;\\\n",
        "awk 'BEGIN {n=0} /ExecutionTime/ {t[n]=$3;n++} END {print \"Execution time for one timestep: \",t[3]-t[2]}' log.icoFoam.$case"
      ]
    },
    {
      "cell_type": "markdown",
      "metadata": {
        "id": "gGBr11P8oMbA"
      },
      "source": [
        "#### 圧力方程式に対するCG法線形ソルバをPETScライブラリを用いてGPUで実行した場合の加速率\n"
      ]
    },
    {
      "cell_type": "code",
      "execution_count": null,
      "metadata": {
        "colab": {
          "base_uri": "https://localhost:8080/"
        },
        "id": "WqmCiEcOoMbA",
        "outputId": "49a207a7-32c8-4c5f-976e-0f70613aa9a6"
      },
      "outputs": [
        {
          "output_type": "stream",
          "name": "stdout",
          "text": [
            "Speedup of PETSc CG solver with GPU compared to OpenFOAM CG solver with CPU only:  0.979294\n"
          ]
        }
      ],
      "source": [
        "!case=M-petsc-1;\\\n",
        "awk 'BEGIN {n=0} /ExecutionTime/ {t[n]=$3;n++} END {print \"Speedup of PETSc CG solver with GPU compared to OpenFOAM CG solver with CPU only: \",(t[1]-t[0])/(t[5]-t[4])}' log.icoFoam.cpu log.icoFoam.$case"
      ]
    },
    {
      "cell_type": "markdown",
      "metadata": {
        "id": "b8bI0RuXpOKS"
      },
      "source": [
        "圧力方程式のCG法線形ソルバをCPUで実行する場合と変わらない結果となっていますが、ケースSと同様に圧力線形ソルバの反復回数が増大していることも、原因と一つとして考えられます。"
      ]
    },
    {
      "cell_type": "code",
      "execution_count": null,
      "metadata": {
        "colab": {
          "base_uri": "https://localhost:8080/"
        },
        "id": "Cyad_jTUpsDm",
        "outputId": "9ae6d3a6-ad21-4758-9a26-77b6e5826efa"
      },
      "outputs": [
        {
          "output_type": "stream",
          "name": "stdout",
          "text": [
            "/*---------------------------------------------------------------------------*\\\n",
            "| =========                 |                                                 |\n",
            "| \\\\      /  F ield         | OpenFOAM: The Open Source CFD Toolbox           |\n",
            "|  \\\\    /   O peration     | Version:  2306                                  |\n",
            "|   \\\\  /    A nd           | Website:  www.openfoam.com                      |\n",
            "|    \\\\/     M anipulation  |                                                 |\n",
            "\\*---------------------------------------------------------------------------*/\n",
            "Build  : _fbf00d6b-20230626 OPENFOAM=2306 version=2306\n",
            "Arch   : \"LSB;label=32;scalar=64\"\n",
            "Exec   : icoFoam\n",
            "Date   : Sep 05 2023\n",
            "Time   : 05:29:04\n",
            "Host   : 83a45ee40a87\n",
            "PID    : 10684\n",
            "I/O    : uncollated\n",
            "Case   : /content/drive/MyDrive/hpc-training-gpu-2023/hpc/Lid_driven_cavity-3d/M\n",
            "nProcs : 1\n",
            "trapFpe: Floating point exception trapping enabled (FOAM_SIGFPE).\n",
            "fileModificationChecking : Monitoring run-time modified files using timeStampMaster (fileModificationSkew 5, maxFileModificationPolls 20)\n",
            "allowSystemOperations : Allowing user-supplied system call operations\n",
            "\n",
            "// * * * * * * * * * * * * * * * * * * * * * * * * * * * * * * * * * * * * * //\n",
            "Create time\n",
            "\n",
            "Create mesh for time = 0\n",
            "\n",
            "\n",
            "PISO: Operating solver in PISO mode\n",
            "\n",
            "Reading transportProperties\n",
            "\n",
            "Reading field p\n",
            "\n",
            "Reading field U\n",
            "\n",
            "Reading/calculating face flux field phi\n",
            "\n",
            "\n",
            "Starting time loop\n",
            "\n",
            "Time = 0.00025\n",
            "\n",
            "Courant Number mean: 0 max: 0\n",
            "DILUPBiCG:  Solving for Ux, Initial residual = 1, Final residual = 0.0417567, No Iterations 5\n",
            "DILUPBiCG:  Solving for Uy:  solution singularity\n",
            "DILUPBiCG:  Solving for Uz:  solution singularity\n",
            "DICPCG:  Solving for p, Initial residual = 1, Final residual = 9.47687e-05, No Iterations 515\n",
            "time step continuity errors : sum local = 6.58509e-09, global = 4.95551e-21, cumulative = 4.95551e-21\n",
            "DICPCG:  Solving for p, Initial residual = 0.775619, Final residual = 9.2998e-05, No Iterations 512\n",
            "time step continuity errors : sum local = 8.22528e-09, global = -6.43716e-22, cumulative = 4.3118e-21\n",
            "ExecutionTime = 421.06 s  ClockTime = 436 s\n",
            "\n",
            "Time = 0.0005\n",
            "\n",
            "Courant Number mean: 0.0157252 max: 0.412436\n",
            "DILUPBiCG:  Solving for Ux, Initial residual = 0.12903, Final residual = 0.013378, No Iterations 5\n",
            "DILUPBiCG:  Solving for Uy, Initial residual = 0.429105, Final residual = 0.0377917, No Iterations 5\n",
            "DILUPBiCG:  Solving for Uz, Initial residual = 0.994951, Final residual = 0.080759, No Iterations 5\n",
            "DICPCG:  Solving for p, Initial residual = 0.823511, Final residual = 9.76608e-05, No Iterations 504\n",
            "time step continuity errors : sum local = 1.42449e-08, global = -2.67261e-22, cumulative = 4.04453e-21\n",
            "DICPCG:  Solving for p, Initial residual = 0.769605, Final residual = 9.24673e-05, No Iterations 503\n",
            "time step continuity errors : sum local = 1.36992e-08, global = 4.26108e-23, cumulative = 4.08714e-21\n",
            "ExecutionTime = 768.68 s  ClockTime = 788 s\n",
            "\n",
            "End\n",
            "\n"
          ]
        }
      ],
      "source": [
        "!cat log.icoFoam.cpu"
      ]
    },
    {
      "cell_type": "markdown",
      "metadata": {
        "id": "kKXqjDX7qLw-"
      },
      "source": [
        "実際、上記の全CPU実行でのicoFoamソルバのログからわかるとおり、CPU実行では圧力線形ソルバの反復回数は約510回でしたが、GPU実行では4300回と約8倍以上増加しています。"
      ]
    },
    {
      "cell_type": "markdown",
      "metadata": {
        "id": "wlUeHUEnWQ2T"
      },
      "source": [
        "## カスタマイズ演習\n",
        "本演習のカスタマイズ演習では計算時間の関係でケースSのみ扱います。"
      ]
    },
    {
      "cell_type": "markdown",
      "metadata": {
        "id": "1MeBtYEB1Eo8"
      },
      "source": [
        "### PETScライブラリを用いたGPU併用計算の加速率\n",
        "PETScライブラリを用いてGPU併用のicoFoamソルバ実行を行なったケースS-petsc-1の加速率は、CPUのみを使用したケースS-cpuに比べて約1.2と、RapidCFDの約16に比べ低くなっています。\n",
        "\n",
        "さらに、ケースMでは、PETScライブラリのGPU併用とCPU実行とで実行時間がほぼ変わらず、RapidCFDの加速率約18と対照的です。"
      ]
    },
    {
      "cell_type": "markdown",
      "metadata": {
        "id": "JkhXsCGe1F1K"
      },
      "source": [
        "### 線形ソルバの前処理\n",
        "ただし、CPUの解析では、圧力や速度に関する線形ソルバの前処理に、それぞれDIC(Diagonal-based Incomplete Cholesky)法やDILU(Diagonal-based Incomplete Lower-Upper)法を使っているのに対し、 RapidCFDではどちらもAINV(Approximate INVerse)法を使用するなど、GPUに合わせて計算条件の変更を行なっています。\n",
        "\n",
        "一方、PETScを用いたケースS-petsc-1では、線形ソルバの設定は以下となっています。\n",
        "なお、M-petsc-1も圧力に関する最大反復数が10000になっている以外は同じです。"
      ]
    },
    {
      "cell_type": "code",
      "execution_count": null,
      "metadata": {
        "colab": {
          "base_uri": "https://localhost:8080/"
        },
        "id": "i-bEttFQW3Vw",
        "outputId": "662b1a67-d62b-4ebe-aa4a-20c57e396a2e"
      },
      "outputs": [
        {
          "output_type": "stream",
          "name": "stdout",
          "text": [
            "/*--------------------------------*- C++ -*----------------------------------*\\\n",
            "| =========                 |                                                 |\n",
            "| \\\\      /  F ield         | OpenFOAM: The Open Source CFD Toolbox           |\n",
            "|  \\\\    /   O peration     | Version:  v2006                                 |\n",
            "|   \\\\  /    A nd           | Website:  www.openfoam.com                      |\n",
            "|    \\\\/     M anipulation  |                                                 |\n",
            "\\*---------------------------------------------------------------------------*/\n",
            "FoamFile\n",
            "{\n",
            "    version     2.0;\n",
            "    format      ascii;\n",
            "    class       dictionary;\n",
            "    location    \"system\";\n",
            "    object      fvSolution;\n",
            "}\n",
            "// * * * * * * * * * * * * * * * * * * * * * * * * * * * * * * * * * * * * * //\n",
            "\n",
            "solvers\n",
            "{\n",
            "    p\n",
            "    {\n",
            "        solver          petsc;\n",
            "        preconditioner  petsc;\n",
            "\n",
            "        petsc\n",
            "        {\n",
            "            options\n",
            "            {\n",
            "                ksp_type cg;\n",
            "                pc_type bjacobi;\n",
            "                sub_pc_type icc;\n",
            "                ksp_cg_single_reduction true;\n",
            "                mat_type aijcusparse;\n",
            "                sub_pc_factor_shift_type none;\n",
            "            }\n",
            "\n",
            "            caching\n",
            "            {\n",
            "                matrix\n",
            "                {\n",
            "                    update always;\n",
            "                }\n",
            "\n",
            "                preconditioner\n",
            "                {\n",
            "                    update always;\n",
            "                }\n",
            "            }\n",
            "        }\n",
            "\n",
            "        tolerance       1.e-04;\n",
            "        relTol          0;\n",
            "        maxIter         3000;\n",
            "    }\n",
            "\n",
            "    pFinal\n",
            "    {\n",
            "        $p;\n",
            "        relTol          0;\n",
            "    }\n",
            "\n",
            "    U\n",
            "    {\n",
            "        solver          PBiCG;\n",
            "        preconditioner  DILU;\n",
            "        tolerance       0;\n",
            "        relTol          0;\n",
            "        maxIter         5;\n",
            "    }\n",
            "}\n",
            "\n",
            "PISO\n",
            "{\n",
            "    nCorrectors     2;\n",
            "    nNonOrthogonalCorrectors 0;\n",
            "    pRefCell        0;\n",
            "    pRefValue       0;\n",
            "}\n",
            "\n",
            "\n",
            "// ************************************************************************* //\n"
          ]
        }
      ],
      "source": [
        "!cat /content/drive/MyDrive/hpc-training-gpu-2023/hpc/Lid_driven_cavity-3d/S/system/fvSolution.S-petsc-1"
      ]
    },
    {
      "cell_type": "markdown",
      "metadata": {
        "id": "j8zLExLzXOtj"
      },
      "source": [
        "ここで、`petsc/options`辞書がPETScの線形ソルバの設定ですが、圧力に関する線形ソルバ`ksp_type`(Krylov Subspace method and a Preconditioner TYPE)は、元々の設定同様にcg(CG)です。\n",
        "\n",
        "* KSP: Linear System Solvers https://petsc.org/release/manual/ksp/\n",
        "\n",
        "しかし、前処理(`pc_type`)(PreConditioner TYPE)はbjacobi(Block-Jacobi)であり、\n",
        "副前処理(`sub_pc_type`)が`icc`(InComplete Cholesky)になっています。\n",
        "\n",
        "* Preconditioners https://petsc.org/release/manual/ksp/#sec-pc\n",
        "* PCBJACOBI https://petsc.org/release/manualpages/PC/PCBJACOBI/\n",
        "* PCICC Incomplete Cholesky factorization preconditioners. https://petsc.org/release/manualpages/PC/PCICC/\n",
        "* 前処理手法について http://nkl.cc.u-tokyo.ac.jp/15n/SolverPrecond.pdf\n",
        "\n",
        "RapidCFDでは、前処理はIncomplete Cholesky系のDICではないのですが、GPU向けに実装が容易(並列実行が容易)、かつ、中強度の前処理(反復回数が中程度に減少する)であるAINVを用いており、実際にケースSでは、圧力線形ソルバの反復回数の増加は、強い前処理のDICに比べても1.5倍に抑えられていました。\n",
        "\n",
        "従って、PETScでも、前処理を本問題により適するものに変更することで、より高速化される可能性があります。\n",
        "\n",
        "さらに、PETScでは、`petsc/caching`において、係数行列や前処理行列の更新に関する設定が可能ですので、これらの設定を変更することで、より高速化する可能性があります。\n",
        "\n",
        "また、速度の線形ソルバは`PBiCG`なので、これは従来通りCPUで動作していますが、これもPETScを用いてGPUで動作されることが可能です。\n",
        "\n",
        "\n"
      ]
    },
    {
      "cell_type": "markdown",
      "metadata": {
        "id": "3AUT9QTmOWCK"
      },
      "source": [
        "### ケースディレクトリへの移動"
      ]
    },
    {
      "cell_type": "code",
      "execution_count": null,
      "metadata": {
        "colab": {
          "base_uri": "https://localhost:8080/"
        },
        "outputId": "308a23a1-35af-4014-ffff-27efecbb5c07",
        "id": "lMSFDc6NOWCV"
      },
      "outputs": [
        {
          "output_type": "stream",
          "name": "stdout",
          "text": [
            "/content/drive/MyDrive/hpc-training-gpu-2023/hpc/Lid_driven_cavity-3d/S\n"
          ]
        }
      ],
      "source": [
        "%cd /content/drive/MyDrive/hpc-training-gpu-2023/hpc/Lid_driven_cavity-3d/S"
      ]
    },
    {
      "cell_type": "markdown",
      "metadata": {
        "id": "GvsABDvsV3mw"
      },
      "source": [
        "### PETScのヘルプ出力\n",
        "`PETSC_OPTIONS`に`-help`を付けてソルバを実行すると、PETScのヘルプが出力されますが、ここにはPETScの様々な設定と設定候補の一覧も出力されますので、参考になります。\n",
        "\n",
        "なお、PETScのヘルプを出力するのが目的であり、`icoFoam`を最後まで実行する必要がないので、`icoFoam`のオプションに`-dry-run`(Check case set-up only using a single time step)を付けています。"
      ]
    },
    {
      "cell_type": "code",
      "execution_count": null,
      "metadata": {
        "colab": {
          "base_uri": "https://localhost:8080/"
        },
        "id": "N07xQFudV3mx",
        "outputId": "ecafbacf-56b4-4147-fc11-6f9a3e66bb31"
      },
      "outputs": [
        {
          "output_type": "stream",
          "name": "stdout",
          "text": [
            "/*---------------------------------------------------------------------------*\\\n",
            "| =========                 |                                                 |\n",
            "| \\\\      /  F ield         | OpenFOAM: The Open Source CFD Toolbox           |\n",
            "|  \\\\    /   O peration     | Version:  2306                                  |\n",
            "|   \\\\  /    A nd           | Website:  www.openfoam.com                      |\n",
            "|    \\\\/     M anipulation  |                                                 |\n",
            "\\*---------------------------------------------------------------------------*/\n",
            "Build  : _fbf00d6b-20230626 OPENFOAM=2306 version=2306\n",
            "Arch   : \"LSB;label=32;scalar=64\"\n",
            "Exec   : icoFoam -lib petscFoam -dry-run\n",
            "Date   : Sep 08 2023\n",
            "Time   : 02:36:00\n",
            "Host   : fbba81102346\n",
            "PID    : 12058\n",
            "I/O    : uncollated\n",
            "Case   : /content/drive/MyDrive/hpc-training-gpu-2023/hpc/Lid_driven_cavity-3d/S\n",
            "nProcs : 1\n",
            "trapFpe: Floating point exception trapping enabled (FOAM_SIGFPE).\n",
            "fileModificationChecking : Monitoring run-time modified files using timeStampMaster (fileModificationSkew 5, maxFileModificationPolls 20)\n",
            "allowSystemOperations : Allowing user-supplied system call operations\n",
            "\n",
            "// * * * * * * * * * * * * * * * * * * * * * * * * * * * * * * * * * * * * * //\n",
            "Create time\n",
            "\n",
            "Operating in 'dry-run' mode: case will run for 1 time step.  All checks assumed OK on a clean exit\n",
            "Creating simplified mesh using \"/content/drive/MyDrive/hpc-training-gpu-2023/hpc/Lid_driven_cavity-3d/S/constant/polyMesh\"\n",
            "Mesh bounds: (0 0 0) (0.1 0.1 0.1)\n",
            "\n",
            "PISO: Operating solver in PISO mode\n",
            "\n",
            "Reading transportProperties\n",
            "\n",
            "Reading field p\n",
            "\n",
            "Reading field U\n",
            "\n",
            "Reading/calculating face flux field phi\n",
            "\n",
            "\n",
            "Starting time loop\n",
            "\n",
            "Time = 0.001\n",
            "\n",
            "Courant Number mean: 0 max: 0\n",
            "DILUPBiCG:  Solving for Uy:  solution singularity\n",
            "DILUPBiCG:  Solving for Uz:  solution singularity\n",
            "ExecutionTime = 1.54 s  ClockTime = 1 s\n",
            "\n",
            "Initializing PETSc... Petsc Release Version 3.19.2, Jun 01, 2023 \n",
            "       The PETSc Team\n",
            "    petsc-maint@mcs.anl.gov\n",
            " https://petsc.org/\n",
            "See https://petsc.org/release/changes for recent updates.\n",
            "See https://petsc.org/release/faq for problems.\n",
            "See https://petsc.org/release/manualpages for help. \n",
            "Libraries linked from /usr/lib/openfoam/openfoam2306/ThirdParty/platforms/linux64GccDPInt32/petsc-3.19.2/lib\n",
            "----------------------------------------\n",
            "Options for all PETSc programs:\n",
            " -version: prints PETSc version\n",
            " -help intro: prints example description and PETSc version, and exits\n",
            " -help: prints example description, PETSc version, and available options for used routines\n",
            " -on_error_abort: cause an abort when an error is detected. Useful \n",
            "        only when run in the debugger\n",
            " -on_error_attach_debugger [gdb,dbx,xxgdb,ups,noxterm]\n",
            "       start the debugger in new xterm\n",
            "       unless noxterm is given\n",
            " -start_in_debugger [gdb,dbx,xxgdb,ups,noxterm]\n",
            "       start all processes in the debugger\n",
            " -on_error_emacs <machinename>\n",
            "    emacs jumps to error file\n",
            " -debugger_ranks [n1,n2,..] Ranks to start in debugger\n",
            " -debugger_pause [m] : delay (in seconds) to attach debugger\n",
            " -stop_for_debugger : prints message on how to attach debugger manually\n",
            "                      waits the delay for you to attach\n",
            " -display display: Location where X window graphics and debuggers are displayed\n",
            " -no_signal_handler: do not trap error signals\n",
            " -mpi_return_on_error: MPI returns error code, rather than abort on internal error\n",
            " -fp_trap: stop on floating point exceptions\n",
            "           note on IBM RS6000 this slows run greatly\n",
            " -malloc_dump <optional filename>: dump list of unfreed memory at conclusion\n",
            " -malloc: use PETSc error checking malloc (deprecated, use -malloc_debug)\n",
            " -malloc no: don't use PETSc error checking malloc (deprecated, use -malloc_debug no)\n",
            " -malloc_info: prints total memory usage\n",
            " -malloc_view <optional filename>: keeps log of all memory allocations, displays in PetscFinalize()\n",
            " -malloc_debug <true or false>: enables or disables extended checking for memory corruption\n",
            " -options_view: dump list of options inputted\n",
            " -options_left: dump list of unused options\n",
            " -options_left no: don't dump list of unused options\n",
            " -tmp tmpdir: alternative /tmp directory\n",
            " -shared_tmp: tmp directory is shared by all processors\n",
            " -not_shared_tmp: each processor has separate tmp directory\n",
            " -memory_view: print memory usage at end of run\n",
            " -get_total_flops: total flops over all processors\n",
            " -log_view [:filename:[format]]: logging objects and events\n",
            " -log_trace [filename]: prints trace of all PETSc calls\n",
            " -log_exclude <list,of,classnames>: exclude given classes from logging\n",
            " -log_view_gpu_time: log the GPU time for each and event\n",
            " -info [filename][:[~]<list,of,classnames>[:[~]self]]: print verbose information\n",
            " -options_file <file>: reads options from file\n",
            " -options_monitor: monitor options to standard output, including that set previously e.g. in option files\n",
            " -options_monitor_cancel: cancels all hardwired option monitors\n",
            " -petsc_sleep n: sleeps n seconds before running program\n",
            "----------------------------------------\n",
            "PetscDevice Options:\n",
            "  -device_enable <now lazy : formerly lazy> How (or whether) to initialize PetscDevices (choose one of) none lazy eager (PetscDeviceInitialize())\n",
            "  -default_device_type <now cuda : formerly cuda> Set the PetscDeviceType returned by PETSC_DEVICE_DEFAULT() (choose one of) host cuda hip sycl (PetscDeviceSetDefaultDeviceType())\n",
            "  -device_select <now -1 : formerly -1>: Which device to use. Pass (-1) to have PETSc decide or (given they exist) [0-128) for a specific device (PetscDeviceCreate())\n",
            "  -device_view: <FALSE : FALSE> Display device information and assignments (forces eager initialization) (PetscDeviceView())\n",
            "----------------------------------------\n",
            "PetscDevice host Options:\n",
            "  -device_view_host: <FALSE : FALSE> Display device information and assignments (forces eager initialization) (PetscDeviceView())\n",
            "----------------------------------------\n",
            "PetscDevice cuda Options:\n",
            "  -device_enable_cuda <now lazy : formerly lazy> How (or whether) to initialize a device (choose one of) none lazy eager (PetscDeviceInitialize())\n",
            "  -device_select_cuda <now -1 : formerly -1>: Which device to use. Pass (-1) to have PETSc decide or (given they exist) [0-128) for a specific device (PetscDeviceCreate())\n",
            "  -device_view_cuda: <FALSE : FALSE> Display device information and assignments (forces eager initialization) (PetscDeviceView())\n",
            "----------------------------------------\n",
            "Root PetscDeviceContext Options:\n",
            "  -root_device_context_device_type <now cuda : formerly cuda> Underlying PetscDevice (choose one of) host cuda hip sycl (PetscDeviceContextSetDevice)\n",
            "  -root_device_context_stream_type <now global_blocking : formerly global_blocking> PetscDeviceContext PetscStreamType (choose one of) global_blocking default_blocking global_nonblocking (PetscDeviceContextSetStreamType)\n",
            "success\n",
            "ExecutionTime = 1.6 s  ClockTime = 2 s\n",
            "\n",
            "----------------------------------------\n",
            "Matrix (Mat) options:\n",
            "  -eqn_p_mat_block_size <now -1 : formerly -1>: Set the blocksize used to store the matrix (MatSetBlockSize)\n",
            "  -eqn_p_mat_type <now aijcusparse : formerly aij>: Matrix type (one of) mpiaijcrl mpiadj seqaij mpibaij composite preallocator mpiaijperm seqdensecuda seqmaij seqsbaij seqkaij mffd seqaijsell nest constantdiagonal mpimaij mpiaij mpikaij seqaijcusparse seqdense mpidensecuda dummy is mpisbaij mpiaijsell mpiaijcusparse shell seqsell seqaijperm blockmat maij kaij mpisell mpidense seqaijcrl scatter seqbaij (MatSetType)\n",
            "----------------------------------------\n",
            "Options for SEQAIJ matrix:\n",
            "  -eqn_p_mat_no_unroll: <FALSE : FALSE> Do not optimize for inodes (slower) (None)\n",
            "  -eqn_p_mat_no_inode: <FALSE : FALSE> Do not optimize for inodes -slower- (None)\n",
            "  -eqn_p_mat_inode_limit <now 5 : formerly 5>: Do not use inodes larger then this value (None)\n",
            "  -eqn_p_mat_is_symmetric: Checks if mat is symmetric on MatAssemblyEnd() (MatIsSymmetric)\n",
            "  -eqn_p_mat_is_symmetric <0. : 0.>: Checks if mat is symmetric on MatAssemblyEnd() (MatIsSymmetric)\n",
            "  -eqn_p_mat_null_space_test: <FALSE : FALSE> Checks if provided null space is correct in MatAssemblyEnd() (MatSetNullSpaceTest)\n",
            "  -eqn_p_mat_error_if_failure: <FALSE : FALSE> Generate an error if an error occurs when factoring the matrix (MatSetErrorIfFailure)\n",
            "  SeqAIJCUSPARSE options\n",
            "  -eqn_p_mat_cusparse_mult_storage_format <now CSR : formerly CSR> sets storage format of (seq)aijcusparse gpu matrices for SpMV (choose one of) CSR ELL HYB (MatCUSPARSESetFormat)\n",
            "  -eqn_p_mat_cusparse_storage_format <now CSR : formerly CSR> sets storage format of (seq)aijcusparse gpu matrices for SpMV and TriSolve (choose one of) CSR ELL HYB (MatCUSPARSESetFormat)\n",
            "  -eqn_p_mat_cusparse_use_cpu_solve: <FALSE : FALSE> Use CPU (I)LU solve (MatCUSPARSESetUseCPUSolve)\n",
            "  -eqn_p_mat_cusparse_spmv_alg <now CSRMV_ALG1 : formerly CSRMV_ALG1> sets cuSPARSE algorithm used in sparse-mat dense-vector multiplication (SpMV) (choose one of) MV_ALG_DEFAULT COOMV_ALG CSRMV_ALG1 CSRMV_ALG2 (cusparseSpMVAlg_t)\n",
            "  -eqn_p_mat_cusparse_spmm_alg <now CSR_ALG1 : formerly CSR_ALG1> sets cuSPARSE algorithm used in sparse-mat dense-mat multiplication (SpMM) (choose one of) ALG_DEFAULT COO_ALG1 COO_ALG2 COO_ALG3 CSR_ALG1 COO_ALG4 CSR_ALG2 (cusparseSpMMAlg_t)\n",
            "  -eqn_p_mat_cusparse_csr2csc_alg <now ALG1 : formerly ALG1> sets cuSPARSE algorithm used in converting CSR matrices to CSC matrices (choose one of) INVALID ALG1 ALG2 (cusparseCsr2CscAlg_t)\n",
            "  -eqn_p_mat_new_nonzero_location_err: <FALSE : FALSE> Generate an error if new nonzeros are created in the matrix structure (useful to test preallocation) (MatSetOption)\n",
            "  -eqn_p_mat_new_nonzero_allocation_err: <FALSE : FALSE> Generate an error if new nonzeros are allocated in the matrix structure (useful to test preallocation) (MatSetOption)\n",
            "  -eqn_p_mat_ignore_zero_entries: <FALSE : FALSE> For AIJ/IS matrices this will stop zero values from creating a zero location in the matrix (MatSetOption)\n",
            "  -eqn_p_mat_form_explicit_transpose: <FALSE : FALSE> Hint to form an explicit transpose for operations like MatMultTranspose (MatSetOption)\n",
            "  -eqn_p_mat_bind_below <now 0 : formerly 0>: Set the size threshold (in local rows) below which the Mat is bound to the CPU (MatBindToCPU)\n",
            "----------------------------------------\n",
            "Viewer (-eqn_p_mat_view) options:\n",
            "  -eqn_p_mat_view ascii[:[filename][:[format][:append]]]: Prints object to stdout or ASCII file (PetscOptionsGetViewer)\n",
            "  -eqn_p_mat_view binary[:[filename][:[format][:append]]]: Saves object to a binary file (PetscOptionsGetViewer)\n",
            "  -eqn_p_mat_view draw[:[drawtype][:filename|format]] Draws object (PetscOptionsGetViewer)\n",
            "  -eqn_p_mat_view socket[:port]: Pushes object to a Unix socket (PetscOptionsGetViewer)\n",
            "  -eqn_p_mat_view saws[:communicatorname]: Publishes object to SAWs (PetscOptionsGetViewer)\n",
            "----------------------------------------\n",
            "Preconditioner (PC) options:\n",
            "  -eqn_p_pc_type <now bjacobi : formerly icc>: Preconditioner (one of) nn tfs hmg bddc composite ksp lu icc patch bjacobi eisenstat deflation vpbjacobi redistribute sor mg pbjacobi cholesky mat qr svd fieldsplit mpi kaczmarz jacobi telescope redundant cp shell galerkin ilu exotic gasm gamg none lmvm asm lsc (PCSetType)\n",
            "  -eqn_p_pc_use_amat: <FALSE : FALSE> use Amat (instead of Pmat) to define preconditioner in nested inner solves (PCSetUseAmat)\n",
            "  Block Jacobi options\n",
            "  -eqn_p_pc_bjacobi_blocks <now -1 : formerly -1>: Total number of blocks (PCBJacobiSetTotalBlocks)\n",
            "  -eqn_p_pc_bjacobi_local_blocks <now -1 : formerly -1>: Local number of blocks (PCBJacobiSetLocalBlocks)\n",
            "----------------------------------------\n",
            "Krylov Method (KSP) options:\n",
            "  -eqn_p_ksp_type <now cg : formerly gmres>: Krylov method (one of) fetidp pipefgmres stcg tsirm tcqmr groppcg nash fcg symmlq lcd minres cgs preonly lgmres pipecgrr fbcgs pipeprcg pipecg ibcgs fgmres qcg gcr cgne pipefcg pipecr pipebcgs bcgsl pipecg2 pipelcg gltr cg tfqmr pgmres lsqr pipegcr bicg cgls bcgs cr dgmres none qmrcgs gmres richardson chebyshev fbcgsr (KSPSetType)\n",
            "  -eqn_p_ksp_monitor_cancel: <FALSE : FALSE> Remove any hardwired monitor routines (KSPMonitorCancel)\n",
            "----------------------------------------\n",
            "Viewer (-eqn_p_ksp_monitor) options:\n",
            "  -eqn_p_ksp_monitor ascii[:[filename][:[format][:append]]]: Prints object to stdout or ASCII file (PetscOptionsGetViewer)\n",
            "  -eqn_p_ksp_monitor binary[:[filename][:[format][:append]]]: Saves object to a binary file (PetscOptionsGetViewer)\n",
            "  -eqn_p_ksp_monitor draw[:[drawtype][:filename|format]] Draws object (PetscOptionsGetViewer)\n",
            "  -eqn_p_ksp_monitor socket[:port]: Pushes object to a Unix socket (PetscOptionsGetViewer)\n",
            "  -eqn_p_ksp_monitor saws[:communicatorname]: Publishes object to SAWs (PetscOptionsGetViewer)\n",
            "----------------------------------------\n",
            "Viewer (-eqn_p_ksp_monitor_short) options:\n",
            "  -eqn_p_ksp_monitor_short ascii[:[filename][:[format][:append]]]: Prints object to stdout or ASCII file (PetscOptionsGetViewer)\n",
            "  -eqn_p_ksp_monitor_short binary[:[filename][:[format][:append]]]: Saves object to a binary file (PetscOptionsGetViewer)\n",
            "  -eqn_p_ksp_monitor_short draw[:[drawtype][:filename|format]] Draws object (PetscOptionsGetViewer)\n",
            "  -eqn_p_ksp_monitor_short socket[:port]: Pushes object to a Unix socket (PetscOptionsGetViewer)\n",
            "  -eqn_p_ksp_monitor_short saws[:communicatorname]: Publishes object to SAWs (PetscOptionsGetViewer)\n",
            "----------------------------------------\n",
            "Viewer (-all_ksp_monitor) options:\n",
            "  -all_ksp_monitor ascii[:[filename][:[format][:append]]]: Prints object to stdout or ASCII file (PetscOptionsGetViewer)\n",
            "  -all_ksp_monitor binary[:[filename][:[format][:append]]]: Saves object to a binary file (PetscOptionsGetViewer)\n",
            "  -all_ksp_monitor draw[:[drawtype][:filename|format]] Draws object (PetscOptionsGetViewer)\n",
            "  -all_ksp_monitor socket[:port]: Pushes object to a Unix socket (PetscOptionsGetViewer)\n",
            "  -all_ksp_monitor saws[:communicatorname]: Publishes object to SAWs (PetscOptionsGetViewer)\n",
            "----------------------------------------\n",
            "Viewer (-eqn_p_ksp_monitor_range) options:\n",
            "  -eqn_p_ksp_monitor_range ascii[:[filename][:[format][:append]]]: Prints object to stdout or ASCII file (PetscOptionsGetViewer)\n",
            "  -eqn_p_ksp_monitor_range binary[:[filename][:[format][:append]]]: Saves object to a binary file (PetscOptionsGetViewer)\n",
            "  -eqn_p_ksp_monitor_range draw[:[drawtype][:filename|format]] Draws object (PetscOptionsGetViewer)\n",
            "  -eqn_p_ksp_monitor_range socket[:port]: Pushes object to a Unix socket (PetscOptionsGetViewer)\n",
            "  -eqn_p_ksp_monitor_range saws[:communicatorname]: Publishes object to SAWs (PetscOptionsGetViewer)\n",
            "----------------------------------------\n",
            "Viewer (-eqn_p_ksp_monitor_true_residual) options:\n",
            "  -eqn_p_ksp_monitor_true_residual ascii[:[filename][:[format][:append]]]: Prints object to stdout or ASCII file (PetscOptionsGetViewer)\n",
            "  -eqn_p_ksp_monitor_true_residual binary[:[filename][:[format][:append]]]: Saves object to a binary file (PetscOptionsGetViewer)\n",
            "  -eqn_p_ksp_monitor_true_residual draw[:[drawtype][:filename|format]] Draws object (PetscOptionsGetViewer)\n",
            "  -eqn_p_ksp_monitor_true_residual socket[:port]: Pushes object to a Unix socket (PetscOptionsGetViewer)\n",
            "  -eqn_p_ksp_monitor_true_residual saws[:communicatorname]: Publishes object to SAWs (PetscOptionsGetViewer)\n",
            "----------------------------------------\n",
            "Viewer (-eqn_p_ksp_monitor_max) options:\n",
            "  -eqn_p_ksp_monitor_max ascii[:[filename][:[format][:append]]]: Prints object to stdout or ASCII file (PetscOptionsGetViewer)\n",
            "  -eqn_p_ksp_monitor_max binary[:[filename][:[format][:append]]]: Saves object to a binary file (PetscOptionsGetViewer)\n",
            "  -eqn_p_ksp_monitor_max draw[:[drawtype][:filename|format]] Draws object (PetscOptionsGetViewer)\n",
            "  -eqn_p_ksp_monitor_max socket[:port]: Pushes object to a Unix socket (PetscOptionsGetViewer)\n",
            "  -eqn_p_ksp_monitor_max saws[:communicatorname]: Publishes object to SAWs (PetscOptionsGetViewer)\n",
            "----------------------------------------\n",
            "Viewer (-eqn_p_ksp_monitor_solution) options:\n",
            "  -eqn_p_ksp_monitor_solution ascii[:[filename][:[format][:append]]]: Prints object to stdout or ASCII file (PetscOptionsGetViewer)\n",
            "  -eqn_p_ksp_monitor_solution binary[:[filename][:[format][:append]]]: Saves object to a binary file (PetscOptionsGetViewer)\n",
            "  -eqn_p_ksp_monitor_solution draw[:[drawtype][:filename|format]] Draws object (PetscOptionsGetViewer)\n",
            "  -eqn_p_ksp_monitor_solution socket[:port]: Pushes object to a Unix socket (PetscOptionsGetViewer)\n",
            "  -eqn_p_ksp_monitor_solution saws[:communicatorname]: Publishes object to SAWs (PetscOptionsGetViewer)\n",
            "----------------------------------------\n",
            "Viewer (-eqn_p_ksp_monitor_singular_value) options:\n",
            "  -eqn_p_ksp_monitor_singular_value ascii[:[filename][:[format][:append]]]: Prints object to stdout or ASCII file (PetscOptionsGetViewer)\n",
            "  -eqn_p_ksp_monitor_singular_value binary[:[filename][:[format][:append]]]: Saves object to a binary file (PetscOptionsGetViewer)\n",
            "  -eqn_p_ksp_monitor_singular_value draw[:[drawtype][:filename|format]] Draws object (PetscOptionsGetViewer)\n",
            "  -eqn_p_ksp_monitor_singular_value socket[:port]: Pushes object to a Unix socket (PetscOptionsGetViewer)\n",
            "  -eqn_p_ksp_monitor_singular_value saws[:communicatorname]: Publishes object to SAWs (PetscOptionsGetViewer)\n",
            "----------------------------------------\n",
            "Viewer (-eqn_p_ksp_monitor_error) options:\n",
            "  -eqn_p_ksp_monitor_error ascii[:[filename][:[format][:append]]]: Prints object to stdout or ASCII file (PetscOptionsGetViewer)\n",
            "  -eqn_p_ksp_monitor_error binary[:[filename][:[format][:append]]]: Saves object to a binary file (PetscOptionsGetViewer)\n",
            "  -eqn_p_ksp_monitor_error draw[:[drawtype][:filename|format]] Draws object (PetscOptionsGetViewer)\n",
            "  -eqn_p_ksp_monitor_error socket[:port]: Pushes object to a Unix socket (PetscOptionsGetViewer)\n",
            "  -eqn_p_ksp_monitor_error saws[:communicatorname]: Publishes object to SAWs (PetscOptionsGetViewer)\n",
            "  -eqn_p_ksp_monitor_pause_final: <FALSE : FALSE> Pauses all draw monitors at the final iterate (KSPMonitorPauseFinal_Internal)\n",
            "  -eqn_p_ksp_initial_guess_nonzero: <TRUE : TRUE> Use the contents of the solution vector for initial guess (KSPSetInitialNonzero)\n",
            "  -eqn_p_ksp_max_it <now 3000 : formerly 3000>: Maximum number of iterations (KSPSetTolerances)\n",
            "  -eqn_p_ksp_rtol <0. : 0.>: Relative decrease in residual norm (KSPSetTolerances)\n",
            "  -eqn_p_ksp_atol <0.0001 : 0.0001>: Absolute value of residual norm (KSPSetTolerances)\n",
            "  -eqn_p_ksp_divtol <10000. : 10000.>: Residual norm increase cause divergence (KSPSetTolerances)\n",
            "  -eqn_p_ksp_converged_use_initial_residual_norm: <FALSE : FALSE> Use initial residual norm for computing relative convergence (KSPConvergedDefaultSetUIRNorm)\n",
            "  -eqn_p_ksp_converged_use_min_initial_residual_norm: <FALSE : FALSE> Use minimum of initial residual norm and b for computing relative convergence (KSPConvergedDefaultSetUMIRNorm)\n",
            "  -eqn_p_ksp_converged_maxits: <FALSE : FALSE> Declare convergence if the maximum number of iterations is reached (KSPConvergedDefaultSetConvergedMaxits)\n",
            "  -eqn_p_ksp_converged_neg_curve: <FALSE : FALSE> Declare convergence if negative curvature is detected (KSPConvergedNegativeCurvature)\n",
            "  -eqn_p_ksp_reuse_preconditioner: <FALSE : FALSE> Use initial preconditioner and don't ever compute a new one (KSPReusePreconditioner)\n",
            "  -eqn_p_ksp_knoll: <FALSE : FALSE> Use preconditioner applied to b for initial guess (KSPSetInitialGuessKnoll)\n",
            "  -eqn_p_ksp_error_if_not_converged: <FALSE : FALSE> Generate error if solver does not converge (KSPSetErrorIfNotConverged)\n",
            "  -eqn_p_ksp_guess_type <now (null) : formerly (null)>: Initial guess in Krylov method (one of) pod fischer ((null))\n",
            "  -eqn_p_ksp_fischer_guess <0>: Use Paul Fischer's algorithm or its variants for initial guess (KSPSetUseFischerGuess)\n",
            "  -eqn_p_ksp_convergence_test <now default : formerly default> Convergence test (choose one of) default skip lsqr (KSPSetConvergenceTest)\n",
            "  -eqn_p_ksp_norm_type <now PRECONDITIONED : formerly PRECONDITIONED> KSP Norm type (choose one of) NONE PRECONDITIONED UNPRECONDITIONED NATURAL (KSPSetNormType)\n",
            "  -eqn_p_ksp_check_norm_iteration <now -1 : formerly -1>: First iteration to compute residual norm (KSPSetCheckNormIteration)\n",
            "  -eqn_p_ksp_lag_norm: <FALSE : FALSE> Lag the calculation of the residual norm (KSPSetLagNorm)\n",
            "  -eqn_p_ksp_diagonal_scale: <FALSE : FALSE> Diagonal scale matrix before building preconditioner (KSPSetDiagonalScale)\n",
            "  -eqn_p_ksp_diagonal_scale_fix: <FALSE : FALSE> Fix diagonally scaled matrix after solve (KSPSetDiagonalScaleFix)\n",
            "  -eqn_p_ksp_constant_null_space: <FALSE : FALSE> Add constant null space to Krylov solver matrix (MatSetNullSpace)\n",
            "  -eqn_p_sub_ksp_dynamic_tolerance <now stdout : formerly stdout>: Use dynamic tolerance for inner PC (KSPMonitorDynamicTolerance)\n",
            "  -eqn_p_ksp_monitor_python <now (null) : formerly (null)>: Use Python function (KSPMonitorSet)\n",
            "  -eqn_p_ksp_monitor_lg_range: <FALSE : FALSE> Monitor graphically range of preconditioned residual norm (KSPMonitorSet)\n",
            "----------------------------------------\n",
            "Viewer (-eqn_p_ksp_view) options:\n",
            "  -eqn_p_ksp_view ascii[:[filename][:[format][:append]]]: Prints object to stdout or ASCII file (PetscOptionsGetViewer)\n",
            "  -eqn_p_ksp_view binary[:[filename][:[format][:append]]]: Saves object to a binary file (PetscOptionsGetViewer)\n",
            "  -eqn_p_ksp_view draw[:[drawtype][:filename|format]] Draws object (PetscOptionsGetViewer)\n",
            "  -eqn_p_ksp_view socket[:port]: Pushes object to a Unix socket (PetscOptionsGetViewer)\n",
            "  -eqn_p_ksp_view saws[:communicatorname]: Publishes object to SAWs (PetscOptionsGetViewer)\n",
            "----------------------------------------\n",
            "Viewer (-eqn_p_ksp_view_pre) options:\n",
            "  -eqn_p_ksp_view_pre ascii[:[filename][:[format][:append]]]: Prints object to stdout or ASCII file (PetscOptionsGetViewer)\n",
            "  -eqn_p_ksp_view_pre binary[:[filename][:[format][:append]]]: Saves object to a binary file (PetscOptionsGetViewer)\n",
            "  -eqn_p_ksp_view_pre draw[:[drawtype][:filename|format]] Draws object (PetscOptionsGetViewer)\n",
            "  -eqn_p_ksp_view_pre socket[:port]: Pushes object to a Unix socket (PetscOptionsGetViewer)\n",
            "  -eqn_p_ksp_view_pre saws[:communicatorname]: Publishes object to SAWs (PetscOptionsGetViewer)\n",
            "  -eqn_p_ksp_converged_reason_view_cancel: <FALSE : FALSE> Cancel all the converged reason view functions set using KSPConvergedReasonViewSet (KSPConvergedReasonViewCancel)\n",
            "----------------------------------------\n",
            "Viewer (-eqn_p_ksp_converged_rate) options:\n",
            "  -eqn_p_ksp_converged_rate ascii[:[filename][:[format][:append]]]: Prints object to stdout or ASCII file (PetscOptionsGetViewer)\n",
            "  -eqn_p_ksp_converged_rate binary[:[filename][:[format][:append]]]: Saves object to a binary file (PetscOptionsGetViewer)\n",
            "  -eqn_p_ksp_converged_rate draw[:[drawtype][:filename|format]] Draws object (PetscOptionsGetViewer)\n",
            "  -eqn_p_ksp_converged_rate socket[:port]: Pushes object to a Unix socket (PetscOptionsGetViewer)\n",
            "  -eqn_p_ksp_converged_rate saws[:communicatorname]: Publishes object to SAWs (PetscOptionsGetViewer)\n",
            "----------------------------------------\n",
            "Viewer (-eqn_p_ksp_view_mat) options:\n",
            "  -eqn_p_ksp_view_mat ascii[:[filename][:[format][:append]]]: Prints object to stdout or ASCII file (PetscOptionsGetViewer)\n",
            "  -eqn_p_ksp_view_mat binary[:[filename][:[format][:append]]]: Saves object to a binary file (PetscOptionsGetViewer)\n",
            "  -eqn_p_ksp_view_mat draw[:[drawtype][:filename|format]] Draws object (PetscOptionsGetViewer)\n",
            "  -eqn_p_ksp_view_mat socket[:port]: Pushes object to a Unix socket (PetscOptionsGetViewer)\n",
            "  -eqn_p_ksp_view_mat saws[:communicatorname]: Publishes object to SAWs (PetscOptionsGetViewer)\n",
            "----------------------------------------\n",
            "Viewer (-eqn_p_ksp_view_pmat) options:\n",
            "  -eqn_p_ksp_view_pmat ascii[:[filename][:[format][:append]]]: Prints object to stdout or ASCII file (PetscOptionsGetViewer)\n",
            "  -eqn_p_ksp_view_pmat binary[:[filename][:[format][:append]]]: Saves object to a binary file (PetscOptionsGetViewer)\n",
            "  -eqn_p_ksp_view_pmat draw[:[drawtype][:filename|format]] Draws object (PetscOptionsGetViewer)\n",
            "  -eqn_p_ksp_view_pmat socket[:port]: Pushes object to a Unix socket (PetscOptionsGetViewer)\n",
            "  -eqn_p_ksp_view_pmat saws[:communicatorname]: Publishes object to SAWs (PetscOptionsGetViewer)\n",
            "----------------------------------------\n",
            "Viewer (-eqn_p_ksp_view_rhs) options:\n",
            "  -eqn_p_ksp_view_rhs ascii[:[filename][:[format][:append]]]: Prints object to stdout or ASCII file (PetscOptionsGetViewer)\n",
            "  -eqn_p_ksp_view_rhs binary[:[filename][:[format][:append]]]: Saves object to a binary file (PetscOptionsGetViewer)\n",
            "  -eqn_p_ksp_view_rhs draw[:[drawtype][:filename|format]] Draws object (PetscOptionsGetViewer)\n",
            "  -eqn_p_ksp_view_rhs socket[:port]: Pushes object to a Unix socket (PetscOptionsGetViewer)\n",
            "  -eqn_p_ksp_view_rhs saws[:communicatorname]: Publishes object to SAWs (PetscOptionsGetViewer)\n",
            "----------------------------------------\n",
            "Viewer (-eqn_p_ksp_view_solution) options:\n",
            "  -eqn_p_ksp_view_solution ascii[:[filename][:[format][:append]]]: Prints object to stdout or ASCII file (PetscOptionsGetViewer)\n",
            "  -eqn_p_ksp_view_solution binary[:[filename][:[format][:append]]]: Saves object to a binary file (PetscOptionsGetViewer)\n",
            "  -eqn_p_ksp_view_solution draw[:[drawtype][:filename|format]] Draws object (PetscOptionsGetViewer)\n",
            "  -eqn_p_ksp_view_solution socket[:port]: Pushes object to a Unix socket (PetscOptionsGetViewer)\n",
            "  -eqn_p_ksp_view_solution saws[:communicatorname]: Publishes object to SAWs (PetscOptionsGetViewer)\n",
            "----------------------------------------\n",
            "Viewer (-eqn_p_ksp_view_mat_explicit) options:\n",
            "  -eqn_p_ksp_view_mat_explicit ascii[:[filename][:[format][:append]]]: Prints object to stdout or ASCII file (PetscOptionsGetViewer)\n",
            "  -eqn_p_ksp_view_mat_explicit binary[:[filename][:[format][:append]]]: Saves object to a binary file (PetscOptionsGetViewer)\n",
            "  -eqn_p_ksp_view_mat_explicit draw[:[drawtype][:filename|format]] Draws object (PetscOptionsGetViewer)\n",
            "  -eqn_p_ksp_view_mat_explicit socket[:port]: Pushes object to a Unix socket (PetscOptionsGetViewer)\n",
            "  -eqn_p_ksp_view_mat_explicit saws[:communicatorname]: Publishes object to SAWs (PetscOptionsGetViewer)\n",
            "----------------------------------------\n",
            "Viewer (-eqn_p_ksp_view_eigenvalues) options:\n",
            "  -eqn_p_ksp_view_eigenvalues ascii[:[filename][:[format][:append]]]: Prints object to stdout or ASCII file (PetscOptionsGetViewer)\n",
            "  -eqn_p_ksp_view_eigenvalues binary[:[filename][:[format][:append]]]: Saves object to a binary file (PetscOptionsGetViewer)\n",
            "  -eqn_p_ksp_view_eigenvalues draw[:[drawtype][:filename|format]] Draws object (PetscOptionsGetViewer)\n",
            "  -eqn_p_ksp_view_eigenvalues socket[:port]: Pushes object to a Unix socket (PetscOptionsGetViewer)\n",
            "  -eqn_p_ksp_view_eigenvalues saws[:communicatorname]: Publishes object to SAWs (PetscOptionsGetViewer)\n",
            "----------------------------------------\n",
            "Viewer (-eqn_p_ksp_view_singularvalues) options:\n",
            "  -eqn_p_ksp_view_singularvalues ascii[:[filename][:[format][:append]]]: Prints object to stdout or ASCII file (PetscOptionsGetViewer)\n",
            "  -eqn_p_ksp_view_singularvalues binary[:[filename][:[format][:append]]]: Saves object to a binary file (PetscOptionsGetViewer)\n",
            "  -eqn_p_ksp_view_singularvalues draw[:[drawtype][:filename|format]] Draws object (PetscOptionsGetViewer)\n",
            "  -eqn_p_ksp_view_singularvalues socket[:port]: Pushes object to a Unix socket (PetscOptionsGetViewer)\n",
            "  -eqn_p_ksp_view_singularvalues saws[:communicatorname]: Publishes object to SAWs (PetscOptionsGetViewer)\n",
            "----------------------------------------\n",
            "Viewer (-eqn_p_ksp_view_eigenvalues_explicit) options:\n",
            "  -eqn_p_ksp_view_eigenvalues_explicit ascii[:[filename][:[format][:append]]]: Prints object to stdout or ASCII file (PetscOptionsGetViewer)\n",
            "  -eqn_p_ksp_view_eigenvalues_explicit binary[:[filename][:[format][:append]]]: Saves object to a binary file (PetscOptionsGetViewer)\n",
            "  -eqn_p_ksp_view_eigenvalues_explicit draw[:[drawtype][:filename|format]] Draws object (PetscOptionsGetViewer)\n",
            "  -eqn_p_ksp_view_eigenvalues_explicit socket[:port]: Pushes object to a Unix socket (PetscOptionsGetViewer)\n",
            "  -eqn_p_ksp_view_eigenvalues_explicit saws[:communicatorname]: Publishes object to SAWs (PetscOptionsGetViewer)\n",
            "----------------------------------------\n",
            "Viewer (-eqn_p_ksp_view_final_residual) options:\n",
            "  -eqn_p_ksp_view_final_residual ascii[:[filename][:[format][:append]]]: Prints object to stdout or ASCII file (PetscOptionsGetViewer)\n",
            "  -eqn_p_ksp_view_final_residual binary[:[filename][:[format][:append]]]: Saves object to a binary file (PetscOptionsGetViewer)\n",
            "  -eqn_p_ksp_view_final_residual draw[:[drawtype][:filename|format]] Draws object (PetscOptionsGetViewer)\n",
            "  -eqn_p_ksp_view_final_residual socket[:port]: Pushes object to a Unix socket (PetscOptionsGetViewer)\n",
            "  -eqn_p_ksp_view_final_residual saws[:communicatorname]: Publishes object to SAWs (PetscOptionsGetViewer)\n",
            "----------------------------------------\n",
            "Viewer (-eqn_p_ksp_view_preconditioned_operator_explicit) options:\n",
            "  -eqn_p_ksp_view_preconditioned_operator_explicit ascii[:[filename][:[format][:append]]]: Prints object to stdout or ASCII file (PetscOptionsGetViewer)\n",
            "  -eqn_p_ksp_view_preconditioned_operator_explicit binary[:[filename][:[format][:append]]]: Saves object to a binary file (PetscOptionsGetViewer)\n",
            "  -eqn_p_ksp_view_preconditioned_operator_explicit draw[:[drawtype][:filename|format]] Draws object (PetscOptionsGetViewer)\n",
            "  -eqn_p_ksp_view_preconditioned_operator_explicit socket[:port]: Pushes object to a Unix socket (PetscOptionsGetViewer)\n",
            "  -eqn_p_ksp_view_preconditioned_operator_explicit saws[:communicatorname]: Publishes object to SAWs (PetscOptionsGetViewer)\n",
            "----------------------------------------\n",
            "Viewer (-eqn_p_ksp_view_diagonal_scale) options:\n",
            "  -eqn_p_ksp_view_diagonal_scale ascii[:[filename][:[format][:append]]]: Prints object to stdout or ASCII file (PetscOptionsGetViewer)\n",
            "  -eqn_p_ksp_view_diagonal_scale binary[:[filename][:[format][:append]]]: Saves object to a binary file (PetscOptionsGetViewer)\n",
            "  -eqn_p_ksp_view_diagonal_scale draw[:[drawtype][:filename|format]] Draws object (PetscOptionsGetViewer)\n",
            "  -eqn_p_ksp_view_diagonal_scale socket[:port]: Pushes object to a Unix socket (PetscOptionsGetViewer)\n",
            "  -eqn_p_ksp_view_diagonal_scale saws[:communicatorname]: Publishes object to SAWs (PetscOptionsGetViewer)\n",
            "----------------------------------------\n",
            "Viewer (-eqn_p_ksp_compute_eigenvalues) options:\n",
            "  -eqn_p_ksp_compute_eigenvalues ascii[:[filename][:[format][:append]]]: Prints object to stdout or ASCII file (PetscOptionsGetViewer)\n",
            "  -eqn_p_ksp_compute_eigenvalues binary[:[filename][:[format][:append]]]: Saves object to a binary file (PetscOptionsGetViewer)\n",
            "  -eqn_p_ksp_compute_eigenvalues draw[:[drawtype][:filename|format]] Draws object (PetscOptionsGetViewer)\n",
            "  -eqn_p_ksp_compute_eigenvalues socket[:port]: Pushes object to a Unix socket (PetscOptionsGetViewer)\n",
            "  -eqn_p_ksp_compute_eigenvalues saws[:communicatorname]: Publishes object to SAWs (PetscOptionsGetViewer)\n",
            "  -eqn_p_ksp_plot_eigenvalues: [deprecated since PETSc 3.9; use -ksp_view_eigenvalues draw] (KSPView)\n",
            "  -eqn_p_ksp_plot_eigencontours: [deprecated since PETSc 3.9; use -ksp_view_eigenvalues draw::draw_contour] (KSPView)\n",
            "----------------------------------------\n",
            "Viewer (-eqn_p_ksp_compute_eigenvalues_explicitly) options:\n",
            "  -eqn_p_ksp_compute_eigenvalues_explicitly ascii[:[filename][:[format][:append]]]: Prints object to stdout or ASCII file (PetscOptionsGetViewer)\n",
            "  -eqn_p_ksp_compute_eigenvalues_explicitly binary[:[filename][:[format][:append]]]: Saves object to a binary file (PetscOptionsGetViewer)\n",
            "  -eqn_p_ksp_compute_eigenvalues_explicitly draw[:[drawtype][:filename|format]] Draws object (PetscOptionsGetViewer)\n",
            "  -eqn_p_ksp_compute_eigenvalues_explicitly socket[:port]: Pushes object to a Unix socket (PetscOptionsGetViewer)\n",
            "  -eqn_p_ksp_compute_eigenvalues_explicitly saws[:communicatorname]: Publishes object to SAWs (PetscOptionsGetViewer)\n",
            "  -eqn_p_ksp_plot_eigenvalues_explicitly: [deprecated since PETSc 3.9; use -ksp_view_eigenvalues_explicit draw] (KSPView)\n",
            "----------------------------------------\n",
            "Viewer (-eqn_p_ksp_compute_singularvalues) options:\n",
            "  -eqn_p_ksp_compute_singularvalues ascii[:[filename][:[format][:append]]]: Prints object to stdout or ASCII file (PetscOptionsGetViewer)\n",
            "  -eqn_p_ksp_compute_singularvalues binary[:[filename][:[format][:append]]]: Saves object to a binary file (PetscOptionsGetViewer)\n",
            "  -eqn_p_ksp_compute_singularvalues draw[:[drawtype][:filename|format]] Draws object (PetscOptionsGetViewer)\n",
            "  -eqn_p_ksp_compute_singularvalues socket[:port]: Pushes object to a Unix socket (PetscOptionsGetViewer)\n",
            "  -eqn_p_ksp_compute_singularvalues saws[:communicatorname]: Publishes object to SAWs (PetscOptionsGetViewer)\n",
            "----------------------------------------\n",
            "Viewer (-eqn_p_ksp_final_residual) options:\n",
            "  -eqn_p_ksp_final_residual ascii[:[filename][:[format][:append]]]: Prints object to stdout or ASCII file (PetscOptionsGetViewer)\n",
            "  -eqn_p_ksp_final_residual binary[:[filename][:[format][:append]]]: Saves object to a binary file (PetscOptionsGetViewer)\n",
            "  -eqn_p_ksp_final_residual draw[:[drawtype][:filename|format]] Draws object (PetscOptionsGetViewer)\n",
            "  -eqn_p_ksp_final_residual socket[:port]: Pushes object to a Unix socket (PetscOptionsGetViewer)\n",
            "  -eqn_p_ksp_final_residual saws[:communicatorname]: Publishes object to SAWs (PetscOptionsGetViewer)\n",
            "  -eqn_p_ksp_pc_side <now LEFT : formerly LEFT> KSP preconditioner side (choose one of) LEFT RIGHT SYMMETRIC (KSPSetPCSide)\n",
            "  -eqn_p_ksp_matsolve_batch_size <now -1 : formerly -1>: Maximum number of columns treated simultaneously (KSPSetMatSolveBatchSize)\n",
            "  -eqn_p_ksp_use_explicittranspose: <FALSE : FALSE> Explicitly transpose the system in KSPSolveTranspose (KSPSetUseExplicitTranspose)\n",
            "  KSP CG and CGNE options\n",
            "  -eqn_p_ksp_cg_single_reduction: <FALSE : TRUE> Merge inner products into single MPI_Allreduce() (KSPCGUseSingleReduction)\n",
            "----------------------------------------\n",
            "Vector (Vec) options:\n",
            "  -vec_pinned_memory_min <now 0 : formerly 0>: Minimum size (in bytes) for an allocation to use pinned memory on host (VecSetPinnedMemoryMin)\n",
            "----------------------------------------\n",
            "Preconditioner (PC) options:\n",
            "  -eqn_p_sub_pc_type <now icc : formerly icc>: Preconditioner (one of) nn tfs hmg bddc composite ksp lu icc patch bjacobi eisenstat deflation vpbjacobi redistribute sor mg pbjacobi cholesky mat qr svd fieldsplit mpi kaczmarz jacobi telescope redundant cp shell galerkin ilu exotic gasm gamg none lmvm asm lsc (PCSetType)\n",
            "  -eqn_p_sub_pc_use_amat: <FALSE : FALSE> use Amat (instead of Pmat) to define preconditioner in nested inner solves (PCSetUseAmat)\n",
            "  ICC Options\n",
            "  -eqn_p_sub_pc_factor_in_place: <FALSE : FALSE> Form factored matrix in the same memory as the matrix (PCFactorSetUseInPlace)\n",
            "  -eqn_p_sub_pc_factor_fill <1. : 1.>: Expected non-zeros in factored matrix (PCFactorSetFill)\n",
            "  -eqn_p_sub_pc_factor_shift_type <now NONE : formerly POSITIVE_DEFINITE> Type of shift to add to diagonal (choose one of) NONE NONZERO POSITIVE_DEFINITE INBLOCKS (PCFactorSetShiftType)\n",
            "  -eqn_p_sub_pc_factor_shift_amount <2.22045e-14 : 2.22045e-14>: Shift added to diagonal (PCFactorSetShiftAmount)\n",
            "  -eqn_p_sub_pc_factor_zeropivot <2.22045e-14 : 2.22045e-14>: Pivot is considered zero if less than (PCFactorSetZeroPivot)\n",
            "  -eqn_p_sub_pc_factor_column_pivot <-2. : -2.>: Column pivot tolerance (used only for some factorization) (PCFactorSetColumnPivot)\n",
            "  -eqn_p_sub_pc_factor_pivot_in_blocks: <TRUE : TRUE> Pivot inside matrix dense blocks for BAIJ and SBAIJ (PCFactorSetPivotInBlocks)\n",
            "  -eqn_p_sub_pc_factor_reuse_fill: <FALSE : FALSE> Use fill from previous factorization (PCFactorSetReuseFill)\n",
            "  -eqn_p_sub_pc_factor_reuse_ordering: <FALSE : FALSE> Reuse ordering from previous factorization (PCFactorSetReuseOrdering)\n",
            "  -eqn_p_sub_pc_factor_mat_solver_type <now (null) : formerly (null)>: Specific direct solver to use (MatGetFactor)\n",
            "----------------------------------------\n",
            "Options for SEQAIJ matrix:\n",
            "  -mat_no_unroll: <FALSE : FALSE> Do not optimize for inodes (slower) (None)\n",
            "  -mat_no_inode: <FALSE : FALSE> Do not optimize for inodes -slower- (None)\n",
            "  -mat_inode_limit <now 5 : formerly 5>: Do not use inodes larger then this value (None)\n",
            "----------------------------------------\n",
            "Matrix (Mat) options:\n",
            "  -mat_seqaij_type <now seqaij : formerly seqaij>: Matrix SeqAIJ type (one of) seqaijcrl seqaijperm seqaijsell seqaijcusparse (MatSeqAIJSetType)\n",
            "----------------------------------------\n",
            "MatGetFactor:\n",
            "  -eqn_p_sub_mat_factor_bind_factorization <now (null) : formerly (null)>: Do matrix factorization on host or device when possible (MatGetFactor)\n",
            "  -eqn_p_sub_pc_factor_mat_ordering_type <now natural : formerly natural>: Reordering to reduce nonzeros in factored matrix (one of) rowlength spectral nd qmd natural rcm 1wd (PCFactorSetMatOrderingType)\n",
            "  -eqn_p_sub_pc_factor_levels <0. : 0.>: levels of fill (PCFactorSetLevels)\n",
            "----------------------------------------\n",
            "Krylov Method (KSP) options:\n",
            "  -eqn_p_sub_ksp_type <now preonly : formerly preonly>: Krylov method (one of) fetidp pipefgmres stcg tsirm tcqmr groppcg nash fcg symmlq lcd minres cgs preonly lgmres pipecgrr fbcgs pipeprcg pipecg ibcgs fgmres qcg gcr cgne pipefcg pipecr pipebcgs bcgsl pipecg2 pipelcg gltr cg tfqmr pgmres lsqr pipegcr bicg cgls bcgs cr dgmres none qmrcgs gmres richardson chebyshev fbcgsr (KSPSetType)\n",
            "  -eqn_p_sub_ksp_monitor_cancel: <FALSE : FALSE> Remove any hardwired monitor routines (KSPMonitorCancel)\n",
            "----------------------------------------\n",
            "Viewer (-eqn_p_sub_ksp_monitor) options:\n",
            "  -eqn_p_sub_ksp_monitor ascii[:[filename][:[format][:append]]]: Prints object to stdout or ASCII file (PetscOptionsGetViewer)\n",
            "  -eqn_p_sub_ksp_monitor binary[:[filename][:[format][:append]]]: Saves object to a binary file (PetscOptionsGetViewer)\n",
            "  -eqn_p_sub_ksp_monitor draw[:[drawtype][:filename|format]] Draws object (PetscOptionsGetViewer)\n",
            "  -eqn_p_sub_ksp_monitor socket[:port]: Pushes object to a Unix socket (PetscOptionsGetViewer)\n",
            "  -eqn_p_sub_ksp_monitor saws[:communicatorname]: Publishes object to SAWs (PetscOptionsGetViewer)\n",
            "----------------------------------------\n",
            "Viewer (-eqn_p_sub_ksp_monitor_short) options:\n",
            "  -eqn_p_sub_ksp_monitor_short ascii[:[filename][:[format][:append]]]: Prints object to stdout or ASCII file (PetscOptionsGetViewer)\n",
            "  -eqn_p_sub_ksp_monitor_short binary[:[filename][:[format][:append]]]: Saves object to a binary file (PetscOptionsGetViewer)\n",
            "  -eqn_p_sub_ksp_monitor_short draw[:[drawtype][:filename|format]] Draws object (PetscOptionsGetViewer)\n",
            "  -eqn_p_sub_ksp_monitor_short socket[:port]: Pushes object to a Unix socket (PetscOptionsGetViewer)\n",
            "  -eqn_p_sub_ksp_monitor_short saws[:communicatorname]: Publishes object to SAWs (PetscOptionsGetViewer)\n",
            "----------------------------------------\n",
            "Viewer (-eqn_p_sub_ksp_monitor_range) options:\n",
            "  -eqn_p_sub_ksp_monitor_range ascii[:[filename][:[format][:append]]]: Prints object to stdout or ASCII file (PetscOptionsGetViewer)\n",
            "  -eqn_p_sub_ksp_monitor_range binary[:[filename][:[format][:append]]]: Saves object to a binary file (PetscOptionsGetViewer)\n",
            "  -eqn_p_sub_ksp_monitor_range draw[:[drawtype][:filename|format]] Draws object (PetscOptionsGetViewer)\n",
            "  -eqn_p_sub_ksp_monitor_range socket[:port]: Pushes object to a Unix socket (PetscOptionsGetViewer)\n",
            "  -eqn_p_sub_ksp_monitor_range saws[:communicatorname]: Publishes object to SAWs (PetscOptionsGetViewer)\n",
            "----------------------------------------\n",
            "Viewer (-eqn_p_sub_ksp_monitor_true_residual) options:\n",
            "  -eqn_p_sub_ksp_monitor_true_residual ascii[:[filename][:[format][:append]]]: Prints object to stdout or ASCII file (PetscOptionsGetViewer)\n",
            "  -eqn_p_sub_ksp_monitor_true_residual binary[:[filename][:[format][:append]]]: Saves object to a binary file (PetscOptionsGetViewer)\n",
            "  -eqn_p_sub_ksp_monitor_true_residual draw[:[drawtype][:filename|format]] Draws object (PetscOptionsGetViewer)\n",
            "  -eqn_p_sub_ksp_monitor_true_residual socket[:port]: Pushes object to a Unix socket (PetscOptionsGetViewer)\n",
            "  -eqn_p_sub_ksp_monitor_true_residual saws[:communicatorname]: Publishes object to SAWs (PetscOptionsGetViewer)\n",
            "----------------------------------------\n",
            "Viewer (-eqn_p_sub_ksp_monitor_max) options:\n",
            "  -eqn_p_sub_ksp_monitor_max ascii[:[filename][:[format][:append]]]: Prints object to stdout or ASCII file (PetscOptionsGetViewer)\n",
            "  -eqn_p_sub_ksp_monitor_max binary[:[filename][:[format][:append]]]: Saves object to a binary file (PetscOptionsGetViewer)\n",
            "  -eqn_p_sub_ksp_monitor_max draw[:[drawtype][:filename|format]] Draws object (PetscOptionsGetViewer)\n",
            "  -eqn_p_sub_ksp_monitor_max socket[:port]: Pushes object to a Unix socket (PetscOptionsGetViewer)\n",
            "  -eqn_p_sub_ksp_monitor_max saws[:communicatorname]: Publishes object to SAWs (PetscOptionsGetViewer)\n",
            "----------------------------------------\n",
            "Viewer (-eqn_p_sub_ksp_monitor_solution) options:\n",
            "  -eqn_p_sub_ksp_monitor_solution ascii[:[filename][:[format][:append]]]: Prints object to stdout or ASCII file (PetscOptionsGetViewer)\n",
            "  -eqn_p_sub_ksp_monitor_solution binary[:[filename][:[format][:append]]]: Saves object to a binary file (PetscOptionsGetViewer)\n",
            "  -eqn_p_sub_ksp_monitor_solution draw[:[drawtype][:filename|format]] Draws object (PetscOptionsGetViewer)\n",
            "  -eqn_p_sub_ksp_monitor_solution socket[:port]: Pushes object to a Unix socket (PetscOptionsGetViewer)\n",
            "  -eqn_p_sub_ksp_monitor_solution saws[:communicatorname]: Publishes object to SAWs (PetscOptionsGetViewer)\n",
            "----------------------------------------\n",
            "Viewer (-eqn_p_sub_ksp_monitor_singular_value) options:\n",
            "  -eqn_p_sub_ksp_monitor_singular_value ascii[:[filename][:[format][:append]]]: Prints object to stdout or ASCII file (PetscOptionsGetViewer)\n",
            "  -eqn_p_sub_ksp_monitor_singular_value binary[:[filename][:[format][:append]]]: Saves object to a binary file (PetscOptionsGetViewer)\n",
            "  -eqn_p_sub_ksp_monitor_singular_value draw[:[drawtype][:filename|format]] Draws object (PetscOptionsGetViewer)\n",
            "  -eqn_p_sub_ksp_monitor_singular_value socket[:port]: Pushes object to a Unix socket (PetscOptionsGetViewer)\n",
            "  -eqn_p_sub_ksp_monitor_singular_value saws[:communicatorname]: Publishes object to SAWs (PetscOptionsGetViewer)\n",
            "----------------------------------------\n",
            "Viewer (-eqn_p_sub_ksp_monitor_error) options:\n",
            "  -eqn_p_sub_ksp_monitor_error ascii[:[filename][:[format][:append]]]: Prints object to stdout or ASCII file (PetscOptionsGetViewer)\n",
            "  -eqn_p_sub_ksp_monitor_error binary[:[filename][:[format][:append]]]: Saves object to a binary file (PetscOptionsGetViewer)\n",
            "  -eqn_p_sub_ksp_monitor_error draw[:[drawtype][:filename|format]] Draws object (PetscOptionsGetViewer)\n",
            "  -eqn_p_sub_ksp_monitor_error socket[:port]: Pushes object to a Unix socket (PetscOptionsGetViewer)\n",
            "  -eqn_p_sub_ksp_monitor_error saws[:communicatorname]: Publishes object to SAWs (PetscOptionsGetViewer)\n",
            "  -eqn_p_sub_ksp_monitor_pause_final: <FALSE : FALSE> Pauses all draw monitors at the final iterate (KSPMonitorPauseFinal_Internal)\n",
            "  -eqn_p_sub_ksp_initial_guess_nonzero: <FALSE : FALSE> Use the contents of the solution vector for initial guess (KSPSetInitialNonzero)\n",
            "  -eqn_p_sub_ksp_reuse_preconditioner: <FALSE : FALSE> Use initial preconditioner and don't ever compute a new one (KSPReusePreconditioner)\n",
            "  -eqn_p_sub_ksp_error_if_not_converged: <FALSE : FALSE> Generate error if solver does not converge (KSPSetErrorIfNotConverged)\n",
            "----------------------------------------\n",
            "Viewer (-eqn_p_sub_ksp_view) options:\n",
            "  -eqn_p_sub_ksp_view ascii[:[filename][:[format][:append]]]: Prints object to stdout or ASCII file (PetscOptionsGetViewer)\n",
            "  -eqn_p_sub_ksp_view binary[:[filename][:[format][:append]]]: Saves object to a binary file (PetscOptionsGetViewer)\n",
            "  -eqn_p_sub_ksp_view draw[:[drawtype][:filename|format]] Draws object (PetscOptionsGetViewer)\n",
            "  -eqn_p_sub_ksp_view socket[:port]: Pushes object to a Unix socket (PetscOptionsGetViewer)\n",
            "  -eqn_p_sub_ksp_view saws[:communicatorname]: Publishes object to SAWs (PetscOptionsGetViewer)\n",
            "  -eqn_p_sub_ksp_converged_reason_view_cancel: <FALSE : FALSE> Cancel all the converged reason view functions set using KSPConvergedReasonViewSet (KSPConvergedReasonViewCancel)\n",
            "----------------------------------------\n",
            "Viewer (-eqn_p_sub_ksp_view_mat) options:\n",
            "  -eqn_p_sub_ksp_view_mat ascii[:[filename][:[format][:append]]]: Prints object to stdout or ASCII file (PetscOptionsGetViewer)\n",
            "  -eqn_p_sub_ksp_view_mat binary[:[filename][:[format][:append]]]: Saves object to a binary file (PetscOptionsGetViewer)\n",
            "  -eqn_p_sub_ksp_view_mat draw[:[drawtype][:filename|format]] Draws object (PetscOptionsGetViewer)\n",
            "  -eqn_p_sub_ksp_view_mat socket[:port]: Pushes object to a Unix socket (PetscOptionsGetViewer)\n",
            "  -eqn_p_sub_ksp_view_mat saws[:communicatorname]: Publishes object to SAWs (PetscOptionsGetViewer)\n",
            "----------------------------------------\n",
            "Viewer (-eqn_p_sub_ksp_view_pmat) options:\n",
            "  -eqn_p_sub_ksp_view_pmat ascii[:[filename][:[format][:append]]]: Prints object to stdout or ASCII file (PetscOptionsGetViewer)\n",
            "  -eqn_p_sub_ksp_view_pmat binary[:[filename][:[format][:append]]]: Saves object to a binary file (PetscOptionsGetViewer)\n",
            "  -eqn_p_sub_ksp_view_pmat draw[:[drawtype][:filename|format]] Draws object (PetscOptionsGetViewer)\n",
            "  -eqn_p_sub_ksp_view_pmat socket[:port]: Pushes object to a Unix socket (PetscOptionsGetViewer)\n",
            "  -eqn_p_sub_ksp_view_pmat saws[:communicatorname]: Publishes object to SAWs (PetscOptionsGetViewer)\n",
            "----------------------------------------\n",
            "Viewer (-eqn_p_sub_ksp_view_rhs) options:\n",
            "  -eqn_p_sub_ksp_view_rhs ascii[:[filename][:[format][:append]]]: Prints object to stdout or ASCII file (PetscOptionsGetViewer)\n",
            "  -eqn_p_sub_ksp_view_rhs binary[:[filename][:[format][:append]]]: Saves object to a binary file (PetscOptionsGetViewer)\n",
            "  -eqn_p_sub_ksp_view_rhs draw[:[drawtype][:filename|format]] Draws object (PetscOptionsGetViewer)\n",
            "  -eqn_p_sub_ksp_view_rhs socket[:port]: Pushes object to a Unix socket (PetscOptionsGetViewer)\n",
            "  -eqn_p_sub_ksp_view_rhs saws[:communicatorname]: Publishes object to SAWs (PetscOptionsGetViewer)\n",
            "----------------------------------------\n",
            "Viewer (-eqn_p_sub_ksp_view_solution) options:\n",
            "  -eqn_p_sub_ksp_view_solution ascii[:[filename][:[format][:append]]]: Prints object to stdout or ASCII file (PetscOptionsGetViewer)\n",
            "  -eqn_p_sub_ksp_view_solution binary[:[filename][:[format][:append]]]: Saves object to a binary file (PetscOptionsGetViewer)\n",
            "  -eqn_p_sub_ksp_view_solution draw[:[drawtype][:filename|format]] Draws object (PetscOptionsGetViewer)\n",
            "  -eqn_p_sub_ksp_view_solution socket[:port]: Pushes object to a Unix socket (PetscOptionsGetViewer)\n",
            "  -eqn_p_sub_ksp_view_solution saws[:communicatorname]: Publishes object to SAWs (PetscOptionsGetViewer)\n",
            "----------------------------------------\n",
            "Viewer (-eqn_p_sub_ksp_view_mat_explicit) options:\n",
            "  -eqn_p_sub_ksp_view_mat_explicit ascii[:[filename][:[format][:append]]]: Prints object to stdout or ASCII file (PetscOptionsGetViewer)\n",
            "  -eqn_p_sub_ksp_view_mat_explicit binary[:[filename][:[format][:append]]]: Saves object to a binary file (PetscOptionsGetViewer)\n",
            "  -eqn_p_sub_ksp_view_mat_explicit draw[:[drawtype][:filename|format]] Draws object (PetscOptionsGetViewer)\n",
            "  -eqn_p_sub_ksp_view_mat_explicit socket[:port]: Pushes object to a Unix socket (PetscOptionsGetViewer)\n",
            "  -eqn_p_sub_ksp_view_mat_explicit saws[:communicatorname]: Publishes object to SAWs (PetscOptionsGetViewer)\n",
            "----------------------------------------\n",
            "Viewer (-eqn_p_sub_ksp_view_final_residual) options:\n",
            "  -eqn_p_sub_ksp_view_final_residual ascii[:[filename][:[format][:append]]]: Prints object to stdout or ASCII file (PetscOptionsGetViewer)\n",
            "  -eqn_p_sub_ksp_view_final_residual binary[:[filename][:[format][:append]]]: Saves object to a binary file (PetscOptionsGetViewer)\n",
            "  -eqn_p_sub_ksp_view_final_residual draw[:[drawtype][:filename|format]] Draws object (PetscOptionsGetViewer)\n",
            "  -eqn_p_sub_ksp_view_final_residual socket[:port]: Pushes object to a Unix socket (PetscOptionsGetViewer)\n",
            "  -eqn_p_sub_ksp_view_final_residual saws[:communicatorname]: Publishes object to SAWs (PetscOptionsGetViewer)\n",
            "----------------------------------------\n",
            "Viewer (-eqn_p_sub_ksp_view_preconditioned_operator_explicit) options:\n",
            "  -eqn_p_sub_ksp_view_preconditioned_operator_explicit ascii[:[filename][:[format][:append]]]: Prints object to stdout or ASCII file (PetscOptionsGetViewer)\n",
            "  -eqn_p_sub_ksp_view_preconditioned_operator_explicit binary[:[filename][:[format][:append]]]: Saves object to a binary file (PetscOptionsGetViewer)\n",
            "  -eqn_p_sub_ksp_view_preconditioned_operator_explicit draw[:[drawtype][:filename|format]] Draws object (PetscOptionsGetViewer)\n",
            "  -eqn_p_sub_ksp_view_preconditioned_operator_explicit socket[:port]: Pushes object to a Unix socket (PetscOptionsGetViewer)\n",
            "  -eqn_p_sub_ksp_view_preconditioned_operator_explicit saws[:communicatorname]: Publishes object to SAWs (PetscOptionsGetViewer)\n",
            "----------------------------------------\n",
            "Viewer (-eqn_p_sub_ksp_view_diagonal_scale) options:\n",
            "  -eqn_p_sub_ksp_view_diagonal_scale ascii[:[filename][:[format][:append]]]: Prints object to stdout or ASCII file (PetscOptionsGetViewer)\n",
            "  -eqn_p_sub_ksp_view_diagonal_scale binary[:[filename][:[format][:append]]]: Saves object to a binary file (PetscOptionsGetViewer)\n",
            "  -eqn_p_sub_ksp_view_diagonal_scale draw[:[drawtype][:filename|format]] Draws object (PetscOptionsGetViewer)\n",
            "  -eqn_p_sub_ksp_view_diagonal_scale socket[:port]: Pushes object to a Unix socket (PetscOptionsGetViewer)\n",
            "  -eqn_p_sub_ksp_view_diagonal_scale saws[:communicatorname]: Publishes object to SAWs (PetscOptionsGetViewer)\n",
            "  -eqn_p_sub_ksp_diagonal_scale: <FALSE : FALSE> Diagonal scale matrix before building preconditioner (KSPSetDiagonalScale)\n",
            "  -eqn_p_sub_ksp_diagonal_scale_fix: <FALSE : FALSE> Fix diagonally scaled matrix after solve (KSPSetDiagonalScaleFix)\n",
            "  -eqn_p_sub_ksp_matsolve_batch_size <now -1 : formerly -1>: Maximum number of columns treated simultaneously (KSPSetMatSolveBatchSize)\n",
            "----------------------------------------\n",
            "Viewer (-is_view) options:\n",
            "  -is_view ascii[:[filename][:[format][:append]]]: Prints object to stdout or ASCII file (PetscOptionsGetViewer)\n",
            "  -is_view binary[:[filename][:[format][:append]]]: Saves object to a binary file (PetscOptionsGetViewer)\n",
            "  -is_view draw[:[drawtype][:filename|format]] Draws object (PetscOptionsGetViewer)\n",
            "  -is_view socket[:port]: Pushes object to a Unix socket (PetscOptionsGetViewer)\n",
            "  -is_view saws[:communicatorname]: Publishes object to SAWs (PetscOptionsGetViewer)\n",
            "----------------------------------------\n",
            "Viewer (-eqn_p_sub_mat_factor_view) options:\n",
            "  -eqn_p_sub_mat_factor_view ascii[:[filename][:[format][:append]]]: Prints object to stdout or ASCII file (PetscOptionsGetViewer)\n",
            "  -eqn_p_sub_mat_factor_view binary[:[filename][:[format][:append]]]: Saves object to a binary file (PetscOptionsGetViewer)\n",
            "  -eqn_p_sub_mat_factor_view draw[:[drawtype][:filename|format]] Draws object (PetscOptionsGetViewer)\n",
            "  -eqn_p_sub_mat_factor_view socket[:port]: Pushes object to a Unix socket (PetscOptionsGetViewer)\n",
            "  -eqn_p_sub_mat_factor_view saws[:communicatorname]: Publishes object to SAWs (PetscOptionsGetViewer)\n",
            "----------------------------------------\n",
            "Viewer (-eqn_p_sub_ksp_converged_reason) options:\n",
            "  -eqn_p_sub_ksp_converged_reason ascii[:[filename][:[format][:append]]]: Prints object to stdout or ASCII file (PetscOptionsGetViewer)\n",
            "  -eqn_p_sub_ksp_converged_reason binary[:[filename][:[format][:append]]]: Saves object to a binary file (PetscOptionsGetViewer)\n",
            "  -eqn_p_sub_ksp_converged_reason draw[:[drawtype][:filename|format]] Draws object (PetscOptionsGetViewer)\n",
            "  -eqn_p_sub_ksp_converged_reason socket[:port]: Pushes object to a Unix socket (PetscOptionsGetViewer)\n",
            "  -eqn_p_sub_ksp_converged_reason saws[:communicatorname]: Publishes object to SAWs (PetscOptionsGetViewer)\n",
            "----------------------------------------\n",
            "Viewer (-eqn_p_ksp_converged_reason) options:\n",
            "  -eqn_p_ksp_converged_reason ascii[:[filename][:[format][:append]]]: Prints object to stdout or ASCII file (PetscOptionsGetViewer)\n",
            "  -eqn_p_ksp_converged_reason binary[:[filename][:[format][:append]]]: Saves object to a binary file (PetscOptionsGetViewer)\n",
            "  -eqn_p_ksp_converged_reason draw[:[drawtype][:filename|format]] Draws object (PetscOptionsGetViewer)\n",
            "  -eqn_p_ksp_converged_reason socket[:port]: Pushes object to a Unix socket (PetscOptionsGetViewer)\n",
            "  -eqn_p_ksp_converged_reason saws[:communicatorname]: Publishes object to SAWs (PetscOptionsGetViewer)\n",
            "PETSc-cg:  Solving for p, Initial residual = 0, Final residual = 0, No Iterations 0\n",
            "time step continuity errors : sum local = 0, global = 0, cumulative = 0\n",
            "----------------------------------------\n",
            "Viewer (-eqn_p_sub_mat_view) options:\n",
            "  -eqn_p_sub_mat_view ascii[:[filename][:[format][:append]]]: Prints object to stdout or ASCII file (PetscOptionsGetViewer)\n",
            "  -eqn_p_sub_mat_view binary[:[filename][:[format][:append]]]: Saves object to a binary file (PetscOptionsGetViewer)\n",
            "  -eqn_p_sub_mat_view draw[:[drawtype][:filename|format]] Draws object (PetscOptionsGetViewer)\n",
            "  -eqn_p_sub_mat_view socket[:port]: Pushes object to a Unix socket (PetscOptionsGetViewer)\n",
            "  -eqn_p_sub_mat_view saws[:communicatorname]: Publishes object to SAWs (PetscOptionsGetViewer)\n",
            "PETSc-cg:  Solving for p, Initial residual = 0, Final residual = 0, No Iterations 0\n",
            "time step continuity errors : sum local = 0, global = 0, cumulative = 0\n",
            "ExecutionTime = 2.67 s  ClockTime = 3 s\n",
            "\n",
            "End\n",
            "\n",
            "Finalizing PETSc\n"
          ]
        }
      ],
      "source": [
        "!case=S-petsc-1;\\\n",
        "cp system/fvSolution.$case system/fvSolution;\\\n",
        "source /usr/lib/openfoam/openfoam2306/etc/bashrc;\\\n",
        "eval $(foamEtcFile -sh -config petsc -- -force);\\\n",
        "PETSC_OPTIONS='-use_gpu_aware_mpi 0 -help' icoFoam -lib petscFoam -dry-run 2>&1 | tee log.icoFoam.$case.help"
      ]
    },
    {
      "cell_type": "markdown",
      "source": [
        "上記のログから変更したいオプションを検索したり、以下のように`grep`コマンドを用いてログから抜き出します。"
      ],
      "metadata": {
        "id": "-TLd4kB7QWD6"
      }
    },
    {
      "cell_type": "code",
      "source": [
        "!case=S-petsc-1;\\\n",
        "grep -e pc_type -e ksp_cg_single_reduction -e sub_pc_factor_shift_type log.icoFoam.$case.help"
      ],
      "metadata": {
        "colab": {
          "base_uri": "https://localhost:8080/"
        },
        "id": "CvgTRs8JQAJW",
        "outputId": "598289f5-36a1-4b9e-d38d-4100743f3c16"
      },
      "execution_count": null,
      "outputs": [
        {
          "output_type": "stream",
          "name": "stdout",
          "text": [
            "  -eqn_p_pc_type <now bjacobi : formerly icc>: Preconditioner (one of) nn tfs hmg bddc composite ksp lu icc patch bjacobi eisenstat deflation vpbjacobi redistribute sor mg pbjacobi cholesky mat qr svd fieldsplit mpi kaczmarz jacobi telescope redundant cp shell galerkin ilu exotic gasm gamg none lmvm asm lsc (PCSetType)\n",
            "  -eqn_p_ksp_cg_single_reduction: <FALSE : TRUE> Merge inner products into single MPI_Allreduce() (KSPCGUseSingleReduction)\n",
            "  -eqn_p_sub_pc_type <now icc : formerly icc>: Preconditioner (one of) nn tfs hmg bddc composite ksp lu icc patch bjacobi eisenstat deflation vpbjacobi redistribute sor mg pbjacobi cholesky mat qr svd fieldsplit mpi kaczmarz jacobi telescope redundant cp shell galerkin ilu exotic gasm gamg none lmvm asm lsc (PCSetType)\n",
            "  -eqn_p_sub_pc_factor_shift_type <now NONE : formerly POSITIVE_DEFINITE> Type of shift to add to diagonal (choose one of) NONE NONZERO POSITIVE_DEFINITE INBLOCKS (PCFactorSetShiftType)\n"
          ]
        }
      ]
    },
    {
      "cell_type": "markdown",
      "source": [
        "上記のペルプメッセージや以下の資料等を参考に、`system/fvSolution`の設定を変更しますが、特にZampiniらによる発表スライドでの設定例や最後のページが参考になります。\n",
        "\n",
        "* S. Zampini, S. Bnà, M.Valentini, I. Spisso : GPU-accelerated OpenFOAM simulations using PETSc4FOAM\n",
        "  * 発表スライド https://wiki.openfoam.com/images/c/cd/OpenFOAM_2020_KAUST_Zampini.pdf\n",
        "  * 論文 https://www.esi-group.com/sites/default/files/resource/other/1806/8th_OpenFOAM_Conference_Cineca_Spisso_2_0.pdf\n",
        "* Summary of Sparse Linear Solvers Available In PETSc https://petsc.org/release/overview/linear_solve_table/\n",
        "* KSP: Linear System Solvers https://petsc.org/release/manual/ksp/\n",
        "* Preconditioners https://petsc.org/release/manual/ksp/#sec-pc\n",
        "* PCBJACOBI https://petsc.org/release/manualpages/PC/PCBJACOBI/\n",
        "* PCICC Incomplete Cholesky factorization preconditioners. https://petsc.org/release/manualpages/PC/PCICC/\n",
        "* KSPBICG https://petsc.org/release/manualpages/KSP/KSPBICG/\n",
        "\n",
        "また、AMDがLid_driven_cavity-3Dベンチマークテスト用のDockerやSingularityのイメージを以下で公開していますが、その中での`system/fvSolution`の内容の一部も転載しておきますので、参考にしてください。\n",
        "\n",
        " * AMD OpenFOAM https://www.amd.com/en/technologies/infinity-hub/openfoam\n",
        "\n",
        "```\n",
        "/*--------------------------------*- C++ -*----------------------------------*\\\n",
        "| =========                 |                                                 |\n",
        "| \\\\      /  F ield         | OpenFOAM: The Open Source CFD Toolbox           |\n",
        "|  \\\\    /   O peration     | Version:  v2006                                 |\n",
        "|   \\\\  /    A nd           | Website   www.openfoam.com                      |\n",
        "|    \\\\/     M anipulation  |                                                 |\n",
        "\\*---------------------------------------------------------------------------*/\n",
        "FoamFile\n",
        "{\n",
        "    version     2.0;\n",
        "    format      ascii;\n",
        "    class       dictionary;\n",
        "    object      fvSolution;\n",
        "}\n",
        "// * * * * * * * * * * * * * * * * * * * * * * * * * * * * * * * * * * * * * //\n",
        "\n",
        "solvers\n",
        "{\n",
        "    p\n",
        "    {\n",
        "        solver petsc;\n",
        "\n",
        "        petsc\n",
        "        {\n",
        "            options\n",
        "            {\n",
        "                ksp_type  cg;\n",
        "                ksp_cg_single_reduction  true;\n",
        "                ksp_norm_type none;\n",
        "                //mat_type aijcusparse; // CUSPARSE\n",
        "                //mat_type aijkokkos; // KOKKOS\n",
        "                        mat_type mpiaijhipsparse; // HIPSPARSE\n",
        "\n",
        "                //preconditioner\n",
        "                pc_type gamg;\n",
        "                pc_gamg_type \"agg\"; // smoothed aggregation\n",
        "                pc_gamg_agg_nsmooths \"1\"; // number of smooths for smoothed aggregation (not smoother iterations)\n",
        "                pc_gamg_coarse_eq_limit \"100\";\n",
        "                pc_gamg_reuse_interpolation true;\n",
        "                pc_gamg_aggressive_coarsening \"2\"; //square the graph on the finest N levels\n",
        "                pc_gamg_threshold \"-1\"; // increase to 0.05 if coarse grids get larger\n",
        "                pc_gamg_threshold_scale \"0.5\"; // thresholding on coarse grids\n",
        "                pc_gamg_use_sa_esteig true;\n",
        "\n",
        "                // mg_level config\n",
        "                mg_levels_ksp_max_it \"1\"; // use 2 or 4 if problem is hard (i.e stretched grids)\n",
        "                        mg_levels_esteig_ksp_type cg; //max_it \"1\"; // use 2 or 4 if problem is hard (i.e stretched grids)\n",
        "\n",
        "                // coarse solve (indefinite PC in parallel with 2 cores)\n",
        "                mg_coarse_ksp_type \"gmres\";\n",
        "                mg_coarse_ksp_max_it \"2\";\n",
        "\n",
        "                // smoother (cheby)\n",
        "                mg_levels_ksp_type chebyshev;\n",
        "                mg_levels_ksp_chebyshev_esteig \"0,0.05,0,1.1\";\n",
        "                mg_levels_pc_type \"jacobi\";\n",
        "            }\n",
        "            caching\n",
        "            {\n",
        "                // PISO with 2 correctors\n",
        "                matrix\n",
        "                {\n",
        "                    update periodic;\n",
        "\n",
        "                    periodicCoeffs\n",
        "                    {\n",
        "                        frequency  2;\n",
        "                    }\n",
        "                }\n",
        "                // basically setup the preconditioner once\n",
        "                // and reuse it for 40 consecutive solves\n",
        "                preconditioner\n",
        "                {\n",
        "                    //update always;\n",
        "                    update periodic;\n",
        "\n",
        "                    periodicCoeffs\n",
        "                    {\n",
        "                        frequency  40;\n",
        "                    }\n",
        "                }\n",
        "            }\n",
        "        }\n",
        "        tolerance       1.e-04;\n",
        "        relTol          0;\n",
        "        maxIter         3000;\n",
        "    }\n",
        "\n",
        "    pFinal\n",
        "    {\n",
        "        $p;\n",
        "        relTol          0;\n",
        "    }\n",
        "\n",
        "    U\n",
        "    {\n",
        "        solver petsc;\n",
        "        petsc\n",
        "        {\n",
        "            options\n",
        "            {\n",
        "                ksp_type bcgs;\n",
        "                ksp_norm_type none;\n",
        "                        mat_type mpiaijhipsparse; //other options -aijkokkos, aijcusparse, etc.\n",
        "                pc_type bjacobi;\n",
        "                sub_pc_type ilu;\n",
        "            }\n",
        "            use_petsc_residual_norm true; // we only run 5 iterations, do not use L1 residual test\n",
        "        }\n",
        "        tolerance       0;\n",
        "        relTol          0;\n",
        "        maxIter         5;\n",
        "    }\n",
        "}\n",
        "\n",
        "PISO\n",
        "{\n",
        "    nCorrectors     2;\n",
        "    nNonOrthogonalCorrectors 0;\n",
        "    pRefCell        0;\n",
        "    pRefValue       0;\n",
        "}\n",
        "```\n",
        "\n",
        "さらに、external-solverモジュールのチュートリアルケースの設定ファイルも参考になります。\n",
        "\n",
        "* tutorials https://develop.openfoam.com/modules/external-solver/-/tree/develop/tutorials\n",
        "\n",
        "pipeOneD1ケースの `fvSolution-petsc-gamg-device`に記載されているように、`ksp_view`に\"`::ascii_info\"`を指定すると、線形ソルバの詳細が実行時に表示されるので、設定確認に有用なので、試してみてください。\n",
        "\n",
        "https://develop.openfoam.com/modules/external-solver/-/blob/develop/tutorials/basic/laplacianFoam/pipeOneD/system/fvSolution-petsc-gamg-device\n",
        "```\n",
        "        petsc\n",
        "        {\n",
        "            options\n",
        "            {\n",
        "               //ksp_view \"::ascii_info\"; // uncomment to list details of the solve\n",
        "```"
      ],
      "metadata": {
        "id": "ZthsCVYjYdF1"
      }
    },
    {
      "cell_type": "markdown",
      "metadata": {
        "id": "A8x7GZkdV3mv"
      },
      "source": [
        "### PETScライブラリを用いたGPU併用でのicoFoamソルバのカスタマイズ実行(ケースS-petsc-2)\n",
        "ケースS-petsc-1の線形ソルバの設定をカスタマイズしたケースS-petsc-2を作成し実行します。"
      ]
    },
    {
      "cell_type": "markdown",
      "metadata": {
        "id": "qDx6F4YsV3mw"
      },
      "source": [
        "#### ケースS-petsc-1の線形ソルバの設定コピー\n",
        "\n"
      ]
    },
    {
      "cell_type": "code",
      "execution_count": null,
      "metadata": {
        "id": "q5C417ZsV3mw"
      },
      "outputs": [],
      "source": [
        "!case=S-petsc-2;\\\n",
        "cp system/fvSolution.S-petsc-1 system/fvSolution.$case"
      ]
    },
    {
      "cell_type": "markdown",
      "metadata": {
        "id": "P5OOE8fCDPIA"
      },
      "source": [
        "#### ケースS-petsc-2の線形ソルバの設定変更\n",
        "左のツールバーにおけるフォルダーのマークを押すと、ファイル・ブラウザになりますので、\n",
        "フォルダを辿って、 /content/drive/MyDrive/hpc-training-gpu-2023/hpc/Lid_driven_cavity-3d/S/system/fvSolution.S-petsc-2 まで行ってダブルクリックするか、本ファイルへのリンクをクリックします。\n",
        "\n",
        "すると、右にファイルの編集ウィンドウが表示されるので、適宜編集します。\n",
        "\n",
        "なお、編集後にマウスのフォーカスが編集ウィンドウから外れると、ファイル名が編集されている事を示すアスタリスクが消え、ファイルが保存されます。"
      ]
    },
    {
      "cell_type": "markdown",
      "metadata": {
        "id": "HABLhAaWIqHO"
      },
      "source": [
        "#### PETScライブラリを用いたicoFoamソルバの実行\n",
        "変更した線形ソルバの設定を用いて、`icoFoam`ソルバの実行します。"
      ]
    },
    {
      "cell_type": "code",
      "execution_count": null,
      "metadata": {
        "colab": {
          "base_uri": "https://localhost:8080/"
        },
        "id": "Y1c0BmegIqHP",
        "outputId": "34a8d70a-c459-4fbc-a2c4-528d22ab2175"
      },
      "outputs": [
        {
          "output_type": "stream",
          "name": "stdout",
          "text": [
            "/*---------------------------------------------------------------------------*\\\n",
            "| =========                 |                                                 |\n",
            "| \\\\      /  F ield         | OpenFOAM: The Open Source CFD Toolbox           |\n",
            "|  \\\\    /   O peration     | Version:  2306                                  |\n",
            "|   \\\\  /    A nd           | Website:  www.openfoam.com                      |\n",
            "|    \\\\/     M anipulation  |                                                 |\n",
            "\\*---------------------------------------------------------------------------*/\n",
            "Build  : _fbf00d6b-20230626 OPENFOAM=2306 version=2306\n",
            "Arch   : \"LSB;label=32;scalar=64\"\n",
            "Exec   : icoFoam -lib petscFoam\n",
            "Date   : Sep 08 2023\n",
            "Time   : 02:36:04\n",
            "Host   : fbba81102346\n",
            "PID    : 12370\n",
            "I/O    : uncollated\n",
            "Case   : /content/drive/MyDrive/hpc-training-gpu-2023/hpc/Lid_driven_cavity-3d/S\n",
            "nProcs : 1\n",
            "trapFpe: Floating point exception trapping enabled (FOAM_SIGFPE).\n",
            "fileModificationChecking : Monitoring run-time modified files using timeStampMaster (fileModificationSkew 5, maxFileModificationPolls 20)\n",
            "allowSystemOperations : Allowing user-supplied system call operations\n",
            "\n",
            "// * * * * * * * * * * * * * * * * * * * * * * * * * * * * * * * * * * * * * //\n",
            "Create time\n",
            "\n",
            "Create mesh for time = 0\n",
            "\n",
            "\n",
            "PISO: Operating solver in PISO mode\n",
            "\n",
            "Reading transportProperties\n",
            "\n",
            "Reading field p\n",
            "\n",
            "Reading field U\n",
            "\n",
            "Reading/calculating face flux field phi\n",
            "\n",
            "\n",
            "Starting time loop\n",
            "\n",
            "Time = 0.001\n",
            "\n",
            "Courant Number mean: 0 max: 0\n",
            "DILUPBiCG:  Solving for Ux, Initial residual = 1, Final residual = 0.0395129, No Iterations 5\n",
            "DILUPBiCG:  Solving for Uy:  solution singularity\n",
            "DILUPBiCG:  Solving for Uz:  solution singularity\n",
            "ExecutionTime = 6.39 s  ClockTime = 6 s\n",
            "\n",
            "Initializing PETSc... success\n",
            "ExecutionTime = 6.46 s  ClockTime = 6 s\n",
            "\n",
            "PETSc-cg:  Solving for p, Initial residual = 1, Final residual = 9.94362e-05, No Iterations 2127\n",
            "time step continuity errors : sum local = 5.42225e-08, global = -2.13834e-21, cumulative = -2.13834e-21\n",
            "PETSc-cg:  Solving for p, Initial residual = 0.771014, Final residual = 9.91332e-05, No Iterations 2094\n",
            "time step continuity errors : sum local = 6.89087e-08, global = -2.69251e-22, cumulative = -2.40759e-21\n",
            "ExecutionTime = 25.92 s  ClockTime = 26 s\n",
            "\n",
            "Time = 0.002\n",
            "\n",
            "Courant Number mean: 0.055277 max: 0.807102\n",
            "DILUPBiCG:  Solving for Ux, Initial residual = 0.135435, Final residual = 0.012617, No Iterations 5\n",
            "DILUPBiCG:  Solving for Uy, Initial residual = 0.431439, Final residual = 0.0378801, No Iterations 5\n",
            "DILUPBiCG:  Solving for Uz, Initial residual = 0.989654, Final residual = 0.0739028, No Iterations 5\n",
            "PETSc-cg:  Solving for p, Initial residual = 0.810473, Final residual = 9.77929e-05, No Iterations 2086\n",
            "time step continuity errors : sum local = 1.05592e-07, global = -7.47963e-21, cumulative = -9.88722e-21\n",
            "PETSc-cg:  Solving for p, Initial residual = 0.752376, Final residual = 9.8003e-05, No Iterations 2079\n",
            "time step continuity errors : sum local = 1.07777e-07, global = 7.35539e-21, cumulative = -2.53183e-21\n",
            "ExecutionTime = 45.47 s  ClockTime = 46 s\n",
            "\n",
            "End\n",
            "\n",
            "Finalizing PETSc\n"
          ]
        }
      ],
      "source": [
        "!case=S-petsc-2;\\\n",
        "cp system/fvSolution.$case system/fvSolution;\\\n",
        "source /usr/lib/openfoam/openfoam2306/etc/bashrc;\\\n",
        "eval $(foamEtcFile -sh -config petsc -- -force);\\\n",
        "PETSC_OPTIONS='-use_gpu_aware_mpi 0' icoFoam -lib petscFoam 2>&1 | tee log.icoFoam.$case"
      ]
    },
    {
      "cell_type": "markdown",
      "metadata": {
        "id": "0UTzjjEMV3mx"
      },
      "source": [
        "#### 圧力方程式に対するCG法線形ソルバをPETScライブラリを用いてGPUで実行した場合の加速率\n"
      ]
    },
    {
      "cell_type": "code",
      "execution_count": null,
      "metadata": {
        "colab": {
          "base_uri": "https://localhost:8080/"
        },
        "id": "b2u5kohqV3mx",
        "outputId": "c2cdd888-ab4c-4216-f4b3-f5224a622089"
      },
      "outputs": [
        {
          "output_type": "stream",
          "name": "stdout",
          "text": [
            "Speedup of PETSc CG solver with GPU compared to OpenFOAM CG solver with CPU only:  1.10639\n"
          ]
        }
      ],
      "source": [
        "!case=S-petsc-2;\\\n",
        "awk 'BEGIN {n=0} /ExecutionTime/ {t[n]=$3;n++} END {print \"Speedup of PETSc CG solver with GPU compared to OpenFOAM CG solver with CPU only: \",(t[1]-t[0])/(t[5]-t[4])}' log.icoFoam.cpu log.icoFoam.$case"
      ]
    },
    {
      "cell_type": "markdown",
      "metadata": {
        "id": "7nEb1mZ9I91M"
      },
      "source": [
        "ケースS-petsc-1に比べて高速化されましたでしょうか?\n",
        "\n",
        "S-petsc-2と同様に他の設定も検討してみてください。\n",
        "\n",
        "なお、セルは複数コピーできますので、「PETScライブラリを用いたGPU併用でのicoFoamソルバのカスタマイズ実行(ケースS-petsc-2)」のセクションを折りたたんだ上でセルをコピー&ペーストすると、他のケースを検討しやすいと思います。"
      ]
    },
    {
      "cell_type": "markdown",
      "metadata": {
        "id": "riDMppipgs4Q"
      },
      "source": [
        "## その他の参考文献\n",
        "\n",
        "* Simone Bnà, Ivan Spissoa, Mark Olesenb, Giacomo Rossic : A Library to plug-in PETSc into the OpenFOAM Framework https://prace-ri.eu/wp-content/uploads/WP294-PETSc4FOAM-A-Library-to-plug-in-PETSc-into-the-OpenFOAM-Framework.pdf\n",
        "* OpenFOAM Conference - High Performance Computing https://www.esi-group.com/openfoam-conference/openfoam-tracks/openfoam-conference-high-performance-computing\n",
        "* How to use Valgrind to profile OpenFOAM solvers https://solution.esi.co.jp/openfoam/blog/how-to-use-valgrind-to-profile-openfoam-solvers\n",
        "* GPU Support in PETSc 3.10\n",
        " https://www.mcs.anl.gov/~oanam/NASA2019/GPUslides.pdf\n",
        "* cuSPARSE Library https://docs.nvidia.com/cuda/archive/10.1/pdf/CUSPARSE_Library.pdf\n",
        "* Question about petsc4Foam performance https://develop.openfoam.com/modules/external-solver/-/issues/18\n",
        "* Stefano Zampini : The Portable Extensible Toolkit for Scientific Computing Overview and ECRC success stories https://www.hpc.kaust.edu.sa/sites/default/files/files/public/Shaheen_training/NLHPC_2020/PETSc_Zampini2020.pdf\n",
        "* PETSC gives a slowdown instead of speedup (GAMG) https://www.cfd-online.com/Forums/openfoam-programming-development/234081-petsc-gives-slowdown-instead-speedup-gamg.html\n",
        "* AMGX GPU SOLVER DEVELOPMENTS FOR OPENFOAM https://wiki.openfoam.com/images/a/a4/OpenFOAM_2020_NVIDIA_Martineau.pdf\n",
        "* Missing header file for amgxwrapper https://develop.openfoam.com/modules/external-solver/-/issues/25\n",
        "* OpenCL porting? #46 https://github.com/SimFlowCFD/RapidCFD-dev/issues/46\n",
        "* 今野 雅 : Wisteria/BDEC-01および「不老」でのOpenFOAM/RapidCFDベンチマークテスト, 第85回オープンCAE勉強会@関西 https://gitlab.com/masaz/OpenCAEWorkshop/-/raw/master/OpenCAEWorkshopAtKansai20210627/doc/OpenCAEWorkshopAtKansai20210627.pdf?inline=false\n"
      ]
    },
    {
      "cell_type": "markdown",
      "metadata": {
        "id": "e_7mdTh0MVuN"
      },
      "source": [
        "**以上で、「その2 GPU編」のノートブックは終了です。**"
      ]
    }
  ],
  "metadata": {
    "accelerator": "GPU",
    "colab": {
      "collapsed_sections": [
        "RnpkIrBMbAHw"
      ],
      "provenance": [],
      "include_colab_link": true
    },
    "kernelspec": {
      "display_name": "Python 3",
      "name": "python3"
    },
    "language_info": {
      "name": "python"
    }
  },
  "nbformat": 4,
  "nbformat_minor": 0
}
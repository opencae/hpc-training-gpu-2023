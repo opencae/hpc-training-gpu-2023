{
  "cells": [
    {
      "cell_type": "markdown",
      "metadata": {
        "id": "view-in-github",
        "colab_type": "text"
      },
      "source": [
        "<a href=\"https://colab.research.google.com/github/opencae/hpc-training-gpu-2023/blob/main/2_hpc_tc_cavity_benchmark_gpu.ipynb\" target=\"_parent\"><img src=\"https://colab.research.google.com/assets/colab-badge.svg\" alt=\"Open In Colab\"/></a>"
      ]
    },
    {
      "cell_type": "markdown",
      "metadata": {
        "id": "4WRQIAaEOw9b"
      },
      "source": [
        "# 「Google ColaboratoryのCPU・GPUを用いた3次元キャビティ・ベンチマークテスト実行」(演習) 「その2 GPU編」\n",
        "\n",
        "オープンCAE学会 OpenFOAM GPUトレーニング2023 実行委員会 https://opencae.gitlab.io/web/page/training/opencae_hpc_training_gpu_2023/"
      ]
    },
    {
      "cell_type": "markdown",
      "metadata": {
        "id": "o0GL6UPQvDhP"
      },
      "source": [
        "## セルの実行と移動(再掲)\n",
        "セルのコードを実行するには、セルをクリックして選択し、コードの左側にある実行ボタンをクリックします。\n",
        "\n",
        "実行ボタンにマウスカーソルが乗ると表示されるように、「Commandキー+Enterキー」または「Ctrlキー+Enterキー」のキーボードショートカットによっても実行できます。\n",
        "\n",
        "さらに、「Shiftキー+Enterキー」のキーボードショートカットによって、 セルのコードを実行(テキストの場合はフォーカス)した後に、次のセルに移動しますので、「Shiftキー+Enterキー」によって、効率的にノートブックの閲覧と実行を進めることができます。"
      ]
    },
    {
      "cell_type": "markdown",
      "metadata": {
        "id": "RbkMSM27vWY_"
      },
      "source": [
        "## ハードウェア・アクセラレータとしてGPUを使用する設定\n",
        "**再接続などで、既にGPU(T4)に接続されている場合には本設定は不要です。**\n",
        "\n",
        "以下のようにして、ハードウェア・アクセラレータとしてGPUを使用する設定を行ないます。\n",
        " * メニュー→ランタイム→ランタイムのタイプを変更→ハードウェア アクセラレータ→T4 GPU→保存\n",
        "\n",
        "万が一、Colabのリソース制限により「GPUバックエンドに接続できません」というメッセージが出た場合には、有料プランを契約するか、制限が解除された後で自習をお願いします。\n",
        "\n",
        "* GPUバックエンドに接続できませんが出たのでColab Proに課金した話 https://misoji-engineer.com/archives/gpu-colab-pro.html"
      ]
    },
    {
      "cell_type": "markdown",
      "metadata": {
        "id": "PXPyqDPOE0FW"
      },
      "source": [
        "## リソースの確認"
      ]
    },
    {
      "cell_type": "markdown",
      "metadata": {
        "id": "SnrCXR3bE_1Z"
      },
      "source": [
        "### GPUの確認\n",
        "`nvidia-smi`(NVIDIA System Management Interface program)を用いて、\n",
        "GPUの状況を確認することができます。\n",
        "\n",
        "* watch nvidia-smiでGPU使用率などを確認・リアルタイムモニタリング https://note.nkmk.me/nvidia-smi-monitoring-gpu/\n",
        "* nvidia-smi で GPU の使用状況を確認する方法 https://pystyle.info/nvidia-smi-usage/\n",
        "* nvidia-smiの公式ドキュメント https://developer.download.nvidia.com/compute/DCGM/docs/nvidia-smi-367.38.pdf"
      ]
    },
    {
      "cell_type": "markdown",
      "metadata": {
        "id": "n-yyelqvpemR"
      },
      "source": [
        "#### GPUの状況確認"
      ]
    },
    {
      "cell_type": "markdown",
      "metadata": {
        "id": "ZAuDEMQUwBHf"
      },
      "source": [
        "まずは`nvidia-smi`のヘルプを表示します。"
      ]
    },
    {
      "cell_type": "code",
      "execution_count": null,
      "metadata": {
        "id": "yEzPMsSOEzpN"
      },
      "outputs": [],
      "source": [
        "!nvidia-smi -h"
      ]
    },
    {
      "cell_type": "markdown",
      "metadata": {
        "id": "TNjubFHGwRYr"
      },
      "source": [
        "引数無しで実行すると、システムに接続されているGPUの概要が表示されます。"
      ]
    },
    {
      "cell_type": "code",
      "execution_count": null,
      "metadata": {
        "id": "XRezJkQHuh6t"
      },
      "outputs": [],
      "source": [
        "!nvidia-smi"
      ]
    },
    {
      "cell_type": "markdown",
      "metadata": {
        "id": "lcATPwEqwlMI"
      },
      "source": [
        "上記は表形式なので、環境によっては表示が崩れて見にくいので、`-q`オプションを付けてGPUなどの情報を行形式で表示します。"
      ]
    },
    {
      "cell_type": "code",
      "execution_count": null,
      "metadata": {
        "id": "PeNfQU3nuaL7"
      },
      "outputs": [],
      "source": [
        "!nvidia-smi -q"
      ]
    },
    {
      "cell_type": "markdown",
      "metadata": {
        "id": "0gJwBZf3p4c9"
      },
      "source": [
        "#### システム内のGPU数"
      ]
    },
    {
      "cell_type": "code",
      "execution_count": null,
      "metadata": {
        "id": "QZ99vAlMiSwH"
      },
      "outputs": [],
      "source": [
        "!nvidia-smi --format=csv --query-gpu=count"
      ]
    },
    {
      "cell_type": "markdown",
      "metadata": {
        "id": "N_xPITJ5qDHA"
      },
      "source": [
        "#### GPUの公式な製品名"
      ]
    },
    {
      "cell_type": "code",
      "execution_count": null,
      "metadata": {
        "id": "6q3USUnvod2N"
      },
      "outputs": [],
      "source": [
        "!nvidia-smi --format=csv --query-gpu=name"
      ]
    },
    {
      "cell_type": "markdown",
      "metadata": {
        "id": "k3dcNHAdqHLK"
      },
      "source": [
        "#### 搭載されているGPUメモリの合計"
      ]
    },
    {
      "cell_type": "code",
      "execution_count": null,
      "metadata": {
        "id": "kO-suHQRo1Dp"
      },
      "outputs": [],
      "source": [
        "!nvidia-smi --format=csv --query-gpu=memory.total"
      ]
    },
    {
      "cell_type": "markdown",
      "metadata": {
        "id": "0auXjfawqQAj"
      },
      "source": [
        "#### プロパティ一覧の表示"
      ]
    },
    {
      "cell_type": "code",
      "execution_count": null,
      "metadata": {
        "id": "daViBoMMpUIM"
      },
      "outputs": [],
      "source": [
        "!nvidia-smi --help-query-gpu"
      ]
    },
    {
      "cell_type": "markdown",
      "metadata": {
        "id": "xF_p-zDN51Un"
      },
      "source": [
        "### ソフトウェア"
      ]
    },
    {
      "cell_type": "markdown",
      "metadata": {
        "id": "KSn4DZY79FQH"
      },
      "source": [
        "#### 標準でインストールされているCUDAコンパイラのバージョン確認"
      ]
    },
    {
      "cell_type": "code",
      "execution_count": null,
      "metadata": {
        "id": "GU9C6RjlyFzS"
      },
      "outputs": [],
      "source": [
        "!nvcc -V"
      ]
    },
    {
      "cell_type": "markdown",
      "metadata": {
        "id": "E3zgFzp54Kss"
      },
      "source": [
        "#### 標準でインストールされているOpenMPIライブラリ\n",
        "\n",
        "OpenMPIのインストール状況はompi_infoコマンドによって調べることができます。\n",
        "\n",
        "* ompi_info(1) man page https://www.open-mpi.org/doc/current/man1/ompi_info.1.php\n",
        "\n",
        "ompi_infoは多くの情報を出力しますが、-Vオプションでバージョンを表示します。"
      ]
    },
    {
      "cell_type": "code",
      "execution_count": null,
      "metadata": {
        "id": "gbuxkrF_5LV5"
      },
      "outputs": [],
      "source": [
        "!ompi_info -V"
      ]
    },
    {
      "cell_type": "markdown",
      "metadata": {
        "id": "C3kNXU4i59kX"
      },
      "source": [
        "MPIライブラリが直接、GPUバッファへのsend/receiveを行うことができる機能であるCUDA-aware supportが有効化されているかは、以下のコマンドにより確認することができます。\n",
        "\n",
        "* FAQ: Running CUDA-aware Open MPI https://www.open-mpi.org/faq/?category=runcuda#mpi-cuda-support"
      ]
    },
    {
      "cell_type": "code",
      "execution_count": null,
      "metadata": {
        "id": "L5zCFI-ILjEl"
      },
      "outputs": [],
      "source": [
        "!ompi_info --parsable --all | grep mpi_built_with_cuda_support:value"
      ]
    },
    {
      "cell_type": "markdown",
      "metadata": {
        "id": "RoVK9hq164wl"
      },
      "source": [
        "値が`false`となっているので、インストールされているOpenMPIは、CUDA-aware supportが有効化されていません。"
      ]
    },
    {
      "cell_type": "markdown",
      "metadata": {
        "id": "CTSAnDKE-Nj4"
      },
      "source": [
        "## Google ドライブをマウントする"
      ]
    },
    {
      "cell_type": "markdown",
      "metadata": {
        "id": "XL9v9tdZCspt"
      },
      "source": [
        "以下にGoogle ドライブをマウントする方法を示します。\n",
        "Google のアカウントが必要になりますので、予め作成しておいてください。"
      ]
    },
    {
      "cell_type": "markdown",
      "metadata": {
        "id": "v4fZmx-V__zb"
      },
      "source": [
        "Google ドライブをマウントには、下記のセルのコードを実行してください。\n"
      ]
    },
    {
      "cell_type": "code",
      "execution_count": null,
      "metadata": {
        "id": "t97HShIV-jme"
      },
      "outputs": [],
      "source": [
        "from google.colab import drive\n",
        "drive.mount('/content/drive')"
      ]
    },
    {
      "cell_type": "markdown",
      "metadata": {
        "id": "Q7H4-gEWAKD3"
      },
      "source": [
        "既にマウント済みでない場合には、下記のようなメッセージが出ると思いますので、**Googleドライブに接続**を選択します。\n",
        "\n",
        "---\n",
        "\n",
        "**このノートブックに Google ドライブのファイルへのアクセスを許可しますか？**\n",
        "\n",
        "このノートブックは Google ドライブ ファイルへのアクセスをリクエストしています。Google ドライブへのアクセスを許可すると、ノートブックで実行されたコードに対し、Google ドライブ内のファイルの変更を許可することになります。このアクセスを許可する前に、ノートブック コードをご確認ください。\n",
        "\n",
        "スキップ  **Googleドライブに接続**\n",
        "\n",
        "---\n"
      ]
    },
    {
      "cell_type": "markdown",
      "metadata": {
        "id": "QAbvoTBhDZIQ"
      },
      "source": [
        "その後、アカウントの選択を求められた場合には、使用する**Googleアカウントを選択**します。"
      ]
    },
    {
      "cell_type": "markdown",
      "metadata": {
        "id": "y6FGb3a-DdpU"
      },
      "source": [
        "さらに、Googleアカウントへのアクセスをリクエストされた場合には、適宜**許可**します。"
      ]
    },
    {
      "cell_type": "markdown",
      "metadata": {
        "id": "uqoOKoOgBDca"
      },
      "source": [
        "上記のようなgoogle の認証手順を踏んでGoogleドライブのマウントに成功すると、'Mounted at /content/drive'と出力され、Googleドライブが /content/drive/MyDrive にマウントされますので、以下を実行して、マウントされたディレクトリを表示してください。"
      ]
    },
    {
      "cell_type": "code",
      "execution_count": null,
      "metadata": {
        "id": "aJnilTC3H4Br"
      },
      "outputs": [],
      "source": [
        "!ls /content/drive"
      ]
    },
    {
      "cell_type": "markdown",
      "metadata": {
        "id": "-F2kN4zIIQH0"
      },
      "source": [
        "'MyDrive/'と表示されれば問題ありません。\n",
        "（'MyDriver/' だけではなく、 'Othercomputers/' などもあわせて表示される可能性があります。）"
      ]
    },
    {
      "cell_type": "markdown",
      "metadata": {
        "id": "LBfmh05tZ_L3"
      },
      "source": [
        "## OpenFOAM-v2306およびのインストールPETScライブラリ、external-solverモジュール\n",
        "OpenFOAM-v2306のコンパイル済みのUbuntu向けパッケージと、前にビルドしたインストールPETScライブラリ、external-solverモジュールをインストールします。\n",
        "\n",
        "なお、PETScのライブラリやexternal-solverモジュールのビルドは不要なので、ソースコードやビルドツールのパッケージのインストールも不要です。"
      ]
    },
    {
      "cell_type": "markdown",
      "metadata": {
        "id": "6KpLf5QJctCF"
      },
      "source": [
        "### OepnFOAM-v2306の最小版パッケージのインストール"
      ]
    },
    {
      "cell_type": "code",
      "execution_count": null,
      "metadata": {
        "id": "K35aBXy7Z7v0"
      },
      "outputs": [],
      "source": [
        "!curl https://dl.openfoam.com/add-debian-repo.sh | bash;\\\n",
        "apt-get install openfoam2306"
      ]
    },
    {
      "cell_type": "markdown",
      "metadata": {
        "id": "vYaopiuLcayU"
      },
      "source": [
        "### Googleドライブへ保存したPETScライブラリおよびexternal-solverモジュールの解凍"
      ]
    },
    {
      "cell_type": "markdown",
      "metadata": {
        "id": "D-YQDXDWcayV"
      },
      "source": [
        "OpenFOAMのトップディレクトリに移動します。"
      ]
    },
    {
      "cell_type": "code",
      "execution_count": null,
      "metadata": {
        "id": "pUXahYnHcayV"
      },
      "outputs": [],
      "source": [
        "%cd /usr/lib/openfoam/openfoam2306"
      ]
    },
    {
      "cell_type": "markdown",
      "metadata": {
        "id": "TXkvCsyT9jHC"
      },
      "source": [
        "ダミーファイルのThirdPartyを削除します。"
      ]
    },
    {
      "cell_type": "code",
      "execution_count": null,
      "metadata": {
        "id": "mXJ8-Edun3xR"
      },
      "outputs": [],
      "source": [
        "!rm ThirdParty"
      ]
    },
    {
      "cell_type": "markdown",
      "metadata": {
        "id": "pRPn1ZW5cayV"
      },
      "source": [
        "Googleドライブに保存したPETScライブラリとexternal-solverモジュールのライブラリのアーカイブファイルを展開します。"
      ]
    },
    {
      "cell_type": "code",
      "execution_count": null,
      "metadata": {
        "id": "9Di_jAQacayV"
      },
      "outputs": [],
      "source": [
        "!tar xf /content/drive//MyDrive/hpc-training-gpu-2023/petsc.tar.xz"
      ]
    },
    {
      "cell_type": "markdown",
      "metadata": {
        "id": "eBAQrTZMU-75"
      },
      "source": [
        "##  RapidCFDのアーカイブ・ファイルのダウンロード\n",
        "ColabのようにCPUの物理コア数が1、論理コア数が2つの環境でRapidCFDをビルドすると、数時間かかります。\n",
        "\n",
        "そこで、ここではビルド済みのランタイムを含んだアーカイブファイルを、本トレーニング用の共有Googleドライブ( https://drive.google.com/drive/folders/16rZRqhRVnoEd91D-Onl_CjDtnT9dJtgk )に置きましたので、ここからダウンロードして、展開します。\n",
        "\n"
      ]
    },
    {
      "cell_type": "markdown",
      "metadata": {
        "id": "0776wFN1l_GR"
      },
      "source": [
        "### 共通ファイルと倍精度版バイナリのアーカイブ・ファイルのダウンロード\n",
        "**各自のGoogleドライブにダウンロードするので、本ダウンロードは一度だけ行えば良いです。**"
      ]
    },
    {
      "cell_type": "code",
      "execution_count": null,
      "metadata": {
        "id": "4KZA9guU99Hg"
      },
      "outputs": [],
      "source": [
        "!wget --no-check-certificate 'https://drive.google.com/uc?export=download&id=1FIsejnVv7pLNwz42tDMGmR0cckN0r7Ee' -O /content/drive/MyDrive/hpc-training-gpu-2023/RapidCFD-dev.tar.xz"
      ]
    },
    {
      "cell_type": "markdown",
      "metadata": {
        "id": "bXuJjnDfmOcR"
      },
      "source": [
        "### 単精度版バイナリのアーカイブ・ファイルのダウンロード\n",
        "**各自のGoogleドライブにダウンロードするので、本ダウンロードは一度だけ行えば良いです。**"
      ]
    },
    {
      "cell_type": "code",
      "execution_count": null,
      "metadata": {
        "id": "j2Sk1ThFXycd"
      },
      "outputs": [],
      "source": [
        "!wget --no-check-certificate 'https://drive.google.com/uc?export=download&id=1Vo3WXYkl2B3eR8TLhvlwzT9YNii0l8aO' -O /content/drive/MyDrive/hpc-training-gpu-2023/RapidCFD-dev_linux64NvccSPOpt.tar.xz"
      ]
    },
    {
      "cell_type": "markdown",
      "metadata": {
        "id": "K8UHUovRriRL"
      },
      "source": [
        "## RapidCFDのアーカイブ・ファイルの展開"
      ]
    },
    {
      "cell_type": "markdown",
      "metadata": {
        "id": "CxrGhBqGruSd"
      },
      "source": [
        "### ホームディレクトリへの移動"
      ]
    },
    {
      "cell_type": "code",
      "execution_count": null,
      "metadata": {
        "id": "8oSd8IxC9Znu"
      },
      "outputs": [],
      "source": [
        "%cd"
      ]
    },
    {
      "cell_type": "markdown",
      "metadata": {
        "id": "u9G1ijasr2vJ"
      },
      "source": [
        "### RapidCFDディレクトリの作成"
      ]
    },
    {
      "cell_type": "code",
      "execution_count": null,
      "metadata": {
        "id": "2L8lEAE09oqu"
      },
      "outputs": [],
      "source": [
        "!mkdir RapidCFD"
      ]
    },
    {
      "cell_type": "markdown",
      "metadata": {
        "id": "3Ie6oSWOlQFJ"
      },
      "source": [
        "### RapidCFDディレクトリへの移動"
      ]
    },
    {
      "cell_type": "code",
      "execution_count": null,
      "metadata": {
        "id": "O7-VUJBZ97nP"
      },
      "outputs": [],
      "source": [
        "%cd RapidCFD"
      ]
    },
    {
      "cell_type": "markdown",
      "metadata": {
        "id": "dk5Zeg5ssbVD"
      },
      "source": [
        "### RapidCFDのアーカイブ・ファイルの展開"
      ]
    },
    {
      "cell_type": "code",
      "execution_count": null,
      "metadata": {
        "id": "JDZD8uEPYe-h"
      },
      "outputs": [],
      "source": [
        "!tar xf /content/drive/MyDrive/hpc-training-gpu-2023/RapidCFD-dev.tar.xz"
      ]
    },
    {
      "cell_type": "markdown",
      "metadata": {
        "id": "4vSfWb43YUK1"
      },
      "source": [
        "### 単精度版バイナリのアーカイブ・ファイルの展開"
      ]
    },
    {
      "cell_type": "code",
      "execution_count": null,
      "metadata": {
        "id": "s2XNNLRK_oaP"
      },
      "outputs": [],
      "source": [
        "!tar xf /content/drive/MyDrive/hpc-training-gpu-2023/RapidCFD-dev_linux64NvccSPOpt.tar.xz"
      ]
    },
    {
      "cell_type": "markdown",
      "metadata": {
        "id": "tnIJPAHBtWdA"
      },
      "source": [
        "### 倍精度版icoFoamソルバの動作テスト\n"
      ]
    },
    {
      "cell_type": "code",
      "execution_count": null,
      "metadata": {
        "id": "wy7I5Vx1szGu"
      },
      "outputs": [],
      "source": [
        "!source /root/RapidCFD/RapidCFD-dev/etc/bashrc;\\\n",
        "icoFoam -help"
      ]
    },
    {
      "cell_type": "markdown",
      "metadata": {
        "id": "pN0EkdQAzuqE"
      },
      "source": [
        "icoFoamのヘルプ(Usage)が出力されることを確認してください。\n",
        "\n",
        "標準のOpenFOAMの`icoFoam`と異なり、`-device`や`-devices` オプションがありますが、これは使用するGPUのIDを指定するオプションです。\n",
        "\n",
        "今回ラインタイムのGPUは1つなので、これらのオプションは指定しません。"
      ]
    },
    {
      "cell_type": "markdown",
      "metadata": {
        "id": "filiWFnMYzpt"
      },
      "source": [
        "### 単精度版icoFoamソルバの動作テスト\n",
        "単精度版のRapidCFDのソルバを動作させるには、環境設定時に`WM_PRECISION_OPTION=SP`を指定します。\n",
        "\n",
        "もちろん、 /root/RapidCFD/RapidCFD-dev/etc/bashrc における `WM_PRECISION_OPTION`の設定行を直接変更しても良いのですが、普段使用しない設定については、環境設定時に直接変数を指定するほうが便利です。"
      ]
    },
    {
      "cell_type": "code",
      "execution_count": null,
      "metadata": {
        "id": "H7s9Xo50ZMBE"
      },
      "outputs": [],
      "source": [
        "!source /root/RapidCFD/RapidCFD-dev/etc/bashrc WM_PRECISION_OPTION=SP;\\\n",
        "icoFoam -help"
      ]
    },
    {
      "cell_type": "markdown",
      "metadata": {
        "id": "mJOE6lEJz9qr"
      },
      "source": [
        "icoFoamのヘルプ(Usage)が出力されることを確認してください。"
      ]
    },
    {
      "cell_type": "markdown",
      "metadata": {
        "id": "s0kino5RARUH"
      },
      "source": [
        "## キャビティベンチマークケースSの実行\n"
      ]
    },
    {
      "cell_type": "markdown",
      "metadata": {
        "id": "TXFQiy4GAXJ0"
      },
      "source": [
        "### ケースディレクトリへの移動"
      ]
    },
    {
      "cell_type": "code",
      "execution_count": null,
      "metadata": {
        "id": "-FvsviQeAaPw"
      },
      "outputs": [],
      "source": [
        "%cd /content/drive/MyDrive/hpc-training-gpu-2023/hpc/Lid_driven_cavity-3d/S"
      ]
    },
    {
      "cell_type": "markdown",
      "metadata": {
        "id": "6yIe8NtHCkIp"
      },
      "source": [
        "### GPUでのRapidCFD版icoFoamソルバの実行(ケースS-RapidCFD)\n"
      ]
    },
    {
      "cell_type": "markdown",
      "metadata": {
        "id": "ZL5lX0VVAd9B"
      },
      "source": [
        "#### ケースファイル修正\n",
        " HPC TC委員会のベンチマークテストはOpenFOAM-v2006以降の新しいバージョン用であり、OpenFOAM-2.3.1をGPU向けに移植したRapicCFDでは実行できないので、ここではRapidCFDでも実行できるように設定を変更します。\n",
        "\n",
        "また、短時間で実行できるように、2ステップのみ実行するように変更します。\n",
        "\n",
        "なお、本ランタイムの再接続時など、既に設定が変更されている場合に備え、`git checkout`でオリジナルのファイルをチェックアウトしてから変更します。"
      ]
    },
    {
      "cell_type": "code",
      "execution_count": null,
      "metadata": {
        "id": "Zqk7O8ffAhlS"
      },
      "outputs": [],
      "source": [
        "!case=S-RapidCFD;\\\n",
        "git checkout system/controlDict system/fvSchemes constant/transportProperties;\\\n",
        "sed -i -e 's|^\\( *#includeFunc\\)|//\\1|' -e 's|\\(endTime \\).*|\\1 0.002;|' system/controlDict;\\\n",
        "echo 'fluxRequired {default no;p;}' >> system/fvSchemes;\\\n",
        "sed -i s/'^\\(nu\\s*\\[\\)'/'nu \\1'/ constant/transportProperties;\\\n",
        "sed s/PBiCGStab/PBiCG/ system/fvSolution.fixedNORM > system/fvSolution.$case;\\\n",
        "tail -n+1 constant/transportProperties system/{controlDict,fvSchemes,fvSolution.$case}"
      ]
    },
    {
      "cell_type": "markdown",
      "metadata": {
        "id": "gKAYXJnzXWT7"
      },
      "source": [
        "#### 倍精度版icoFoamソルバの実行"
      ]
    },
    {
      "cell_type": "code",
      "execution_count": null,
      "metadata": {
        "id": "u2xcM46uCmXY"
      },
      "outputs": [],
      "source": [
        "!case=S-RapidCFD;\\\n",
        "cp system/fvSolution.$case system/fvSolution;\\\n",
        "source /root/RapidCFD/RapidCFD-dev/etc/bashrc;\\\n",
        "time icoFoam 2>&1 | tee log.icoFoam.$case"
      ]
    },
    {
      "cell_type": "markdown",
      "metadata": {
        "id": "rNNYbGh3EL7k"
      },
      "source": [
        "線形ソルバの前処理として、速度に対してはDILU(Diagonal-based Incomplete Lower-Upper)分解法が、圧力に対してはDIC(Diagonal-based Incomplete Cholesky)分解法が指定されているのにもかかわらず、 RapidCFDのソルバでのログでは、そのどちらもAINVになっていますが、これはRapidCFDがDILUやDICを実装しておらず、GPUでの実装が容易な前処理であるAINV(Approximate INVerse)法を強制的に用いるからです。\n",
        "* DILU preconditioner https://www.openfoam.com/documentation/guides/latest/doc/guide-solvers-cg-preconditioner-dilu.html\n",
        "\n",
        "* DIC preconditioner https://www.openfoam.com/documentation/guides/latest/doc/guide-solvers-cg-preconditioner-dic.html\n",
        "\n",
        "* Labutin, Ilya B and Surodina, Irina V: Algorithm for Sparse Approximate Inverse Preconditioners in the Conjugate Gradient Method, Reliable Computing, vol.19, 2013 https://hgpu.org/?p=11066\n",
        "\n",
        "* RapidCFD-dev/src/OpenFOAM/matrices/lduMatrix/preconditioners/DILUPreconditioner/DILUPreconditioner.C https://github.com/SimFlowCFD/RapidCFD-dev/blob/9fc614f4e816c51e5a718a1349cea9d72864042e/src/OpenFOAM/matrices/lduMatrix/preconditioners/DILUPreconditioner/DILUPreconditioner.C\n",
        "  * *`Info<<\"Using AINV preconditioner instead of DILU.\"<<endl;`*\n",
        "\n",
        "* RapidCFD-dev/src/OpenFOAM/matrices/lduMatrix/preconditioners/DICPreconditioner/DICPreconditioner.C https://github.com/SimFlowCFD/RapidCFD-dev/blob/9fc614f4e816c51e5a718a1349cea9d72864042e/src/OpenFOAM/matrices/lduMatrix/preconditioners/DICPreconditioner/DICPreconditioner.C\n",
        "  * *`Info<<\"Using AINV preconditioner instead of DIC.\"<<endl;`*"
      ]
    },
    {
      "cell_type": "markdown",
      "metadata": {
        "id": "I6uA1JVsPjb6"
      },
      "source": [
        "#### 単精度版icoFoamソルバの実行\n"
      ]
    },
    {
      "cell_type": "code",
      "execution_count": null,
      "metadata": {
        "id": "ymJAQio6PjcJ"
      },
      "outputs": [],
      "source": [
        "!case=S-RapidCFD;\\\n",
        "cp system/fvSolution.$case system/fvSolution;\\\n",
        "source /root/RapidCFD/RapidCFD-dev/etc/bashrc WM_PRECISION_OPTION=SP;\\\n",
        "time icoFoam 2>&1 | tee log.icoFoam.$case.SP"
      ]
    },
    {
      "cell_type": "markdown",
      "metadata": {
        "id": "U7H4hOLuTENU"
      },
      "source": [
        "#### 倍精度版ソルバに対する単精度版ソルバの加速率\n"
      ]
    },
    {
      "cell_type": "code",
      "execution_count": null,
      "metadata": {
        "id": "uOKuhTZpTENi"
      },
      "outputs": [],
      "source": [
        "!case=S-RapidCFD;\\\n",
        "awk 'BEGIN {n=0} /ExecutionTime/ {t[n]=$3;n++} END {print \"Speedup of single-precision solver compared to double-precision solver: \",(t[1]-t[0])/(t[3]-t[2])}' log.icoFoam.$case log.icoFoam.$case.SP"
      ]
    },
    {
      "cell_type": "markdown",
      "metadata": {
        "id": "265iJ3UzUECL"
      },
      "source": [
        "単精度は倍精度に比べて、線形ソルバの収束性が一般的に悪化するので、反復回数が大きく増えて実行時間が遅くなる場合もありますが、線形ソルバの反復回数が同程度の場合には、単精度のほうが通常実行が速くなります。\n",
        "\n",
        "ただし、CPUでは倍精度版ソルバを用いているので、以降では倍精度版の実行時間を解析します。"
      ]
    },
    {
      "cell_type": "markdown",
      "metadata": {
        "id": "KkiB_70E0iQr"
      },
      "source": [
        "#### 倍精度版での毎ステップの実行時間"
      ]
    },
    {
      "cell_type": "code",
      "execution_count": null,
      "metadata": {
        "id": "udEOpitXCrHy"
      },
      "outputs": [],
      "source": [
        "!case=S-RapidCFD;\\\n",
        "grep ExecutionTime log.icoFoam.$case"
      ]
    },
    {
      "cell_type": "markdown",
      "metadata": {
        "id": "QxtaFBCJ0wZX"
      },
      "source": [
        "#### 倍精度版での1ステップの実行時間"
      ]
    },
    {
      "cell_type": "code",
      "execution_count": null,
      "metadata": {
        "id": "euj7LMNdC4wc"
      },
      "outputs": [],
      "source": [
        "!case=S-RapidCFD;\\\n",
        "awk 'BEGIN {n=0} /ExecutionTime/ {t[n]=$3;n++} END {print \"Execution time for one timestep: \",t[1]-t[0]}' log.icoFoam.$case"
      ]
    },
    {
      "cell_type": "markdown",
      "metadata": {
        "id": "290NbtDU1PIB"
      },
      "source": [
        "#### CPUのみを用いるOpenFOAM版icoFoamに対するGPUを併用するRapidCFD版icoFoamの加速率\n",
        "なお、以下を実行するには、予めOpenFOAM版icoFoamを実行して、ログファイルlog.icoFoam.S-cpuが保存されている必要があります。"
      ]
    },
    {
      "cell_type": "code",
      "execution_count": null,
      "metadata": {
        "id": "yaWnlKzhDAtW"
      },
      "outputs": [],
      "source": [
        "!case=S-RapidCFD;\\\n",
        "awk 'BEGIN {n=0} /ExecutionTime/ {t[n]=$3;n++} END {print \"Speedup of RapidCFD version icoFoam with GPU compared to OpenFOAM version icoFoam with CPU only: \",(t[1]-t[0])/(t[3]-t[2])}' log.icoFoam.S-cpu log.icoFoam.$case"
      ]
    },
    {
      "cell_type": "markdown",
      "metadata": {
        "id": "Ifpo1xqmW95-"
      },
      "source": [
        "加速率は約16となりました**(加速率は割当てられたCPUやGPUによって異なります)**。"
      ]
    },
    {
      "cell_type": "markdown",
      "metadata": {
        "id": "P3auWke8F003"
      },
      "source": [
        "#### GPUでのRapidCFD版icoFoamソルバのプロファイリング\n",
        "時間がかかっているホットスポットを割り出すために、プロファイラ経由でソルバを実行します。\n",
        "なお、新しいプロファイラであるnSightは標準ではインストールされていないので、\n",
        "標準でインストールされているレガシーなプロファイラである`nvprof`を用います。\n",
        "\n",
        "* Profiler User’s Guide https://docs.nvidia.com/cuda/profiler-users-guide/index.html\n",
        "* NVIDIA Nsight Systems user guide. https://docs.nvidia.com/nsight-systems/UserGuide/index.html\n",
        "* CUDAプログラミングをGoogle Colabで行う。 https://qiita.com/sakaia/items/3082752b5cfcc19537eb"
      ]
    },
    {
      "cell_type": "code",
      "execution_count": null,
      "metadata": {
        "id": "am0st4oTF4yA"
      },
      "outputs": [],
      "source": [
        "!case=S-RapidCFD;\\\n",
        "source /root/RapidCFD/RapidCFD-dev/etc/bashrc;\\\n",
        "time nvprof icoFoam 2>&1 | tee log.icoFoam.$case.nvprof"
      ]
    },
    {
      "cell_type": "markdown",
      "metadata": {
        "id": "s_kS9RFiCiL3"
      },
      "source": [
        "RapidCFDはThrustライブラリによるGPU実装なので、関数名が大変複雑となっていますが、`GPU activities:`から始まるホットスポットの行における`Name`から、`Foam::`で始まる本来のOpenFOAMの関数名を抜きだすと、主要なホットスポットは、`Foam::matrixMultiplyFunctor`と`Foam::AINVPreconditionerFunctor`であり、計算時間の割合は共に約30%となっています。\n",
        "\n",
        "* Foam::matrixMultiplyFunctor\n",
        "  * RapidCFD-dev/src/OpenFOAM/matrices/lduMatrix/lduMatrix/lduMatrixATmul.C https://github.com/SimFlowCFD/RapidCFD-dev/blob/master/src/OpenFOAM/matrices/lduMatrix/lduMatrix/lduMatrixATmul.C\n",
        "* Foam::AINVPreconditionerFunctor\n",
        "  * RapidCFD-dev/src/OpenFOAM/matrices/lduMatrix/preconditioners/AINVPreconditioner/AINVPreconditionerF.H\n",
        " https://github.com/SimFlowCFD/RapidCFD-dev/blob/master/src/OpenFOAM/matrices/lduMatrix/preconditioners/AINVPreconditioner/AINVPreconditionerF.H\n",
        "* 出川智啓 : GPU最適化ライブラリの利用(その3)、長岡技術科学大学2015年度GPGPU講習会 https://www.slideshare.net/ssuserf87701/gpgpu-seminar-gpu-accelerated-libraries-3-of-3-thrust"
      ]
    },
    {
      "cell_type": "markdown",
      "metadata": {
        "id": "VbPQd--XFi-B"
      },
      "source": [
        "### PETScライブラリを用いたGPU併用でのicoFoamソルバの実行(ケースS-petsc-1)\n",
        "PETScライブラリを用いて、圧力方程式用のCG法線形ソルバをGPUで動かします。"
      ]
    },
    {
      "cell_type": "markdown",
      "metadata": {
        "id": "YBHkHFasX8bh"
      },
      "source": [
        "#### ケースファイル修正\n",
        "\n",
        "\n"
      ]
    },
    {
      "cell_type": "markdown",
      "metadata": {
        "id": "KDHlhGykYCuZ"
      },
      "source": [
        "3次元キャビティベンチマークテストにおける格子数が64MのXLケースでは、PETScのCG法線形ソルバを使う設定ファイルがあるので、この設定を流用します。\n",
        "ただし、GPUのCuSPARSEライブラリを用いて動作させるよう、`mat_types`に`aijcusparse`を指定します。\n",
        "\n",
        "* MATAIJCUSPARSE https://petsc.org/release/manualpages/Mat/MATAIJCUSPARSE/\n",
        "* 出川智啓 : GPU最適化ライブラリの利用(その2)、長岡技術科学大学2015年度GPGPU講習会 https://www.slideshare.net/ssuserf87701/gpgpu-seminar-gpu-accelerated-libraries-2-of-3-cusparse\n",
        "\n",
        "また、速度の線形ソルバを、RapidCFD等の他の解析での設定と合わせて`PBiCG`に変更します。\n",
        "\n",
        "このケースを`S-petsc-1`として、これらの修正を行なった線形ソルバの設定を`system/fvSolution.S-petsc-1`に保存しておきます。"
      ]
    },
    {
      "cell_type": "code",
      "execution_count": null,
      "metadata": {
        "id": "qCj6uYkdGeBT"
      },
      "outputs": [],
      "source": [
        "!case=S-petsc-1;\\\n",
        "sed -e s/mpiaijmkl/aijcusparse/ -e s/PBiCGStab/PBiCG/ ../XL/system/fvSolution.PETSc-ICC-CG.fixedNORM | tee system/fvSolution.$case"
      ]
    },
    {
      "cell_type": "markdown",
      "metadata": {
        "id": "RnpkIrBMbAHw"
      },
      "source": [
        "#### PETScライブラリを用いたicoFoamソルバの実行\n",
        "まず、線形ソルバの設定`system/fvSolution.ケース名`を`system/fvSolution`にコピーします。\n",
        "\n",
        "external-solverモジュールのビルド時にも出力されていましたが、 PETScライブラリを有効にするには、`eval $(foamEtcFile -sh -config petsc -- -force)`を実行します。\n",
        "\n",
        "また、以前確認したように、インストールされているOpenMPIはGPU-aware supportが有効になっていないので、`PETSC_OPTIONS`の環境変数に`-use_gpu_aware_mpi 0`を指定して、`icoFoam`ソルバを実行します。\n",
        "\n",
        "さらに、ソルバ実行時にexternal-moduleモジュールのpetscFoamライブラリを読むように、`icoFoam`コマンドに`-lib petscFoam`オプションを指定します。\n",
        "\n",
        "なお、`-lib petscFoam`オプションを指定せずに、`system/controlDict`に`libs (petscFoam);`の設定をしてもpetscFoamライブラリを読みますが、この設定ではRapidCFDでの実行ができなくなるので、ここでは`icoFoam`コマンドにオプションを指定する方法を用います。"
      ]
    },
    {
      "cell_type": "code",
      "execution_count": null,
      "metadata": {
        "id": "np-reJQoH6mM"
      },
      "outputs": [],
      "source": [
        "!case=S-petsc-1;\\\n",
        "cp system/fvSolution.$case system/fvSolution;\\\n",
        "source /usr/lib/openfoam/openfoam2306/etc/bashrc;\\\n",
        "eval $(foamEtcFile -sh -config petsc -- -force);\\\n",
        "PETSC_OPTIONS='-use_gpu_aware_mpi 0' icoFoam -lib petscFoam 2>&1 | tee log.icoFoam.$case"
      ]
    },
    {
      "cell_type": "markdown",
      "metadata": {
        "id": "eJz-ggjX9I_W"
      },
      "source": [
        "`Initializing PETSc... success`のログにより、PETScライブラリを用いた初期化ができていることがわかります。\n",
        "\n",
        "また、圧力の線形ソルバ名が`PETSc-cg`となっており、PETScのcgソルバが用いられていることが確認できます。"
      ]
    },
    {
      "cell_type": "markdown",
      "metadata": {
        "id": "Z4eVNjCPLomT"
      },
      "source": [
        "#### 毎ステップの実行時間"
      ]
    },
    {
      "cell_type": "code",
      "execution_count": null,
      "metadata": {
        "id": "D-vPEDLtLomi"
      },
      "outputs": [],
      "source": [
        "!case=S-petsc-1;\\\n",
        "grep ExecutionTime log.icoFoam.$case"
      ]
    },
    {
      "cell_type": "markdown",
      "metadata": {
        "id": "sxlU4FYncOV-"
      },
      "source": [
        "2ステップ分の2回ではなく、PETScの初期化の前後でも出力され、4回分出力されています。"
      ]
    },
    {
      "cell_type": "markdown",
      "metadata": {
        "id": "0ReSDxDFLomi"
      },
      "source": [
        "#### 1ステップの実行時間\n",
        "4番目と3番目の実行時間の差を計算します。"
      ]
    },
    {
      "cell_type": "code",
      "execution_count": null,
      "metadata": {
        "id": "msEQ_jrELomj"
      },
      "outputs": [],
      "source": [
        "!case=S-petsc-1;\\\n",
        "awk 'BEGIN {n=0} /ExecutionTime/ {t[n]=$3;n++} END {print \"Execution time for one timestep: \",t[3]-t[2]}' log.icoFoam.$case"
      ]
    },
    {
      "cell_type": "markdown",
      "metadata": {
        "id": "MSx-bt1YLomj"
      },
      "source": [
        "#### 圧力方程式に対するCG法線形ソルバをPETScライブラリを用いてGPUで実行した場合の加速率\n"
      ]
    },
    {
      "cell_type": "code",
      "execution_count": null,
      "metadata": {
        "id": "dhCMMZeeLomj"
      },
      "outputs": [],
      "source": [
        "!case=S-petsc-1;\\\n",
        "awk 'BEGIN {n=0} /ExecutionTime/ {t[n]=$3;n++} END {print \"Speedup of PETSc CG solver with GPU compared to OpenFOAM CG solver with CPU only: \",(t[1]-t[0])/(t[5]-t[4])}' log.icoFoam.S-cpu log.icoFoam.$case"
      ]
    },
    {
      "cell_type": "markdown",
      "metadata": {
        "id": "kOR7vOL3XaKU"
      },
      "source": [
        "加速率はRapidCFDが約16であるのに対し、今回は約1.2とだいぶ低くなりましたが、 圧力線形ソルバの反復回数が増大していることも、一つの要因として考えられます**(加速率は割りあてられたCPUとGPUによって異なります)**。"
      ]
    },
    {
      "cell_type": "code",
      "execution_count": null,
      "metadata": {
        "id": "K4Z10clJ2Hc4"
      },
      "outputs": [],
      "source": [
        "!cat log.icoFoam.S-cpu"
      ]
    },
    {
      "cell_type": "markdown",
      "metadata": {
        "id": "kLy76Il42iNM"
      },
      "source": [
        "実際、上記の全CPU実行での`icoFoam`ソルバのログからわかるとおり、CPU実行では圧力線形ソルバの反復回数は約250回でしたが、GPU実行では2100回と約8倍以上増加しています。\n",
        "\n",
        "RapidCFDでも約380回とCPU実行に比べて増えていますが、それでも1.5倍程度です。\n",
        "\n",
        "どのケースでも線形ソルバはCG法ですので、その他の大きな違いとしては前処理があげられます。\n",
        "\n",
        "そこで、最後のカスタマイズ演習では、3次元キャビティベンチマーク標準のPETScの線形ソルバの設定をカスタマイズすることで、さらに高速化できるか試してみます。"
      ]
    },
    {
      "cell_type": "markdown",
      "metadata": {
        "id": "YQ1X7aQnNdSk"
      },
      "source": [
        "#### PETScのログオプション付き実行\n",
        "`PETSC_OPTIONS`に`-log_view`を付けると、PETScに関するプロファイリング情報等が出力されます。\n",
        "\n",
        "* Understanding and Tuning Performance in PETSc (on emerging many core,GPGPU, and traditional architectures) https://www.mcs.anl.gov/petsc/meetings/2019/slides/mills-performance-gpus-tutorial-petsc2019.pdf\n",
        "\n",
        "* PETSc/TAO Users Manual, 4.3.1 Basic Profiling Information, https://petsc.org/release/docs/manual/manual.pdf"
      ]
    },
    {
      "cell_type": "code",
      "execution_count": null,
      "metadata": {
        "id": "3DKWm5XQNXC0"
      },
      "outputs": [],
      "source": [
        "!case=S-petsc-1;\\\n",
        "source /usr/lib/openfoam/openfoam2306/etc/bashrc;\\\n",
        "eval $(foamEtcFile -sh -config petsc -- -force);\\\n",
        "PETSC_OPTIONS='-use_gpu_aware_mpi 0 -log_view' icoFoam -lib petscFoam 2>&1 | tee log.icoFoam.$case.log_view"
      ]
    },
    {
      "cell_type": "markdown",
      "metadata": {
        "id": "CZsdABLBOe2Z"
      },
      "source": [
        "#### プロファイラ系由での実行\n",
        "RapidCFDと同様に`nvprof`経由で`icoFoam`を実行することにより、ホットスポットのようなプロファイル情報が出力されますが、`icoFoam`全体ではなく、あくまでGPUに関するものが出力されます。"
      ]
    },
    {
      "cell_type": "code",
      "execution_count": null,
      "metadata": {
        "id": "B17BecbFOe2o"
      },
      "outputs": [],
      "source": [
        "!case=S-petsc-1;\\\n",
        "source /usr/lib/openfoam/openfoam2306/etc/bashrc;\\\n",
        "eval $(foamEtcFile -sh -config petsc -- -force);\\\n",
        "PETSC_OPTIONS='-use_gpu_aware_mpi 0' nvprof icoFoam -lib petscFoam 2>&1 | tee log.icoFoam.petsc-nvprof"
      ]
    },
    {
      "cell_type": "markdown",
      "source": [
        "`GPU activities`のホットスポットは 約62%を占める`cusparse::spsm_v1_ker` です。\n",
        "\n",
        "* cuSPARSE 6.6.8. cusparseSpSM() https://docs.nvidia.com/cuda/cusparse/index.html?highlight=spsm#cusparsespsm\n",
        "  * *The function solves a system of linear equations whose coefficients are represented in a sparse triangular matrix:*"
      ],
      "metadata": {
        "id": "BrFg6TYXD29N"
      }
    },
    {
      "cell_type": "markdown",
      "metadata": {
        "id": "QlNBjneyG-xA"
      },
      "source": [
        "## キャビティベンチマークケースMの実行\n"
      ]
    },
    {
      "cell_type": "markdown",
      "metadata": {
        "id": "DU9I_rRR0tAw"
      },
      "source": [
        "### ケースディレクトリへの移動"
      ]
    },
    {
      "cell_type": "code",
      "execution_count": null,
      "metadata": {
        "id": "8tpNl1d1HGk-"
      },
      "outputs": [],
      "source": [
        "%cd /content/drive/MyDrive/hpc-training-gpu-2023/hpc/Lid_driven_cavity-3d/M"
      ]
    },
    {
      "cell_type": "markdown",
      "metadata": {
        "id": "a8P2VInWIoyi"
      },
      "source": [
        "### GPUでのRapidCFD版icoFoamソルバ実行(ケースM-RapidCFD)"
      ]
    },
    {
      "cell_type": "markdown",
      "metadata": {
        "id": "YTnR-0_off2H"
      },
      "source": [
        "#### ケースファイル修正\n",
        "ケースSと同様に修正します。"
      ]
    },
    {
      "cell_type": "code",
      "execution_count": null,
      "metadata": {
        "id": "xMTbKKCTff2I"
      },
      "outputs": [],
      "source": [
        "!case=M-RapidCFD;\\\n",
        "git checkout system/controlDict system/fvSchemes constant/transportProperties;\\\n",
        "sed -i -e 's|^\\( *#includeFunc\\)|//\\1|' -e 's|\\(endTime \\).*|\\1 0.0005;|' system/controlDict;\\\n",
        "echo 'fluxRequired {default no;p;}' >> system/fvSchemes;\\\n",
        "sed -i s/'^\\(nu\\s*\\[\\)'/'nu \\1'/ constant/transportProperties;\\\n",
        "sed s/PBiCGStab/PBiCG/ system/fvSolution.fixedNORM > system/fvSolution.$case;\\\n",
        "tail -n+1 constant/transportProperties system/{controlDict,fvSchemes,fvSolution.$case}"
      ]
    },
    {
      "cell_type": "markdown",
      "metadata": {
        "id": "cJbpyd0tfIXK"
      },
      "source": [
        "#### 倍精度版icoFoamソルバの実行"
      ]
    },
    {
      "cell_type": "code",
      "execution_count": null,
      "metadata": {
        "id": "SYEC3BlMIrK1"
      },
      "outputs": [],
      "source": [
        "!case=M-RapidCFD;\\\n",
        "cp system/fvSolution.$case system/fvSolution;\\\n",
        "source /root/RapidCFD/RapidCFD-dev/etc/bashrc;\\\n",
        "time icoFoam 2>&1 | tee log.icoFoam.$case"
      ]
    },
    {
      "cell_type": "markdown",
      "metadata": {
        "id": "hVdNTNUof_rr"
      },
      "source": [
        "#### 単精度版icoFoamソルバの実行\n"
      ]
    },
    {
      "cell_type": "code",
      "execution_count": null,
      "metadata": {
        "id": "8nFUKj-of_rs"
      },
      "outputs": [],
      "source": [
        "!case=M-RapidCFD;\\\n",
        "cp system/fvSolution.$case system/fvSolution;\\\n",
        "source /root/RapidCFD/RapidCFD-dev/etc/bashrc WM_PRECISION_OPTION=SP;\\\n",
        "time icoFoam 2>&1 | tee log.icoFoam.$case.SP"
      ]
    },
    {
      "cell_type": "markdown",
      "metadata": {
        "id": "fHL5PWG0gJz_"
      },
      "source": [
        "#### 倍精度版ソルバに対する単精度版ソルバの加速率\n"
      ]
    },
    {
      "cell_type": "code",
      "execution_count": null,
      "metadata": {
        "id": "qyQVk2yUgJ0A"
      },
      "outputs": [],
      "source": [
        "!case=M-RapidCFD;\\\n",
        "awk 'BEGIN {n=0} /ExecutionTime/ {t[n]=$3;n++} END {print \"Speedup of single-precision solver compared to double-precision solver: \",(t[1]-t[0])/(t[3]-t[2])}' log.icoFoam.$case log.icoFoam.$case.SP"
      ]
    },
    {
      "cell_type": "markdown",
      "metadata": {
        "id": "8OADLZHtrpi3"
      },
      "source": [
        "#### 倍精度版での毎ステップの実行時間"
      ]
    },
    {
      "cell_type": "code",
      "execution_count": null,
      "metadata": {
        "id": "RgqvrRj5rpjF"
      },
      "outputs": [],
      "source": [
        "!case=M-RapidCFD;\\\n",
        "grep ExecutionTime log.icoFoam.$case"
      ]
    },
    {
      "cell_type": "markdown",
      "metadata": {
        "id": "hdjB0Eg9rpjG"
      },
      "source": [
        "#### 倍精度版での1ステップの実行時間"
      ]
    },
    {
      "cell_type": "code",
      "execution_count": null,
      "metadata": {
        "id": "Ciab3KA_rpjG"
      },
      "outputs": [],
      "source": [
        "!case=M-RapidCFD;\\\n",
        "awk 'BEGIN {n=0} /ExecutionTime/ {t[n]=$3;n++} END {print \"Execution time for one timestep: \",t[1]-t[0]}' log.icoFoam.$case"
      ]
    },
    {
      "cell_type": "markdown",
      "metadata": {
        "id": "gNmyNr7LrpjG"
      },
      "source": [
        "#### CPUのみを使用するOpenFOAM版icoFoamに対するGPUを併用するRapidCFD版icoFoamの加速率\n"
      ]
    },
    {
      "cell_type": "code",
      "execution_count": null,
      "metadata": {
        "id": "jeaJ_QzErpjG"
      },
      "outputs": [],
      "source": [
        "!case=M-RapidCFD;\\\n",
        "awk 'BEGIN {n=0} /ExecutionTime/ {t[n]=$3;n++} END {print \"Speedup of RapidCFD version icoFoam with GPU compared to OpenFOAM version icoFoam with CPU only: \",(t[1]-t[0])/(t[3]-t[2])}' log.icoFoam.S-cpu log.icoFoam.$case"
      ]
    },
    {
      "cell_type": "markdown",
      "metadata": {
        "id": "-ixdKvuJViNt"
      },
      "source": [
        "加速率は約18となりました**(加速率は割当てられたGPUとGPUによって異なります)**。"
      ]
    },
    {
      "cell_type": "markdown",
      "metadata": {
        "id": "ZQySpOvkLBc0"
      },
      "source": [
        "#### GPUでのRapidCFD版icoFoamソルバのプロファイリング"
      ]
    },
    {
      "cell_type": "code",
      "execution_count": null,
      "metadata": {
        "id": "wH8SjwVkLCiX"
      },
      "outputs": [],
      "source": [
        "!case=M-RapidCFD;\\\n",
        "source /root/RapidCFD/RapidCFD-dev/etc/bashrc;time nvprof icoFoam 2>&1 | tee log.icoFoam.$case.nvprof"
      ]
    },
    {
      "cell_type": "markdown",
      "metadata": {
        "id": "qrbOPfGXEeeD"
      },
      "source": [
        "このケースでも、主要なホットスポットは、`Foam::AINVPreconditionerFunctor`と、`Foam::matrixMultiplyFunctor`であり、計算時間は共に30%強になっています**(割当てられたGPUによって異なります)**。"
      ]
    },
    {
      "cell_type": "markdown",
      "metadata": {
        "id": "DId3Eiv5hEZa"
      },
      "source": [
        "### PETScライブラリを用いたGPU併用でのicoFoamソルバの実行(ケースM-petsc-1)\n",
        "\n"
      ]
    },
    {
      "cell_type": "markdown",
      "metadata": {
        "id": "B1RFgraehEZb"
      },
      "source": [
        "#### ケースファイル修正\n",
        "ケースS同様に修正しますが、ケースMでは圧力の線形ソルバが3000回の反復でも収束しないので、最大反復数を10000に変更します。"
      ]
    },
    {
      "cell_type": "code",
      "execution_count": null,
      "metadata": {
        "id": "BRBMc4PjhEZb"
      },
      "outputs": [],
      "source": [
        "!case=M-petsc-1;\\\n",
        "sed -e s/'\\(mat_type \\)mpiaijmkl'/'\\1aijcusparse'/ -e s/PBiCGStab/PBiCG/ -e s/'\\(maxIter *\\)3000;'/'\\110000;'/ ../XL/system/fvSolution.PETSc-ICC-CG.fixedNORM | tee system/fvSolution.$case"
      ]
    },
    {
      "cell_type": "markdown",
      "metadata": {
        "id": "fTHdXQ9bhEZc"
      },
      "source": [
        "#### PETScライブラリを用いたicoFoamソルバの実行\n"
      ]
    },
    {
      "cell_type": "code",
      "execution_count": null,
      "metadata": {
        "id": "GA6L_XWkhEZc"
      },
      "outputs": [],
      "source": [
        "!case=M-petsc-1;\\\n",
        "cp system/fvSolution.$case system/fvSolution;\\\n",
        "source /usr/lib/openfoam/openfoam2306/etc/bashrc;\\\n",
        "eval $(foamEtcFile -sh -config petsc -- -force);\\\n",
        "PETSC_OPTIONS='-use_gpu_aware_mpi 0' icoFoam -lib petscFoam 2>&1 | tee log.icoFoam.$case"
      ]
    },
    {
      "cell_type": "markdown",
      "metadata": {
        "id": "t6zSZ2yyoMa_"
      },
      "source": [
        "#### 毎ステップの実行時間"
      ]
    },
    {
      "cell_type": "code",
      "execution_count": null,
      "metadata": {
        "id": "jMgQ4kOSoMbA"
      },
      "outputs": [],
      "source": [
        "!case=M-petsc-1;\\\n",
        "grep ExecutionTime log.icoFoam.$case"
      ]
    },
    {
      "cell_type": "markdown",
      "metadata": {
        "id": "Iqc913kDoMbA"
      },
      "source": [
        "#### 1ステップの実行時間\n"
      ]
    },
    {
      "cell_type": "code",
      "execution_count": null,
      "metadata": {
        "id": "NIZ5rbM5oMbA"
      },
      "outputs": [],
      "source": [
        "!case=M-petsc-1;\\\n",
        "awk 'BEGIN {n=0} /ExecutionTime/ {t[n]=$3;n++} END {print \"Execution time for one timestep: \",t[3]-t[2]}' log.icoFoam.$case"
      ]
    },
    {
      "cell_type": "markdown",
      "metadata": {
        "id": "gGBr11P8oMbA"
      },
      "source": [
        "#### 圧力方程式に対するCG法線形ソルバをPETScライブラリを用いてGPUで実行した場合の加速率\n"
      ]
    },
    {
      "cell_type": "code",
      "execution_count": null,
      "metadata": {
        "id": "WqmCiEcOoMbA"
      },
      "outputs": [],
      "source": [
        "!case=M-petsc-1;\\\n",
        "awk 'BEGIN {n=0} /ExecutionTime/ {t[n]=$3;n++} END {print \"Speedup of PETSc CG solver with GPU compared to OpenFOAM CG solver with CPU only: \",(t[1]-t[0])/(t[5]-t[4])}' log.icoFoam.M-cpu log.icoFoam.$case"
      ]
    },
    {
      "cell_type": "markdown",
      "metadata": {
        "id": "b8bI0RuXpOKS"
      },
      "source": [
        "圧力方程式のCG法線形ソルバをCPUで実行する場合と変わらない結果となっていますが、ケースSと同様に圧力線形ソルバの反復回数が増大していることも、原因と一つとして考えられます。"
      ]
    },
    {
      "cell_type": "code",
      "execution_count": null,
      "metadata": {
        "id": "Cyad_jTUpsDm"
      },
      "outputs": [],
      "source": [
        "!cat log.icoFoam.M-cpu"
      ]
    },
    {
      "cell_type": "markdown",
      "metadata": {
        "id": "kKXqjDX7qLw-"
      },
      "source": [
        "実際、上記の全CPU実行でのicoFoamソルバのログからわかるとおり、CPU実行では圧力線形ソルバの反復回数は約510回でしたが、GPU実行では4300回と約8倍以上増加しています。"
      ]
    },
    {
      "cell_type": "markdown",
      "metadata": {
        "id": "wlUeHUEnWQ2T"
      },
      "source": [
        "## カスタマイズ演習\n",
        "本演習のカスタマイズ演習では計算時間の関係でケースSのみ扱います。"
      ]
    },
    {
      "cell_type": "markdown",
      "metadata": {
        "id": "1MeBtYEB1Eo8"
      },
      "source": [
        "### PETScライブラリを用いたGPU併用計算の加速率\n",
        "**(加速率は割当てられたGPUとGPUによって異なります)**\n",
        "\n",
        "PETScライブラリを用いてGPU併用のicoFoamソルバ実行を行なったケースS-petsc-1の加速率は、CPUのみを使用したケースS-cpuに比べて約1.2と、RapidCFDの約16に比べ低くなっています。\n",
        "\n",
        "さらに、ケースMでは、PETScライブラリのGPU併用とCPU実行とで実行時間がほぼ変わらず、RapidCFDの加速率約18と対照的です。"
      ]
    },
    {
      "cell_type": "markdown",
      "metadata": {
        "id": "JkhXsCGe1F1K"
      },
      "source": [
        "### 線形ソルバの前処理\n",
        "ただし、CPUの解析では、圧力や速度に関する線形ソルバの前処理に、それぞれDIC(Diagonal-based Incomplete Cholesky)法やDILU(Diagonal-based Incomplete Lower-Upper)法を使っているのに対し、 RapidCFDではどちらもAINV(Approximate INVerse)法を使用するなど、GPUに合わせて計算条件の変更を行なっています。\n",
        "\n",
        "一方、PETScを用いたケースS-petsc-1では、線形ソルバの設定は以下となっています。\n",
        "なお、M-petsc-1も圧力に関する最大反復数が10000になっている以外は同じです。"
      ]
    },
    {
      "cell_type": "code",
      "execution_count": null,
      "metadata": {
        "id": "i-bEttFQW3Vw"
      },
      "outputs": [],
      "source": [
        "!cat /content/drive/MyDrive/hpc-training-gpu-2023/hpc/Lid_driven_cavity-3d/S/system/fvSolution.S-petsc-1"
      ]
    },
    {
      "cell_type": "markdown",
      "metadata": {
        "id": "j8zLExLzXOtj"
      },
      "source": [
        "ここで、`petsc/options`辞書がPETScの線形ソルバの設定ですが、圧力に関する線形ソルバ`ksp_type`(Krylov Subspace method and a Preconditioner TYPE)は、元々の設定同様にcg(CG)です。\n",
        "\n",
        "* KSP: Linear System Solvers https://petsc.org/release/manual/ksp/\n",
        "\n",
        "しかし、前処理(`pc_type`)(PreConditioner TYPE)はbjacobi(Block-Jacobi)であり、\n",
        "副前処理(`sub_pc_type`)が`icc`(InComplete Cholesky)になっています。\n",
        "\n",
        "* Preconditioners https://petsc.org/release/manual/ksp/#sec-pc\n",
        "* PCBJACOBI https://petsc.org/release/manualpages/PC/PCBJACOBI/\n",
        "* PCICC Incomplete Cholesky factorization preconditioners. https://petsc.org/release/manualpages/PC/PCICC/\n",
        "* 前処理手法について http://nkl.cc.u-tokyo.ac.jp/15n/SolverPrecond.pdf\n",
        "\n",
        "RapidCFDでは、前処理はIncomplete Cholesky系のDICではないのですが、GPU向けに実装が容易(並列実行が容易)、かつ、中強度の前処理(反復回数が中程度に減少する)であるAINVを用いており、実際にケースSでは、圧力線形ソルバの反復回数の増加は、強い前処理のDICに比べても1.5倍に抑えられていました。\n",
        "\n",
        "従って、PETScでも、前処理を本問題により適するものに変更することで、より高速化される可能性があります。\n",
        "\n",
        "さらに、PETScでは、`petsc/caching`において、係数行列や前処理行列の更新に関する設定が可能ですので、これらの設定を変更することで、より高速化する可能性があります。\n",
        "\n",
        "また、速度の線形ソルバは`PBiCG`なので、これは従来通りCPUで動作していますが、これもPETScを用いてGPUで動作されることが可能です。\n",
        "\n",
        "\n"
      ]
    },
    {
      "cell_type": "markdown",
      "metadata": {
        "id": "3AUT9QTmOWCK"
      },
      "source": [
        "### ケースディレクトリへの移動"
      ]
    },
    {
      "cell_type": "code",
      "execution_count": null,
      "metadata": {
        "id": "lMSFDc6NOWCV"
      },
      "outputs": [],
      "source": [
        "%cd /content/drive/MyDrive/hpc-training-gpu-2023/hpc/Lid_driven_cavity-3d/S"
      ]
    },
    {
      "cell_type": "markdown",
      "metadata": {
        "id": "GvsABDvsV3mw"
      },
      "source": [
        "### PETScのヘルプ出力\n",
        "`PETSC_OPTIONS`に`-help`を付けてソルバを実行すると、PETScのヘルプが出力されますが、ここにはPETScの様々な設定と設定候補の一覧も出力されますので、参考になります。\n",
        "\n",
        "なお、PETScのヘルプを出力するのが目的であり、`icoFoam`を最後まで実行する必要がないので、`icoFoam`のオプションに`-dry-run`(Check case set-up only using a single time step)を付けています。"
      ]
    },
    {
      "cell_type": "code",
      "execution_count": null,
      "metadata": {
        "id": "N07xQFudV3mx"
      },
      "outputs": [],
      "source": [
        "!case=S-petsc-1;\\\n",
        "cp system/fvSolution.$case system/fvSolution;\\\n",
        "source /usr/lib/openfoam/openfoam2306/etc/bashrc;\\\n",
        "eval $(foamEtcFile -sh -config petsc -- -force);\\\n",
        "PETSC_OPTIONS='-use_gpu_aware_mpi 0 -help' icoFoam -lib petscFoam -dry-run 2>&1 | tee log.icoFoam.$case.help"
      ]
    },
    {
      "cell_type": "markdown",
      "source": [
        "上記のログから変更したいオプションを検索したり、以下のように`grep`コマンドを用いてログから抜き出します。"
      ],
      "metadata": {
        "id": "-TLd4kB7QWD6"
      }
    },
    {
      "cell_type": "code",
      "source": [
        "!case=S-petsc-1;\\\n",
        "grep -e pc_type -e ksp_cg_single_reduction -e sub_pc_factor_shift_type log.icoFoam.$case.help"
      ],
      "metadata": {
        "id": "CvgTRs8JQAJW"
      },
      "execution_count": null,
      "outputs": []
    },
    {
      "cell_type": "markdown",
      "source": [
        "上記のペルプメッセージや以下の資料等を参考に、`system/fvSolution`の設定を変更しますが、特にZampiniらによる発表スライドでの設定例や最後のページが参考になります。\n",
        "\n",
        "* S. Zampini, S. Bnà, M.Valentini, I. Spisso : GPU-accelerated OpenFOAM simulations using PETSc4FOAM\n",
        "  * 発表スライド https://wiki.openfoam.com/images/c/cd/OpenFOAM_2020_KAUST_Zampini.pdf\n",
        "  * 論文 https://www.esi-group.com/sites/default/files/resource/other/1806/8th_OpenFOAM_Conference_Cineca_Spisso_2_0.pdf\n",
        "* Summary of Sparse Linear Solvers Available In PETSc https://petsc.org/release/overview/linear_solve_table/\n",
        "* KSP: Linear System Solvers https://petsc.org/release/manual/ksp/\n",
        "* Preconditioners https://petsc.org/release/manual/ksp/#sec-pc\n",
        "* PCBJACOBI https://petsc.org/release/manualpages/PC/PCBJACOBI/\n",
        "* PCICC Incomplete Cholesky factorization preconditioners. https://petsc.org/release/manualpages/PC/PCICC/\n",
        "* KSPBICG https://petsc.org/release/manualpages/KSP/KSPBICG/\n",
        "\n",
        "また、AMDがLid_driven_cavity-3Dベンチマークテスト用のDockerやSingularityのイメージを以下で公開していますが、その中での`system/fvSolution`の内容の一部も転載しておきますので、参考にしてください。\n",
        "\n",
        " * AMD OpenFOAM https://www.amd.com/en/technologies/infinity-hub/openfoam\n",
        "\n",
        "```\n",
        "/*--------------------------------*- C++ -*----------------------------------*\\\n",
        "| =========                 |                                                 |\n",
        "| \\\\      /  F ield         | OpenFOAM: The Open Source CFD Toolbox           |\n",
        "|  \\\\    /   O peration     | Version:  v2006                                 |\n",
        "|   \\\\  /    A nd           | Website   www.openfoam.com                      |\n",
        "|    \\\\/     M anipulation  |                                                 |\n",
        "\\*---------------------------------------------------------------------------*/\n",
        "FoamFile\n",
        "{\n",
        "    version     2.0;\n",
        "    format      ascii;\n",
        "    class       dictionary;\n",
        "    object      fvSolution;\n",
        "}\n",
        "// * * * * * * * * * * * * * * * * * * * * * * * * * * * * * * * * * * * * * //\n",
        "\n",
        "solvers\n",
        "{\n",
        "    p\n",
        "    {\n",
        "        solver petsc;\n",
        "\n",
        "        petsc\n",
        "        {\n",
        "            options\n",
        "            {\n",
        "                ksp_type  cg;\n",
        "                ksp_cg_single_reduction  true;\n",
        "                ksp_norm_type none;\n",
        "                //mat_type aijcusparse; // CUSPARSE\n",
        "                //mat_type aijkokkos; // KOKKOS\n",
        "                        mat_type mpiaijhipsparse; // HIPSPARSE\n",
        "\n",
        "                //preconditioner\n",
        "                pc_type gamg;\n",
        "                pc_gamg_type \"agg\"; // smoothed aggregation\n",
        "                pc_gamg_agg_nsmooths \"1\"; // number of smooths for smoothed aggregation (not smoother iterations)\n",
        "                pc_gamg_coarse_eq_limit \"100\";\n",
        "                pc_gamg_reuse_interpolation true;\n",
        "                pc_gamg_aggressive_coarsening \"2\"; //square the graph on the finest N levels\n",
        "                pc_gamg_threshold \"-1\"; // increase to 0.05 if coarse grids get larger\n",
        "                pc_gamg_threshold_scale \"0.5\"; // thresholding on coarse grids\n",
        "                pc_gamg_use_sa_esteig true;\n",
        "\n",
        "                // mg_level config\n",
        "                mg_levels_ksp_max_it \"1\"; // use 2 or 4 if problem is hard (i.e stretched grids)\n",
        "                        mg_levels_esteig_ksp_type cg; //max_it \"1\"; // use 2 or 4 if problem is hard (i.e stretched grids)\n",
        "\n",
        "                // coarse solve (indefinite PC in parallel with 2 cores)\n",
        "                mg_coarse_ksp_type \"gmres\";\n",
        "                mg_coarse_ksp_max_it \"2\";\n",
        "\n",
        "                // smoother (cheby)\n",
        "                mg_levels_ksp_type chebyshev;\n",
        "                mg_levels_ksp_chebyshev_esteig \"0,0.05,0,1.1\";\n",
        "                mg_levels_pc_type \"jacobi\";\n",
        "            }\n",
        "            caching\n",
        "            {\n",
        "                // PISO with 2 correctors\n",
        "                matrix\n",
        "                {\n",
        "                    update periodic;\n",
        "\n",
        "                    periodicCoeffs\n",
        "                    {\n",
        "                        frequency  2;\n",
        "                    }\n",
        "                }\n",
        "                // basically setup the preconditioner once\n",
        "                // and reuse it for 40 consecutive solves\n",
        "                preconditioner\n",
        "                {\n",
        "                    //update always;\n",
        "                    update periodic;\n",
        "\n",
        "                    periodicCoeffs\n",
        "                    {\n",
        "                        frequency  40;\n",
        "                    }\n",
        "                }\n",
        "            }\n",
        "        }\n",
        "        tolerance       1.e-04;\n",
        "        relTol          0;\n",
        "        maxIter         3000;\n",
        "    }\n",
        "\n",
        "    pFinal\n",
        "    {\n",
        "        $p;\n",
        "        relTol          0;\n",
        "    }\n",
        "\n",
        "    U\n",
        "    {\n",
        "        solver petsc;\n",
        "        petsc\n",
        "        {\n",
        "            options\n",
        "            {\n",
        "                ksp_type bcgs;\n",
        "                ksp_norm_type none;\n",
        "                        mat_type mpiaijhipsparse; //other options -aijkokkos, aijcusparse, etc.\n",
        "                pc_type bjacobi;\n",
        "                sub_pc_type ilu;\n",
        "            }\n",
        "            use_petsc_residual_norm true; // we only run 5 iterations, do not use L1 residual test\n",
        "        }\n",
        "        tolerance       0;\n",
        "        relTol          0;\n",
        "        maxIter         5;\n",
        "    }\n",
        "}\n",
        "\n",
        "PISO\n",
        "{\n",
        "    nCorrectors     2;\n",
        "    nNonOrthogonalCorrectors 0;\n",
        "    pRefCell        0;\n",
        "    pRefValue       0;\n",
        "}\n",
        "```\n",
        "\n",
        "さらに、external-solverモジュールのチュートリアルケースの設定ファイルも参考になります。\n",
        "\n",
        "* tutorials https://develop.openfoam.com/modules/external-solver/-/tree/develop/tutorials\n",
        "\n",
        "pipeOneD1ケースの `fvSolution-petsc-gamg-device`に記載されているように、`ksp_view`に\"`::ascii_info\"`を指定すると、線形ソルバの詳細が実行時に表示されるので、設定確認に有用なので、試してみてください。\n",
        "\n",
        "https://develop.openfoam.com/modules/external-solver/-/blob/develop/tutorials/basic/laplacianFoam/pipeOneD/system/fvSolution-petsc-gamg-device\n",
        "```\n",
        "        petsc\n",
        "        {\n",
        "            options\n",
        "            {\n",
        "               //ksp_view \"::ascii_info\"; // uncomment to list details of the solve\n",
        "```"
      ],
      "metadata": {
        "id": "ZthsCVYjYdF1"
      }
    },
    {
      "cell_type": "markdown",
      "metadata": {
        "id": "A8x7GZkdV3mv"
      },
      "source": [
        "### PETScライブラリを用いたGPU併用でのicoFoamソルバのカスタマイズ実行(ケースS-petsc-2)\n",
        "ケースS-petsc-1の線形ソルバの設定をカスタマイズしたケースS-petsc-2を作成し実行します。"
      ]
    },
    {
      "cell_type": "markdown",
      "metadata": {
        "id": "qDx6F4YsV3mw"
      },
      "source": [
        "#### ケースS-petsc-1の線形ソルバの設定コピー\n",
        "\n"
      ]
    },
    {
      "cell_type": "code",
      "execution_count": null,
      "metadata": {
        "id": "q5C417ZsV3mw"
      },
      "outputs": [],
      "source": [
        "!case=S-petsc-2;\\\n",
        "cp system/fvSolution.S-petsc-1 system/fvSolution.$case"
      ]
    },
    {
      "cell_type": "markdown",
      "metadata": {
        "id": "P5OOE8fCDPIA"
      },
      "source": [
        "#### ケースS-petsc-2の線形ソルバの設定変更\n",
        "左のツールバーにおけるフォルダーのマークを押すと、ファイル・ブラウザになりますので、\n",
        "フォルダを辿って、 /content/drive/MyDrive/hpc-training-gpu-2023/hpc/Lid_driven_cavity-3d/S/system/fvSolution.S-petsc-2 まで行ってダブルクリックするか、本ファイルへのリンクをクリックします。\n",
        "\n",
        "すると、右にファイルの編集ウィンドウが表示されるので、適宜編集します。\n",
        "\n",
        "なお、編集後にマウスのフォーカスが編集ウィンドウから外れると、ファイル名が編集されている事を示すアスタリスクが消え、ファイルが保存されます。"
      ]
    },
    {
      "cell_type": "markdown",
      "metadata": {
        "id": "HABLhAaWIqHO"
      },
      "source": [
        "#### PETScライブラリを用いたicoFoamソルバの実行\n",
        "変更した線形ソルバの設定を用いて、`icoFoam`ソルバの実行します。"
      ]
    },
    {
      "cell_type": "code",
      "execution_count": null,
      "metadata": {
        "id": "Y1c0BmegIqHP"
      },
      "outputs": [],
      "source": [
        "!case=S-petsc-2;\\\n",
        "cp system/fvSolution.$case system/fvSolution;\\\n",
        "source /usr/lib/openfoam/openfoam2306/etc/bashrc;\\\n",
        "eval $(foamEtcFile -sh -config petsc -- -force);\\\n",
        "PETSC_OPTIONS='-use_gpu_aware_mpi 0' icoFoam -lib petscFoam 2>&1 | tee log.icoFoam.$case"
      ]
    },
    {
      "cell_type": "markdown",
      "metadata": {
        "id": "0UTzjjEMV3mx"
      },
      "source": [
        "#### 圧力方程式に対するCG法線形ソルバをPETScライブラリを用いてGPUで実行した場合の加速率\n"
      ]
    },
    {
      "cell_type": "code",
      "execution_count": null,
      "metadata": {
        "id": "b2u5kohqV3mx"
      },
      "outputs": [],
      "source": [
        "!case=S-petsc-2;\\\n",
        "awk 'BEGIN {n=0} /ExecutionTime/ {t[n]=$3;n++} END {print \"Speedup of PETSc CG solver with GPU compared to OpenFOAM CG solver with CPU only: \",(t[1]-t[0])/(t[5]-t[4])}' log.icoFoam.S-cpu log.icoFoam.$case"
      ]
    },
    {
      "cell_type": "markdown",
      "metadata": {
        "id": "7nEb1mZ9I91M"
      },
      "source": [
        "ケースS-petsc-1に比べて高速化されましたでしょうか?\n",
        "\n",
        "S-petsc-2と同様に他の設定も検討してみてください。\n",
        "\n",
        "なお、セルは複数コピーできますので、「PETScライブラリを用いたGPU併用でのicoFoamソルバのカスタマイズ実行(ケースS-petsc-2)」のセクションを折りたたんだ上でセルをコピー&ペーストすると、他のケースを検討しやすいと思います。"
      ]
    },
    {
      "cell_type": "markdown",
      "metadata": {
        "id": "riDMppipgs4Q"
      },
      "source": [
        "## その他の参考文献\n",
        "\n",
        "* Simone Bnà, Ivan Spissoa, Mark Olesenb, Giacomo Rossic : A Library to plug-in PETSc into the OpenFOAM Framework https://prace-ri.eu/wp-content/uploads/WP294-PETSc4FOAM-A-Library-to-plug-in-PETSc-into-the-OpenFOAM-Framework.pdf\n",
        "* OpenFOAM Conference - High Performance Computing https://www.esi-group.com/openfoam-conference/openfoam-tracks/openfoam-conference-high-performance-computing\n",
        "* How to use Valgrind to profile OpenFOAM solvers https://solution.esi.co.jp/openfoam/blog/how-to-use-valgrind-to-profile-openfoam-solvers\n",
        "* GPU Support in PETSc 3.10\n",
        " https://www.mcs.anl.gov/~oanam/NASA2019/GPUslides.pdf\n",
        "* cuSPARSE Library https://docs.nvidia.com/cuda/archive/10.1/pdf/CUSPARSE_Library.pdf\n",
        "* Question about petsc4Foam performance https://develop.openfoam.com/modules/external-solver/-/issues/18\n",
        "* Stefano Zampini : The Portable Extensible Toolkit for Scientific Computing Overview and ECRC success stories https://www.hpc.kaust.edu.sa/sites/default/files/files/public/Shaheen_training/NLHPC_2020/PETSc_Zampini2020.pdf\n",
        "* PETSC gives a slowdown instead of speedup (GAMG) https://www.cfd-online.com/Forums/openfoam-programming-development/234081-petsc-gives-slowdown-instead-speedup-gamg.html\n",
        "* AMGX GPU SOLVER DEVELOPMENTS FOR OPENFOAM https://wiki.openfoam.com/images/a/a4/OpenFOAM_2020_NVIDIA_Martineau.pdf\n",
        "* Missing header file for amgxwrapper https://develop.openfoam.com/modules/external-solver/-/issues/25\n",
        "* OpenCL porting? #46 https://github.com/SimFlowCFD/RapidCFD-dev/issues/46\n",
        "* 今野 雅 : Xeon Phi KNLプロセッサを搭載したスーパーコンピュータOakforest-PACSにおけるOpenFOAMの高速化, オープンCAEシンポジウム2018 https://www.slideshare.net/MasashiImano/xeon-phi-knloakforestpacsopenfoam\n",
        "* Wisteria/BDEC-01および「不老」でのOpenFOAM/RapidCFDベンチマークテスト, 第85回オープンCAE勉強会@関西 https://gitlab.com/masaz/OpenCAEWorkshop/-/raw/master/OpenCAEWorkshopAtKansai20210627/doc/OpenCAEWorkshopAtKansai20210627.pdf?inline=false\n"
      ]
    },
    {
      "cell_type": "markdown",
      "metadata": {
        "id": "e_7mdTh0MVuN"
      },
      "source": [
        "**以上で、「その2 GPU編」のノートブックは終了です。**"
      ]
    }
  ],
  "metadata": {
    "accelerator": "GPU",
    "colab": {
      "collapsed_sections": [
        "RnpkIrBMbAHw"
      ],
      "provenance": [],
      "include_colab_link": true
    },
    "kernelspec": {
      "display_name": "Python 3",
      "name": "python3"
    },
    "language_info": {
      "name": "python"
    }
  },
  "nbformat": 4,
  "nbformat_minor": 0
}
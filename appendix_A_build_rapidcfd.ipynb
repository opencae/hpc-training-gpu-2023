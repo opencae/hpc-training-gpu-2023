{
  "cells": [
    {
      "cell_type": "markdown",
      "metadata": {
        "id": "view-in-github",
        "colab_type": "text"
      },
      "source": [
        "<a href=\"https://colab.research.google.com/github/opencae/hpc-training-gpu-2023/blob/main/appendix_A_build_rapidcfd.ipynb\" target=\"_parent\"><img src=\"https://colab.research.google.com/assets/colab-badge.svg\" alt=\"Open In Colab\"/></a>"
      ]
    },
    {
      "cell_type": "markdown",
      "metadata": {
        "id": "SlG18Mhlfdu4"
      },
      "source": [
        "# RapidCFDのビルド\n",
        "\n"
      ]
    },
    {
      "cell_type": "markdown",
      "metadata": {
        "id": "oMGSDgFtrLMQ"
      },
      "source": [
        "## GNU Flexのインストール\n",
        "RapidCFDのビルドに必要となります。\n"
      ]
    },
    {
      "cell_type": "code",
      "execution_count": null,
      "metadata": {
        "colab": {
          "base_uri": "https://localhost:8080/"
        },
        "id": "eNi3R-rMflUB",
        "outputId": "d1c47bee-b366-41f1-83c2-e112d3deb9fd"
      },
      "outputs": [
        {
          "output_type": "stream",
          "name": "stdout",
          "text": [
            "Reading package lists... Done\n",
            "Building dependency tree... Done\n",
            "Reading state information... Done\n",
            "flex is already the newest version (2.6.4-8build2).\n",
            "0 upgraded, 0 newly installed, 0 to remove and 16 not upgraded.\n"
          ]
        }
      ],
      "source": [
        "!apt-get install flex"
      ]
    },
    {
      "cell_type": "markdown",
      "metadata": {
        "id": "keDYzFtSrbZR"
      },
      "source": [
        "## インストール先のディレクトリ作成"
      ]
    },
    {
      "cell_type": "code",
      "execution_count": null,
      "metadata": {
        "id": "SXTPFZtKr67s"
      },
      "outputs": [],
      "source": [
        "!mkdir /root/RapidCFD"
      ]
    },
    {
      "cell_type": "markdown",
      "metadata": {
        "id": "cRrZSKlor1H4"
      },
      "source": [
        "## インストール先のディレクトリ移動"
      ]
    },
    {
      "cell_type": "code",
      "execution_count": null,
      "metadata": {
        "colab": {
          "base_uri": "https://localhost:8080/"
        },
        "id": "-FQ4wZ5prriX",
        "outputId": "d2a37ebb-59b9-4a46-de49-35936b1c7da7"
      },
      "outputs": [
        {
          "name": "stdout",
          "output_type": "stream",
          "text": [
            "/root/RapidCFD\n"
          ]
        }
      ],
      "source": [
        "%cd /root/RapidCFD"
      ]
    },
    {
      "cell_type": "markdown",
      "metadata": {
        "id": "wy-R_lOJsDxX"
      },
      "source": [
        "## RapidCFD-devのレポジトリのクローン"
      ]
    },
    {
      "cell_type": "code",
      "execution_count": null,
      "metadata": {
        "colab": {
          "base_uri": "https://localhost:8080/"
        },
        "id": "ABT209jUrgBk",
        "outputId": "9574745a-8898-4d7f-b6cf-f6a47534785e"
      },
      "outputs": [
        {
          "name": "stdout",
          "output_type": "stream",
          "text": [
            "Cloning into 'RapidCFD-dev'...\n",
            "remote: Enumerating objects: 11953, done.\u001b[K\n",
            "remote: Counting objects: 100% (1004/1004), done.\u001b[K\n",
            "remote: Compressing objects: 100% (522/522), done.\u001b[K\n",
            "remote: Total 11953 (delta 484), reused 990 (delta 478), pack-reused 10949\u001b[K\n",
            "Receiving objects: 100% (11953/11953), 6.76 MiB | 14.14 MiB/s, done.\n",
            "Resolving deltas: 100% (6435/6435), done.\n"
          ]
        }
      ],
      "source": [
        "!git clone https://github.com/Atizar/RapidCFD-dev.git"
      ]
    },
    {
      "cell_type": "markdown",
      "metadata": {
        "id": "yRh3PwXwscpQ"
      },
      "source": [
        "## パッチファイル入手"
      ]
    },
    {
      "cell_type": "code",
      "execution_count": null,
      "metadata": {
        "colab": {
          "base_uri": "https://localhost:8080/"
        },
        "id": "TwUn0hPjsgJg",
        "outputId": "e6f8f786-1904-4d14-a57c-0002531f7ccf"
      },
      "outputs": [
        {
          "name": "stdout",
          "output_type": "stream",
          "text": [
            "--2023-09-08 02:51:15--  https://gitlab.com/OpenCAE/Supercomputer-OpenFOAM-Training/-/raw/master/build/colab/Nvcc/patches/RapidCFD-dev.diff\n",
            "Resolving gitlab.com (gitlab.com)... 172.65.251.78, 2606:4700:90:0:f22e:fbec:5bed:a9b9\n",
            "Connecting to gitlab.com (gitlab.com)|172.65.251.78|:443... connected.\n",
            "HTTP request sent, awaiting response... 200 OK\n",
            "Length: 3986 (3.9K) [text/plain]\n",
            "Saving to: ‘RapidCFD-dev.diff’\n",
            "\n",
            "\rRapidCFD-dev.diff     0%[                    ]       0  --.-KB/s               \rRapidCFD-dev.diff   100%[===================>]   3.89K  --.-KB/s    in 0s      \n",
            "\n",
            "2023-09-08 02:51:15 (20.2 MB/s) - ‘RapidCFD-dev.diff’ saved [3986/3986]\n",
            "\n"
          ]
        }
      ],
      "source": [
        "!wget https://gitlab.com/OpenCAE/Supercomputer-OpenFOAM-Training/-/raw/master/build/colab/Nvcc/patches/RapidCFD-dev.diff"
      ]
    },
    {
      "cell_type": "markdown",
      "metadata": {
        "id": "LV9G2dBNs6Aa"
      },
      "source": [
        "## パッチの適用"
      ]
    },
    {
      "cell_type": "code",
      "execution_count": null,
      "metadata": {
        "colab": {
          "base_uri": "https://localhost:8080/"
        },
        "id": "07gRy4yRs9AG",
        "outputId": "04991484-c5b4-440f-a5ef-ef8f3afcf167"
      },
      "outputs": [
        {
          "name": "stdout",
          "output_type": "stream",
          "text": [
            "patching file etc/bashrc\n",
            "patching file src/OpenFOAM/matrices/lduMatrix/preconditioners/AINVPreconditioner/AINVPreconditioner.C\n",
            "patching file src/OpenFOAM/matrices/lduMatrix/preconditioners/AINVPreconditioner/AINVPreconditioner.H\n",
            "patching file src/OpenFOAM/meshes/primitiveShapes/objectHit/PointHit.H\n",
            "patching file src/dynamicFvMesh/solidBodyMotionFvMesh/multiSolidBodyMotionFvMesh.C\n",
            "patching file wmake/rules/General/mplibSYSTEMOPENMPI\n"
          ]
        }
      ],
      "source": [
        "!patch -d RapidCFD-dev -b -p1 < RapidCFD-dev.diff"
      ]
    },
    {
      "cell_type": "markdown",
      "metadata": {
        "id": "8VdsTE1hsU-b"
      },
      "source": [
        "## RapidCFD-devディレクトリ移動"
      ]
    },
    {
      "cell_type": "code",
      "execution_count": null,
      "metadata": {
        "colab": {
          "base_uri": "https://localhost:8080/"
        },
        "id": "w0rjZ_4-sZ9n",
        "outputId": "4033a5bc-b9ba-40e1-e6d2-1ba665917aff"
      },
      "outputs": [
        {
          "name": "stdout",
          "output_type": "stream",
          "text": [
            "/root/RapidCFD/RapidCFD-dev\n"
          ]
        }
      ],
      "source": [
        "%cd RapidCFD-dev"
      ]
    },
    {
      "cell_type": "markdown",
      "metadata": {
        "id": "_NvC_3I9tgep"
      },
      "source": [
        "## コンパイラオプションの変更\n",
        "\n",
        "ハードウェア・アクセラレータがTesla T4(Turing)の場合には、NVIDIA architecture nameを`sm_75`とします。\n",
        "\n",
        "* NVIDIA GPU の NVIDIA architectures のまとめ https://qiita.com/k_ikasumipowder/items/1142dadba01b42ac6012"
      ]
    },
    {
      "cell_type": "code",
      "execution_count": null,
      "metadata": {
        "id": "b8mY_nZHtmvb"
      },
      "outputs": [],
      "source": [
        "!for f in wmake/rules/linux64Nvcc/{c,c++};do sed -i 's/ -arch=sm_[0-9]*/ -arch=sm_75/' $f;done"
      ]
    },
    {
      "cell_type": "markdown",
      "metadata": {
        "id": "DZRSBNkFuT9r"
      },
      "source": [
        "## 環境設定およびビルド\n",
        "割り当てられたCPUによって、 並列数`WM_NCOMPPROCS`の設定を変えください。\n",
        "並列数が小さい場合には、非常に時間がかかります。\n"
      ]
    },
    {
      "cell_type": "code",
      "execution_count": null,
      "metadata": {
        "colab": {
          "base_uri": "https://localhost:8080/"
        },
        "id": "4abEZgwXuVmn",
        "outputId": "b55c6391-ffc6-4fd8-d545-b634164f285c"
      },
      "outputs": [
        {
          "output_type": "stream",
          "name": "stdout",
          "text": [
            "make: Nothing to be done for 'all'.\n",
            "no ThirdParty sources found - skipping\n",
            "+ wmakePrintBuild -check\n",
            "same version as previous build\n",
            "+ wmakeLnInclude OpenFOAM\n",
            "+ wmakeLnInclude OSspecific/POSIX\n",
            "+ Pstream/Allwmake\n",
            "+ wmake libso dummy\n",
            "'/root/RapidCFD/RapidCFD-dev/platforms/linux64NvccDPOpt/lib/dummy/libPstream.so' is up to date.\n",
            "+ set +x\n",
            "\n",
            "Note: ignore spurious warnings about missing mpicxx.h headers\n",
            "\n",
            "wmake libso mpi\n",
            "'/root/RapidCFD/RapidCFD-dev/platforms/linux64NvccDPOpt/lib/openmpi-system/libPstream.so' is up to date.\n",
            "+ OSspecific/POSIX/Allwmake\n",
            "'/root/RapidCFD/RapidCFD-dev/platforms/linux64NvccDPOpt/lib/libOSspecific.o' is up to date.\n",
            "+ wmake libso OpenFOAM\n",
            "'/root/RapidCFD/RapidCFD-dev/platforms/linux64NvccDPOpt/lib/libOpenFOAM.so' is up to date.\n",
            "+ wmake libso fileFormats\n",
            "'/root/RapidCFD/RapidCFD-dev/platforms/linux64NvccDPOpt/lib/libfileFormats.so' is up to date.\n",
            "+ wmake libso surfMesh\n",
            "'/root/RapidCFD/RapidCFD-dev/platforms/linux64NvccDPOpt/lib/libsurfMesh.so' is up to date.\n",
            "+ wmake libso triSurface\n",
            "'/root/RapidCFD/RapidCFD-dev/platforms/linux64NvccDPOpt/lib/libtriSurface.so' is up to date.\n",
            "+ wmake libso meshTools\n",
            "'/root/RapidCFD/RapidCFD-dev/platforms/linux64NvccDPOpt/lib/libmeshTools.so' is up to date.\n",
            "+ wmake libso edgeMesh\n",
            "'/root/RapidCFD/RapidCFD-dev/platforms/linux64NvccDPOpt/lib/libedgeMesh.so' is up to date.\n",
            "+ wmake libso finiteVolume\n",
            "'/root/RapidCFD/RapidCFD-dev/platforms/linux64NvccDPOpt/lib/libfiniteVolume.so' is up to date.\n",
            "+ wmake libso lagrangian/basic\n",
            "'/root/RapidCFD/RapidCFD-dev/platforms/linux64NvccDPOpt/lib/liblagrangian.so' is up to date.\n",
            "+ wmake libso genericPatchFields\n",
            "'/root/RapidCFD/RapidCFD-dev/platforms/linux64NvccDPOpt/lib/libgenericPatchFields.so' is up to date.\n",
            "+ wmake libso sampling\n",
            "'/root/RapidCFD/RapidCFD-dev/platforms/linux64NvccDPOpt/lib/libsampling.so' is up to date.\n",
            "+ wmake libso dynamicFvMesh\n",
            "'/root/RapidCFD/RapidCFD-dev/platforms/linux64NvccDPOpt/lib/libdynamicFvMesh.so' is up to date.\n",
            "+ thermophysicalModels/Allwmake\n",
            "+ wmake libso specie\n",
            "'/root/RapidCFD/RapidCFD-dev/platforms/linux64NvccDPOpt/lib/libspecie.so' is up to date.\n",
            "+ wmake libso solidSpecie\n",
            "'/root/RapidCFD/RapidCFD-dev/platforms/linux64NvccDPOpt/lib/libsolidSpecie.so' is up to date.\n",
            "+ wmake libso thermophysicalFunctions\n",
            "'/root/RapidCFD/RapidCFD-dev/platforms/linux64NvccDPOpt/lib/libthermophysicalFunctions.so' is up to date.\n",
            "+ ./properties/Allwmake\n",
            "+ wmake libso liquidProperties\n",
            "'/root/RapidCFD/RapidCFD-dev/platforms/linux64NvccDPOpt/lib/libliquidProperties.so' is up to date.\n",
            "+ wmake libso liquidMixtureProperties\n",
            "'/root/RapidCFD/RapidCFD-dev/platforms/linux64NvccDPOpt/lib/libliquidMixtureProperties.so' is up to date.\n",
            "+ wmake libso solidProperties\n",
            "'/root/RapidCFD/RapidCFD-dev/platforms/linux64NvccDPOpt/lib/libsolidProperties.so' is up to date.\n",
            "+ wmake libso solidMixtureProperties\n",
            "'/root/RapidCFD/RapidCFD-dev/platforms/linux64NvccDPOpt/lib/libsolidMixtureProperties.so' is up to date.\n",
            "+ wmake libso basic\n",
            "'/root/RapidCFD/RapidCFD-dev/platforms/linux64NvccDPOpt/lib/libfluidThermophysicalModels.so' is up to date.\n",
            "+ wmake libso barotropicCompressibilityModel\n",
            "'/root/RapidCFD/RapidCFD-dev/platforms/linux64NvccDPOpt/lib/libbarotropicCompressibilityModel.so' is up to date.\n",
            "+ wmake libso solidThermo\n",
            "'/root/RapidCFD/RapidCFD-dev/platforms/linux64NvccDPOpt/lib/libsolidThermo.so' is up to date.\n",
            "+ wmake libso radiationModels\n",
            "'/root/RapidCFD/RapidCFD-dev/platforms/linux64NvccDPOpt/lib/libradiationModels.so' is up to date.\n",
            "+ transportModels/Allwmake\n",
            "+ wmake libso twoPhaseMixture\n",
            "'/root/RapidCFD/RapidCFD-dev/platforms/linux64NvccDPOpt/lib/libtwoPhaseMixture.so' is up to date.\n",
            "+ wmake libso interfaceProperties\n",
            "'/root/RapidCFD/RapidCFD-dev/platforms/linux64NvccDPOpt/lib/libinterfaceProperties.so' is up to date.\n",
            "+ wmake libso twoPhaseProperties\n",
            "'/root/RapidCFD/RapidCFD-dev/platforms/linux64NvccDPOpt/lib/libtwoPhaseProperties.so' is up to date.\n",
            "+ wmake libso incompressible\n",
            "'/root/RapidCFD/RapidCFD-dev/platforms/linux64NvccDPOpt/lib/libincompressibleTransportModels.so' is up to date.\n",
            "+ wmake libso compressible\n",
            "'/root/RapidCFD/RapidCFD-dev/platforms/linux64NvccDPOpt/lib/libcompressibleTransportModels.so' is up to date.\n",
            "+ wmake libso immiscibleIncompressibleTwoPhaseMixture\n",
            "'/root/RapidCFD/RapidCFD-dev/platforms/linux64NvccDPOpt/lib/libimmiscibleIncompressibleTwoPhaseMixture.so' is up to date.\n",
            "+ turbulenceModels/Allwmake\n",
            "+ LES/Allwmake\n",
            "+ wmakeLnInclude ../incompressible/LES\n",
            "+ wmake libso LESfilters\n",
            "'/root/RapidCFD/RapidCFD-dev/platforms/linux64NvccDPOpt/lib/libLESfilters.so' is up to date.\n",
            "+ wmake libso LESdeltas\n",
            "'/root/RapidCFD/RapidCFD-dev/platforms/linux64NvccDPOpt/lib/libLESdeltas.so' is up to date.\n",
            "+ incompressible/Allwmake\n",
            "+ wmake libso turbulenceModel\n",
            "'/root/RapidCFD/RapidCFD-dev/platforms/linux64NvccDPOpt/lib/libincompressibleTurbulenceModel.so' is up to date.\n",
            "+ wmake libso RAS\n",
            "'/root/RapidCFD/RapidCFD-dev/platforms/linux64NvccDPOpt/lib/libincompressibleRASModels.so' is up to date.\n",
            "+ wmake libso LES\n",
            "'/root/RapidCFD/RapidCFD-dev/platforms/linux64NvccDPOpt/lib/libincompressibleLESModels.so' is up to date.\n",
            "+ compressible/Allwmake\n",
            "+ wmake libso turbulenceModel\n",
            "'/root/RapidCFD/RapidCFD-dev/platforms/linux64NvccDPOpt/lib/libcompressibleTurbulenceModel.so' is up to date.\n",
            "+ wmake libso RAS\n",
            "'/root/RapidCFD/RapidCFD-dev/platforms/linux64NvccDPOpt/lib/libcompressibleRASModels.so' is up to date.\n",
            "+ wmake libso LES\n",
            "'/root/RapidCFD/RapidCFD-dev/platforms/linux64NvccDPOpt/lib/libcompressibleLESModels.so' is up to date.\n",
            "+ wmake libso derivedFvPatchFields\n",
            "'/root/RapidCFD/RapidCFD-dev/platforms/linux64NvccDPOpt/lib/libturbulenceDerivedFvPatchFields.so' is up to date.\n",
            "+ TurbulenceModels/Allwmake\n",
            "+ wmake libso turbulenceModels\n",
            "'/root/RapidCFD/RapidCFD-dev/platforms/linux64NvccDPOpt/lib/libturbulenceModels.so' is up to date.\n",
            "+ wmake libso incompressible\n",
            "'/root/RapidCFD/RapidCFD-dev/platforms/linux64NvccDPOpt/lib/libincompressibleTurbulenceModels.so' is up to date.\n",
            "+ wmake libso compressible\n",
            "'/root/RapidCFD/RapidCFD-dev/platforms/linux64NvccDPOpt/lib/libcompressibleTurbulenceModels.so' is up to date.\n",
            "+ wmakeLnInclude phaseIncompressible\n",
            "+ wmakeLnInclude phaseCompressible\n",
            "+ wmake libso regionModels/regionModel\n",
            "'/root/RapidCFD/RapidCFD-dev/platforms/linux64NvccDPOpt/lib/libregionModels.so' is up to date.\n",
            "+ wmake libso fvMotionSolver\n",
            "'/root/RapidCFD/RapidCFD-dev/platforms/linux64NvccDPOpt/lib/libfvMotionSolvers.so' is up to date.\n",
            "+ wmake libso fvOptions\n",
            "'/root/RapidCFD/RapidCFD-dev/platforms/linux64NvccDPOpt/lib/libfvOptions.so' is up to date.\n",
            "+ postProcessing/Allwmake\n",
            "+ wmake libo postCalc\n",
            "'/root/RapidCFD/RapidCFD-dev/platforms/linux64NvccDPOpt/lib/postCalc.o' is up to date.\n",
            "+ wmake libso foamCalcFunctions\n",
            "'/root/RapidCFD/RapidCFD-dev/platforms/linux64NvccDPOpt/lib/libfoamCalcFunctions.so' is up to date.\n",
            "+ functionObjects/Allwmake\n",
            "+ wmake libso field\n",
            "'/root/RapidCFD/RapidCFD-dev/platforms/linux64NvccDPOpt/lib/libfieldFunctionObjects.so' is up to date.\n",
            "+ wmake libso forces\n",
            "'/root/RapidCFD/RapidCFD-dev/platforms/linux64NvccDPOpt/lib/libforces.so' is up to date.\n",
            "+ wmake libso fvTools\n",
            "'/root/RapidCFD/RapidCFD-dev/platforms/linux64NvccDPOpt/lib/libFVFunctionObjects.so' is up to date.\n",
            "+ wmake libso IO\n",
            "'/root/RapidCFD/RapidCFD-dev/platforms/linux64NvccDPOpt/lib/libIOFunctionObjects.so' is up to date.\n",
            "+ wmake libso jobControl\n",
            "'/root/RapidCFD/RapidCFD-dev/platforms/linux64NvccDPOpt/lib/libjobControl.so' is up to date.\n",
            "+ wmake libso systemCall\n",
            "'/root/RapidCFD/RapidCFD-dev/platforms/linux64NvccDPOpt/lib/libsystemCall.so' is up to date.\n",
            "+ wmake libso utilities\n",
            "'/root/RapidCFD/RapidCFD-dev/platforms/linux64NvccDPOpt/lib/libutilityFunctionObjects.so' is up to date.\n",
            "+ wmake libso sixDoFRigidBodyMotion\n",
            "'/root/RapidCFD/RapidCFD-dev/platforms/linux64NvccDPOpt/lib/libsixDoFRigidBodyMotion.so' is up to date.\n",
            "+ wmake all solvers/basic\n",
            "nvcc -Xptxas -dlcm=cg -std=c++11 -m64 -arch=sm_75 -Dlinux64 -DWM_DP -Xcompiler -Wall -Xcompiler -Wextra -Xcompiler -Wno-unused-parameter -Xcompiler -Wno-vla -Xcudafe \"--diag_suppress=null_reference\" -Xcudafe \"--diag_suppress=subscript_out_of_range\" -Xcudafe \"--diag_suppress=extra_semicolon\" -Xcudafe \"--diag_suppress=partial_override\" -Xcudafe \"--diag_suppress=implicit_return_from_non_void_function\" -Xcudafe \"--diag_suppress=virtual_function_decl_hidden\" -O3  -DNoRepository -I/root/RapidCFD/RapidCFD-dev/src/finiteVolume/lnInclude -IlnInclude -I. -I/root/RapidCFD/RapidCFD-dev/src/OpenFOAM/lnInclude -I/root/RapidCFD/RapidCFD-dev/src/OSspecific/POSIX/lnInclude   -Xcompiler -fPIC -cudart shared -Xlinker --add-needed -Xlinker --no-as-needed Make/linux64NvccDPOpt/laplacianFoam.o -L/root/RapidCFD/RapidCFD-dev/platforms/linux64NvccDPOpt/lib \\\n",
            "     -lfiniteVolume -lOpenFOAM -ldl   -lm -o /root/RapidCFD/RapidCFD-dev/platforms/linux64NvccDPOpt/bin/laplacianFoam\n",
            "nvcc -Xptxas -dlcm=cg -std=c++11 -m64 -arch=sm_75 -Dlinux64 -DWM_DP -Xcompiler -Wall -Xcompiler -Wextra -Xcompiler -Wno-unused-parameter -Xcompiler -Wno-vla -Xcudafe \"--diag_suppress=null_reference\" -Xcudafe \"--diag_suppress=subscript_out_of_range\" -Xcudafe \"--diag_suppress=extra_semicolon\" -Xcudafe \"--diag_suppress=partial_override\" -Xcudafe \"--diag_suppress=implicit_return_from_non_void_function\" -Xcudafe \"--diag_suppress=virtual_function_decl_hidden\" -O3  -DNoRepository -I/root/RapidCFD/RapidCFD-dev/src/finiteVolume/lnInclude -I/root/RapidCFD/RapidCFD-dev/src/meshTools/lnInclude -I/root/RapidCFD/RapidCFD-dev/src/fvOptions/lnInclude -I/root/RapidCFD/RapidCFD-dev/src/sampling/lnInclude -IlnInclude -I. -I/root/RapidCFD/RapidCFD-dev/src/OpenFOAM/lnInclude -I/root/RapidCFD/RapidCFD-dev/src/OSspecific/POSIX/lnInclude   -Xcompiler -fPIC -cudart shared -Xlinker --add-needed -Xlinker --no-as-needed Make/linux64NvccDPOpt/potentialFoam.o -L/root/RapidCFD/RapidCFD-dev/platforms/linux64NvccDPOpt/lib \\\n",
            "     -lfiniteVolume -lmeshTools -lfvOptions -lsampling -lOpenFOAM -ldl   -lm -o /root/RapidCFD/RapidCFD-dev/platforms/linux64NvccDPOpt/bin/potentialFoam\n",
            "/usr/bin/ld: /root/RapidCFD/RapidCFD-dev/platforms/linux64NvccDPOpt/lib/libOpenFOAM.so: undefined reference to `Foam::Ostream& Foam::operator<< <double>(Foam::Ostream&, Foam::gpuList<double> const&)'\n",
            "/usr/bin/ld: /root/RapidCFD/RapidCFD-dev/platforms/linux64NvccDPOpt/lib/libOpenFOAM.so: undefined reference to `Foam::Ostream& Foam::operator<< <int>(Foam::Ostream&, Foam::gpuList<int> const&)'\n",
            "collect2: error: ld returned 1 exit status\n",
            "make[1]: *** [/root/RapidCFD/RapidCFD-dev/wmake/Makefile:150: /root/RapidCFD/RapidCFD-dev/platforms/linux64NvccDPOpt/bin/laplacianFoam] Error 1\n",
            "make: *** [/root/RapidCFD/RapidCFD-dev/wmake/MakefileApps:39: laplacianFoam] Error 2\n",
            "/usr/bin/ld: /root/RapidCFD/RapidCFD-dev/platforms/linux64NvccDPOpt/lib/libOpenFOAM.so: undefined reference to `Foam::Ostream& Foam::operator<< <int>(Foam::Ostream&, Foam::gpuList<int> const&)'\n",
            "/usr/bin/ld: /root/RapidCFD/RapidCFD-dev/platforms/linux64NvccDPOpt/lib/libOpenFOAM.so: undefined reference to `Foam::Ostream& Foam::operator<< <double>(Foam::Ostream&, Foam::gpuList<double> const&)'\n",
            "collect2: error: ld returned 1 exit status\n",
            "make[1]: *** [/root/RapidCFD/RapidCFD-dev/wmake/Makefile:150: /root/RapidCFD/RapidCFD-dev/platforms/linux64NvccDPOpt/bin/potentialFoam] Error 1\n",
            "make: *** [/root/RapidCFD/RapidCFD-dev/wmake/MakefileApps:39: potentialFoam] Error 2\n",
            "nvcc -Xptxas -dlcm=cg -std=c++11 -m64 -arch=sm_75 -Dlinux64 -DWM_DP -Xcompiler -Wall -Xcompiler -Wextra -Xcompiler -Wno-unused-parameter -Xcompiler -Wno-vla -Xcudafe \"--diag_suppress=null_reference\" -Xcudafe \"--diag_suppress=subscript_out_of_range\" -Xcudafe \"--diag_suppress=extra_semicolon\" -Xcudafe \"--diag_suppress=partial_override\" -Xcudafe \"--diag_suppress=implicit_return_from_non_void_function\" -Xcudafe \"--diag_suppress=virtual_function_decl_hidden\" -O3  -DNoRepository -I/root/RapidCFD/RapidCFD-dev/src/finiteVolume/lnInclude -I/root/RapidCFD/RapidCFD-dev/src/fvOptions/lnInclude -I/root/RapidCFD/RapidCFD-dev/src/meshTools/lnInclude -I/root/RapidCFD/RapidCFD-dev/src/sampling/lnInclude -IlnInclude -I. -I/root/RapidCFD/RapidCFD-dev/src/OpenFOAM/lnInclude -I/root/RapidCFD/RapidCFD-dev/src/OSspecific/POSIX/lnInclude   -Xcompiler -fPIC -cudart shared -Xlinker --add-needed -Xlinker --no-as-needed Make/linux64NvccDPOpt/scalarTransportFoam.o -L/root/RapidCFD/RapidCFD-dev/platforms/linux64NvccDPOpt/lib \\\n",
            "     -lfiniteVolume -lfvOptions -lmeshTools -lsampling -lOpenFOAM -ldl   -lm -o /root/RapidCFD/RapidCFD-dev/platforms/linux64NvccDPOpt/bin/scalarTransportFoam\n",
            "/usr/bin/ld: /root/RapidCFD/RapidCFD-dev/platforms/linux64NvccDPOpt/lib/libOpenFOAM.so: undefined reference to `Foam::Ostream& Foam::operator<< <int>(Foam::Ostream&, Foam::gpuList<int> const&)'\n",
            "/usr/bin/ld: /root/RapidCFD/RapidCFD-dev/platforms/linux64NvccDPOpt/lib/libOpenFOAM.so: undefined reference to `Foam::Ostream& Foam::operator<< <double>(Foam::Ostream&, Foam::gpuList<double> const&)'\n",
            "collect2: error: ld returned 1 exit status\n",
            "make[1]: *** [/root/RapidCFD/RapidCFD-dev/wmake/Makefile:150: /root/RapidCFD/RapidCFD-dev/platforms/linux64NvccDPOpt/bin/scalarTransportFoam] Error 1\n",
            "make: *** [/root/RapidCFD/RapidCFD-dev/wmake/MakefileApps:39: scalarTransportFoam] Error 2\n",
            "make: Target 'application' not remade because of errors.\n",
            "+ wmake all solvers/incompressible\n",
            "nvcc -Xptxas -dlcm=cg -std=c++11 -m64 -arch=sm_75 -Dlinux64 -DWM_DP -Xcompiler -Wall -Xcompiler -Wextra -Xcompiler -Wno-unused-parameter -Xcompiler -Wno-vla -Xcudafe \"--diag_suppress=null_reference\" -Xcudafe \"--diag_suppress=subscript_out_of_range\" -Xcudafe \"--diag_suppress=extra_semicolon\" -Xcudafe \"--diag_suppress=partial_override\" -Xcudafe \"--diag_suppress=implicit_return_from_non_void_function\" -Xcudafe \"--diag_suppress=virtual_function_decl_hidden\" -O3  -DNoRepository -I/root/RapidCFD/RapidCFD-dev/src/finiteVolume/lnInclude -I/root/RapidCFD/RapidCFD-dev/src/sampling/lnInclude -IlnInclude -I. -I/root/RapidCFD/RapidCFD-dev/src/OpenFOAM/lnInclude -I/root/RapidCFD/RapidCFD-dev/src/OSspecific/POSIX/lnInclude   -Xcompiler -fPIC -cudart shared -Xlinker --add-needed -Xlinker --no-as-needed Make/linux64NvccDPOpt/icoFoam.o -L/root/RapidCFD/RapidCFD-dev/platforms/linux64NvccDPOpt/lib \\\n",
            "     -lfiniteVolume -lsampling -lOpenFOAM -ldl   -lm -o /root/RapidCFD/RapidCFD-dev/platforms/linux64NvccDPOpt/bin/icoFoam\n",
            "nvcc -Xptxas -dlcm=cg -std=c++11 -m64 -arch=sm_75 -Dlinux64 -DWM_DP -Xcompiler -Wall -Xcompiler -Wextra -Xcompiler -Wno-unused-parameter -Xcompiler -Wno-vla -Xcudafe \"--diag_suppress=null_reference\" -Xcudafe \"--diag_suppress=subscript_out_of_range\" -Xcudafe \"--diag_suppress=extra_semicolon\" -Xcudafe \"--diag_suppress=partial_override\" -Xcudafe \"--diag_suppress=implicit_return_from_non_void_function\" -Xcudafe \"--diag_suppress=virtual_function_decl_hidden\" -O3  -DNoRepository -I/root/RapidCFD/RapidCFD-dev/src/turbulenceModels -I/root/RapidCFD/RapidCFD-dev/src/turbulenceModels/incompressible/RAS/RASModel -I/root/RapidCFD/RapidCFD-dev/src/transportModels -I/root/RapidCFD/RapidCFD-dev/src/transportModels/incompressible/singlePhaseTransportModel -I/root/RapidCFD/RapidCFD-dev/src/finiteVolume/lnInclude -IlnInclude -I. -I/root/RapidCFD/RapidCFD-dev/src/OpenFOAM/lnInclude -I/root/RapidCFD/RapidCFD-dev/src/OSspecific/POSIX/lnInclude   -Xcompiler -fPIC -cudart shared -Xlinker --add-needed -Xlinker --no-as-needed Make/linux64NvccDPOpt/adjointOutletPressureFvPatchScalarField.o Make/linux64NvccDPOpt/adjointOutletVelocityFvPatchVectorField.o Make/linux64NvccDPOpt/adjointShapeOptimizationFoam.o -L/root/RapidCFD/RapidCFD-dev/platforms/linux64NvccDPOpt/lib \\\n",
            "     -lincompressibleRASModels -lincompressibleTransportModels -lfiniteVolume -lOpenFOAM -ldl   -lm -o /root/RapidCFD/RapidCFD-dev/platforms/linux64NvccDPOpt/bin/adjointShapeOptimizationFoam\n",
            "/usr/bin/ld: /root/RapidCFD/RapidCFD-dev/platforms/linux64NvccDPOpt/lib/libOpenFOAM.so: undefined reference to `Foam::Ostream& Foam::operator<< <double>(Foam::Ostream&, Foam::gpuList<double> const&)'\n",
            "/usr/bin/ld: /root/RapidCFD/RapidCFD-dev/platforms/linux64NvccDPOpt/lib/libOpenFOAM.so: undefined reference to `Foam::Ostream& Foam::operator<< <int>(Foam::Ostream&, Foam::gpuList<int> const&)'\n",
            "collect2: error: ld returned 1 exit status\n",
            "make[1]: *** [/root/RapidCFD/RapidCFD-dev/wmake/Makefile:150: /root/RapidCFD/RapidCFD-dev/platforms/linux64NvccDPOpt/bin/icoFoam] Error 1\n",
            "make: *** [/root/RapidCFD/RapidCFD-dev/wmake/MakefileApps:39: icoFoam] Error 2\n",
            "/usr/bin/ld: /root/RapidCFD/RapidCFD-dev/platforms/linux64NvccDPOpt/lib/libOpenFOAM.so: undefined reference to `Foam::Ostream& Foam::operator<< <double>(Foam::Ostream&, Foam::gpuList<double> const&)'\n",
            "/usr/bin/ld: /root/RapidCFD/RapidCFD-dev/platforms/linux64NvccDPOpt/lib/libOpenFOAM.so: undefined reference to `Foam::Ostream& Foam::operator<< <int>(Foam::Ostream&, Foam::gpuList<int> const&)'\n",
            "collect2: error: ld returned 1 exit status\n",
            "make[1]: *** [/root/RapidCFD/RapidCFD-dev/wmake/Makefile:150: /root/RapidCFD/RapidCFD-dev/platforms/linux64NvccDPOpt/bin/adjointShapeOptimizationFoam] Error 1\n",
            "make: *** [/root/RapidCFD/RapidCFD-dev/wmake/MakefileApps:39: adjointShapeOptimizationFoam] Error 2\n",
            "+ wmake\n",
            "nvcc -Xptxas -dlcm=cg -std=c++11 -m64 -arch=sm_75 -Dlinux64 -DWM_DP -Xcompiler -Wall -Xcompiler -Wextra -Xcompiler -Wno-unused-parameter -Xcompiler -Wno-vla -Xcudafe \"--diag_suppress=null_reference\" -Xcudafe \"--diag_suppress=subscript_out_of_range\" -Xcudafe \"--diag_suppress=extra_semicolon\" -Xcudafe \"--diag_suppress=partial_override\" -Xcudafe \"--diag_suppress=implicit_return_from_non_void_function\" -Xcudafe \"--diag_suppress=virtual_function_decl_hidden\" -O3  -DNoRepository -I/root/RapidCFD/RapidCFD-dev/src/finiteVolume/lnInclude -I/root/RapidCFD/RapidCFD-dev/src/transportModels -I/root/RapidCFD/RapidCFD-dev/src/transportModels/incompressible/singlePhaseTransportModel -IlnInclude -I. -I/root/RapidCFD/RapidCFD-dev/src/OpenFOAM/lnInclude -I/root/RapidCFD/RapidCFD-dev/src/OSspecific/POSIX/lnInclude   -Xcompiler -fPIC -cudart shared -Xlinker --add-needed -Xlinker --no-as-needed Make/linux64NvccDPOpt/nonNewtonianIcoFoam.o -L/root/RapidCFD/RapidCFD-dev/platforms/linux64NvccDPOpt/lib \\\n",
            "     -lfiniteVolume -lincompressibleTransportModels -lOpenFOAM -ldl   -lm -o /root/RapidCFD/RapidCFD-dev/platforms/linux64NvccDPOpt/bin/nonNewtonianIcoFoam\n",
            "nvcc -Xptxas -dlcm=cg -std=c++11 -m64 -arch=sm_75 -Dlinux64 -DWM_DP -Xcompiler -Wall -Xcompiler -Wextra -Xcompiler -Wno-unused-parameter -Xcompiler -Wno-vla -Xcudafe \"--diag_suppress=null_reference\" -Xcudafe \"--diag_suppress=subscript_out_of_range\" -Xcudafe \"--diag_suppress=extra_semicolon\" -Xcudafe \"--diag_suppress=partial_override\" -Xcudafe \"--diag_suppress=implicit_return_from_non_void_function\" -Xcudafe \"--diag_suppress=virtual_function_decl_hidden\" -O3  -DNoRepository -I/root/RapidCFD/RapidCFD-dev/src/turbulenceModels/incompressible/turbulenceModel -I/root/RapidCFD/RapidCFD-dev/src/transportModels -I/root/RapidCFD/RapidCFD-dev/src/transportModels/incompressible/singlePhaseTransportModel -I/root/RapidCFD/RapidCFD-dev/src/finiteVolume/lnInclude -I/root/RapidCFD/RapidCFD-dev/src/meshTools/lnInclude -I/root/RapidCFD/RapidCFD-dev/src/fvOptions/lnInclude -I/root/RapidCFD/RapidCFD-dev/src/sampling/lnInclude -IlnInclude -I. -I/root/RapidCFD/RapidCFD-dev/src/OpenFOAM/lnInclude -I/root/RapidCFD/RapidCFD-dev/src/OSspecific/POSIX/lnInclude   -Xcompiler -fPIC -cudart shared -Xlinker --add-needed -Xlinker --no-as-needed Make/linux64NvccDPOpt/pimpleFoam.o -L/root/RapidCFD/RapidCFD-dev/platforms/linux64NvccDPOpt/lib \\\n",
            "     -lincompressibleTransportModels -lincompressibleTurbulenceModel -lincompressibleRASModels -lincompressibleLESModels -lfiniteVolume -lmeshTools -lfvOptions -lsampling -lOpenFOAM -ldl   -lm -o /root/RapidCFD/RapidCFD-dev/platforms/linux64NvccDPOpt/bin/pimpleFoam\n",
            "/usr/bin/ld: /root/RapidCFD/RapidCFD-dev/platforms/linux64NvccDPOpt/lib/libOpenFOAM.so: undefined reference to `Foam::Ostream& Foam::operator<< <double>(Foam::Ostream&, Foam::gpuList<double> const&)'\n",
            "/usr/bin/ld: /root/RapidCFD/RapidCFD-dev/platforms/linux64NvccDPOpt/lib/libOpenFOAM.so: undefined reference to `Foam::Ostream& Foam::operator<< <int>(Foam::Ostream&, Foam::gpuList<int> const&)'\n",
            "collect2: error: ld returned 1 exit status\n",
            "make[1]: *** [/root/RapidCFD/RapidCFD-dev/wmake/Makefile:150: /root/RapidCFD/RapidCFD-dev/platforms/linux64NvccDPOpt/bin/nonNewtonianIcoFoam] Error 1\n",
            "make: *** [/root/RapidCFD/RapidCFD-dev/wmake/MakefileApps:39: nonNewtonianIcoFoam] Error 2\n",
            "/usr/bin/ld: /root/RapidCFD/RapidCFD-dev/platforms/linux64NvccDPOpt/lib/libOpenFOAM.so: undefined reference to `Foam::Ostream& Foam::operator<< <int>(Foam::Ostream&, Foam::gpuList<int> const&)'\n",
            "/usr/bin/ld: /root/RapidCFD/RapidCFD-dev/platforms/linux64NvccDPOpt/lib/libOpenFOAM.so: undefined reference to `Foam::Ostream& Foam::operator<< <double>(Foam::Ostream&, Foam::gpuList<double> const&)'\n",
            "collect2: error: ld returned 1 exit status\n",
            "make[1]: *** [/root/RapidCFD/RapidCFD-dev/wmake/Makefile:150: /root/RapidCFD/RapidCFD-dev/platforms/linux64NvccDPOpt/bin/pimpleFoam] Error 1\n",
            "+ wmake SRFPimpleFoam\n",
            "nvcc -Xptxas -dlcm=cg -std=c++11 -m64 -arch=sm_75 -Dlinux64 -DWM_DP -Xcompiler -Wall -Xcompiler -Wextra -Xcompiler -Wno-unused-parameter -Xcompiler -Wno-vla -Xcudafe \"--diag_suppress=null_reference\" -Xcudafe \"--diag_suppress=subscript_out_of_range\" -Xcudafe \"--diag_suppress=extra_semicolon\" -Xcudafe \"--diag_suppress=partial_override\" -Xcudafe \"--diag_suppress=implicit_return_from_non_void_function\" -Xcudafe \"--diag_suppress=virtual_function_decl_hidden\" -O3  -DNoRepository -I/root/RapidCFD/RapidCFD-dev/src/turbulenceModels/incompressible/turbulenceModel -I/root/RapidCFD/RapidCFD-dev/src/transportModels -I/root/RapidCFD/RapidCFD-dev/src/transportModels/incompressible/singlePhaseTransportModel -I/root/RapidCFD/RapidCFD-dev/src/finiteVolume/lnInclude -IlnInclude -I. -I/root/RapidCFD/RapidCFD-dev/src/OpenFOAM/lnInclude -I/root/RapidCFD/RapidCFD-dev/src/OSspecific/POSIX/lnInclude   -Xcompiler -fPIC -cudart shared -Xlinker --add-needed -Xlinker --no-as-needed Make/linux64NvccDPOpt/pisoFoam.o -L/root/RapidCFD/RapidCFD-dev/platforms/linux64NvccDPOpt/lib \\\n",
            "     -lincompressibleTurbulenceModel -lincompressibleRASModels -lincompressibleLESModels -lincompressibleTransportModels -lfiniteVolume -lmeshTools -lOpenFOAM -ldl   -lm -o /root/RapidCFD/RapidCFD-dev/platforms/linux64NvccDPOpt/bin/pisoFoam\n",
            "nvcc -Xptxas -dlcm=cg -std=c++11 -m64 -arch=sm_75 -Dlinux64 -DWM_DP -Xcompiler -Wall -Xcompiler -Wextra -Xcompiler -Wno-unused-parameter -Xcompiler -Wno-vla -Xcudafe \"--diag_suppress=null_reference\" -Xcudafe \"--diag_suppress=subscript_out_of_range\" -Xcudafe \"--diag_suppress=extra_semicolon\" -Xcudafe \"--diag_suppress=partial_override\" -Xcudafe \"--diag_suppress=implicit_return_from_non_void_function\" -Xcudafe \"--diag_suppress=virtual_function_decl_hidden\" -O3  -DNoRepository -I/root/RapidCFD/RapidCFD-dev/src/turbulenceModels/incompressible/turbulenceModel -I/root/RapidCFD/RapidCFD-dev/src/transportModels -I/root/RapidCFD/RapidCFD-dev/src/transportModels/incompressible/singlePhaseTransportModel -I/root/RapidCFD/RapidCFD-dev/src/finiteVolume/lnInclude -I/root/RapidCFD/RapidCFD-dev/src/meshTools/lnInclude -I/root/RapidCFD/RapidCFD-dev/src/fvOptions/lnInclude -I/root/RapidCFD/RapidCFD-dev/src/sampling/lnInclude -IlnInclude -I. -I/root/RapidCFD/RapidCFD-dev/src/OpenFOAM/lnInclude -I/root/RapidCFD/RapidCFD-dev/src/OSspecific/POSIX/lnInclude   -Xcompiler -fPIC -cudart shared -Xlinker --add-needed -Xlinker --no-as-needed Make/linux64NvccDPOpt/SRFPimpleFoam.o -L/root/RapidCFD/RapidCFD-dev/platforms/linux64NvccDPOpt/lib \\\n",
            "     -lincompressibleTransportModels -lincompressibleTurbulenceModel -lincompressibleRASModels -lincompressibleLESModels -lfiniteVolume -lmeshTools -lfvOptions -lsampling -lOpenFOAM -ldl   -lm -o /root/RapidCFD/RapidCFD-dev/platforms/linux64NvccDPOpt/bin/SRFPimpleFoam\n",
            "/usr/bin/ld: /root/RapidCFD/RapidCFD-dev/platforms/linux64NvccDPOpt/lib/libOpenFOAM.so: undefined reference to `Foam::Ostream& Foam::operator<< <double>(Foam::Ostream&, Foam::gpuList<double> const&)'\n",
            "/usr/bin/ld: /root/RapidCFD/RapidCFD-dev/platforms/linux64NvccDPOpt/lib/libOpenFOAM.so: undefined reference to `Foam::Ostream& Foam::operator<< <int>(Foam::Ostream&, Foam::gpuList<int> const&)'\n",
            "collect2: error: ld returned 1 exit status\n",
            "make[1]: *** [/root/RapidCFD/RapidCFD-dev/wmake/Makefile:150: /root/RapidCFD/RapidCFD-dev/platforms/linux64NvccDPOpt/bin/pisoFoam] Error 1\n",
            "make: *** [/root/RapidCFD/RapidCFD-dev/wmake/MakefileApps:39: pisoFoam] Error 2\n",
            "/usr/bin/ld: /root/RapidCFD/RapidCFD-dev/platforms/linux64NvccDPOpt/lib/libOpenFOAM.so: undefined reference to `Foam::Ostream& Foam::operator<< <int>(Foam::Ostream&, Foam::gpuList<int> const&)'\n",
            "/usr/bin/ld: /root/RapidCFD/RapidCFD-dev/platforms/linux64NvccDPOpt/lib/libOpenFOAM.so: undefined reference to `Foam::Ostream& Foam::operator<< <double>(Foam::Ostream&, Foam::gpuList<double> const&)'\n",
            "collect2: error: ld returned 1 exit status\n",
            "make[1]: *** [/root/RapidCFD/RapidCFD-dev/wmake/Makefile:150: /root/RapidCFD/RapidCFD-dev/platforms/linux64NvccDPOpt/bin/SRFPimpleFoam] Error 1\n",
            "+ wmake pimpleDyMFoam\n",
            "nvcc -Xptxas -dlcm=cg -std=c++11 -m64 -arch=sm_75 -Dlinux64 -DWM_DP -Xcompiler -Wall -Xcompiler -Wextra -Xcompiler -Wno-unused-parameter -Xcompiler -Wno-vla -Xcudafe \"--diag_suppress=null_reference\" -Xcudafe \"--diag_suppress=subscript_out_of_range\" -Xcudafe \"--diag_suppress=extra_semicolon\" -Xcudafe \"--diag_suppress=partial_override\" -Xcudafe \"--diag_suppress=implicit_return_from_non_void_function\" -Xcudafe \"--diag_suppress=virtual_function_decl_hidden\" -O3  -DNoRepository -I/root/RapidCFD/RapidCFD-dev/src/finiteVolume/lnInclude -IlnInclude -I. -I/root/RapidCFD/RapidCFD-dev/src/OpenFOAM/lnInclude -I/root/RapidCFD/RapidCFD-dev/src/OSspecific/POSIX/lnInclude   -Xcompiler -fPIC -cudart shared -Xlinker --add-needed -Xlinker --no-as-needed Make/linux64NvccDPOpt/shallowWaterFoam.o -L/root/RapidCFD/RapidCFD-dev/platforms/linux64NvccDPOpt/lib \\\n",
            "     -lfiniteVolume -lOpenFOAM -ldl   -lm -o /root/RapidCFD/RapidCFD-dev/platforms/linux64NvccDPOpt/bin/shallowWaterFoam\n",
            "nvcc -Xptxas -dlcm=cg -std=c++11 -m64 -arch=sm_75 -Dlinux64 -DWM_DP -Xcompiler -Wall -Xcompiler -Wextra -Xcompiler -Wno-unused-parameter -Xcompiler -Wno-vla -Xcudafe \"--diag_suppress=null_reference\" -Xcudafe \"--diag_suppress=subscript_out_of_range\" -Xcudafe \"--diag_suppress=extra_semicolon\" -Xcudafe \"--diag_suppress=partial_override\" -Xcudafe \"--diag_suppress=implicit_return_from_non_void_function\" -Xcudafe \"--diag_suppress=virtual_function_decl_hidden\" -O3  -DNoRepository -I.. -I/root/RapidCFD/RapidCFD-dev/src/turbulenceModels/incompressible/turbulenceModel -I/root/RapidCFD/RapidCFD-dev/src/transportModels -I/root/RapidCFD/RapidCFD-dev/src/transportModels/incompressible/singlePhaseTransportModel -I/root/RapidCFD/RapidCFD-dev/src/finiteVolume/lnInclude -I/root/RapidCFD/RapidCFD-dev/src/fvOptions/lnInclude -I/root/RapidCFD/RapidCFD-dev/src/sampling/lnInclude -I/root/RapidCFD/RapidCFD-dev/src/dynamicFvMesh/lnInclude -I/root/RapidCFD/RapidCFD-dev/src/meshTools/lnInclude  -IlnInclude -I. -I/root/RapidCFD/RapidCFD-dev/src/OpenFOAM/lnInclude -I/root/RapidCFD/RapidCFD-dev/src/OSspecific/POSIX/lnInclude   -Xcompiler -fPIC -cudart shared -Xlinker --add-needed -Xlinker --no-as-needed Make/linux64NvccDPOpt/pimpleDyMFoam.o -L/root/RapidCFD/RapidCFD-dev/platforms/linux64NvccDPOpt/lib \\\n",
            "     -ldynamicFvMesh -lincompressibleTransportModels -lincompressibleTurbulenceModel -lincompressibleRASModels -lincompressibleLESModels -lfvOptions -lsampling -lfiniteVolume -lmeshTools -lOpenFOAM -ldl   -lm -o /root/RapidCFD/RapidCFD-dev/platforms/linux64NvccDPOpt/bin/pimpleDyMFoam\n",
            "/usr/bin/ld: /root/RapidCFD/RapidCFD-dev/platforms/linux64NvccDPOpt/lib/libOpenFOAM.so: undefined reference to `Foam::Ostream& Foam::operator<< <double>(Foam::Ostream&, Foam::gpuList<double> const&)'\n",
            "/usr/bin/ld: /root/RapidCFD/RapidCFD-dev/platforms/linux64NvccDPOpt/lib/libOpenFOAM.so: undefined reference to `Foam::Ostream& Foam::operator<< <int>(Foam::Ostream&, Foam::gpuList<int> const&)'\n",
            "collect2: error: ld returned 1 exit status\n",
            "make[1]: *** [/root/RapidCFD/RapidCFD-dev/wmake/Makefile:150: /root/RapidCFD/RapidCFD-dev/platforms/linux64NvccDPOpt/bin/shallowWaterFoam] Error 1\n",
            "make: *** [/root/RapidCFD/RapidCFD-dev/wmake/MakefileApps:39: shallowWaterFoam] Error 2\n",
            "+ wmake\n",
            "/usr/bin/ld: /root/RapidCFD/RapidCFD-dev/platforms/linux64NvccDPOpt/lib/libOpenFOAM.so: undefined reference to `Foam::Ostream& Foam::operator<< <int>(Foam::Ostream&, Foam::gpuList<int> const&)'\n",
            "/usr/bin/ld: /root/RapidCFD/RapidCFD-dev/platforms/linux64NvccDPOpt/lib/libOpenFOAM.so: undefined reference to `Foam::Ostream& Foam::operator<< <double>(Foam::Ostream&, Foam::gpuList<double> const&)'\n",
            "collect2: error: ld returned 1 exit status\n",
            "make[1]: *** [/root/RapidCFD/RapidCFD-dev/wmake/Makefile:150: /root/RapidCFD/RapidCFD-dev/platforms/linux64NvccDPOpt/bin/pimpleDyMFoam] Error 1\n",
            "make: *** [/root/RapidCFD/RapidCFD-dev/wmake/MakefileApps:39: pimpleFoam] Error 2\n",
            "nvcc -Xptxas -dlcm=cg -std=c++11 -m64 -arch=sm_75 -Dlinux64 -DWM_DP -Xcompiler -Wall -Xcompiler -Wextra -Xcompiler -Wno-unused-parameter -Xcompiler -Wno-vla -Xcudafe \"--diag_suppress=null_reference\" -Xcudafe \"--diag_suppress=subscript_out_of_range\" -Xcudafe \"--diag_suppress=extra_semicolon\" -Xcudafe \"--diag_suppress=partial_override\" -Xcudafe \"--diag_suppress=implicit_return_from_non_void_function\" -Xcudafe \"--diag_suppress=virtual_function_decl_hidden\" -O3  -DNoRepository -I/root/RapidCFD/RapidCFD-dev/src/turbulenceModels -I/root/RapidCFD/RapidCFD-dev/src/turbulenceModels/incompressible/RAS/RASModel -I/root/RapidCFD/RapidCFD-dev/src/transportModels -I/root/RapidCFD/RapidCFD-dev/src/transportModels/incompressible/singlePhaseTransportModel -I/root/RapidCFD/RapidCFD-dev/src/finiteVolume/lnInclude -I/root/RapidCFD/RapidCFD-dev/src/meshTools/lnInclude -I/root/RapidCFD/RapidCFD-dev/src/fvOptions/lnInclude -I/root/RapidCFD/RapidCFD-dev/src/sampling/lnInclude -IlnInclude -I. -I/root/RapidCFD/RapidCFD-dev/src/OpenFOAM/lnInclude -I/root/RapidCFD/RapidCFD-dev/src/OSspecific/POSIX/lnInclude   -Xcompiler -fPIC -cudart shared -Xlinker --add-needed -Xlinker --no-as-needed Make/linux64NvccDPOpt/simpleFoam.o -L/root/RapidCFD/RapidCFD-dev/platforms/linux64NvccDPOpt/lib \\\n",
            "     -lincompressibleTurbulenceModel -lincompressibleRASModels -lincompressibleTransportModels -lfiniteVolume -lfvOptions -lmeshTools -lOpenFOAM -ldl   -lm -o /root/RapidCFD/RapidCFD-dev/platforms/linux64NvccDPOpt/bin/simpleFoam\n",
            "/usr/bin/ld: /root/RapidCFD/RapidCFD-dev/platforms/linux64NvccDPOpt/lib/libOpenFOAM.so: undefined reference to `Foam::Ostream& Foam::operator<< <int>(Foam::Ostream&, Foam::gpuList<int> const&)'\n",
            "/usr/bin/ld: /root/RapidCFD/RapidCFD-dev/platforms/linux64NvccDPOpt/lib/libOpenFOAM.so: undefined reference to `Foam::Ostream& Foam::operator<< <double>(Foam::Ostream&, Foam::gpuList<double> const&)'\n",
            "collect2: error: ld returned 1 exit status\n",
            "make[1]: *** [/root/RapidCFD/RapidCFD-dev/wmake/Makefile:150: /root/RapidCFD/RapidCFD-dev/platforms/linux64NvccDPOpt/bin/simpleFoam] Error 1\n",
            "+ wmake SRFSimpleFoam\n",
            "nvcc -Xptxas -dlcm=cg -std=c++11 -m64 -arch=sm_75 -Dlinux64 -DWM_DP -Xcompiler -Wall -Xcompiler -Wextra -Xcompiler -Wno-unused-parameter -Xcompiler -Wno-vla -Xcudafe \"--diag_suppress=null_reference\" -Xcudafe \"--diag_suppress=subscript_out_of_range\" -Xcudafe \"--diag_suppress=extra_semicolon\" -Xcudafe \"--diag_suppress=partial_override\" -Xcudafe \"--diag_suppress=implicit_return_from_non_void_function\" -Xcudafe \"--diag_suppress=virtual_function_decl_hidden\" -O3  -DNoRepository -I.. -I/root/RapidCFD/RapidCFD-dev/src/finiteVolume/lnInclude -I/root/RapidCFD/RapidCFD-dev/src/turbulenceModels -I/root/RapidCFD/RapidCFD-dev/src/turbulenceModels/incompressible/RAS/RASModel -I/root/RapidCFD/RapidCFD-dev/src/transportModels -I/root/RapidCFD/RapidCFD-dev/src/transportModels/incompressible/singlePhaseTransportModel -I/root/RapidCFD/RapidCFD-dev/src/meshTools/lnInclude -I/root/RapidCFD/RapidCFD-dev/src/fvOptions/lnInclude -I/root/RapidCFD/RapidCFD-dev/src/sampling/lnInclude -IlnInclude -I. -I/root/RapidCFD/RapidCFD-dev/src/OpenFOAM/lnInclude -I/root/RapidCFD/RapidCFD-dev/src/OSspecific/POSIX/lnInclude   -Xcompiler -fPIC -cudart shared -Xlinker --add-needed -Xlinker --no-as-needed Make/linux64NvccDPOpt/SRFSimpleFoam.o -L/root/RapidCFD/RapidCFD-dev/platforms/linux64NvccDPOpt/lib \\\n",
            "     -lincompressibleRASModels -lincompressibleTransportModels -lfiniteVolume -lmeshTools -lfvOptions -lsampling -lOpenFOAM -ldl   -lm -o /root/RapidCFD/RapidCFD-dev/platforms/linux64NvccDPOpt/bin/SRFSimpleFoam\n",
            "/usr/bin/ld: /root/RapidCFD/RapidCFD-dev/platforms/linux64NvccDPOpt/lib/libOpenFOAM.so: undefined reference to `Foam::Ostream& Foam::operator<< <int>(Foam::Ostream&, Foam::gpuList<int> const&)'\n",
            "/usr/bin/ld: /root/RapidCFD/RapidCFD-dev/platforms/linux64NvccDPOpt/lib/libOpenFOAM.so: undefined reference to `Foam::Ostream& Foam::operator<< <double>(Foam::Ostream&, Foam::gpuList<double> const&)'\n",
            "collect2: error: ld returned 1 exit status\n",
            "make[1]: *** [/root/RapidCFD/RapidCFD-dev/wmake/Makefile:150: /root/RapidCFD/RapidCFD-dev/platforms/linux64NvccDPOpt/bin/SRFSimpleFoam] Error 1\n",
            "+ wmake porousSimpleFoam\n",
            "nvcc -Xptxas -dlcm=cg -std=c++11 -m64 -arch=sm_75 -Dlinux64 -DWM_DP -Xcompiler -Wall -Xcompiler -Wextra -Xcompiler -Wno-unused-parameter -Xcompiler -Wno-vla -Xcudafe \"--diag_suppress=null_reference\" -Xcudafe \"--diag_suppress=subscript_out_of_range\" -Xcudafe \"--diag_suppress=extra_semicolon\" -Xcudafe \"--diag_suppress=partial_override\" -Xcudafe \"--diag_suppress=implicit_return_from_non_void_function\" -Xcudafe \"--diag_suppress=virtual_function_decl_hidden\" -O3  -DNoRepository -I.. -I/root/RapidCFD/RapidCFD-dev/src/turbulenceModels -I/root/RapidCFD/RapidCFD-dev/src/turbulenceModels/incompressible/RAS/RASModel -I/root/RapidCFD/RapidCFD-dev/src/transportModels -I/root/RapidCFD/RapidCFD-dev/src/transportModels/incompressible/singlePhaseTransportModel -I/root/RapidCFD/RapidCFD-dev/src/finiteVolume/lnInclude -I/root/RapidCFD/RapidCFD-dev/src/meshTools/lnInclude -I/root/RapidCFD/RapidCFD-dev/src/fvOptions/lnInclude -I/root/RapidCFD/RapidCFD-dev/src/sampling/lnInclude -IlnInclude -I. -I/root/RapidCFD/RapidCFD-dev/src/OpenFOAM/lnInclude -I/root/RapidCFD/RapidCFD-dev/src/OSspecific/POSIX/lnInclude   -Xcompiler -fPIC -cudart shared -Xlinker --add-needed -Xlinker --no-as-needed Make/linux64NvccDPOpt/porousSimpleFoam.o -L/root/RapidCFD/RapidCFD-dev/platforms/linux64NvccDPOpt/lib \\\n",
            "     -lincompressibleTurbulenceModel -lincompressibleRASModels -lincompressibleTransportModels -lfiniteVolume -lmeshTools -lfvOptions -lsampling -lOpenFOAM -ldl   -lm -o /root/RapidCFD/RapidCFD-dev/platforms/linux64NvccDPOpt/bin/porousSimpleFoam\n",
            "/usr/bin/ld: /root/RapidCFD/RapidCFD-dev/platforms/linux64NvccDPOpt/lib/libOpenFOAM.so: undefined reference to `Foam::Ostream& Foam::operator<< <int>(Foam::Ostream&, Foam::gpuList<int> const&)'\n",
            "/usr/bin/ld: /root/RapidCFD/RapidCFD-dev/platforms/linux64NvccDPOpt/lib/libOpenFOAM.so: undefined reference to `Foam::Ostream& Foam::operator<< <double>(Foam::Ostream&, Foam::gpuList<double> const&)'\n",
            "collect2: error: ld returned 1 exit status\n",
            "make[1]: *** [/root/RapidCFD/RapidCFD-dev/wmake/Makefile:150: /root/RapidCFD/RapidCFD-dev/platforms/linux64NvccDPOpt/bin/porousSimpleFoam] Error 1\n",
            "make: *** [/root/RapidCFD/RapidCFD-dev/wmake/MakefileApps:39: simpleFoam] Error 2\n",
            "make: Target 'application' not remade because of errors.\n",
            "+ wmake all solvers/compressible\n",
            "+ wmake libso BCs\n",
            "+ wmake\n",
            "'/root/RapidCFD/RapidCFD-dev/platforms/linux64NvccDPOpt/lib/librhoCentralFoam.so' is up to date.\n",
            "+ wmake\n",
            "nvcc -Xptxas -dlcm=cg -std=c++11 -m64 -arch=sm_75 -Dlinux64 -DWM_DP -Xcompiler -Wall -Xcompiler -Wextra -Xcompiler -Wno-unused-parameter -Xcompiler -Wno-vla -Xcudafe \"--diag_suppress=null_reference\" -Xcudafe \"--diag_suppress=subscript_out_of_range\" -Xcudafe \"--diag_suppress=extra_semicolon\" -Xcudafe \"--diag_suppress=partial_override\" -Xcudafe \"--diag_suppress=implicit_return_from_non_void_function\" -Xcudafe \"--diag_suppress=virtual_function_decl_hidden\" -O3  -DNoRepository -I/root/RapidCFD/RapidCFD-dev/src/thermophysicalModels/basic/lnInclude -I/root/RapidCFD/RapidCFD-dev/src/turbulenceModels/compressible/turbulenceModel -I/root/RapidCFD/RapidCFD-dev/src/finiteVolume/cfdTools -I/root/RapidCFD/RapidCFD-dev/src/finiteVolume/lnInclude -I/root/RapidCFD/RapidCFD-dev/src/meshTools/lnInclude -I/root/RapidCFD/RapidCFD-dev/src/sampling/lnInclude -I/root/RapidCFD/RapidCFD-dev/src/fvOptions/lnInclude -IlnInclude -I. -I/root/RapidCFD/RapidCFD-dev/src/OpenFOAM/lnInclude -I/root/RapidCFD/RapidCFD-dev/src/OSspecific/POSIX/lnInclude   -Xcompiler -fPIC -cudart shared -Xlinker --add-needed -Xlinker --no-as-needed Make/linux64NvccDPOpt/rhoPimpleFoam.o -L/root/RapidCFD/RapidCFD-dev/platforms/linux64NvccDPOpt/lib \\\n",
            "     -lfluidThermophysicalModels -lspecie -lcompressibleTurbulenceModel -lcompressibleRASModels -lcompressibleLESModels -lfiniteVolume -lmeshTools -lsampling -lfvOptions -lOpenFOAM -ldl   -lm -o /root/RapidCFD/RapidCFD-dev/platforms/linux64NvccDPOpt/bin/rhoPimpleFoam\n",
            "nvcc -Xptxas -dlcm=cg -std=c++11 -m64 -arch=sm_75 -Dlinux64 -DWM_DP -Xcompiler -Wall -Xcompiler -Wextra -Xcompiler -Wno-unused-parameter -Xcompiler -Wno-vla -Xcudafe \"--diag_suppress=null_reference\" -Xcudafe \"--diag_suppress=subscript_out_of_range\" -Xcudafe \"--diag_suppress=extra_semicolon\" -Xcudafe \"--diag_suppress=partial_override\" -Xcudafe \"--diag_suppress=implicit_return_from_non_void_function\" -Xcudafe \"--diag_suppress=virtual_function_decl_hidden\" -O3  -DNoRepository -IBCs/lnInclude -I/root/RapidCFD/RapidCFD-dev/src/finiteVolume/lnInclude -I/root/RapidCFD/RapidCFD-dev/src/thermophysicalModels/basic/lnInclude -I/root/RapidCFD/RapidCFD-dev/src/thermophysicalModels/specie/lnInclude -I/root/RapidCFD/RapidCFD-dev/src/turbulenceModels/compressible/turbulenceModel -I/root/RapidCFD/RapidCFD-dev/src/dynamicMesh/lnInclude -I/root/RapidCFD/RapidCFD-dev/src/meshTools/lnInclude -IlnInclude -I. -I/root/RapidCFD/RapidCFD-dev/src/OpenFOAM/lnInclude -I/root/RapidCFD/RapidCFD-dev/src/OSspecific/POSIX/lnInclude   -Xcompiler -fPIC -cudart shared -Xlinker --add-needed -Xlinker --no-as-needed Make/linux64NvccDPOpt/rhoCentralFoam.o -L/root/RapidCFD/RapidCFD-dev/platforms/linux64NvccDPOpt/lib \\\n",
            "     -lfiniteVolume -lfluidThermophysicalModels -lspecie -lrhoCentralFoam -lcompressibleTurbulenceModel -lcompressibleRASModels -lcompressibleLESModels -lmeshTools -lOpenFOAM -ldl   -lm -o /root/RapidCFD/RapidCFD-dev/platforms/linux64NvccDPOpt/bin/rhoCentralFoam\n",
            "/usr/bin/ld: /root/RapidCFD/RapidCFD-dev/platforms/linux64NvccDPOpt/lib/libOpenFOAM.so: undefined reference to `Foam::Ostream& Foam::operator<< <int>(Foam::Ostream&, Foam::gpuList<int> const&)'\n",
            "/usr/bin/ld: /root/RapidCFD/RapidCFD-dev/platforms/linux64NvccDPOpt/lib/libOpenFOAM.so: undefined reference to `Foam::Ostream& Foam::operator<< <double>(Foam::Ostream&, Foam::gpuList<double> const&)'\n",
            "collect2: error: ld returned 1 exit status\n",
            "make[1]: *** [/root/RapidCFD/RapidCFD-dev/wmake/Makefile:150: /root/RapidCFD/RapidCFD-dev/platforms/linux64NvccDPOpt/bin/rhoPimpleFoam] Error 1\n",
            "+ wmake rhoPimplecFoam\n",
            "/usr/bin/ld: /root/RapidCFD/RapidCFD-dev/platforms/linux64NvccDPOpt/lib/libOpenFOAM.so: undefined reference to `Foam::Ostream& Foam::operator<< <int>(Foam::Ostream&, Foam::gpuList<int> const&)'\n",
            "/usr/bin/ld: /root/RapidCFD/RapidCFD-dev/platforms/linux64NvccDPOpt/lib/libOpenFOAM.so: undefined reference to `Foam::Ostream& Foam::operator<< <double>(Foam::Ostream&, Foam::gpuList<double> const&)'\n",
            "collect2: error: ld returned 1 exit status\n",
            "make[1]: *** [/root/RapidCFD/RapidCFD-dev/wmake/Makefile:150: /root/RapidCFD/RapidCFD-dev/platforms/linux64NvccDPOpt/bin/rhoCentralFoam] Error 1\n",
            "+ wmake rhoCentralDyMFoam\n",
            "nvcc -Xptxas -dlcm=cg -std=c++11 -m64 -arch=sm_75 -Dlinux64 -DWM_DP -Xcompiler -Wall -Xcompiler -Wextra -Xcompiler -Wno-unused-parameter -Xcompiler -Wno-vla -Xcudafe \"--diag_suppress=null_reference\" -Xcudafe \"--diag_suppress=subscript_out_of_range\" -Xcudafe \"--diag_suppress=extra_semicolon\" -Xcudafe \"--diag_suppress=partial_override\" -Xcudafe \"--diag_suppress=implicit_return_from_non_void_function\" -Xcudafe \"--diag_suppress=virtual_function_decl_hidden\" -O3  -DNoRepository -I.. -I/root/RapidCFD/RapidCFD-dev/src/thermophysicalModels/basic/lnInclude -I/root/RapidCFD/RapidCFD-dev/src/turbulenceModels/compressible/turbulenceModel -I/root/RapidCFD/RapidCFD-dev/src/finiteVolume/cfdTools -I/root/RapidCFD/RapidCFD-dev/src/finiteVolume/lnInclude -I/root/RapidCFD/RapidCFD-dev/src/meshTools/lnInclude -I/root/RapidCFD/RapidCFD-dev/src/sampling/lnInclude -I/root/RapidCFD/RapidCFD-dev/src/fvOptions/lnInclude -IlnInclude -I. -I/root/RapidCFD/RapidCFD-dev/src/OpenFOAM/lnInclude -I/root/RapidCFD/RapidCFD-dev/src/OSspecific/POSIX/lnInclude   -Xcompiler -fPIC -cudart shared -Xlinker --add-needed -Xlinker --no-as-needed Make/linux64NvccDPOpt/rhoPimplecFoam.o -L/root/RapidCFD/RapidCFD-dev/platforms/linux64NvccDPOpt/lib \\\n",
            "     -lfluidThermophysicalModels -lspecie -lcompressibleTurbulenceModel -lcompressibleRASModels -lcompressibleLESModels -lfiniteVolume -lmeshTools -lsampling -lfvOptions -lOpenFOAM -ldl   -lm -o /root/RapidCFD/RapidCFD-dev/platforms/linux64NvccDPOpt/bin/rhoPimplecFoam\n",
            "nvcc -Xptxas -dlcm=cg -std=c++11 -m64 -arch=sm_75 -Dlinux64 -DWM_DP -Xcompiler -Wall -Xcompiler -Wextra -Xcompiler -Wno-unused-parameter -Xcompiler -Wno-vla -Xcudafe \"--diag_suppress=null_reference\" -Xcudafe \"--diag_suppress=subscript_out_of_range\" -Xcudafe \"--diag_suppress=extra_semicolon\" -Xcudafe \"--diag_suppress=partial_override\" -Xcudafe \"--diag_suppress=implicit_return_from_non_void_function\" -Xcudafe \"--diag_suppress=virtual_function_decl_hidden\" -O3  -DNoRepository -I.. -I../BCs/lnInclude -I/root/RapidCFD/RapidCFD-dev/src/finiteVolume/lnInclude -I/root/RapidCFD/RapidCFD-dev/src/thermophysicalModels/basic/lnInclude -I/root/RapidCFD/RapidCFD-dev/src/thermophysicalModels/specie/lnInclude -I/root/RapidCFD/RapidCFD-dev/src/turbulenceModels/compressible/turbulenceModel -I/root/RapidCFD/RapidCFD-dev/src/dynamicFvMesh/lnInclude -I/root/RapidCFD/RapidCFD-dev/src/meshTools/lnInclude -IlnInclude -I. -I/root/RapidCFD/RapidCFD-dev/src/OpenFOAM/lnInclude -I/root/RapidCFD/RapidCFD-dev/src/OSspecific/POSIX/lnInclude   -Xcompiler -fPIC -cudart shared -Xlinker --add-needed -Xlinker --no-as-needed Make/linux64NvccDPOpt/rhoCentralDyMFoam.o -L/root/RapidCFD/RapidCFD-dev/platforms/linux64NvccDPOpt/lib \\\n",
            "     -lfiniteVolume -lfluidThermophysicalModels -lspecie -lrhoCentralFoam -lcompressibleTurbulenceModel -lcompressibleRASModels -lcompressibleLESModels -ldynamicFvMesh -lmeshTools -lOpenFOAM -ldl   -lm -o /root/RapidCFD/RapidCFD-dev/platforms/linux64NvccDPOpt/bin/rhoCentralDyMFoam\n",
            "/usr/bin/ld: /root/RapidCFD/RapidCFD-dev/platforms/linux64NvccDPOpt/lib/libOpenFOAM.so: undefined reference to `Foam::Ostream& Foam::operator<< <int>(Foam::Ostream&, Foam::gpuList<int> const&)'\n",
            "/usr/bin/ld: /root/RapidCFD/RapidCFD-dev/platforms/linux64NvccDPOpt/lib/libOpenFOAM.so: undefined reference to `Foam::Ostream& Foam::operator<< <double>(Foam::Ostream&, Foam::gpuList<double> const&)'\n",
            "collect2: error: ld returned 1 exit status\n",
            "make[1]: *** [/root/RapidCFD/RapidCFD-dev/wmake/Makefile:150: /root/RapidCFD/RapidCFD-dev/platforms/linux64NvccDPOpt/bin/rhoPimplecFoam] Error 1\n",
            "+ wmake rhoPimpleDyMFoam\n",
            "/usr/bin/ld: /root/RapidCFD/RapidCFD-dev/platforms/linux64NvccDPOpt/lib/libOpenFOAM.so: undefined reference to `Foam::Ostream& Foam::operator<< <int>(Foam::Ostream&, Foam::gpuList<int> const&)'\n",
            "/usr/bin/ld: /root/RapidCFD/RapidCFD-dev/platforms/linux64NvccDPOpt/lib/libOpenFOAM.so: undefined reference to `Foam::Ostream& Foam::operator<< <double>(Foam::Ostream&, Foam::gpuList<double> const&)'\n",
            "collect2: error: ld returned 1 exit status\n",
            "make[1]: *** [/root/RapidCFD/RapidCFD-dev/wmake/Makefile:150: /root/RapidCFD/RapidCFD-dev/platforms/linux64NvccDPOpt/bin/rhoCentralDyMFoam] Error 1\n",
            "make: *** [/root/RapidCFD/RapidCFD-dev/wmake/MakefileApps:39: rhoCentralFoam] Error 2\n",
            "+ wmake\n",
            "nvcc -Xptxas -dlcm=cg -std=c++11 -m64 -arch=sm_75 -Dlinux64 -DWM_DP -Xcompiler -Wall -Xcompiler -Wextra -Xcompiler -Wno-unused-parameter -Xcompiler -Wno-vla -Xcudafe \"--diag_suppress=null_reference\" -Xcudafe \"--diag_suppress=subscript_out_of_range\" -Xcudafe \"--diag_suppress=extra_semicolon\" -Xcudafe \"--diag_suppress=partial_override\" -Xcudafe \"--diag_suppress=implicit_return_from_non_void_function\" -Xcudafe \"--diag_suppress=virtual_function_decl_hidden\" -O3  -DNoRepository -I.. -I/root/RapidCFD/RapidCFD-dev/src/thermophysicalModels/basic/lnInclude -I/root/RapidCFD/RapidCFD-dev/src/turbulenceModels/compressible/turbulenceModel -I/root/RapidCFD/RapidCFD-dev/src/finiteVolume/cfdTools -I/root/RapidCFD/RapidCFD-dev/src/finiteVolume/lnInclude -I/root/RapidCFD/RapidCFD-dev/src/meshTools/lnInclude -I/root/RapidCFD/RapidCFD-dev/src/sampling/lnInclude -I/root/RapidCFD/RapidCFD-dev/src/fvOptions/lnInclude -I/root/RapidCFD/RapidCFD-dev/src/dynamicFvMesh/lnInclude -I/root/RapidCFD/RapidCFD-dev/src/meshTools/lnInclude  -IlnInclude -I. -I/root/RapidCFD/RapidCFD-dev/src/OpenFOAM/lnInclude -I/root/RapidCFD/RapidCFD-dev/src/OSspecific/POSIX/lnInclude   -Xcompiler -fPIC -cudart shared -Xlinker --add-needed -Xlinker --no-as-needed Make/linux64NvccDPOpt/rhoPimpleDyMFoam.o -L/root/RapidCFD/RapidCFD-dev/platforms/linux64NvccDPOpt/lib \\\n",
            "     -lfluidThermophysicalModels -lspecie -lcompressibleTurbulenceModel -lcompressibleRASModels -lcompressibleLESModels -lfiniteVolume -lmeshTools -lsampling -lfvOptions -ldynamicFvMesh -lmeshTools -lOpenFOAM -ldl   -lm -o /root/RapidCFD/RapidCFD-dev/platforms/linux64NvccDPOpt/bin/rhoPimpleDyMFoam\n",
            "nvcc -Xptxas -dlcm=cg -std=c++11 -m64 -arch=sm_75 -Dlinux64 -DWM_DP -Xcompiler -Wall -Xcompiler -Wextra -Xcompiler -Wno-unused-parameter -Xcompiler -Wno-vla -Xcudafe \"--diag_suppress=null_reference\" -Xcudafe \"--diag_suppress=subscript_out_of_range\" -Xcudafe \"--diag_suppress=extra_semicolon\" -Xcudafe \"--diag_suppress=partial_override\" -Xcudafe \"--diag_suppress=implicit_return_from_non_void_function\" -Xcudafe \"--diag_suppress=virtual_function_decl_hidden\" -O3  -DNoRepository -I/root/RapidCFD/RapidCFD-dev/src/thermophysicalModels/basic/lnInclude -I/root/RapidCFD/RapidCFD-dev/src/turbulenceModels -I/root/RapidCFD/RapidCFD-dev/src/turbulenceModels/compressible/RAS/RASModel -I/root/RapidCFD/RapidCFD-dev/src/finiteVolume/cfdTools -I/root/RapidCFD/RapidCFD-dev/src/finiteVolume/lnInclude -I/root/RapidCFD/RapidCFD-dev/src/sampling/lnInclude -I/root/RapidCFD/RapidCFD-dev/src/meshTools/lnInclude -I/root/RapidCFD/RapidCFD-dev/src/fvOptions/lnInclude -IlnInclude -I. -I/root/RapidCFD/RapidCFD-dev/src/OpenFOAM/lnInclude -I/root/RapidCFD/RapidCFD-dev/src/OSspecific/POSIX/lnInclude   -Xcompiler -fPIC -cudart shared -Xlinker --add-needed -Xlinker --no-as-needed Make/linux64NvccDPOpt/rhoSimpleFoam.o -L/root/RapidCFD/RapidCFD-dev/platforms/linux64NvccDPOpt/lib \\\n",
            "     -lfluidThermophysicalModels -lspecie -lcompressibleTurbulenceModel -lcompressibleRASModels -lfiniteVolume -lsampling -lmeshTools -lfvOptions -lOpenFOAM -ldl   -lm -o /root/RapidCFD/RapidCFD-dev/platforms/linux64NvccDPOpt/bin/rhoSimpleFoam\n",
            "/usr/bin/ld: /root/RapidCFD/RapidCFD-dev/platforms/linux64NvccDPOpt/lib/libOpenFOAM.so: undefined reference to `Foam::Ostream& Foam::operator<< <int>(Foam::Ostream&, Foam::gpuList<int> const&)'\n",
            "/usr/bin/ld: /root/RapidCFD/RapidCFD-dev/platforms/linux64NvccDPOpt/lib/libOpenFOAM.so: undefined reference to `Foam::Ostream& Foam::operator<< <double>(Foam::Ostream&, Foam::gpuList<double> const&)'\n",
            "/usr/bin/ld: /root/RapidCFD/RapidCFD-dev/platforms/linux64NvccDPOpt/lib/libOpenFOAM.so: undefined reference to `Foam::Ostream& Foam::operator<< <int>(Foam::Ostream&, Foam::gpuList<int> const&)'\n",
            "collect2: error: ld returned 1 exit status\n",
            "make[1]: *** [/root/RapidCFD/RapidCFD-dev/wmake/Makefile:150: /root/RapidCFD/RapidCFD-dev/platforms/linux64NvccDPOpt/bin/rhoPimpleDyMFoam] Error 1\n",
            "make: *** [/root/RapidCFD/RapidCFD-dev/wmake/MakefileApps:39: rhoPimpleFoam] Error 2\n",
            "/usr/bin/ld: /root/RapidCFD/RapidCFD-dev/platforms/linux64NvccDPOpt/lib/libOpenFOAM.so: undefined reference to `Foam::Ostream& Foam::operator<< <double>(Foam::Ostream&, Foam::gpuList<double> const&)'\n",
            "+ wmake\n",
            "collect2: error: ld returned 1 exit status\n",
            "make[1]: *** [/root/RapidCFD/RapidCFD-dev/wmake/Makefile:150: /root/RapidCFD/RapidCFD-dev/platforms/linux64NvccDPOpt/bin/rhoSimpleFoam] Error 1\n",
            "+ wmake rhoPorousSimpleFoam\n",
            "nvcc -Xptxas -dlcm=cg -std=c++11 -m64 -arch=sm_75 -Dlinux64 -DWM_DP -Xcompiler -Wall -Xcompiler -Wextra -Xcompiler -Wno-unused-parameter -Xcompiler -Wno-vla -Xcudafe \"--diag_suppress=null_reference\" -Xcudafe \"--diag_suppress=subscript_out_of_range\" -Xcudafe \"--diag_suppress=extra_semicolon\" -Xcudafe \"--diag_suppress=partial_override\" -Xcudafe \"--diag_suppress=implicit_return_from_non_void_function\" -Xcudafe \"--diag_suppress=virtual_function_decl_hidden\" -O3  -DNoRepository -I/root/RapidCFD/RapidCFD-dev/src/transportModels/compressible/lnInclude -I/root/RapidCFD/RapidCFD-dev/src/thermophysicalModels/basic/lnInclude -I/root/RapidCFD/RapidCFD-dev/src/turbulenceModels/compressible/turbulenceModel -I/root/RapidCFD/RapidCFD-dev/src/meshTools/lnInclude -I/root/RapidCFD/RapidCFD-dev/src/sampling/lnInclude -I/root/RapidCFD/RapidCFD-dev/src/fvOptions/lnInclude -I/root/RapidCFD/RapidCFD-dev/src/finiteVolume/lnInclude -IlnInclude -I. -I/root/RapidCFD/RapidCFD-dev/src/OpenFOAM/lnInclude -I/root/RapidCFD/RapidCFD-dev/src/OSspecific/POSIX/lnInclude   -Xcompiler -fPIC -cudart shared -Xlinker --add-needed -Xlinker --no-as-needed Make/linux64NvccDPOpt/sonicFoam.o -L/root/RapidCFD/RapidCFD-dev/platforms/linux64NvccDPOpt/lib \\\n",
            "     -lfluidThermophysicalModels -lspecie -lcompressibleTurbulenceModel -lcompressibleRASModels -lcompressibleLESModels -lmeshTools -lsampling -lfvOptions -lfiniteVolume -lOpenFOAM -ldl   -lm -o /root/RapidCFD/RapidCFD-dev/platforms/linux64NvccDPOpt/bin/sonicFoam\n",
            "nvcc -Xptxas -dlcm=cg -std=c++11 -m64 -arch=sm_75 -Dlinux64 -DWM_DP -Xcompiler -Wall -Xcompiler -Wextra -Xcompiler -Wno-unused-parameter -Xcompiler -Wno-vla -Xcudafe \"--diag_suppress=null_reference\" -Xcudafe \"--diag_suppress=subscript_out_of_range\" -Xcudafe \"--diag_suppress=extra_semicolon\" -Xcudafe \"--diag_suppress=partial_override\" -Xcudafe \"--diag_suppress=implicit_return_from_non_void_function\" -Xcudafe \"--diag_suppress=virtual_function_decl_hidden\" -O3  -DNoRepository -I.. -I/root/RapidCFD/RapidCFD-dev/src/thermophysicalModels/basic/lnInclude -I/root/RapidCFD/RapidCFD-dev/src/turbulenceModels -I/root/RapidCFD/RapidCFD-dev/src/turbulenceModels/compressible/RAS/RASModel -I/root/RapidCFD/RapidCFD-dev/src/finiteVolume/cfdTools -I/root/RapidCFD/RapidCFD-dev/src/finiteVolume/lnInclude -I/root/RapidCFD/RapidCFD-dev/src/sampling/lnInclude -I/root/RapidCFD/RapidCFD-dev/src/meshTools/lnInclude -I/root/RapidCFD/RapidCFD-dev/src/fvOptions/lnInclude -IlnInclude -I. -I/root/RapidCFD/RapidCFD-dev/src/OpenFOAM/lnInclude -I/root/RapidCFD/RapidCFD-dev/src/OSspecific/POSIX/lnInclude   -Xcompiler -fPIC -cudart shared -Xlinker --add-needed -Xlinker --no-as-needed Make/linux64NvccDPOpt/rhoPorousSimpleFoam.o -L/root/RapidCFD/RapidCFD-dev/platforms/linux64NvccDPOpt/lib \\\n",
            "     -lfluidThermophysicalModels -lspecie -lcompressibleTurbulenceModel -lcompressibleRASModels -lfiniteVolume -lsampling -lmeshTools -lfvOptions -lOpenFOAM -ldl   -lm -o /root/RapidCFD/RapidCFD-dev/platforms/linux64NvccDPOpt/bin/rhoPorousSimpleFoam\n",
            "/usr/bin/ld: /root/RapidCFD/RapidCFD-dev/platforms/linux64NvccDPOpt/lib/libOpenFOAM.so: undefined reference to `Foam::Ostream& Foam::operator<< <int>(Foam::Ostream&, Foam::gpuList<int> const&)'\n",
            "/usr/bin/ld: /root/RapidCFD/RapidCFD-dev/platforms/linux64NvccDPOpt/lib/libOpenFOAM.so: undefined reference to `Foam::Ostream& Foam::operator<< <int>(Foam::Ostream&, Foam::gpuList<int> const&)'\n",
            "/usr/bin/ld: /root/RapidCFD/RapidCFD-dev/platforms/linux64NvccDPOpt/lib/libOpenFOAM.so: undefined reference to `Foam::Ostream& Foam::operator<< <double>(Foam::Ostream&, Foam::gpuList<double> const&)'\n",
            "/usr/bin/ld: /root/RapidCFD/RapidCFD-dev/platforms/linux64NvccDPOpt/lib/libOpenFOAM.so: undefined reference to `Foam::Ostream& Foam::operator<< <double>(Foam::Ostream&, Foam::gpuList<double> const&)'\n",
            "collect2: error: ld returned 1 exit status\n",
            "collect2: error: ld returned 1 exit status\n",
            "make[1]: *** [/root/RapidCFD/RapidCFD-dev/wmake/Makefile:150: /root/RapidCFD/RapidCFD-dev/platforms/linux64NvccDPOpt/bin/rhoPorousSimpleFoam] Error 1\n",
            "make[1]: *** [/root/RapidCFD/RapidCFD-dev/wmake/Makefile:150: /root/RapidCFD/RapidCFD-dev/platforms/linux64NvccDPOpt/bin/sonicFoam] Error 1\n",
            "+ wmake rhoSimplecFoam\n",
            "+ wmake sonicDyMFoam\n",
            "nvcc -Xptxas -dlcm=cg -std=c++11 -m64 -arch=sm_75 -Dlinux64 -DWM_DP -Xcompiler -Wall -Xcompiler -Wextra -Xcompiler -Wno-unused-parameter -Xcompiler -Wno-vla -Xcudafe \"--diag_suppress=null_reference\" -Xcudafe \"--diag_suppress=subscript_out_of_range\" -Xcudafe \"--diag_suppress=extra_semicolon\" -Xcudafe \"--diag_suppress=partial_override\" -Xcudafe \"--diag_suppress=implicit_return_from_non_void_function\" -Xcudafe \"--diag_suppress=virtual_function_decl_hidden\" -O3  -DNoRepository -I.. -I../../rhoPimpleFoam/rhoPimpleDyMFoam -I/root/RapidCFD/RapidCFD-dev/src/transportModels/compressible/lnInclude -I/root/RapidCFD/RapidCFD-dev/src/thermophysicalModels/basic/lnInclude -I/root/RapidCFD/RapidCFD-dev/src/turbulenceModels/compressible/turbulenceModel -I/root/RapidCFD/RapidCFD-dev/src/finiteVolume/cfdTools -I/root/RapidCFD/RapidCFD-dev/src/finiteVolume/lnInclude -I/root/RapidCFD/RapidCFD-dev/src/sampling/lnInclude -I/root/RapidCFD/RapidCFD-dev/src/fvOptions/lnInclude -I/root/RapidCFD/RapidCFD-dev/src/dynamicFvMesh/lnInclude -I/root/RapidCFD/RapidCFD-dev/src/meshTools/lnInclude  -IlnInclude -I. -I/root/RapidCFD/RapidCFD-dev/src/OpenFOAM/lnInclude -I/root/RapidCFD/RapidCFD-dev/src/OSspecific/POSIX/lnInclude   -Xcompiler -fPIC -cudart shared -Xlinker --add-needed -Xlinker --no-as-needed Make/linux64NvccDPOpt/sonicDyMFoam.o -L/root/RapidCFD/RapidCFD-dev/platforms/linux64NvccDPOpt/lib \\\n",
            "     -lfluidThermophysicalModels -lspecie -lcompressibleTurbulenceModel -lcompressibleRASModels -lcompressibleLESModels -lfiniteVolume -lmeshTools -lsampling -lfvOptions -ldynamicFvMesh -lmeshTools -lOpenFOAM -ldl   -lm -o /root/RapidCFD/RapidCFD-dev/platforms/linux64NvccDPOpt/bin/sonicDyMFoam\n",
            "nvcc -Xptxas -dlcm=cg -std=c++11 -m64 -arch=sm_75 -Dlinux64 -DWM_DP -Xcompiler -Wall -Xcompiler -Wextra -Xcompiler -Wno-unused-parameter -Xcompiler -Wno-vla -Xcudafe \"--diag_suppress=null_reference\" -Xcudafe \"--diag_suppress=subscript_out_of_range\" -Xcudafe \"--diag_suppress=extra_semicolon\" -Xcudafe \"--diag_suppress=partial_override\" -Xcudafe \"--diag_suppress=implicit_return_from_non_void_function\" -Xcudafe \"--diag_suppress=virtual_function_decl_hidden\" -O3  -DNoRepository -I.. -I/root/RapidCFD/RapidCFD-dev/src/thermophysicalModels/basic/lnInclude -I/root/RapidCFD/RapidCFD-dev/src/turbulenceModels -I/root/RapidCFD/RapidCFD-dev/src/turbulenceModels/compressible/RAS/RASModel -I/root/RapidCFD/RapidCFD-dev/src/finiteVolume/cfdTools -I/root/RapidCFD/RapidCFD-dev/src/finiteVolume/lnInclude -I/root/RapidCFD/RapidCFD-dev/src/sampling/lnInclude -I/root/RapidCFD/RapidCFD-dev/src/meshTools/lnInclude -I/root/RapidCFD/RapidCFD-dev/src/fvOptions/lnInclude -IlnInclude -I. -I/root/RapidCFD/RapidCFD-dev/src/OpenFOAM/lnInclude -I/root/RapidCFD/RapidCFD-dev/src/OSspecific/POSIX/lnInclude   -Xcompiler -fPIC -cudart shared -Xlinker --add-needed -Xlinker --no-as-needed Make/linux64NvccDPOpt/rhoSimplecFoam.o -L/root/RapidCFD/RapidCFD-dev/platforms/linux64NvccDPOpt/lib \\\n",
            "     -lfluidThermophysicalModels -lspecie -lcompressibleRASModels -lfiniteVolume -lsampling -lmeshTools -lfvOptions -lOpenFOAM -ldl   -lm -o /root/RapidCFD/RapidCFD-dev/platforms/linux64NvccDPOpt/bin/rhoSimplecFoam\n",
            "/usr/bin/ld: /root/RapidCFD/RapidCFD-dev/platforms/linux64NvccDPOpt/lib/libOpenFOAM.so: undefined reference to `Foam::Ostream& Foam::operator<< <int>(Foam::Ostream&, Foam::gpuList<int> const&)'\n",
            "/usr/bin/ld: /root/RapidCFD/RapidCFD-dev/platforms/linux64NvccDPOpt/lib/libOpenFOAM.so: undefined reference to `Foam::Ostream& Foam::operator<< <double>(Foam::Ostream&, Foam::gpuList<double> const&)'\n",
            "/usr/bin/ld: /root/RapidCFD/RapidCFD-dev/platforms/linux64NvccDPOpt/lib/libOpenFOAM.so: undefined reference to `Foam::Ostream& Foam::operator<< <int>(Foam::Ostream&, Foam::gpuList<int> const&)'\n",
            "collect2: error: ld returned 1 exit status\n",
            "make[1]: *** [/root/RapidCFD/RapidCFD-dev/wmake/Makefile:150: /root/RapidCFD/RapidCFD-dev/platforms/linux64NvccDPOpt/bin/sonicDyMFoam] Error 1\n",
            "+ wmake sonicLiquidFoam\n",
            "/usr/bin/ld: /root/RapidCFD/RapidCFD-dev/platforms/linux64NvccDPOpt/lib/libOpenFOAM.so: undefined reference to `Foam::Ostream& Foam::operator<< <double>(Foam::Ostream&, Foam::gpuList<double> const&)'\n",
            "collect2: error: ld returned 1 exit status\n",
            "make[1]: *** [/root/RapidCFD/RapidCFD-dev/wmake/Makefile:150: /root/RapidCFD/RapidCFD-dev/platforms/linux64NvccDPOpt/bin/rhoSimplecFoam] Error 1\n",
            "make: *** [/root/RapidCFD/RapidCFD-dev/wmake/MakefileApps:39: rhoSimpleFoam] Error 2\n",
            "nvcc -Xptxas -dlcm=cg -std=c++11 -m64 -arch=sm_75 -Dlinux64 -DWM_DP -Xcompiler -Wall -Xcompiler -Wextra -Xcompiler -Wno-unused-parameter -Xcompiler -Wno-vla -Xcudafe \"--diag_suppress=null_reference\" -Xcudafe \"--diag_suppress=subscript_out_of_range\" -Xcudafe \"--diag_suppress=extra_semicolon\" -Xcudafe \"--diag_suppress=partial_override\" -Xcudafe \"--diag_suppress=implicit_return_from_non_void_function\" -Xcudafe \"--diag_suppress=virtual_function_decl_hidden\" -O3  -DNoRepository -I/root/RapidCFD/RapidCFD-dev/src/finiteVolume/lnInclude -IlnInclude -I. -I/root/RapidCFD/RapidCFD-dev/src/OpenFOAM/lnInclude -I/root/RapidCFD/RapidCFD-dev/src/OSspecific/POSIX/lnInclude   -Xcompiler -fPIC -cudart shared -Xlinker --add-needed -Xlinker --no-as-needed Make/linux64NvccDPOpt/sonicLiquidFoam.o -L/root/RapidCFD/RapidCFD-dev/platforms/linux64NvccDPOpt/lib \\\n",
            "     -lfiniteVolume -lOpenFOAM -ldl   -lm -o /root/RapidCFD/RapidCFD-dev/platforms/linux64NvccDPOpt/bin/sonicLiquidFoam\n",
            "/usr/bin/ld: /root/RapidCFD/RapidCFD-dev/platforms/linux64NvccDPOpt/lib/libOpenFOAM.so: undefined reference to `Foam::Ostream& Foam::operator<< <double>(Foam::Ostream&, Foam::gpuList<double> const&)'\n",
            "/usr/bin/ld: /root/RapidCFD/RapidCFD-dev/platforms/linux64NvccDPOpt/lib/libOpenFOAM.so: undefined reference to `Foam::Ostream& Foam::operator<< <int>(Foam::Ostream&, Foam::gpuList<int> const&)'\n",
            "collect2: error: ld returned 1 exit status\n",
            "make[1]: *** [/root/RapidCFD/RapidCFD-dev/wmake/Makefile:150: /root/RapidCFD/RapidCFD-dev/platforms/linux64NvccDPOpt/bin/sonicLiquidFoam] Error 1\n",
            "make: *** [/root/RapidCFD/RapidCFD-dev/wmake/MakefileApps:39: sonicFoam] Error 2\n",
            "make: Target 'application' not remade because of errors.\n",
            "+ wmake all solvers/heatTransfer\n",
            "nvcc -Xptxas -dlcm=cg -std=c++11 -m64 -arch=sm_75 -Dlinux64 -DWM_DP -Xcompiler -Wall -Xcompiler -Wextra -Xcompiler -Wno-unused-parameter -Xcompiler -Wno-vla -Xcudafe \"--diag_suppress=null_reference\" -Xcudafe \"--diag_suppress=subscript_out_of_range\" -Xcudafe \"--diag_suppress=extra_semicolon\" -Xcudafe \"--diag_suppress=partial_override\" -Xcudafe \"--diag_suppress=implicit_return_from_non_void_function\" -Xcudafe \"--diag_suppress=virtual_function_decl_hidden\" -O3  -DNoRepository -I../buoyantBoussinesqSimpleFoam -I/root/RapidCFD/RapidCFD-dev/src/sampling/lnInclude -I/root/RapidCFD/RapidCFD-dev/src/meshTools/lnInclude -I/root/RapidCFD/RapidCFD-dev/src/fvOptions/lnInclude -I/root/RapidCFD/RapidCFD-dev/src/finiteVolume/lnInclude -I/root/RapidCFD/RapidCFD-dev/src/turbulenceModels -I/root/RapidCFD/RapidCFD-dev/src/turbulenceModels/incompressible/RAS/lnInclude -I/root/RapidCFD/RapidCFD-dev/src/transportModels -I/root/RapidCFD/RapidCFD-dev/src/transportModels/incompressible/singlePhaseTransportModel -I/root/RapidCFD/RapidCFD-dev/src/thermophysicalModels/radiationModels/lnInclude -IlnInclude -I. -I/root/RapidCFD/RapidCFD-dev/src/OpenFOAM/lnInclude -I/root/RapidCFD/RapidCFD-dev/src/OSspecific/POSIX/lnInclude   -Xcompiler -fPIC -cudart shared -Xlinker --add-needed -Xlinker --no-as-needed Make/linux64NvccDPOpt/buoyantBoussinesqPimpleFoam.o -L/root/RapidCFD/RapidCFD-dev/platforms/linux64NvccDPOpt/lib \\\n",
            "     -lfiniteVolume -lfvOptions -lsampling -lmeshTools -lincompressibleTurbulenceModel -lincompressibleRASModels -lincompressibleTransportModels -lradiationModels -lOpenFOAM -ldl   -lm -o /root/RapidCFD/RapidCFD-dev/platforms/linux64NvccDPOpt/bin/buoyantBoussinesqPimpleFoam\n",
            "nvcc -Xptxas -dlcm=cg -std=c++11 -m64 -arch=sm_75 -Dlinux64 -DWM_DP -Xcompiler -Wall -Xcompiler -Wextra -Xcompiler -Wno-unused-parameter -Xcompiler -Wno-vla -Xcudafe \"--diag_suppress=null_reference\" -Xcudafe \"--diag_suppress=subscript_out_of_range\" -Xcudafe \"--diag_suppress=extra_semicolon\" -Xcudafe \"--diag_suppress=partial_override\" -Xcudafe \"--diag_suppress=implicit_return_from_non_void_function\" -Xcudafe \"--diag_suppress=virtual_function_decl_hidden\" -O3  -DNoRepository -I/root/RapidCFD/RapidCFD-dev/src/finiteVolume/lnInclude -I/root/RapidCFD/RapidCFD-dev/src/sampling/lnInclude -I/root/RapidCFD/RapidCFD-dev/src/meshTools/lnInclude -I/root/RapidCFD/RapidCFD-dev/src/fvOptions/lnInclude -I/root/RapidCFD/RapidCFD-dev/src/turbulenceModels -I/root/RapidCFD/RapidCFD-dev/src/turbulenceModels/incompressible/RAS/lnInclude -I/root/RapidCFD/RapidCFD-dev/src/transportModels -I/root/RapidCFD/RapidCFD-dev/src/transportModels/incompressible/singlePhaseTransportModel -IlnInclude -I. -I/root/RapidCFD/RapidCFD-dev/src/OpenFOAM/lnInclude -I/root/RapidCFD/RapidCFD-dev/src/OSspecific/POSIX/lnInclude   -Xcompiler -fPIC -cudart shared -Xlinker --add-needed -Xlinker --no-as-needed Make/linux64NvccDPOpt/buoyantBoussinesqSimpleFoam.o -L/root/RapidCFD/RapidCFD-dev/platforms/linux64NvccDPOpt/lib \\\n",
            "     -lfiniteVolume -lsampling -lmeshTools -lfvOptions -lincompressibleTurbulenceModel -lincompressibleRASModels -lincompressibleTransportModels -lOpenFOAM -ldl   -lm -o /root/RapidCFD/RapidCFD-dev/platforms/linux64NvccDPOpt/bin/buoyantBoussinesqSimpleFoam\n",
            "/usr/bin/ld: /root/RapidCFD/RapidCFD-dev/platforms/linux64NvccDPOpt/lib/libOpenFOAM.so: undefined reference to `Foam::Ostream& Foam::operator<< <int>(Foam::Ostream&, Foam::gpuList<int> const&)'\n",
            "/usr/bin/ld: /root/RapidCFD/RapidCFD-dev/platforms/linux64NvccDPOpt/lib/libOpenFOAM.so: undefined reference to `Foam::Ostream& Foam::operator<< <double>(Foam::Ostream&, Foam::gpuList<double> const&)'\n",
            "/usr/bin/ld: /root/RapidCFD/RapidCFD-dev/platforms/linux64NvccDPOpt/lib/libOpenFOAM.so: undefined reference to `Foam::Ostream& Foam::operator<< <int>(Foam::Ostream&, Foam::gpuList<int> const&)collect2: error: ld returned 1 exit status\n",
            "'\n",
            "make[1]: *** [/root/RapidCFD/RapidCFD-dev/wmake/Makefile:150: /root/RapidCFD/RapidCFD-dev/platforms/linux64NvccDPOpt/bin/buoyantBoussinesqPimpleFoam] Error 1\n",
            "make: *** [/root/RapidCFD/RapidCFD-dev/wmake/MakefileApps:39: buoyantBoussinesqPimpleFoam] Error 2\n",
            "/usr/bin/ld: /root/RapidCFD/RapidCFD-dev/platforms/linux64NvccDPOpt/lib/libOpenFOAM.so: undefined reference to `Foam::Ostream& Foam::operator<< <double>(Foam::Ostream&, Foam::gpuList<double> const&)'\n",
            "collect2: error: ld returned 1 exit status\n",
            "make[1]: *** [/root/RapidCFD/RapidCFD-dev/wmake/Makefile:150: /root/RapidCFD/RapidCFD-dev/platforms/linux64NvccDPOpt/bin/buoyantBoussinesqSimpleFoam] Error 1\n",
            "make: *** [/root/RapidCFD/RapidCFD-dev/wmake/MakefileApps:39: buoyantBoussinesqSimpleFoam] Error 2\n",
            "nvcc -Xptxas -dlcm=cg -std=c++11 -m64 -arch=sm_75 -Dlinux64 -DWM_DP -Xcompiler -Wall -Xcompiler -Wextra -Xcompiler -Wno-unused-parameter -Xcompiler -Wno-vla -Xcudafe \"--diag_suppress=null_reference\" -Xcudafe \"--diag_suppress=subscript_out_of_range\" -Xcudafe \"--diag_suppress=extra_semicolon\" -Xcudafe \"--diag_suppress=partial_override\" -Xcudafe \"--diag_suppress=implicit_return_from_non_void_function\" -Xcudafe \"--diag_suppress=virtual_function_decl_hidden\" -O3  -DNoRepository -I/root/RapidCFD/RapidCFD-dev/src/finiteVolume/lnInclude -I/root/RapidCFD/RapidCFD-dev/src/sampling/lnInclude -I/root/RapidCFD/RapidCFD-dev/src/meshTools/lnInclude -I/root/RapidCFD/RapidCFD-dev/src/fvOptions/lnInclude -I/root/RapidCFD/RapidCFD-dev/src/thermophysicalModels/basic/lnInclude -I/root/RapidCFD/RapidCFD-dev/src/thermophysicalModels/radiationModels/lnInclude -I/root/RapidCFD/RapidCFD-dev/src/turbulenceModels/compressible/turbulenceModel -IlnInclude -I. -I/root/RapidCFD/RapidCFD-dev/src/OpenFOAM/lnInclude -I/root/RapidCFD/RapidCFD-dev/src/OSspecific/POSIX/lnInclude   -Xcompiler -fPIC -cudart shared -Xlinker --add-needed -Xlinker --no-as-needed Make/linux64NvccDPOpt/buoyantPimpleFoam.o -L/root/RapidCFD/RapidCFD-dev/platforms/linux64NvccDPOpt/lib \\\n",
            "     -lfiniteVolume -lsampling -lmeshTools -lfvOptions -lfluidThermophysicalModels -lradiationModels -lspecie -lcompressibleTurbulenceModel -lcompressibleRASModels -lcompressibleLESModels -lOpenFOAM -ldl   -lm -o /root/RapidCFD/RapidCFD-dev/platforms/linux64NvccDPOpt/bin/buoyantPimpleFoam\n",
            "nvcc -Xptxas -dlcm=cg -std=c++11 -m64 -arch=sm_75 -Dlinux64 -DWM_DP -Xcompiler -Wall -Xcompiler -Wextra -Xcompiler -Wno-unused-parameter -Xcompiler -Wno-vla -Xcudafe \"--diag_suppress=null_reference\" -Xcudafe \"--diag_suppress=subscript_out_of_range\" -Xcudafe \"--diag_suppress=extra_semicolon\" -Xcudafe \"--diag_suppress=partial_override\" -Xcudafe \"--diag_suppress=implicit_return_from_non_void_function\" -Xcudafe \"--diag_suppress=virtual_function_decl_hidden\" -O3  -DNoRepository -I/root/RapidCFD/RapidCFD-dev/src/finiteVolume/lnInclude -I/root/RapidCFD/RapidCFD-dev/src/fvOptions/lnInclude -I/root/RapidCFD/RapidCFD-dev/src/sampling/lnInclude -I/root/RapidCFD/RapidCFD-dev/src/meshTools/lnInclude -I/root/RapidCFD/RapidCFD-dev/src/thermophysicalModels/basic/lnInclude -I/root/RapidCFD/RapidCFD-dev/src/thermophysicalModels/radiationModels/lnInclude -I/root/RapidCFD/RapidCFD-dev/src/turbulenceModels -I/root/RapidCFD/RapidCFD-dev/src/turbulenceModels/compressible/RAS/lnInclude -I/root/RapidCFD/RapidCFD-dev/src/turbulenceModels/RAS  -IlnInclude -I. -I/root/RapidCFD/RapidCFD-dev/src/OpenFOAM/lnInclude -I/root/RapidCFD/RapidCFD-dev/src/OSspecific/POSIX/lnInclude   -Xcompiler -fPIC -cudart shared -Xlinker --add-needed -Xlinker --no-as-needed Make/linux64NvccDPOpt/buoyantSimpleFoam.o -L/root/RapidCFD/RapidCFD-dev/platforms/linux64NvccDPOpt/lib \\\n",
            "     -lfiniteVolume -lfvOptions -lsampling -lmeshTools -lfluidThermophysicalModels -lspecie -lradiationModels -lcompressibleTurbulenceModel -lcompressibleRASModels -lmeshTools -lOpenFOAM -ldl   -lm -o /root/RapidCFD/RapidCFD-dev/platforms/linux64NvccDPOpt/bin/buoyantSimpleFoam\n",
            "/usr/bin/ld: /root/RapidCFD/RapidCFD-dev/platforms/linux64NvccDPOpt/lib/libOpenFOAM.so: undefined reference to `Foam::Ostream& Foam::operator<< <int>(Foam::Ostream&, Foam::gpuList<int> const&)'\n",
            "/usr/bin/ld: /root/RapidCFD/RapidCFD-dev/platforms/linux64NvccDPOpt/lib/libOpenFOAM.so: undefined reference to `Foam::Ostream& Foam::operator<< <double>(Foam::Ostream&, Foam::gpuList<double> const&)'\n",
            "/usr/bin/ld: /root/RapidCFD/RapidCFD-dev/platforms/linux64NvccDPOpt/lib/libOpenFOAM.so: undefined reference to `Foam::Ostream& Foam::operator<< <int>(Foam::Ostream&, Foam::gpuList<int> const&)'\n",
            "/usr/bin/ld: /root/RapidCFD/RapidCFD-dev/platforms/linux64NvccDPOpt/lib/libOpenFOAM.so: undefined reference to `Foam::Ostream& Foam::operator<< <double>(Foam::Ostream&, Foam::gpuList<double> const&)'\n",
            "collect2: error: ld returned 1 exit status\n",
            "make[1]: *** [/root/RapidCFD/RapidCFD-dev/wmake/Makefile:150: /root/RapidCFD/RapidCFD-dev/platforms/linux64NvccDPOpt/bin/buoyantSimpleFoam] Error 1\n",
            "make: *** [/root/RapidCFD/RapidCFD-dev/wmake/MakefileApps:39: buoyantSimpleFoam] Error 2\n",
            "collect2: error: ld returned 1 exit status\n",
            "make[1]: *** [/root/RapidCFD/RapidCFD-dev/wmake/Makefile:150: /root/RapidCFD/RapidCFD-dev/platforms/linux64NvccDPOpt/bin/buoyantPimpleFoam] Error 1\n",
            "make: *** [/root/RapidCFD/RapidCFD-dev/wmake/MakefileApps:39: buoyantPimpleFoam] Error 2\n",
            "nvcc -Xptxas -dlcm=cg -std=c++11 -m64 -arch=sm_75 -Dlinux64 -DWM_DP -Xcompiler -Wall -Xcompiler -Wextra -Xcompiler -Wno-unused-parameter -Xcompiler -Wno-vla -Xcudafe \"--diag_suppress=null_reference\" -Xcudafe \"--diag_suppress=subscript_out_of_range\" -Xcudafe \"--diag_suppress=extra_semicolon\" -Xcudafe \"--diag_suppress=partial_override\" -Xcudafe \"--diag_suppress=implicit_return_from_non_void_function\" -Xcudafe \"--diag_suppress=virtual_function_decl_hidden\" -O3  -DNoRepository -I/root/RapidCFD/RapidCFD-dev/src/finiteVolume/lnInclude -I/root/RapidCFD/RapidCFD-dev/src/sampling/lnInclude -I/root/RapidCFD/RapidCFD-dev/src/meshTools/lnInclude -I/root/RapidCFD/RapidCFD-dev/src/fvOptions/lnInclude -I/root/RapidCFD/RapidCFD-dev/src/thermophysicalModels/basic/lnInclude -I/root/RapidCFD/RapidCFD-dev/src/thermophysicalModels/radiationModels/lnInclude -I/root/RapidCFD/RapidCFD-dev/src/turbulenceModels -I/root/RapidCFD/RapidCFD-dev/src/turbulenceModels/compressible/turbulenceModel/lnInclude -I/root/RapidCFD/RapidCFD-dev/src/turbulenceModels/compressible/RAS/lnInclude -I/root/RapidCFD/RapidCFD-dev/src/turbulenceModels/compressible/LES/lnInclude -I/root/RapidCFD/RapidCFD-dev/src/turbulenceModels/LES/LESdeltas/lnInclude -IlnInclude -I. -I/root/RapidCFD/RapidCFD-dev/src/OpenFOAM/lnInclude -I/root/RapidCFD/RapidCFD-dev/src/OSspecific/POSIX/lnInclude   -Xcompiler -fPIC -cudart shared -Xlinker --add-needed -Xlinker --no-as-needed Make/linux64NvccDPOpt/thermoFoam.o -L/root/RapidCFD/RapidCFD-dev/platforms/linux64NvccDPOpt/lib \\\n",
            "     -lfiniteVolume -lsampling -lmeshTools -lfvOptions -lfluidThermophysicalModels -lradiationModels -lspecie -lcompressibleTurbulenceModel -lcompressibleRASModels -lcompressibleLESModels -lOpenFOAM -ldl   -lm -o /root/RapidCFD/RapidCFD-dev/platforms/linux64NvccDPOpt/bin/thermoFoam\n",
            "/usr/bin/ld: /root/RapidCFD/RapidCFD-dev/platforms/linux64NvccDPOpt/lib/libOpenFOAM.so: undefined reference to `Foam::Ostream& Foam::operator<< <int>(Foam::Ostream&, Foam::gpuList<int> const&)'\n",
            "/usr/bin/ld: /root/RapidCFD/RapidCFD-dev/platforms/linux64NvccDPOpt/lib/libOpenFOAM.so: undefined reference to `Foam::Ostream& Foam::operator<< <double>(Foam::Ostream&, Foam::gpuList<double> const&)'\n",
            "collect2: error: ld returned 1 exit status\n",
            "make[1]: *** [/root/RapidCFD/RapidCFD-dev/wmake/Makefile:150: /root/RapidCFD/RapidCFD-dev/platforms/linux64NvccDPOpt/bin/thermoFoam] Error 1\n",
            "make: *** [/root/RapidCFD/RapidCFD-dev/wmake/MakefileApps:39: thermoFoam] Error 2\n",
            "make: Target 'application' not remade because of errors.\n",
            "+ wmake all solvers/multiphase/interFoam\n",
            "+ wmake\n",
            "nvcc -Xptxas -dlcm=cg -std=c++11 -m64 -arch=sm_75 -Dlinux64 -DWM_DP -Xcompiler -Wall -Xcompiler -Wextra -Xcompiler -Wno-unused-parameter -Xcompiler -Wno-vla -Xcudafe \"--diag_suppress=null_reference\" -Xcudafe \"--diag_suppress=subscript_out_of_range\" -Xcudafe \"--diag_suppress=extra_semicolon\" -Xcudafe \"--diag_suppress=partial_override\" -Xcudafe \"--diag_suppress=implicit_return_from_non_void_function\" -Xcudafe \"--diag_suppress=virtual_function_decl_hidden\" -O3  -DNoRepository -I/root/RapidCFD/RapidCFD-dev/src/transportModels/twoPhaseMixture/lnInclude -I/root/RapidCFD/RapidCFD-dev/src/transportModels -I/root/RapidCFD/RapidCFD-dev/src/transportModels/incompressible/lnInclude -I/root/RapidCFD/RapidCFD-dev/src/transportModels/interfaceProperties/lnInclude -I/root/RapidCFD/RapidCFD-dev/src/turbulenceModels/incompressible/turbulenceModel -I/root/RapidCFD/RapidCFD-dev/src/transportModels/immiscibleIncompressibleTwoPhaseMixture/lnInclude -I/root/RapidCFD/RapidCFD-dev/src/finiteVolume/lnInclude -I/root/RapidCFD/RapidCFD-dev/src/fvOptions/lnInclude -I/root/RapidCFD/RapidCFD-dev/src/meshTools/lnInclude -I/root/RapidCFD/RapidCFD-dev/src/sampling/lnInclude -IlnInclude -I. -I/root/RapidCFD/RapidCFD-dev/src/OpenFOAM/lnInclude -I/root/RapidCFD/RapidCFD-dev/src/OSspecific/POSIX/lnInclude   -Xcompiler -fPIC -cudart shared -Xlinker --add-needed -Xlinker --no-as-needed Make/linux64NvccDPOpt/interFoam.o -L/root/RapidCFD/RapidCFD-dev/platforms/linux64NvccDPOpt/lib \\\n",
            "     -limmiscibleIncompressibleTwoPhaseMixture -lincompressibleTurbulenceModel -lincompressibleRASModels -lincompressibleLESModels -lfiniteVolume -lfvOptions -lmeshTools -lsampling -lOpenFOAM -ldl   -lm -o /root/RapidCFD/RapidCFD-dev/platforms/linux64NvccDPOpt/bin/interFoam\n",
            "/usr/bin/ld: /root/RapidCFD/RapidCFD-dev/platforms/linux64NvccDPOpt/lib/libOpenFOAM.so: undefined reference to `Foam::Ostream& Foam::operator<< <int>(Foam::Ostream&, Foam::gpuList<int> const&)'\n",
            "/usr/bin/ld: /root/RapidCFD/RapidCFD-dev/platforms/linux64NvccDPOpt/lib/libOpenFOAM.so: undefined reference to `Foam::Ostream& Foam::operator<< <double>(Foam::Ostream&, Foam::gpuList<double> const&)'\n",
            "collect2: error: ld returned 1 exit status\n",
            "make: *** [/root/RapidCFD/RapidCFD-dev/wmake/Makefile:150: /root/RapidCFD/RapidCFD-dev/platforms/linux64NvccDPOpt/bin/interFoam] Error 1\n",
            "+ wmake interDyMFoam\n",
            "nvcc -Xptxas -dlcm=cg -std=c++11 -m64 -arch=sm_75 -Dlinux64 -DWM_DP -Xcompiler -Wall -Xcompiler -Wextra -Xcompiler -Wno-unused-parameter -Xcompiler -Wno-vla -Xcudafe \"--diag_suppress=null_reference\" -Xcudafe \"--diag_suppress=subscript_out_of_range\" -Xcudafe \"--diag_suppress=extra_semicolon\" -Xcudafe \"--diag_suppress=partial_override\" -Xcudafe \"--diag_suppress=implicit_return_from_non_void_function\" -Xcudafe \"--diag_suppress=virtual_function_decl_hidden\" -O3  -DNoRepository -I.. -I/root/RapidCFD/RapidCFD-dev/src/transportModels/twoPhaseMixture/lnInclude -I/root/RapidCFD/RapidCFD-dev/src/transportModels -I/root/RapidCFD/RapidCFD-dev/src/transportModels/incompressible/lnInclude -I/root/RapidCFD/RapidCFD-dev/src/transportModels/interfaceProperties/lnInclude -I/root/RapidCFD/RapidCFD-dev/src/turbulenceModels/incompressible/turbulenceModel -I/root/RapidCFD/RapidCFD-dev/src/transportModels/immiscibleIncompressibleTwoPhaseMixture/lnInclude -I/root/RapidCFD/RapidCFD-dev/src/finiteVolume/lnInclude -I/root/RapidCFD/RapidCFD-dev/src/dynamicFvMesh/lnInclude -I/root/RapidCFD/RapidCFD-dev/src/meshTools/lnInclude -I/root/RapidCFD/RapidCFD-dev/src/fvOptions/lnInclude -I/root/RapidCFD/RapidCFD-dev/src/sampling/lnInclude -IlnInclude -I. -I/root/RapidCFD/RapidCFD-dev/src/OpenFOAM/lnInclude -I/root/RapidCFD/RapidCFD-dev/src/OSspecific/POSIX/lnInclude   -Xcompiler -fPIC -cudart shared -Xlinker --add-needed -Xlinker --no-as-needed Make/linux64NvccDPOpt/interDyMFoam.o -L/root/RapidCFD/RapidCFD-dev/platforms/linux64NvccDPOpt/lib \\\n",
            "     -limmiscibleIncompressibleTwoPhaseMixture -lincompressibleTurbulenceModel -lincompressibleRASModels -lincompressibleLESModels -lfiniteVolume -ldynamicFvMesh -lmeshTools -lfvOptions -lsampling -lOpenFOAM -ldl   -lm -o /root/RapidCFD/RapidCFD-dev/platforms/linux64NvccDPOpt/bin/interDyMFoam\n",
            "/usr/bin/ld: /root/RapidCFD/RapidCFD-dev/platforms/linux64NvccDPOpt/lib/libOpenFOAM.so: undefined reference to `Foam::Ostream& Foam::operator<< <int>(Foam::Ostream&, Foam::gpuList<int> const&)'\n",
            "/usr/bin/ld: /root/RapidCFD/RapidCFD-dev/platforms/linux64NvccDPOpt/lib/libOpenFOAM.so: undefined reference to `Foam::Ostream& Foam::operator<< <double>(Foam::Ostream&, Foam::gpuList<double> const&)'\n",
            "collect2: error: ld returned 1 exit status\n",
            "make: *** [/root/RapidCFD/RapidCFD-dev/wmake/Makefile:150: /root/RapidCFD/RapidCFD-dev/platforms/linux64NvccDPOpt/bin/interDyMFoam] Error 1\n",
            "+ wmake porousInterFoam\n",
            "nvcc -Xptxas -dlcm=cg -std=c++11 -m64 -arch=sm_75 -Dlinux64 -DWM_DP -Xcompiler -Wall -Xcompiler -Wextra -Xcompiler -Wno-unused-parameter -Xcompiler -Wno-vla -Xcudafe \"--diag_suppress=null_reference\" -Xcudafe \"--diag_suppress=subscript_out_of_range\" -Xcudafe \"--diag_suppress=extra_semicolon\" -Xcudafe \"--diag_suppress=partial_override\" -Xcudafe \"--diag_suppress=implicit_return_from_non_void_function\" -Xcudafe \"--diag_suppress=virtual_function_decl_hidden\" -O3  -DNoRepository -I.. -I/root/RapidCFD/RapidCFD-dev/src/transportModels/twoPhaseMixture/lnInclude -I/root/RapidCFD/RapidCFD-dev/src/transportModels -I/root/RapidCFD/RapidCFD-dev/src/transportModels/incompressible/lnInclude -I/root/RapidCFD/RapidCFD-dev/src/transportModels/interfaceProperties/lnInclude -I/root/RapidCFD/RapidCFD-dev/src/transportModels/immiscibleIncompressibleTwoPhaseMixture/lnInclude -I/root/RapidCFD/RapidCFD-dev/src/turbulenceModels/incompressible/turbulenceModel -I/root/RapidCFD/RapidCFD-dev/src/finiteVolume/lnInclude -I/root/RapidCFD/RapidCFD-dev/src/meshTools/lnInclude -I/root/RapidCFD/RapidCFD-dev/src/fvOptions/lnInclude -I/root/RapidCFD/RapidCFD-dev/src/sampling/lnInclude -IlnInclude -I. -I/root/RapidCFD/RapidCFD-dev/src/OpenFOAM/lnInclude -I/root/RapidCFD/RapidCFD-dev/src/OSspecific/POSIX/lnInclude   -Xcompiler -fPIC -cudart shared -Xlinker --add-needed -Xlinker --no-as-needed Make/linux64NvccDPOpt/porousInterFoam.o -L/root/RapidCFD/RapidCFD-dev/platforms/linux64NvccDPOpt/lib \\\n",
            "     -limmiscibleIncompressibleTwoPhaseMixture -lincompressibleTransportModels -lincompressibleTurbulenceModel -lincompressibleRASModels -lincompressibleLESModels -lfiniteVolume -lmeshTools -lfvOptions -lsampling -lOpenFOAM -ldl   -lm -o /root/RapidCFD/RapidCFD-dev/platforms/linux64NvccDPOpt/bin/porousInterFoam\n",
            "/usr/bin/ld: /root/RapidCFD/RapidCFD-dev/platforms/linux64NvccDPOpt/lib/libOpenFOAM.so: undefined reference to `Foam::Ostream& Foam::operator<< <int>(Foam::Ostream&, Foam::gpuList<int> const&)'\n",
            "/usr/bin/ld: /root/RapidCFD/RapidCFD-dev/platforms/linux64NvccDPOpt/lib/libOpenFOAM.so: undefined reference to `Foam::Ostream& Foam::operator<< <double>(Foam::Ostream&, Foam::gpuList<double> const&)'\n",
            "collect2: error: ld returned 1 exit status\n",
            "make: *** [/root/RapidCFD/RapidCFD-dev/wmake/Makefile:150: /root/RapidCFD/RapidCFD-dev/platforms/linux64NvccDPOpt/bin/porousInterFoam] Error 1\n",
            "+ wmake all solvers/multiphase/driftFluxFoam\n",
            "+ wmake libso mixtureViscosityModels\n",
            "'/root/RapidCFD/RapidCFD-dev/platforms/linux64NvccDPOpt/lib/libdriftFluxTransportModels.so' is up to date.\n",
            "+ wmake libso relativeVelocityModels\n",
            "'/root/RapidCFD/RapidCFD-dev/platforms/linux64NvccDPOpt/lib/libdriftFluxRelativeVelocityModels.so' is up to date.\n",
            "+ wmake\n",
            "nvcc -Xptxas -dlcm=cg -std=c++11 -m64 -arch=sm_75 -Dlinux64 -DWM_DP -Xcompiler -Wall -Xcompiler -Wextra -Xcompiler -Wno-unused-parameter -Xcompiler -Wno-vla -Xcudafe \"--diag_suppress=null_reference\" -Xcudafe \"--diag_suppress=subscript_out_of_range\" -Xcudafe \"--diag_suppress=extra_semicolon\" -Xcudafe \"--diag_suppress=partial_override\" -Xcudafe \"--diag_suppress=implicit_return_from_non_void_function\" -Xcudafe \"--diag_suppress=virtual_function_decl_hidden\" -O3  -DNoRepository -IincompressibleTwoPhaseInteractingMixture -ImixtureViscosityModels/lnInclude -I/root/RapidCFD/RapidCFD-dev/src/finiteVolume/lnInclude -I/root/RapidCFD/RapidCFD-dev/src/meshTools/lnInclude -I/root/RapidCFD/RapidCFD-dev/src/sampling/lnInclude -I/root/RapidCFD/RapidCFD-dev/src/fvOptions/lnInclude -I/root/RapidCFD/RapidCFD-dev/src/transportModels -I/root/RapidCFD/RapidCFD-dev/src/transportModels/twoPhaseMixture/lnInclude -I/root/RapidCFD/RapidCFD-dev/src/transportModels/incompressible/lnInclude -I/root/RapidCFD/RapidCFD-dev/src/transportModels/interfaceProperties/lnInclude -I/root/RapidCFD/RapidCFD-dev/src/TurbulenceModels/turbulenceModels/lnInclude -I/root/RapidCFD/RapidCFD-dev/src/TurbulenceModels/compressible/lnInclude -I./relativeVelocityModels/lnInclude -IlnInclude -I. -I/root/RapidCFD/RapidCFD-dev/src/OpenFOAM/lnInclude -I/root/RapidCFD/RapidCFD-dev/src/OSspecific/POSIX/lnInclude   -Xcompiler -fPIC -cudart shared -Xlinker --add-needed -Xlinker --no-as-needed Make/linux64NvccDPOpt/incompressibleTwoPhaseInteractingMixture.o Make/linux64NvccDPOpt/compressibleTurbulenceModels.o Make/linux64NvccDPOpt/driftFluxFoam.o -L/root/RapidCFD/RapidCFD-dev/platforms/linux64NvccDPOpt/lib \\\n",
            "     -ldriftFluxTransportModels -ldriftFluxRelativeVelocityModels -lfiniteVolume -lmeshTools -lsampling -lfvOptions -lincompressibleTransportModels -lturbulenceModels -lcompressibleTurbulenceModels -lOpenFOAM -ldl   -lm -o /root/RapidCFD/RapidCFD-dev/platforms/linux64NvccDPOpt/bin/driftFluxFoam\n",
            "/usr/bin/ld: /root/RapidCFD/RapidCFD-dev/platforms/linux64NvccDPOpt/lib/libOpenFOAM.so: undefined reference to `Foam::Ostream& Foam::operator<< <int>(Foam::Ostream&, Foam::gpuList<int> const&)'\n",
            "/usr/bin/ld: /root/RapidCFD/RapidCFD-dev/platforms/linux64NvccDPOpt/lib/libOpenFOAM.so: undefined reference to `Foam::Ostream& Foam::operator<< <double>(Foam::Ostream&, Foam::gpuList<double> const&)'\n",
            "collect2: error: ld returned 1 exit status\n",
            "make: *** [/root/RapidCFD/RapidCFD-dev/wmake/Makefile:150: /root/RapidCFD/RapidCFD-dev/platforms/linux64NvccDPOpt/bin/driftFluxFoam] Error 1\n"
          ]
        }
      ],
      "source": [
        "!rm platforms/linux64NvccDPOpt/lib/libOpenFOAM.so;\\\n",
        "source etc/bashrc;\\\n",
        "export WM_NCOMPPROCS=2;\\\n",
        "LANG=C ./Allwmake 2>&1 | tee log.Allwmake"
      ]
    },
    {
      "cell_type": "markdown",
      "metadata": {
        "id": "OByGWIbqB-tt"
      },
      "source": []
    },
    {
      "cell_type": "markdown",
      "metadata": {
        "id": "bgfHdQMzyZwV"
      },
      "source": [
        "## 単精度版の環境設定およびビルド\n",
        "もし単精度版をビルドする場合には、以下のようにします。"
      ]
    },
    {
      "cell_type": "code",
      "execution_count": null,
      "metadata": {
        "id": "9adPBU53ydu-"
      },
      "outputs": [],
      "source": [
        "!source /root/RapidCFD/RapidCFD-dev/etc/bashrc WM_PRECISION_OPTION=SP;\\\n",
        "export WM_NCOMPPROCS=2;\\\n",
        "LANG=C ./Allwmake 2>&1 | tee log.Allwmake.SP"
      ]
    },
    {
      "cell_type": "markdown",
      "metadata": {
        "id": "kuA9asXixdDf"
      },
      "source": [
        "## RapidCFD-devのアーカイブ\n"
      ]
    },
    {
      "cell_type": "code",
      "execution_count": null,
      "metadata": {
        "id": "-kKK2I49xjui"
      },
      "outputs": [],
      "source": [
        "%cd /root/RapidCFD\n",
        "!tar Jcf RapidCFD-dev.tar.xz RapidCFD-dev"
      ]
    },
    {
      "cell_type": "markdown",
      "metadata": {
        "id": "j6ZefZwyxxtp"
      },
      "source": [
        "上記ファイルをファイル・ブラウからダウンロードするか、Googleドライブにコピーしておきます。"
      ]
    }
  ],
  "metadata": {
    "colab": {
      "provenance": [],
      "authorship_tag": "ABX9TyNsmAyRJeDix5+pEktRjPOA",
      "include_colab_link": true
    },
    "kernelspec": {
      "display_name": "Python 3",
      "name": "python3"
    },
    "language_info": {
      "name": "python"
    }
  },
  "nbformat": 4,
  "nbformat_minor": 0
}
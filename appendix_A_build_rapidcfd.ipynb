{
  "cells": [
    {
      "cell_type": "markdown",
      "metadata": {
        "id": "view-in-github",
        "colab_type": "text"
      },
      "source": [
        "<a href=\"https://colab.research.google.com/github/opencae/hpc-training-gpu-2023/blob/main/appendix_A_build_rapidcfd.ipynb\" target=\"_parent\"><img src=\"https://colab.research.google.com/assets/colab-badge.svg\" alt=\"Open In Colab\"/></a>"
      ]
    },
    {
      "cell_type": "markdown",
      "metadata": {
        "id": "SlG18Mhlfdu4"
      },
      "source": [
        "# RapidCFDのビルド\n",
        "\n"
      ]
    },
    {
      "cell_type": "markdown",
      "metadata": {
        "id": "oMGSDgFtrLMQ"
      },
      "source": [
        "## GNU Flexのインストール\n",
        "RapidCFDのビルドに必要となります。\n"
      ]
    },
    {
      "cell_type": "code",
      "execution_count": null,
      "metadata": {
        "id": "eNi3R-rMflUB"
      },
      "outputs": [],
      "source": [
        "!apt-get install flex"
      ]
    },
    {
      "cell_type": "markdown",
      "metadata": {
        "id": "keDYzFtSrbZR"
      },
      "source": [
        "## インストール先のディレクトリ作成"
      ]
    },
    {
      "cell_type": "code",
      "execution_count": null,
      "metadata": {
        "id": "SXTPFZtKr67s"
      },
      "outputs": [],
      "source": [
        "!mkdir /root/RapidCFD"
      ]
    },
    {
      "cell_type": "markdown",
      "metadata": {
        "id": "cRrZSKlor1H4"
      },
      "source": [
        "## インストール先のディレクトリ移動"
      ]
    },
    {
      "cell_type": "code",
      "execution_count": null,
      "metadata": {
        "id": "-FQ4wZ5prriX"
      },
      "outputs": [],
      "source": [
        "%cd /root/RapidCFD"
      ]
    },
    {
      "cell_type": "markdown",
      "metadata": {
        "id": "wy-R_lOJsDxX"
      },
      "source": [
        "## RapidCFD-devのレポジトリのクローン"
      ]
    },
    {
      "cell_type": "code",
      "execution_count": null,
      "metadata": {
        "id": "ABT209jUrgBk"
      },
      "outputs": [],
      "source": [
        "!git clone https://github.com/Atizar/RapidCFD-dev.git"
      ]
    },
    {
      "cell_type": "markdown",
      "metadata": {
        "id": "yRh3PwXwscpQ"
      },
      "source": [
        "## パッチファイル入手"
      ]
    },
    {
      "cell_type": "code",
      "execution_count": null,
      "metadata": {
        "id": "TwUn0hPjsgJg"
      },
      "outputs": [],
      "source": [
        "!wget https://gitlab.com/OpenCAE/Supercomputer-OpenFOAM-Training/-/raw/master/build/colab/Nvcc/patches/RapidCFD-dev.diff"
      ]
    },
    {
      "cell_type": "markdown",
      "metadata": {
        "id": "LV9G2dBNs6Aa"
      },
      "source": [
        "## パッチの適用"
      ]
    },
    {
      "cell_type": "code",
      "execution_count": null,
      "metadata": {
        "id": "07gRy4yRs9AG"
      },
      "outputs": [],
      "source": [
        "!patch -d RapidCFD-dev -b -p1 < RapidCFD-dev.diff"
      ]
    },
    {
      "cell_type": "markdown",
      "metadata": {
        "id": "8VdsTE1hsU-b"
      },
      "source": [
        "## RapidCFD-devディレクトリ移動"
      ]
    },
    {
      "cell_type": "code",
      "execution_count": null,
      "metadata": {
        "id": "w0rjZ_4-sZ9n"
      },
      "outputs": [],
      "source": [
        "%cd RapidCFD-dev"
      ]
    },
    {
      "cell_type": "markdown",
      "metadata": {
        "id": "_NvC_3I9tgep"
      },
      "source": [
        "## コンパイラオプションの変更\n",
        "\n",
        "ハードウェア・アクセラレータがTesla T4(Turing)の場合には、NVIDIA architecture nameを`sm_75`とします。\n",
        "\n",
        "* NVIDIA GPU の NVIDIA architectures のまとめ https://qiita.com/k_ikasumipowder/items/1142dadba01b42ac6012"
      ]
    },
    {
      "cell_type": "code",
      "execution_count": null,
      "metadata": {
        "id": "b8mY_nZHtmvb"
      },
      "outputs": [],
      "source": [
        "!for f in wmake/rules/linux64Nvcc/{c,c++};do sed -i 's/ -arch=sm_[0-9]*/ -arch=sm_75/' $f;done"
      ]
    },
    {
      "cell_type": "markdown",
      "metadata": {
        "id": "DZRSBNkFuT9r"
      },
      "source": [
        "## 環境設定およびビルド\n",
        "割り当てられたCPUによって、 並列数`WM_NCOMPPROCS`の設定を変えください。\n",
        "並列数が小さい場合には、非常に時間がかかります。\n"
      ]
    },
    {
      "cell_type": "code",
      "execution_count": null,
      "metadata": {
        "id": "4abEZgwXuVmn"
      },
      "outputs": [],
      "source": [
        "!rm platforms/linux64NvccDPOpt/lib/libOpenFOAM.so;\\\n",
        "source etc/bashrc;\\\n",
        "export WM_NCOMPPROCS=2;\\\n",
        "LANG=C ./Allwmake 2>&1 | tee log.Allwmake"
      ]
    },
    {
      "cell_type": "markdown",
      "metadata": {
        "id": "OByGWIbqB-tt"
      },
      "source": []
    },
    {
      "cell_type": "markdown",
      "metadata": {
        "id": "bgfHdQMzyZwV"
      },
      "source": [
        "## 単精度版の環境設定およびビルド\n",
        "もし単精度版をビルドする場合には、以下のようにします。"
      ]
    },
    {
      "cell_type": "code",
      "execution_count": null,
      "metadata": {
        "id": "9adPBU53ydu-"
      },
      "outputs": [],
      "source": [
        "!source /root/RapidCFD/RapidCFD-dev/etc/bashrc WM_PRECISION_OPTION=SP;\\\n",
        "export WM_NCOMPPROCS=2;\\\n",
        "LANG=C ./Allwmake 2>&1 | tee log.Allwmake.SP"
      ]
    },
    {
      "cell_type": "markdown",
      "metadata": {
        "id": "kuA9asXixdDf"
      },
      "source": [
        "## RapidCFD-devのアーカイブ\n"
      ]
    },
    {
      "cell_type": "code",
      "execution_count": null,
      "metadata": {
        "id": "-kKK2I49xjui"
      },
      "outputs": [],
      "source": [
        "%cd /root/RapidCFD\n",
        "!tar Jcf RapidCFD-dev.tar.xz RapidCFD-dev"
      ]
    },
    {
      "cell_type": "markdown",
      "metadata": {
        "id": "j6ZefZwyxxtp"
      },
      "source": [
        "上記ファイルをファイル・ブラウからダウンロードするか、Googleドライブにコピーしておきます。"
      ]
    }
  ],
  "metadata": {
    "colab": {
      "provenance": [],
      "private_outputs": true,
      "authorship_tag": "ABX9TyNsmAyRJeDix5+pEktRjPOA",
      "include_colab_link": true
    },
    "kernelspec": {
      "display_name": "Python 3",
      "name": "python3"
    },
    "language_info": {
      "name": "python"
    }
  },
  "nbformat": 4,
  "nbformat_minor": 0
}
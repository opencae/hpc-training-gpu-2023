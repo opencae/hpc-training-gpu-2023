{
  "cells": [
    {
      "cell_type": "markdown",
      "metadata": {
        "id": "view-in-github",
        "colab_type": "text"
      },
      "source": [
        "<a href=\"https://colab.research.google.com/github/opencae/hpc-training-gpu-2023/blob/main/1_hpc_tc_cavity_benchmark_cpu.ipynb\" target=\"_parent\"><img src=\"https://colab.research.google.com/assets/colab-badge.svg\" alt=\"Open In Colab\"/></a>"
      ]
    },
    {
      "cell_type": "markdown",
      "metadata": {
        "id": "4WRQIAaEOw9b"
      },
      "source": [
        "# 「Google ColaboratoryのCPU・GPUを用いた3次元キャビティ・ベンチマークテスト実行」(演習) 「その1 CPU編」\n",
        "\n",
        "オープンCAE学会 OpenFOAM GPUトレーニング2023 実行委員会 https://opencae.gitlab.io/web/page/training/opencae_hpc_training_gpu_2023/"
      ]
    },
    {
      "cell_type": "markdown",
      "metadata": {
        "id": "SumxrhPovgDU"
      },
      "source": [
        "## セルの実行と移動\n",
        "セルのコードを実行するには、セルをクリックして選択し、コードの左側にある実行ボタンをクリックします。\n",
        "\n",
        "実行ボタンにマウスカーソルが乗ると表示されるように、「Commandキー+Enterキー」または「Ctrlキー+Enterキー」のキーボードショートカットによっても実行できます。\n",
        "\n",
        "さらに、「Shiftキー+Enterキー」のキーボードショートカットによって、 セルのコードを実行(テキストの場合はフォーカス)した後に、次のセルに移動しますので、「Shiftキー+Enterキー」によって、効率的にノートブックの閲覧と実行を進めることができます。"
      ]
    },
    {
      "cell_type": "markdown",
      "metadata": {
        "id": "mJu6Bya1rr_L"
      },
      "source": [
        "## イントロダクション\n"
      ]
    },
    {
      "cell_type": "markdown",
      "metadata": {
        "id": "lhXBEykigtQM"
      },
      "source": [
        "### GPUシステムへの移行\n",
        " 東京大学情報基盤センターと筑波大学計算科学研究センターが共同で運営する最先端共同HPC基盤施設(JCAHPC)が次期に導入するスパコンOFP-IIは、NVIDIA H100及びその後継機種のGPUを中心としたシステムとなります。\n",
        "\n",
        "* GPU移行 GPU移行に関するポータルサイト https://jcahpc.github.io/gpu_porting/\n",
        "\n",
        "また、GPUを用いることが多いAI分野やLLM分野での研究の急速な発展により、JCAHPCに限らず、日本の他のスパコンにおいても、アクセラレータとしてGPUを用いるシステムの導入が続いています。\n",
        "\n",
        "* HPCI 令和6年度課題募集におけるハードウェア・ソフトウェア資源一覧 https://www.hpci-office.jp/using_hpci/hardware_software_resource/2024\n",
        "\n",
        "今後数年のスパンでは、スパコンなどの大規模計算機がGPU中心のシステムに移行することが予想されますので、大規模計算機を用いてOpenFOAMの解析を効率的に行うには、GPU移行を早目に検討する必要があります。\n"
      ]
    },
    {
      "cell_type": "markdown",
      "metadata": {
        "id": "rViPVy2TgtfA"
      },
      "source": [
        "### OpenFOAMでのGPU利用\n"
      ]
    },
    {
      "cell_type": "markdown",
      "metadata": {
        "id": "H85ghh0SgtlD"
      },
      "source": [
        "#### OpenFOAMのGPU移植版RapidCFD\n",
        "OpenFOAMのGPU移植版としては、昔からRapidCFDがありましたが、開発はほとんど止まっているほか、かなり古いバージョンであるOpenFOAM-2.3.1の部分移植なので、移植されていない機能はもちろんのこと、それ以降のOpenFOAMの新しい機能が使えないという致命的な問題があります。\n",
        "\n",
        "* 山岸孝輝: OpenFOAMのメニーコア・GPUへの対応に向けた取り組みの紹介オープンCAEシンポジウム2017 https://www.opencae.or.jp/wp-content/uploads/2018/02/sym2017_C23.pdf\n"
      ]
    },
    {
      "cell_type": "markdown",
      "metadata": {
        "id": "QiNvhGrhgtqK"
      },
      "source": [
        "#### 標準のOpenFOAMのexternal-solverモジュール\n",
        " 一方、最近の標準版OpenFOAMには、PETScという線形ソルバのバライブラリを用いるための外部モジュールであるexternal-solverが用意されているため、PETScの機能を活かして、CPUだけでなく、GPUも併用した線形ソルバの実行が行えます。\n",
        "\n",
        "しかし、external-solverは線形ソルバのみ外部モジュールを用いて別途計算を行うプラグイン的手法であることから、RapidCFDと異なり、標準版OpenFOAMの機能がそのまま使えるのが大きな利点となりますが、その手法の性質上、線形ソルバ部のみしかGPU化ができず、CPUとGPUのメモリ間のデータ転送も自ずと増えるので、高速化の余地が限られるのが欠点となります。\n",
        "\n",
        "* external-solver\n",
        " https://develop.openfoam.com/modules/external-solver\n",
        "* S. Bnà, I. Spisso, M. Olesen, G. Rossi PETSc4FOAM: A Library to plug-in PETSc into the OpenFOAM\n",
        "Framework https://prace-ri.eu/wp-content/uploads/WP294-PETSc4FOAM-A-Library-to-plug-in-PETSc-into-the-OpenFOAM-Framework.pdf"
      ]
    },
    {
      "cell_type": "markdown",
      "metadata": {
        "id": "98G7x0mmhjGB"
      },
      "source": [
        "#### GPU併用の試行\n",
        "以上のように、OpenFOAMの解析においてGPUを使用する手法には欠点や限界も多い現状ですが、今後GPUをアクセラレータとするシステムが増えることを鑑みると、CPUのみを使用した解析とGPUを併用した解析の計算時間や費用効果を比較しておき、GPU併用によりこれらの各種計算効率の向上が見込める問題については、GPU併用計算への移行を検討しても良い時期にきていると言えます。\n"
      ]
    },
    {
      "cell_type": "markdown",
      "metadata": {
        "id": "XrldJX0Ogtvn"
      },
      "source": [
        "### OpenFOAMベンチマークテスト\n",
        "CPUとGPU併用での各種計算効率を比較する解析対象は、最終的には自分が解析したい問題にする必要があるものの、最初の検討としては、計算条件や既往の比較結果が入手可能である、よく知られたベンチマークテストを検討するのが望ましいため、本演習でもOpenFOAM向けのベンチマークテストとして最も有名なHigh Performance ComputingTechinical Committeeの3D Lid-driven cavity benchmarkを対象とします。\n"
      ]
    },
    {
      "cell_type": "markdown",
      "metadata": {
        "id": "g_RuwgVhgt0g"
      },
      "source": [
        "### GPUが使用できる同一の演習計算環境\n",
        " 本演習ではCPUとGPUの計算効率の比較を目的とするため、CPUだけでなく、GPUのハードウェアリソースが必要となりますが、参加者各自にGPUを用意して頂くのは難しいです。\n",
        "\n",
        "さらに、GPUを使うための各種ソフトウェアをインストールしたり、コンパイルする必要があるので、参加者の計算環境が同一でないと、トラブルが生じる可能性が高くなります\n",
        "\n",
        "そこで、本演習では、無償のプランでもあってもGPUをバックエンドのハードウェア・アクセラレタとして用いることが可能であり、かつ計算環境が統一できるGoogle Colaboratory(Colab)を用います。\n"
      ]
    },
    {
      "cell_type": "markdown",
      "metadata": {
        "id": "4nz6WyNcgt6m"
      },
      "source": [
        "### 本演習の内容\n",
        "演習の「その1 CPU編」ではColabのCPUのみを用いて、 HPC TC委員会のベンチマークテストを実行します。\n",
        "\n",
        "CPUのみを用いる場合、OpenFOAM-v2306の非定常層流解析ソルバicoFoamを用い、PCGやPBiCGなど、CPUのみを用いる線形ソルバを指定します。\n",
        "\n",
        "また、GPU上でも実行できる線形ソルバのライブラリであるPETScと、それをOpenFOAMから使用できるようする外部モジュールであるexternal-solverをソースコードからビルドします。\n",
        "\n",
        "なお、これらのビルドにはGPUは必要がないので、CPU編で行なっておき、ビルドしたライブラリをGoogleドライブにコピーしておくことにより、GPU編ですぐに使用できるようにします。\n",
        "\n",
        "演習の「その2 GPU編」ではハードウェエア・アクセラレータとしてGPUを用いて解析するために、GPU向けに移植されたRapicCFDの解析ソルバを用いたケースを解析します。\n",
        "\n",
        "また、OpenFOAM-v2306の非定常層流解析ソルバicoFoamとPETScライブラリを用い、GPU上でCG法線形ソルバを実行するケースも解析します。\n",
        "\n",
        "PETScのCG法線形ソルバをGPU上で走らせる場合、前処理等の形状条件によって計算時間が大きく変化しますので、最後のカスタマイズ演習では、PETScの計算条件カスタマイズを行ないます。\n"
      ]
    },
    {
      "cell_type": "markdown",
      "metadata": {
        "id": "JMePEh7QguAj"
      },
      "source": [
        "### 本演習の目次\n",
        "本演習の内容はColabのノートブックに記述されているので、詳しい目次については、左の「目次」メニューから参照してください。"
      ]
    },
    {
      "cell_type": "markdown",
      "metadata": {
        "id": "Qf0_EwwZiB2D"
      },
      "source": [
        "## High Performance ComputingTechinical Committeeの3次元キャビティ解析ベンチマークテストとは\n",
        "\n",
        "High Performance ComputingTechinical Committee(HPC TC)とは、OpenFOAMのTechnical Committees内に設置されたOpenFOAMのHigh Performance Computing(HPC)向けのベンチマークテスト制定や性能向上を目的とした委員会です。\n",
        "\n",
        "* OpenFOAM® Technical Committees https://www.openfoam.com/governance/technical-committees\n",
        "* High Performance Computing (HPC) Technical Committee https://wiki.openfoam.com/High_Performance_Computing_(HPC)_Technical_Committee\n",
        "\n",
        "また、本委員会が制定するベンチマークテストのうち、最も代表的なものが3次元キャビティ解析ベンチマークテスト(3D Lid-driven cavity benchmark)です。\n",
        "\n",
        "* Repository for the High-Performance Computing Technical Committee https://develop.openfoam.com/committees/hpc/-/wikis/home\n",
        "  * 3-D Lid Driven cavity flow https://develop.openfoam.com/committees/hpc/-/wikis/home#3-d-lid-driven-cavity-flow\n",
        "  * 3D Lid-driven cavity benchmark https://develop.openfoam.com/committees/hpc/-/wikis/home#3d-lid-driven-cavity-benchmark\n",
        "\n",
        "ちなみに、「富岳」でのOpenFOAMの性能測定にも、このベンチマークテストが使われたことがあります。\n",
        "\n",
        "* スーパーコンピュータ「富岳」 | HPCI https://www.hpci-office.jp/for_users/appli_software/appli_openfoam/openfoam_r-ccs_riken-2\n",
        "  * OpenFOAMの性能情報 http://www.hpci-office.jp/documents/appli_software/Fugaku_OpenFOAM_performance.pdf\n",
        "\n",
        "また、HPC TCは数値計算ライブラリPETScなど、CPU以外にもGPUも使用できる外部ソルバーを任意のOpenFOAMソルバーから使用できるようにするexternal-soverモジュール(petscFoam, PETSc4FOAM)の開発にコミットしています。\n",
        "\n",
        "* external-solver https://develop.openfoam.com/modules/external-solver\n",
        "* S. Bnà, I. Spisso, M. Olesen, G. Rossi PETSc4FOAM: A Library to plug-in PETSc into the OpenFOAM Framework PRACE White paper https://prace-ri.eu/wp-content/uploads/WP294-PETSc4FOAM-A-Library-to-plug-in-PETSc-into-the-OpenFOAM-Framework.pdf"
      ]
    },
    {
      "cell_type": "markdown",
      "metadata": {
        "id": "CNftATAufPu3"
      },
      "source": [
        "## Google Colaboratoryとは\n",
        "\n",
        "Google Colaboratory(Colab)とは、以下のWebページに記載の通り、*「特別な設定なしでご利用いただけるホスト型の Jupyter Notebook サービス」*です。\n",
        "\n",
        "* Colaboratory よくある質問 https://research.google.com/colaboratory/faq.html?hl=ja\n",
        "\n",
        "上記のWebページにも記載されていますが、Colabには様々なリソース制限があります。\n",
        "予め以下のWebページも参照ください。\n",
        "\n",
        "* Google Colabの制限と対策 https://note.com/npaka/n/n1aa6f8c973d0\n",
        "\n",
        "Colabではノートブックの最大実行時間を過ぎると、ファイルが初期化されるので、コンパイル結果、ベンチマークテストのカスタマイズ設定、実行結果など、生成に手間や時間がかかるファイルは、ここでは参加者各自のGoogleドライブに退避しておきます。\n"
      ]
    },
    {
      "cell_type": "markdown",
      "metadata": {
        "id": "CTSAnDKE-Nj4"
      },
      "source": [
        "## Google ドライブをマウントする\n"
      ]
    },
    {
      "cell_type": "markdown",
      "metadata": {
        "id": "XL9v9tdZCspt"
      },
      "source": [
        "以下にGoogle ドライブをマウントする方法を示します。\n",
        "Google のアカウントが必要になりますので、予め作成しておいてください。"
      ]
    },
    {
      "cell_type": "markdown",
      "metadata": {
        "id": "v4fZmx-V__zb"
      },
      "source": [
        "Google ドライブをマウントには、下記のセルのコードを実行してください。"
      ]
    },
    {
      "cell_type": "code",
      "execution_count": null,
      "metadata": {
        "colab": {
          "base_uri": "https://localhost:8080/"
        },
        "id": "t97HShIV-jme",
        "outputId": "5f691a81-6259-4157-ec95-cd470a20dcd4"
      },
      "outputs": [
        {
          "output_type": "stream",
          "name": "stdout",
          "text": [
            "Drive already mounted at /content/drive; to attempt to forcibly remount, call drive.mount(\"/content/drive\", force_remount=True).\n"
          ]
        }
      ],
      "source": [
        "from google.colab import drive\n",
        "drive.mount('/content/drive')"
      ]
    },
    {
      "cell_type": "markdown",
      "metadata": {
        "id": "Q7H4-gEWAKD3"
      },
      "source": [
        "既にマウント済みでない場合には、下記のようなメッセージが出ると思いますので、**Googleドライブに接続**を選択します。\n",
        "\n",
        "---\n",
        "\n",
        "**このノートブックに Google ドライブのファイルへのアクセスを許可しますか？**\n",
        "\n",
        "このノートブックは Google ドライブ ファイルへのアクセスをリクエストしています。Google ドライブへのアクセスを許可すると、ノートブックで実行されたコードに対し、Google ドライブ内のファイルの変更を許可することになります。このアクセスを許可する前に、ノートブック コードをご確認ください。\n",
        "\n",
        "スキップ  **Googleドライブに接続**\n",
        "\n",
        "---\n"
      ]
    },
    {
      "cell_type": "markdown",
      "metadata": {
        "id": "QAbvoTBhDZIQ"
      },
      "source": [
        "その後、アカウントの選択を求められた場合には、使用する**Googleアカウントを選択**します。"
      ]
    },
    {
      "cell_type": "markdown",
      "metadata": {
        "id": "y6FGb3a-DdpU"
      },
      "source": [
        "さらに、Googleアカウントへのアクセスをリクエストされた場合には、適宜**許可**します。"
      ]
    },
    {
      "cell_type": "markdown",
      "metadata": {
        "id": "uqoOKoOgBDca"
      },
      "source": [
        "上記のようなgoogle の認証手順を踏んでGoogleドライブのマウントに成功すると、'Mounted at /content/drive'と出力され、Googleドライブが /content/drive/MyDrive にマウントされますので、以下を実行して、マウントされたディレクトリを表示してください。"
      ]
    },
    {
      "cell_type": "code",
      "execution_count": null,
      "metadata": {
        "colab": {
          "base_uri": "https://localhost:8080/"
        },
        "id": "aJnilTC3H4Br",
        "outputId": "4ae72bb0-56c6-4367-b102-a3eb760a15ac"
      },
      "outputs": [
        {
          "output_type": "stream",
          "name": "stdout",
          "text": [
            "\u001b[0m\u001b[01;34mMyDrive\u001b[0m/\n"
          ]
        }
      ],
      "source": [
        "%ls /content/drive"
      ]
    },
    {
      "cell_type": "markdown",
      "metadata": {
        "id": "-F2kN4zIIQH0"
      },
      "source": [
        "'MyDrive/'と表示されれば問題ありません。\n",
        "（'MyDriver/' だけではなく、 'Othercomputers/' などもあわせて表示される可能性があります。）"
      ]
    },
    {
      "cell_type": "markdown",
      "metadata": {
        "id": "n3NtOQ4D7-_4"
      },
      "source": [
        "## システムコマンドおよびマジックコマンドの実行\n",
        "### システムコマンドの実行\n",
        "Google Colabはホスト型の Jupyter Notebook サービスであり、IPythonをバックエンドで使っています。\n",
        "IPythonでは!pwdのように先頭に!をつけることでシステムコマンドを実行できます。"
      ]
    },
    {
      "cell_type": "code",
      "execution_count": null,
      "metadata": {
        "colab": {
          "base_uri": "https://localhost:8080/"
        },
        "id": "CLneT-Bv_nL0",
        "outputId": "2b7c3754-8b89-4cae-cdf9-efba2c26b395"
      },
      "outputs": [
        {
          "name": "stdout",
          "output_type": "stream",
          "text": [
            "/content\n"
          ]
        }
      ],
      "source": [
        "!pwd"
      ]
    },
    {
      "cell_type": "markdown",
      "metadata": {
        "id": "oT6v_sgWEgCT"
      },
      "source": [
        "ただし、カレントディレクトリを変更するシステムコマンドはcdですが、これを!cdとして実行しても反映されません。"
      ]
    },
    {
      "cell_type": "code",
      "execution_count": null,
      "metadata": {
        "id": "1KW40Zf7BXgD"
      },
      "outputs": [],
      "source": [
        "!cd /content/drive/MyDrive"
      ]
    },
    {
      "cell_type": "code",
      "execution_count": null,
      "metadata": {
        "colab": {
          "base_uri": "https://localhost:8080/"
        },
        "id": "3olGlgIzBdES",
        "outputId": "8621e393-4072-4226-ce6a-094f6e59766b"
      },
      "outputs": [
        {
          "name": "stdout",
          "output_type": "stream",
          "text": [
            "/content\n"
          ]
        }
      ],
      "source": [
        "!pwd"
      ]
    },
    {
      "cell_type": "markdown",
      "metadata": {
        "id": "L8CEHNhwE3Wx"
      },
      "source": [
        "!をつけたシステムコマンドが実行されたシェルは即座に廃棄されるため、!cdに限らずシェルの状態・設定を変更するようなコマンドを!で実行しても反映されません。\n",
        "\n",
        "従って、カレントディレクトリを変更する場合には、以下のマジックコマンド版のcdを用います。"
      ]
    },
    {
      "cell_type": "markdown",
      "metadata": {
        "id": "1-7vVvVAAgD4"
      },
      "source": [
        "### マジックコマンド\n",
        "\n",
        "IPythonでは%から始まるマジックコマンドが使えます。\n",
        "\n",
        "#### マジックコマンド一覧表示\n",
        "%lsmagicで現在利用可能なマジックコマンド一覧を表示できます。\n"
      ]
    },
    {
      "cell_type": "code",
      "execution_count": null,
      "metadata": {
        "colab": {
          "base_uri": "https://localhost:8080/",
          "height": 285
        },
        "id": "DBLhqXCpG1zP",
        "outputId": "6bb94b99-f8b6-4e81-9467-0788ae54396b"
      },
      "outputs": [
        {
          "data": {
            "application/json": {
              "cell": {
                "!": "OSMagics",
                "HTML": "Other",
                "SVG": "Other",
                "bash": "Other",
                "bigquery": "Other",
                "capture": "ExecutionMagics",
                "debug": "ExecutionMagics",
                "file": "Other",
                "html": "DisplayMagics",
                "javascript": "DisplayMagics",
                "js": "DisplayMagics",
                "latex": "DisplayMagics",
                "markdown": "DisplayMagics",
                "perl": "Other",
                "prun": "ExecutionMagics",
                "pypy": "Other",
                "python": "Other",
                "python2": "Other",
                "python3": "Other",
                "ruby": "Other",
                "script": "ScriptMagics",
                "sh": "Other",
                "shell": "Other",
                "svg": "DisplayMagics",
                "sx": "OSMagics",
                "system": "OSMagics",
                "time": "ExecutionMagics",
                "timeit": "ExecutionMagics",
                "writefile": "OSMagics"
              },
              "line": {
                "alias": "OSMagics",
                "alias_magic": "BasicMagics",
                "autoawait": "AsyncMagics",
                "autocall": "AutoMagics",
                "automagic": "AutoMagics",
                "autosave": "KernelMagics",
                "bookmark": "OSMagics",
                "cat": "Other",
                "cd": "OSMagics",
                "clear": "KernelMagics",
                "colors": "BasicMagics",
                "conda": "PackagingMagics",
                "config": "ConfigMagics",
                "connect_info": "KernelMagics",
                "cp": "Other",
                "debug": "ExecutionMagics",
                "dhist": "OSMagics",
                "dirs": "OSMagics",
                "doctest_mode": "BasicMagics",
                "ed": "Other",
                "edit": "KernelMagics",
                "env": "OSMagics",
                "gui": "BasicMagics",
                "hist": "Other",
                "history": "HistoryMagics",
                "killbgscripts": "ScriptMagics",
                "ldir": "Other",
                "less": "KernelMagics",
                "lf": "Other",
                "lk": "Other",
                "ll": "Other",
                "load": "CodeMagics",
                "load_ext": "ExtensionMagics",
                "loadpy": "CodeMagics",
                "logoff": "LoggingMagics",
                "logon": "LoggingMagics",
                "logstart": "LoggingMagics",
                "logstate": "LoggingMagics",
                "logstop": "LoggingMagics",
                "ls": "Other",
                "lsmagic": "BasicMagics",
                "lx": "Other",
                "macro": "ExecutionMagics",
                "magic": "BasicMagics",
                "man": "KernelMagics",
                "matplotlib": "PylabMagics",
                "mkdir": "Other",
                "more": "KernelMagics",
                "mv": "Other",
                "notebook": "BasicMagics",
                "page": "BasicMagics",
                "pastebin": "CodeMagics",
                "pdb": "ExecutionMagics",
                "pdef": "NamespaceMagics",
                "pdoc": "NamespaceMagics",
                "pfile": "NamespaceMagics",
                "pinfo": "NamespaceMagics",
                "pinfo2": "NamespaceMagics",
                "pip": "Other",
                "popd": "OSMagics",
                "pprint": "BasicMagics",
                "precision": "BasicMagics",
                "prun": "ExecutionMagics",
                "psearch": "NamespaceMagics",
                "psource": "NamespaceMagics",
                "pushd": "OSMagics",
                "pwd": "OSMagics",
                "pycat": "OSMagics",
                "pylab": "PylabMagics",
                "qtconsole": "KernelMagics",
                "quickref": "BasicMagics",
                "recall": "HistoryMagics",
                "rehashx": "OSMagics",
                "reload_ext": "ExtensionMagics",
                "rep": "Other",
                "rerun": "HistoryMagics",
                "reset": "NamespaceMagics",
                "reset_selective": "NamespaceMagics",
                "rm": "Other",
                "rmdir": "Other",
                "run": "ExecutionMagics",
                "save": "CodeMagics",
                "sc": "OSMagics",
                "set_env": "OSMagics",
                "shell": "Other",
                "store": "StoreMagics",
                "sx": "OSMagics",
                "system": "OSMagics",
                "tb": "ExecutionMagics",
                "tensorflow_version": "Other",
                "time": "ExecutionMagics",
                "timeit": "ExecutionMagics",
                "unalias": "OSMagics",
                "unload_ext": "ExtensionMagics",
                "who": "NamespaceMagics",
                "who_ls": "NamespaceMagics",
                "whos": "NamespaceMagics",
                "xdel": "NamespaceMagics",
                "xmode": "BasicMagics"
              }
            },
            "text/plain": [
              "Available line magics:\n",
              "%alias  %alias_magic  %autoawait  %autocall  %automagic  %autosave  %bookmark  %cat  %cd  %clear  %colors  %conda  %config  %connect_info  %cp  %debug  %dhist  %dirs  %doctest_mode  %ed  %edit  %env  %gui  %hist  %history  %killbgscripts  %ldir  %less  %lf  %lk  %ll  %load  %load_ext  %loadpy  %logoff  %logon  %logstart  %logstate  %logstop  %ls  %lsmagic  %lx  %macro  %magic  %man  %matplotlib  %mkdir  %more  %mv  %notebook  %page  %pastebin  %pdb  %pdef  %pdoc  %pfile  %pinfo  %pinfo2  %pip  %popd  %pprint  %precision  %prun  %psearch  %psource  %pushd  %pwd  %pycat  %pylab  %qtconsole  %quickref  %recall  %rehashx  %reload_ext  %rep  %rerun  %reset  %reset_selective  %rm  %rmdir  %run  %save  %sc  %set_env  %shell  %store  %sx  %system  %tb  %tensorflow_version  %time  %timeit  %unalias  %unload_ext  %who  %who_ls  %whos  %xdel  %xmode\n",
              "\n",
              "Available cell magics:\n",
              "%%!  %%HTML  %%SVG  %%bash  %%bigquery  %%capture  %%debug  %%file  %%html  %%javascript  %%js  %%latex  %%markdown  %%perl  %%prun  %%pypy  %%python  %%python2  %%python3  %%ruby  %%script  %%sh  %%shell  %%svg  %%sx  %%system  %%time  %%timeit  %%writefile\n",
              "\n",
              "Automagic is ON, % prefix IS NOT needed for line magics."
            ]
          },
          "execution_count": 8,
          "metadata": {},
          "output_type": "execute_result"
        }
      ],
      "source": [
        "%lsmagic"
      ]
    },
    {
      "cell_type": "markdown",
      "metadata": {
        "id": "-4RxTGJNexXJ"
      },
      "source": [
        "なお、'Automagic is ON'の場合、前に%を付けなくても、マジックコマンドを実行することが可能です。\n",
        "\n",
        "Googleドライブのマウント確認において、'ls /content/drive'と、lsの前に%が付いていないのに、\n",
        "lsが実行できたのは、デフォルトで'Automagic is ON'となっているからです。\n",
        "\n",
        "なお、AutomagicのONとOFFは、以下のマジックコマンドにより変更できます。"
      ]
    },
    {
      "cell_type": "code",
      "execution_count": null,
      "metadata": {
        "colab": {
          "base_uri": "https://localhost:8080/"
        },
        "id": "H_JAtIPM0uc-",
        "outputId": "2d3b5ea2-8797-4b78-a266-b3c267b16851"
      },
      "outputs": [
        {
          "name": "stdout",
          "output_type": "stream",
          "text": [
            "\n",
            "Automagic is OFF, % prefix IS needed for line magics.\n"
          ]
        }
      ],
      "source": [
        "%automagic"
      ]
    },
    {
      "cell_type": "code",
      "execution_count": null,
      "metadata": {
        "colab": {
          "base_uri": "https://localhost:8080/"
        },
        "id": "mnP3NdldtoD4",
        "outputId": "43c36770-30ee-481b-9f46-8c86ccbab32a"
      },
      "outputs": [
        {
          "name": "stdout",
          "output_type": "stream",
          "text": [
            "\n",
            "Automagic is ON, % prefix IS NOT needed for line magics.\n"
          ]
        }
      ],
      "source": [
        "%automagic"
      ]
    },
    {
      "cell_type": "markdown",
      "metadata": {
        "id": "QZsPpOy70zVt"
      },
      "source": [
        "以降では、念のためAutomagicの設定に依存せずにマジックコマンドが実行できるよう%を省略しません。"
      ]
    },
    {
      "cell_type": "markdown",
      "metadata": {
        "id": "5RGl_RvHG-yg"
      },
      "source": [
        "### マジックコマンドによるカレントディレクトリの変更\n",
        "%cd によってカレントディレクトリが変更できます。"
      ]
    },
    {
      "cell_type": "code",
      "execution_count": null,
      "metadata": {
        "colab": {
          "base_uri": "https://localhost:8080/"
        },
        "id": "fjYJI-QqHTsO",
        "outputId": "a3ed3498-ede4-4790-ec7f-b910f43f5f40"
      },
      "outputs": [
        {
          "name": "stdout",
          "output_type": "stream",
          "text": [
            "/content/drive/MyDrive\n"
          ]
        }
      ],
      "source": [
        "%cd /content/drive/MyDrive"
      ]
    },
    {
      "cell_type": "code",
      "execution_count": null,
      "metadata": {
        "colab": {
          "base_uri": "https://localhost:8080/"
        },
        "id": "SCQsStcfHYjp",
        "outputId": "c98b7c7d-e262-4c8d-f83e-9a9ead908e79"
      },
      "outputs": [
        {
          "name": "stdout",
          "output_type": "stream",
          "text": [
            "/content/drive/MyDrive\n"
          ]
        }
      ],
      "source": [
        "!pwd"
      ]
    },
    {
      "cell_type": "markdown",
      "metadata": {
        "id": "PXPyqDPOE0FW"
      },
      "source": [
        "## リソースの確認"
      ]
    },
    {
      "cell_type": "markdown",
      "metadata": {
        "id": "SnrCXR3bE_1Z"
      },
      "source": [
        "### ハードウェア\n",
        "最近のLinuxシステムでは、カーネルの現在の状態を表す特殊なファイルの階層であるprocファイルシステム上の仮想ファイルを読むことで、様々な状態を知ることができます。"
      ]
    },
    {
      "cell_type": "markdown",
      "metadata": {
        "id": "_ytt57Fh3Lxr"
      },
      "source": [
        "#### CPUの状態確認\n",
        "仮想ファイル/proc/cpuinfoの中身を読み出すことによって、CPUの状態確認ができます。"
      ]
    },
    {
      "cell_type": "code",
      "execution_count": null,
      "metadata": {
        "colab": {
          "base_uri": "https://localhost:8080/"
        },
        "id": "yEzPMsSOEzpN",
        "outputId": "d02a186c-cb84-4291-c56f-88db82cefff1"
      },
      "outputs": [
        {
          "name": "stdout",
          "output_type": "stream",
          "text": [
            "processor\t: 0\n",
            "vendor_id\t: AuthenticAMD\n",
            "cpu family\t: 23\n",
            "model\t\t: 49\n",
            "model name\t: AMD EPYC 7B12\n",
            "stepping\t: 0\n",
            "microcode\t: 0xffffffff\n",
            "cpu MHz\t\t: 2249.998\n",
            "cache size\t: 512 KB\n",
            "physical id\t: 0\n",
            "siblings\t: 2\n",
            "core id\t\t: 0\n",
            "cpu cores\t: 1\n",
            "apicid\t\t: 0\n",
            "initial apicid\t: 0\n",
            "fpu\t\t: yes\n",
            "fpu_exception\t: yes\n",
            "cpuid level\t: 13\n",
            "wp\t\t: yes\n",
            "flags\t\t: fpu vme de pse tsc msr pae mce cx8 apic sep mtrr pge mca cmov pat pse36 clflush mmx fxsr sse sse2 ht syscall nx mmxext fxsr_opt pdpe1gb rdtscp lm constant_tsc rep_good nopl nonstop_tsc cpuid extd_apicid tsc_known_freq pni pclmulqdq ssse3 fma cx16 sse4_1 sse4_2 movbe popcnt aes xsave avx f16c rdrand hypervisor lahf_lm cmp_legacy cr8_legacy abm sse4a misalignsse 3dnowprefetch osvw topoext ssbd ibrs ibpb stibp vmmcall fsgsbase tsc_adjust bmi1 avx2 smep bmi2 rdseed adx smap clflushopt clwb sha_ni xsaveopt xsavec xgetbv1 clzero xsaveerptr arat npt nrip_save umip rdpid\n",
            "bugs\t\t: sysret_ss_attrs null_seg spectre_v1 spectre_v2 spec_store_bypass retbleed smt_rsb\n",
            "bogomips\t: 4499.99\n",
            "TLB size\t: 3072 4K pages\n",
            "clflush size\t: 64\n",
            "cache_alignment\t: 64\n",
            "address sizes\t: 48 bits physical, 48 bits virtual\n",
            "power management:\n",
            "\n",
            "processor\t: 1\n",
            "vendor_id\t: AuthenticAMD\n",
            "cpu family\t: 23\n",
            "model\t\t: 49\n",
            "model name\t: AMD EPYC 7B12\n",
            "stepping\t: 0\n",
            "microcode\t: 0xffffffff\n",
            "cpu MHz\t\t: 2249.998\n",
            "cache size\t: 512 KB\n",
            "physical id\t: 0\n",
            "siblings\t: 2\n",
            "core id\t\t: 0\n",
            "cpu cores\t: 1\n",
            "apicid\t\t: 1\n",
            "initial apicid\t: 1\n",
            "fpu\t\t: yes\n",
            "fpu_exception\t: yes\n",
            "cpuid level\t: 13\n",
            "wp\t\t: yes\n",
            "flags\t\t: fpu vme de pse tsc msr pae mce cx8 apic sep mtrr pge mca cmov pat pse36 clflush mmx fxsr sse sse2 ht syscall nx mmxext fxsr_opt pdpe1gb rdtscp lm constant_tsc rep_good nopl nonstop_tsc cpuid extd_apicid tsc_known_freq pni pclmulqdq ssse3 fma cx16 sse4_1 sse4_2 movbe popcnt aes xsave avx f16c rdrand hypervisor lahf_lm cmp_legacy cr8_legacy abm sse4a misalignsse 3dnowprefetch osvw topoext ssbd ibrs ibpb stibp vmmcall fsgsbase tsc_adjust bmi1 avx2 smep bmi2 rdseed adx smap clflushopt clwb sha_ni xsaveopt xsavec xgetbv1 clzero xsaveerptr arat npt nrip_save umip rdpid\n",
            "bugs\t\t: sysret_ss_attrs null_seg spectre_v1 spectre_v2 spec_store_bypass retbleed smt_rsb\n",
            "bogomips\t: 4499.99\n",
            "TLB size\t: 3072 4K pages\n",
            "clflush size\t: 64\n",
            "cache_alignment\t: 64\n",
            "address sizes\t: 48 bits physical, 48 bits virtual\n",
            "power management:\n",
            "\n"
          ]
        }
      ],
      "source": [
        "!cat /proc/cpuinfo"
      ]
    },
    {
      "cell_type": "markdown",
      "metadata": {
        "id": "IGDHhuJWZi7t"
      },
      "source": [
        "#### 物理CPUの数\n",
        "物理CPU数は、/proc/cpuinfoにおけるphysical.idのユニークな数です。"
      ]
    },
    {
      "cell_type": "code",
      "execution_count": null,
      "metadata": {
        "colab": {
          "base_uri": "https://localhost:8080/"
        },
        "id": "LVUnqJmMZGOe",
        "outputId": "3be8adbe-db49-4e0e-bc6d-0517ad9535ba"
      },
      "outputs": [
        {
          "name": "stdout",
          "output_type": "stream",
          "text": [
            "1\n"
          ]
        }
      ],
      "source": [
        "!grep physical.id /proc/cpuinfo | sort -u | wc -l"
      ]
    },
    {
      "cell_type": "markdown",
      "metadata": {
        "id": "hDaekEoUZyyT"
      },
      "source": [
        "#### 論理プロセッサーの数\n",
        "\n",
        "論理プロセッサー数は、/proc/cpuinfoにおけるprocessor数です。"
      ]
    },
    {
      "cell_type": "code",
      "execution_count": null,
      "metadata": {
        "colab": {
          "base_uri": "https://localhost:8080/"
        },
        "id": "Du7F8fCvZg3b",
        "outputId": "45b73862-ffb4-4dc2-d789-0f2cc05cf99f"
      },
      "outputs": [
        {
          "name": "stdout",
          "output_type": "stream",
          "text": [
            "2\n"
          ]
        }
      ],
      "source": [
        "!grep processor /proc/cpuinfo | wc -l"
      ]
    },
    {
      "cell_type": "markdown",
      "metadata": {
        "id": "fNKVXb623R1t"
      },
      "source": [
        "#### lscpuによる確認\n",
        "`lscpu`コマンドがインストールされている場合には、本コマンドによってもCPUの状態が確認できます。"
      ]
    },
    {
      "cell_type": "code",
      "execution_count": null,
      "metadata": {
        "colab": {
          "base_uri": "https://localhost:8080/"
        },
        "id": "7QY29q6f3d-G",
        "outputId": "a0128348-099a-40e2-8dc2-3cfeee4c6fb4"
      },
      "outputs": [
        {
          "name": "stdout",
          "output_type": "stream",
          "text": [
            "Architecture:            x86_64\n",
            "  CPU op-mode(s):        32-bit, 64-bit\n",
            "  Address sizes:         48 bits physical, 48 bits virtual\n",
            "  Byte Order:            Little Endian\n",
            "CPU(s):                  2\n",
            "  On-line CPU(s) list:   0,1\n",
            "Vendor ID:               AuthenticAMD\n",
            "  Model name:            AMD EPYC 7B12\n",
            "    CPU family:          23\n",
            "    Model:               49\n",
            "    Thread(s) per core:  2\n",
            "    Core(s) per socket:  1\n",
            "    Socket(s):           1\n",
            "    Stepping:            0\n",
            "    BogoMIPS:            4499.99\n",
            "    Flags:               fpu vme de pse tsc msr pae mce cx8 apic sep mtrr pge mc\n",
            "                         a cmov pat pse36 clflush mmx fxsr sse sse2 ht syscall n\n",
            "                         x mmxext fxsr_opt pdpe1gb rdtscp lm constant_tsc rep_go\n",
            "                         od nopl nonstop_tsc cpuid extd_apicid tsc_known_freq pn\n",
            "                         i pclmulqdq ssse3 fma cx16 sse4_1 sse4_2 movbe popcnt a\n",
            "                         es xsave avx f16c rdrand hypervisor lahf_lm cmp_legacy \n",
            "                         cr8_legacy abm sse4a misalignsse 3dnowprefetch osvw top\n",
            "                         oext ssbd ibrs ibpb stibp vmmcall fsgsbase tsc_adjust b\n",
            "                         mi1 avx2 smep bmi2 rdseed adx smap clflushopt clwb sha_\n",
            "                         ni xsaveopt xsavec xgetbv1 clzero xsaveerptr arat npt n\n",
            "                         rip_save umip rdpid\n",
            "Virtualization features: \n",
            "  Hypervisor vendor:     KVM\n",
            "  Virtualization type:   full\n",
            "Caches (sum of all):     \n",
            "  L1d:                   32 KiB (1 instance)\n",
            "  L1i:                   32 KiB (1 instance)\n",
            "  L2:                    512 KiB (1 instance)\n",
            "  L3:                    16 MiB (1 instance)\n",
            "NUMA:                    \n",
            "  NUMA node(s):          1\n",
            "  NUMA node0 CPU(s):     0,1\n",
            "Vulnerabilities:         \n",
            "  Itlb multihit:         Not affected\n",
            "  L1tf:                  Not affected\n",
            "  Mds:                   Not affected\n",
            "  Meltdown:              Not affected\n",
            "  Mmio stale data:       Not affected\n",
            "  Retbleed:              Vulnerable\n",
            "  Spec store bypass:     Vulnerable\n",
            "  Spectre v1:            Vulnerable: __user pointer sanitization and usercopy ba\n",
            "                         rriers only; no swapgs barriers\n",
            "  Spectre v2:            Vulnerable, IBPB: disabled, STIBP: disabled, PBRSB-eIBR\n",
            "                         S: Not affected\n",
            "  Srbds:                 Not affected\n",
            "  Tsx async abort:       Not affected\n"
          ]
        }
      ],
      "source": [
        "!lscpu"
      ]
    },
    {
      "cell_type": "markdown",
      "metadata": {
        "id": "rg-l1CBU8YS6"
      },
      "source": [
        "#### メモリの状態確認\n",
        "仮想ファイル/proc/meminfo の中身を読み出すことによって、メモリの状態確認ができます。"
      ]
    },
    {
      "cell_type": "code",
      "execution_count": null,
      "metadata": {
        "colab": {
          "base_uri": "https://localhost:8080/"
        },
        "id": "Wj-Xymv08eMx",
        "outputId": "c2c62dff-2e1c-43fb-fe1a-b5a138864e9e"
      },
      "outputs": [
        {
          "name": "stdout",
          "output_type": "stream",
          "text": [
            "MemTotal:       13294252 kB\n",
            "MemFree:         9174324 kB\n",
            "MemAvailable:   12249268 kB\n",
            "Buffers:           92512 kB\n",
            "Cached:          3172460 kB\n",
            "SwapCached:            0 kB\n",
            "Active:           947720 kB\n",
            "Inactive:        2924568 kB\n",
            "Active(anon):       1088 kB\n",
            "Inactive(anon):   607580 kB\n",
            "Active(file):     946632 kB\n",
            "Inactive(file):  2316988 kB\n",
            "Unevictable:          12 kB\n",
            "Mlocked:              12 kB\n",
            "SwapTotal:             0 kB\n",
            "SwapFree:              0 kB\n",
            "Dirty:              4284 kB\n",
            "Writeback:             0 kB\n",
            "AnonPages:        607504 kB\n",
            "Mapped:           328772 kB\n",
            "Shmem:              1348 kB\n",
            "KReclaimable:     104560 kB\n",
            "Slab:             141144 kB\n",
            "SReclaimable:     104560 kB\n",
            "SUnreclaim:        36584 kB\n",
            "KernelStack:        5632 kB\n",
            "PageTables:        10368 kB\n",
            "NFS_Unstable:          0 kB\n",
            "Bounce:                0 kB\n",
            "WritebackTmp:          0 kB\n",
            "CommitLimit:     6647124 kB\n",
            "Committed_AS:    2728100 kB\n",
            "VmallocTotal:   34359738367 kB\n",
            "VmallocUsed:       10596 kB\n",
            "VmallocChunk:          0 kB\n",
            "Percpu:             1296 kB\n",
            "HardwareCorrupted:     0 kB\n",
            "AnonHugePages:         0 kB\n",
            "ShmemHugePages:        0 kB\n",
            "ShmemPmdMapped:        0 kB\n",
            "FileHugePages:         0 kB\n",
            "FilePmdMapped:         0 kB\n",
            "CmaTotal:              0 kB\n",
            "CmaFree:               0 kB\n",
            "HugePages_Total:       0\n",
            "HugePages_Free:        0\n",
            "HugePages_Rsvd:        0\n",
            "HugePages_Surp:        0\n",
            "Hugepagesize:       2048 kB\n",
            "Hugetlb:               0 kB\n",
            "DirectMap4k:       74552 kB\n",
            "DirectMap2M:     4116480 kB\n",
            "DirectMap1G:    11534336 kB\n"
          ]
        }
      ],
      "source": [
        "!cat /proc/meminfo"
      ]
    },
    {
      "cell_type": "markdown",
      "metadata": {
        "id": "aoPu4zzyj98H"
      },
      "source": [
        "なお、「メニュー→ランタイム→リソースの表示」により、リソースが表示され、システムRAMの使用容量/最大使用可能容量が表示されます。"
      ]
    },
    {
      "cell_type": "markdown",
      "metadata": {
        "id": "cLK-gKAV3oCX"
      },
      "source": [
        "### カーネル・ディストリビューション・ソフトウェア\n",
        "カーネルやディストリビューション、および、インストールされているソフトウェアのバージョン等を確認しておきます。"
      ]
    },
    {
      "cell_type": "markdown",
      "metadata": {
        "id": "3WhsaluO7iv6"
      },
      "source": [
        "#### カーネル\n",
        "unameコマンドにより、現在稼働中のカーネルについての情報を得ることができます。\n",
        "\n",
        "* Ubunti Manpage: uname https://manpages.ubuntu.com/manpages/jammy/ja/man2/uname.2.html"
      ]
    },
    {
      "cell_type": "code",
      "execution_count": null,
      "metadata": {
        "colab": {
          "base_uri": "https://localhost:8080/"
        },
        "id": "5u0FiIo07lxZ",
        "outputId": "e9633430-be15-458d-db5a-b329d6c25995"
      },
      "outputs": [
        {
          "name": "stdout",
          "output_type": "stream",
          "text": [
            "Linux 5f2ab06a1f95 5.15.109+ #1 SMP Fri Jun 9 10:57:30 UTC 2023 x86_64 x86_64 x86_64 GNU/Linux\n"
          ]
        }
      ],
      "source": [
        "!uname -a"
      ]
    },
    {
      "cell_type": "markdown",
      "metadata": {
        "id": "F7dt9t_29sLs"
      },
      "source": [
        "カーネルはLinux 5.15.109+です(64bit版x86バイナリ)。\n",
        "\n",
        "なお、仮想ファイル/proc/versionからもカーネルのバージョンがわかります。"
      ]
    },
    {
      "cell_type": "code",
      "execution_count": null,
      "metadata": {
        "colab": {
          "base_uri": "https://localhost:8080/"
        },
        "id": "xGxFsk0e-Wc_",
        "outputId": "1f8309f0-f0fb-457e-94f6-dad3ed01c434"
      },
      "outputs": [
        {
          "name": "stdout",
          "output_type": "stream",
          "text": [
            "Linux version 5.15.109+ (builder@a1d285de7a25) (Chromium OS 15.0_pre458507_p20220602-r18 clang version 15.0.0 (/var/tmp/portage/sys-devel/llvm-15.0_pre458507_p20220602-r18/work/llvm-15.0_pre458507_p20220602/clang a58d0af058038595c93de961b725f86997cf8d4a), LLD 15.0.0) #1 SMP Fri Jun 9 10:57:30 UTC 2023\n"
          ]
        }
      ],
      "source": [
        "!cat /proc/version"
      ]
    },
    {
      "cell_type": "markdown",
      "metadata": {
        "id": "m1EebUT9_ROk"
      },
      "source": [
        "#### ディストリビューション\n",
        "\n",
        "ディストリビューション名やバージョンを表示する方法は、ディストリビューションによって異なりますが、通常 /etc/issue 、または、/etc/*-release の内容から知ることができますますので、これらのファイルの中身をcatやtailなどで表示します。\n",
        "\n",
        "さらに、以下のようにtailコマンドの引数に複数のファイルを指定すると、ファイル名が表示されるので便利です。\n",
        "\n",
        "また、末尾から10行のみを表示するのではなく、先頭行から全てを表示するには、'-n +1'(-n +開始行)のオプションを付けます。"
      ]
    },
    {
      "cell_type": "code",
      "execution_count": null,
      "metadata": {
        "colab": {
          "base_uri": "https://localhost:8080/"
        },
        "id": "naoK5gea7rDJ",
        "outputId": "fb4664a5-bb85-4662-8fc4-30bfec624ed4"
      },
      "outputs": [
        {
          "name": "stdout",
          "output_type": "stream",
          "text": [
            "==> /etc/issue <==\n",
            "Ubuntu 22.04.2 LTS \\n \\l\n",
            "\n",
            "\n",
            "==> /etc/lsb-release <==\n",
            "DISTRIB_ID=Ubuntu\n",
            "DISTRIB_RELEASE=22.04\n",
            "DISTRIB_CODENAME=jammy\n",
            "DISTRIB_DESCRIPTION=\"Ubuntu 22.04.2 LTS\"\n",
            "\n",
            "==> /etc/os-release <==\n",
            "PRETTY_NAME=\"Ubuntu 22.04.2 LTS\"\n",
            "NAME=\"Ubuntu\"\n",
            "VERSION_ID=\"22.04\"\n",
            "VERSION=\"22.04.2 LTS (Jammy Jellyfish)\"\n",
            "VERSION_CODENAME=jammy\n",
            "ID=ubuntu\n",
            "ID_LIKE=debian\n",
            "HOME_URL=\"https://www.ubuntu.com/\"\n",
            "SUPPORT_URL=\"https://help.ubuntu.com/\"\n",
            "BUG_REPORT_URL=\"https://bugs.launchpad.net/ubuntu/\"\n",
            "PRIVACY_POLICY_URL=\"https://www.ubuntu.com/legal/terms-and-policies/privacy-policy\"\n",
            "UBUNTU_CODENAME=jammy\n"
          ]
        }
      ],
      "source": [
        "!tail -n +1 /etc/issue /etc/*-release"
      ]
    },
    {
      "cell_type": "markdown",
      "metadata": {
        "id": "0uHnPhn3B-0C"
      },
      "source": [
        "上記により、ディストリビューションはUbuntu系とわかります。"
      ]
    },
    {
      "cell_type": "markdown",
      "metadata": {
        "id": "qDFaoxFy33_i"
      },
      "source": [
        "#### 標準でインストールされているGccコンパイラのバージョン"
      ]
    },
    {
      "cell_type": "code",
      "execution_count": null,
      "metadata": {
        "colab": {
          "base_uri": "https://localhost:8080/"
        },
        "id": "iI3c3WmtLcV3",
        "outputId": "eceded3b-3e50-4853-b100-ebf1bdbee340"
      },
      "outputs": [
        {
          "name": "stdout",
          "output_type": "stream",
          "text": [
            "Using built-in specs.\n",
            "COLLECT_GCC=gcc\n",
            "COLLECT_LTO_WRAPPER=/usr/lib/gcc/x86_64-linux-gnu/11/lto-wrapper\n",
            "OFFLOAD_TARGET_NAMES=nvptx-none:amdgcn-amdhsa\n",
            "OFFLOAD_TARGET_DEFAULT=1\n",
            "Target: x86_64-linux-gnu\n",
            "Configured with: ../src/configure -v --with-pkgversion='Ubuntu 11.4.0-1ubuntu1~22.04' --with-bugurl=file:///usr/share/doc/gcc-11/README.Bugs --enable-languages=c,ada,c++,go,brig,d,fortran,objc,obj-c++,m2 --prefix=/usr --with-gcc-major-version-only --program-suffix=-11 --program-prefix=x86_64-linux-gnu- --enable-shared --enable-linker-build-id --libexecdir=/usr/lib --without-included-gettext --enable-threads=posix --libdir=/usr/lib --enable-nls --enable-bootstrap --enable-clocale=gnu --enable-libstdcxx-debug --enable-libstdcxx-time=yes --with-default-libstdcxx-abi=new --enable-gnu-unique-object --disable-vtable-verify --enable-plugin --enable-default-pie --with-system-zlib --enable-libphobos-checking=release --with-target-system-zlib=auto --enable-objc-gc=auto --enable-multiarch --disable-werror --enable-cet --with-arch-32=i686 --with-abi=m64 --with-multilib-list=m32,m64,mx32 --enable-multilib --with-tune=generic --enable-offload-targets=nvptx-none=/build/gcc-11-XeT9lY/gcc-11-11.4.0/debian/tmp-nvptx/usr,amdgcn-amdhsa=/build/gcc-11-XeT9lY/gcc-11-11.4.0/debian/tmp-gcn/usr --without-cuda-driver --enable-checking=release --build=x86_64-linux-gnu --host=x86_64-linux-gnu --target=x86_64-linux-gnu --with-build-config=bootstrap-lto-lean --enable-link-serialization=2\n",
            "Thread model: posix\n",
            "Supported LTO compression algorithms: zlib zstd\n",
            "gcc version 11.4.0 (Ubuntu 11.4.0-1ubuntu1~22.04) \n"
          ]
        }
      ],
      "source": [
        "!gcc -v"
      ]
    },
    {
      "cell_type": "markdown",
      "metadata": {
        "id": "LBfmh05tZ_L3"
      },
      "source": [
        "## OpenFOAM-v2306のインストール\n",
        "ディストリビューションはUbutuですから、OpenFOAM-v2306のコンパイル済みのUbuntu向けパッケージをインストールします。\n",
        "\n",
        "* Precompiled packages (Debian, Ubuntu) https://develop.openfoam.com/Development/openfoam/-/wikis/precompiled/debian"
      ]
    },
    {
      "cell_type": "markdown",
      "metadata": {
        "id": "6KpLf5QJctCF"
      },
      "source": [
        "### OpenFOAMレポジトリの追加"
      ]
    },
    {
      "cell_type": "code",
      "execution_count": null,
      "metadata": {
        "colab": {
          "base_uri": "https://localhost:8080/"
        },
        "id": "K35aBXy7Z7v0",
        "outputId": "b1508941-3bf1-4454-8edc-9cbeb62904f3"
      },
      "outputs": [
        {
          "output_type": "stream",
          "name": "stdout",
          "text": [
            "  % Total    % Received % Xferd  Average Speed   Time    Time     Time  Current\n",
            "                                 Dload  Upload   Total   Spent    Left  Speed\n",
            "100  4147  100  4147    0     0   7346      0 --:--:-- --:--:-- --:--:--  7352\n",
            "Detected distribution code-name: jammy\n",
            "Overwrote /etc/apt/sources.list.d/openfoam.list\n",
            "Importing openfoam gpg key... done\n",
            "Overwrote /etc/apt/trusted.gpg.d/openfoam.gpg\n",
            "Running apt-get update... done\n",
            "\n",
            "The repository is setup! You can now install packages.\n"
          ]
        }
      ],
      "source": [
        "!curl https://dl.openfoam.com/add-debian-repo.sh | bash"
      ]
    },
    {
      "cell_type": "markdown",
      "metadata": {
        "id": "7rKcd8RGd4xP"
      },
      "source": [
        "### OepnFOAM-v2306の最小限パッケージのインストール\n",
        "最小限のパッケージであるopenfoam2306のみをインストールすれば、HPC TCベンチマークを標準のOpenFOAMを用いてCPU上で実行可能ですので、openfoam2306をインストールします。\n",
        "\n",
        "* precompiled packages - Sub-packages https://develop.openfoam.com/Development/openfoam/-/wikis/precompiled#sub-packages"
      ]
    },
    {
      "cell_type": "code",
      "execution_count": null,
      "metadata": {
        "colab": {
          "base_uri": "https://localhost:8080/"
        },
        "id": "l6W4n40TaD6g",
        "outputId": "49eff6f0-d64c-4fef-966b-8e7d9b686863"
      },
      "outputs": [
        {
          "output_type": "stream",
          "name": "stdout",
          "text": [
            "Reading package lists... Done\n",
            "Building dependency tree... Done\n",
            "Reading state information... Done\n",
            "openfoam2306 is already the newest version (2306.0-1).\n",
            "0 upgraded, 0 newly installed, 0 to remove and 16 not upgraded.\n"
          ]
        }
      ],
      "source": [
        "!apt-get install openfoam2306\n"
      ]
    },
    {
      "cell_type": "markdown",
      "metadata": {
        "id": "gB0fvvVeaUYq"
      },
      "source": [
        "## High-Performance Computing Technical Committeeのレポジトリのクローン"
      ]
    },
    {
      "cell_type": "markdown",
      "metadata": {
        "id": "fqn8mQf7Vkyq"
      },
      "source": [
        "Googleドライブ上に本トレーニング用のディレクトリhpc-training-gpu-2023を作成し、そこにHigh-Performance Computing Technical Committee(HPC TC委員会)のレポジトリをクローンします。\n",
        "\n",
        "なお、修正した設定ファイルやCPU上で生成した格子ファイル、CPUでの解析ログなどを、GPUをはハードウェア・アクセラレータとする別のランタイムでも共有して使うため、本レポジトリをGoogleドライブ上に置いています。"
      ]
    },
    {
      "cell_type": "code",
      "execution_count": null,
      "metadata": {
        "colab": {
          "base_uri": "https://localhost:8080/"
        },
        "id": "tKcp8lzfaZzP",
        "outputId": "c1bbec6b-5cd8-4329-e0f2-c57df5e84205"
      },
      "outputs": [
        {
          "output_type": "stream",
          "name": "stdout",
          "text": [
            "/content/drive/MyDrive/hpc-training-gpu-2023\n",
            "fatal: destination path 'hpc' already exists and is not an empty directory.\n"
          ]
        }
      ],
      "source": [
        "%mkdir -p /content/drive/MyDrive/hpc-training-gpu-2023\n",
        "%cd /content/drive/MyDrive/hpc-training-gpu-2023\n",
        "!git clone https://develop.openfoam.com/committees/hpc.git"
      ]
    },
    {
      "cell_type": "markdown",
      "metadata": {
        "id": "s0kino5RARUH"
      },
      "source": [
        "## CPUを用いたキャビティベンチマークケースSの実行(ケースS-cpu)\n",
        "ケースSは、立方体状のキャビティ流れの解析領域を100x100x100=1,000,0000(1M)の格子に分割したケースです。"
      ]
    },
    {
      "cell_type": "markdown",
      "metadata": {
        "id": "TXFQiy4GAXJ0"
      },
      "source": [
        "### ケースディレクトリへの移動"
      ]
    },
    {
      "cell_type": "code",
      "execution_count": null,
      "metadata": {
        "colab": {
          "base_uri": "https://localhost:8080/"
        },
        "id": "-FvsviQeAaPw",
        "outputId": "920991bb-d2c8-4d17-f0db-5263a00828b1"
      },
      "outputs": [
        {
          "output_type": "stream",
          "name": "stdout",
          "text": [
            "/content/drive/MyDrive/hpc-training-gpu-2023/hpc/Lid_driven_cavity-3d/S\n"
          ]
        }
      ],
      "source": [
        "%cd /content/drive/MyDrive/hpc-training-gpu-2023/hpc/Lid_driven_cavity-3d/S"
      ]
    },
    {
      "cell_type": "markdown",
      "metadata": {
        "id": "ZL5lX0VVAd9B"
      },
      "source": [
        "### ケースファイル修正\n",
        "HPC TC委員会のベンチマークテストはOpenFOAM-v2006以降の新しいバージョン用であり、OpenFOAM-2.3.1をGPU向けに移植したRapicCFDでは実行できないので、ここではRapidCFDでも実行できるように設定を変更します。\n",
        "\n",
        "また、短時間で実行できるように、2ステップのみ実行するように変更します。\n",
        "\n",
        "さらに、同じディレクトリ上で、線形ソルバの設定を変えた様々なケースを実行するため、線形ソルバの設定ファイル`system/fvSolution`を`system/fvSolution.ケース名`として置いておき、解析ソルバの実行時に、`system/fvSolution.ケース名`を本来の設定ファイル`system/fvSolution`にコピーすることにします。\n",
        "\n",
        "なお、本ランタイムの再接続時など、既に設定が変更されている場合に備え、`git checkout`でオリジナルのファイルをチェックアウトしてから変更します。"
      ]
    },
    {
      "cell_type": "code",
      "execution_count": null,
      "metadata": {
        "colab": {
          "base_uri": "https://localhost:8080/"
        },
        "id": "Zqk7O8ffAhlS",
        "outputId": "05cb3506-6c39-42b8-cd61-d699feadae01"
      },
      "outputs": [
        {
          "output_type": "stream",
          "name": "stdout",
          "text": [
            "Updated 3 paths from the index\n"
          ]
        }
      ],
      "source": [
        "!case=S-cpu;\\\n",
        "git checkout system/controlDict system/fvSchemes constant/transportProperties;\\\n",
        "sed -i -e 's|^\\( *#includeFunc\\)|//\\1|' -e 's|\\(endTime \\).*|\\1 0.002;|' system/controlDict;\\\n",
        "echo 'fluxRequired {default no;p;}' >> system/fvSchemes;\\\n",
        "sed -i s/'^\\(nu\\s*\\[\\)'/'nu \\1'/ constant/transportProperties;\\\n",
        "sed s/PBiCGStab/PBiCG/ system/fvSolution.fixedNORM > system/fvSolution.$case"
      ]
    },
    {
      "cell_type": "markdown",
      "metadata": {
        "id": "gkr6z4W_5gs1"
      },
      "source": [
        "変更したファイルの内容を確認します。"
      ]
    },
    {
      "cell_type": "code",
      "execution_count": null,
      "metadata": {
        "colab": {
          "base_uri": "https://localhost:8080/"
        },
        "id": "uz8BbFEo38V8",
        "outputId": "92472095-b260-49bf-f151-ab79cccdcafa"
      },
      "outputs": [
        {
          "output_type": "stream",
          "name": "stdout",
          "text": [
            "==> constant/transportProperties <==\n",
            "/*--------------------------------*- C++ -*----------------------------------*\\\n",
            "| =========                 |                                                 |\n",
            "| \\\\      /  F ield         | OpenFOAM: The Open Source CFD Toolbox           |\n",
            "|  \\\\    /   O peration     | Version:  v2006                                 |\n",
            "|   \\\\  /    A nd           | Website:  www.openfoam.com                      |\n",
            "|    \\\\/     M anipulation  |                                                 |\n",
            "\\*---------------------------------------------------------------------------*/\n",
            "FoamFile\n",
            "{\n",
            "    version     2.0;\n",
            "    format      ascii;\n",
            "    class       dictionary;\n",
            "    location    \"constant\";\n",
            "    object      transportProperties;\n",
            "}\n",
            "// * * * * * * * * * * * * * * * * * * * * * * * * * * * * * * * * * * * * * //\n",
            "\n",
            "nu nu              [0 2 -1 0 0 0 0] 0.01;\n",
            "\n",
            "// ************************************************************************* //\n",
            "\n",
            "==> system/controlDict <==\n",
            "/*--------------------------------*- C++ -*----------------------------------*\\\n",
            "| =========                 |                                                 |\n",
            "| \\\\      /  F ield         | OpenFOAM: The Open Source CFD Toolbox           |\n",
            "|  \\\\    /   O peration     | Version:  v2006                                 |\n",
            "|   \\\\  /    A nd           | Website:  www.openfoam.com                      |\n",
            "|    \\\\/     M anipulation  |                                                 |\n",
            "\\*---------------------------------------------------------------------------*/\n",
            "FoamFile\n",
            "{\n",
            "    version     2.0;\n",
            "    format      ascii;\n",
            "    class       dictionary;\n",
            "    location    \"system\";\n",
            "    object      controlDict;\n",
            "}\n",
            "// * * * * * * * * * * * * * * * * * * * * * * * * * * * * * * * * * * * * * //\n",
            "\n",
            "//libs            (petscFoam);\n",
            "\n",
            "application     icoFoam;\n",
            "\n",
            "startFrom       startTime;\n",
            "\n",
            "startTime       0;\n",
            "\n",
            "stopAt          endTime;\n",
            "\n",
            "endTime  0.002;\n",
            "\n",
            "deltaT          0.001;\n",
            "\n",
            "writeControl    timeStep;\n",
            "\n",
            "writeInterval   10000;\n",
            "\n",
            "purgeWrite      0;\n",
            "\n",
            "writeFormat     ascii;\n",
            "\n",
            "writePrecision  6;\n",
            "\n",
            "writeCompression off;\n",
            "\n",
            "timeFormat      general;\n",
            "\n",
            "timePrecision   6;\n",
            "\n",
            "runTimeModifiable true;\n",
            "\n",
            "functions\n",
            "{\n",
            "//    #includeFunc  solverInfo\n",
            "    // #includeFunc  residuals\n",
            "}\n",
            "\n",
            "// ************************************************************************* //\n",
            "\n",
            "==> system/fvSchemes <==\n",
            "/*--------------------------------*- C++ -*----------------------------------*\\\n",
            "| =========                 |                                                 |\n",
            "| \\\\      /  F ield         | OpenFOAM: The Open Source CFD Toolbox           |\n",
            "|  \\\\    /   O peration     | Version:  v2006                                 |\n",
            "|   \\\\  /    A nd           | Website:  www.openfoam.com                      |\n",
            "|    \\\\/     M anipulation  |                                                 |\n",
            "\\*---------------------------------------------------------------------------*/\n",
            "FoamFile\n",
            "{\n",
            "    version     2.0;\n",
            "    format      ascii;\n",
            "    class       dictionary;\n",
            "    location    \"system\";\n",
            "    object      fvSchemes;\n",
            "}\n",
            "// * * * * * * * * * * * * * * * * * * * * * * * * * * * * * * * * * * * * * //\n",
            "\n",
            "ddtSchemes\n",
            "{\n",
            "    default         Euler;\n",
            "}\n",
            "\n",
            "gradSchemes\n",
            "{\n",
            "    default         Gauss linear;\n",
            "    grad(p)         Gauss linear;\n",
            "}\n",
            "\n",
            "divSchemes\n",
            "{\n",
            "    default         none;\n",
            "    div(phi,U)      Gauss linear;\n",
            "}\n",
            "\n",
            "laplacianSchemes\n",
            "{\n",
            "    default         Gauss linear orthogonal;\n",
            "}\n",
            "\n",
            "interpolationSchemes\n",
            "{\n",
            "    default         linear;\n",
            "}\n",
            "\n",
            "snGradSchemes\n",
            "{\n",
            "    default         orthogonal;\n",
            "}\n",
            "\n",
            "\n",
            "// ************************************************************************* //\n",
            "fluxRequired {default no;p;}\n",
            "\n",
            "==> system/fvSolution.S-cpu <==\n",
            "/*--------------------------------*- C++ -*----------------------------------*\\\n",
            "| =========                 |                                                 |\n",
            "| \\\\      /  F ield         | OpenFOAM: The Open Source CFD Toolbox           |\n",
            "|  \\\\    /   O peration     | Version:  v2006                                 |\n",
            "|   \\\\  /    A nd           | Website:  www.openfoam.com                      |\n",
            "|    \\\\/     M anipulation  |                                                 |\n",
            "\\*---------------------------------------------------------------------------*/\n",
            "FoamFile\n",
            "{\n",
            "    version     2.0;\n",
            "    format      ascii;\n",
            "    class       dictionary;\n",
            "    location    \"system\";\n",
            "    object      fvSolution;\n",
            "}\n",
            "// * * * * * * * * * * * * * * * * * * * * * * * * * * * * * * * * * * * * * //\n",
            "\n",
            "solvers\n",
            "{\n",
            "    p\n",
            "    {\n",
            "        solver          PCG;\n",
            "        preconditioner  DIC;\n",
            "        tolerance       1e-04;\n",
            "        relTol          0;\n",
            "        maxIter         3000;\n",
            "    }\n",
            "\n",
            "    pFinal\n",
            "    {\n",
            "        $p;\n",
            "        relTol          0;\n",
            "    }\n",
            "\n",
            "    U\n",
            "    {\n",
            "        solver          PBiCG;\n",
            "        preconditioner  DILU;\n",
            "        tolerance       0;\n",
            "        relTol          0;\n",
            "        maxIter         5;\n",
            "    }\n",
            "}\n",
            "\n",
            "PISO\n",
            "{\n",
            "    nCorrectors     2;\n",
            "    nNonOrthogonalCorrectors 0;\n",
            "    pRefCell        0;\n",
            "    pRefValue       0;\n",
            "}\n",
            "\n",
            "\n",
            "// ************************************************************************* //\n"
          ]
        }
      ],
      "source": [
        "!case=S-cpu;\\\n",
        "tail -n+1 constant/transportProperties system/{controlDict,fvSchemes,fvSolution.$case}"
      ]
    },
    {
      "cell_type": "markdown",
      "metadata": {
        "id": "-6400hQGfRM3"
      },
      "source": [
        "### 格子生成"
      ]
    },
    {
      "cell_type": "markdown",
      "metadata": {
        "id": "ShNdJ8Ph5pJs"
      },
      "source": [
        "`blockMesh`アプリケーションを用いて格子を生成します。\n",
        "\n",
        "OpenFOAMのアプリケーションを実行するには、通常OpenFOAMの環境設定が必要だが、 !をつけたシステムコマンドが実行されたシェルは即座に廃棄されるため、OpenFOAMの環境設定を行なった同一シェル上で、アプリケーションを実行します。\n",
        "\n",
        "さらに、ここでは念のため`blockMesh`の前に`time`コマンドを付けて、`blockMesh`コマンドの実行のリアルタイム時間、ユーザー時間、システム時間を表示させています。\n",
        "\n",
        "* Man page of TIME https://linuxjm.osdn.jp/html/LDP_man-pages/man1/time.1.html"
      ]
    },
    {
      "cell_type": "code",
      "execution_count": null,
      "metadata": {
        "colab": {
          "base_uri": "https://localhost:8080/"
        },
        "id": "D7O9mwk9Avx6",
        "outputId": "664dda10-5814-448e-9c8a-536372231de2"
      },
      "outputs": [
        {
          "output_type": "stream",
          "name": "stdout",
          "text": [
            "/*---------------------------------------------------------------------------*\\\n",
            "| =========                 |                                                 |\n",
            "| \\\\      /  F ield         | OpenFOAM: The Open Source CFD Toolbox           |\n",
            "|  \\\\    /   O peration     | Version:  2306                                  |\n",
            "|   \\\\  /    A nd           | Website:  www.openfoam.com                      |\n",
            "|    \\\\/     M anipulation  |                                                 |\n",
            "\\*---------------------------------------------------------------------------*/\n",
            "Build  : _fbf00d6b-20230626 OPENFOAM=2306 version=2306\n",
            "Arch   : \"LSB;label=32;scalar=64\"\n",
            "Exec   : blockMesh\n",
            "Date   : Sep 08 2023\n",
            "Time   : 01:31:51\n",
            "Host   : 796c4ce57da3\n",
            "PID    : 63702\n",
            "I/O    : uncollated\n",
            "Case   : /content/drive/MyDrive/hpc-training-gpu-2023/hpc/Lid_driven_cavity-3d/S\n",
            "nProcs : 1\n",
            "trapFpe: Floating point exception trapping enabled (FOAM_SIGFPE).\n",
            "fileModificationChecking : Monitoring run-time modified files using timeStampMaster (fileModificationSkew 5, maxFileModificationPolls 20)\n",
            "allowSystemOperations : Allowing user-supplied system call operations\n",
            "\n",
            "// * * * * * * * * * * * * * * * * * * * * * * * * * * * * * * * * * * * * * //\n",
            "Create time\n",
            "\n",
            "Creating block mesh from \"system/blockMeshDict\"\n",
            "Creating block edges\n",
            "No non-planar block faces defined\n",
            "Creating topology blocks\n",
            "\n",
            "Creating topology patches - from boundary section\n",
            "\n",
            "Creating block mesh topology - scaling/transform applied later\n",
            "\n",
            "Check topology\n",
            "\n",
            "\tBasic statistics\n",
            "\t\tNumber of internal faces : 0\n",
            "\t\tNumber of boundary faces : 6\n",
            "\t\tNumber of defined boundary faces : 6\n",
            "\t\tNumber of undefined boundary faces : 0\n",
            "\tChecking patch -> block consistency\n",
            "\n",
            "Creating block offsets\n",
            "Creating merge list (topological search)...\n",
            "Deleting polyMesh directory \"constant/polyMesh\"\n",
            "\n",
            "Creating polyMesh from blockMesh\n",
            "Creating patches\n",
            "Creating cells\n",
            "Creating points with scale (0.1 0.1 0.1)\n",
            "    Block 0 cell size :\n",
            "        i : 0.001 .. 0.001\n",
            "        j : 0.001 .. 0.001\n",
            "        k : 0.001 .. 0.001\n",
            "\n",
            "No patch pairs to merge\n",
            "\n",
            "Writing polyMesh with 0 cellZones\n",
            "----------------\n",
            "Mesh Information\n",
            "----------------\n",
            "  boundingBox: (0 0 0) (0.1 0.1 0.1)\n",
            "  nPoints: 1030301\n",
            "  nCells: 1000000\n",
            "  nFaces: 3030000\n",
            "  nInternalFaces: 2970000\n",
            "----------------\n",
            "Patches\n",
            "----------------\n",
            "  patch 0 (start: 2970000 size: 10000) name: movingWall\n",
            "  patch 1 (start: 2980000 size: 50000) name: fixedWalls\n",
            "\n",
            "End\n",
            "\n",
            "\n",
            "real\t0m9.668s\n",
            "user\t0m5.331s\n",
            "sys\t0m1.835s\n"
          ]
        }
      ],
      "source": [
        "!case=S-cpu;\\\n",
        "source /usr/lib/openfoam/openfoam2306/etc/bashrc;time blockMesh 2>&1 | tee log.blockMesh.$case"
      ]
    },
    {
      "cell_type": "markdown",
      "metadata": {
        "id": "_ta-hMzxA2O9"
      },
      "source": [
        "格子数は、nCellsにある通り1000000(100x100x100, 1M)です。"
      ]
    },
    {
      "cell_type": "markdown",
      "metadata": {
        "id": "sgNFFDWmBCf3"
      },
      "source": [
        "### CPUでのOpenFOAM v2306版ソルバ実行\n",
        "`system/fvSolution.ケース名`を本来の設定ファイル`system/fvSolution`にコピーしてから解析ソルバを実行します。"
      ]
    },
    {
      "cell_type": "code",
      "execution_count": null,
      "metadata": {
        "colab": {
          "base_uri": "https://localhost:8080/"
        },
        "id": "6BExfz5QBFsy",
        "outputId": "6a51ac0b-2beb-482f-8efc-4f83ff3c940d"
      },
      "outputs": [
        {
          "output_type": "stream",
          "name": "stdout",
          "text": [
            "/*---------------------------------------------------------------------------*\\\n",
            "| =========                 |                                                 |\n",
            "| \\\\      /  F ield         | OpenFOAM: The Open Source CFD Toolbox           |\n",
            "|  \\\\    /   O peration     | Version:  2306                                  |\n",
            "|   \\\\  /    A nd           | Website:  www.openfoam.com                      |\n",
            "|    \\\\/     M anipulation  |                                                 |\n",
            "\\*---------------------------------------------------------------------------*/\n",
            "Build  : _fbf00d6b-20230626 OPENFOAM=2306 version=2306\n",
            "Arch   : \"LSB;label=32;scalar=64\"\n",
            "Exec   : icoFoam\n",
            "Date   : Sep 08 2023\n",
            "Time   : 01:32:03\n",
            "Host   : 796c4ce57da3\n",
            "PID    : 64030\n",
            "I/O    : uncollated\n",
            "Case   : /content/drive/MyDrive/hpc-training-gpu-2023/hpc/Lid_driven_cavity-3d/S\n",
            "nProcs : 1\n",
            "trapFpe: Floating point exception trapping enabled (FOAM_SIGFPE).\n",
            "fileModificationChecking : Monitoring run-time modified files using timeStampMaster (fileModificationSkew 5, maxFileModificationPolls 20)\n",
            "allowSystemOperations : Allowing user-supplied system call operations\n",
            "\n",
            "// * * * * * * * * * * * * * * * * * * * * * * * * * * * * * * * * * * * * * //\n",
            "Create time\n",
            "\n",
            "Create mesh for time = 0\n",
            "\n",
            "\n",
            "PISO: Operating solver in PISO mode\n",
            "\n",
            "Reading transportProperties\n",
            "\n",
            "Reading field p\n",
            "\n",
            "Reading field U\n",
            "\n",
            "Reading/calculating face flux field phi\n",
            "\n",
            "\n",
            "Starting time loop\n",
            "\n",
            "Time = 0.001\n",
            "\n",
            "Courant Number mean: 0 max: 0\n",
            "DILUPBiCG:  Solving for Ux, Initial residual = 1, Final residual = 0.0395129, No Iterations 5\n",
            "DILUPBiCG:  Solving for Uy:  solution singularity\n",
            "DILUPBiCG:  Solving for Uz:  solution singularity\n",
            "DICPCG:  Solving for p, Initial residual = 1, Final residual = 9.11018e-05, No Iterations 254\n",
            "time step continuity errors : sum local = 4.96784e-08, global = 5.14134e-21, cumulative = 5.14134e-21\n",
            "DICPCG:  Solving for p, Initial residual = 0.771021, Final residual = 8.84735e-05, No Iterations 250\n",
            "time step continuity errors : sum local = 6.15018e-08, global = 2.36053e-21, cumulative = 7.50188e-21\n",
            "ExecutionTime = 16.7 s  ClockTime = 17 s\n",
            "\n",
            "Time = 0.002\n",
            "\n",
            "Courant Number mean: 0.055277 max: 0.807101\n",
            "DILUPBiCG:  Solving for Ux, Initial residual = 0.135434, Final residual = 0.012617, No Iterations 5\n",
            "DILUPBiCG:  Solving for Uy, Initial residual = 0.43144, Final residual = 0.0378801, No Iterations 5\n",
            "DILUPBiCG:  Solving for Uz, Initial residual = 0.989661, Final residual = 0.0739054, No Iterations 5\n",
            "DICPCG:  Solving for p, Initial residual = 0.810468, Final residual = 7.88388e-05, No Iterations 248\n",
            "time step continuity errors : sum local = 8.5124e-08, global = -3.91878e-21, cumulative = 3.58309e-21\n",
            "DICPCG:  Solving for p, Initial residual = 0.752366, Final residual = 8.55283e-05, No Iterations 247\n",
            "time step continuity errors : sum local = 9.40565e-08, global = -4.20492e-21, cumulative = -6.21825e-22\n",
            "ExecutionTime = 29.1 s  ClockTime = 30 s\n",
            "\n",
            "End\n",
            "\n",
            "\n",
            "real\t0m30.237s\n",
            "user\t0m28.601s\n",
            "sys\t0m0.600s\n"
          ]
        }
      ],
      "source": [
        "!case=S-cpu;\\\n",
        "cp system/fvSolution.$case system/fvSolution;\\\n",
        "source /usr/lib/openfoam/openfoam2306/etc/bashrc;\\\n",
        "time icoFoam 2>&1 | tee log.icoFoam.$case"
      ]
    },
    {
      "cell_type": "markdown",
      "metadata": {
        "id": "vTYDjJRVZBnX"
      },
      "source": [
        "### 毎ステップの実行時間"
      ]
    },
    {
      "cell_type": "markdown",
      "metadata": {
        "id": "OsgXaYQ__m-I"
      },
      "source": [
        "ソルバのログには、ExectutionTimeで始まる行に毎ステップ毎の実行時間が出力されているので、これらを抜き出して出力します。"
      ]
    },
    {
      "cell_type": "code",
      "execution_count": null,
      "metadata": {
        "colab": {
          "base_uri": "https://localhost:8080/"
        },
        "id": "5ym1OAdsBOZ4",
        "outputId": "980739de-9746-473f-d12f-907d316768f8"
      },
      "outputs": [
        {
          "output_type": "stream",
          "name": "stdout",
          "text": [
            "ExecutionTime = 16.7 s  ClockTime = 17 s\n",
            "ExecutionTime = 29.1 s  ClockTime = 30 s\n"
          ]
        }
      ],
      "source": [
        "!case=S-cpu;\\\n",
        "grep '^ExecutionTime' log.icoFoam.$case"
      ]
    },
    {
      "cell_type": "markdown",
      "metadata": {
        "id": "HxxIMGR3ZES9"
      },
      "source": [
        "### 1ステップの実行時間\n",
        "\n",
        "2ステップ目と1ステップ目のExectutionTimeの時間差より1ステップの実行時間を算出します。\n",
        "\n"
      ]
    },
    {
      "cell_type": "code",
      "execution_count": null,
      "metadata": {
        "colab": {
          "base_uri": "https://localhost:8080/"
        },
        "id": "cw29kyCSBYie",
        "outputId": "44ed35ec-1e1c-43bf-9881-cf1049c9c43a"
      },
      "outputs": [
        {
          "output_type": "stream",
          "name": "stdout",
          "text": [
            "Execution time for one timestep :  12.4\n"
          ]
        }
      ],
      "source": [
        "!case=S-cpu;\\\n",
        "awk 'BEGIN {n=0} /ExecutionTime/ {t[n]=$3;n++} END {print \"Execution time for one timestep : \",t[1]-t[0]}' log.icoFoam.$case"
      ]
    },
    {
      "cell_type": "markdown",
      "metadata": {
        "id": "QlNBjneyG-xA"
      },
      "source": [
        "## CPUを用いたキャビティベンチマークケースMの実行(ケースM-cpu)\n",
        "ケースMは、立方体状のキャビティ流れの解析領域を200x200x200=8,000,0000(8M)の格子に分割したケースであり、ケースSの8倍の格子数になっています。\n"
      ]
    },
    {
      "cell_type": "markdown",
      "metadata": {
        "id": "wa9oIHnMCk93"
      },
      "source": [
        "### ケースディレクトリへの移動"
      ]
    },
    {
      "cell_type": "code",
      "execution_count": null,
      "metadata": {
        "colab": {
          "base_uri": "https://localhost:8080/"
        },
        "id": "8tpNl1d1HGk-",
        "outputId": "c99e0c40-8f7c-4a84-9754-d85ce60ec65e"
      },
      "outputs": [
        {
          "output_type": "stream",
          "name": "stdout",
          "text": [
            "/content/drive/MyDrive/hpc-training-gpu-2023/hpc/Lid_driven_cavity-3d/M\n"
          ]
        }
      ],
      "source": [
        "%cd /content/drive/MyDrive/hpc-training-gpu-2023/hpc/Lid_driven_cavity-3d/M"
      ]
    },
    {
      "cell_type": "markdown",
      "metadata": {
        "id": "ThYlZXb8HJIy"
      },
      "source": [
        "### ケースファイル修正\n",
        "ケースSと同様にケースファイルを修正します。"
      ]
    },
    {
      "cell_type": "code",
      "execution_count": null,
      "metadata": {
        "colab": {
          "base_uri": "https://localhost:8080/"
        },
        "id": "L_54x6NGHMK2",
        "outputId": "229261a2-4073-407a-db18-f9394b6c34dc"
      },
      "outputs": [
        {
          "output_type": "stream",
          "name": "stdout",
          "text": [
            "Updated 3 paths from the index\n"
          ]
        }
      ],
      "source": [
        "!case=M-cpu;\\\n",
        "git checkout system/controlDict system/fvSchemes constant/transportProperties;\\\n",
        "sed -i -e 's|^\\( *#includeFunc\\)|//\\1|' -e 's|\\(endTime \\).*|\\1 0.0005;|' system/controlDict;\\\n",
        "echo 'fluxRequired {default no;p;}' >> system/fvSchemes;\\\n",
        "sed -i s/'^\\(nu\\s*\\[\\)'/'nu \\1'/ constant/transportProperties;\\\n",
        "sed s/PBiCGStab/PBiCG/ system/fvSolution.fixedNORM > system/fvSolution.$case\n"
      ]
    },
    {
      "cell_type": "markdown",
      "metadata": {
        "id": "iqEpSFDBBn6l"
      },
      "source": [
        "変更したファイルの内容を確認します。"
      ]
    },
    {
      "cell_type": "code",
      "execution_count": null,
      "metadata": {
        "colab": {
          "base_uri": "https://localhost:8080/"
        },
        "id": "wzhmXJi9Bn6l",
        "outputId": "2468af05-6fa6-44c4-8623-1b61d9e533a6"
      },
      "outputs": [
        {
          "output_type": "stream",
          "name": "stdout",
          "text": [
            "==> constant/transportProperties <==\n",
            "/*--------------------------------*- C++ -*----------------------------------*\\\n",
            "| =========                 |                                                 |\n",
            "| \\\\      /  F ield         | OpenFOAM: The Open Source CFD Toolbox           |\n",
            "|  \\\\    /   O peration     | Version:  v2006                                 |\n",
            "|   \\\\  /    A nd           | Website:  www.openfoam.com                      |\n",
            "|    \\\\/     M anipulation  |                                                 |\n",
            "\\*---------------------------------------------------------------------------*/\n",
            "FoamFile\n",
            "{\n",
            "    version     2.0;\n",
            "    format      ascii;\n",
            "    class       dictionary;\n",
            "    location    \"constant\";\n",
            "    object      transportProperties;\n",
            "}\n",
            "// * * * * * * * * * * * * * * * * * * * * * * * * * * * * * * * * * * * * * //\n",
            "\n",
            "nu nu              [0 2 -1 0 0 0 0] 0.01;\n",
            "\n",
            "// ************************************************************************* //\n",
            "\n",
            "==> system/controlDict <==\n",
            "/*--------------------------------*- C++ -*----------------------------------*\\\n",
            "| =========                 |                                                 |\n",
            "| \\\\      /  F ield         | OpenFOAM: The Open Source CFD Toolbox           |\n",
            "|  \\\\    /   O peration     | Version:  v2006                                 |\n",
            "|   \\\\  /    A nd           | Website:  www.openfoam.com                      |\n",
            "|    \\\\/     M anipulation  |                                                 |\n",
            "\\*---------------------------------------------------------------------------*/\n",
            "FoamFile\n",
            "{\n",
            "    version     2.0;\n",
            "    format      ascii;\n",
            "    class       dictionary;\n",
            "    location    \"system\";\n",
            "    object      controlDict;\n",
            "}\n",
            "// * * * * * * * * * * * * * * * * * * * * * * * * * * * * * * * * * * * * * //\n",
            "\n",
            "//libs            (petscFoam);\n",
            "\n",
            "application     icoFoam;\n",
            "\n",
            "startFrom       startTime;\n",
            "\n",
            "startTime       0;\n",
            "\n",
            "stopAt          endTime;\n",
            "\n",
            "endTime  0.0005;\n",
            "\n",
            "deltaT          0.00025;\n",
            "\n",
            "writeControl    timeStep;\n",
            "\n",
            "writeInterval   10000;\n",
            "\n",
            "purgeWrite      0;\n",
            "\n",
            "writeFormat     ascii;\n",
            "\n",
            "writePrecision  6;\n",
            "\n",
            "writeCompression off;\n",
            "\n",
            "timeFormat      general;\n",
            "\n",
            "timePrecision   6;\n",
            "\n",
            "runTimeModifiable true;\n",
            "\n",
            "functions\n",
            "{\n",
            "//    #includeFunc  solverInfo\n",
            "    // #includeFunc  residuals\n",
            "}\n",
            "\n",
            "// ************************************************************************* //\n",
            "\n",
            "==> system/fvSchemes <==\n",
            "/*--------------------------------*- C++ -*----------------------------------*\\\n",
            "| =========                 |                                                 |\n",
            "| \\\\      /  F ield         | OpenFOAM: The Open Source CFD Toolbox           |\n",
            "|  \\\\    /   O peration     | Version:  v2006                                 |\n",
            "|   \\\\  /    A nd           | Website:  www.openfoam.com                      |\n",
            "|    \\\\/     M anipulation  |                                                 |\n",
            "\\*---------------------------------------------------------------------------*/\n",
            "FoamFile\n",
            "{\n",
            "    version     2.0;\n",
            "    format      ascii;\n",
            "    class       dictionary;\n",
            "    location    \"system\";\n",
            "    object      fvSchemes;\n",
            "}\n",
            "// * * * * * * * * * * * * * * * * * * * * * * * * * * * * * * * * * * * * * //\n",
            "\n",
            "ddtSchemes\n",
            "{\n",
            "    default         Euler;\n",
            "}\n",
            "\n",
            "gradSchemes\n",
            "{\n",
            "    default         Gauss linear;\n",
            "    grad(p)         Gauss linear;\n",
            "}\n",
            "\n",
            "divSchemes\n",
            "{\n",
            "    default         none;\n",
            "    div(phi,U)      Gauss linear;\n",
            "}\n",
            "\n",
            "laplacianSchemes\n",
            "{\n",
            "    default         Gauss linear orthogonal;\n",
            "}\n",
            "\n",
            "interpolationSchemes\n",
            "{\n",
            "    default         linear;\n",
            "}\n",
            "\n",
            "snGradSchemes\n",
            "{\n",
            "    default         orthogonal;\n",
            "}\n",
            "\n",
            "\n",
            "// ************************************************************************* //\n",
            "fluxRequired {default no;p;}\n",
            "\n",
            "==> system/fvSolution.M-cpu <==\n",
            "/*--------------------------------*- C++ -*----------------------------------*\\\n",
            "| =========                 |                                                 |\n",
            "| \\\\      /  F ield         | OpenFOAM: The Open Source CFD Toolbox           |\n",
            "|  \\\\    /   O peration     | Version:  v2006                                 |\n",
            "|   \\\\  /    A nd           | Website:  www.openfoam.com                      |\n",
            "|    \\\\/     M anipulation  |                                                 |\n",
            "\\*---------------------------------------------------------------------------*/\n",
            "FoamFile\n",
            "{\n",
            "    version     2.0;\n",
            "    format      ascii;\n",
            "    class       dictionary;\n",
            "    location    \"system\";\n",
            "    object      fvSolution;\n",
            "}\n",
            "// * * * * * * * * * * * * * * * * * * * * * * * * * * * * * * * * * * * * * //\n",
            "\n",
            "solvers\n",
            "{\n",
            "    p\n",
            "    {\n",
            "        solver          PCG;\n",
            "        preconditioner  DIC;\n",
            "        tolerance       1e-04;\n",
            "        relTol          0;\n",
            "        maxIter         3000;\n",
            "    }\n",
            "\n",
            "    pFinal\n",
            "    {\n",
            "        $p;\n",
            "        relTol          0;\n",
            "    }\n",
            "\n",
            "    U\n",
            "    {\n",
            "        solver          PBiCG;\n",
            "        preconditioner  DILU;\n",
            "        tolerance       0;\n",
            "        relTol          0;\n",
            "        maxIter         5;\n",
            "    }\n",
            "}\n",
            "\n",
            "PISO\n",
            "{\n",
            "    nCorrectors     2;\n",
            "    nNonOrthogonalCorrectors 0;\n",
            "    pRefCell        0;\n",
            "    pRefValue       0;\n",
            "}\n",
            "\n",
            "\n",
            "// ************************************************************************* //\n"
          ]
        }
      ],
      "source": [
        "!case=M-cpu;\\\n",
        "tail -n+1 constant/transportProperties system/{controlDict,fvSchemes,fvSolution.$case}"
      ]
    },
    {
      "cell_type": "markdown",
      "metadata": {
        "id": "ZaMq1YioHQe3"
      },
      "source": [
        "### 格子生成"
      ]
    },
    {
      "cell_type": "code",
      "execution_count": null,
      "metadata": {
        "colab": {
          "base_uri": "https://localhost:8080/"
        },
        "id": "lhRmTQUlHTBj",
        "outputId": "6c59c08d-ac68-4c6f-f90a-9e955b2686e8"
      },
      "outputs": [
        {
          "output_type": "stream",
          "name": "stdout",
          "text": [
            "/*---------------------------------------------------------------------------*\\\n",
            "| =========                 |                                                 |\n",
            "| \\\\      /  F ield         | OpenFOAM: The Open Source CFD Toolbox           |\n",
            "|  \\\\    /   O peration     | Version:  2306                                  |\n",
            "|   \\\\  /    A nd           | Website:  www.openfoam.com                      |\n",
            "|    \\\\/     M anipulation  |                                                 |\n",
            "\\*---------------------------------------------------------------------------*/\n",
            "Build  : _fbf00d6b-20230626 OPENFOAM=2306 version=2306\n",
            "Arch   : \"LSB;label=32;scalar=64\"\n",
            "Exec   : blockMesh\n",
            "Date   : Sep 08 2023\n",
            "Time   : 01:33:06\n",
            "Host   : 796c4ce57da3\n",
            "PID    : 64582\n",
            "I/O    : uncollated\n",
            "Case   : /content/drive/MyDrive/hpc-training-gpu-2023/hpc/Lid_driven_cavity-3d/M\n",
            "nProcs : 1\n",
            "trapFpe: Floating point exception trapping enabled (FOAM_SIGFPE).\n",
            "fileModificationChecking : Monitoring run-time modified files using timeStampMaster (fileModificationSkew 5, maxFileModificationPolls 20)\n",
            "allowSystemOperations : Allowing user-supplied system call operations\n",
            "\n",
            "// * * * * * * * * * * * * * * * * * * * * * * * * * * * * * * * * * * * * * //\n",
            "Create time\n",
            "\n",
            "Creating block mesh from \"system/blockMeshDict\"\n",
            "Creating block edges\n",
            "No non-planar block faces defined\n",
            "Creating topology blocks\n",
            "\n",
            "Creating topology patches - from boundary section\n",
            "\n",
            "Creating block mesh topology - scaling/transform applied later\n",
            "\n",
            "Check topology\n",
            "\n",
            "\tBasic statistics\n",
            "\t\tNumber of internal faces : 0\n",
            "\t\tNumber of boundary faces : 6\n",
            "\t\tNumber of defined boundary faces : 6\n",
            "\t\tNumber of undefined boundary faces : 0\n",
            "\tChecking patch -> block consistency\n",
            "\n",
            "Creating block offsets\n",
            "Creating merge list (topological search)...\n",
            "Deleting polyMesh directory \"constant/polyMesh\"\n",
            "\n",
            "Creating polyMesh from blockMesh\n",
            "Creating patches\n",
            "Creating cells\n",
            "Creating points with scale (0.1 0.1 0.1)\n",
            "    Block 0 cell size :\n",
            "        i : 0.0005 .. 0.0005\n",
            "        j : 0.0005 .. 0.0005\n",
            "        k : 0.0005 .. 0.0005\n",
            "\n",
            "No patch pairs to merge\n",
            "\n",
            "Writing polyMesh with 0 cellZones\n",
            "----------------\n",
            "Mesh Information\n",
            "----------------\n",
            "  boundingBox: (0 0 0) (0.1 0.1 0.1)\n",
            "  nPoints: 8120601\n",
            "  nCells: 8000000\n",
            "  nFaces: 24120000\n",
            "  nInternalFaces: 23880000\n",
            "----------------\n",
            "Patches\n",
            "----------------\n",
            "  patch 0 (start: 23880000 size: 40000) name: movingWall\n",
            "  patch 1 (start: 23920000 size: 200000) name: fixedWalls\n",
            "\n",
            "End\n",
            "\n",
            "\n",
            "real\t1m20.682s\n",
            "user\t0m47.578s\n",
            "sys\t0m11.089s\n"
          ]
        }
      ],
      "source": [
        "!case=M-cpu;\\\n",
        "source /usr/lib/openfoam/openfoam2306/etc/bashrc;time blockMesh 2>&1 | tee log.blockMesh.$case"
      ]
    },
    {
      "cell_type": "markdown",
      "metadata": {
        "id": "6EKrBm5MKGXZ"
      },
      "source": [
        "格子数はnCellsに示す通り、8000000(200x200x200, 8M)です"
      ]
    },
    {
      "cell_type": "markdown",
      "metadata": {
        "id": "wbuk6HZrHcbM"
      },
      "source": [
        "### CPUでのOpenFOAM v2306版ソルバ実行\n",
        "\n",
        "格子数が大きく、CPU1コアでの実行なので、**完了までには十数分間かかります(割当てられているCPUによって時間は異なります)**。\n",
        "\n",
        "なお、「メニュー→ランタイムリソース→リソース」により、システムRAMの容量や使用量がモニターできますが、本ケースでは、システムRAMの12.7GBのうち7GB以上を使用していますので、格子数が本ケースの8倍であるケースXLはメモリ不足で解析できないことがわかります。"
      ]
    },
    {
      "cell_type": "code",
      "execution_count": null,
      "metadata": {
        "colab": {
          "base_uri": "https://localhost:8080/"
        },
        "id": "LlZEJMPsHx8T",
        "outputId": "3a7036eb-df12-465f-efe6-5777bb15b44b"
      },
      "outputs": [
        {
          "output_type": "stream",
          "name": "stdout",
          "text": [
            "/*---------------------------------------------------------------------------*\\\n",
            "| =========                 |                                                 |\n",
            "| \\\\      /  F ield         | OpenFOAM: The Open Source CFD Toolbox           |\n",
            "|  \\\\    /   O peration     | Version:  2306                                  |\n",
            "|   \\\\  /    A nd           | Website:  www.openfoam.com                      |\n",
            "|    \\\\/     M anipulation  |                                                 |\n",
            "\\*---------------------------------------------------------------------------*/\n",
            "Build  : _fbf00d6b-20230626 OPENFOAM=2306 version=2306\n",
            "Arch   : \"LSB;label=32;scalar=64\"\n",
            "Exec   : icoFoam\n",
            "Date   : Sep 08 2023\n",
            "Time   : 01:34:27\n",
            "Host   : 796c4ce57da3\n",
            "PID    : 65190\n",
            "I/O    : uncollated\n",
            "Case   : /content/drive/MyDrive/hpc-training-gpu-2023/hpc/Lid_driven_cavity-3d/M\n",
            "nProcs : 1\n",
            "trapFpe: Floating point exception trapping enabled (FOAM_SIGFPE).\n",
            "fileModificationChecking : Monitoring run-time modified files using timeStampMaster (fileModificationSkew 5, maxFileModificationPolls 20)\n",
            "allowSystemOperations : Allowing user-supplied system call operations\n",
            "\n",
            "// * * * * * * * * * * * * * * * * * * * * * * * * * * * * * * * * * * * * * //\n",
            "Create time\n",
            "\n",
            "Create mesh for time = 0\n",
            "\n",
            "\n",
            "PISO: Operating solver in PISO mode\n",
            "\n",
            "Reading transportProperties\n",
            "\n",
            "Reading field p\n",
            "\n",
            "Reading field U\n",
            "\n",
            "Reading/calculating face flux field phi\n",
            "\n",
            "\n",
            "Starting time loop\n",
            "\n",
            "Time = 0.00025\n",
            "\n",
            "Courant Number mean: 0 max: 0\n",
            "DILUPBiCG:  Solving for Ux, Initial residual = 1, Final residual = 0.0417567, No Iterations 5\n",
            "DILUPBiCG:  Solving for Uy:  solution singularity\n",
            "DILUPBiCG:  Solving for Uz:  solution singularity\n",
            "DICPCG:  Solving for p, Initial residual = 1, Final residual = 9.47687e-05, No Iterations 515\n",
            "time step continuity errors : sum local = 6.58509e-09, global = 4.95551e-21, cumulative = 4.95551e-21\n",
            "DICPCG:  Solving for p, Initial residual = 0.775619, Final residual = 9.2998e-05, No Iterations 512\n",
            "time step continuity errors : sum local = 8.22528e-09, global = -6.43716e-22, cumulative = 4.3118e-21\n",
            "ExecutionTime = 242.05 s  ClockTime = 247 s\n",
            "\n",
            "Time = 0.0005\n",
            "\n",
            "Courant Number mean: 0.0157252 max: 0.412436\n",
            "DILUPBiCG:  Solving for Ux, Initial residual = 0.12903, Final residual = 0.013378, No Iterations 5\n",
            "DILUPBiCG:  Solving for Uy, Initial residual = 0.429105, Final residual = 0.0377917, No Iterations 5\n",
            "DILUPBiCG:  Solving for Uz, Initial residual = 0.994951, Final residual = 0.080759, No Iterations 5\n",
            "DICPCG:  Solving for p, Initial residual = 0.823511, Final residual = 9.76608e-05, No Iterations 504\n",
            "time step continuity errors : sum local = 1.42449e-08, global = -2.67261e-22, cumulative = 4.04453e-21\n",
            "DICPCG:  Solving for p, Initial residual = 0.769605, Final residual = 9.24673e-05, No Iterations 503\n",
            "time step continuity errors : sum local = 1.36992e-08, global = 4.26108e-23, cumulative = 4.08714e-21\n",
            "ExecutionTime = 445.27 s  ClockTime = 452 s\n",
            "\n",
            "End\n",
            "\n",
            "\n",
            "real\t7m33.295s\n",
            "user\t7m16.421s\n",
            "sys\t0m9.642s\n"
          ]
        }
      ],
      "source": [
        "!case=M-cpu;\\\n",
        "cp system/fvSolution.$case system/fvSolution;\\\n",
        "source /usr/lib/openfoam/openfoam2306/etc/bashrc;\\\n",
        "time icoFoam 2>&1 | tee log.icoFoam.$case"
      ]
    },
    {
      "cell_type": "markdown",
      "metadata": {
        "id": "SI733MUNZI0h"
      },
      "source": [
        "### 毎ステップの実行時間"
      ]
    },
    {
      "cell_type": "code",
      "execution_count": null,
      "metadata": {
        "colab": {
          "base_uri": "https://localhost:8080/"
        },
        "id": "n15XFJszIeyI",
        "outputId": "0d414575-b248-48d5-b559-f5dfedb187f2"
      },
      "outputs": [
        {
          "output_type": "stream",
          "name": "stdout",
          "text": [
            "grep: log.icoFoam.M-cpu: No such file or directory\n"
          ]
        }
      ],
      "source": [
        "!case=M-cpu;\\\n",
        "grep '^ExecutionTime' log.icoFoam.$case"
      ]
    },
    {
      "cell_type": "markdown",
      "metadata": {
        "id": "aswuWjLwZGm5"
      },
      "source": [
        "### 1ステップの実行時間"
      ]
    },
    {
      "cell_type": "code",
      "execution_count": null,
      "metadata": {
        "colab": {
          "base_uri": "https://localhost:8080/"
        },
        "id": "leNquEQrIm7b",
        "outputId": "885182cc-9e95-4a1d-96cf-afbdf1109031"
      },
      "outputs": [
        {
          "output_type": "stream",
          "name": "stdout",
          "text": [
            "Execution time for one timestep :  203.22\n"
          ]
        }
      ],
      "source": [
        "!case=M-cpu;\\\n",
        "awk 'BEGIN {n=0} /ExecutionTime/ {t[n]=$3;n++} END {print \"Execution time for one timestep : \",t[1]-t[0]}' log.icoFoam.$case"
      ]
    },
    {
      "cell_type": "markdown",
      "metadata": {
        "id": "Qe5ZfUo2cayQ"
      },
      "source": [
        "## NVIDIAのGPU上で線形ソルバを実行できるPETScライブラリおよびexternal-solverモジュールのビルド\n",
        "数値計算ライブラリPETSc、および、それをOpenFOAMで用いるためのexternal-solverモジュールを用いることで、標準のOpenFOAMであっても、PETScを通じて線形ソルバをGPU上で実行することが可能となります。\n",
        "\n",
        "* PETSc https://petsc.org/\n",
        "* external-solver https://develop.openfoam.com/modules/external-solver\n",
        "\n",
        "ただし、Ubutu用パッケージにはexternal-solver等のモジュールが含まれていないので、external-solverモジュールを別途コンパイルする必要があります。\n",
        "\n",
        "モジュール等をソースからコンパイルするには、openfoam2306といった最小限のパッケージだけでなく、 ソースコードやwmakeといったコンパイル設定が含まれたopenfoam2306-sourceパッケージ、および、ビルドツールが含まれたopenfoam2306-toolsパッケージをインストールします。\n",
        "\n",
        "* precompiled packages - Sub-packages https://develop.openfoam.com/Development/openfoam/-/wikis/precompiled#sub-packages\n",
        "\n",
        "なお、開発環境が全て含まれたopenfoam2306-devパッケージ、もしくは、チュートリアルなど全てを含んだopenfoam2306-defaultパッケージをインストールしても、PETScやexternal-solverモジュールはコンパイル可能ですが、これらのパッケージは容量が大きいのでインストールに時間がかかります。\n"
      ]
    },
    {
      "cell_type": "markdown",
      "metadata": {
        "id": "7IR2CPwRfSZr"
      },
      "source": [
        "### OpenFOAMのソースコード・ビルドツールのインストール"
      ]
    },
    {
      "cell_type": "code",
      "execution_count": null,
      "metadata": {
        "colab": {
          "base_uri": "https://localhost:8080/"
        },
        "id": "ASzx_E2ncayQ",
        "outputId": "ec28f4d7-651d-440f-f5aa-89e42a3d6043"
      },
      "outputs": [
        {
          "output_type": "stream",
          "name": "stdout",
          "text": [
            "Reading package lists... Done\n",
            "Building dependency tree... Done\n",
            "Reading state information... Done\n",
            "openfoam2306-source is already the newest version (2306.0-1).\n",
            "openfoam2306-tools is already the newest version (2306.0-1).\n",
            "0 upgraded, 0 newly installed, 0 to remove and 16 not upgraded.\n"
          ]
        }
      ],
      "source": [
        "!apt-get install openfoam2306-source openfoam2306-tools"
      ]
    },
    {
      "cell_type": "markdown",
      "metadata": {
        "id": "1gqGtaTGcayR"
      },
      "source": [
        "### PETScライブラリのビルド\n",
        "\n",
        "数値計算ライブラリPETScには、OpenFOAM同様にUbutu向けパッケージpetsc-devもありますが、これはNVIDIAのGPU上で線形ソルバを実行できるようにビルドされていないので、ここではThirdPartyパッケージに含まれる`makePETSC`コマンドを用いて、ソースコードからビルドします。\n",
        "\n",
        "* PETSc https://petsc.org/"
      ]
    },
    {
      "cell_type": "markdown",
      "metadata": {
        "id": "MDCjmGeJcayR"
      },
      "source": [
        "OpenFOAMのトップディレクトリに移動します。"
      ]
    },
    {
      "cell_type": "code",
      "execution_count": null,
      "metadata": {
        "colab": {
          "base_uri": "https://localhost:8080/"
        },
        "id": "V_h_2wMBcayR",
        "outputId": "b7253cf3-9659-4d85-ce05-2599c77fa167"
      },
      "outputs": [
        {
          "output_type": "stream",
          "name": "stdout",
          "text": [
            "/usr/lib/openfoam/openfoam2306\n"
          ]
        }
      ],
      "source": [
        "%cd /usr/lib/openfoam/openfoam2306"
      ]
    },
    {
      "cell_type": "markdown",
      "metadata": {
        "id": "YdDJurKqcayR"
      },
      "source": [
        "ThirdParty-commonレポジトリをクローンします。"
      ]
    },
    {
      "cell_type": "code",
      "execution_count": null,
      "metadata": {
        "colab": {
          "base_uri": "https://localhost:8080/"
        },
        "id": "TkPBJ1sScayS",
        "outputId": "3fb09af1-5c01-4f46-e782-a415f0d6f422"
      },
      "outputs": [
        {
          "output_type": "stream",
          "name": "stdout",
          "text": [
            "Cloning into 'ThirdParty-common'...\n",
            "remote: Enumerating objects: 1782, done.\u001b[K\n",
            "remote: Counting objects: 100% (22/22), done.\u001b[K\n",
            "remote: Compressing objects: 100% (12/12), done.\u001b[K\n",
            "remote: Total 1782 (delta 10), reused 22 (delta 10), pack-reused 1760\u001b[K\n",
            "Receiving objects: 100% (1782/1782), 578.38 KiB | 1.25 MiB/s, done.\n",
            "Resolving deltas: 100% (1274/1274), done.\n"
          ]
        }
      ],
      "source": [
        "!git clone https://develop.openfoam.com/Development/ThirdParty-common.git"
      ]
    },
    {
      "cell_type": "markdown",
      "metadata": {
        "id": "Rr-BBIR-cayS"
      },
      "source": [
        "UbuntuのパッケージではダミーのファイルとなっているThirdPartyを消去します。"
      ]
    },
    {
      "cell_type": "code",
      "execution_count": null,
      "metadata": {
        "id": "whRfZVC5cayS"
      },
      "outputs": [],
      "source": [
        "!rm ThirdParty"
      ]
    },
    {
      "cell_type": "markdown",
      "metadata": {
        "id": "YUl0Y1FgcayS"
      },
      "source": [
        "Ubutuのopenfoam2306パッケージでは、ThirdPartyのディレクトリが/usr/lib/openfoam/openfoam2306/ThirdPartyと設定されているので、 ThirdParty-commonディレクトリをThirdPartyに変更します。"
      ]
    },
    {
      "cell_type": "code",
      "execution_count": null,
      "metadata": {
        "id": "X9yR2zV0cayS"
      },
      "outputs": [],
      "source": [
        "!mv ThirdParty-common ThirdParty/"
      ]
    },
    {
      "cell_type": "markdown",
      "metadata": {
        "id": "wId8kkFucayS"
      },
      "source": [
        "ThirdPartyディレクトリに移動します。"
      ]
    },
    {
      "cell_type": "code",
      "execution_count": null,
      "metadata": {
        "colab": {
          "base_uri": "https://localhost:8080/"
        },
        "id": "Sb_qcQ-lcayS",
        "outputId": "628889d2-6624-4e91-f3b5-ba5629bcf77d"
      },
      "outputs": [
        {
          "output_type": "stream",
          "name": "stdout",
          "text": [
            "/usr/lib/openfoam/openfoam2306/ThirdParty\n"
          ]
        }
      ],
      "source": [
        "%cd ThirdParty/"
      ]
    },
    {
      "cell_type": "markdown",
      "metadata": {
        "id": "tXpDyOWNcayS"
      },
      "source": [
        "PETScのソースコードのアーカイブ・ファイルをダウンロードして、soucesディレクトリ下に展開します。"
      ]
    },
    {
      "cell_type": "code",
      "execution_count": null,
      "metadata": {
        "colab": {
          "base_uri": "https://localhost:8080/"
        },
        "id": "bUdebuxJcayT",
        "outputId": "8977529c-1a46-44c4-fe77-a2df641aef9e"
      },
      "outputs": [
        {
          "output_type": "stream",
          "name": "stdout",
          "text": [
            "--2023-09-08 01:42:05--  https://ftp.mcs.anl.gov/pub/petsc/release-snapshots/petsc-lite-3.19.2.tar.gz\n",
            "Resolving ftp.mcs.anl.gov (ftp.mcs.anl.gov)... 140.221.6.23\n",
            "Connecting to ftp.mcs.anl.gov (ftp.mcs.anl.gov)|140.221.6.23|:443... connected.\n",
            "HTTP request sent, awaiting response... 200 OK\n",
            "Length: 16627765 (16M) [text/plain]\n",
            "Saving to: ‘STDOUT’\n",
            "\n",
            "-                   100%[===================>]  15.86M  12.6MB/s    in 1.3s    \n",
            "\n",
            "2023-09-08 01:42:07 (12.6 MB/s) - written to stdout [16627765/16627765]\n",
            "\n"
          ]
        }
      ],
      "source": [
        "!mkdir sources;\\\n",
        "wget -O - https://ftp.mcs.anl.gov/pub/petsc/release-snapshots/petsc-lite-3.19.2.tar.gz | tar zx -C sources"
      ]
    },
    {
      "cell_type": "markdown",
      "metadata": {
        "id": "CTQfWQXXcayT"
      },
      "source": [
        "PETScライブラリをCUDA有効の設定でビルドしますが、**本ビルドには十数分間かかります(割当てられているCPUによって時間は異なります)**。\n",
        "\n",
        "なお、3次元キャビティベンチマークのケースSやMにおいて、圧力に関する線形ソルバの前処理はDIC(Diagonal-based Incomplete Cholesky)分解法であり、AMG(Algebraic Multigrid)法を用いておりません。\n",
        "\n",
        "また、今回は演習時間の関係で、Multigrid Methodsを含むHYPREライブラリやKokkosライブラリのビルドは行わないので、PETScもHYPER無効でビルドを行なっています。\n",
        "\n",
        "* HYPRE: Scalable Linear Solvers and Multigrid Methods https://computing.llnl.gov/projects/hypre-scalable-linear-solvers-multigrid-methods\n",
        "* PCHYPER https://petsc.org/main/manualpages/PC/PCHYPRE/\n",
        "* Hypre / BoomerAMG https://mooseframework.inl.gov/releases/moose/2021-05-18/application_development/hypre.html\n",
        "* Kokkos https://github.com/kokkos/kokkos\n",
        "\n",
        "HYPREやKokkosを有効にする場合には、以下のサイトなどを参照してください。\n",
        "\n",
        "* OpenFOAM v2206 を Ubuntu 20.04 LTS にインストールメモ https://ss1.xrea.com/penguinitis.g1.xrea.com/study/OpenFOAM/install_memo/OpenFOAM_v2206-Ubuntu20_04_LTS_PETSc.html\n",
        "\n",
        "ちなみに、`WM_NCOMPPROCS=2`を設定して2並列ビルドの設定をしているのにもかかわらず、 ビルドログの途中で\n",
        " `gmake[3]: warning: jobserver unavailable: using -j1.  Add '+' to parent make rule.`といったワーニングが出力されていますが、PETSc-3.19.5といったより新しいバージョンでは出現しません。\n",
        "\n",
        "PETScのバージョンを変更するには、 /usr/lib/openfoam/openfoam2306/etc/config.sh/petsc における `petsc_version` を変更すれば良いのですが、ここではデフォルトのままにしておきます。"
      ]
    },
    {
      "cell_type": "code",
      "execution_count": null,
      "metadata": {
        "colab": {
          "base_uri": "https://localhost:8080/"
        },
        "id": "R1MLaBJucayT",
        "outputId": "094269b0-897b-43c1-d1ec-d775bc0d6f55"
      },
      "outputs": [
        {
          "output_type": "stream",
          "name": "stdout",
          "text": [
            "Found sources: sources/petsc-3.19.2\n",
            "Starting build: petsc-3.19.2 (libso)\n",
            "\n",
            "\n",
            "+ ./configure --prefix=/usr/lib/openfoam/openfoam2306/ThirdParty/platforms/linux64GccDPInt32/petsc-3.19.2 --PETSC_DIR=/usr/lib/openfoam/openfoam2306/ThirdParty/sources/petsc-3.19.2 --with-petsc-arch=DPInt32 --with-clanguage=C --with-fc=0 --with-x=0 --with-cc=/usr/bin/mpicc --with-cxx=/usr/bin/mpicxx --with-debugging=0 --COPTFLAGS=-O3 --CXXOPTFLAGS=-O3 --with-shared-libraries --with-64-bit-indices=0 --with-precision=double --with-hypre=0 --with-cuda\n",
            "+++++++++++++++++++++++++++++++++++++++++++++++++++++++++++++++++++++++++++++++++++++++++++\n",
            "The version of PETSc you are using is out-of-date, we recommend updating to the new release\n",
            " Available Version: 3.19.5   Installed Version: 3.19.2\n",
            "https://petsc.org/release/download/\n",
            "+++++++++++++++++++++++++++++++++++++++++++++++++++++++++++++++++++++++++++++++++++++++++++\n",
            "=============================================================================================\n",
            "                         Configuring PETSc to compile on your system\n",
            "=============================================================================================\n",
            "TESTING: configureExternalPackagesDir from config.framework(config/BuildSystem/config/framework.py:1070)\n",
            "TESTING: configureDebuggers from config.utilities.debuggers(config/BuildSystem/config/utilities/debuggers.py:20)\n",
            "TESTING: configureDirectories from PETSc.options.petscdir(config/PETSc/options/petscdir.py:22)\n",
            "TESTING: getDatafilespath from PETSc.options.dataFilesPath(config/PETSc/options/dataFilesPath.py:29)\n",
            "TESTING: configureGit from config.sourceControl(config/BuildSystem/config/sourceControl.py:24)\n",
            "TESTING: configureMercurial from config.sourceControl(config/BuildSystem/config/sourceControl.py:35)\n",
            "TESTING: configureInstallationMethod from PETSc.options.petscclone(config/PETSc/options/petscclone.py:20)\n",
            "TESTING: setNativeArchitecture from PETSc.options.arch(config/PETSc/options/arch.py:29)\n",
            "TESTING: configureArchitecture from PETSc.options.arch(config/PETSc/options/arch.py:42)\n",
            "TESTING: setInstallDir from PETSc.options.installDir(config/PETSc/options/installDir.py:31)\n",
            "TESTING: saveReconfigure from PETSc.options.installDir(config/PETSc/options/installDir.py:76)\n",
            "TESTING: cleanConfDir from PETSc.options.installDir(config/PETSc/options/installDir.py:68)\n",
            "TESTING: configureInstallDir from PETSc.options.installDir(config/PETSc/options/installDir.py:52)\n",
            "TESTING: restoreReconfigure from PETSc.options.installDir(config/PETSc/options/installDir.py:90)\n",
            "TESTING: setExternalPackagesDir from PETSc.options.externalpackagesdir(config/PETSc/options/externalpackagesdir.py:15)\n",
            "TESTING: cleanExternalpackagesDir from PETSc.options.externalpackagesdir(config/PETSc/options/externalpackagesdir.py:23)\n",
            "TESTING: configureCLanguage from PETSc.options.languages(config/PETSc/options/languages.py:28)\n",
            "TESTING: resetEnvCompilers from config.setCompilers(config/BuildSystem/config/setCompilers.py:2694)\n",
            "TESTING: checkEnvCompilers from config.setCompilers(config/BuildSystem/config/setCompilers.py:2711)\n",
            "TESTING: checkMPICompilerOverride from config.setCompilers(config/BuildSystem/config/setCompilers.py:2664)\n",
            "TESTING: requireMpiLdPath from config.setCompilers(config/BuildSystem/config/setCompilers.py:2685)\n",
            "TESTING: checkInitialFlags from config.setCompilers(config/BuildSystem/config/setCompilers.py:723)\n",
            "TESTING: checkCCompiler from config.setCompilers(config/BuildSystem/config/setCompilers.py:1417)\n",
            "TESTING: checkCPreprocessor from config.setCompilers(config/BuildSystem/config/setCompilers.py:1460)\n",
            "TESTING: checkCxxCompiler from config.setCompilers(config/BuildSystem/config/setCompilers.py:1742)\n",
            "TESTING: checkDeviceHostCompiler from config.setCompilers(config/BuildSystem/config/setCompilers.py:749)\n",
            "TESTING: checkCxxDialect from config.setCompilers(config/BuildSystem/config/setCompilers.py:771)\n",
            "TESTING: checkCxxPreprocessor from config.setCompilers(config/BuildSystem/config/setCompilers.py:1778)\n",
            "TESTING: checkCUDACompiler from config.setCompilers(config/BuildSystem/config/setCompilers.py:1497)\n",
            "TESTING: checkDeviceHostCompiler from config.setCompilers(config/BuildSystem/config/setCompilers.py:749)\n",
            "TESTING: checkCxxDialect from config.setCompilers(config/BuildSystem/config/setCompilers.py:771)\n",
            "TESTING: checkCUDAPreprocessor from config.setCompilers(config/BuildSystem/config/setCompilers.py:1525)\n",
            "TESTING: checkHIPCompiler from config.setCompilers(config/BuildSystem/config/setCompilers.py:1559)\n",
            "TESTING: checkDeviceHostCompiler from config.setCompilers(config/BuildSystem/config/setCompilers.py:749)\n",
            "TESTING: checkSYCLCompiler from config.setCompilers(config/BuildSystem/config/setCompilers.py:1618)\n",
            "TESTING: checkDeviceHostCompiler from config.setCompilers(config/BuildSystem/config/setCompilers.py:749)\n",
            "TESTING: checkFortranCompiler from config.setCompilers(config/BuildSystem/config/setCompilers.py:1871)\n",
            "TESTING: checkLargeFileIO from config.setCompilers(config/BuildSystem/config/setCompilers.py:2098)\n",
            "TESTING: checkArchiver from config.setCompilers(config/BuildSystem/config/setCompilers.py:2191)\n",
            "TESTING: checkArchiverRecipeArgfile from config.setCompilers(config/BuildSystem/config/setCompilers.py:2263)\n",
            "TESTING: checkSharedLinker from config.setCompilers(config/BuildSystem/config/setCompilers.py:2345)\n",
            "TESTING: checkPIC from config.setCompilers(config/BuildSystem/config/setCompilers.py:2048)\n",
            "TESTING: checkSharedLinkerPaths from config.setCompilers(config/BuildSystem/config/setCompilers.py:2459)\n",
            "TESTING: checkLibC from config.setCompilers(config/BuildSystem/config/setCompilers.py:2498)\n",
            "TESTING: checkDynamicLinker from config.setCompilers(config/BuildSystem/config/setCompilers.py:2544)\n",
            "TESTING: checkPragma from config.setCompilers(config/BuildSystem/config/setCompilers.py:2006)\n",
            "TESTING: checkAtFileOption from config.setCompilers(config/BuildSystem/config/setCompilers.py:2736)\n",
            "TESTING: output from config.setCompilers(config/BuildSystem/config/setCompilers.py:2593)\n",
            "TESTING: configureIndexSize from PETSc.options.indexTypes(config/PETSc/options/indexTypes.py:38)\n",
            "TESTING: configureCompilerFlags from config.compilerFlags(config/BuildSystem/config/compilerFlags.py:82)\n",
            "=============================================================================================\n",
            "                                     ***** WARNING *****\n",
            "  Using default optimization CUDA flags \"-O3\". You might consider manually setting optimal\n",
            "  optimization flags for your system with CUDAOPTFLAGS=\"optimization flags\" see\n",
            "  config/examples/arch-*-opt.py for examples\n",
            "=============================================================================================\n",
            "TESTING: checkIntelHardwareSupport from config.compilerFlags(config/BuildSystem/config/compilerFlags.py:168)\n",
            "TESTING: checkCompilerMacros from config.compilerFlags(config/BuildSystem/config/compilerFlags.py:159)\n",
            "TESTING: checkC99Flag from config.compilers(config/BuildSystem/config/compilers.py:1385)\n",
            "TESTING: checkCFormatting from config.compilers(config/BuildSystem/config/compilers.py:364)\n",
            "TESTING: checkDynamicLoadFlag from config.compilers(config/BuildSystem/config/compilers.py:375)\n",
            "TESTING: checkStdAtomic from config.compilers(config/BuildSystem/config/compilers.py:1418)\n",
            "TESTING: checkCLibraries from config.compilers(config/BuildSystem/config/compilers.py:167)\n",
            "TESTING: checkDependencyGenerationFlag from config.compilers(config/BuildSystem/config/compilers.py:1336)\n",
            "TESTING: checkCxxRestrict from config.compilers(config/BuildSystem/config/compilers.py:122)\n",
            "TESTING: checkCxxOptionalExtensions from config.compilers(config/BuildSystem/config/compilers.py:394)\n",
            "TESTING: checkCxxComplexFix from config.compilers(config/BuildSystem/config/compilers.py:421)\n",
            "TESTING: checkStdAtomic from config.compilers(config/BuildSystem/config/compilers.py:1418)\n",
            "TESTING: checkCxxLibraries from config.compilers(config/BuildSystem/config/compilers.py:450)\n",
            "TESTING: setupFrameworkCompilers from config.compilers(config/BuildSystem/config/compilers.py:1480)\n",
            "TESTING: checkStdC from config.headers(config/BuildSystem/config/headers.py:107)\n",
            "TESTING: checkSysWait from config.headers(config/BuildSystem/config/headers.py:141)\n",
            "TESTING: checkTime from config.headers(config/BuildSystem/config/headers.py:163)\n",
            "TESTING: checkMath from config.headers(config/BuildSystem/config/headers.py:169)\n",
            "TESTING: check from config.headers(config/BuildSystem/config/headers.py:77)\n",
            "TESTING: check from config.headers(config/BuildSystem/config/headers.py:77)\n",
            "TESTING: check from config.headers(config/BuildSystem/config/headers.py:77)\n",
            "TESTING: check from config.headers(config/BuildSystem/config/headers.py:77)\n",
            "TESTING: check from config.headers(config/BuildSystem/config/headers.py:77)\n",
            "TESTING: check from config.headers(config/BuildSystem/config/headers.py:77)\n",
            "TESTING: check from config.headers(config/BuildSystem/config/headers.py:77)\n",
            "TESTING: check from config.headers(config/BuildSystem/config/headers.py:77)\n",
            "TESTING: check from config.headers(config/BuildSystem/config/headers.py:77)\n",
            "TESTING: check from config.headers(config/BuildSystem/config/headers.py:77)\n",
            "TESTING: check from config.headers(config/BuildSystem/config/headers.py:77)\n",
            "TESTING: check from config.headers(config/BuildSystem/config/headers.py:77)\n",
            "TESTING: check from config.headers(config/BuildSystem/config/headers.py:77)\n",
            "TESTING: check from config.headers(config/BuildSystem/config/headers.py:77)\n",
            "TESTING: check from config.headers(config/BuildSystem/config/headers.py:77)\n",
            "TESTING: check from config.headers(config/BuildSystem/config/headers.py:77)\n",
            "TESTING: check from config.headers(config/BuildSystem/config/headers.py:77)\n",
            "TESTING: check from config.headers(config/BuildSystem/config/headers.py:77)\n",
            "TESTING: check from config.headers(config/BuildSystem/config/headers.py:77)\n",
            "TESTING: check from config.headers(config/BuildSystem/config/headers.py:77)\n",
            "TESTING: check from config.headers(config/BuildSystem/config/headers.py:77)\n",
            "TESTING: check from config.headers(config/BuildSystem/config/headers.py:77)\n",
            "TESTING: check from config.headers(config/BuildSystem/config/headers.py:77)\n",
            "TESTING: check from config.headers(config/BuildSystem/config/headers.py:77)\n",
            "TESTING: check from config.headers(config/BuildSystem/config/headers.py:77)\n",
            "TESTING: check from config.headers(config/BuildSystem/config/headers.py:77)\n",
            "TESTING: check from config.headers(config/BuildSystem/config/headers.py:77)\n",
            "TESTING: check from config.headers(config/BuildSystem/config/headers.py:77)\n",
            "TESTING: check from config.headers(config/BuildSystem/config/headers.py:77)\n",
            "TESTING: check from config.headers(config/BuildSystem/config/headers.py:77)\n",
            "TESTING: check from config.headers(config/BuildSystem/config/headers.py:77)\n",
            "TESTING: check from config.headers(config/BuildSystem/config/headers.py:77)\n",
            "TESTING: check from config.headers(config/BuildSystem/config/headers.py:77)\n",
            "TESTING: check from config.headers(config/BuildSystem/config/headers.py:77)\n",
            "TESTING: check from config.headers(config/BuildSystem/config/headers.py:77)\n",
            "TESTING: check from config.headers(config/BuildSystem/config/headers.py:77)\n",
            "TESTING: check from config.headers(config/BuildSystem/config/headers.py:77)\n",
            "TESTING: check from config.headers(config/BuildSystem/config/headers.py:77)\n",
            "TESTING: check from config.headers(config/BuildSystem/config/headers.py:77)\n",
            "TESTING: check from config.headers(config/BuildSystem/config/headers.py:77)\n",
            "TESTING: check from config.headers(config/BuildSystem/config/headers.py:77)\n",
            "TESTING: check from config.headers(config/BuildSystem/config/headers.py:77)\n",
            "TESTING: check from config.headers(config/BuildSystem/config/headers.py:77)\n",
            "TESTING: check from config.headers(config/BuildSystem/config/headers.py:77)\n",
            "TESTING: check from config.headers(config/BuildSystem/config/headers.py:77)\n",
            "TESTING: check from config.headers(config/BuildSystem/config/headers.py:77)\n",
            "TESTING: check from config.headers(config/BuildSystem/config/headers.py:77)\n",
            "TESTING: check from config.headers(config/BuildSystem/config/headers.py:77)\n",
            "TESTING: check from config.headers(config/BuildSystem/config/headers.py:77)\n",
            "TESTING: check from config.headers(config/BuildSystem/config/headers.py:77)\n",
            "TESTING: check from config.headers(config/BuildSystem/config/headers.py:77)\n",
            "TESTING: check from config.headers(config/BuildSystem/config/headers.py:77)\n",
            "TESTING: check from config.headers(config/BuildSystem/config/headers.py:77)\n",
            "TESTING: check from config.headers(config/BuildSystem/config/headers.py:77)\n",
            "TESTING: check from config.headers(config/BuildSystem/config/headers.py:77)\n",
            "TESTING: check from config.headers(config/BuildSystem/config/headers.py:77)\n",
            "TESTING: check from config.headers(config/BuildSystem/config/headers.py:77)\n",
            "TESTING: check from config.headers(config/BuildSystem/config/headers.py:77)\n",
            "TESTING: check from config.headers(config/BuildSystem/config/headers.py:77)\n",
            "TESTING: check from config.headers(config/BuildSystem/config/headers.py:77)\n",
            "TESTING: checkRecursiveMacros from config.headers(config/BuildSystem/config/headers.py:184)\n",
            "TESTING: configureL1CacheLineSize from config.utilities.cacheDetails(config/BuildSystem/config/utilities/cacheDetails.py:127)\n",
            "TESTING: check_struct_sigaction from config.types(config/BuildSystem/config/types.py:42)\n",
            "TESTING: check__int64 from config.types(config/BuildSystem/config/types.py:48)\n",
            "TESTING: checkSizeTypes from config.types(config/BuildSystem/config/types.py:54)\n",
            "TESTING: checkFileTypes from config.types(config/BuildSystem/config/types.py:64)\n",
            "TESTING: checkIntegerTypes from config.types(config/BuildSystem/config/types.py:59)\n",
            "TESTING: checkPID from config.types(config/BuildSystem/config/types.py:70)\n",
            "TESTING: checkC99Complex from config.types(config/BuildSystem/config/types.py:74)\n",
            "TESTING: checkCxxComplex from config.types(config/BuildSystem/config/types.py:88)\n",
            "TESTING: checkSizeof from config.types(config/BuildSystem/config/types.py:99)\n",
            "TESTING: checkSizeof from config.types(config/BuildSystem/config/types.py:99)\n",
            "TESTING: checkSizeof from config.types(config/BuildSystem/config/types.py:99)\n",
            "TESTING: checkSizeof from config.types(config/BuildSystem/config/types.py:99)\n",
            "TESTING: checkSizeof from config.types(config/BuildSystem/config/types.py:99)\n",
            "TESTING: checkVisibility from config.types(config/BuildSystem/config/types.py:133)\n",
            "TESTING: checkMaxPathLen from config.types(config/BuildSystem/config/types.py:155)\n",
            "TESTING: configureMemAlign from PETSc.options.memAlign(config/PETSc/options/memAlign.py:28)\n",
            "TESTING: check from config.libraries(config/BuildSystem/config/libraries.py:168)\n",
            "TESTING: check from config.libraries(config/BuildSystem/config/libraries.py:168)\n",
            "TESTING: check from config.libraries(config/BuildSystem/config/libraries.py:168)\n",
            "TESTING: check from config.libraries(config/BuildSystem/config/libraries.py:168)\n",
            "TESTING: checkMath from config.libraries(config/BuildSystem/config/libraries.py:297)\n",
            "TESTING: checkMathErf from config.libraries(config/BuildSystem/config/libraries.py:318)\n",
            "TESTING: checkMathTgamma from config.libraries(config/BuildSystem/config/libraries.py:327)\n",
            "TESTING: checkMathLgamma from config.libraries(config/BuildSystem/config/libraries.py:336)\n",
            "TESTING: checkMathFenv from config.libraries(config/BuildSystem/config/libraries.py:349)\n",
            "TESTING: checkMathLog2 from config.libraries(config/BuildSystem/config/libraries.py:361)\n",
            "TESTING: checkRealtime from config.libraries(config/BuildSystem/config/libraries.py:370)\n",
            "TESTING: checkDynamic from config.libraries(config/BuildSystem/config/libraries.py:386)\n",
            "TESTING: checkExecutableExportFlag from config.libraries(config/BuildSystem/config/libraries.py:612)\n",
            "TESTING: configureLibraryOptions from PETSc.options.libraryOptions(config/PETSc/options/libraryOptions.py:38)\n",
            "TESTING: configureISColorValueType from PETSc.options.libraryOptions(config/PETSc/options/libraryOptions.py:93)\n",
            "TESTING: checkVSNPrintf from config.functions(config/BuildSystem/config/functions.py:106)\n",
            "TESTING: checkNanosleep from config.functions(config/BuildSystem/config/functions.py:136)\n",
            "TESTING: checkMemmove from config.functions(config/BuildSystem/config/functions.py:142)\n",
            "TESTING: checkSignalHandlerType from config.functions(config/BuildSystem/config/functions.py:112)\n",
            "TESTING: checkFreeReturnType from config.functions(config/BuildSystem/config/functions.py:122)\n",
            "TESTING: checkVariableArgumentLists from config.functions(config/BuildSystem/config/functions.py:128)\n",
            "TESTING: checkClassify from config.functions(config/BuildSystem/config/functions.py:85)\n",
            "TESTING: checkMmap from config.functions(config/BuildSystem/config/functions.py:148)\n",
            "TESTING: checkMkstemp from config.functions(config/BuildSystem/config/functions.py:154)\n",
            "TESTING: checkTmpnam_s from config.functions(config/BuildSystem/config/functions.py:159)\n",
            "TESTING: configureMemorySize from config.utilities.getResidentSetSize(config/BuildSystem/config/utilities/getResidentSetSize.py:31)\n",
            "TESTING: configureFPTrap from config.utilities.FPTrap(config/BuildSystem/config/utilities/FPTrap.py:26)\n",
            "TESTING: configureFeatureTestMacros from config.utilities.featureTestMacros(config/BuildSystem/config/utilities/featureTestMacros.py:13)\n",
            "TESTING: configureMissingUtypeTypedefs from config.utilities.missing(config/BuildSystem/config/utilities/missing.py:54)\n",
            "TESTING: configureMissingFunctions from config.utilities.missing(config/BuildSystem/config/utilities/missing.py:60)\n",
            "TESTING: configureMissingSignals from config.utilities.missing(config/BuildSystem/config/utilities/missing.py:80)\n",
            "TESTING: configureMissingGetdomainnamePrototype from config.utilities.missing(config/BuildSystem/config/utilities/missing.py:97)\n",
            "TESTING: configureMissingSrandPrototype from config.utilities.missing(config/BuildSystem/config/utilities/missing.py:123)\n",
            "TESTING: checkSharedDynamicPicOptions from PETSc.options.sharedLibraries(config/PETSc/options/sharedLibraries.py:33)\n",
            "TESTING: configureSharedLibraries from PETSc.options.sharedLibraries(config/PETSc/options/sharedLibraries.py:48)\n",
            "TESTING: configureDynamicLibraries from PETSc.options.sharedLibraries(config/PETSc/options/sharedLibraries.py:92)\n",
            "TESTING: configureSerializedFunctions from PETSc.options.sharedLibraries(config/PETSc/options/sharedLibraries.py:98)\n",
            "TESTING: checkSymbolResolution from PETSc.options.sharedLibraries(config/PETSc/options/sharedLibraries.py:107)\n",
            "TESTING: configureScalarType from PETSc.options.scalarTypes(config/PETSc/options/scalarTypes.py:42)\n",
            "TESTING: configurePrecision from PETSc.options.scalarTypes(config/PETSc/options/scalarTypes.py:83)\n",
            "TESTING: configureMkdir from config.programs(config/BuildSystem/config/programs.py:23)\n",
            "TESTING: configureAutoreconf from config.programs(config/BuildSystem/config/programs.py:45)\n",
            "TESTING: configurePrograms from config.programs(config/BuildSystem/config/programs.py:74)\n",
            "TESTING: consistencyChecks from config.packages.make(config/BuildSystem/config/package.py:1042)\n",
            "TESTING: alternateConfigureLibrary from config.packages.make(config/BuildSystem/config/package.py:1038)\n",
            "TESTING: configureMake from config.packages.make(config/BuildSystem/config/packages/make.py:98)\n",
            "TESTING: setupGNUMake from config.packages.make(config/BuildSystem/config/packages/make.py:152)\n",
            "TESTING: configureMakeNP from config.packages.make(config/BuildSystem/config/packages/make.py:200)\n",
            "TESTING: locateBison from config.packages.bison(config/BuildSystem/config/packages/bison.py:31)\n",
            "TESTING: consistencyChecks from config.packages.sycl(config/BuildSystem/config/package.py:1042)\n",
            "TESTING: alternateConfigureLibrary from config.packages.sycl(config/BuildSystem/config/package.py:1038)\n",
            "TESTING: consistencyChecks from config.packages.X(config/BuildSystem/config/package.py:1042)\n",
            "TESTING: alternateConfigureLibrary from config.packages.X(config/BuildSystem/config/package.py:1038)\n",
            "TESTING: consistencyChecks from config.packages.hwloc(config/BuildSystem/config/package.py:1042)\n",
            "TESTING: alternateConfigureLibrary from config.packages.hwloc(config/BuildSystem/config/package.py:1038)\n",
            "TESTING: consistencyChecks from config.packages.hip(config/BuildSystem/config/package.py:1042)\n",
            "TESTING: alternateConfigureLibrary from config.packages.hip(config/BuildSystem/config/package.py:1038)\n",
            "TESTING: consistencyChecks from config.packages.thrust(config/BuildSystem/config/package.py:1042)\n",
            "TESTING: alternateConfigureLibrary from config.packages.thrust(config/BuildSystem/config/package.py:1038)\n",
            "TESTING: consistencyChecks from config.packages.cuda(config/BuildSystem/config/package.py:1042)\n",
            "TESTING: checkDependencies from config.packages.cuda(config/BuildSystem/config/package.py:936)\n",
            "TESTING: configureLibrary from config.packages.cuda(config/BuildSystem/config/packages/cuda.py:314)\n",
            "TESTING: check from config.libraries(config/BuildSystem/config/libraries.py:168)\n",
            "TESTING: check from config.libraries(config/BuildSystem/config/libraries.py:168)\n",
            "TESTING: checkInclude from config.headers(config/BuildSystem/config/headers.py:86)\n",
            "TESTING: checkInclude from config.headers(config/BuildSystem/config/headers.py:86)\n",
            "TESTING: checkVersion from config.packages.cuda(config/BuildSystem/config/package.py:1109)\n",
            "TESTING: checkSharedLibrary from config.packages.cuda(config/BuildSystem/config/package.py:1034)\n",
            "TESTING: consistencyChecks from config.packages.OpenMPI(config/BuildSystem/config/package.py:1042)\n",
            "TESTING: alternateConfigureLibrary from config.packages.OpenMPI(config/BuildSystem/config/package.py:1038)\n",
            "TESTING: consistencyChecks from config.packages.MPICH(config/BuildSystem/config/package.py:1042)\n",
            "TESTING: alternateConfigureLibrary from config.packages.MPICH(config/BuildSystem/config/package.py:1038)\n",
            "TESTING: consistencyChecks from config.packages.MPI(config/BuildSystem/config/package.py:1042)\n",
            "TESTING: checkDependencies from config.packages.MPI(config/BuildSystem/config/package.py:936)\n",
            "TESTING: configureLibrary from config.packages.MPI(config/BuildSystem/config/packages/MPI.py:913)\n",
            "TESTING: check from config.libraries(config/BuildSystem/config/libraries.py:168)\n",
            "TESTING: checkInclude from config.headers(config/BuildSystem/config/headers.py:86)\n",
            "TESTING: checkInclude from config.headers(config/BuildSystem/config/headers.py:86)\n",
            "TESTING: checkMPIDistro from config.packages.MPI(config/BuildSystem/config/packages/MPI.py:714)\n",
            "TESTING: configureMPI2 from config.packages.MPI(config/BuildSystem/config/packages/MPI.py:395)\n",
            "TESTING: configureMPI3 from config.packages.MPI(config/BuildSystem/config/packages/MPI.py:463)\n",
            "TESTING: configureMPI4 from config.packages.MPI(config/BuildSystem/config/packages/MPI.py:532)\n",
            "TESTING: configureMPIX from config.packages.MPI(config/BuildSystem/config/packages/MPI.py:560)\n",
            "TESTING: configureMPIEXEC from config.packages.MPI(config/BuildSystem/config/packages/MPI.py:204)\n",
            "TESTING: configureMPIEXEC_TAIL from config.packages.MPI(config/BuildSystem/config/packages/MPI.py:193)\n",
            "TESTING: configureMPITypes from config.packages.MPI(config/BuildSystem/config/packages/MPI.py:596)\n",
            "TESTING: SGIMPICheck from config.packages.MPI(config/BuildSystem/config/packages/MPI.py:642)\n",
            "TESTING: CxxMPICheck from config.packages.MPI(config/BuildSystem/config/packages/MPI.py:652)\n",
            "TESTING: FortranMPICheck from config.packages.MPI(config/BuildSystem/config/packages/MPI.py:668)\n",
            "TESTING: configureIO from config.packages.MPI(config/BuildSystem/config/packages/MPI.py:690)\n",
            "TESTING: findMPIIncludeAndLib from config.packages.MPI(config/BuildSystem/config/packages/MPI.py:803)\n",
            "TESTING: PetscArchMPICheck from config.packages.MPI(config/BuildSystem/config/packages/MPI.py:887)\n",
            "TESTING: checkVersion from config.packages.MPI(config/BuildSystem/config/package.py:1109)\n",
            "TESTING: checkSharedLibrary from config.packages.MPI(config/BuildSystem/config/package.py:1034)\n",
            "TESTING: consistencyChecks from config.packages.zstd(config/BuildSystem/config/package.py:1042)\n",
            "TESTING: alternateConfigureLibrary from config.packages.zstd(config/BuildSystem/config/package.py:1038)\n",
            "TESTING: consistencyChecks from config.packages.yaml(config/BuildSystem/config/package.py:1042)\n",
            "TESTING: alternateConfigureLibrary from config.packages.yaml(config/BuildSystem/config/package.py:1038)\n",
            "TESTING: consistencyChecks from config.packages.sprng(config/BuildSystem/config/package.py:1042)\n",
            "TESTING: alternateConfigureLibrary from config.packages.sprng(config/BuildSystem/config/package.py:1038)\n",
            "TESTING: consistencyChecks from config.packages.revolve(config/BuildSystem/config/package.py:1042)\n",
            "TESTING: alternateConfigureLibrary from config.packages.revolve(config/BuildSystem/config/package.py:1038)\n",
            "TESTING: consistencyChecks from config.packages.radau5(config/BuildSystem/config/package.py:1042)\n",
            "TESTING: alternateConfigureLibrary from config.packages.radau5(config/BuildSystem/config/package.py:1038)\n",
            "TESTING: consistencyChecks from config.packages.petsc4py(config/BuildSystem/config/package.py:1042)\n",
            "TESTING: alternateConfigureLibrary from config.packages.petsc4py(config/BuildSystem/config/packages/petsc4py.py:131)\n",
            "TESTING: consistencyChecks from config.packages.pami(config/BuildSystem/config/package.py:1042)\n",
            "TESTING: alternateConfigureLibrary from config.packages.pami(config/BuildSystem/config/package.py:1038)\n",
            "TESTING: consistencyChecks from config.packages.opengles(config/BuildSystem/config/package.py:1042)\n",
            "TESTING: alternateConfigureLibrary from config.packages.opengles(config/BuildSystem/config/package.py:1038)\n",
            "TESTING: consistencyChecks from config.packages.opencl(config/BuildSystem/config/package.py:1042)\n",
            "TESTING: alternateConfigureLibrary from config.packages.opencl(config/BuildSystem/config/package.py:1038)\n",
            "TESTING: consistencyChecks from config.packages.mpi4py(config/BuildSystem/config/package.py:1042)\n",
            "TESTING: alternateConfigureLibrary from config.packages.mpi4py(config/BuildSystem/config/package.py:1038)\n",
            "TESTING: consistencyChecks from config.packages.mpe(config/BuildSystem/config/package.py:1042)\n",
            "TESTING: alternateConfigureLibrary from config.packages.mpe(config/BuildSystem/config/package.py:1038)\n",
            "TESTING: consistencyChecks from config.packages.memkind(config/BuildSystem/config/package.py:1042)\n",
            "TESTING: alternateConfigureLibrary from config.packages.memkind(config/BuildSystem/config/package.py:1038)\n",
            "TESTING: consistencyChecks from config.packages.libmesh(config/BuildSystem/config/package.py:1042)\n",
            "TESTING: alternateConfigureLibrary from config.packages.libmesh(config/BuildSystem/config/packages/libmesh.py:69)\n",
            "TESTING: consistencyChecks from config.packages.moose(config/BuildSystem/config/package.py:1042)\n",
            "TESTING: alternateConfigureLibrary from config.packages.moose(config/BuildSystem/config/package.py:1038)\n",
            "TESTING: consistencyChecks from config.packages.libjpeg(config/BuildSystem/config/package.py:1042)\n",
            "TESTING: alternateConfigureLibrary from config.packages.libjpeg(config/BuildSystem/config/package.py:1038)\n",
            "TESTING: consistencyChecks from config.packages.gsl(config/BuildSystem/config/package.py:1042)\n",
            "TESTING: alternateConfigureLibrary from config.packages.gsl(config/BuildSystem/config/package.py:1038)\n",
            "TESTING: consistencyChecks from config.packages.ssl(config/BuildSystem/config/packages/ssl.py:58)\n",
            "TESTING: alternateConfigureLibrary from config.packages.ssl(config/BuildSystem/config/package.py:1038)\n",
            "TESTING: consistencyChecks from config.packages.gmp(config/BuildSystem/config/package.py:1042)\n",
            "TESTING: alternateConfigureLibrary from config.packages.gmp(config/BuildSystem/config/package.py:1038)\n",
            "TESTING: consistencyChecks from config.packages.mpfr(config/BuildSystem/config/package.py:1042)\n",
            "TESTING: alternateConfigureLibrary from config.packages.mpfr(config/BuildSystem/config/package.py:1038)\n",
            "TESTING: consistencyChecks from config.packages.giflib(config/BuildSystem/config/package.py:1042)\n",
            "TESTING: alternateConfigureLibrary from config.packages.giflib(config/BuildSystem/config/package.py:1038)\n",
            "TESTING: consistencyChecks from config.packages.cub(config/BuildSystem/config/package.py:1042)\n",
            "TESTING: alternateConfigureLibrary from config.packages.cub(config/BuildSystem/config/package.py:1038)\n",
            "TESTING: consistencyChecks from config.packages.ctetgen(config/BuildSystem/config/package.py:1042)\n",
            "TESTING: alternateConfigureLibrary from config.packages.ctetgen(config/BuildSystem/config/package.py:1038)\n",
            "TESTING: consistencyChecks from config.packages.concurrencykit(config/BuildSystem/config/package.py:1042)\n",
            "TESTING: alternateConfigureLibrary from config.packages.concurrencykit(config/BuildSystem/config/package.py:1038)\n",
            "TESTING: consistencyChecks from config.packages.cams(config/BuildSystem/config/package.py:1042)\n",
            "TESTING: alternateConfigureLibrary from config.packages.cams(config/BuildSystem/config/package.py:1038)\n",
            "TESTING: locateC2html from config.packages.c2html(config/BuildSystem/config/packages/c2html.py:33)\n",
            "TESTING: consistencyChecks from config.packages.boost(config/BuildSystem/config/package.py:1042)\n",
            "TESTING: alternateConfigureLibrary from config.packages.boost(config/BuildSystem/config/package.py:1038)\n",
            "TESTING: consistencyChecks from config.packages.silo(config/BuildSystem/config/package.py:1042)\n",
            "TESTING: alternateConfigureLibrary from config.packages.silo(config/BuildSystem/config/package.py:1038)\n",
            "TESTING: consistencyChecks from config.packages.Random123(config/BuildSystem/config/package.py:1042)\n",
            "TESTING: alternateConfigureLibrary from config.packages.Random123(config/BuildSystem/config/package.py:1038)\n",
            "TESTING: consistencyChecks from config.packages.PARTY(config/BuildSystem/config/package.py:1042)\n",
            "TESTING: alternateConfigureLibrary from config.packages.PARTY(config/BuildSystem/config/package.py:1038)\n",
            "TESTING: consistencyChecks from config.packages.NVSHMEM(config/BuildSystem/config/package.py:1042)\n",
            "TESTING: alternateConfigureLibrary from config.packages.NVSHMEM(config/BuildSystem/config/package.py:1038)\n",
            "TESTING: consistencyChecks from config.packages.MatlabEngine(config/BuildSystem/config/package.py:1042)\n",
            "TESTING: alternateConfigureLibrary from config.packages.MatlabEngine(config/BuildSystem/config/package.py:1038)\n",
            "TESTING: consistencyChecks from config.packages.Matlab(config/BuildSystem/config/package.py:1042)\n",
            "TESTING: alternateConfigureLibrary from config.packages.Matlab(config/BuildSystem/config/package.py:1038)\n",
            "TESTING: consistencyChecks from config.packages.Mathematica(config/BuildSystem/config/package.py:1042)\n",
            "TESTING: alternateConfigureLibrary from config.packages.Mathematica(config/BuildSystem/config/package.py:1038)\n",
            "TESTING: consistencyChecks from config.packages.regex(config/BuildSystem/config/package.py:1042)\n",
            "TESTING: checkDependencies from config.packages.regex(config/BuildSystem/config/package.py:936)\n",
            "TESTING: configureLibrary from config.packages.regex(config/BuildSystem/config/package.py:962)\n",
            "TESTING: check from config.libraries(config/BuildSystem/config/libraries.py:168)\n",
            "TESTING: checkInclude from config.headers(config/BuildSystem/config/headers.py:86)\n",
            "TESTING: checkInclude from config.headers(config/BuildSystem/config/headers.py:86)\n",
            "TESTING: checkVersion from config.packages.regex(config/BuildSystem/config/package.py:1109)\n",
            "TESTING: checkSharedLibrary from config.packages.regex(config/BuildSystem/config/package.py:1034)\n",
            "TESTING: consistencyChecks from config.packages.libceed(config/BuildSystem/config/package.py:1042)\n",
            "TESTING: alternateConfigureLibrary from config.packages.libceed(config/BuildSystem/config/package.py:1038)\n",
            "TESTING: consistencyChecks from config.packages.opengl(config/BuildSystem/config/package.py:1042)\n",
            "TESTING: alternateConfigureLibrary from config.packages.opengl(config/BuildSystem/config/package.py:1038)\n",
            "TESTING: consistencyChecks from config.packages.glut(config/BuildSystem/config/package.py:1042)\n",
            "TESTING: alternateConfigureLibrary from config.packages.glut(config/BuildSystem/config/package.py:1038)\n",
            "TESTING: consistencyChecks from config.packages.GLVis(config/BuildSystem/config/package.py:1042)\n",
            "TESTING: alternateConfigureLibrary from config.packages.GLVis(config/BuildSystem/config/package.py:1038)\n",
            "TESTING: consistencyChecks from config.packages.CoDiPack(config/BuildSystem/config/package.py:1042)\n",
            "TESTING: alternateConfigureLibrary from config.packages.CoDiPack(config/BuildSystem/config/package.py:1038)\n",
            "TESTING: consistencyChecks from config.packages.adblaslapack(config/BuildSystem/config/package.py:1042)\n",
            "TESTING: alternateConfigureLibrary from config.packages.adblaslapack(config/BuildSystem/config/package.py:1038)\n",
            "TESTING: locateCMake from config.packages.cmake(config/BuildSystem/config/packages/cmake.py:54)\n",
            "TESTING: consistencyChecks from config.packages.unittestcpp(config/BuildSystem/config/package.py:1042)\n",
            "TESTING: alternateConfigureLibrary from config.packages.unittestcpp(config/BuildSystem/config/package.py:1038)\n",
            "TESTING: consistencyChecks from config.packages.googletest(config/BuildSystem/config/package.py:1042)\n",
            "TESTING: alternateConfigureLibrary from config.packages.googletest(config/BuildSystem/config/package.py:1038)\n",
            "TESTING: consistencyChecks from config.packages.opencascade(config/BuildSystem/config/package.py:1042)\n",
            "TESTING: alternateConfigureLibrary from config.packages.opencascade(config/BuildSystem/config/package.py:1038)\n",
            "TESTING: consistencyChecks from config.packages.amgx(config/BuildSystem/config/package.py:1042)\n",
            "TESTING: alternateConfigureLibrary from config.packages.amgx(config/BuildSystem/config/package.py:1038)\n",
            "TESTING: consistencyChecks from config.packages.eigen(config/BuildSystem/config/package.py:1042)\n",
            "TESTING: alternateConfigureLibrary from config.packages.eigen(config/BuildSystem/config/package.py:1038)\n",
            "TESTING: consistencyChecks from config.packages.grid(config/BuildSystem/config/package.py:1042)\n",
            "TESTING: alternateConfigureLibrary from config.packages.grid(config/BuildSystem/config/package.py:1038)\n",
            "TESTING: consistencyChecks from config.packages.szlib(config/BuildSystem/config/package.py:1042)\n",
            "TESTING: alternateConfigureLibrary from config.packages.szlib(config/BuildSystem/config/package.py:1038)\n",
            "TESTING: consistencyChecks from config.packages.zlib(config/BuildSystem/config/package.py:1042)\n",
            "TESTING: alternateConfigureLibrary from config.packages.zlib(config/BuildSystem/config/package.py:1038)\n",
            "TESTING: consistencyChecks from config.packages.tetgen(config/BuildSystem/config/package.py:1042)\n",
            "TESTING: alternateConfigureLibrary from config.packages.tetgen(config/BuildSystem/config/package.py:1038)\n",
            "TESTING: consistencyChecks from config.packages.tchem(config/BuildSystem/config/package.py:1042)\n",
            "TESTING: alternateConfigureLibrary from config.packages.tchem(config/BuildSystem/config/package.py:1038)\n",
            "TESTING: consistencyChecks from config.packages.saws(config/BuildSystem/config/package.py:1042)\n",
            "TESTING: alternateConfigureLibrary from config.packages.saws(config/BuildSystem/config/package.py:1038)\n",
            "TESTING: consistencyChecks from config.packages.muparser(config/BuildSystem/config/package.py:1042)\n",
            "TESTING: alternateConfigureLibrary from config.packages.muparser(config/BuildSystem/config/package.py:1038)\n",
            "TESTING: consistencyChecks from config.packages.libpng(config/BuildSystem/config/package.py:1042)\n",
            "TESTING: alternateConfigureLibrary from config.packages.libpng(config/BuildSystem/config/package.py:1038)\n",
            "TESTING: consistencyChecks from config.packages.hcephes(config/BuildSystem/config/package.py:1042)\n",
            "TESTING: alternateConfigureLibrary from config.packages.hcephes(config/BuildSystem/config/package.py:1038)\n",
            "TESTING: consistencyChecks from config.packages.combblas(config/BuildSystem/config/package.py:1042)\n",
            "TESTING: alternateConfigureLibrary from config.packages.combblas(config/BuildSystem/config/package.py:1038)\n",
            "TESTING: consistencyChecks from config.packages.Triangle(config/BuildSystem/config/package.py:1042)\n",
            "TESTING: alternateConfigureLibrary from config.packages.Triangle(config/BuildSystem/config/package.py:1038)\n",
            "TESTING: consistencyChecks from config.packages.metis(config/BuildSystem/config/package.py:1042)\n",
            "TESTING: alternateConfigureLibrary from config.packages.metis(config/BuildSystem/config/package.py:1038)\n",
            "TESTING: consistencyChecks from config.packages.pragmatic(config/BuildSystem/config/package.py:1042)\n",
            "TESTING: alternateConfigureLibrary from config.packages.pragmatic(config/BuildSystem/config/package.py:1038)\n",
            "TESTING: consistencyChecks from config.packages.parmetis(config/BuildSystem/config/package.py:1042)\n",
            "TESTING: alternateConfigureLibrary from config.packages.parmetis(config/BuildSystem/config/package.py:1038)\n",
            "TESTING: consistencyChecks from config.packages.KS(config/BuildSystem/config/package.py:1042)\n",
            "TESTING: alternateConfigureLibrary from config.packages.KS(config/BuildSystem/config/package.py:1038)\n",
            "TESTING: consistencyChecks from config.packages.Chaco(config/BuildSystem/config/package.py:1042)\n",
            "TESTING: alternateConfigureLibrary from config.packages.Chaco(config/BuildSystem/config/package.py:1038)\n",
            "TESTING: consistencyChecks from config.packages.hdf5(config/BuildSystem/config/package.py:1042)\n",
            "TESTING: alternateConfigureLibrary from config.packages.hdf5(config/BuildSystem/config/package.py:1038)\n",
            "TESTING: consistencyChecks from config.packages.med(config/BuildSystem/config/package.py:1042)\n",
            "TESTING: alternateConfigureLibrary from config.packages.med(config/BuildSystem/config/package.py:1038)\n",
            "TESTING: consistencyChecks from config.packages.cgns(config/BuildSystem/config/package.py:1042)\n",
            "TESTING: alternateConfigureLibrary from config.packages.cgns(config/BuildSystem/config/package.py:1038)\n",
            "TESTING: consistencyChecks from config.packages.ascem-io(config/BuildSystem/config/package.py:1042)\n",
            "TESTING: alternateConfigureLibrary from config.packages.ascem-io(config/BuildSystem/config/package.py:1038)\n",
            "TESTING: consistencyChecks from config.packages.pflotran(config/BuildSystem/config/package.py:1042)\n",
            "TESTING: alternateConfigureLibrary from config.packages.pflotran(config/BuildSystem/config/package.py:1038)\n",
            "TESTING: consistencyChecks from config.packages.alquimia(config/BuildSystem/config/package.py:1042)\n",
            "TESTING: alternateConfigureLibrary from config.packages.alquimia(config/BuildSystem/config/package.py:1038)\n",
            "TESTING: consistencyChecks from config.packages.SAMRAI(config/BuildSystem/config/package.py:1042)\n",
            "TESTING: alternateConfigureLibrary from config.packages.SAMRAI(config/BuildSystem/config/package.py:1038)\n",
            "TESTING: consistencyChecks from config.packages.pnetcdf(config/BuildSystem/config/package.py:1042)\n",
            "TESTING: alternateConfigureLibrary from config.packages.pnetcdf(config/BuildSystem/config/package.py:1038)\n",
            "TESTING: consistencyChecks from config.packages.netcdf(config/BuildSystem/config/package.py:1042)\n",
            "TESTING: alternateConfigureLibrary from config.packages.netcdf(config/BuildSystem/config/package.py:1038)\n",
            "TESTING: consistencyChecks from config.packages.exodusii(config/BuildSystem/config/package.py:1042)\n",
            "TESTING: alternateConfigureLibrary from config.packages.exodusii(config/BuildSystem/config/package.py:1038)\n",
            "TESTING: consistencyChecks from config.packages.fblaslapack(config/BuildSystem/config/package.py:1042)\n",
            "TESTING: alternateConfigureLibrary from config.packages.fblaslapack(config/BuildSystem/config/package.py:1038)\n",
            "TESTING: consistencyChecks from config.packages.pthread(config/BuildSystem/config/package.py:1042)\n",
            "TESTING: checkDependencies from config.packages.pthread(config/BuildSystem/config/package.py:936)\n",
            "TESTING: configureLibrary from config.packages.pthread(config/BuildSystem/config/packages/pthread.py:19)\n",
            "TESTING: check from config.libraries(config/BuildSystem/config/libraries.py:168)\n",
            "TESTING: checkInclude from config.headers(config/BuildSystem/config/headers.py:86)\n",
            "TESTING: checkInclude from config.headers(config/BuildSystem/config/headers.py:86)\n",
            "TESTING: checkVersion from config.packages.pthread(config/BuildSystem/config/package.py:1109)\n",
            "TESTING: checkSharedLibrary from config.packages.pthread(config/BuildSystem/config/package.py:1034)\n",
            "TESTING: consistencyChecks from config.packages.egads(config/BuildSystem/config/package.py:1042)\n",
            "TESTING: alternateConfigureLibrary from config.packages.egads(config/BuildSystem/config/package.py:1038)\n",
            "TESTING: consistencyChecks from config.packages.PTScotch(config/BuildSystem/config/package.py:1042)\n",
            "TESTING: alternateConfigureLibrary from config.packages.PTScotch(config/BuildSystem/config/package.py:1038)\n",
            "TESTING: consistencyChecks from config.packages.mmg(config/BuildSystem/config/package.py:1042)\n",
            "TESTING: alternateConfigureLibrary from config.packages.mmg(config/BuildSystem/config/package.py:1038)\n",
            "TESTING: consistencyChecks from config.packages.parmmg(config/BuildSystem/config/package.py:1042)\n",
            "TESTING: alternateConfigureLibrary from config.packages.parmmg(config/BuildSystem/config/package.py:1038)\n",
            "TESTING: consistencyChecks from config.packages.Zoltan(config/BuildSystem/config/package.py:1042)\n",
            "TESTING: alternateConfigureLibrary from config.packages.Zoltan(config/BuildSystem/config/package.py:1038)\n",
            "TESTING: consistencyChecks from config.packages.ADIOS(config/BuildSystem/config/package.py:1042)\n",
            "TESTING: alternateConfigureLibrary from config.packages.ADIOS(config/BuildSystem/config/package.py:1038)\n",
            "TESTING: consistencyChecks from config.packages.openmp(config/BuildSystem/config/package.py:1042)\n",
            "TESTING: alternateConfigureLibrary from config.packages.openmp(config/BuildSystem/config/package.py:1038)\n",
            "TESTING: consistencyChecks from config.packages.viennacl(config/BuildSystem/config/package.py:1042)\n",
            "TESTING: alternateConfigureLibrary from config.packages.viennacl(config/BuildSystem/config/package.py:1038)\n",
            "TESTING: consistencyChecks from config.packages.ColPack(config/BuildSystem/config/package.py:1042)\n",
            "TESTING: alternateConfigureLibrary from config.packages.ColPack(config/BuildSystem/config/package.py:1038)\n",
            "TESTING: consistencyChecks from config.packages.ADOLC(config/BuildSystem/config/package.py:1042)\n",
            "TESTING: alternateConfigureLibrary from config.packages.ADOLC(config/BuildSystem/config/package.py:1038)\n",
            "TESTING: consistencyChecks from config.packages.openblas(config/BuildSystem/config/package.py:1042)\n",
            "TESTING: alternateConfigureLibrary from config.packages.openblas(config/BuildSystem/config/package.py:1038)\n",
            "TESTING: consistencyChecks from config.packages.blis(config/BuildSystem/config/package.py:1042)\n",
            "TESTING: alternateConfigureLibrary from config.packages.blis(config/BuildSystem/config/package.py:1038)\n",
            "TESTING: consistencyChecks from config.packages.f2cblaslapack(config/BuildSystem/config/package.py:1042)\n",
            "TESTING: alternateConfigureLibrary from config.packages.f2cblaslapack(config/BuildSystem/config/package.py:1038)\n",
            "TESTING: consistencyChecks from config.packages.BlasLapack(config/BuildSystem/config/package.py:1042)\n",
            "TESTING: checkDependencies from config.packages.BlasLapack(config/BuildSystem/config/package.py:936)\n",
            "TESTING: configureLibrary from config.packages.BlasLapack(config/BuildSystem/config/packages/BlasLapack.py:497)\n",
            "TESTING: checkLib from config.packages.BlasLapack(config/BuildSystem/config/packages/BlasLapack.py:111)\n",
            "TESTING: checkLib from config.packages.BlasLapack(config/BuildSystem/config/packages/BlasLapack.py:111)\n",
            "TESTING: checkLib from config.packages.BlasLapack(config/BuildSystem/config/packages/BlasLapack.py:111)\n",
            "TESTING: checkLib from config.packages.BlasLapack(config/BuildSystem/config/packages/BlasLapack.py:111)\n",
            "TESTING: checkLib from config.packages.BlasLapack(config/BuildSystem/config/packages/BlasLapack.py:111)\n",
            "TESTING: checkLib from config.packages.BlasLapack(config/BuildSystem/config/packages/BlasLapack.py:111)\n",
            "TESTING: checkLib from config.packages.BlasLapack(config/BuildSystem/config/packages/BlasLapack.py:111)\n",
            "TESTING: checkMKL from config.packages.BlasLapack(config/BuildSystem/config/packages/BlasLapack.py:583)\n",
            "TESTING: checkESSL from config.packages.BlasLapack(config/BuildSystem/config/packages/BlasLapack.py:633)\n",
            "TESTING: checkPESSL from config.packages.BlasLapack(config/BuildSystem/config/packages/BlasLapack.py:653)\n",
            "TESTING: checkMissing from config.packages.BlasLapack(config/BuildSystem/config/packages/BlasLapack.py:678)\n",
            "TESTING: checklsame from config.packages.BlasLapack(config/BuildSystem/config/packages/BlasLapack.py:694)\n",
            "TESTING: checkRuntimeIssues from config.packages.BlasLapack(config/BuildSystem/config/packages/BlasLapack.py:753)\n",
            "TESTING: checkVersion from config.packages.BlasLapack(config/BuildSystem/config/package.py:1109)\n",
            "TESTING: checkSharedLibrary from config.packages.BlasLapack(config/BuildSystem/config/package.py:1034)\n",
            "TESTING: consistencyChecks from config.packages.sundials2(config/BuildSystem/config/package.py:1042)\n",
            "TESTING: alternateConfigureLibrary from config.packages.sundials2(config/BuildSystem/config/package.py:1038)\n",
            "TESTING: consistencyChecks from config.packages.spai(config/BuildSystem/config/packages/spai.py:53)\n",
            "TESTING: alternateConfigureLibrary from config.packages.spai(config/BuildSystem/config/package.py:1038)\n",
            "TESTING: consistencyChecks from config.packages.raja(config/BuildSystem/config/package.py:1042)\n",
            "TESTING: alternateConfigureLibrary from config.packages.raja(config/BuildSystem/config/package.py:1038)\n",
            "TESTING: consistencyChecks from config.packages.pARMS(config/BuildSystem/config/package.py:1042)\n",
            "TESTING: alternateConfigureLibrary from config.packages.pARMS(config/BuildSystem/config/package.py:1038)\n",
            "TESTING: consistencyChecks from config.packages.p4est(config/BuildSystem/config/package.py:1042)\n",
            "TESTING: alternateConfigureLibrary from config.packages.p4est(config/BuildSystem/config/package.py:1038)\n",
            "TESTING: consistencyChecks from config.packages.mkl_sparse_optimize(config/BuildSystem/config/package.py:1042)\n",
            "TESTING: alternateConfigureLibrary from config.packages.mkl_sparse_optimize(config/BuildSystem/config/package.py:1038)\n",
            "TESTING: consistencyChecks from config.packages.mkl_sparse(config/BuildSystem/config/package.py:1042)\n",
            "TESTING: alternateConfigureLibrary from config.packages.mkl_sparse(config/BuildSystem/config/package.py:1038)\n",
            "TESTING: consistencyChecks from config.packages.mkl_cpardiso(config/BuildSystem/config/packages/mkl_cpardiso.py:20)\n",
            "TESTING: alternateConfigureLibrary from config.packages.mkl_cpardiso(config/BuildSystem/config/package.py:1038)\n",
            "TESTING: consistencyChecks from config.packages.kokkos(config/BuildSystem/config/package.py:1042)\n",
            "TESTING: alternateConfigureLibrary from config.packages.kokkos(config/BuildSystem/config/package.py:1038)\n",
            "TESTING: consistencyChecks from config.packages.kokkos-kernels(config/BuildSystem/config/package.py:1042)\n",
            "TESTING: alternateConfigureLibrary from config.packages.kokkos-kernels(config/BuildSystem/config/package.py:1038)\n",
            "TESTING: consistencyChecks from config.packages.htool(config/BuildSystem/config/package.py:1042)\n",
            "TESTING: alternateConfigureLibrary from config.packages.htool(config/BuildSystem/config/package.py:1038)\n",
            "TESTING: consistencyChecks from config.packages.magma(config/BuildSystem/config/package.py:1042)\n",
            "TESTING: alternateConfigureLibrary from config.packages.magma(config/BuildSystem/config/package.py:1038)\n",
            "TESTING: consistencyChecks from config.packages.kblas(config/BuildSystem/config/package.py:1042)\n",
            "TESTING: alternateConfigureLibrary from config.packages.kblas(config/BuildSystem/config/package.py:1038)\n",
            "TESTING: consistencyChecks from config.packages.h2opus(config/BuildSystem/config/package.py:1042)\n",
            "TESTING: alternateConfigureLibrary from config.packages.h2opus(config/BuildSystem/config/package.py:1038)\n",
            "TESTING: consistencyChecks from config.packages.fftw(config/BuildSystem/config/package.py:1042)\n",
            "TESTING: alternateConfigureLibrary from config.packages.fftw(config/BuildSystem/config/package.py:1038)\n",
            "TESTING: consistencyChecks from config.packages.elemental(config/BuildSystem/config/package.py:1042)\n",
            "TESTING: alternateConfigureLibrary from config.packages.elemental(config/BuildSystem/config/package.py:1038)\n",
            "TESTING: consistencyChecks from config.packages.ml(config/BuildSystem/config/package.py:1042)\n",
            "TESTING: alternateConfigureLibrary from config.packages.ml(config/BuildSystem/config/package.py:1038)\n",
            "TESTING: consistencyChecks from config.packages.mkl_pardiso(config/BuildSystem/config/packages/mkl_pardiso.py:21)\n",
            "TESTING: alternateConfigureLibrary from config.packages.mkl_pardiso(config/BuildSystem/config/package.py:1038)\n",
            "TESTING: consistencyChecks from config.packages.SuperLU_DIST(config/BuildSystem/config/package.py:1042)\n",
            "TESTING: alternateConfigureLibrary from config.packages.SuperLU_DIST(config/BuildSystem/config/package.py:1038)\n",
            "TESTING: consistencyChecks from config.packages.SuperLU(config/BuildSystem/config/package.py:1042)\n",
            "TESTING: alternateConfigureLibrary from config.packages.SuperLU(config/BuildSystem/config/package.py:1038)\n",
            "TESTING: consistencyChecks from config.packages.PaStiX(config/BuildSystem/config/package.py:1042)\n",
            "TESTING: alternateConfigureLibrary from config.packages.PaStiX(config/BuildSystem/config/package.py:1038)\n",
            "TESTING: consistencyChecks from config.packages.scalapack(config/BuildSystem/config/package.py:1042)\n",
            "TESTING: alternateConfigureLibrary from config.packages.scalapack(config/BuildSystem/config/package.py:1038)\n",
            "TESTING: consistencyChecks from config.packages.strumpack(config/BuildSystem/config/packages/strumpack.py:78)\n",
            "TESTING: alternateConfigureLibrary from config.packages.strumpack(config/BuildSystem/config/package.py:1038)\n",
            "TESTING: consistencyChecks from config.packages.MUMPS(config/BuildSystem/config/packages/MUMPS.py:67)\n",
            "TESTING: alternateConfigureLibrary from config.packages.MUMPS(config/BuildSystem/config/package.py:1038)\n",
            "TESTING: consistencyChecks from config.packages.MOAB(config/BuildSystem/config/package.py:1042)\n",
            "TESTING: alternateConfigureLibrary from config.packages.MOAB(config/BuildSystem/config/package.py:1038)\n",
            "TESTING: consistencyChecks from config.packages.SuiteSparse(config/BuildSystem/config/packages/SuiteSparse.py:176)\n",
            "TESTING: alternateConfigureLibrary from config.packages.SuiteSparse(config/BuildSystem/config/package.py:1038)\n",
            "TESTING: consistencyChecks from config.packages.Chombo(config/BuildSystem/config/packages/Chombo.py:126)\n",
            "TESTING: alternateConfigureLibrary from config.packages.Chombo(config/BuildSystem/config/package.py:1038)\n",
            "TESTING: consistencyChecks from config.packages.hypre(config/BuildSystem/config/packages/hypre.py:182)\n",
            "TESTING: alternateConfigureLibrary from config.packages.hypre(config/BuildSystem/config/package.py:1038)\n",
            "TESTING: consistencyChecks from config.packages.Trilinos(config/BuildSystem/config/package.py:1042)\n",
            "TESTING: alternateConfigureLibrary from config.packages.Trilinos(config/BuildSystem/config/package.py:1038)\n",
            "TESTING: consistencyChecks from config.packages.xSDKTrilinos(config/BuildSystem/config/package.py:1042)\n",
            "TESTING: alternateConfigureLibrary from config.packages.xSDKTrilinos(config/BuildSystem/config/package.py:1038)\n",
            "TESTING: consistencyChecks from config.packages.mstk(config/BuildSystem/config/package.py:1042)\n",
            "TESTING: alternateConfigureLibrary from config.packages.mstk(config/BuildSystem/config/package.py:1038)\n",
            "TESTING: consistencyChecks from config.packages.slepc(config/BuildSystem/config/package.py:1042)\n",
            "TESTING: alternateConfigureLibrary from config.packages.slepc(config/BuildSystem/config/packages/slepc.py:98)\n",
            "TESTING: consistencyChecks from config.packages.hpddm(config/BuildSystem/config/package.py:1042)\n",
            "TESTING: alternateConfigureLibrary from config.packages.hpddm(config/BuildSystem/config/packages/hpddm.py:105)\n",
            "TESTING: consistencyChecks from config.packages.bamg(config/BuildSystem/config/package.py:1042)\n",
            "TESTING: alternateConfigureLibrary from config.packages.bamg(config/BuildSystem/config/packages/bamg.py:94)\n",
            "TESTING: consistencyChecks from config.packages.MFEM(config/BuildSystem/config/package.py:1042)\n",
            "TESTING: alternateConfigureLibrary from config.packages.MFEM(config/BuildSystem/config/packages/MFEM.py:217)\n",
            "TESTING: consistencyChecks from config.packages.AMReX(config/BuildSystem/config/package.py:1042)\n",
            "TESTING: alternateConfigureLibrary from config.packages.AMReX(config/BuildSystem/config/packages/AMReX.py:166)\n",
            "TESTING: configureRTLDDefault from PETSc.Configure(config/PETSc/Configure.py:774)\n",
            "TESTING: configurePrefetch from PETSc.Configure(config/PETSc/Configure.py:552)\n",
            "TESTING: configureUnused from PETSc.Configure(config/PETSc/Configure.py:620)\n",
            "TESTING: configureDeprecated from PETSc.Configure(config/PETSc/Configure.py:638)\n",
            "TESTING: configureIsatty from PETSc.Configure(config/PETSc/Configure.py:632)\n",
            "TESTING: configureExpect from PETSc.Configure(config/PETSc/Configure.py:703)\n",
            "TESTING: configureAlign from PETSc.Configure(config/PETSc/Configure.py:687)\n",
            "TESTING: configureFunctionName from PETSc.Configure(config/PETSc/Configure.py:710)\n",
            "TESTING: configureIntptrt from PETSc.Configure(config/PETSc/Configure.py:728)\n",
            "TESTING: configureSolaris from PETSc.Configure(config/PETSc/Configure.py:780)\n",
            "TESTING: configureLinux from PETSc.Configure(config/PETSc/Configure.py:802)\n",
            "TESTING: configureDarwin from PETSc.Configure(config/PETSc/Configure.py:793)\n",
            "TESTING: configureWin32 from PETSc.Configure(config/PETSc/Configure.py:808)\n",
            "TESTING: configureCygwinBrokenPipe from PETSc.Configure(config/PETSc/Configure.py:1248)\n",
            "TESTING: configureDefaultArch from PETSc.Configure(config/PETSc/Configure.py:1264)\n",
            "TESTING: configureScript from PETSc.Configure(config/PETSc/Configure.py:1281)\n",
            "TESTING: configureInstall from PETSc.Configure(config/PETSc/Configure.py:1320)\n",
            "TESTING: configureAtoll from PETSc.Configure(config/PETSc/Configure.py:615)\n",
            "TESTING: configureCoverage from PETSc.Configure(config/PETSc/Configure.py:996)\n",
            "TESTING: configureCoverageExecutable from PETSc.Configure(config/PETSc/Configure.py:1134)\n",
            "TESTING: configureStrictPetscErrorCode from PETSc.Configure(config/PETSc/Configure.py:1229)\n",
            "Compilers:\n",
            "  C Compiler:         /usr/bin/mpicc  -fPIC -Wall -Wwrite-strings -Wno-unknown-pragmas -Wno-lto-type-mismatch -Wno-stringop-overflow -fstack-protector -fvisibility=hidden -O3 \n",
            "    Version: gcc (Ubuntu 11.4.0-1ubuntu1~22.04) 11.4.0\n",
            "  CUDA Compiler:         nvcc  -ccbin /usr/bin/mpicxx -std=c++17 -Xcompiler -fPIC -O3 \n",
            "    Version: Cuda compilation tools, release 11.8, V11.8.89\n",
            "  C++ Compiler:         /usr/bin/mpicxx  -Wall -Wwrite-strings -Wno-strict-aliasing -Wno-unknown-pragmas -Wno-lto-type-mismatch -Wno-psabi -fstack-protector -fvisibility=hidden -O3  -std=gnu++20 -fPIC \n",
            "    Version: g++ (Ubuntu 11.4.0-1ubuntu1~22.04) 11.4.0\n",
            "Linkers:\n",
            "  Shared linker:   /usr/bin/mpicc  -shared  -fPIC -Wall -Wwrite-strings -Wno-unknown-pragmas -Wno-lto-type-mismatch -Wno-stringop-overflow -fstack-protector -fvisibility=hidden -O3\n",
            "  Dynamic linker:   /usr/bin/mpicc  -shared  -fPIC -Wall -Wwrite-strings -Wno-unknown-pragmas -Wno-lto-type-mismatch -Wno-stringop-overflow -fstack-protector -fvisibility=hidden -O3\n",
            "  Libraries linked against:   -lquadmath \n",
            "BlasLapack:\n",
            "  Libraries:  -llapack -lblas\n",
            "  Unknown if this uses OpenMP (try export OMP_NUM_THREADS=<1-4> yourprogram -log_view) \n",
            "  uses 4 byte integers\n",
            "MPI:\n",
            "  Version:    3\n",
            "  mpiexec: /usr/bin/mpiexec\n",
            "  Implementation: openmpi\n",
            "  MPI C++ include paths: -I/usr/lib/x86_64-linux-gnu/openmpi/include -I/usr/lib/x86_64-linux-gnu/openmpi/include/openmpi \n",
            "  MPI C++ libraries: -L/usr/lib/x86_64-linux-gnu/openmpi/lib  -lmpi \n",
            "  OMPI_VERSION: 4.1.2\n",
            "cuda:\n",
            "  Version:    11.8\n",
            "  Includes:   -I/usr/local/cuda/include\n",
            "  Libraries:  -Wl,-rpath,/usr/local/cuda/lib64 -L/usr/local/cuda/lib64 -L/usr/local/cuda/lib64/stubs -lcudart -lnvToolsExt -lcufft -lcublas -lcusparse -lcusolver -lcurand -lcuda\n",
            "  CUDA underlying compiler: CUDA_CXX=\"/usr/bin\"/mpicxx\n",
            "  CUDA underlying compiler flags: CUDA_CXXFLAGS=\n",
            "  CUDA underlying linker libraries: CUDA_CXXLIBS=\n",
            "python:\n",
            "  Executable: /usr/bin/python3\n",
            "pthread:\n",
            "cmake:\n",
            "  Version:    3.27.2\n",
            "  Executable: /usr/local/bin/cmake\n",
            "regex:\n",
            "PETSc:\n",
            "  Language used to compile PETSc: C\n",
            "  PETSC_ARCH: DPInt32\n",
            "  PETSC_DIR: /usr/lib/openfoam/openfoam2306/ThirdParty/sources/petsc-3.19.2\n",
            "  Prefix: /usr/lib/openfoam/openfoam2306/ThirdParty/platforms/linux64GccDPInt32/petsc-3.19.2\n",
            "  Scalar type: real\n",
            "  Precision: double\n",
            "  Support for __float128\n",
            "  Integer size: 4 bytes\n",
            "  Single library: yes\n",
            "  Shared libraries: yes\n",
            "  Memory alignment from malloc(): 16 bytes\n",
            "  Using GNU make: /usr/bin/gmake\n",
            "xxx=========================================================================xxx\n",
            " Configure stage complete. Now build PETSc libraries with:\n",
            "   make PETSC_DIR=/usr/lib/openfoam/openfoam2306/ThirdParty/sources/petsc-3.19.2 PETSC_ARCH=DPInt32 all\n",
            "xxx=========================================================================xxx\n",
            "+ set +x\n",
            "Configured: petsc\n",
            "/usr/bin/python3 ./config/gmakegen.py --petsc-arch=DPInt32\n",
            "gmake[3]: warning: jobserver unavailable: using -j1.  Add '+' to parent make rule.\n",
            "==========================================\n",
            " \n",
            "See documentation/faq.html and documentation/bugreporting.html\n",
            "for help with installation problems.  Please send EVERYTHING\n",
            "printed out below when reporting problems.  Please check the\n",
            "mailing list archives and consider subscribing.\n",
            " \n",
            "  https://petsc.org/release/community/mailing/\n",
            " \n",
            "==========================================\n",
            "Starting make run on 796c4ce57da3 at Fri, 08 Sep 2023 01:42:42 +0000\n",
            "Machine characteristics: Linux 796c4ce57da3 5.15.109+ #1 SMP Fri Jun 9 10:57:30 UTC 2023 x86_64 x86_64 x86_64 GNU/Linux\n",
            "-----------------------------------------\n",
            "Using PETSc directory: /usr/lib/openfoam/openfoam2306/ThirdParty/sources/petsc-3.19.2\n",
            "Using PETSc arch: DPInt32\n",
            "-----------------------------------------\n",
            "PETSC_VERSION_RELEASE    1\n",
            "PETSC_VERSION_MAJOR      3\n",
            "PETSC_VERSION_MINOR      19\n",
            "PETSC_VERSION_SUBMINOR   2\n",
            "PETSC_VERSION_DATE       \"Jun 01, 2023\"\n",
            "PETSC_VERSION_GIT        \"v3.19.2\"\n",
            "PETSC_VERSION_DATE_GIT   \"2023-06-01 02:11:14 +0530\"\n",
            "-----------------------------------------\n",
            "Using configure Options: --prefix=/usr/lib/openfoam/openfoam2306/ThirdParty/platforms/linux64GccDPInt32/petsc-3.19.2 --PETSC_DIR=/usr/lib/openfoam/openfoam2306/ThirdParty/sources/petsc-3.19.2 --with-petsc-arch=DPInt32 --with-clanguage=C --with-fc=0 --with-x=0 --with-cc=/usr/bin/mpicc --with-cxx=/usr/bin/mpicxx --with-debugging=0 --COPTFLAGS=-O3 --CXXOPTFLAGS=-O3 --with-shared-libraries --with-64-bit-indices=0 --with-precision=double --with-hypre=0 --with-cuda\n",
            "Using configuration flags:\n",
            "#define PETSC_ARCH \"\"\n",
            "#define PETSC_ATTRIBUTEALIGNED(size) __attribute((aligned(size)))\n",
            "#define PETSC_BLASLAPACK_UNDERSCORE 1\n",
            "#define PETSC_CLANGUAGE_C 1\n",
            "#define PETSC_CXX_RESTRICT __restrict\n",
            "#define PETSC_DEPRECATED_ENUM(why) __attribute__((deprecated(why)))\n",
            "#define PETSC_DEPRECATED_FUNCTION(why) __attribute__((deprecated(why)))\n",
            "#define PETSC_DEPRECATED_MACRO(why) _Pragma(why)\n",
            "#define PETSC_DEPRECATED_TYPEDEF(why) __attribute__((deprecated(why)))\n",
            "#define PETSC_DIR \"/usr/lib/openfoam/openfoam2306/ThirdParty/platforms/linux64GccDPInt32/petsc-3.19.2\"\n",
            "#define PETSC_DIR_SEPARATOR '/'\n",
            "#define PETSC_FUNCTION_NAME_C __func__\n",
            "#define PETSC_FUNCTION_NAME_CXX __func__\n",
            "#define PETSC_HAVE_ACCESS 1\n",
            "#define PETSC_HAVE_ATOLL 1\n",
            "#define PETSC_HAVE_ATTRIBUTEALIGNED 1\n",
            "#define PETSC_HAVE_BUILTIN_EXPECT 1\n",
            "#define PETSC_HAVE_BZERO 1\n",
            "#define PETSC_HAVE_C99_COMPLEX 1\n",
            "#define PETSC_HAVE_CLOCK 1\n",
            "#define PETSC_HAVE_CUDA 1\n",
            "#define PETSC_HAVE_CUDA_DIALECT_CXX11 1\n",
            "#define PETSC_HAVE_CUDA_DIALECT_CXX14 1\n",
            "#define PETSC_HAVE_CUDA_DIALECT_CXX17 1\n",
            "#define PETSC_HAVE_CUDA_VERSION_11PLUS 1\n",
            "#define PETSC_HAVE_CUPM 1\n",
            "#define PETSC_HAVE_CXX 1\n",
            "#define PETSC_HAVE_CXX_ATOMIC 1\n",
            "#define PETSC_HAVE_CXX_COMPLEX 1\n",
            "#define PETSC_HAVE_CXX_COMPLEX_FIX 1\n",
            "#define PETSC_HAVE_CXX_DIALECT_CXX11 1\n",
            "#define PETSC_HAVE_CXX_DIALECT_CXX14 1\n",
            "#define PETSC_HAVE_CXX_DIALECT_CXX17 1\n",
            "#define PETSC_HAVE_CXX_DIALECT_CXX20 1\n",
            "#define PETSC_HAVE_DEVICE 1\n",
            "#define PETSC_HAVE_DLADDR 1\n",
            "#define PETSC_HAVE_DLCLOSE 1\n",
            "#define PETSC_HAVE_DLERROR 1\n",
            "#define PETSC_HAVE_DLFCN_H 1\n",
            "#define PETSC_HAVE_DLOPEN 1\n",
            "#define PETSC_HAVE_DLSYM 1\n",
            "#define PETSC_HAVE_DOUBLE_ALIGN_MALLOC 1\n",
            "#define PETSC_HAVE_DRAND48 1\n",
            "#define PETSC_HAVE_DYNAMIC_LIBRARIES 1\n",
            "#define PETSC_HAVE_ERF 1\n",
            "#define PETSC_HAVE_EXECUTABLE_EXPORT 1\n",
            "#define PETSC_HAVE_FCNTL_H 1\n",
            "#define PETSC_HAVE_FENV_H 1\n",
            "#define PETSC_HAVE_FE_VALUES 1\n",
            "#define PETSC_HAVE_FLOAT_H 1\n",
            "#define PETSC_HAVE_FORK 1\n",
            "#define PETSC_HAVE_GETCWD 1\n",
            "#define PETSC_HAVE_GETDOMAINNAME 1\n",
            "#define PETSC_HAVE_GETHOSTBYNAME 1\n",
            "#define PETSC_HAVE_GETHOSTNAME 1\n",
            "#define PETSC_HAVE_GETPAGESIZE 1\n",
            "#define PETSC_HAVE_GETRUSAGE 1\n",
            "#define PETSC_HAVE_IMMINTRIN_H 1\n",
            "#define PETSC_HAVE_INTTYPES_H 1\n",
            "#define PETSC_HAVE_ISINF 1\n",
            "#define PETSC_HAVE_ISNAN 1\n",
            "#define PETSC_HAVE_ISNORMAL 1\n",
            "#define PETSC_HAVE_LGAMMA 1\n",
            "#define PETSC_HAVE_LOG2 1\n",
            "#define PETSC_HAVE_LSEEK 1\n",
            "#define PETSC_HAVE_MALLOC_H 1\n",
            "#define PETSC_HAVE_MEMMOVE 1\n",
            "#define PETSC_HAVE_MKSTEMP 1\n",
            "#define PETSC_HAVE_MMAP 1\n",
            "#define PETSC_HAVE_MPIIO 1\n",
            "#define PETSC_HAVE_MPI_COMBINER_CONTIGUOUS 1\n",
            "#define PETSC_HAVE_MPI_COMBINER_DUP 1\n",
            "#define PETSC_HAVE_MPI_COMBINER_NAMED 1\n",
            "#define PETSC_HAVE_MPI_F90MODULE_VISIBILITY 1\n",
            "#define PETSC_HAVE_MPI_GET_ACCUMULATE 1\n",
            "#define PETSC_HAVE_MPI_GET_LIBRARY_VERSION 1\n",
            "#define PETSC_HAVE_MPI_INIT_THREAD 1\n",
            "#define PETSC_HAVE_MPI_INT64_T 1\n",
            "#define PETSC_HAVE_MPI_LONG_DOUBLE 1\n",
            "#define PETSC_HAVE_MPI_NEIGHBORHOOD_COLLECTIVES 1\n",
            "#define PETSC_HAVE_MPI_NONBLOCKING_COLLECTIVES 1\n",
            "#define PETSC_HAVE_MPI_ONE_SIDED 1\n",
            "#define PETSC_HAVE_MPI_PROCESS_SHARED_MEMORY 1\n",
            "#define PETSC_HAVE_MPI_REDUCE_LOCAL 1\n",
            "#define PETSC_HAVE_MPI_REDUCE_SCATTER_BLOCK 1\n",
            "#define PETSC_HAVE_MPI_RGET 1\n",
            "#define PETSC_HAVE_MPI_WIN_CREATE 1\n",
            "#define PETSC_HAVE_NANOSLEEP 1\n",
            "#define PETSC_HAVE_NETDB_H 1\n",
            "#define PETSC_HAVE_NETINET_IN_H 1\n",
            "#define PETSC_HAVE_OMPI_MAJOR_VERSION 4\n",
            "#define PETSC_HAVE_OMPI_MINOR_VERSION 1\n",
            "#define PETSC_HAVE_OMPI_RELEASE_VERSION 2\n",
            "#define PETSC_HAVE_PACKAGES \":blaslapack:cuda:mathlib:mpi:pthread:regex:\"\n",
            "#define PETSC_HAVE_POPEN 1\n",
            "#define PETSC_HAVE_POSIX_MEMALIGN 1\n",
            "#define PETSC_HAVE_PTHREAD 1\n",
            "#define PETSC_HAVE_PWD_H 1\n",
            "#define PETSC_HAVE_RAND 1\n",
            "#define PETSC_HAVE_READLINK 1\n",
            "#define PETSC_HAVE_REALPATH 1\n",
            "#define PETSC_HAVE_REAL___FLOAT128 1\n",
            "#define PETSC_HAVE_REGEX 1\n",
            "#define PETSC_HAVE_RTLD_GLOBAL 1\n",
            "#define PETSC_HAVE_RTLD_LAZY 1\n",
            "#define PETSC_HAVE_RTLD_LOCAL 1\n",
            "#define PETSC_HAVE_RTLD_NOW 1\n",
            "#define PETSC_HAVE_SETJMP_H 1\n",
            "#define PETSC_HAVE_SLEEP 1\n",
            "#define PETSC_HAVE_SNPRINTF 1\n",
            "#define PETSC_HAVE_SOCKET 1\n",
            "#define PETSC_HAVE_SO_REUSEADDR 1\n",
            "#define PETSC_HAVE_STDATOMIC_H 1\n",
            "#define PETSC_HAVE_STDINT_H 1\n",
            "#define PETSC_HAVE_STRCASECMP 1\n",
            "#define PETSC_HAVE_STRINGS_H 1\n",
            "#define PETSC_HAVE_STRUCT_SIGACTION 1\n",
            "#define PETSC_HAVE_SYS_PARAM_H 1\n",
            "#define PETSC_HAVE_SYS_PROCFS_H 1\n",
            "#define PETSC_HAVE_SYS_RESOURCE_H 1\n",
            "#define PETSC_HAVE_SYS_SOCKET_H 1\n",
            "#define PETSC_HAVE_SYS_TIMES_H 1\n",
            "#define PETSC_HAVE_SYS_TIME_H 1\n",
            "#define PETSC_HAVE_SYS_TYPES_H 1\n",
            "#define PETSC_HAVE_SYS_UTSNAME_H 1\n",
            "#define PETSC_HAVE_SYS_WAIT_H 1\n",
            "#define PETSC_HAVE_TAU_PERFSTUBS 1\n",
            "#define PETSC_HAVE_TGAMMA 1\n",
            "#define PETSC_HAVE_TIME 1\n",
            "#define PETSC_HAVE_TIME_H 1\n",
            "#define PETSC_HAVE_UNAME 1\n",
            "#define PETSC_HAVE_UNISTD_H 1\n",
            "#define PETSC_HAVE_USLEEP 1\n",
            "#define PETSC_HAVE_VA_COPY 1\n",
            "#define PETSC_HAVE_VSNPRINTF 1\n",
            "#define PETSC_HAVE_XMMINTRIN_H 1\n",
            "#define PETSC_INTPTR_T intptr_t\n",
            "#define PETSC_INTPTR_T_FMT \"#\" PRIxPTR\n",
            "#define PETSC_IS_COLORING_MAX USHRT_MAX\n",
            "#define PETSC_IS_COLORING_VALUE_TYPE short\n",
            "#define PETSC_IS_COLORING_VALUE_TYPE_F integer2\n",
            "#define PETSC_LEVEL1_DCACHE_LINESIZE 64\n",
            "#define PETSC_LIB_DIR \"/usr/lib/openfoam/openfoam2306/ThirdParty/platforms/linux64GccDPInt32/petsc-3.19.2/lib\"\n",
            "#define PETSC_MAX_PATH_LEN 4096\n",
            "#define PETSC_MEMALIGN 16\n",
            "#define PETSC_MPICC_SHOW \"gcc -I/usr/lib/x86_64-linux-gnu/openmpi/include -I/usr/lib/x86_64-linux-gnu/openmpi/include/openmpi -L/usr/lib/x86_64-linux-gnu/openmpi/lib -lmpi\"\n",
            "#define PETSC_MPIU_IS_COLORING_VALUE_TYPE MPI_UNSIGNED_SHORT\n",
            "#define PETSC_OMAKE \"/usr/bin/gmake --no-print-directory\"\n",
            "#define PETSC_PREFETCH_HINT_NTA _MM_HINT_NTA\n",
            "#define PETSC_PREFETCH_HINT_T0 _MM_HINT_T0\n",
            "#define PETSC_PREFETCH_HINT_T1 _MM_HINT_T1\n",
            "#define PETSC_PREFETCH_HINT_T2 _MM_HINT_T2\n",
            "#define PETSC_PYTHON_EXE \"/usr/bin/python3\"\n",
            "#define PETSC_Prefetch(a,b,c) _mm_prefetch((const char*)(a),(c))\n",
            "#define PETSC_REPLACE_DIR_SEPARATOR '\\\\'\n",
            "#define PETSC_SIGNAL_CAST  \n",
            "#define PETSC_SIZEOF_INT 4\n",
            "#define PETSC_SIZEOF_LONG 8\n",
            "#define PETSC_SIZEOF_LONG_LONG 8\n",
            "#define PETSC_SIZEOF_SIZE_T 8\n",
            "#define PETSC_SIZEOF_VOID_P 8\n",
            "#define PETSC_SLSUFFIX \"so\"\n",
            "#define PETSC_UINTPTR_T uintptr_t\n",
            "#define PETSC_UINTPTR_T_FMT \"#\" PRIxPTR\n",
            "#define PETSC_UNUSED __attribute((unused))\n",
            "#define PETSC_USE_AVX512_KERNELS 1\n",
            "#define PETSC_USE_BACKWARD_LOOP 1\n",
            "#define PETSC_USE_CTABLE 1\n",
            "#define PETSC_USE_DMLANDAU_2D 1\n",
            "#define PETSC_USE_INFO 1\n",
            "#define PETSC_USE_ISATTY 1\n",
            "#define PETSC_USE_LOG 1\n",
            "#define PETSC_USE_MALLOC_COALESCED 1\n",
            "#define PETSC_USE_PROC_FOR_SIZE 1\n",
            "#define PETSC_USE_REAL_DOUBLE 1\n",
            "#define PETSC_USE_SHARED_LIBRARIES 1\n",
            "#define PETSC_USE_SINGLE_LIBRARY 1\n",
            "#define PETSC_USE_SOCKET_VIEWER 1\n",
            "#define PETSC_USE_VISIBILITY_C 1\n",
            "#define PETSC_USE_VISIBILITY_CXX 1\n",
            "#define PETSC_USING_64BIT_PTR 1\n",
            "#define PETSC__BSD_SOURCE 1\n",
            "#define PETSC__DEFAULT_SOURCE 1\n",
            "#define PETSC__GNU_SOURCE 1\n",
            "-----------------------------------------\n",
            "Using C compile: /usr/bin/mpicc -o .o -c -fPIC -Wall -Wwrite-strings -Wno-unknown-pragmas -Wno-lto-type-mismatch -Wno-stringop-overflow -fstack-protector -fvisibility=hidden -O3  \n",
            "mpicc -show: gcc -I/usr/lib/x86_64-linux-gnu/openmpi/include -I/usr/lib/x86_64-linux-gnu/openmpi/include/openmpi -L/usr/lib/x86_64-linux-gnu/openmpi/lib -lmpi\n",
            "C compiler version: gcc (Ubuntu 11.4.0-1ubuntu1~22.04) 11.4.0\n",
            "Using C++ compile: /usr/bin/mpicxx -o .o -c -Wall -Wwrite-strings -Wno-strict-aliasing -Wno-unknown-pragmas -Wno-lto-type-mismatch -Wno-psabi -fstack-protector -fvisibility=hidden -O3  -std=gnu++20 -fPIC  -I/usr/lib/openfoam/openfoam2306/ThirdParty/sources/petsc-3.19.2/include -I/usr/lib/openfoam/openfoam2306/ThirdParty/sources/petsc-3.19.2/DPInt32/include -I/usr/local/cuda/include   \n",
            "mpicxx -show: g++ -I/usr/lib/x86_64-linux-gnu/openmpi/include -I/usr/lib/x86_64-linux-gnu/openmpi/include/openmpi -L/usr/lib/x86_64-linux-gnu/openmpi/lib -lmpi_cxx -lmpi\n",
            "C++ compiler version: g++ (Ubuntu 11.4.0-1ubuntu1~22.04) 11.4.0\n",
            "Using CUDA compile: nvcc -o .o -c -I/usr/lib/x86_64-linux-gnu/openmpi/include -I/usr/lib/x86_64-linux-gnu/openmpi/include/openmpi  -ccbin /usr/bin/mpicxx -std=c++17 -Xcompiler -fPIC -O3      -I/usr/lib/openfoam/openfoam2306/ThirdParty/sources/petsc-3.19.2/include -I/usr/lib/openfoam/openfoam2306/ThirdParty/sources/petsc-3.19.2/DPInt32/include -I/usr/local/cuda/include   \n",
            "-----------------------------------------\n",
            "Using C/C++ linker: /usr/bin/mpicc\n",
            "Using C/C++ flags: -fPIC -Wall -Wwrite-strings -Wno-unknown-pragmas -Wno-lto-type-mismatch -Wno-stringop-overflow -fstack-protector -fvisibility=hidden -O3\n",
            "-----------------------------------------\n",
            "Using system modules: \n",
            "Using mpi.h: # 1 \"/usr/lib/x86_64-linux-gnu/openmpi/include/mpi.h\" 1\n",
            "-----------------------------------------\n",
            "Using libraries: -Wl,-rpath,/usr/lib/openfoam/openfoam2306/ThirdParty/sources/petsc-3.19.2/DPInt32/lib -L/usr/lib/openfoam/openfoam2306/ThirdParty/sources/petsc-3.19.2/DPInt32/lib -Wl,-rpath,/usr/local/cuda/lib64 -L/usr/local/cuda/lib64 -L/usr/local/cuda/lib64/stubs -lpetsc -llapack -lblas -lm -lcudart -lnvToolsExt -lcufft -lcublas -lcusparse -lcusolver -lcurand -lcuda -lstdc++ -lquadmath\n",
            "------------------------------------------\n",
            "Using mpiexec: /usr/bin/mpiexec\n",
            "------------------------------------------\n",
            "Using MAKE: /usr/bin/gmake\n",
            "Default MAKEFLAGS: MAKE_NP:2 MAKE_LOAD:3.0 MAKEFLAGS: -j1 --no-print-directory -- PETSC_DIR=/usr/lib/openfoam/openfoam2306/ThirdParty/sources/petsc-3.19.2 PETSC_ARCH=DPInt32\n",
            "==========================================\n",
            "/usr/bin/gmake --print-directory -f gmakefile -l3.0 --output-sync=recurse V= libs\n",
            "        CXX DPInt32/obj/sys/dll/cxx/demangle.o\n",
            "        CXX DPInt32/obj/sys/objects/device/interface/dcontext.o\n",
            "      CUDAC DPInt32/obj/sys/classes/random/impls/curand/curand2.o\n",
            "  CUDAC.dep DPInt32/obj/sys/classes/random/impls/curand/curand2.o\n",
            "        CXX DPInt32/obj/sys/objects/device/interface/device.o\n",
            "        CXX DPInt32/obj/sys/objects/device/interface/global_dcontext.o\n",
            "        CXX DPInt32/obj/sys/objects/device/interface/memory.o\n",
            "        CXX DPInt32/obj/sys/objects/device/impls/cupm/cupmblasinterface.o\n",
            "        CXX DPInt32/obj/sys/objects/device/interface/mark_dcontext.o\n",
            "        CXX DPInt32/obj/sys/objects/device/impls/cupm/cupmdevice.o\n",
            "        CXX DPInt32/obj/sys/objects/device/impls/cupm/cupminterface.o\n",
            "        CXX DPInt32/obj/sys/objects/device/impls/host/hostcontext.o\n",
            "        CXX DPInt32/obj/sys/objects/device/impls/cupm/cupmsolverinterface.o\n",
            "         CC DPInt32/obj/sys/python/pythonsys.o\n",
            "         CC DPInt32/obj/sys/time/cputime.o\n",
            "         CC DPInt32/obj/sys/time/fdate.o\n",
            "         CC DPInt32/obj/sys/dll/dl.o\n",
            "        CXX DPInt32/obj/sys/objects/device/impls/host/hostdevice.o\n",
            "         CC DPInt32/obj/sys/dll/dlimpl.o\n",
            "         CC DPInt32/obj/sys/utils/arch.o\n",
            "         CC DPInt32/obj/sys/dll/reg.o\n",
            "         CC DPInt32/obj/sys/utils/ctable.o\n",
            "         CC DPInt32/obj/sys/utils/fhost.o\n",
            "         CC DPInt32/obj/sys/utils/fuser.o\n",
            "         CC DPInt32/obj/sys/utils/mathclose.o\n",
            "         CC DPInt32/obj/sys/utils/matheq.o\n",
            "         CC DPInt32/obj/sys/utils/mathinf.o\n",
            "         CC DPInt32/obj/sys/utils/mathfit.o\n",
            "         CC DPInt32/obj/sys/utils/memc.o\n",
            "         CC DPInt32/obj/sys/utils/mpilong.o\n",
            "         CC DPInt32/obj/sys/utils/mpishm.o\n",
            "         CC DPInt32/obj/sys/utils/mpitr.o\n",
            "         CC DPInt32/obj/sys/utils/mpimesg.o\n",
            "         CC DPInt32/obj/sys/utils/mpiu.o\n",
            "         CC DPInt32/obj/sys/utils/pbarrier.o\n",
            "         CC DPInt32/obj/sys/utils/pdisplay.o\n",
            "         CC DPInt32/obj/sys/utils/mpits.o\n",
            "         CC DPInt32/obj/sys/utils/psleep.o\n",
            "         CC DPInt32/obj/sys/utils/psplit.o\n",
            "         CC DPInt32/obj/sys/utils/segbuffer.o\n",
            "         CC DPInt32/obj/sys/utils/sortd.o\n",
            "         CC DPInt32/obj/sys/utils/sortip.o\n",
            "         CC DPInt32/obj/sys/utils/sorti.o\n",
            "         CC DPInt32/obj/sys/utils/sseenabled.o\n",
            "         CC DPInt32/obj/sys/utils/str.o\n",
            "         CC DPInt32/obj/sys/utils/sortso.o\n",
            "         CC DPInt32/obj/sys/objects/destroy.o\n",
            "         CC DPInt32/obj/sys/objects/aoptions.o\n",
            "         CC DPInt32/obj/sys/objects/fcallback.o\n",
            "         CC DPInt32/obj/sys/objects/gcomm.o\n",
            "         CC DPInt32/obj/sys/objects/gcookie.o\n",
            "         CC DPInt32/obj/sys/objects/gtype.o\n",
            "         CC DPInt32/obj/sys/objects/garbage.o\n",
            "         CC DPInt32/obj/sys/objects/inherit.o\n",
            "         CC DPInt32/obj/sys/objects/olist.o\n",
            "         CC DPInt32/obj/sys/objects/init.o\n",
            "         CC DPInt32/obj/sys/objects/options.o\n",
            "         CC DPInt32/obj/sys/objects/package.o\n",
            "         CC DPInt32/obj/sys/objects/pgname.o\n",
            "         CC DPInt32/obj/sys/objects/pinit.o\n",
            "         CC DPInt32/obj/sys/objects/optionsyaml.o\n",
            "         CC DPInt32/obj/sys/objects/pname.o\n",
            "         CC DPInt32/obj/sys/objects/prefix.o\n",
            "         CC DPInt32/obj/sys/objects/ptype.o\n",
            "         CC DPInt32/obj/sys/objects/state.o\n",
            "         CC DPInt32/obj/sys/objects/subcomm.o\n",
            "         CC DPInt32/obj/sys/objects/tagm.o\n",
            "         CC DPInt32/obj/sys/objects/version.o\n",
            "         CC DPInt32/obj/sys/objects/device/util/devicereg.o\n",
            "         CC DPInt32/obj/sys/objects/device/util/memory.o\n",
            "         CC DPInt32/obj/sys/error/checkptr.o\n",
            "         CC DPInt32/obj/sys/error/adebug.o\n",
            "         CC DPInt32/obj/sys/error/errabort.o\n",
            "         CC DPInt32/obj/sys/error/errstop.o\n",
            "         CC DPInt32/obj/sys/error/errtrace.o\n",
            "         CC DPInt32/obj/sys/error/fp.o\n",
            "         CC DPInt32/obj/sys/error/err.o\n",
            "         CC DPInt32/obj/sys/error/pstack.o\n",
            "         CC DPInt32/obj/sys/error/signal.o\n",
            "         CC DPInt32/obj/sys/classes/viewer/interface/dlregispetsc.o\n",
            "         CC DPInt32/obj/sys/classes/viewer/interface/dupl.o\n",
            "         CC DPInt32/obj/sys/classes/viewer/interface/flush.o\n",
            "         CC DPInt32/obj/sys/classes/viewer/interface/viewa.o\n",
            "         CC DPInt32/obj/sys/classes/viewer/interface/view.o\n",
            "         CC DPInt32/obj/sys/classes/viewer/interface/viewers.o\n",
            "         CC DPInt32/obj/sys/classes/viewer/interface/viewregall.o\n",
            "         CC DPInt32/obj/sys/classes/viewer/interface/viewreg.o\n",
            "         CC DPInt32/obj/sys/classes/viewer/impls/socket/send.o\n",
            "         CC DPInt32/obj/sys/classes/viewer/impls/vtk/vtkv.o\n",
            "         CC DPInt32/obj/sys/classes/viewer/impls/glvis/glvis.o\n",
            "         CC DPInt32/obj/sys/classes/viewer/impls/ascii/vcreatea.o\n",
            "         CC DPInt32/obj/sys/classes/viewer/impls/ascii/filev.o\n",
            "         CC DPInt32/obj/sys/classes/viewer/impls/draw/drawv.o\n",
            "         CC DPInt32/obj/sys/classes/viewer/impls/string/stringv.o\n",
            "         CC DPInt32/obj/sys/classes/viewer/impls/binary/binv.o\n",
            "         CC DPInt32/obj/sys/classes/viewer/impls/vu/petscvu.o\n",
            "         CC DPInt32/obj/sys/classes/random/interface/dlregisrand.o\n",
            "         CC DPInt32/obj/sys/classes/random/interface/random.o\n",
            "         CC DPInt32/obj/sys/classes/random/interface/randomc.o\n",
            "         CC DPInt32/obj/sys/classes/random/interface/randreg.o\n",
            "         CC DPInt32/obj/sys/classes/random/impls/rand/rand.o\n",
            "         CC DPInt32/obj/sys/classes/random/impls/rander48/rander48.o\n",
            "         CC DPInt32/obj/sys/classes/random/impls/rand48/rand48.o\n",
            "         CC DPInt32/obj/sys/classes/random/impls/curand/curand.o\n",
            "         CC DPInt32/obj/sys/classes/draw/utils/axis.o\n",
            "         CC DPInt32/obj/sys/classes/draw/utils/bars.o\n",
            "         CC DPInt32/obj/sys/classes/draw/utils/axisc.o\n",
            "         CC DPInt32/obj/sys/classes/draw/utils/cmap.o\n",
            "         CC DPInt32/obj/sys/classes/draw/utils/dscatter.o\n",
            "         CC DPInt32/obj/sys/classes/draw/utils/image.o\n",
            "         CC DPInt32/obj/sys/classes/draw/utils/hists.o\n",
            "         CC DPInt32/obj/sys/classes/draw/utils/lg.o\n",
            "         CC DPInt32/obj/sys/classes/draw/utils/zoom.o\n",
            "         CC DPInt32/obj/sys/classes/draw/utils/lgc.o\n",
            "         CC DPInt32/obj/sys/classes/draw/interface/dcoor.o\n",
            "         CC DPInt32/obj/sys/classes/draw/interface/dclear.o\n",
            "         CC DPInt32/obj/sys/classes/draw/interface/dellipse.o\n",
            "         CC DPInt32/obj/sys/classes/draw/interface/dflush.o\n",
            "         CC DPInt32/obj/sys/classes/draw/interface/dline.o\n",
            "         CC DPInt32/obj/sys/classes/draw/interface/dmarker.o\n",
            "         CC DPInt32/obj/sys/classes/draw/interface/dmouse.o\n",
            "         CC DPInt32/obj/sys/classes/draw/interface/dpause.o\n",
            "         CC DPInt32/obj/sys/classes/draw/interface/dpoint.o\n",
            "         CC DPInt32/obj/sys/classes/draw/interface/draw.o\n",
            "         CC DPInt32/obj/sys/classes/draw/interface/drawreg.o\n",
            "         CC DPInt32/obj/sys/classes/draw/interface/drawregall.o\n",
            "         CC DPInt32/obj/sys/classes/draw/interface/drect.o\n",
            "         CC DPInt32/obj/sys/classes/draw/interface/dsave.o\n",
            "         CC DPInt32/obj/sys/classes/draw/interface/dtext.o\n",
            "         CC DPInt32/obj/sys/classes/draw/interface/dtri.o\n",
            "         CC DPInt32/obj/sys/classes/draw/interface/dviewp.o\n",
            "         CC DPInt32/obj/sys/classes/draw/impls/null/drawnull.o\n",
            "         CC DPInt32/obj/sys/classes/draw/impls/tikz/tikz.o\n",
            "         CC DPInt32/obj/sys/classes/draw/impls/image/drawimage.o\n",
            "         CC DPInt32/obj/sys/classes/bag/bag.o\n",
            "         CC DPInt32/obj/sys/logging/xmllogevent.o\n",
            "         CC DPInt32/obj/sys/logging/xmlviewer.o\n",
            "         CC DPInt32/obj/sys/logging/utils/classlog.o\n",
            "         CC DPInt32/obj/sys/logging/utils/eventlog.o\n",
            "         CC DPInt32/obj/sys/logging/plog.o\n",
            "         CC DPInt32/obj/sys/logging/utils/stack.o\n",
            "         CC DPInt32/obj/sys/logging/utils/stagelog.o\n",
            "         CC DPInt32/obj/sys/info/verboseinfo.o\n",
            "         CC DPInt32/obj/sys/fileio/fdir.o\n",
            "         CC DPInt32/obj/sys/fileio/fpath.o\n",
            "         CC DPInt32/obj/sys/fileio/ftest.o\n",
            "         CC DPInt32/obj/sys/fileio/fwd.o\n",
            "         CC DPInt32/obj/sys/fileio/fretrieve.o\n",
            "         CC DPInt32/obj/sys/fileio/ghome.o\n",
            "         CC DPInt32/obj/sys/fileio/grpath.o\n",
            "         CC DPInt32/obj/sys/fileio/mpiuopen.o\n",
            "         CC DPInt32/obj/sys/fileio/rpath.o\n",
            "         CC DPInt32/obj/sys/fileio/smatlab.o\n",
            "         CC DPInt32/obj/sys/fileio/mprint.o\n",
            "         CC DPInt32/obj/sys/perfstubs/pstimer.o\n",
            "         CC DPInt32/obj/sys/memory/mal.o\n",
            "         CC DPInt32/obj/sys/memory/mem.o\n",
            "         CC DPInt32/obj/sys/fileio/sysio.o\n",
            "         CC DPInt32/obj/sys/memory/mhbw.o\n",
            "         CC DPInt32/obj/sys/totalview/tv_data_display.o\n",
            "         CC DPInt32/obj/sys/memory/mtr.o\n",
            "      CUDAC DPInt32/obj/sys/memory/cuda/mcudahost.o\n",
            "  CUDAC.dep DPInt32/obj/sys/memory/cuda/mcudahost.o\n",
            "         CC DPInt32/obj/vec/pf/interface/pf.o\n",
            "         CC DPInt32/obj/vec/pf/interface/pfall.o\n",
            "         CC DPInt32/obj/vec/pf/impls/string/cstring.o\n",
            "         CC DPInt32/obj/vec/pf/impls/constant/const.o\n",
            "         CC DPInt32/obj/vec/is/sf/utils/sfcoord.o\n",
            "         CC DPInt32/obj/vec/is/sf/utils/sfutils.o\n",
            "         CC DPInt32/obj/vec/is/sf/interface/dlregissf.o\n",
            "         CC DPInt32/obj/vec/is/sf/interface/sf.o\n",
            "         CC DPInt32/obj/vec/is/sf/interface/sfregi.o\n",
            "         CC DPInt32/obj/vec/is/sf/interface/sftype.o\n",
            "         CC DPInt32/obj/vec/is/sf/interface/vscat.o\n",
            "         CC DPInt32/obj/vec/is/sf/impls/window/sfwindow.o\n",
            "         CC DPInt32/obj/vec/is/sf/impls/basic/sfbasic.o\n",
            "         CC DPInt32/obj/vec/is/sf/impls/basic/sfmpi.o\n",
            "      CUDAC DPInt32/obj/sys/objects/device/impls/cupm/cuda/cupmcontext.o\n",
            "  CUDAC.dep DPInt32/obj/sys/objects/device/impls/cupm/cuda/cupmcontext.o\n",
            "         CC DPInt32/obj/vec/is/sf/impls/basic/alltoall/sfalltoall.o\n",
            "         CC DPInt32/obj/vec/is/sf/impls/basic/allgather/sfallgather.o\n",
            "         CC DPInt32/obj/vec/is/sf/impls/basic/neighbor/sfneighbor.o\n",
            "         CC DPInt32/obj/vec/is/sf/impls/basic/gatherv/sfgatherv.o\n",
            "         CC DPInt32/obj/vec/is/sf/impls/basic/gather/sfgather.o\n",
            "         CC DPInt32/obj/vec/is/sf/impls/basic/allgatherv/sfallgatherv.o\n",
            "         CC DPInt32/obj/vec/is/section/interface/section.o\n",
            "         CC DPInt32/obj/vec/is/section/interface/sectionhdf5.o\n",
            "         CC DPInt32/obj/vec/is/ao/interface/ao.o\n",
            "         CC DPInt32/obj/vec/is/ao/interface/aoreg.o\n",
            "         CC DPInt32/obj/vec/is/ao/interface/aoregall.o\n",
            "         CC DPInt32/obj/vec/is/ao/interface/dlregisdm.o\n",
            "         CC DPInt32/obj/vec/is/ao/impls/memscalable/aomemscalable.o\n",
            "         CC DPInt32/obj/vec/is/ao/impls/mapping/aomapping.o\n",
            "         CC DPInt32/obj/vec/is/ao/impls/basic/aobasic.o\n",
            "         CC DPInt32/obj/vec/is/utils/hdf5io.o\n",
            "         CC DPInt32/obj/vec/is/utils/isio.o\n",
            "         CC DPInt32/obj/vec/is/utils/isltog.o\n",
            "         CC DPInt32/obj/vec/is/utils/pmap.o\n",
            "         CC DPInt32/obj/vec/is/utils/psort.o\n",
            "         CC DPInt32/obj/vec/is/is/utils/isblock.o\n",
            "         CC DPInt32/obj/vec/is/is/utils/iscoloring.o\n",
            "         CC DPInt32/obj/vec/is/is/utils/iscomp.o\n",
            "         CC DPInt32/obj/vec/is/is/utils/isdiff.o\n",
            "         CC DPInt32/obj/vec/is/is/interface/index.o\n",
            "         CC DPInt32/obj/vec/is/is/interface/isreg.o\n",
            "         CC DPInt32/obj/vec/is/is/interface/isregall.o\n",
            "         CC DPInt32/obj/vec/is/is/impls/stride/stride.o\n",
            "         CC DPInt32/obj/vec/is/is/impls/general/general.o\n",
            "         CC DPInt32/obj/vec/is/is/impls/block/block.o\n",
            "         CC DPInt32/obj/vec/vec/utils/comb.o\n",
            "         CC DPInt32/obj/vec/vec/utils/projection.o\n",
            "         CC DPInt32/obj/vec/vec/utils/vecglvis.o\n",
            "         CC DPInt32/obj/vec/vec/utils/vecio.o\n",
            "         CC DPInt32/obj/vec/vec/utils/vecs.o\n",
            "         CC DPInt32/obj/vec/vec/utils/vecstash.o\n",
            "         CC DPInt32/obj/vec/vec/utils/vinv.o\n",
            "         CC DPInt32/obj/vec/vec/utils/vsection.o\n",
            "         CC DPInt32/obj/vec/vec/utils/tagger/interface/dlregistagger.o\n",
            "         CC DPInt32/obj/vec/vec/utils/tagger/interface/tagger.o\n",
            "         CC DPInt32/obj/vec/vec/utils/tagger/interface/taggerregi.o\n",
            "         CC DPInt32/obj/vec/vec/utils/tagger/impls/absolute.o\n",
            "         CC DPInt32/obj/vec/vec/utils/tagger/impls/and.o\n",
            "         CC DPInt32/obj/vec/vec/utils/tagger/impls/andor.o\n",
            "         CC DPInt32/obj/vec/vec/utils/tagger/impls/cdf.o\n",
            "         CC DPInt32/obj/vec/vec/utils/tagger/impls/or.o\n",
            "         CC DPInt32/obj/vec/vec/utils/tagger/impls/relative.o\n",
            "         CC DPInt32/obj/vec/vec/utils/tagger/impls/simple.o\n",
            "         CC DPInt32/obj/vec/vec/interface/dlregisvec.o\n",
            "         CC DPInt32/obj/vec/vec/interface/rvector.o\n",
            "         CC DPInt32/obj/vec/vec/interface/veccreate.o\n",
            "         CC DPInt32/obj/vec/vec/interface/vecreg.o\n",
            "         CC DPInt32/obj/vec/vec/interface/vecregall.o\n",
            "         CC DPInt32/obj/vec/vec/interface/vector.o\n",
            "         CC DPInt32/obj/vec/vec/impls/nest/vecnest.o\n",
            "         CC DPInt32/obj/vec/vec/impls/seq/bvec1.o\n",
            "         CC DPInt32/obj/vec/vec/impls/seq/bvec2.o\n",
            "         CC DPInt32/obj/vec/vec/impls/seq/bvec3.o\n",
            "         CC DPInt32/obj/vec/vec/impls/seq/dvec2.o\n",
            "         CC DPInt32/obj/vec/vec/impls/seq/vseqcr.o\n",
            "         CC DPInt32/obj/vec/vec/impls/shared/shvec.o\n",
            "         CC DPInt32/obj/vec/vec/impls/mpi/commonmpvec.o\n",
            "         CC DPInt32/obj/vec/vec/impls/mpi/pbvec.o\n",
            "         CC DPInt32/obj/vec/vec/impls/mpi/pdvec.o\n",
            "         CC DPInt32/obj/vec/vec/impls/mpi/pvec2.o\n",
            "         CC DPInt32/obj/vec/vec/impls/mpi/vmpicr.o\n",
            "         CC DPInt32/obj/vec/is/sf/impls/basic/sfpack.o\n",
            "      CUDAC DPInt32/obj/vec/is/sf/impls/basic/cuda/sfcuda.o\n",
            "  CUDAC.dep DPInt32/obj/vec/is/sf/impls/basic/cuda/sfcuda.o\n",
            "      CUDAC DPInt32/obj/vec/vec/impls/seq/cupm/cuda/vecseqcupm.o\n",
            "  CUDAC.dep DPInt32/obj/vec/vec/impls/seq/cupm/cuda/vecseqcupm.o\n",
            "         CC DPInt32/obj/mat/interface/dlregismat.o\n",
            "         CC DPInt32/obj/mat/interface/matnull.o\n",
            "         CC DPInt32/obj/mat/interface/matproduct.o\n",
            "         CC DPInt32/obj/mat/interface/matreg.o\n",
            "         CC DPInt32/obj/mat/interface/matregis.o\n",
            "         CC DPInt32/obj/mat/interface/matrix.o\n",
            "         CC DPInt32/obj/mat/matfd/fdmatrix.o\n",
            "         CC DPInt32/obj/mat/color/utils/bipartite.o\n",
            "         CC DPInt32/obj/mat/color/utils/valid.o\n",
            "         CC DPInt32/obj/mat/color/utils/weights.o\n",
            "         CC DPInt32/obj/mat/color/interface/matcoloring.o\n",
            "         CC DPInt32/obj/mat/color/interface/matcoloringregi.o\n",
            "         CC DPInt32/obj/mat/color/impls/minpack/color.o\n",
            "         CC DPInt32/obj/mat/color/impls/minpack/degr.o\n",
            "         CC DPInt32/obj/mat/color/impls/minpack/dsm.o\n",
            "         CC DPInt32/obj/mat/color/impls/minpack/ido.o\n",
            "         CC DPInt32/obj/mat/color/impls/minpack/numsrt.o\n",
            "         CC DPInt32/obj/mat/color/impls/minpack/seq.o\n",
            "         CC DPInt32/obj/mat/color/impls/minpack/setr.o\n",
            "         CC DPInt32/obj/mat/color/impls/minpack/slo.o\n",
            "      CUDAC DPInt32/obj/vec/vec/impls/mpi/cupm/cuda/vecmpicupm.o\n",
            "  CUDAC.dep DPInt32/obj/vec/vec/impls/mpi/cupm/cuda/vecmpicupm.o\n",
            "         CC DPInt32/obj/mat/color/impls/greedy/greedy.o\n",
            "         CC DPInt32/obj/mat/color/impls/power/power.o\n",
            "         CC DPInt32/obj/mat/color/impls/jp/jp.o\n",
            "         CC DPInt32/obj/mat/color/impls/natural/natural.o\n",
            "         CC DPInt32/obj/mat/coarsen/coarsen.o\n",
            "         CC DPInt32/obj/mat/coarsen/scoarsen.o\n",
            "         CC DPInt32/obj/mat/coarsen/impls/misk/misk.o\n",
            "         CC DPInt32/obj/mat/coarsen/impls/mis/mis.o\n",
            "         CC DPInt32/obj/mat/coarsen/impls/hem/hem.o\n",
            "         CC DPInt32/obj/mat/partition/spartition.o\n",
            "         CC DPInt32/obj/mat/partition/partition.o\n",
            "         CC DPInt32/obj/mat/utils/axpy.o\n",
            "         CC DPInt32/obj/mat/partition/impls/hierarchical/hierarchical.o\n",
            "         CC DPInt32/obj/mat/utils/bandwidth.o\n",
            "         CC DPInt32/obj/mat/utils/compressedrow.o\n",
            "         CC DPInt32/obj/mat/utils/convert.o\n",
            "         CC DPInt32/obj/mat/utils/freespace.o\n",
            "         CC DPInt32/obj/mat/utils/getcolv.o\n",
            "         CC DPInt32/obj/mat/utils/matio.o\n",
            "         CC DPInt32/obj/mat/utils/gcreate.o\n",
            "         CC DPInt32/obj/mat/utils/matstashspace.o\n",
            "         CC DPInt32/obj/mat/utils/multequal.o\n",
            "         CC DPInt32/obj/mat/utils/matstash.o\n",
            "         CC DPInt32/obj/mat/utils/overlapsplit.o\n",
            "         CC DPInt32/obj/mat/utils/pheap.o\n",
            "         CC DPInt32/obj/mat/utils/zerodiag.o\n",
            "         CC DPInt32/obj/mat/utils/zerorows.o\n",
            "         CC DPInt32/obj/mat/impls/blockmat/seq/blockmat.o\n",
            "         CC DPInt32/obj/mat/impls/sell/seq/fdsell.o\n",
            "         CC DPInt32/obj/mat/impls/nest/matnest.o\n",
            "         CC DPInt32/obj/mat/impls/sell/seq/sell.o\n",
            "         CC DPInt32/obj/mat/impls/sell/mpi/mmsell.o\n",
            "         CC DPInt32/obj/mat/impls/localref/mlocalref.o\n",
            "         CC DPInt32/obj/mat/impls/python/pythonmat.o\n",
            "         CC DPInt32/obj/mat/impls/preallocator/matpreallocator.o\n",
            "         CC DPInt32/obj/mat/impls/sell/mpi/mpisell.o\n",
            "         CC DPInt32/obj/mat/impls/shell/shellcnv.o\n",
            "         CC DPInt32/obj/mat/impls/fft/fft.o\n",
            "         CC DPInt32/obj/mat/impls/shell/shell.o\n",
            "         CC DPInt32/obj/mat/impls/mffd/mffddef.o\n",
            "         CC DPInt32/obj/mat/impls/mffd/mfregis.o\n",
            "         CC DPInt32/obj/mat/impls/mffd/mffd.o\n",
            "         CC DPInt32/obj/mat/impls/mffd/wp.o\n",
            "         CC DPInt32/obj/mat/impls/submat/submat.o\n",
            "         CC DPInt32/obj/mat/impls/scatter/mscatter.o\n",
            "         CC DPInt32/obj/mat/impls/transpose/htransm.o\n",
            "         CC DPInt32/obj/mat/impls/transpose/transm.o\n",
            "         CC DPInt32/obj/mat/impls/adj/mpi/mpiadj.o\n",
            "         CC DPInt32/obj/mat/impls/dense/seq/densehdf5.o\n",
            "         CC DPInt32/obj/mat/impls/dense/mpi/mmdense.o\n",
            "         CC DPInt32/obj/mat/impls/dense/seq/dense.o\n",
            "         CC DPInt32/obj/mat/impls/dense/mpi/mpidense.o\n",
            "         CC DPInt32/obj/mat/impls/normal/normmh.o\n",
            "         CC DPInt32/obj/mat/impls/normal/normm.o\n",
            "         CC DPInt32/obj/mat/impls/centering/centering.o\n",
            "         CC DPInt32/obj/mat/impls/baij/seq/aijbaij.o\n",
            "         CC DPInt32/obj/mat/impls/baij/seq/baij2.o\n",
            "         CC DPInt32/obj/mat/impls/baij/seq/baijfact.o\n",
            "         CC DPInt32/obj/mat/impls/baij/seq/baij.o\n",
            "         CC DPInt32/obj/mat/impls/baij/seq/baijfact11.o\n",
            "         CC DPInt32/obj/mat/impls/baij/seq/baijfact13.o\n",
            "         CC DPInt32/obj/mat/impls/baij/seq/baijfact3.o\n",
            "         CC DPInt32/obj/mat/impls/baij/seq/baijfact2.o\n",
            "         CC DPInt32/obj/mat/impls/baij/seq/baijfact4.o\n",
            "         CC DPInt32/obj/mat/impls/baij/seq/baijfact7.o\n",
            "         CC DPInt32/obj/mat/impls/baij/seq/baijfact81.o\n",
            "         CC DPInt32/obj/mat/impls/baij/seq/baijfact5.o\n",
            "         CC DPInt32/obj/mat/impls/baij/seq/baijfact9.o\n",
            "         CC DPInt32/obj/mat/impls/baij/seq/baijsolvnat1.o\n",
            "         CC DPInt32/obj/mat/impls/baij/seq/baijsolvnat11.o\n",
            "         CC DPInt32/obj/mat/impls/baij/seq/baijsolv.o\n",
            "         CC DPInt32/obj/mat/impls/baij/seq/baijsolvnat14.o\n",
            "         CC DPInt32/obj/mat/impls/baij/seq/baijsolvnat15.o\n",
            "         CC DPInt32/obj/mat/impls/baij/seq/baijsolvnat2.o\n",
            "         CC DPInt32/obj/mat/impls/baij/seq/baijsolvnat3.o\n",
            "         CC DPInt32/obj/mat/impls/baij/seq/baijsolvnat4.o\n",
            "         CC DPInt32/obj/mat/impls/baij/seq/baijsolvnat5.o\n",
            "         CC DPInt32/obj/mat/impls/baij/seq/baijsolvnat6.o\n",
            "         CC DPInt32/obj/mat/impls/baij/seq/baijsolvtran1.o\n",
            "         CC DPInt32/obj/mat/impls/baij/seq/baijsolvnat7.o\n",
            "         CC DPInt32/obj/mat/impls/baij/seq/baijsolvtran2.o\n",
            "         CC DPInt32/obj/mat/impls/baij/seq/baijsolvtran3.o\n",
            "         CC DPInt32/obj/mat/impls/baij/seq/baijsolvtran4.o\n",
            "         CC DPInt32/obj/mat/impls/baij/seq/baijsolvtran5.o\n",
            "         CC DPInt32/obj/mat/impls/baij/seq/baijsolvtran6.o\n",
            "         CC DPInt32/obj/mat/impls/baij/seq/baijsolvtran7.o\n",
            "         CC DPInt32/obj/mat/impls/baij/seq/baijsolvtrannat1.o\n",
            "         CC DPInt32/obj/mat/impls/baij/seq/baijsolvtrann.o\n",
            "         CC DPInt32/obj/mat/impls/baij/seq/baijsolvtrannat2.o\n",
            "         CC DPInt32/obj/mat/impls/baij/seq/baijsolvtrannat3.o\n",
            "         CC DPInt32/obj/mat/impls/baij/seq/baijsolvtrannat4.o\n",
            "         CC DPInt32/obj/mat/impls/baij/seq/baijsolvtrannat5.o\n",
            "         CC DPInt32/obj/mat/impls/baij/seq/baijsolvtrannat6.o\n",
            "         CC DPInt32/obj/mat/impls/baij/seq/baijsolvtrannat7.o\n",
            "         CC DPInt32/obj/mat/impls/baij/seq/dgedi.o\n",
            "         CC DPInt32/obj/mat/impls/baij/seq/dgefa.o\n",
            "         CC DPInt32/obj/mat/impls/baij/seq/dgefa3.o\n",
            "         CC DPInt32/obj/mat/impls/baij/seq/dgefa2.o\n",
            "         CC DPInt32/obj/mat/impls/baij/seq/dgefa4.o\n",
            "         CC DPInt32/obj/mat/impls/baij/seq/dgefa5.o\n",
            "         CC DPInt32/obj/mat/impls/baij/seq/dgefa6.o\n",
            "         CC DPInt32/obj/mat/impls/baij/seq/dgefa7.o\n",
            "         CC DPInt32/obj/mat/impls/baij/mpi/mmbaij.o\n",
            "         CC DPInt32/obj/mat/impls/baij/mpi/mpb_baij.o\n",
            "         CC DPInt32/obj/mat/impls/baij/mpi/mpiaijbaij.o\n",
            "         CC DPInt32/obj/mat/impls/baij/mpi/baijov.o\n",
            "         CC DPInt32/obj/mat/impls/lrc/lrc.o\n",
            "         CC DPInt32/obj/mat/impls/baij/mpi/mpibaij.o\n",
            "         CC DPInt32/obj/mat/impls/is/matis.o\n",
            "         CC DPInt32/obj/mat/impls/composite/mcomposite.o\n",
            "         CC DPInt32/obj/mat/impls/dummy/matdummy.o\n",
            "         CC DPInt32/obj/mat/impls/cdiagonal/cdiagonal.o\n",
            "         CC DPInt32/obj/mat/impls/kaij/kaij.o\n",
            "         CC DPInt32/obj/mat/impls/aij/seq/aijfact.o\n",
            "         CC DPInt32/obj/mat/impls/aij/seq/aijhdf5.o\n",
            "         CC DPInt32/obj/mat/impls/aij/seq/fdaij.o\n",
            "         CC DPInt32/obj/mat/impls/aij/seq/ij.o\n",
            "         CC DPInt32/obj/mat/impls/aij/seq/aij.o\n",
            "         CC DPInt32/obj/mat/impls/aij/seq/inode2.o\n",
            "         CC DPInt32/obj/mat/impls/aij/seq/matmatmatmult.o\n",
            "         CC DPInt32/obj/mat/impls/aij/seq/inode.o\n",
            "         CC DPInt32/obj/mat/impls/aij/seq/matptap.o\n",
            "         CC DPInt32/obj/mat/impls/aij/seq/matrart.o\n",
            "         CC DPInt32/obj/mat/impls/aij/seq/mattransposematmult.o\n",
            "         CC DPInt32/obj/mat/impls/aij/seq/matmatmult.o\n",
            "         CC DPInt32/obj/mat/impls/aij/seq/symtranspose.o\n",
            "         CC DPInt32/obj/mat/impls/aij/seq/aijsell/aijsell.o\n",
            "         CC DPInt32/obj/mat/impls/aij/seq/bas/basfactor.o\n",
            "         CC DPInt32/obj/mat/impls/aij/seq/crl/crl.o\n",
            "         CC DPInt32/obj/mat/impls/aij/seq/bas/spbas.o\n",
            "         CC DPInt32/obj/mat/impls/aij/seq/aijperm/aijperm.o\n",
            "         CC DPInt32/obj/mat/impls/aij/mpi/mmaij.o\n",
            "         CC DPInt32/obj/mat/impls/aij/mpi/fdmpiaij.o\n",
            "         CC DPInt32/obj/mat/impls/aij/mpi/mpb_aij.o\n",
            "         CC DPInt32/obj/mat/impls/aij/mpi/mpiaijpc.o\n",
            "         CC DPInt32/obj/mat/impls/aij/mpi/mpimatmatmatmult.o\n",
            "         CC DPInt32/obj/mat/impls/aij/mpi/mpimatmatmult.o\n",
            "         CC DPInt32/obj/mat/impls/aij/mpi/mpimattransposematmult.o\n",
            "         CC DPInt32/obj/mat/impls/aij/mpi/mpiaij.o\n",
            "         CC DPInt32/obj/mat/impls/aij/mpi/mpiov.o\n",
            "         CC DPInt32/obj/mat/impls/aij/mpi/crl/mcrl.o\n",
            "         CC DPInt32/obj/mat/impls/aij/mpi/aijsell/mpiaijsell.o\n",
            "         CC DPInt32/obj/mat/impls/aij/mpi/aijperm/mpiaijperm.o\n",
            "         CC DPInt32/obj/mat/impls/maij/maij.o\n",
            "         CC DPInt32/obj/mat/impls/sbaij/seq/aijsbaij.o\n",
            "         CC DPInt32/obj/mat/impls/aij/mpi/mpiptap.o\n",
            "         CC DPInt32/obj/mat/impls/sbaij/seq/sbaij2.o\n",
            "         CC DPInt32/obj/mat/impls/sbaij/seq/sbaij.o\n",
            "         CC DPInt32/obj/mat/impls/sbaij/seq/sbaijfact.o\n",
            "         CC DPInt32/obj/mat/impls/sbaij/seq/sbaijfact10.o\n",
            "         CC DPInt32/obj/mat/impls/sbaij/seq/sbaijfact11.o\n",
            "         CC DPInt32/obj/mat/impls/sbaij/seq/sbaijfact12.o\n",
            "         CC DPInt32/obj/mat/impls/sbaij/seq/sbaijfact3.o\n",
            "         CC DPInt32/obj/mat/impls/sbaij/seq/sbaijfact4.o\n",
            "         CC DPInt32/obj/mat/impls/sbaij/seq/sbaijfact5.o\n",
            "         CC DPInt32/obj/mat/impls/sbaij/seq/sbaijfact6.o\n",
            "         CC DPInt32/obj/mat/impls/sbaij/seq/sbaijfact7.o\n",
            "         CC DPInt32/obj/mat/impls/sbaij/seq/sbaijfact2.o\n",
            "         CC DPInt32/obj/mat/impls/sbaij/seq/sbaijfact8.o\n",
            "         CC DPInt32/obj/mat/impls/sbaij/seq/sbaijfact9.o\n",
            "         CC DPInt32/obj/mat/impls/sbaij/seq/sro.o\n",
            "         CC DPInt32/obj/mat/impls/sbaij/mpi/mmsbaij.o\n",
            "         CC DPInt32/obj/mat/impls/sbaij/mpi/mpiaijsbaij.o\n",
            "         CC DPInt32/obj/mat/impls/sbaij/mpi/mpisbaij.o\n",
            "         CC DPInt32/obj/mat/impls/sbaij/mpi/sbaijov.o\n",
            "         CC DPInt32/obj/mat/order/degree.o\n",
            "         CC DPInt32/obj/mat/order/fn1wd.o\n",
            "         CC DPInt32/obj/mat/order/fndsep.o\n",
            "         CC DPInt32/obj/mat/order/fnroot.o\n",
            "         CC DPInt32/obj/mat/order/gen1wd.o\n",
            "         CC DPInt32/obj/mat/order/gennd.o\n",
            "         CC DPInt32/obj/mat/order/genqmd.o\n",
            "         CC DPInt32/obj/mat/order/genrcm.o\n",
            "         CC DPInt32/obj/mat/order/qmdmrg.o\n",
            "         CC DPInt32/obj/mat/order/qmdqt.o\n",
            "         CC DPInt32/obj/mat/order/qmdrch.o\n",
            "         CC DPInt32/obj/mat/order/qmdupd.o\n",
            "         CC DPInt32/obj/mat/order/rcm.o\n",
            "         CC DPInt32/obj/mat/order/rootls.o\n",
            "         CC DPInt32/obj/mat/order/sorder.o\n",
            "         CC DPInt32/obj/mat/order/sp1wd.o\n",
            "         CC DPInt32/obj/mat/order/spectral.o\n",
            "         CC DPInt32/obj/mat/order/spnd.o\n",
            "         CC DPInt32/obj/mat/order/spqmd.o\n",
            "         CC DPInt32/obj/mat/order/sprcm.o\n",
            "         CC DPInt32/obj/mat/order/sregis.o\n",
            "         CC DPInt32/obj/mat/order/wbm.o\n",
            "      CUDAC DPInt32/obj/mat/impls/dense/mpi/cupm/cuda/matmpidensecuda.o\n",
            "  CUDAC.dep DPInt32/obj/mat/impls/dense/mpi/cupm/cuda/matmpidensecuda.o\n",
            "      CUDAC DPInt32/obj/mat/impls/dense/seq/cupm/cuda/matseqdensecuda.o\n",
            "  CUDAC.dep DPInt32/obj/mat/impls/dense/seq/cupm/cuda/matseqdensecuda.o\n",
            "      CUDAC DPInt32/obj/mat/impls/aij/seq/seqcusparse/aijcusparseband.o\n",
            "  CUDAC.dep DPInt32/obj/mat/impls/aij/seq/seqcusparse/aijcusparseband.o\n",
            "      CUDAC DPInt32/obj/mat/impls/aij/mpi/mpicusparse/mpiaijcusparse.o\n",
            "  CUDAC.dep DPInt32/obj/mat/impls/aij/mpi/mpicusparse/mpiaijcusparse.o\n",
            "         CC DPInt32/obj/dm/interface/dlregisdmdm.o\n",
            "      CUDAC DPInt32/obj/mat/impls/aij/seq/seqcusparse/aijcusparse.o\n",
            "  CUDAC.dep DPInt32/obj/mat/impls/aij/seq/seqcusparse/aijcusparse.o\n",
            "         CC DPInt32/obj/dm/interface/dmceed.o\n",
            "         CC DPInt32/obj/dm/interface/dmcoordinates.o\n",
            "         CC DPInt32/obj/dm/interface/dmgenerate.o\n",
            "         CC DPInt32/obj/dm/interface/dmget.o\n",
            "         CC DPInt32/obj/dm/interface/dmglvis.o\n",
            "         CC DPInt32/obj/dm/interface/dmi.o\n",
            "         CC DPInt32/obj/dm/interface/dmperiodicity.o\n",
            "         CC DPInt32/obj/dm/interface/dmregall.o\n",
            "         CC DPInt32/obj/dm/interface/dm.o\n",
            "         CC DPInt32/obj/dm/partitioner/interface/partitioner.o\n",
            "         CC DPInt32/obj/dm/partitioner/interface/partitionerreg.o\n",
            "         CC DPInt32/obj/dm/partitioner/impls/parmetis/partparmetis.o\n",
            "         CC DPInt32/obj/dm/partitioner/impls/shell/partshell.o\n",
            "         CC DPInt32/obj/dm/partitioner/impls/chaco/partchaco.o\n",
            "         CC DPInt32/obj/dm/partitioner/impls/matpart/partmatpart.o\n",
            "         CC DPInt32/obj/dm/partitioner/impls/simple/partsimple.o\n",
            "         CC DPInt32/obj/dm/partitioner/impls/gather/partgather.o\n",
            "         CC DPInt32/obj/dm/partitioner/impls/ptscotch/partptscotch.o\n",
            "         CC DPInt32/obj/dm/field/interface/dlregisdmfield.o\n",
            "         CC DPInt32/obj/dm/field/interface/dmfieldregi.o\n",
            "         CC DPInt32/obj/dm/field/interface/dmfield.o\n",
            "         CC DPInt32/obj/dm/field/impls/shell/dmfieldshell.o\n",
            "         CC DPInt32/obj/dm/field/impls/da/dmfieldda.o\n",
            "         CC DPInt32/obj/dm/field/impls/ds/dmfieldds.o\n",
            "         CC DPInt32/obj/dm/dt/fv/interface/fv.o\n",
            "         CC DPInt32/obj/dm/dt/fv/interface/fvceed.o\n",
            "         CC DPInt32/obj/dm/dt/interface/dtaltv.o\n",
            "         CC DPInt32/obj/dm/dt/interface/dt.o\n",
            "         CC DPInt32/obj/dm/dt/interface/dtprob.o\n",
            "         CC DPInt32/obj/dm/dt/interface/dtds.o\n",
            "         CC DPInt32/obj/dm/dt/dualspace/interface/dualspace.o\n",
            "         CC DPInt32/obj/dm/dt/interface/dtweakform.o\n",
            "         CC DPInt32/obj/dm/dt/dualspace/impls/simple/dspacesimple.o\n",
            "         CC DPInt32/obj/dm/dt/dualspace/impls/refined/dualspacerefined.o\n",
            "         CC DPInt32/obj/dm/dt/space/interface/space.o\n",
            "         CC DPInt32/obj/dm/dt/space/impls/subspace/spacesubspace.o\n",
            "         CC DPInt32/obj/dm/dt/space/impls/point/spacepoint.o\n",
            "         CC DPInt32/obj/dm/dt/space/impls/sum/spacesum.o\n",
            "         CC DPInt32/obj/dm/dt/space/impls/poly/spacepoly.o\n",
            "         CC DPInt32/obj/dm/dt/space/impls/wxy/spacewxy.o\n",
            "         CC DPInt32/obj/dm/dt/dualspace/impls/lagrange/dspacelagrange.o\n",
            "         CC DPInt32/obj/dm/dt/space/impls/ptrimmed/spaceptrimmed.o\n",
            "         CC DPInt32/obj/dm/dt/space/impls/tensor/spacetensor.o\n",
            "         CC DPInt32/obj/dm/dt/fe/interface/feceed.o\n",
            "         CC DPInt32/obj/dm/dt/fe/interface/fegeom.o\n",
            "         CC DPInt32/obj/dm/dt/fe/interface/fe.o\n",
            "         CC DPInt32/obj/dm/dt/fe/impls/composite/fecomposite.o\n",
            "         CC DPInt32/obj/dm/impls/stag/stag.o\n",
            "         CC DPInt32/obj/dm/dt/fe/impls/basic/febasic.o\n",
            "         CC DPInt32/obj/dm/impls/stag/stag1d.o\n",
            "         CC DPInt32/obj/dm/impls/stag/stag2d.o\n",
            "         CC DPInt32/obj/dm/impls/stag/stagda.o\n",
            "         CC DPInt32/obj/dm/impls/stag/stagintern.o\n",
            "         CC DPInt32/obj/dm/impls/stag/stagmulti.o\n",
            "         CC DPInt32/obj/dm/impls/stag/stagstencil.o\n",
            "         CC DPInt32/obj/dm/impls/stag/stagutils.o\n",
            "         CC DPInt32/obj/dm/impls/product/product.o\n",
            "         CC DPInt32/obj/dm/impls/product/productutils.o\n",
            "         CC DPInt32/obj/dm/impls/stag/stag3d.o\n",
            "         CC DPInt32/obj/dm/impls/network/networkcreate.o\n",
            "         CC DPInt32/obj/dm/impls/network/networkmonitor.o\n",
            "         CC DPInt32/obj/dm/impls/network/network.o\n",
            "         CC DPInt32/obj/dm/impls/network/networkview.o\n",
            "         CC DPInt32/obj/dm/impls/plex/plexadapt.o\n",
            "         CC DPInt32/obj/dm/impls/plex/plexceed.o\n",
            "         CC DPInt32/obj/dm/impls/plex/plexcgns.o\n",
            "         CC DPInt32/obj/dm/impls/plex/plexcheckinterface.o\n",
            "         CC DPInt32/obj/dm/impls/plex/plexcoarsen.o\n",
            "         CC DPInt32/obj/dm/impls/plex/plexcreate.o\n",
            "         CC DPInt32/obj/dm/impls/plex/plex.o\n",
            "         CC DPInt32/obj/dm/impls/plex/plexdistribute.o\n",
            "         CC DPInt32/obj/dm/impls/plex/plexegads.o\n",
            "         CC DPInt32/obj/dm/impls/plex/plexegadslite.o\n",
            "         CC DPInt32/obj/dm/impls/plex/plexexodusii.o\n",
            "         CC DPInt32/obj/dm/impls/plex/plexextrude.o\n",
            "         CC DPInt32/obj/dm/impls/plex/plexfluent.o\n",
            "         CC DPInt32/obj/dm/impls/plex/plexfvm.o\n",
            "         CC DPInt32/obj/dm/impls/plex/plexgenerate.o\n",
            "         CC DPInt32/obj/dm/impls/plex/plexgeometry.o\n",
            "         CC DPInt32/obj/dm/impls/plex/plexglvis.o\n",
            "         CC DPInt32/obj/dm/impls/plex/plexfem.o\n",
            "         CC DPInt32/obj/dm/impls/plex/plexhdf5.o\n",
            "         CC DPInt32/obj/dm/impls/plex/plexhdf5xdmf.o\n",
            "         CC DPInt32/obj/dm/impls/plex/plexhpddm.o\n",
            "         CC DPInt32/obj/dm/impls/plex/plexindices.o\n",
            "         CC DPInt32/obj/dm/impls/plex/plexinterpolate.o\n",
            "         CC DPInt32/obj/dm/impls/plex/plexmed.o\n",
            "         CC DPInt32/obj/dm/impls/plex/plexgmsh.o\n",
            "         CC DPInt32/obj/dm/impls/plex/plexmetric.o\n",
            "         CC DPInt32/obj/dm/impls/plex/plexnatural.o\n",
            "         CC DPInt32/obj/dm/impls/plex/plexorient.o\n",
            "         CC DPInt32/obj/dm/impls/plex/plexply.o\n",
            "         CC DPInt32/obj/dm/impls/plex/plexpoint.o\n",
            "         CC DPInt32/obj/dm/impls/plex/plexpartition.o\n",
            "         CC DPInt32/obj/dm/impls/plex/plexpreallocate.o\n",
            "         CC DPInt32/obj/dm/impls/plex/plexrefine.o\n",
            "         CC DPInt32/obj/dm/impls/plex/plexproject.o\n",
            "         CC DPInt32/obj/dm/impls/plex/plexreorder.o\n",
            "         CC DPInt32/obj/dm/impls/plex/plexsection.o\n",
            "         CC DPInt32/obj/dm/impls/plex/plexsfc.o\n",
            "         CC DPInt32/obj/dm/impls/plex/plexsubmesh.o\n",
            "         CC DPInt32/obj/dm/impls/plex/plexvtk.o\n",
            "         CC DPInt32/obj/dm/impls/plex/plextree.o\n",
            "         CC DPInt32/obj/dm/impls/plex/pointqueue.o\n",
            "         CC DPInt32/obj/dm/impls/plex/plexvtu.o\n",
            "         CC DPInt32/obj/dm/impls/plex/transform/interface/plextransform.o\n",
            "         CC DPInt32/obj/dm/impls/plex/transform/impls/extrude/plextrextrude.o\n",
            "         CC DPInt32/obj/dm/impls/plex/transform/impls/refine/tobox/plexreftobox.o\n",
            "         CC DPInt32/obj/dm/impls/plex/transform/impls/refine/regular/plexrefregular.o\n",
            "         CC DPInt32/obj/dm/impls/plex/transform/impls/refine/1d/plexref1d.o\n",
            "         CC DPInt32/obj/dm/impls/plex/transform/impls/refine/alfeld/plexrefalfeld.o\n",
            "         CC DPInt32/obj/dm/impls/plex/transform/impls/refine/sbr/plexrefsbr.o\n",
            "         CC DPInt32/obj/dm/impls/plex/transform/impls/refine/bl/plexrefbl.o\n",
            "         CC DPInt32/obj/dm/impls/plex/transform/impls/filter/plextrfilter.o\n",
            "         CC DPInt32/obj/dm/impls/sliced/sliced.o\n",
            "         CC DPInt32/obj/dm/impls/patch/patch.o\n",
            "         CC DPInt32/obj/dm/impls/patch/patchcreate.o\n",
            "         CC DPInt32/obj/dm/impls/shell/dmshell.o\n",
            "         CC DPInt32/obj/dm/impls/forest/forest.o\n",
            "         CC DPInt32/obj/dm/impls/redundant/dmredundant.o\n",
            "         CC DPInt32/obj/dm/impls/composite/packm.o\n",
            "         CC DPInt32/obj/dm/impls/composite/pack.o\n",
            "         CC DPInt32/obj/dm/impls/swarm/data_bucket.o\n",
            "         CC DPInt32/obj/dm/impls/swarm/data_ex.o\n",
            "         CC DPInt32/obj/dm/impls/swarm/swarm.o\n",
            "         CC DPInt32/obj/dm/impls/swarm/swarm_migrate.o\n",
            "         CC DPInt32/obj/dm/impls/swarm/swarmpic_da.o\n",
            "         CC DPInt32/obj/dm/impls/swarm/swarmpic.o\n",
            "         CC DPInt32/obj/dm/impls/swarm/swarmpic_sort.o\n",
            "         CC DPInt32/obj/dm/impls/swarm/swarmpic_plex.o\n",
            "         CC DPInt32/obj/dm/impls/swarm/swarmpic_view.o\n",
            "         CC DPInt32/obj/dm/impls/da/da.o\n",
            "         CC DPInt32/obj/dm/impls/da/da1.o\n",
            "         CC DPInt32/obj/dm/impls/da/da2.o\n",
            "         CC DPInt32/obj/dm/impls/da/dacorn.o\n",
            "         CC DPInt32/obj/dm/impls/da/dacreate.o\n",
            "         CC DPInt32/obj/dm/impls/da/dadd.o\n",
            "         CC DPInt32/obj/dm/impls/da/dadestroy.o\n",
            "         CC DPInt32/obj/dm/impls/da/da3.o\n",
            "         CC DPInt32/obj/dm/impls/da/dadist.o\n",
            "         CC DPInt32/obj/dm/impls/da/dageometry.o\n",
            "         CC DPInt32/obj/dm/impls/da/dagetarray.o\n",
            "         CC DPInt32/obj/dm/impls/da/daghost.o\n",
            "         CC DPInt32/obj/dm/impls/da/dagetelem.o\n",
            "         CC DPInt32/obj/dm/impls/da/dagtol.o\n",
            "         CC DPInt32/obj/dm/impls/da/dagtona.o\n",
            "         CC DPInt32/obj/dm/impls/da/daindex.o\n",
            "         CC DPInt32/obj/dm/impls/da/dalocal.o\n",
            "         CC DPInt32/obj/dm/impls/da/daltol.o\n",
            "         CC DPInt32/obj/dm/impls/da/dapf.o\n",
            "         CC DPInt32/obj/dm/impls/da/dapreallocate.o\n",
            "         CC DPInt32/obj/dm/impls/da/dainterp.o\n",
            "         CC DPInt32/obj/dm/impls/da/dareg.o\n",
            "         CC DPInt32/obj/dm/impls/da/dascatter.o\n",
            "         CC DPInt32/obj/dm/impls/da/daview.o\n",
            "         CC DPInt32/obj/dm/impls/da/dasub.o\n",
            "         CC DPInt32/obj/dm/impls/da/gr1.o\n",
            "         CC DPInt32/obj/dm/impls/da/gr2.o\n",
            "         CC DPInt32/obj/dm/impls/da/grglvis.o\n",
            "         CC DPInt32/obj/dm/impls/da/grvtk.o\n",
            "         CC DPInt32/obj/dm/impls/da/fdda.o\n",
            "         CC DPInt32/obj/dm/label/impls/ephemeral/dmlabeleph.o\n",
            "         CC DPInt32/obj/dm/label/impls/ephemeral/plex/dmlabelephplex.o\n",
            "         CC DPInt32/obj/ksp/ksp/utils/dmproject.o\n",
            "         CC DPInt32/obj/ksp/ksp/utils/kspmatregi.o\n",
            "         CC DPInt32/obj/ksp/ksp/utils/schurm/schurm.o\n",
            "         CC DPInt32/obj/dm/label/dmlabel.o\n",
            "         CC DPInt32/obj/ksp/ksp/utils/lmvm/lmvmimpl.o\n",
            "         CC DPInt32/obj/ksp/ksp/utils/lmvm/lmvmutils.o\n",
            "         CC DPInt32/obj/ksp/ksp/utils/lmvm/brdn/badbrdn.o\n",
            "         CC DPInt32/obj/ksp/ksp/utils/lmvm/brdn/brdn.o\n",
            "         CC DPInt32/obj/ksp/ksp/utils/lmvm/dfp/dfp.o\n",
            "         CC DPInt32/obj/ksp/ksp/utils/lmvm/sr1/sr1.o\n",
            "         CC DPInt32/obj/ksp/ksp/utils/lmvm/symbrdn/symbadbrdn.o\n",
            "         CC DPInt32/obj/ksp/ksp/utils/lmvm/symbrdn/symbrdn.o\n",
            "         CC DPInt32/obj/ksp/ksp/utils/lmvm/diagbrdn/diagbrdn.o\n",
            "         CC DPInt32/obj/ksp/ksp/utils/lmvm/bfgs/bfgs.o\n",
            "         CC DPInt32/obj/ksp/ksp/guess/impls/pod/pod.o\n",
            "         CC DPInt32/obj/ksp/ksp/guess/impls/fischer/fischer.o\n",
            "         CC DPInt32/obj/ksp/ksp/interface/dlregisksp.o\n",
            "         CC DPInt32/obj/ksp/ksp/interface/dmksp.o\n",
            "         CC DPInt32/obj/ksp/ksp/interface/eige.o\n",
            "         CC DPInt32/obj/ksp/ksp/interface/iguess.o\n",
            "         CC DPInt32/obj/ksp/ksp/interface/itcreate.o\n",
            "         CC DPInt32/obj/ksp/ksp/interface/itcl.o\n",
            "         CC DPInt32/obj/ksp/ksp/interface/iterativ.o\n",
            "         CC DPInt32/obj/ksp/ksp/interface/itregis.o\n",
            "         CC DPInt32/obj/ksp/ksp/interface/itfunc.o\n",
            "         CC DPInt32/obj/ksp/ksp/interface/itres.o\n",
            "         CC DPInt32/obj/ksp/ksp/interface/xmon.o\n",
            "         CC DPInt32/obj/ksp/ksp/impls/ibcgs/ibcgs.o\n",
            "         CC DPInt32/obj/ksp/ksp/impls/python/pythonksp.o\n",
            "         CC DPInt32/obj/ksp/ksp/impls/minres/minres.o\n",
            "         CC DPInt32/obj/ksp/ksp/impls/cg/cgeig.o\n",
            "         CC DPInt32/obj/ksp/ksp/impls/cg/cgls.o\n",
            "         CC DPInt32/obj/ksp/ksp/impls/cg/cgtype.o\n",
            "         CC DPInt32/obj/ksp/ksp/impls/cg/cg.o\n",
            "         CC DPInt32/obj/ksp/ksp/impls/cg/pipecgrr/pipecgrr.o\n",
            "         CC DPInt32/obj/ksp/ksp/impls/cg/stcg/stcg.o\n",
            "         CC DPInt32/obj/ksp/ksp/impls/cg/pipeprcg/pipeprcg.o\n",
            "         CC DPInt32/obj/ksp/ksp/impls/cg/groppcg/groppcg.o\n",
            "         CC DPInt32/obj/ksp/ksp/impls/cg/nash/nash.o\n",
            "         CC DPInt32/obj/ksp/ksp/impls/cg/pipelcg/pipelcg.o\n",
            "         CC DPInt32/obj/ksp/ksp/impls/cg/pipecg/pipecg.o\n",
            "         CC DPInt32/obj/ksp/ksp/impls/cg/gltr/gltr.o\n",
            "         CC DPInt32/obj/ksp/ksp/impls/cg/pipecg2/pipecg2.o\n",
            "         CC DPInt32/obj/ksp/ksp/impls/gmres/borthog.o\n",
            "         CC DPInt32/obj/ksp/ksp/impls/cg/cgne/cgne.o\n",
            "         CC DPInt32/obj/ksp/ksp/impls/gmres/gmpre.o\n",
            "         CC DPInt32/obj/ksp/ksp/impls/gmres/borthog2.o\n",
            "         CC DPInt32/obj/ksp/ksp/impls/gmres/gmreig.o\n",
            "         CC DPInt32/obj/ksp/ksp/impls/gmres/gmres2.o\n",
            "         CC DPInt32/obj/ksp/ksp/impls/gmres/gmres.o\n",
            "         CC DPInt32/obj/ksp/ksp/impls/gmres/fgmres/modpcf.o\n",
            "         CC DPInt32/obj/ksp/ksp/impls/gmres/fgmres/fgmres.o\n",
            "         CC DPInt32/obj/ksp/ksp/impls/gmres/pgmres/pgmres.o\n",
            "         CC DPInt32/obj/ksp/ksp/impls/gmres/lgmres/lgmres.o\n",
            "         CC DPInt32/obj/ksp/ksp/impls/gmres/pipefgmres/pipefgmres.o\n",
            "         CC DPInt32/obj/ksp/ksp/impls/gmres/dgmres/dgmres.o\n",
            "         CC DPInt32/obj/ksp/ksp/impls/gmres/agmres/agmresdeflation.o\n",
            "         CC DPInt32/obj/ksp/ksp/impls/gmres/agmres/agmresleja.o\n",
            "         CC DPInt32/obj/ksp/ksp/impls/gmres/agmres/agmres.o\n",
            "         CC DPInt32/obj/ksp/ksp/impls/gmres/agmres/agmresorthog.o\n",
            "         CC DPInt32/obj/ksp/ksp/impls/fcg/fcg.o\n",
            "         CC DPInt32/obj/ksp/ksp/impls/fcg/pipefcg/pipefcg.o\n",
            "         CC DPInt32/obj/ksp/ksp/impls/tfqmr/tfqmr.o\n",
            "         CC DPInt32/obj/ksp/ksp/impls/symmlq/symmlq.o\n",
            "         CC DPInt32/obj/ksp/ksp/impls/bicg/bicg.o\n",
            "         CC DPInt32/obj/ksp/ksp/impls/bcgs/bcgs.o\n",
            "         CC DPInt32/obj/ksp/ksp/impls/bcgs/qmrcgs/qmrcgs.o\n",
            "         CC DPInt32/obj/ksp/ksp/impls/bcgs/fbcgs/fbcgs.o\n",
            "         CC DPInt32/obj/ksp/ksp/impls/bcgs/pipebcgs/pipebcgs.o\n",
            "         CC DPInt32/obj/ksp/ksp/impls/bcgs/fbcgsr/fbcgsr.o\n",
            "         CC DPInt32/obj/ksp/ksp/impls/tsirm/tsirm.o\n",
            "         CC DPInt32/obj/ksp/ksp/impls/gcr/gcr.o\n",
            "         CC DPInt32/obj/ksp/ksp/impls/gcr/pipegcr/pipegcr.o\n",
            "         CC DPInt32/obj/ksp/ksp/impls/lcd/lcd.o\n",
            "         CC DPInt32/obj/ksp/ksp/impls/tcqmr/tcqmr.o\n",
            "         CC DPInt32/obj/ksp/ksp/impls/bcgsl/bcgsl.o\n",
            "         CC DPInt32/obj/ksp/ksp/impls/cgs/cgs.o\n",
            "         CC DPInt32/obj/ksp/ksp/impls/lsqr/lsqr.o\n",
            "         CC DPInt32/obj/ksp/ksp/impls/qcg/qcg.o\n",
            "         CC DPInt32/obj/ksp/ksp/impls/rich/rich.o\n",
            "         CC DPInt32/obj/ksp/ksp/impls/rich/richscale.o\n",
            "         CC DPInt32/obj/ksp/ksp/impls/fetidp/fetidp.o\n",
            "         CC DPInt32/obj/ksp/ksp/impls/cr/cr.o\n",
            "         CC DPInt32/obj/ksp/ksp/impls/cr/pipecr/pipecr.o\n",
            "         CC DPInt32/obj/ksp/ksp/impls/cheby/betas.o\n",
            "         CC DPInt32/obj/ksp/ksp/impls/preonly/preonly.o\n",
            "         CC DPInt32/obj/ksp/pc/interface/pcregis.o\n",
            "         CC DPInt32/obj/ksp/pc/interface/pcset.o\n",
            "         CC DPInt32/obj/ksp/ksp/impls/cheby/cheby.o\n",
            "         CC DPInt32/obj/ksp/pc/impls/lmvm/lmvmpc.o\n",
            "         CC DPInt32/obj/ksp/pc/interface/precon.o\n",
            "         CC DPInt32/obj/ksp/pc/impls/telescope/telescope.o\n",
            "         CC DPInt32/obj/ksp/pc/impls/telescope/telescope_coarsedm.o\n",
            "         CC DPInt32/obj/ksp/pc/impls/gasm/gasm.o\n",
            "         CC DPInt32/obj/ksp/pc/impls/python/pythonpc.o\n",
            "         CC DPInt32/obj/ksp/pc/impls/telescope/telescope_dmda.o\n",
            "         CC DPInt32/obj/ksp/pc/impls/shell/shellpc.o\n",
            "         CC DPInt32/obj/ksp/pc/impls/sor/sor.o\n",
            "         CC DPInt32/obj/ksp/pc/impls/redundant/redundant.o\n",
            "         CC DPInt32/obj/ksp/pc/impls/wb/wb.o\n",
            "         CC DPInt32/obj/ksp/pc/impls/svd/svd.o\n",
            "         CC DPInt32/obj/ksp/pc/impls/asm/asm.o\n",
            "         CC DPInt32/obj/ksp/pc/impls/hmg/hmg.o\n",
            "         CC DPInt32/obj/ksp/pc/impls/patch/pcpatch.o\n",
            "         CC DPInt32/obj/ksp/pc/impls/gamg/classical.o\n",
            "         CC DPInt32/obj/ksp/pc/impls/gamg/agg.o\n",
            "         CC DPInt32/obj/ksp/pc/impls/gamg/geo.o\n",
            "         CC DPInt32/obj/ksp/pc/impls/gamg/util.o\n",
            "         CC DPInt32/obj/ksp/pc/impls/lsc/lsc.o\n",
            "         CC DPInt32/obj/ksp/pc/impls/eisens/eisen.o\n",
            "         CC DPInt32/obj/ksp/pc/impls/gamg/gamg.o\n",
            "         CC DPInt32/obj/ksp/pc/impls/redistribute/redistribute.o\n",
            "         CC DPInt32/obj/ksp/pc/impls/mat/pcmat.o\n",
            "         CC DPInt32/obj/ksp/pc/impls/pbjacobi/pbjacobi.o\n",
            "         CC DPInt32/obj/ksp/pc/impls/deflation/deflation.o\n",
            "         CC DPInt32/obj/ksp/pc/impls/deflation/deflationspace.o\n",
            "         CC DPInt32/obj/ksp/pc/impls/vpbjacobi/vpbjacobi.o\n",
            "         CC DPInt32/obj/ksp/pc/impls/ksp/pcksp.o\n",
            "         CC DPInt32/obj/ksp/pc/impls/galerkin/galerkin.o\n",
            "         CC DPInt32/obj/ksp/pc/impls/factor/factimpl.o\n",
            "         CC DPInt32/obj/ksp/pc/impls/fieldsplit/fieldsplit.o\n",
            "         CC DPInt32/obj/ksp/pc/impls/factor/factor.o\n",
            "         CC DPInt32/obj/ksp/pc/impls/factor/ilu/ilu.o\n",
            "         CC DPInt32/obj/ksp/pc/impls/factor/icc/icc.o\n",
            "         CC DPInt32/obj/ksp/pc/impls/factor/qr/qr.o\n",
            "         CC DPInt32/obj/ksp/pc/impls/factor/lu/lu.o\n",
            "         CC DPInt32/obj/ksp/pc/impls/factor/cholesky/cholesky.o\n",
            "         CC DPInt32/obj/ksp/pc/impls/kaczmarz/kaczmarz.o\n",
            "         CC DPInt32/obj/ksp/pc/impls/none/none.o\n",
            "         CC DPInt32/obj/ksp/pc/impls/cp/cp.o\n",
            "         CC DPInt32/obj/ksp/pc/impls/is/pcis.o\n",
            "         CC DPInt32/obj/ksp/pc/impls/is/nn/nn.o\n",
            "         CC DPInt32/obj/ksp/pc/impls/mg/fmg.o\n",
            "         CC DPInt32/obj/ksp/pc/impls/mpi/pcmpi.o\n",
            "         CC DPInt32/obj/ksp/pc/impls/mg/gdsw.o\n",
            "         CC DPInt32/obj/ksp/pc/impls/mg/mgadapt.o\n",
            "         CC DPInt32/obj/ksp/pc/impls/mg/mgfunc.o\n",
            "         CC DPInt32/obj/ksp/pc/impls/mg/smg.o\n",
            "         CC DPInt32/obj/ksp/pc/impls/composite/composite.o\n",
            "         CC DPInt32/obj/ksp/pc/impls/mg/mg.o\n",
            "         CC DPInt32/obj/ksp/pc/impls/jacobi/jacobi.o\n",
            "         CC DPInt32/obj/ksp/pc/impls/bddc/bddcfetidp.o\n",
            "         CC DPInt32/obj/ksp/pc/impls/bddc/bddc.o\n",
            "         CC DPInt32/obj/ksp/pc/impls/bddc/bddcnullspace.o\n",
            "         CC DPInt32/obj/ksp/pc/impls/bddc/bddcgraph.o\n",
            "         CC DPInt32/obj/ksp/pc/impls/bddc/bddcscalingbasic.o\n",
            "         CC DPInt32/obj/ksp/pc/impls/bddc/bddcschurs.o\n",
            "         CC DPInt32/obj/ksp/pc/impls/bjacobi/bjacobi.o\n",
            "         CC DPInt32/obj/ksp/pc/impls/tfs/bitmask.o\n",
            "         CC DPInt32/obj/ksp/pc/impls/tfs/comm.o\n",
            "         CC DPInt32/obj/ksp/pc/impls/tfs/gs.o\n",
            "         CC DPInt32/obj/ksp/pc/impls/tfs/ivec.o\n",
            "         CC DPInt32/obj/ksp/pc/impls/tfs/tfs.o\n",
            "         CC DPInt32/obj/ksp/pc/impls/tfs/xxt.o\n",
            "         CC DPInt32/obj/ksp/pc/impls/tfs/xyt.o\n",
            "         CC DPInt32/obj/ksp/pc/impls/bddc/bddcprivate.o\n",
            "      CUDAC DPInt32/obj/ksp/pc/impls/pbjacobi/cuda/pbjacobi_cuda.o\n",
            "  CUDAC.dep DPInt32/obj/ksp/pc/impls/pbjacobi/cuda/pbjacobi_cuda.o\n",
            "         CC DPInt32/obj/snes/interface/dlregissnes.o\n",
            "         CC DPInt32/obj/snes/interface/snes.o\n",
            "         CC DPInt32/obj/snes/interface/snesj.o\n",
            "         CC DPInt32/obj/snes/interface/snesj2.o\n",
            "         CC DPInt32/obj/snes/interface/snesob.o\n",
            "         CC DPInt32/obj/snes/interface/snespc.o\n",
            "         CC DPInt32/obj/snes/interface/snesregi.o\n",
            "      CUDAC DPInt32/obj/ksp/pc/impls/vpbjacobi/cuda/vpbjacobi_cuda.o\n",
            "  CUDAC.dep DPInt32/obj/ksp/pc/impls/vpbjacobi/cuda/vpbjacobi_cuda.o\n",
            "         CC DPInt32/obj/snes/interface/noise/snesdnest.o\n",
            "         CC DPInt32/obj/snes/interface/snesut.o\n",
            "         CC DPInt32/obj/snes/interface/noise/snesmfj2.o\n",
            "         CC DPInt32/obj/snes/interface/noise/snesnoise.o\n",
            "         CC DPInt32/obj/snes/mf/snesmfj.o\n",
            "         CC DPInt32/obj/snes/utils/convest.o\n",
            "         CC DPInt32/obj/snes/utils/dmadapt.o\n",
            "         CC DPInt32/obj/snes/utils/dmdasnes.o\n",
            "         CC DPInt32/obj/snes/utils/dmlocalsnes.o\n",
            "         CC DPInt32/obj/snes/utils/dmsnes.o\n",
            "         CC DPInt32/obj/snes/linesearch/interface/linesearch.o\n",
            "         CC DPInt32/obj/snes/linesearch/interface/linesearchregi.o\n",
            "         CC DPInt32/obj/snes/linesearch/impls/nleqerr/linesearchnleqerr.o\n",
            "         CC DPInt32/obj/snes/utils/dmplexsnes.o\n",
            "         CC DPInt32/obj/snes/linesearch/impls/shell/linesearchshell.o\n",
            "         CC DPInt32/obj/snes/linesearch/impls/cp/linesearchcp.o\n",
            "         CC DPInt32/obj/snes/linesearch/impls/basic/linesearchbasic.o\n",
            "         CC DPInt32/obj/snes/linesearch/impls/bt/linesearchbt.o\n",
            "         CC DPInt32/obj/snes/linesearch/impls/l2/linesearchl2.o\n",
            "         CC DPInt32/obj/snes/impls/ls/ls.o\n",
            "         CC DPInt32/obj/snes/impls/gs/gssecant.o\n",
            "         CC DPInt32/obj/snes/impls/ksponly/ksponly.o\n",
            "         CC DPInt32/obj/snes/impls/gs/snesgs.o\n",
            "         CC DPInt32/obj/snes/impls/tr/tr.o\n",
            "         CC DPInt32/obj/snes/impls/multiblock/multiblock.o\n",
            "         CC DPInt32/obj/snes/impls/python/pythonsnes.o\n",
            "         CC DPInt32/obj/snes/impls/ncg/snesncg.o\n",
            "         CC DPInt32/obj/snes/impls/qn/qn.o\n",
            "         CC DPInt32/obj/snes/impls/patch/snespatch.o\n",
            "         CC DPInt32/obj/snes/impls/shell/snesshell.o\n",
            "         CC DPInt32/obj/snes/impls/fas/fasfunc.o\n",
            "         CC DPInt32/obj/snes/impls/fas/fasgalerkin.o\n",
            "         CC DPInt32/obj/snes/impls/fas/fas.o\n",
            "         CC DPInt32/obj/snes/impls/ngmres/anderson.o\n",
            "         CC DPInt32/obj/snes/impls/ntrdc/ntrdc.o\n",
            "         CC DPInt32/obj/snes/impls/ngmres/ngmresfunc.o\n",
            "         CC DPInt32/obj/snes/impls/ngmres/snesngmres.o\n",
            "         CC DPInt32/obj/snes/impls/richardson/snesrichardson.o\n",
            "         CC DPInt32/obj/snes/impls/nasm/aspin.o\n",
            "         CC DPInt32/obj/snes/impls/ms/ms.o\n",
            "         CC DPInt32/obj/snes/impls/nasm/nasm.o\n",
            "         CC DPInt32/obj/snes/impls/vi/vi.o\n",
            "         CC DPInt32/obj/snes/impls/vi/ss/viss.o\n",
            "         CC DPInt32/obj/snes/impls/vi/rs/virs.o\n",
            "         CC DPInt32/obj/snes/impls/composite/snescomposite.o\n",
            "         CC DPInt32/obj/ts/characteristic/interface/mocregis.o\n",
            "         CC DPInt32/obj/ts/characteristic/interface/slregis.o\n",
            "         CC DPInt32/obj/ts/characteristic/impls/da/slda.o\n",
            "         CC DPInt32/obj/ts/characteristic/interface/characteristic.o\n",
            "         CC DPInt32/obj/ts/interface/dlregists.o\n",
            "         CC DPInt32/obj/ts/interface/tscreate.o\n",
            "         CC DPInt32/obj/ts/interface/tseig.o\n",
            "         CC DPInt32/obj/ts/interface/tshistory.o\n",
            "         CC DPInt32/obj/ts/interface/tsmon.o\n",
            "         CC DPInt32/obj/ts/interface/tsreg.o\n",
            "         CC DPInt32/obj/ts/interface/tsregall.o\n",
            "         CC DPInt32/obj/ts/interface/tsrhssplit.o\n",
            "         CC DPInt32/obj/ts/interface/ts.o\n",
            "         CC DPInt32/obj/ts/interface/sensitivity/tssen.o\n",
            "         CC DPInt32/obj/ts/adapt/interface/tsadapt.o\n",
            "         CC DPInt32/obj/ts/adapt/impls/cfl/adaptcfl.o\n",
            "         CC DPInt32/obj/ts/adapt/impls/dsp/adaptdsp.o\n",
            "         CC DPInt32/obj/ts/adapt/impls/history/adapthist.o\n",
            "         CC DPInt32/obj/ts/adapt/impls/glee/adaptglee.o\n",
            "         CC DPInt32/obj/ts/adapt/impls/none/adaptnone.o\n",
            "         CC DPInt32/obj/ts/adapt/impls/basic/adaptbasic.o\n",
            "         CC DPInt32/obj/ts/utils/dmdats.o\n",
            "         CC DPInt32/obj/ts/utils/dmlocalts.o\n",
            "         CC DPInt32/obj/ts/utils/dmnetworkts.o\n",
            "         CC DPInt32/obj/ts/utils/dmplexts.o\n",
            "         CC DPInt32/obj/ts/utils/dmts.o\n",
            "         CC DPInt32/obj/ts/utils/tsconvest.o\n",
            "         CC DPInt32/obj/ts/trajectory/utils/reconstruct.o\n",
            "         CC DPInt32/obj/ts/trajectory/interface/traj.o\n",
            "         CC DPInt32/obj/ts/trajectory/impls/visualization/trajvisualization.o\n",
            "         CC DPInt32/obj/ts/trajectory/impls/memory/trajmemory.o\n",
            "         CC DPInt32/obj/ts/trajectory/impls/basic/trajbasic.o\n",
            "         CC DPInt32/obj/ts/trajectory/impls/singlefile/singlefile.o\n",
            "         CC DPInt32/obj/ts/impls/symplectic/basicsymplectic/basicsymplectic.o\n",
            "         CC DPInt32/obj/ts/impls/python/pythonts.o\n",
            "         CC DPInt32/obj/ts/impls/eimex/eimex.o\n",
            "         CC DPInt32/obj/ts/impls/glee/glee.o\n",
            "         CC DPInt32/obj/ts/utils/dmplexlandau/plexland.o\n",
            "         CC DPInt32/obj/ts/impls/implicit/discgrad/tsdiscgrad.o\n",
            "         CC DPInt32/obj/ts/impls/implicit/alpha/alpha1.o\n",
            "         CC DPInt32/obj/ts/impls/implicit/theta/theta.o\n",
            "         CC DPInt32/obj/ts/impls/implicit/alpha/alpha2.o\n",
            "         CC DPInt32/obj/ts/impls/implicit/irk/irk.o\n",
            "         CC DPInt32/obj/ts/impls/implicit/glle/glleadapt.o\n",
            "         CC DPInt32/obj/ts/impls/multirate/mprk.o\n",
            "         CC DPInt32/obj/ts/impls/implicit/glle/glle.o\n",
            "         CC DPInt32/obj/ts/impls/mimex/mimex.o\n",
            "         CC DPInt32/obj/ts/impls/pseudo/posindep.o\n",
            "         CC DPInt32/obj/ts/impls/arkimex/arkimex.o\n",
            "         CC DPInt32/obj/ts/impls/explicit/euler/euler.o\n",
            "         CC DPInt32/obj/ts/impls/rosw/rosw.o\n",
            "         CC DPInt32/obj/ts/impls/explicit/rk/mrk.o\n",
            "         CC DPInt32/obj/ts/impls/explicit/ssp/ssp.o\n",
            "         CC DPInt32/obj/ts/impls/explicit/rk/rk.o\n",
            "         CC DPInt32/obj/ts/impls/bdf/bdf.o\n",
            "         CC DPInt32/obj/ts/event/tsevent.o\n",
            "         CC DPInt32/obj/tao/complementarity/impls/ssls/ssfls.o\n",
            "         CC DPInt32/obj/tao/complementarity/impls/ssls/ssils.o\n",
            "         CC DPInt32/obj/tao/complementarity/impls/ssls/ssls.o\n",
            "         CC DPInt32/obj/tao/complementarity/impls/asls/asfls.o\n",
            "         CC DPInt32/obj/tao/complementarity/impls/asls/asils.o\n",
            "         CC DPInt32/obj/tao/interface/dlregistao.o\n",
            "         CC DPInt32/obj/tao/interface/fdiff.o\n",
            "         CC DPInt32/obj/tao/interface/taosolver.o\n",
            "         CC DPInt32/obj/tao/interface/taosolver_bounds.o\n",
            "         CC DPInt32/obj/tao/interface/taosolver_fg.o\n",
            "         CC DPInt32/obj/tao/interface/taosolver_hj.o\n",
            "         CC DPInt32/obj/tao/interface/taosolverregi.o\n",
            "         CC DPInt32/obj/tao/util/tao_util.o\n",
            "         CC DPInt32/obj/tao/python/pythontao.o\n",
            "         CC DPInt32/obj/tao/snes/taosnes.o\n",
            "         CC DPInt32/obj/tao/bound/utils/isutil.o\n",
            "         CC DPInt32/obj/tao/bound/impls/bqnls/bqnls.o\n",
            "      CUDAC DPInt32/obj/ts/utils/dmplexlandau/cuda/landaucu.o\n",
            "  CUDAC.dep DPInt32/obj/ts/utils/dmplexlandau/cuda/landaucu.o\n",
            "         CC DPInt32/obj/tao/bound/impls/bnk/bnk.o\n",
            "         CC DPInt32/obj/tao/bound/impls/bnk/bnls.o\n",
            "         CC DPInt32/obj/tao/bound/impls/bnk/bntl.o\n",
            "         CC DPInt32/obj/tao/bound/impls/bnk/bntr.o\n",
            "         CC DPInt32/obj/tao/bound/impls/bqnk/bqnk.o\n",
            "         CC DPInt32/obj/tao/bound/impls/bqnk/bqnkls.o\n",
            "         CC DPInt32/obj/tao/bound/impls/bqnk/bqnktl.o\n",
            "         CC DPInt32/obj/tao/bound/impls/bqnk/bqnktr.o\n",
            "         CC DPInt32/obj/tao/bound/impls/blmvm/blmvm.o\n",
            "         CC DPInt32/obj/tao/bound/impls/tron/tron.o\n",
            "         CC DPInt32/obj/tao/bound/impls/bncg/bncg.o\n",
            "         CC DPInt32/obj/tao/shell/taoshell.o\n",
            "         CC DPInt32/obj/tao/matrix/submatfree.o\n",
            "         CC DPInt32/obj/tao/matrix/adamat.o\n",
            "         CC DPInt32/obj/tao/leastsquares/impls/pounders/gqt.o\n",
            "         CC DPInt32/obj/tao/leastsquares/impls/brgn/brgn.o\n",
            "         CC DPInt32/obj/tao/unconstrained/impls/lmvm/lmvm.o\n",
            "         CC DPInt32/obj/tao/unconstrained/impls/owlqn/owlqn.o\n",
            "         CC DPInt32/obj/tao/leastsquares/impls/pounders/pounders.o\n",
            "         CC DPInt32/obj/tao/unconstrained/impls/cg/taocg.o\n",
            "         CC DPInt32/obj/tao/unconstrained/impls/neldermead/neldermead.o\n",
            "         CC DPInt32/obj/tao/unconstrained/impls/bmrm/bmrm.o\n",
            "         CC DPInt32/obj/tao/unconstrained/impls/ntl/ntl.o\n",
            "         CC DPInt32/obj/tao/unconstrained/impls/nls/nls.o\n",
            "         CC DPInt32/obj/tao/unconstrained/impls/ntr/ntr.o\n",
            "         CC DPInt32/obj/tao/quadratic/impls/gpcg/gpcg.o\n",
            "         CC DPInt32/obj/tao/linesearch/interface/dlregis_taolinesearch.o\n",
            "         CC DPInt32/obj/tao/quadratic/impls/bqpip/bqpip.o\n",
            "         CC DPInt32/obj/tao/linesearch/impls/gpcglinesearch/gpcglinesearch.o\n",
            "         CC DPInt32/obj/tao/linesearch/interface/taolinesearch.o\n",
            "         CC DPInt32/obj/tao/linesearch/impls/owarmijo/owarmijo.o\n",
            "         CC DPInt32/obj/tao/linesearch/impls/armijo/armijo.o\n",
            "         CC DPInt32/obj/tao/linesearch/impls/unit/unit.o\n",
            "         CC DPInt32/obj/tao/linesearch/impls/morethuente/morethuente.o\n",
            "         CC DPInt32/obj/tao/constrained/impls/almm/almmutils.o\n",
            "         CC DPInt32/obj/tao/constrained/impls/almm/almm.o\n",
            "         CC DPInt32/obj/tao/constrained/impls/admm/admm.o\n",
            "         CC DPInt32/obj/tao/constrained/impls/ipm/ipm.o\n",
            "         CC DPInt32/obj/tao/pde_constrained/impls/lcl/lcl.o\n",
            "         CC DPInt32/obj/tao/constrained/impls/ipm/pdipm.o\n",
            "    CLINKER DPInt32/lib/libpetsc.so.3.19.2\n",
            "=========================================\n",
            "Now to install the libraries do:\n",
            "make PETSC_DIR=/usr/lib/openfoam/openfoam2306/ThirdParty/sources/petsc-3.19.2 PETSC_ARCH=DPInt32 install\n",
            "=========================================\n",
            "Built: petsc\n",
            "*** Using PETSC_DIR=/usr/lib/openfoam/openfoam2306/ThirdParty/sources/petsc-3.19.2 PETSC_ARCH=DPInt32 ***\n",
            "*** Installing PETSc at prefix location: /usr/lib/openfoam/openfoam2306/ThirdParty/platforms/linux64GccDPInt32/petsc-3.19.2  ***\n",
            "====================================\n",
            "Install complete.\n",
            "Now to check if the libraries are working do (in current directory):\n",
            "make PETSC_DIR=/usr/lib/openfoam/openfoam2306/ThirdParty/platforms/linux64GccDPInt32/petsc-3.19.2 PETSC_ARCH=\"\" check\n",
            "====================================\n",
            "/usr/bin/gmake --no-print-directory -f makefile PETSC_ARCH=DPInt32 PETSC_DIR=/usr/lib/openfoam/openfoam2306/ThirdParty/sources/petsc-3.19.2 PETSC_INSTALL=install install-builtafterpetsc\n",
            "/usr/bin/gmake --no-print-directory -f makefile PETSC_ARCH=DPInt32 PETSC_DIR=/usr/lib/openfoam/openfoam2306/ThirdParty/sources/petsc-3.19.2 PETSC_INSTALL=install petsc4py-install libmesh-install mfem-install slepc-install hpddm-install amrex-install bamg-install\n",
            "gmake[3]: Nothing to be done for 'petsc4py-install'.\n",
            "gmake[3]: Nothing to be done for 'libmesh-install'.\n",
            "gmake[3]: Nothing to be done for 'mfem-install'.\n",
            "gmake[3]: Nothing to be done for 'slepc-install'.\n",
            "gmake[3]: Nothing to be done for 'hpddm-install'.\n",
            "gmake[3]: Nothing to be done for 'amrex-install'.\n",
            "gmake[3]: Nothing to be done for 'bamg-install'.\n",
            "Adjust pkgconfig locations : /usr/lib/openfoam/openfoam2306/ThirdParty/platforms/linux64GccDPInt32/petsc-3.19.2\n",
            "    lib/pkgconfig/*.pc  (edited 2)\n",
            "Installed: petsc-3.19.2\n"
          ]
        }
      ],
      "source": [
        "!source /usr/lib/openfoam/openfoam2306/etc/bashrc;\\\n",
        "WM_NCOMPPROCS=2 ./makePETSC -no-hypre -- --with-cuda 2>&1 | tee log.makePETSC"
      ]
    },
    {
      "cell_type": "markdown",
      "metadata": {
        "id": "S1n6AMekcayT"
      },
      "source": [
        "### external-solverモジュールのビルド"
      ]
    },
    {
      "cell_type": "markdown",
      "metadata": {
        "id": "0in-Ka5wcayT"
      },
      "source": [
        "Ubuntuのopenfoam2306パッケージには含まれていませんが、本来external-solver等のパッケージが置かれるmodulesディレクトリを作成します。"
      ]
    },
    {
      "cell_type": "code",
      "execution_count": null,
      "metadata": {
        "id": "3Tk9u-Z-cayT"
      },
      "outputs": [],
      "source": [
        "!mkdir /usr/lib/openfoam/openfoam2306/modules"
      ]
    },
    {
      "cell_type": "markdown",
      "metadata": {
        "id": "LoEihqUacayT"
      },
      "source": [
        "modulesディレクトリに移動します。"
      ]
    },
    {
      "cell_type": "code",
      "execution_count": null,
      "metadata": {
        "colab": {
          "base_uri": "https://localhost:8080/"
        },
        "id": "3IsGPugNcayT",
        "outputId": "ced50967-10ad-4d63-9c80-68accab73ec4"
      },
      "outputs": [
        {
          "output_type": "stream",
          "name": "stdout",
          "text": [
            "/usr/lib/openfoam/openfoam2306/modules\n"
          ]
        }
      ],
      "source": [
        "%cd /usr/lib/openfoam/openfoam2306/modules"
      ]
    },
    {
      "cell_type": "markdown",
      "metadata": {
        "id": "WJWjsKqBcayU"
      },
      "source": [
        "external-solverのソースコードをgitでcloneします。"
      ]
    },
    {
      "cell_type": "code",
      "execution_count": null,
      "metadata": {
        "colab": {
          "base_uri": "https://localhost:8080/"
        },
        "id": "sKVvBcf1cayU",
        "outputId": "728d17de-a59e-4b3f-9288-1f8bdd4979e9"
      },
      "outputs": [
        {
          "output_type": "stream",
          "name": "stdout",
          "text": [
            "Cloning into 'external-solver'...\n",
            "remote: Enumerating objects: 1822, done.\u001b[K\n",
            "remote: Counting objects: 100% (105/105), done.\u001b[K\n",
            "remote: Compressing objects: 100% (43/43), done.\u001b[K\n",
            "remote: Total 1822 (delta 62), reused 105 (delta 62), pack-reused 1717\u001b[K\n",
            "Receiving objects: 100% (1822/1822), 425.27 KiB | 1.33 MiB/s, done.\n",
            "Resolving deltas: 100% (1162/1162), done.\n"
          ]
        }
      ],
      "source": [
        "!git clone https://develop.openfoam.com/modules/external-solver.git"
      ]
    },
    {
      "cell_type": "markdown",
      "metadata": {
        "id": "mkuA2klGcayU"
      },
      "source": [
        "external-solverディレクトリに移動します。"
      ]
    },
    {
      "cell_type": "code",
      "execution_count": null,
      "metadata": {
        "colab": {
          "base_uri": "https://localhost:8080/"
        },
        "id": "RwHr1g1kcayU",
        "outputId": "bbebc02a-9413-4d08-e2d5-ba7d4f55ce88"
      },
      "outputs": [
        {
          "output_type": "stream",
          "name": "stdout",
          "text": [
            "/usr/lib/openfoam/openfoam2306/modules/external-solver\n"
          ]
        }
      ],
      "source": [
        "%cd external-solver"
      ]
    },
    {
      "cell_type": "markdown",
      "metadata": {
        "id": "1yJPlTWycayU"
      },
      "source": [
        "external-solverモジュールをビルドします。\n",
        "なお、`Allwmake`に`-j`オプションを付けると、全論理コア数(ここでは2)の並列ビルドになります。\n",
        "また、ライブラリや実行バイナリのインストール先を、`-prefix`オプションを用いてopenfoam2306のシステムと同じ場所を指定しています。"
      ]
    },
    {
      "cell_type": "code",
      "execution_count": null,
      "metadata": {
        "colab": {
          "base_uri": "https://localhost:8080/"
        },
        "id": "Ea9rEPVUcayU",
        "outputId": "de3169f2-dd4f-4fb5-edb0-4763ef34a218"
      },
      "outputs": [
        {
          "output_type": "stream",
          "name": "stdout",
          "text": [
            "Module prefix = /usr/lib/openfoam/openfoam2306/platforms/linux64GccDPInt32Opt\n",
            "Compiling enabled on 2 cores\n",
            "========================================\n",
            "2023-09-08 01:52:37 +0000\n",
            "Starting compile of external-solver (petsc) with openfoam2306\n",
            "  Gcc system compiler\n",
            "  linux64GccDPInt32Opt, with SYSTEMOPENMPI sys-openmpi\n",
            "  prefix = /usr/lib/openfoam/openfoam2306/platforms/linux64GccDPInt32Opt\n",
            "\n",
            "wmake(petsc) libso : /usr/lib/openfoam/openfoam2306/ThirdParty/platforms/linux64GccDPInt32/petsc-3.19.2\n",
            "wmake libso (petsc4Foam)\n",
            "    ln: ./lnInclude\n",
            "Making dependencies: petscCacheManager.C\n",
            "Making dependencies: petscLinearSolverContexts.C\n",
            "Making dependencies: petscControls.C\n",
            "Making dependencies: petscUtils.C\n",
            "Making dependencies: petscErrorHandling.C\n",
            "Making dependencies: petscSolver.C\n",
            "g++ -std=c++14 -m64 -pthread -DOPENFOAM=2306 -DWM_DP -DWM_LABEL_SIZE=32 -Wall -Wextra -Wold-style-cast -Wnon-virtual-dtor -Wno-unused-parameter -Wno-invalid-offsetof -Wno-attributes -Wno-unknown-pragmas -O3  -DNoRepository -ftemplate-depth-100  -DMPICH_SKIP_MPICXX -DOMPI_SKIP_MPICXX -I/usr/lib/x86_64-linux-gnu/openmpi/include -I/usr/lib/x86_64-linux-gnu/openmpi/include/openmpi -Wno-old-style-cast -I/usr/lib/openfoam/openfoam2306/src/finiteVolume/lnInclude -I/usr/lib/openfoam/openfoam2306/src/fileFormats/lnInclude -I/usr/lib/openfoam/openfoam2306/src/surfMesh/lnInclude -I/usr/lib/openfoam/openfoam2306/src/meshTools/lnInclude -I/usr/lib/openfoam/openfoam2306/src/Pstream/mpi -I/usr/lib/openfoam/openfoam2306/ThirdParty/platforms/linux64GccDPInt32/petsc-3.19.2/include -iquote. -IlnInclude -I/usr/lib/openfoam/openfoam2306/src/OpenFOAM/lnInclude -I/usr/lib/openfoam/openfoam2306/src/OSspecific/POSIX/lnInclude   -fPIC -c solvers/petscSolver.C -o /usr/lib/openfoam/openfoam2306/build/linux64GccDPInt32Opt/modules/external-solver/src/petsc4Foam/solvers/petscSolver.o\n",
            "g++ -std=c++14 -m64 -pthread -DOPENFOAM=2306 -DWM_DP -DWM_LABEL_SIZE=32 -Wall -Wextra -Wold-style-cast -Wnon-virtual-dtor -Wno-unused-parameter -Wno-invalid-offsetof -Wno-attributes -Wno-unknown-pragmas -O3  -DNoRepository -ftemplate-depth-100  -DMPICH_SKIP_MPICXX -DOMPI_SKIP_MPICXX -I/usr/lib/x86_64-linux-gnu/openmpi/include -I/usr/lib/x86_64-linux-gnu/openmpi/include/openmpi -Wno-old-style-cast -I/usr/lib/openfoam/openfoam2306/src/finiteVolume/lnInclude -I/usr/lib/openfoam/openfoam2306/src/fileFormats/lnInclude -I/usr/lib/openfoam/openfoam2306/src/surfMesh/lnInclude -I/usr/lib/openfoam/openfoam2306/src/meshTools/lnInclude -I/usr/lib/openfoam/openfoam2306/src/Pstream/mpi -I/usr/lib/openfoam/openfoam2306/ThirdParty/platforms/linux64GccDPInt32/petsc-3.19.2/include -iquote. -IlnInclude -I/usr/lib/openfoam/openfoam2306/src/OpenFOAM/lnInclude -I/usr/lib/openfoam/openfoam2306/src/OSspecific/POSIX/lnInclude   -fPIC -c utils/petscErrorHandling.C -o /usr/lib/openfoam/openfoam2306/build/linux64GccDPInt32Opt/modules/external-solver/src/petsc4Foam/utils/petscErrorHandling.o\n",
            "g++ -std=c++14 -m64 -pthread -DOPENFOAM=2306 -DWM_DP -DWM_LABEL_SIZE=32 -Wall -Wextra -Wold-style-cast -Wnon-virtual-dtor -Wno-unused-parameter -Wno-invalid-offsetof -Wno-attributes -Wno-unknown-pragmas -O3  -DNoRepository -ftemplate-depth-100  -DMPICH_SKIP_MPICXX -DOMPI_SKIP_MPICXX -I/usr/lib/x86_64-linux-gnu/openmpi/include -I/usr/lib/x86_64-linux-gnu/openmpi/include/openmpi -Wno-old-style-cast -I/usr/lib/openfoam/openfoam2306/src/finiteVolume/lnInclude -I/usr/lib/openfoam/openfoam2306/src/fileFormats/lnInclude -I/usr/lib/openfoam/openfoam2306/src/surfMesh/lnInclude -I/usr/lib/openfoam/openfoam2306/src/meshTools/lnInclude -I/usr/lib/openfoam/openfoam2306/src/Pstream/mpi -I/usr/lib/openfoam/openfoam2306/ThirdParty/platforms/linux64GccDPInt32/petsc-3.19.2/include -iquote. -IlnInclude -I/usr/lib/openfoam/openfoam2306/src/OpenFOAM/lnInclude -I/usr/lib/openfoam/openfoam2306/src/OSspecific/POSIX/lnInclude   -fPIC -c utils/petscUtils.C -o /usr/lib/openfoam/openfoam2306/build/linux64GccDPInt32Opt/modules/external-solver/src/petsc4Foam/utils/petscUtils.o\n",
            "g++ -std=c++14 -m64 -pthread -DOPENFOAM=2306 -DWM_DP -DWM_LABEL_SIZE=32 -Wall -Wextra -Wold-style-cast -Wnon-virtual-dtor -Wno-unused-parameter -Wno-invalid-offsetof -Wno-attributes -Wno-unknown-pragmas -O3  -DNoRepository -ftemplate-depth-100  -DMPICH_SKIP_MPICXX -DOMPI_SKIP_MPICXX -I/usr/lib/x86_64-linux-gnu/openmpi/include -I/usr/lib/x86_64-linux-gnu/openmpi/include/openmpi -Wno-old-style-cast -I/usr/lib/openfoam/openfoam2306/src/finiteVolume/lnInclude -I/usr/lib/openfoam/openfoam2306/src/fileFormats/lnInclude -I/usr/lib/openfoam/openfoam2306/src/surfMesh/lnInclude -I/usr/lib/openfoam/openfoam2306/src/meshTools/lnInclude -I/usr/lib/openfoam/openfoam2306/src/Pstream/mpi -I/usr/lib/openfoam/openfoam2306/ThirdParty/platforms/linux64GccDPInt32/petsc-3.19.2/include -iquote. -IlnInclude -I/usr/lib/openfoam/openfoam2306/src/OpenFOAM/lnInclude -I/usr/lib/openfoam/openfoam2306/src/OSspecific/POSIX/lnInclude   -fPIC -c utils/petscControls.C -o /usr/lib/openfoam/openfoam2306/build/linux64GccDPInt32Opt/modules/external-solver/src/petsc4Foam/utils/petscControls.o\n",
            "g++ -std=c++14 -m64 -pthread -DOPENFOAM=2306 -DWM_DP -DWM_LABEL_SIZE=32 -Wall -Wextra -Wold-style-cast -Wnon-virtual-dtor -Wno-unused-parameter -Wno-invalid-offsetof -Wno-attributes -Wno-unknown-pragmas -O3  -DNoRepository -ftemplate-depth-100  -DMPICH_SKIP_MPICXX -DOMPI_SKIP_MPICXX -I/usr/lib/x86_64-linux-gnu/openmpi/include -I/usr/lib/x86_64-linux-gnu/openmpi/include/openmpi -Wno-old-style-cast -I/usr/lib/openfoam/openfoam2306/src/finiteVolume/lnInclude -I/usr/lib/openfoam/openfoam2306/src/fileFormats/lnInclude -I/usr/lib/openfoam/openfoam2306/src/surfMesh/lnInclude -I/usr/lib/openfoam/openfoam2306/src/meshTools/lnInclude -I/usr/lib/openfoam/openfoam2306/src/Pstream/mpi -I/usr/lib/openfoam/openfoam2306/ThirdParty/platforms/linux64GccDPInt32/petsc-3.19.2/include -iquote. -IlnInclude -I/usr/lib/openfoam/openfoam2306/src/OpenFOAM/lnInclude -I/usr/lib/openfoam/openfoam2306/src/OSspecific/POSIX/lnInclude   -fPIC -c utils/petscLinearSolverContexts.C -o /usr/lib/openfoam/openfoam2306/build/linux64GccDPInt32Opt/modules/external-solver/src/petsc4Foam/utils/petscLinearSolverContexts.o\n",
            "g++ -std=c++14 -m64 -pthread -DOPENFOAM=2306 -DWM_DP -DWM_LABEL_SIZE=32 -Wall -Wextra -Wold-style-cast -Wnon-virtual-dtor -Wno-unused-parameter -Wno-invalid-offsetof -Wno-attributes -Wno-unknown-pragmas -O3  -DNoRepository -ftemplate-depth-100  -DMPICH_SKIP_MPICXX -DOMPI_SKIP_MPICXX -I/usr/lib/x86_64-linux-gnu/openmpi/include -I/usr/lib/x86_64-linux-gnu/openmpi/include/openmpi -Wno-old-style-cast -I/usr/lib/openfoam/openfoam2306/src/finiteVolume/lnInclude -I/usr/lib/openfoam/openfoam2306/src/fileFormats/lnInclude -I/usr/lib/openfoam/openfoam2306/src/surfMesh/lnInclude -I/usr/lib/openfoam/openfoam2306/src/meshTools/lnInclude -I/usr/lib/openfoam/openfoam2306/src/Pstream/mpi -I/usr/lib/openfoam/openfoam2306/ThirdParty/platforms/linux64GccDPInt32/petsc-3.19.2/include -iquote. -IlnInclude -I/usr/lib/openfoam/openfoam2306/src/OpenFOAM/lnInclude -I/usr/lib/openfoam/openfoam2306/src/OSspecific/POSIX/lnInclude   -fPIC -c utils/petscCacheManager.C -o /usr/lib/openfoam/openfoam2306/build/linux64GccDPInt32Opt/modules/external-solver/src/petsc4Foam/utils/petscCacheManager.o\n",
            "g++ -std=c++14 -m64 -pthread -DOPENFOAM=2306 -DWM_DP -DWM_LABEL_SIZE=32 -Wall -Wextra -Wold-style-cast -Wnon-virtual-dtor -Wno-unused-parameter -Wno-invalid-offsetof -Wno-attributes -Wno-unknown-pragmas -O3  -DNoRepository -ftemplate-depth-100  -DMPICH_SKIP_MPICXX -DOMPI_SKIP_MPICXX -I/usr/lib/x86_64-linux-gnu/openmpi/include -I/usr/lib/x86_64-linux-gnu/openmpi/include/openmpi -Wno-old-style-cast -I/usr/lib/openfoam/openfoam2306/src/finiteVolume/lnInclude -I/usr/lib/openfoam/openfoam2306/src/fileFormats/lnInclude -I/usr/lib/openfoam/openfoam2306/src/surfMesh/lnInclude -I/usr/lib/openfoam/openfoam2306/src/meshTools/lnInclude -I/usr/lib/openfoam/openfoam2306/src/Pstream/mpi -I/usr/lib/openfoam/openfoam2306/ThirdParty/platforms/linux64GccDPInt32/petsc-3.19.2/include -iquote. -IlnInclude -I/usr/lib/openfoam/openfoam2306/src/OpenFOAM/lnInclude -I/usr/lib/openfoam/openfoam2306/src/OSspecific/POSIX/lnInclude   -fPIC -shared -Xlinker --add-needed -Xlinker --no-as-needed  /usr/lib/openfoam/openfoam2306/build/linux64GccDPInt32Opt/modules/external-solver/src/petsc4Foam/solvers/petscSolver.o /usr/lib/openfoam/openfoam2306/build/linux64GccDPInt32Opt/modules/external-solver/src/petsc4Foam/utils/petscErrorHandling.o /usr/lib/openfoam/openfoam2306/build/linux64GccDPInt32Opt/modules/external-solver/src/petsc4Foam/utils/petscUtils.o /usr/lib/openfoam/openfoam2306/build/linux64GccDPInt32Opt/modules/external-solver/src/petsc4Foam/utils/petscControls.o /usr/lib/openfoam/openfoam2306/build/linux64GccDPInt32Opt/modules/external-solver/src/petsc4Foam/utils/petscLinearSolverContexts.o /usr/lib/openfoam/openfoam2306/build/linux64GccDPInt32Opt/modules/external-solver/src/petsc4Foam/utils/petscCacheManager.o -L/usr/lib/openfoam/openfoam2306/platforms/linux64GccDPInt32Opt/lib \\\n",
            "    -lfiniteVolume -lfileFormats -lsurfMesh -lmeshTools -L/usr/lib/openfoam/openfoam2306/ThirdParty/platforms/linux64GccDPInt32/petsc-3.19.2/lib -lpetsc  -o /usr/lib/openfoam/openfoam2306/platforms/linux64GccDPInt32Opt/lib/libpetscFoam.so\n",
            "==> Before running, verify that PETSc libraries can be found\n",
            "For example,\n",
            "\n",
            "    foamHasLibrary -verbose petscFoam\n",
            "\n",
            "Define manually, enable in OpenFOAM etc/bashrc, or try the following [POSIX]:\n",
            "\n",
            "    eval $(foamEtcFile -sh -config petsc -- -force)\n",
            "\n",
            "==\n",
            "\n",
            "2023-09-08 01:52:50 +0000\n",
            "========================================\n",
            "  Finished compile of external-solver (petsc) with openfoam2306\n",
            "  Gcc system compiler\n",
            "  linux64GccDPInt32Opt, with SYSTEMOPENMPI sys-openmpi\n",
            "\n"
          ]
        }
      ],
      "source": [
        "!source /usr/lib/openfoam/openfoam2306/etc/bashrc;\\\n",
        "./Allwmake -j -prefix=/usr/lib/openfoam/openfoam2306/platforms/linux64GccDPInt32Opt 2>&1 | tee log.Allwmake"
      ]
    },
    {
      "cell_type": "markdown",
      "metadata": {
        "id": "SpmITplocayU"
      },
      "source": [
        "上記のログに`Compiling enabled on 2 cores`と記載されていることから、2並列でビルドされていることがわかります。\n",
        "\n",
        "また、PETScのライブラリを有効にするには、`eval $(foamEtcFile -sh -config petsc -- -force)`を実行すれば良いことがわかります。"
      ]
    },
    {
      "cell_type": "markdown",
      "metadata": {
        "id": "vYaopiuLcayU"
      },
      "source": [
        "### PETScライブラリおよびexternal-solverモジュールのライブラリのGoogleドライブへの保存"
      ]
    },
    {
      "cell_type": "markdown",
      "metadata": {
        "id": "D-YQDXDWcayV"
      },
      "source": [
        "OpenFOAMのトップディレクトリに移動します。"
      ]
    },
    {
      "cell_type": "code",
      "execution_count": null,
      "metadata": {
        "colab": {
          "base_uri": "https://localhost:8080/"
        },
        "id": "pUXahYnHcayV",
        "outputId": "4f3a2924-4f75-4289-ee64-7834ea34816d"
      },
      "outputs": [
        {
          "output_type": "stream",
          "name": "stdout",
          "text": [
            "/usr/lib/openfoam/openfoam2306\n"
          ]
        }
      ],
      "source": [
        "%cd /usr/lib/openfoam/openfoam2306"
      ]
    },
    {
      "cell_type": "markdown",
      "metadata": {
        "id": "pRPn1ZW5cayV"
      },
      "source": [
        "ビルドしたPETScライブラリとexternal-solverモジュールのライブラリのアーカイブファイルをGoogleドライブに保存します。"
      ]
    },
    {
      "cell_type": "code",
      "execution_count": null,
      "metadata": {
        "id": "9Di_jAQacayV"
      },
      "outputs": [],
      "source": [
        "!tar Jcf /content/drive/MyDrive/hpc-training-gpu-2023/petsc.tar.xz ThirdParty/platforms platforms/linux64GccDPInt32Opt/lib/libpetscFoam.so"
      ]
    },
    {
      "cell_type": "markdown",
      "metadata": {
        "id": "Yh2-47elcayV"
      },
      "source": [
        "ノートブックのファイルが初期化された場合には、OpenFOAMのパッケージは再インストールする必要がありますが、Googleドライブに退避された上記のアーカイブファイルを解凍することで、PETScライブラリやexternal-solverモジュールを再度ビルドすることなく、すぐに使用することができます。\n",
        "\n",
        "なお、Googleドライブ上に直接OpenFOAMのトップディレクトリを置いて、その下でPETScライブラリやexternal-solverモジュールをビルドすることも可能であり、この手法ではOpenFOAMのパッケージの再インストールやアーカイブファイルの解凍の手間がかかりません。\n",
        "\n",
        "ただし、Googleドライブに再接続した際にファイルの実行フラグが無くなるので、実行フラグが必要なファイルの実行フラグを再設定する必要が生じます。\n",
        "\n",
        "* Mounting google drive with permition to execut binaries #3162 https://github.com/googlecolab/colabtools/issues/3162\n",
        "\n",
        "また、Googleドライブ内のファイルに頻繁にアクセスすることになるので、GoogleドライブのAPIコールの制限にかかる可能性が高くなります。\n",
        "\n",
        "従って、ここではGoogleドライブ上にファイルの属性が保存されるアーカイブファイルを置いておき、ノートブックのファイルが初期化された場合や、ハードウェア・アクセラレータとしてGPUを違うなど異なるランタイムタイプを使用する場合には、必要なOpenFOAMのパッケージを再インストールした上で、必要なアーカイブファイルを解凍することにします。\n",
        "\n"
      ]
    },
    {
      "cell_type": "markdown",
      "metadata": {
        "id": "LLUSlZnxt208"
      },
      "source": [
        "**以上で、「その1 CPU編」のノートブックは終了です。**"
      ]
    }
  ],
  "metadata": {
    "colab": {
      "provenance": [],
      "toc_visible": true,
      "include_colab_link": true
    },
    "kernelspec": {
      "display_name": "Python 3",
      "name": "python3"
    },
    "language_info": {
      "name": "python"
    }
  },
  "nbformat": 4,
  "nbformat_minor": 0
}
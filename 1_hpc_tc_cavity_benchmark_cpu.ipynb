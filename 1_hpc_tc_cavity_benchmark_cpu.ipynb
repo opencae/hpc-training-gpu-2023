{
  "cells": [
    {
      "cell_type": "markdown",
      "metadata": {
        "id": "view-in-github",
        "colab_type": "text"
      },
      "source": [
        "<a href=\"https://colab.research.google.com/github/opencae/hpc-training-gpu-2023/blob/main/1_hpc_tc_cavity_benchmark_cpu.ipynb\" target=\"_parent\"><img src=\"https://colab.research.google.com/assets/colab-badge.svg\" alt=\"Open In Colab\"/></a>"
      ]
    },
    {
      "cell_type": "markdown",
      "metadata": {
        "id": "4WRQIAaEOw9b"
      },
      "source": [
        "# 「Google ColaboratoryのCPU・GPUを用いた3次元キャビティ・ベンチマークテスト実行」(演習) 「その1 CPU編」\n",
        "\n",
        "オープンCAE学会 OpenFOAM GPUトレーニング2023 実行委員会 https://opencae.gitlab.io/web/page/training/opencae_hpc_training_gpu_2023/"
      ]
    },
    {
      "cell_type": "markdown",
      "metadata": {
        "id": "SumxrhPovgDU"
      },
      "source": [
        "## セルの実行と移動\n",
        "セルのコードを実行するには、セルをクリックして選択し、コードの左側にある実行ボタンをクリックします。\n",
        "\n",
        "実行ボタンにマウスカーソルが乗ると表示されるように、「Commandキー+Enterキー」または「Ctrlキー+Enterキー」のキーボードショートカットによっても実行できます。\n",
        "\n",
        "さらに、「Shiftキー+Enterキー」のキーボードショートカットによって、 セルのコードを実行(テキストの場合はフォーカス)した後に、次のセルに移動しますので、「Shiftキー+Enterキー」によって、効率的にノートブックの閲覧と実行を進めることができます。"
      ]
    },
    {
      "cell_type": "markdown",
      "metadata": {
        "id": "mJu6Bya1rr_L"
      },
      "source": [
        "## イントロダクション\n"
      ]
    },
    {
      "cell_type": "markdown",
      "metadata": {
        "id": "lhXBEykigtQM"
      },
      "source": [
        "### GPUシステムへの移行\n",
        " 東京大学情報基盤センターと筑波大学計算科学研究センターが共同で運営する最先端共同HPC基盤施設(JCAHPC)が次期に導入するスパコンOFP-IIは、NVIDIA H100及びその後継機種のGPUを中心としたシステムとなります。\n",
        "\n",
        "* GPU移行 GPU移行に関するポータルサイト https://jcahpc.github.io/gpu_porting/\n",
        "\n",
        "また、GPUを用いることが多いAI分野やLLM分野での研究の急速な発展により、JCAHPCに限らず、日本の他のスパコンにおいても、アクセラレータとしてGPUを用いるシステムの導入が続いています。\n",
        "\n",
        "* HPCI 令和6年度課題募集におけるハードウェア・ソフトウェア資源一覧 https://www.hpci-office.jp/using_hpci/hardware_software_resource/2024\n",
        "\n",
        "今後数年のスパンでは、スパコンなどの大規模計算機がGPU中心のシステムに移行することが予想されますので、大規模計算機を用いてOpenFOAMの解析を効率的に行うには、GPU移行を早目に検討する必要があります。\n"
      ]
    },
    {
      "cell_type": "markdown",
      "metadata": {
        "id": "rViPVy2TgtfA"
      },
      "source": [
        "### OpenFOAMでのGPU利用\n"
      ]
    },
    {
      "cell_type": "markdown",
      "metadata": {
        "id": "H85ghh0SgtlD"
      },
      "source": [
        "#### OpenFOAMのGPU移植版RapidCFD\n",
        "OpenFOAMのGPU移植版としては、昔からRapidCFDがありましたが、開発はほとんど止まっているほか、かなり古いバージョンであるOpenFOAM-2.3.1の部分移植なので、移植されていない機能はもちろんのこと、それ以降のOpenFOAMの新しい機能が使えないという致命的な問題があります。\n",
        "\n",
        "* 山岸孝輝: OpenFOAMのメニーコア・GPUへの対応に向けた取り組みの紹介オープンCAEシンポジウム2017 https://www.opencae.or.jp/wp-content/uploads/2018/02/sym2017_C23.pdf\n"
      ]
    },
    {
      "cell_type": "markdown",
      "metadata": {
        "id": "QiNvhGrhgtqK"
      },
      "source": [
        "#### 標準のOpenFOAMのexternal-solverモジュール\n",
        " 一方、最近の標準版OpenFOAMには、PETScという線形ソルバのバライブラリを用いるための外部モジュールであるexternal-solverが用意されているため、PETScの機能を活かして、CPUだけでなく、GPUも併用した線形ソルバの実行が行えます。\n",
        "\n",
        "external-solverは線形ソルバのみ外部モジュールを用いて別途計算を行うプラグイン的手法であることから、RapidCFDと異なり、標準版OpenFOAMの機能がそのまま使えるのが大きな利点となりますが、その手法の性質上、線形ソルバ部のみしかGPU化ができず、CPUとGPUのメモリ間のデータ転送も自ずと増えるので、高速化の余地が限られるのが欠点となります。\n",
        "\n",
        "* external-solver\n",
        " https://develop.openfoam.com/modules/external-solver\n",
        "* S. Bnà, I. Spisso, M. Olesen, G. Rossi PETSc4FOAM: A Library to plug-in PETSc into the OpenFOAM\n",
        "Framework https://prace-ri.eu/wp-content/uploads/WP294-PETSc4FOAM-A-Library-to-plug-in-PETSc-into-the-OpenFOAM-Framework.pdf"
      ]
    },
    {
      "cell_type": "markdown",
      "metadata": {
        "id": "98G7x0mmhjGB"
      },
      "source": [
        "#### GPU併用の試行\n",
        "以上のように、OpenFOAMの解析においてGPUを使用する手法には欠点や限界も多い現状ですが、今後GPUをアクセラレータとするシステムが増えることを鑑みると、CPUのみを使用した解析とGPUを併用した解析の計算時間や費用効果を比較しておき、GPU併用によりこれらの各種計算効率の向上が見込める問題については、GPU併用計算への移行を検討しても良い時期にきていると言えます。\n"
      ]
    },
    {
      "cell_type": "markdown",
      "metadata": {
        "id": "XrldJX0Ogtvn"
      },
      "source": [
        "### OpenFOAMベンチマークテスト\n",
        "CPUとGPU併用での各種計算効率を比較する解析対象は、最終的には自分が解析したい問題にする必要があるものの、最初の検討としては、計算条件や既往の比較結果が入手可能である、よく知られたベンチマークテストを検討するのが望ましいため、本演習でもOpenFOAM向けのベンチマークテストとして最も有名なHigh Performance ComputingTechinical Committeeの3D Lid-driven cavity benchmarkを対象とします。\n"
      ]
    },
    {
      "cell_type": "markdown",
      "metadata": {
        "id": "g_RuwgVhgt0g"
      },
      "source": [
        "### GPUが使用できる同一の演習計算環境\n",
        " 本演習ではCPUとGPUの計算効率の比較を目的とするため、CPUだけでなく、GPUのハードウェア・リソースが必要となりますが、参加者各自にGPUを用意して頂くのは難しいです。\n",
        "\n",
        "さらに、GPUを使うための各種ソフトウェアをインストールしたり、コンパイルする必要があるので、参加者の計算環境が同一でないと、トラブルが生じる可能性が高くなります\n",
        "\n",
        "そこで、本演習では、無償のプランでもあってもGPUをバックエンドのハードウェア・アクセラレータとして用いることが可能であり、かつ計算環境が統一できるGoogle Colaboratory(Colab)を用います。\n"
      ]
    },
    {
      "cell_type": "markdown",
      "metadata": {
        "id": "4nz6WyNcgt6m"
      },
      "source": [
        "### 本演習の内容\n",
        "演習の「その1 CPU編」ではColabのCPUのみを用いて、 HPC TC委員会のベンチマークテストを実行します。\n",
        "\n",
        "CPUのみを用いる場合、OpenFOAM-v2306の非定常層流解析ソルバicoFoamを用い、PCGやPBiCGなど、CPUのみを用いる線形ソルバを指定します。\n",
        "\n",
        "また、GPU上でも実行できる線形ソルバのライブラリであるPETScと、それをOpenFOAMから使用できるようする外部モジュールであるexternal-solverをソースコードからビルドします。\n",
        "\n",
        "なお、これらのビルドにはGPUは必要がないので、CPU編で行なっておき、ビルドしたライブラリをGoogleドライブにコピーしておくことにより、GPU編ですぐに使用できるようにします。\n",
        "\n",
        "演習の「その2 GPU編」ではハードウェア・アクセラレータとしてGPUを用いて解析するために、GPU向けに移植されたRapicCFDの解析ソルバを用いたケースを解析します。\n",
        "\n",
        "また、OpenFOAM-v2306の非定常層流解析ソルバicoFoamとPETScライブラリを用い、GPU上でCG法線形ソルバを実行するケースも解析します。\n",
        "\n",
        "PETScのCG法線形ソルバをGPU上で走らせる場合、前処理等の条件によって計算時間が大きく変化しますので、最後のカスタマイズ演習では、PETScの計算条件カスタマイズを行ないます。\n"
      ]
    },
    {
      "cell_type": "markdown",
      "metadata": {
        "id": "JMePEh7QguAj"
      },
      "source": [
        "### 本演習の目次\n",
        "本演習の内容はColabのノートブックに記述されているので、詳しい目次については、左の「目次」メニューから参照してください。"
      ]
    },
    {
      "cell_type": "markdown",
      "metadata": {
        "id": "Qf0_EwwZiB2D"
      },
      "source": [
        "## High Performance ComputingTechinical Committeeの3次元キャビティ解析ベンチマークテストとは\n",
        "\n",
        "High Performance ComputingTechinical Committee(HPC TC)とは、OpenFOAMのTechnical Committees内に設置されたOpenFOAMのHigh Performance Computing(HPC)向けのベンチマークテスト制定や性能向上を目的とした委員会です。\n",
        "\n",
        "* OpenFOAM® Technical Committees https://www.openfoam.com/governance/technical-committees\n",
        "* High Performance Computing (HPC) Technical Committee https://wiki.openfoam.com/High_Performance_Computing_(HPC)_Technical_Committee\n",
        "\n",
        "また、本委員会が制定するベンチマークテストのうち、最も代表的なものが3次元キャビティ解析ベンチマークテスト(3D Lid-driven cavity benchmark)です。\n",
        "\n",
        "* Repository for the High-Performance Computing Technical Committee https://develop.openfoam.com/committees/hpc/-/wikis/home\n",
        "  * 3-D Lid Driven cavity flow https://develop.openfoam.com/committees/hpc/-/wikis/home#3-d-lid-driven-cavity-flow\n",
        "  * 3D Lid-driven cavity benchmark https://develop.openfoam.com/committees/hpc/-/wikis/home#3d-lid-driven-cavity-benchmark\n",
        "\n",
        "ちなみに、「富岳」でのOpenFOAMの性能測定にも、このベンチマークテストが使われたことがあります。\n",
        "\n",
        "* スーパーコンピュータ「富岳」 | HPCI https://www.hpci-office.jp/for_users/appli_software/appli_openfoam/openfoam_r-ccs_riken-2\n",
        "  * OpenFOAMの性能情報 http://www.hpci-office.jp/documents/appli_software/Fugaku_OpenFOAM_performance.pdf\n",
        "\n",
        "また、HPC TCは数値計算ライブラリPETScなど、CPU以外にもGPUも使用できる外部ソルバーを任意のOpenFOAMソルバーから使用できるようにするexternal-soverモジュール(petscFoam, PETSc4FOAM)の開発にコミットしています。\n",
        "\n",
        "* external-solver https://develop.openfoam.com/modules/external-solver\n",
        "* S. Bnà, I. Spisso, M. Olesen, G. Rossi PETSc4FOAM: A Library to plug-in PETSc into the OpenFOAM Framework PRACE White paper https://prace-ri.eu/wp-content/uploads/WP294-PETSc4FOAM-A-Library-to-plug-in-PETSc-into-the-OpenFOAM-Framework.pdf"
      ]
    },
    {
      "cell_type": "markdown",
      "metadata": {
        "id": "CNftATAufPu3"
      },
      "source": [
        "## Google Colaboratoryとは\n",
        "\n",
        "Google Colaboratory(Colab)とは、以下のWebページに記載の通り、*「特別な設定なしでご利用いただけるホスト型の Jupyter Notebook サービス」*です。\n",
        "\n",
        "* Colaboratory よくある質問 https://research.google.com/colaboratory/faq.html?hl=ja\n",
        "\n",
        "上記のWebページにも記載されていますが、Colabには様々なリソース制限があります。\n",
        "予め以下のWebページも参照ください。\n",
        "\n",
        "* Google Colabの制限と対策 https://note.com/npaka/n/n1aa6f8c973d0\n",
        "\n",
        "Colabではノートブックの最大実行時間を過ぎると、ファイルが初期化されるので、コンパイル結果、ベンチマークテストのカスタマイズ設定、実行結果など、生成に手間や時間がかかるファイルは、ここでは参加者各自のGoogleドライブに退避しておきます。\n"
      ]
    },
    {
      "cell_type": "markdown",
      "metadata": {
        "id": "CTSAnDKE-Nj4"
      },
      "source": [
        "## Google ドライブをマウントする\n"
      ]
    },
    {
      "cell_type": "markdown",
      "metadata": {
        "id": "XL9v9tdZCspt"
      },
      "source": [
        "以下にGoogle ドライブをマウントする方法を示します。\n",
        "Google のアカウントが必要になりますので、予め作成しておいてください。"
      ]
    },
    {
      "cell_type": "markdown",
      "metadata": {
        "id": "v4fZmx-V__zb"
      },
      "source": [
        "Google ドライブをマウントには、下記のセルのコードを実行してください。"
      ]
    },
    {
      "cell_type": "code",
      "execution_count": null,
      "metadata": {
        "id": "t97HShIV-jme"
      },
      "outputs": [],
      "source": [
        "from google.colab import drive\n",
        "drive.mount('/content/drive')"
      ]
    },
    {
      "cell_type": "markdown",
      "metadata": {
        "id": "Q7H4-gEWAKD3"
      },
      "source": [
        "既にマウント済みでない場合には、下記のようなメッセージが出ると思いますので、**Googleドライブに接続**を選択します。\n",
        "\n",
        "---\n",
        "\n",
        "**このノートブックに Google ドライブのファイルへのアクセスを許可しますか？**\n",
        "\n",
        "このノートブックは Google ドライブ ファイルへのアクセスをリクエストしています。Google ドライブへのアクセスを許可すると、ノートブックで実行されたコードに対し、Google ドライブ内のファイルの変更を許可することになります。このアクセスを許可する前に、ノートブック コードをご確認ください。\n",
        "\n",
        "スキップ  **Googleドライブに接続**\n",
        "\n",
        "---\n"
      ]
    },
    {
      "cell_type": "markdown",
      "metadata": {
        "id": "QAbvoTBhDZIQ"
      },
      "source": [
        "その後、アカウントの選択を求められた場合には、使用する**Googleアカウントを選択**します。"
      ]
    },
    {
      "cell_type": "markdown",
      "metadata": {
        "id": "y6FGb3a-DdpU"
      },
      "source": [
        "さらに、Googleアカウントへのアクセスをリクエストされた場合には、適宜**許可**します。"
      ]
    },
    {
      "cell_type": "markdown",
      "metadata": {
        "id": "uqoOKoOgBDca"
      },
      "source": [
        "上記のようなgoogle の認証手順を踏んでGoogleドライブのマウントに成功すると、'Mounted at /content/drive'と出力され、Googleドライブが /content/drive/MyDrive にマウントされますので、以下を実行して、マウントされたディレクトリを表示してください。"
      ]
    },
    {
      "cell_type": "code",
      "execution_count": null,
      "metadata": {
        "id": "aJnilTC3H4Br"
      },
      "outputs": [],
      "source": [
        "%ls /content/drive"
      ]
    },
    {
      "cell_type": "markdown",
      "metadata": {
        "id": "-F2kN4zIIQH0"
      },
      "source": [
        "'MyDrive/'と表示されれば問題ありません。\n",
        "（'MyDriver/' だけではなく、 'Othercomputers/' などもあわせて表示される可能性があります。）"
      ]
    },
    {
      "cell_type": "markdown",
      "metadata": {
        "id": "n3NtOQ4D7-_4"
      },
      "source": [
        "## システムコマンドおよびマジックコマンドの実行\n",
        "### システムコマンドの実行\n",
        "Google Colabはホスト型の Jupyter Notebook サービスであり、IPythonをバックエンドで使っています。\n",
        "IPythonでは!pwdのように先頭に!をつけることでシステムコマンドを実行できます。"
      ]
    },
    {
      "cell_type": "code",
      "execution_count": null,
      "metadata": {
        "id": "CLneT-Bv_nL0"
      },
      "outputs": [],
      "source": [
        "!pwd"
      ]
    },
    {
      "cell_type": "markdown",
      "metadata": {
        "id": "oT6v_sgWEgCT"
      },
      "source": [
        "ただし、カレントディレクトリを変更するシステムコマンドはcdですが、これを!cdとして実行しても、反映されません。\n",
        "\n",
        "これは以下の2つのセルを実行して確認することができます。"
      ]
    },
    {
      "cell_type": "code",
      "execution_count": null,
      "metadata": {
        "id": "1KW40Zf7BXgD"
      },
      "outputs": [],
      "source": [
        "!cd /content/drive/MyDrive"
      ]
    },
    {
      "cell_type": "code",
      "execution_count": null,
      "metadata": {
        "id": "3olGlgIzBdES"
      },
      "outputs": [],
      "source": [
        "!pwd"
      ]
    },
    {
      "cell_type": "markdown",
      "metadata": {
        "id": "L8CEHNhwE3Wx"
      },
      "source": [
        "!をつけたシステムコマンドが実行されたシェルは即座に廃棄されるため、!cdに限らずシェルの状態・設定を変更するようなコマンドを!で実行しても反映されません。\n",
        "\n",
        "従って、カレントディレクトリを変更する場合には、以下のマジックコマンド版のcdを用います。"
      ]
    },
    {
      "cell_type": "markdown",
      "metadata": {
        "id": "1-7vVvVAAgD4"
      },
      "source": [
        "### マジックコマンド\n",
        "\n",
        "IPythonでは%から始まるマジックコマンドが使えます。\n",
        "\n",
        "#### マジックコマンド一覧表示\n",
        "%lsmagicで現在利用可能なマジックコマンド一覧を表示できます。\n"
      ]
    },
    {
      "cell_type": "code",
      "execution_count": null,
      "metadata": {
        "id": "DBLhqXCpG1zP"
      },
      "outputs": [],
      "source": [
        "%lsmagic"
      ]
    },
    {
      "cell_type": "markdown",
      "metadata": {
        "id": "-4RxTGJNexXJ"
      },
      "source": [
        "なお、'Automagic is ON'の場合、前に%を付けなくても、マジックコマンドを実行することが可能です。\n",
        "\n",
        "Googleドライブのマウント確認のノートプック( https://colab.research.google.com/github/opencae/hpc-training-gpu-2023/blob/main/mount_google_drive.ipynb )において、'ls /content/drive'と、lsの前に%が付いていないのに、 lsが実行できたのは、デフォルトで'Automagic is ON'となっているからです。\n",
        "\n",
        "なお、AutomagicのONとOFFは、以下のマジックコマンドにより変更できます。"
      ]
    },
    {
      "cell_type": "code",
      "execution_count": null,
      "metadata": {
        "id": "H_JAtIPM0uc-"
      },
      "outputs": [],
      "source": [
        "%automagic"
      ]
    },
    {
      "cell_type": "code",
      "execution_count": null,
      "metadata": {
        "id": "mnP3NdldtoD4"
      },
      "outputs": [],
      "source": [
        "%automagic"
      ]
    },
    {
      "cell_type": "markdown",
      "metadata": {
        "id": "QZsPpOy70zVt"
      },
      "source": [
        "以降では、念のためAutomagicの設定に依存せずにマジックコマンドが実行できるよう%を省略しません。"
      ]
    },
    {
      "cell_type": "markdown",
      "metadata": {
        "id": "5RGl_RvHG-yg"
      },
      "source": [
        "### マジックコマンドによるカレントディレクトリの変更\n",
        "%cd によってカレントディレクトリが変更できます。"
      ]
    },
    {
      "cell_type": "code",
      "execution_count": null,
      "metadata": {
        "id": "fjYJI-QqHTsO"
      },
      "outputs": [],
      "source": [
        "%cd /content/drive/MyDrive"
      ]
    },
    {
      "cell_type": "code",
      "execution_count": null,
      "metadata": {
        "id": "SCQsStcfHYjp"
      },
      "outputs": [],
      "source": [
        "!pwd"
      ]
    },
    {
      "cell_type": "markdown",
      "metadata": {
        "id": "PXPyqDPOE0FW"
      },
      "source": [
        "## リソースの確認"
      ]
    },
    {
      "cell_type": "markdown",
      "metadata": {
        "id": "SnrCXR3bE_1Z"
      },
      "source": [
        "### ハードウェア\n",
        "最近のLinuxシステムでは、カーネルの現在の状態を表す特殊なファイルの階層であるprocファイルシステム上の仮想ファイルを読むことで、様々な状態を知ることができます。"
      ]
    },
    {
      "cell_type": "markdown",
      "metadata": {
        "id": "_ytt57Fh3Lxr"
      },
      "source": [
        "#### CPUの状態確認\n",
        "仮想ファイル/proc/cpuinfoの中身を読み出すことによって、CPUの状態確認ができます。"
      ]
    },
    {
      "cell_type": "code",
      "execution_count": null,
      "metadata": {
        "id": "yEzPMsSOEzpN"
      },
      "outputs": [],
      "source": [
        "!cat /proc/cpuinfo"
      ]
    },
    {
      "cell_type": "markdown",
      "metadata": {
        "id": "IGDHhuJWZi7t"
      },
      "source": [
        "#### 物理CPUの数\n",
        "物理CPU数は、/proc/cpuinfoにおけるphysical.idのユニークな数です。"
      ]
    },
    {
      "cell_type": "code",
      "execution_count": null,
      "metadata": {
        "id": "LVUnqJmMZGOe"
      },
      "outputs": [],
      "source": [
        "!grep physical.id /proc/cpuinfo | sort -u | wc -l"
      ]
    },
    {
      "cell_type": "markdown",
      "metadata": {
        "id": "hDaekEoUZyyT"
      },
      "source": [
        "#### 論理プロセッサーの数\n",
        "\n",
        "論理プロセッサー数は、/proc/cpuinfoにおけるprocessor数です。"
      ]
    },
    {
      "cell_type": "code",
      "execution_count": null,
      "metadata": {
        "id": "Du7F8fCvZg3b"
      },
      "outputs": [],
      "source": [
        "!grep processor /proc/cpuinfo | wc -l"
      ]
    },
    {
      "cell_type": "markdown",
      "metadata": {
        "id": "fNKVXb623R1t"
      },
      "source": [
        "#### lscpuによる確認\n",
        "`lscpu`コマンドがインストールされている場合には、本コマンドによってもCPUの状態が確認できます。"
      ]
    },
    {
      "cell_type": "code",
      "execution_count": null,
      "metadata": {
        "id": "7QY29q6f3d-G"
      },
      "outputs": [],
      "source": [
        "!lscpu"
      ]
    },
    {
      "cell_type": "markdown",
      "metadata": {
        "id": "rg-l1CBU8YS6"
      },
      "source": [
        "#### メモリの状態確認\n",
        "仮想ファイル/proc/meminfo の中身を読み出すことによって、メモリの状態確認ができます。"
      ]
    },
    {
      "cell_type": "code",
      "execution_count": null,
      "metadata": {
        "id": "Wj-Xymv08eMx"
      },
      "outputs": [],
      "source": [
        "!cat /proc/meminfo"
      ]
    },
    {
      "cell_type": "markdown",
      "metadata": {
        "id": "aoPu4zzyj98H"
      },
      "source": [
        "なお、「メニュー→ランタイム→リソースの表示」により、リソースが表示され、システムRAMの使用容量/最大使用可能容量が表示されます。"
      ]
    },
    {
      "cell_type": "markdown",
      "metadata": {
        "id": "cLK-gKAV3oCX"
      },
      "source": [
        "### カーネル・ディストリビューション・ソフトウェア\n",
        "カーネルやディストリビューション、および、インストールされているソフトウェアのバージョン等を確認しておきます。"
      ]
    },
    {
      "cell_type": "markdown",
      "metadata": {
        "id": "3WhsaluO7iv6"
      },
      "source": [
        "#### カーネル\n",
        "unameコマンドにより、現在稼働中のカーネルについての情報を得ることができます。\n",
        "\n",
        "* Ubunti Manpage: uname https://manpages.ubuntu.com/manpages/jammy/ja/man2/uname.2.html"
      ]
    },
    {
      "cell_type": "code",
      "execution_count": null,
      "metadata": {
        "id": "5u0FiIo07lxZ"
      },
      "outputs": [],
      "source": [
        "!uname -a"
      ]
    },
    {
      "cell_type": "markdown",
      "metadata": {
        "id": "F7dt9t_29sLs"
      },
      "source": [
        "カーネルはLinux 5.15.109+です(64bit版x86バイナリ)。\n",
        "\n",
        "なお、仮想ファイル/proc/versionからもカーネルのバージョンがわかります。"
      ]
    },
    {
      "cell_type": "code",
      "execution_count": null,
      "metadata": {
        "id": "xGxFsk0e-Wc_"
      },
      "outputs": [],
      "source": [
        "!cat /proc/version"
      ]
    },
    {
      "cell_type": "markdown",
      "metadata": {
        "id": "m1EebUT9_ROk"
      },
      "source": [
        "#### ディストリビューション\n",
        "\n",
        "ディストリビューション名やバージョンを表示する方法は、ディストリビューションによって異なりますが、通常 /etc/issue 、または、/etc/*-release の内容から知ることができますますので、これらのファイルの中身をcatやtailなどで表示します。\n",
        "\n",
        "さらに、以下のようにtailコマンドの引数に複数のファイルを指定すると、ファイル名が表示されるので便利です。\n",
        "\n",
        "また、末尾から10行のみを表示するのではなく、先頭行から全てを表示するには、'-n +1'(-n +開始行)のオプションを付けます。"
      ]
    },
    {
      "cell_type": "code",
      "execution_count": null,
      "metadata": {
        "id": "naoK5gea7rDJ"
      },
      "outputs": [],
      "source": [
        "!tail -n +1 /etc/issue /etc/*-release"
      ]
    },
    {
      "cell_type": "markdown",
      "metadata": {
        "id": "0uHnPhn3B-0C"
      },
      "source": [
        "上記により、ディストリビューションはUbuntu系とわかります。"
      ]
    },
    {
      "cell_type": "markdown",
      "metadata": {
        "id": "qDFaoxFy33_i"
      },
      "source": [
        "#### 標準でインストールされているGccコンパイラのバージョン"
      ]
    },
    {
      "cell_type": "code",
      "execution_count": null,
      "metadata": {
        "id": "iI3c3WmtLcV3"
      },
      "outputs": [],
      "source": [
        "!gcc -v"
      ]
    },
    {
      "cell_type": "markdown",
      "metadata": {
        "id": "LBfmh05tZ_L3"
      },
      "source": [
        "## OpenFOAM-v2306のインストール\n",
        "ディストリビューションはUbutuですから、OpenFOAM-v2306のコンパイル済みのUbuntu向けパッケージをインストールします。\n",
        "\n",
        "* Precompiled packages (Debian, Ubuntu) https://develop.openfoam.com/Development/openfoam/-/wikis/precompiled/debian"
      ]
    },
    {
      "cell_type": "markdown",
      "metadata": {
        "id": "6KpLf5QJctCF"
      },
      "source": [
        "### OpenFOAMレポジトリの追加"
      ]
    },
    {
      "cell_type": "code",
      "execution_count": null,
      "metadata": {
        "id": "K35aBXy7Z7v0"
      },
      "outputs": [],
      "source": [
        "!curl https://dl.openfoam.com/add-debian-repo.sh | bash"
      ]
    },
    {
      "cell_type": "markdown",
      "metadata": {
        "id": "7rKcd8RGd4xP"
      },
      "source": [
        "### OepnFOAM-v2306の最小限パッケージのインストール\n",
        "最小限のパッケージであるopenfoam2306をインストールすれば、HPC TCベンチマークを標準のOpenFOAMを用いてCPU上で実行可能ですので、openfoam2306をインストールします。\n",
        "\n",
        "* precompiled packages - Sub-packages https://develop.openfoam.com/Development/openfoam/-/wikis/precompiled#sub-packages"
      ]
    },
    {
      "cell_type": "code",
      "execution_count": null,
      "metadata": {
        "id": "l6W4n40TaD6g"
      },
      "outputs": [],
      "source": [
        "!apt-get install openfoam2306"
      ]
    },
    {
      "cell_type": "markdown",
      "metadata": {
        "id": "gB0fvvVeaUYq"
      },
      "source": [
        "## High-Performance Computing Technical Committeeのレポジトリのクローン"
      ]
    },
    {
      "cell_type": "markdown",
      "metadata": {
        "id": "fqn8mQf7Vkyq"
      },
      "source": [
        "Googleドライブ上に本トレーニング用のディレクトリhpc-training-gpu-2023を作成し、そこにHigh-Performance Computing Technical Committee(HPC TC委員会)のレポジトリをクローンします。\n",
        "\n",
        "なお、修正した設定ファイルやCPU上で生成した格子ファイル、CPUでの解析ログなどを、GPUをはハードウェア・アクセラレータとする別のランタイムでも共有して使うため、本レポジトリをGoogleドライブ上に置いています。"
      ]
    },
    {
      "cell_type": "code",
      "execution_count": null,
      "metadata": {
        "id": "tKcp8lzfaZzP"
      },
      "outputs": [],
      "source": [
        "%mkdir -p /content/drive/MyDrive/hpc-training-gpu-2023\n",
        "%cd /content/drive/MyDrive/hpc-training-gpu-2023\n",
        "!git clone https://develop.openfoam.com/committees/hpc.git"
      ]
    },
    {
      "cell_type": "markdown",
      "metadata": {
        "id": "s0kino5RARUH"
      },
      "source": [
        "## CPUを用いたキャビティベンチマークケースSの実行(ケースS-cpu)\n",
        "ケースSは、立方体状のキャビティ流れの解析領域を100x100x100=1,000,0000(1M)の格子に分割したケースです。"
      ]
    },
    {
      "cell_type": "markdown",
      "metadata": {
        "id": "TXFQiy4GAXJ0"
      },
      "source": [
        "### ケースディレクトリへの移動"
      ]
    },
    {
      "cell_type": "code",
      "execution_count": null,
      "metadata": {
        "id": "-FvsviQeAaPw"
      },
      "outputs": [],
      "source": [
        "%cd /content/drive/MyDrive/hpc-training-gpu-2023/hpc/Lid_driven_cavity-3d/S"
      ]
    },
    {
      "cell_type": "markdown",
      "metadata": {
        "id": "ZL5lX0VVAd9B"
      },
      "source": [
        "### ケースファイル修正\n",
        "HPC TC委員会のベンチマークテストはOpenFOAM-v2006以降の新しいバージョン用であり、OpenFOAM-2.3.1をGPU向けに移植したRapicCFDでは実行できないので、ここではRapidCFDでも実行できるように設定を変更します。\n",
        "\n",
        "また、短時間で実行できるように、2ステップのみ実行するように変更します。\n",
        "\n",
        "さらに、同じディレクトリ上で、線形ソルバの設定を変えた様々なケースを実行するため、線形ソルバの設定ファイル`system/fvSolution`を`system/fvSolution.ケース名`として置いておき、解析ソルバの実行時に、`system/fvSolution.ケース名`を本来の設定ファイル`system/fvSolution`にコピーすることにします。\n",
        "\n",
        "なお、本ランタイムの再接続時など、既に設定が変更されている場合に備え、`git checkout`でオリジナルのファイルをチェックアウトしてから変更します。"
      ]
    },
    {
      "cell_type": "code",
      "execution_count": null,
      "metadata": {
        "id": "Zqk7O8ffAhlS"
      },
      "outputs": [],
      "source": [
        "!case=S-cpu;\\\n",
        "git checkout system/controlDict system/fvSchemes constant/transportProperties;\\\n",
        "sed -i -e 's|^\\( *#includeFunc\\)|//\\1|' -e 's|\\(endTime \\).*|\\1 0.002;|' system/controlDict;\\\n",
        "echo 'fluxRequired {default no;p;}' >> system/fvSchemes;\\\n",
        "sed -i s/'^\\(nu\\s*\\[\\)'/'nu \\1'/ constant/transportProperties;\\\n",
        "sed s/PBiCGStab/PBiCG/ system/fvSolution.fixedNORM > system/fvSolution.$case"
      ]
    },
    {
      "cell_type": "markdown",
      "metadata": {
        "id": "gkr6z4W_5gs1"
      },
      "source": [
        "変更したファイルの内容を確認します。"
      ]
    },
    {
      "cell_type": "code",
      "execution_count": null,
      "metadata": {
        "id": "uz8BbFEo38V8"
      },
      "outputs": [],
      "source": [
        "!case=S-cpu;\\\n",
        "tail -n+1 constant/transportProperties system/{controlDict,fvSchemes,fvSolution.$case}"
      ]
    },
    {
      "cell_type": "markdown",
      "metadata": {
        "id": "-6400hQGfRM3"
      },
      "source": [
        "### 格子生成"
      ]
    },
    {
      "cell_type": "markdown",
      "metadata": {
        "id": "ShNdJ8Ph5pJs"
      },
      "source": [
        "`blockMesh`アプリケーションを用いて格子を生成します。\n",
        "\n",
        "OpenFOAMのアプリケーションを実行するには、通常OpenFOAMの環境設定が必要ですが、 !をつけたシステムコマンドが実行されたシェルは即座に廃棄されるため、OpenFOAMの環境設定を行なった同一シェル上で、アプリケーションを実行します。\n",
        "\n",
        "さらに、ここでは念のため`blockMesh`の前に`time`コマンドを付けて、`blockMesh`コマンドの実行のリアルタイム時間、ユーザー時間、システム時間を表示させています。\n",
        "\n",
        "* Man page of TIME https://linuxjm.osdn.jp/html/LDP_man-pages/man1/time.1.html"
      ]
    },
    {
      "cell_type": "code",
      "execution_count": null,
      "metadata": {
        "id": "D7O9mwk9Avx6"
      },
      "outputs": [],
      "source": [
        "!case=S-cpu;\\\n",
        "source /usr/lib/openfoam/openfoam2306/etc/bashrc;\\\n",
        "time blockMesh 2>&1 | tee log.blockMesh.$case"
      ]
    },
    {
      "cell_type": "markdown",
      "metadata": {
        "id": "_ta-hMzxA2O9"
      },
      "source": [
        "格子数は、nCellsにある通り1000000(100x100x100, 1M)です。"
      ]
    },
    {
      "cell_type": "markdown",
      "metadata": {
        "id": "sgNFFDWmBCf3"
      },
      "source": [
        "### CPUでのOpenFOAM v2306版ソルバ実行\n",
        "`system/fvSolution.ケース名`を本来の設定ファイル`system/fvSolution`にコピーしてから解析ソルバを実行します。"
      ]
    },
    {
      "cell_type": "code",
      "execution_count": null,
      "metadata": {
        "id": "6BExfz5QBFsy"
      },
      "outputs": [],
      "source": [
        "!case=S-cpu;\\\n",
        "cp system/fvSolution.$case system/fvSolution;\\\n",
        "source /usr/lib/openfoam/openfoam2306/etc/bashrc;\\\n",
        "time icoFoam 2>&1 | tee log.icoFoam.$case"
      ]
    },
    {
      "cell_type": "markdown",
      "metadata": {
        "id": "vTYDjJRVZBnX"
      },
      "source": [
        "### 毎ステップの実行時間"
      ]
    },
    {
      "cell_type": "markdown",
      "metadata": {
        "id": "OsgXaYQ__m-I"
      },
      "source": [
        "ソルバのログには、ExectutionTimeで始まる行に毎ステップ毎の実行時間が出力されているので、これらを抜き出して出力します。"
      ]
    },
    {
      "cell_type": "code",
      "execution_count": null,
      "metadata": {
        "id": "5ym1OAdsBOZ4"
      },
      "outputs": [],
      "source": [
        "!case=S-cpu;\\\n",
        "grep '^ExecutionTime' log.icoFoam.$case"
      ]
    },
    {
      "cell_type": "markdown",
      "metadata": {
        "id": "HxxIMGR3ZES9"
      },
      "source": [
        "### 1ステップの実行時間\n",
        "\n",
        "2ステップ目と1ステップ目のExectutionTimeの時間差より1ステップの実行時間を算出します。\n",
        "\n"
      ]
    },
    {
      "cell_type": "code",
      "execution_count": null,
      "metadata": {
        "id": "cw29kyCSBYie"
      },
      "outputs": [],
      "source": [
        "!case=S-cpu;\\\n",
        "awk 'BEGIN {n=0} /ExecutionTime/ {t[n]=$3;n++} END {print \"Execution time for one timestep : \",t[1]-t[0]}' log.icoFoam.$case"
      ]
    },
    {
      "cell_type": "markdown",
      "metadata": {
        "id": "QlNBjneyG-xA"
      },
      "source": [
        "## CPUを用いたキャビティベンチマークケースMの実行(ケースM-cpu)\n",
        "ケースMは、立方体状のキャビティ流れの解析領域を200x200x200=8,000,0000(8M)の格子に分割したケースであり、ケースSの8倍の格子数になっています。\n"
      ]
    },
    {
      "cell_type": "markdown",
      "metadata": {
        "id": "wa9oIHnMCk93"
      },
      "source": [
        "### ケースディレクトリへの移動"
      ]
    },
    {
      "cell_type": "code",
      "execution_count": null,
      "metadata": {
        "id": "8tpNl1d1HGk-"
      },
      "outputs": [],
      "source": [
        "%cd /content/drive/MyDrive/hpc-training-gpu-2023/hpc/Lid_driven_cavity-3d/M"
      ]
    },
    {
      "cell_type": "markdown",
      "metadata": {
        "id": "ThYlZXb8HJIy"
      },
      "source": [
        "### ケースファイル修正\n",
        "ケースSと同様にケースファイルを修正します。"
      ]
    },
    {
      "cell_type": "code",
      "execution_count": null,
      "metadata": {
        "id": "L_54x6NGHMK2"
      },
      "outputs": [],
      "source": [
        "!case=M-cpu;\\\n",
        "git checkout system/controlDict system/fvSchemes constant/transportProperties;\\\n",
        "sed -i -e 's|^\\( *#includeFunc\\)|//\\1|' -e 's|\\(endTime \\).*|\\1 0.0005;|' system/controlDict;\\\n",
        "echo 'fluxRequired {default no;p;}' >> system/fvSchemes;\\\n",
        "sed -i s/'^\\(nu\\s*\\[\\)'/'nu \\1'/ constant/transportProperties;\\\n",
        "sed s/PBiCGStab/PBiCG/ system/fvSolution.fixedNORM > system/fvSolution.$case\n"
      ]
    },
    {
      "cell_type": "markdown",
      "metadata": {
        "id": "iqEpSFDBBn6l"
      },
      "source": [
        "変更したファイルの内容を確認します。"
      ]
    },
    {
      "cell_type": "code",
      "execution_count": null,
      "metadata": {
        "id": "wzhmXJi9Bn6l"
      },
      "outputs": [],
      "source": [
        "!case=M-cpu;\\\n",
        "tail -n+1 constant/transportProperties system/{controlDict,fvSchemes,fvSolution.$case}"
      ]
    },
    {
      "cell_type": "markdown",
      "metadata": {
        "id": "ZaMq1YioHQe3"
      },
      "source": [
        "### 格子生成"
      ]
    },
    {
      "cell_type": "code",
      "execution_count": null,
      "metadata": {
        "id": "lhRmTQUlHTBj"
      },
      "outputs": [],
      "source": [
        "!case=M-cpu;\\\n",
        "source /usr/lib/openfoam/openfoam2306/etc/bashrc;\\\n",
        "time blockMesh 2>&1 | tee log.blockMesh.$case"
      ]
    },
    {
      "cell_type": "markdown",
      "metadata": {
        "id": "6EKrBm5MKGXZ"
      },
      "source": [
        "格子数はnCellsに示す通り、8000000(200x200x200, 8M)です"
      ]
    },
    {
      "cell_type": "markdown",
      "metadata": {
        "id": "wbuk6HZrHcbM"
      },
      "source": [
        "### CPUでのOpenFOAM v2306版ソルバ実行\n",
        "\n",
        "格子数が大きく、CPU1コアでの実行なので、**完了までには十数分間かかります(割当てられているCPUによって時間は異なります)**。\n",
        "\n",
        "なお、「メニュー→ランタイム→リソースを表示」により、システムRAMの容量や使用量がモニターできますが、本ケースでは、システムRAMの12.7GBのうち7GB以上を使用していますので、格子数が本ケースの8倍であるケースXLはメモリ不足で解析できないことがわかります。"
      ]
    },
    {
      "cell_type": "code",
      "execution_count": null,
      "metadata": {
        "id": "LlZEJMPsHx8T"
      },
      "outputs": [],
      "source": [
        "!case=M-cpu;\\\n",
        "cp system/fvSolution.$case system/fvSolution;\\\n",
        "source /usr/lib/openfoam/openfoam2306/etc/bashrc;\\\n",
        "time icoFoam 2>&1 | tee log.icoFoam.$case"
      ]
    },
    {
      "cell_type": "markdown",
      "metadata": {
        "id": "SI733MUNZI0h"
      },
      "source": [
        "### 毎ステップの実行時間"
      ]
    },
    {
      "cell_type": "code",
      "execution_count": null,
      "metadata": {
        "id": "n15XFJszIeyI"
      },
      "outputs": [],
      "source": [
        "!case=M-cpu;\\\n",
        "grep '^ExecutionTime' log.icoFoam.$case"
      ]
    },
    {
      "cell_type": "markdown",
      "metadata": {
        "id": "aswuWjLwZGm5"
      },
      "source": [
        "### 1ステップの実行時間"
      ]
    },
    {
      "cell_type": "code",
      "execution_count": null,
      "metadata": {
        "id": "leNquEQrIm7b"
      },
      "outputs": [],
      "source": [
        "!case=M-cpu;\\\n",
        "awk 'BEGIN {n=0} /ExecutionTime/ {t[n]=$3;n++} END {print \"Execution time for one timestep : \",t[1]-t[0]}' log.icoFoam.$case"
      ]
    },
    {
      "cell_type": "markdown",
      "metadata": {
        "id": "Qe5ZfUo2cayQ"
      },
      "source": [
        "## NVIDIAのGPU上で線形ソルバを実行できるPETScライブラリおよびexternal-solverモジュールのビルド\n",
        "数値計算ライブラリPETSc、および、それをOpenFOAMで用いるためのexternal-solverモジュールを用いることで、標準のOpenFOAMであっても、PETScを通じて線形ソルバをGPU上で実行することが可能となります。\n",
        "\n",
        "* PETSc https://petsc.org/\n",
        "* external-solver https://develop.openfoam.com/modules/external-solver\n",
        "\n",
        "ただし、Ubutu用パッケージにはexternal-solver等のモジュールが含まれていないので、external-solverモジュールを別途コンパイルする必要があります。\n",
        "\n",
        "モジュール等をソースからコンパイルするには、openfoam2306といった最小限のパッケージだけでなく、 ソースコードやwmakeといったコンパイル設定が含まれたopenfoam2306-sourceパッケージ、および、ビルドツールが含まれたopenfoam2306-toolsパッケージをインストールします。\n",
        "\n",
        "* precompiled packages - Sub-packages https://develop.openfoam.com/Development/openfoam/-/wikis/precompiled#sub-packages\n",
        "\n",
        "なお、開発環境が全て含まれたopenfoam2306-devパッケージ、もしくは、チュートリアルなど全てを含んだopenfoam2306-defaultパッケージをインストールしても、PETScやexternal-solverモジュールはコンパイル可能ですが、これらのパッケージは容量が大きいのでインストールに時間がかかります。\n"
      ]
    },
    {
      "cell_type": "markdown",
      "metadata": {
        "id": "7IR2CPwRfSZr"
      },
      "source": [
        "### OpenFOAMのソースコード・ビルドツールのインストール"
      ]
    },
    {
      "cell_type": "code",
      "execution_count": null,
      "metadata": {
        "id": "ASzx_E2ncayQ"
      },
      "outputs": [],
      "source": [
        "!apt-get install openfoam2306-source openfoam2306-tools"
      ]
    },
    {
      "cell_type": "markdown",
      "metadata": {
        "id": "1gqGtaTGcayR"
      },
      "source": [
        "### PETScライブラリのビルド\n",
        "\n",
        "数値計算ライブラリPETScには、OpenFOAM同様にUbutu向けパッケージpetsc-devもありますが、これはNVIDIAのGPU上で線形ソルバを実行できるようにビルドされていないので、ここではThirdPartyパッケージに含まれる`makePETSC`コマンドを用いて、ソースコードからビルドします。\n",
        "\n",
        "* PETSc https://petsc.org/"
      ]
    },
    {
      "cell_type": "markdown",
      "metadata": {
        "id": "MDCjmGeJcayR"
      },
      "source": [
        "OpenFOAMのトップディレクトリに移動します。"
      ]
    },
    {
      "cell_type": "code",
      "execution_count": null,
      "metadata": {
        "id": "V_h_2wMBcayR"
      },
      "outputs": [],
      "source": [
        "%cd /usr/lib/openfoam/openfoam2306"
      ]
    },
    {
      "cell_type": "markdown",
      "metadata": {
        "id": "YdDJurKqcayR"
      },
      "source": [
        "ThirdPartyパッケージは、OpenFOAM-v2306用のアカーイブファイルも配布されていますが、PETSc以下の多くのライブラリのソースコードを含んでおり容量も大きいので、ここでは、ソースコードを含まないThirdParty-commonレポジトリをクローンします。"
      ]
    },
    {
      "cell_type": "code",
      "execution_count": null,
      "metadata": {
        "id": "TkPBJ1sScayS"
      },
      "outputs": [],
      "source": [
        "!git clone https://develop.openfoam.com/Development/ThirdParty-common.git"
      ]
    },
    {
      "cell_type": "markdown",
      "metadata": {
        "id": "Rr-BBIR-cayS"
      },
      "source": [
        "UbuntuのパッケージではダミーのファイルとなっているThirdPartyを消去します。"
      ]
    },
    {
      "cell_type": "code",
      "execution_count": null,
      "metadata": {
        "id": "whRfZVC5cayS"
      },
      "outputs": [],
      "source": [
        "!rm ThirdParty"
      ]
    },
    {
      "cell_type": "markdown",
      "metadata": {
        "id": "YUl0Y1FgcayS"
      },
      "source": [
        "Ubutuのopenfoam2306パッケージでは、ThirdPartyのディレクトリが /usr/lib/openfoam/openfoam2306/ThirdParty と設定されているので、 ThirdParty-commonディレクトリをThirdPartyに変更します。"
      ]
    },
    {
      "cell_type": "code",
      "execution_count": null,
      "metadata": {
        "id": "X9yR2zV0cayS"
      },
      "outputs": [],
      "source": [
        "!mv ThirdParty-common ThirdParty/"
      ]
    },
    {
      "cell_type": "markdown",
      "metadata": {
        "id": "wId8kkFucayS"
      },
      "source": [
        "ThirdPartyディレクトリに移動します。"
      ]
    },
    {
      "cell_type": "code",
      "execution_count": null,
      "metadata": {
        "id": "Sb_qcQ-lcayS"
      },
      "outputs": [],
      "source": [
        "%cd ThirdParty/"
      ]
    },
    {
      "cell_type": "markdown",
      "metadata": {
        "id": "tXpDyOWNcayS"
      },
      "source": [
        "ThirdPartyのソースコードはsoucesディレクトリ下に置くことになっているので、 soucesディレクトリを作成した後、PETScのソースコードのアーカイブ・ファイルをダウンロードして、soucesディレクトリ下に展開します。"
      ]
    },
    {
      "cell_type": "code",
      "execution_count": null,
      "metadata": {
        "id": "bUdebuxJcayT"
      },
      "outputs": [],
      "source": [
        "!mkdir sources;\\\n",
        "wget -O - https://ftp.mcs.anl.gov/pub/petsc/release-snapshots/petsc-lite-3.19.2.tar.gz | tar zx -C sources"
      ]
    },
    {
      "cell_type": "markdown",
      "metadata": {
        "id": "CTQfWQXXcayT"
      },
      "source": [
        "PETScライブラリをCUDA有効の設定でビルドしますが、**本ビルドには十数分間かかります(割当てられているCPUによって時間は異なります)**。\n"
      ]
    },
    {
      "cell_type": "code",
      "execution_count": null,
      "metadata": {
        "id": "R1MLaBJucayT"
      },
      "outputs": [],
      "source": [
        "!source /usr/lib/openfoam/openfoam2306/etc/bashrc;\\\n",
        "WM_NCOMPPROCS=2 ./makePETSC -no-hypre -- --with-cuda 2>&1 | tee log.makePETSC"
      ]
    },
    {
      "cell_type": "markdown",
      "source": [
        "なお、3次元キャビティベンチマークのケースSやMにおいて、圧力に関する線形ソルバの前処理はDIC(Diagonal-based Incomplete Cholesky)分解法であり、AMG(Algebraic Multigrid)法を用いておりません。\n",
        "\n",
        "また、今回は演習時間の関係で、Multigrid Methodsを含むHYPREライブラリやKokkosライブラリのビルドは行わないので、PETScもHYPER無効でビルドを行なっています。\n",
        "\n",
        "* HYPRE: Scalable Linear Solvers and Multigrid Methods https://computing.llnl.gov/projects/hypre-scalable-linear-solvers-multigrid-methods\n",
        "* PCHYPER https://petsc.org/main/manualpages/PC/PCHYPRE/\n",
        "* Hypre / BoomerAMG https://mooseframework.inl.gov/releases/moose/2021-05-18/application_development/hypre.html\n",
        "* Kokkos https://github.com/kokkos/kokkos\n",
        "\n",
        "HYPREやKokkosを有効にする場合には、以下のサイトなどを参照してください。\n",
        "\n",
        "* OpenFOAM v2206 を Ubuntu 20.04 LTS にインストールメモ https://ss1.xrea.com/penguinitis.g1.xrea.com/study/OpenFOAM/install_memo/OpenFOAM_v2206-Ubuntu20_04_LTS_PETSc.html\n",
        "\n",
        "ちなみに、`WM_NCOMPPROCS=2`を設定して2並列ビルドの設定をしているのにもかかわらず、 ビルドログの途中で\n",
        " `gmake[3]: warning: jobserver unavailable: using -j1.  Add '+' to parent make rule.`といったワーニングが出力されていますが、PETSc-3.19.5といったより新しいバージョンではこのワーニングは出現しません。\n",
        "\n",
        "PETScのバージョンを変更するには、 /usr/lib/openfoam/openfoam2306/etc/config.sh/petsc における `petsc_version` を変更すれば良いのですが、ここではデフォルトのままにしておきます。"
      ],
      "metadata": {
        "id": "m5oQvOP7NIQW"
      }
    },
    {
      "cell_type": "markdown",
      "metadata": {
        "id": "S1n6AMekcayT"
      },
      "source": [
        "### external-solverモジュールのビルド"
      ]
    },
    {
      "cell_type": "markdown",
      "metadata": {
        "id": "0in-Ka5wcayT"
      },
      "source": [
        "Ubuntuのopenfoam2306パッケージには、本来external-solver等のパッケージが置かれるmodulesディレクトリが含まれていないので、これを作成します。"
      ]
    },
    {
      "cell_type": "code",
      "execution_count": null,
      "metadata": {
        "id": "3Tk9u-Z-cayT"
      },
      "outputs": [],
      "source": [
        "!mkdir /usr/lib/openfoam/openfoam2306/modules"
      ]
    },
    {
      "cell_type": "markdown",
      "metadata": {
        "id": "LoEihqUacayT"
      },
      "source": [
        "modulesディレクトリに移動します。"
      ]
    },
    {
      "cell_type": "code",
      "execution_count": null,
      "metadata": {
        "id": "3IsGPugNcayT"
      },
      "outputs": [],
      "source": [
        "%cd /usr/lib/openfoam/openfoam2306/modules"
      ]
    },
    {
      "cell_type": "markdown",
      "metadata": {
        "id": "WJWjsKqBcayU"
      },
      "source": [
        "external-solverのソースコードをgitでcloneします。"
      ]
    },
    {
      "cell_type": "code",
      "execution_count": null,
      "metadata": {
        "id": "sKVvBcf1cayU"
      },
      "outputs": [],
      "source": [
        "!git clone https://develop.openfoam.com/modules/external-solver.git"
      ]
    },
    {
      "cell_type": "markdown",
      "metadata": {
        "id": "mkuA2klGcayU"
      },
      "source": [
        "external-solverディレクトリに移動します。"
      ]
    },
    {
      "cell_type": "code",
      "execution_count": null,
      "metadata": {
        "id": "RwHr1g1kcayU"
      },
      "outputs": [],
      "source": [
        "%cd external-solver"
      ]
    },
    {
      "cell_type": "markdown",
      "metadata": {
        "id": "1yJPlTWycayU"
      },
      "source": [
        "external-solverモジュールをビルドします。\n",
        "なお、`Allwmake`に`-j`オプションを付けると、全論理コア数(ここでは2)の並列ビルドになります。\n",
        "また、ライブラリや実行バイナリのインストール先を、`-prefix`オプションを用いてopenfoam2306のシステムと同じ場所を指定しています。"
      ]
    },
    {
      "cell_type": "code",
      "execution_count": null,
      "metadata": {
        "id": "Ea9rEPVUcayU"
      },
      "outputs": [],
      "source": [
        "!source /usr/lib/openfoam/openfoam2306/etc/bashrc;\\\n",
        "./Allwmake -j -prefix=/usr/lib/openfoam/openfoam2306/platforms/linux64GccDPInt32Opt 2>&1 | tee log.Allwmake"
      ]
    },
    {
      "cell_type": "markdown",
      "metadata": {
        "id": "SpmITplocayU"
      },
      "source": [
        "上記のログに`Compiling enabled on 2 cores`と記載されていることから、2並列でビルドされていることがわかります。\n",
        "\n",
        "また、PETScのライブラリを有効にするには、`eval $(foamEtcFile -sh -config petsc -- -force)`を実行すれば良いことがわかります。"
      ]
    },
    {
      "cell_type": "markdown",
      "metadata": {
        "id": "vYaopiuLcayU"
      },
      "source": [
        "### PETScライブラリおよびexternal-solverモジュールのライブラリのGoogleドライブへの保存"
      ]
    },
    {
      "cell_type": "markdown",
      "metadata": {
        "id": "D-YQDXDWcayV"
      },
      "source": [
        "OpenFOAMのトップディレクトリに移動します。"
      ]
    },
    {
      "cell_type": "code",
      "execution_count": null,
      "metadata": {
        "id": "pUXahYnHcayV"
      },
      "outputs": [],
      "source": [
        "%cd /usr/lib/openfoam/openfoam2306"
      ]
    },
    {
      "cell_type": "markdown",
      "metadata": {
        "id": "pRPn1ZW5cayV"
      },
      "source": [
        "ビルドしたPETScライブラリとexternal-solverモジュールのライブラリのアーカイブファイルをGoogleドライブに保存します。"
      ]
    },
    {
      "cell_type": "code",
      "execution_count": null,
      "metadata": {
        "id": "9Di_jAQacayV"
      },
      "outputs": [],
      "source": [
        "!tar Jcf /content/drive/MyDrive/hpc-training-gpu-2023/petsc.tar.xz ThirdParty/platforms platforms/linux64GccDPInt32Opt/lib/libpetscFoam.so"
      ]
    },
    {
      "cell_type": "markdown",
      "metadata": {
        "id": "Yh2-47elcayV"
      },
      "source": [
        "ノートブックのファイルが初期化された場合には、OpenFOAMのパッケージは再インストールする必要がありますが、Googleドライブに退避された上記のアーカイブファイルを解凍することで、PETScライブラリやexternal-solverモジュールを再度ビルドすることなく、すぐに使用することができます。\n",
        "\n",
        "なお、Googleドライブ上に直接OpenFOAMのトップディレクトリを置いて、その下でPETScライブラリやexternal-solverモジュールをビルドすることも可能であり、この手法ではOpenFOAMのパッケージの再インストールやアーカイブファイルの解凍の手間がかかりません。\n",
        "\n",
        "ただし、Googleドライブに再接続した際にファイルの実行フラグが無くなるので、実行フラグが必要なファイルの実行フラグを再設定する必要が生じます。\n",
        "\n",
        "* Mounting google drive with permition to execut binaries #3162 https://github.com/googlecolab/colabtools/issues/3162\n",
        "\n",
        "また、Googleドライブ内のファイルに頻繁にアクセスすることになるので、GoogleドライブのAPIコールの制限にかかる可能性が高くなります。\n",
        "\n",
        "従って、ここではGoogleドライブ上にファイルの属性が保存されるアーカイブファイルを置いておき、ノートブックのファイルが初期化された場合や、ハードウェア・アクセラレータとしてGPUを違うなど異なるランタイムタイプを使用する場合には、必要なOpenFOAMのパッケージを再インストールした上で、必要なアーカイブファイルを解凍することにします。\n",
        "\n"
      ]
    },
    {
      "cell_type": "markdown",
      "metadata": {
        "id": "LLUSlZnxt208"
      },
      "source": [
        "**以上で、「その1 CPU編」のノートブックは終了です。**"
      ]
    }
  ],
  "metadata": {
    "colab": {
      "provenance": [],
      "include_colab_link": true
    },
    "kernelspec": {
      "display_name": "Python 3",
      "name": "python3"
    },
    "language_info": {
      "name": "python"
    }
  },
  "nbformat": 4,
  "nbformat_minor": 0
}